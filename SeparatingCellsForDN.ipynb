{
 "cells": [
  {
   "cell_type": "code",
   "execution_count": 1,
   "metadata": {
    "collapsed": true
   },
   "outputs": [],
   "source": [
    "from Linearity import Neuron"
   ]
  },
  {
   "cell_type": "code",
   "execution_count": 2,
   "metadata": {
    "collapsed": true
   },
   "outputs": [],
   "source": [
    "currentClampFiles = '/media/sahil/NCBS_Shares_BGStim/patch_data/current_clamp_files.txt'\n",
    "with open (currentClampFiles,'r') as r:\n",
    "    dirnames = r.read().splitlines()"
   ]
  },
  {
   "cell_type": "code",
   "execution_count": 3,
   "metadata": {
    "collapsed": true
   },
   "outputs": [],
   "source": [
    "neurons = {}\n",
    "for dirname in dirnames:\n",
    "    cellIndex = dirname.split('/')[-2]\n",
    "    filename = dirname + 'plots/' + cellIndex + '.pkl'\n",
    "    n = Neuron.load(filename)\n",
    "    neurons[str(n.date) + '_' + str(n.index)] = (n, dirname)"
   ]
  },
  {
   "cell_type": "code",
   "execution_count": 4,
   "metadata": {},
   "outputs": [
    {
     "name": "stdout",
     "output_type": "stream",
     "text": [
      "/media/sahil/NCBS_Shares_BGStim/patch_data/160928/c3/\n",
      "/media/sahil/NCBS_Shares_BGStim/patch_data/161117/c1/\n",
      "/media/sahil/NCBS_Shares_BGStim/patch_data/170220/c1/\n",
      "/media/sahil/NCBS_Shares_BGStim/patch_data/150902/c1/\n",
      "/media/sahil/NCBS_Shares_BGStim/patch_data/170208/c3/\n",
      "/media/sahil/NCBS_Shares_BGStim/patch_data/161027/c3/\n",
      "/media/sahil/NCBS_Shares_BGStim/patch_data/150902/c2/\n",
      "/media/sahil/NCBS_Shares_BGStim/patch_data/150904/c1/\n",
      "/media/sahil/NCBS_Shares_BGStim/patch_data/160927/c5/\n",
      "/media/sahil/NCBS_Shares_BGStim/patch_data/160817/c2/\n",
      "/media/sahil/NCBS_Shares_BGStim/patch_data/161013/c1/\n",
      "/media/sahil/NCBS_Shares_BGStim/patch_data/170317/c1/\n",
      "/media/sahil/NCBS_Shares_BGStim/patch_data/161109/c3/\n",
      "/media/sahil/NCBS_Shares_BGStim/patch_data/170222/c2/\n",
      "/media/sahil/NCBS_Shares_BGStim/patch_data/170303/c1/\n",
      "/media/sahil/NCBS_Shares_BGStim/patch_data/161228/c1/\n",
      "/media/sahil/NCBS_Shares_BGStim/patch_data/160223/c2/\n",
      "/media/sahil/NCBS_Shares_BGStim/patch_data/170317/c4/\n",
      "/media/sahil/NCBS_Shares_BGStim/patch_data/RS_Analysis/Patch_Recording/Control_RS_short/2_c1_150828/\n",
      "/media/sahil/NCBS_Shares_BGStim/patch_data/160920/c1/\n",
      "/media/sahil/NCBS_Shares_BGStim/patch_data/160209/c4/\n",
      "/media/sahil/NCBS_Shares_BGStim/patch_data/RS_Analysis/Patch_Recording/Control_RS_short/3_c1_150929/\n",
      "/media/sahil/NCBS_Shares_BGStim/patch_data/160223/c3/\n",
      "/media/sahil/NCBS_Shares_BGStim/patch_data/160513/c5/\n",
      "/media/sahil/NCBS_Shares_BGStim/patch_data/160830/c1/\n",
      "/media/sahil/NCBS_Shares_BGStim/patch_data/170104/c4/\n",
      "/media/sahil/NCBS_Shares_BGStim/patch_data/150828/c2/\n",
      "/media/sahil/NCBS_Shares_BGStim/patch_data/RS_Analysis/Patch_Recording/Control_RS_short/1_c4_150827/\n",
      "/media/sahil/NCBS_Shares_BGStim/patch_data/RS_Analysis/Patch_Recording/Control_RS_short/6_c2_160513/\n",
      "/media/sahil/NCBS_Shares_BGStim/patch_data/160617/c5/\n",
      "/media/sahil/NCBS_Shares_BGStim/patch_data/160219/c5/\n",
      "/media/sahil/NCBS_Shares_BGStim/patch_data/RS_Analysis/Patch_Recording/RS_TBS_short/5_c4_160122/\n"
     ]
    }
   ],
   "source": [
    "expected_dir = {}\n",
    "\n",
    "for index in neurons:\n",
    "    neuron,dirname = neurons[index]\n",
    "    for expType, exp in neuron:\n",
    "        expected = []\n",
    "        if expType == \"Control\":\n",
    "            for sqr in exp:\n",
    "                if sqr > 1:\n",
    "                    for coord in exp[sqr].coordwise:\n",
    "                        exp[sqr].coordwise[coord]._flagCoordinate()\n",
    "                        flags = exp[sqr].coordwise[coord].flags.values()\n",
    "                        flagged = 1\n",
    "                        for flag in flags:\n",
    "                            flagged*=flag\n",
    "                        if flagged == 0:\n",
    "                            expected.append(exp[sqr].coordwise[coord].average_feature[0])\n",
    "            expected_dir.update({dirname:len(expected)})\n",
    "\n",
    "minPoints = 50\n",
    "normalizationFiles = '/media/sahil/NCBS_Shares_BGStim/patch_data/normalization_files.txt'\n",
    "with open (normalizationFiles,'w') as nf:\n",
    "    for dirname in expected_dir:\n",
    "        if expected_dir[dirname] > minPoints:\n",
    "            print (dirname)\n",
    "            nf.write(dirname + '\\n')\n",
    "nf.close()"
   ]
  },
  {
   "cell_type": "code",
   "execution_count": 5,
   "metadata": {},
   "outputs": [
    {
     "data": {
      "text/plain": [
       "{'/media/sahil/NCBS_Shares_BGStim/patch_data/150828/c2/': 135,\n",
       " '/media/sahil/NCBS_Shares_BGStim/patch_data/150902/c1/': 135,\n",
       " '/media/sahil/NCBS_Shares_BGStim/patch_data/150902/c2/': 135,\n",
       " '/media/sahil/NCBS_Shares_BGStim/patch_data/150904/c1/': 135,\n",
       " '/media/sahil/NCBS_Shares_BGStim/patch_data/150904/c3/': 0,\n",
       " '/media/sahil/NCBS_Shares_BGStim/patch_data/160126/c3/': 0,\n",
       " '/media/sahil/NCBS_Shares_BGStim/patch_data/160209/c4/': 116,\n",
       " '/media/sahil/NCBS_Shares_BGStim/patch_data/160219/c5/': 482,\n",
       " '/media/sahil/NCBS_Shares_BGStim/patch_data/160223/c2/': 496,\n",
       " '/media/sahil/NCBS_Shares_BGStim/patch_data/160223/c3/': 169,\n",
       " '/media/sahil/NCBS_Shares_BGStim/patch_data/160513/c5/': 460,\n",
       " '/media/sahil/NCBS_Shares_BGStim/patch_data/160617/c5/': 426,\n",
       " '/media/sahil/NCBS_Shares_BGStim/patch_data/160817/c2/': 338,\n",
       " '/media/sahil/NCBS_Shares_BGStim/patch_data/160830/c1/': 124,\n",
       " '/media/sahil/NCBS_Shares_BGStim/patch_data/160920/c1/': 351,\n",
       " '/media/sahil/NCBS_Shares_BGStim/patch_data/160927/c5/': 96,\n",
       " '/media/sahil/NCBS_Shares_BGStim/patch_data/160928/c3/': 72,\n",
       " '/media/sahil/NCBS_Shares_BGStim/patch_data/160928/c4/': 24,\n",
       " '/media/sahil/NCBS_Shares_BGStim/patch_data/161013/c1/': 120,\n",
       " '/media/sahil/NCBS_Shares_BGStim/patch_data/161026/c1/': 24,\n",
       " '/media/sahil/NCBS_Shares_BGStim/patch_data/161027/c3/': 96,\n",
       " '/media/sahil/NCBS_Shares_BGStim/patch_data/161109/c3/': 96,\n",
       " '/media/sahil/NCBS_Shares_BGStim/patch_data/161116/c1_CS/': 72,\n",
       " '/media/sahil/NCBS_Shares_BGStim/patch_data/161116/c2/': 48,\n",
       " '/media/sahil/NCBS_Shares_BGStim/patch_data/161117/c1/': 120,\n",
       " '/media/sahil/NCBS_Shares_BGStim/patch_data/161117/c2_CS/': 96,\n",
       " '/media/sahil/NCBS_Shares_BGStim/patch_data/161117/c3_CS/': 96,\n",
       " '/media/sahil/NCBS_Shares_BGStim/patch_data/161123/c1_CS/': 120,\n",
       " '/media/sahil/NCBS_Shares_BGStim/patch_data/161123/c2_CS/': 48,\n",
       " '/media/sahil/NCBS_Shares_BGStim/patch_data/161228/c1/': 96,\n",
       " '/media/sahil/NCBS_Shares_BGStim/patch_data/170104/c4/': 72,\n",
       " '/media/sahil/NCBS_Shares_BGStim/patch_data/170124/c2_CS/': 72,\n",
       " '/media/sahil/NCBS_Shares_BGStim/patch_data/170124/c3_CS/': 72,\n",
       " '/media/sahil/NCBS_Shares_BGStim/patch_data/170208/c3/': 96,\n",
       " '/media/sahil/NCBS_Shares_BGStim/patch_data/170220/c1/': 96,\n",
       " '/media/sahil/NCBS_Shares_BGStim/patch_data/170222/c2/': 96,\n",
       " '/media/sahil/NCBS_Shares_BGStim/patch_data/170303/c1/': 120,\n",
       " '/media/sahil/NCBS_Shares_BGStim/patch_data/170317/c1/': 120,\n",
       " '/media/sahil/NCBS_Shares_BGStim/patch_data/170317/c3/': 24,\n",
       " '/media/sahil/NCBS_Shares_BGStim/patch_data/170317/c4/': 72,\n",
       " '/media/sahil/NCBS_Shares_BGStim/patch_data/RS_Analysis/Patch_Recording/Control_RS_short/1_c4_150827/': 90,\n",
       " '/media/sahil/NCBS_Shares_BGStim/patch_data/RS_Analysis/Patch_Recording/Control_RS_short/2_c1_150828/': 135,\n",
       " '/media/sahil/NCBS_Shares_BGStim/patch_data/RS_Analysis/Patch_Recording/Control_RS_short/3_c1_150929/': 135,\n",
       " '/media/sahil/NCBS_Shares_BGStim/patch_data/RS_Analysis/Patch_Recording/Control_RS_short/6_c2_160513/': 112,\n",
       " '/media/sahil/NCBS_Shares_BGStim/patch_data/RS_Analysis/Patch_Recording/RS_TBS_short/5_c4_160122/': 73}"
      ]
     },
     "execution_count": 5,
     "metadata": {},
     "output_type": "execute_result"
    }
   ],
   "source": [
    "expected_dir"
   ]
  },
  {
   "cell_type": "code",
   "execution_count": 34,
   "metadata": {},
   "outputs": [
    {
     "data": {
      "text/plain": [
       "{'/media/sahil/NCBS_Shares_BGStim/patch_data/150828/c2/': 135,\n",
       " '/media/sahil/NCBS_Shares_BGStim/patch_data/150902/c1/': 135,\n",
       " '/media/sahil/NCBS_Shares_BGStim/patch_data/150902/c2/': 135,\n",
       " '/media/sahil/NCBS_Shares_BGStim/patch_data/150904/c1/': 135,\n",
       " '/media/sahil/NCBS_Shares_BGStim/patch_data/150904/c3/': 0,\n",
       " '/media/sahil/NCBS_Shares_BGStim/patch_data/160126/c3/': 0,\n",
       " '/media/sahil/NCBS_Shares_BGStim/patch_data/160209/c4/': 116,\n",
       " '/media/sahil/NCBS_Shares_BGStim/patch_data/160219/c5/': 482,\n",
       " '/media/sahil/NCBS_Shares_BGStim/patch_data/160223/c2/': 496,\n",
       " '/media/sahil/NCBS_Shares_BGStim/patch_data/160223/c3/': 169,\n",
       " '/media/sahil/NCBS_Shares_BGStim/patch_data/160513/c5/': 460,\n",
       " '/media/sahil/NCBS_Shares_BGStim/patch_data/160617/c5/': 426,\n",
       " '/media/sahil/NCBS_Shares_BGStim/patch_data/160817/c2/': 338,\n",
       " '/media/sahil/NCBS_Shares_BGStim/patch_data/160830/c1/': 124,\n",
       " '/media/sahil/NCBS_Shares_BGStim/patch_data/160920/c1/': 351,\n",
       " '/media/sahil/NCBS_Shares_BGStim/patch_data/160927/c1/': 120,\n",
       " '/media/sahil/NCBS_Shares_BGStim/patch_data/160927/c3/': 120,\n",
       " '/media/sahil/NCBS_Shares_BGStim/patch_data/160927/c5/': 96,\n",
       " '/media/sahil/NCBS_Shares_BGStim/patch_data/160928/c3/': 72,\n",
       " '/media/sahil/NCBS_Shares_BGStim/patch_data/160928/c4/': 24,\n",
       " '/media/sahil/NCBS_Shares_BGStim/patch_data/161013/c1/': 120,\n",
       " '/media/sahil/NCBS_Shares_BGStim/patch_data/161026/c1/': 24,\n",
       " '/media/sahil/NCBS_Shares_BGStim/patch_data/161027/c3/': 96,\n",
       " '/media/sahil/NCBS_Shares_BGStim/patch_data/161109/c3/': 96,\n",
       " '/media/sahil/NCBS_Shares_BGStim/patch_data/161110/c1/': 72,\n",
       " '/media/sahil/NCBS_Shares_BGStim/patch_data/161116/c1_CS/': 72,\n",
       " '/media/sahil/NCBS_Shares_BGStim/patch_data/161116/c2/': 48,\n",
       " '/media/sahil/NCBS_Shares_BGStim/patch_data/161117/c1/': 120,\n",
       " '/media/sahil/NCBS_Shares_BGStim/patch_data/161117/c2_CS/': 96,\n",
       " '/media/sahil/NCBS_Shares_BGStim/patch_data/161117/c3_CS/': 96,\n",
       " '/media/sahil/NCBS_Shares_BGStim/patch_data/161123/c1_CS/': 120,\n",
       " '/media/sahil/NCBS_Shares_BGStim/patch_data/161123/c2_CS/': 48,\n",
       " '/media/sahil/NCBS_Shares_BGStim/patch_data/161228/c1/': 96,\n",
       " '/media/sahil/NCBS_Shares_BGStim/patch_data/170104/c4/': 72,\n",
       " '/media/sahil/NCBS_Shares_BGStim/patch_data/170124/c2_CS/': 72,\n",
       " '/media/sahil/NCBS_Shares_BGStim/patch_data/170124/c3_CS/': 72,\n",
       " '/media/sahil/NCBS_Shares_BGStim/patch_data/170208/c3/': 96,\n",
       " '/media/sahil/NCBS_Shares_BGStim/patch_data/170220/c1/': 96,\n",
       " '/media/sahil/NCBS_Shares_BGStim/patch_data/170222/c1/': 48,\n",
       " '/media/sahil/NCBS_Shares_BGStim/patch_data/170222/c2/': 96,\n",
       " '/media/sahil/NCBS_Shares_BGStim/patch_data/170303/c1/': 120,\n",
       " '/media/sahil/NCBS_Shares_BGStim/patch_data/170317/c1/': 120,\n",
       " '/media/sahil/NCBS_Shares_BGStim/patch_data/170317/c3/': 24,\n",
       " '/media/sahil/NCBS_Shares_BGStim/patch_data/170317/c4/': 72,\n",
       " '/media/sahil/NCBS_Shares_BGStim/patch_data/RS_Analysis/Patch_Recording/Control_RS_short/1_c4_150827/': 90,\n",
       " '/media/sahil/NCBS_Shares_BGStim/patch_data/RS_Analysis/Patch_Recording/Control_RS_short/2_c1_150828/': 135,\n",
       " '/media/sahil/NCBS_Shares_BGStim/patch_data/RS_Analysis/Patch_Recording/Control_RS_short/3_c1_150929/': 135,\n",
       " '/media/sahil/NCBS_Shares_BGStim/patch_data/RS_Analysis/Patch_Recording/Control_RS_short/6_c2_160513/': 112,\n",
       " '/media/sahil/NCBS_Shares_BGStim/patch_data/RS_Analysis/Patch_Recording/RS_TBS_short/5_c4_160122/': 73}"
      ]
     },
     "execution_count": 34,
     "metadata": {},
     "output_type": "execute_result"
    }
   ],
   "source": [
    "expected_dir"
   ]
  }
 ],
 "metadata": {
  "hide_input": false,
  "kernelspec": {
   "display_name": "Python 2",
   "language": "python",
   "name": "python2"
  },
  "language_info": {
   "codemirror_mode": {
    "name": "ipython",
    "version": 2
   },
   "file_extension": ".py",
   "mimetype": "text/x-python",
   "name": "python",
   "nbconvert_exporter": "python",
   "pygments_lexer": "ipython2",
   "version": "2.7.12"
  },
  "latex_envs": {
   "LaTeX_envs_menu_present": true,
   "autocomplete": true,
   "bibliofile": "biblio.bib",
   "cite_by": "apalike",
   "current_citInitial": 1,
   "eqLabelWithNumbers": true,
   "eqNumInitial": 1,
   "hotkeys": {
    "equation": "Ctrl-E",
    "itemize": "Ctrl-I"
   },
   "labels_anchors": false,
   "latex_user_defs": false,
   "report_style_numbering": false,
   "user_envs_cfg": false
  },
  "toc": {
   "colors": {
    "hover_highlight": "#DAA520",
    "navigate_num": "#000000",
    "navigate_text": "#333333",
    "running_highlight": "#FF0000",
    "selected_highlight": "#FFD700",
    "sidebar_border": "#EEEEEE",
    "wrapper_background": "#FFFFFF"
   },
   "moveMenuLeft": true,
   "nav_menu": {
    "height": "12px",
    "width": "252px"
   },
   "navigate_menu": true,
   "number_sections": true,
   "sideBar": true,
   "threshold": 4,
   "toc_cell": false,
   "toc_section_display": "block",
   "toc_window_display": true,
   "widenNotebook": false
  },
  "varInspector": {
   "cols": {
    "lenName": 16,
    "lenType": 16,
    "lenVar": 40
   },
   "kernels_config": {
    "python": {
     "delete_cmd_postfix": "",
     "delete_cmd_prefix": "del ",
     "library": "var_list.py",
     "varRefreshCmd": "print(var_dic_list())"
    },
    "r": {
     "delete_cmd_postfix": ") ",
     "delete_cmd_prefix": "rm(",
     "library": "var_list.r",
     "varRefreshCmd": "cat(var_dic_list()) "
    }
   },
   "types_to_exclude": [
    "module",
    "function",
    "builtin_function_or_method",
    "instance",
    "_Feature"
   ],
   "window_display": false
  }
 },
 "nbformat": 4,
 "nbformat_minor": 2
}
