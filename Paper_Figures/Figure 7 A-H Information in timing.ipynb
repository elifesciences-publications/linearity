{
 "cells": [
  {
   "cell_type": "code",
   "execution_count": 1,
   "metadata": {},
   "outputs": [
    {
     "name": "stderr",
     "output_type": "stream",
     "text": [
      "/usr/local/lib/python2.7/dist-packages/statsmodels/compat/pandas.py:56: FutureWarning: The pandas.core.datetools module is deprecated and will be removed in a future version. Please use the pandas.tseries module instead.\n",
      "  from pandas.core import datetools\n"
     ]
    }
   ],
   "source": [
    "import glob\n",
    "import matplotlib\n",
    "import matplotlib.pyplot as plt\n",
    "import pickle\n",
    "from pickle import dump\n",
    "import lmfit\n",
    "import numpy as np\n",
    "import scipy.stats as ss\n",
    "plt.style.use('neuron')\n",
    "import statsmodels.api as sm\n",
    "from statsmodels.sandbox.regression.predstd import wls_prediction_std\n",
    "from statsmodels.formula.api import ols, rlm\n",
    "import sys\n",
    "import random\n",
    "sys.path.append('../')\n",
    "from Linearity import Neuron"
   ]
  },
  {
   "cell_type": "code",
   "execution_count": 2,
   "metadata": {},
   "outputs": [],
   "source": [
    "def simpleaxis(axes, every=False):\n",
    "    if not isinstance(axes, (list, np.ndarray)):\n",
    "        axes = [axes]\n",
    "    for ax in axes:\n",
    "        ax.spines['top'].set_visible(False)\n",
    "        ax.spines['right'].set_visible(False)\n",
    "        if every:\n",
    "            ax.spines['bottom'].set_visible(False)\n",
    "            ax.spines['left'].set_visible(False)\n",
    "        ax.get_xaxis().tick_bottom()\n",
    "        ax.get_yaxis().tick_left()\n",
    "        ax.set_title('')"
   ]
  },
  {
   "cell_type": "markdown",
   "metadata": {},
   "source": [
    "### Histogram method of finding MI"
   ]
  },
  {
   "cell_type": "code",
   "execution_count": 3,
   "metadata": {},
   "outputs": [],
   "source": [
    "def getNumBins(X, rule=\"S\"):\n",
    "\n",
    "    if rule == \"FD\":\n",
    "        # Freedman‐Diaconis Rule!\n",
    "        minMax = max(X) - min(X)\n",
    "        Qx = sp.stats.iqr(X)\n",
    "        N_cubrt = np.cbrt(len(X))\n",
    "        print (minMax, Qx, N_cubrt, minMax/(2.* Qx * N_cubrt))\n",
    "        return int(np.ceil(minMax/(2.* Qx * N_cubrt)))\n",
    "    elif rule == \"S\":\n",
    "        # Sturges’ Rule!\n",
    "        return int(np.ceil(1. + np.log2(len(X))))\n",
    "\n",
    "def calc_MI(X,Y,bins):\n",
    "\n",
    "    c_X = np.histogram(X, bins=bins)[0]\n",
    "    c_Y = np.histogram(Y, bins=bins)[0]\n",
    "    c_XY = np.histogram2d(X,Y, bins=bins)[0]\n",
    "\n",
    "    H_X = shan_entropy(c_X)\n",
    "    H_Y = shan_entropy(c_Y)\n",
    "    H_XY = shan_entropy(c_XY)\n",
    "\n",
    "    MI = H_X + H_Y - H_XY\n",
    "    normalized_MI = MI    # In bits, or normalize: /(np.sqrt(H_X*H_Y))\n",
    "    return normalized_MI\n",
    "\n",
    "def calc_TI(X,Y,Z,bins):\n",
    "    ''' Total Information about Z from X and Y, or I(Z; X,Y)'''\n",
    "\n",
    "    c_X = np.histogram(X, bins=bins)[0]\n",
    "    c_Y = np.histogram(Y, bins=bins)[0]\n",
    "    c_Z = np.histogram(Z, bins=bins)[0]\n",
    "\n",
    "    c_XY = np.histogram2d(X,Y, bins=bins)[0]\n",
    "    c_XYZ = np.histogramdd((X,Y,Z), bins=bins)[0]\n",
    "\n",
    "    H_X = shan_entropy(c_X)\n",
    "    H_Y = shan_entropy(c_Y)\n",
    "    H_Z = shan_entropy(c_Z)\n",
    "\n",
    "    H_XY = shan_entropy(c_XY)\n",
    "    H_XYZ = shan_entropy(c_XYZ)\n",
    "\n",
    "    TI = H_Z + H_XY - H_XYZ\n",
    "    normalized_TI = TI  # In bits, or normalize: /(np.sqrt(H_X*H_Y))\n",
    "    return normalized_TI\n",
    "\n",
    "def gain_inf(X,Y,Z, bins):\n",
    "    ''' Calculates the gain in information with timing. I(X;Y|Z)'''\n",
    "    c_X = np.histogram(X, bins=bins)[0]\n",
    "    c_Y = np.histogram(Y, bins=bins)[0]\n",
    "    c_Z = np.histogram(Z, bins=bins)[0]\n",
    "\n",
    "    c_XY = np.histogram2d(X,Y, bins=bins)[0]\n",
    "    c_XZ = np.histogram2d(X,Z, bins=bins)[0]\n",
    "    c_YZ = np.histogram2d(Y,Z, bins=bins)[0]\n",
    "    c_XYZ = np.histogramdd((X,Y,Z), bins=bins)[0]\n",
    "\n",
    "    H_X = shan_entropy(c_X)\n",
    "    H_Y = shan_entropy(c_Y)\n",
    "    H_Z = shan_entropy(c_Z)\n",
    "\n",
    "    H_XY = shan_entropy(c_XY)\n",
    "    H_XZ = shan_entropy(c_XZ)\n",
    "    H_YZ = shan_entropy(c_YZ)\n",
    "    H_XYZ = shan_entropy(c_XYZ)\n",
    "\n",
    "    GI = H_XZ + H_YZ - H_XYZ - H_Z\n",
    "    return GI\n",
    "        \n",
    "def shan_entropy(c):\n",
    "    c_normalized = c / float(np.sum(c))\n",
    "    c_normalized = c_normalized[np.nonzero(c_normalized)]\n",
    "    H = -sum(c_normalized* np.log2(c_normalized))\n",
    "    return H\n",
    "\n",
    "def shuffle_test(X,Y,Z=[], bins=0, n=500, measure='mi'):\n",
    "        \n",
    "    if measure == 'mi':\n",
    "        true_MI = calc_MI(X,Y, bins)\n",
    "\n",
    "        shuffled_mi = np.array([calc_MI(np.random.permutation(X),Y, bins) for jj in range(n)])\n",
    "        conf = len(np.where(shuffled_mi>true_MI)[0])/float(len(shuffled_mi))\n",
    "#         print(\"Mean shuffled MI is {}\".format(np.mean(shuffled_mi)))\n",
    "    elif measure == 'cmi':\n",
    "        true_CMI = gain_inf(X,Y,Z, bins)\n",
    "\n",
    "        shuffled_cmi = np.array([gain_inf(np.random.permutation(X),Y,Z, bins) for jj in range(n)])\n",
    "        conf = len(np.where(shuffled_cmi>true_CMI)[0])/float(len(shuffled_cmi))\n",
    "#         print(\"Mean shuffled CMI is {}\".format(np.mean(shuffled_cmi)))\n",
    "    elif measure == 'ti':\n",
    "        true_TI = calc_TI(X,Y,Z, bins)\n",
    "        shuffled_ti = np.array([calc_TI(X,Y, np.random.permutation(Z), bins) for jj in range(n)])\n",
    "        conf = len(np.where(shuffled_ti>true_TI)[0])/float(len(shuffled_ti))\n",
    "#         print(\"Mean shuffled TI is {}\".format(np.mean(shuffled_ti)))\n",
    "    return conf"
   ]
  },
  {
   "cell_type": "code",
   "execution_count": 4,
   "metadata": {},
   "outputs": [],
   "source": [
    "import sys\n",
    "sys.path.append('../../NPEET/')\n",
    "import entropy_estimators as ee"
   ]
  },
  {
   "cell_type": "code",
   "execution_count": 5,
   "metadata": {},
   "outputs": [],
   "source": [
    "def calc_MI(X,Y,bins=0,k = 3):\n",
    "\n",
    "    X = ee.vectorize(X)\n",
    "    Y = ee.vectorize(Y)\n",
    "    return ee.mi(X,Y,k=k)\n",
    "\n",
    "def calc_TI(X,Y,Z,bins=0,k = 3):\n",
    "    ''' Total Information about Z from X and Y, or I(Z; X,Y)'''\n",
    "\n",
    "    X = ee.vectorize(X)\n",
    "    Y = ee.vectorize(Y)\n",
    "    Z = ee.vectorize(Z)\n",
    "    \n",
    "    TI = ee.cmi(Z,X,Y,k=k) + ee.mi(Z,Y,k=k)\n",
    "\n",
    "    return TI\n",
    "\n",
    "def gain_inf(X,Y,Z, bins=0,k = 3):\n",
    "    ''' Calculates the gain in information with timing. I(X;Y|Z)'''\n",
    "\n",
    "    X = ee.vectorize(X)\n",
    "    Y = ee.vectorize(Y)\n",
    "    Z = ee.vectorize(Z)\n",
    "    \n",
    "    CMI = ee.cmi(X,Y,Z,k=k)\n",
    "    return CMI\n",
    "\n",
    "def shuffle_test(X,Y,Z=[], n=500, measure='mi'):\n",
    "        \n",
    "    if measure == 'mi':\n",
    "        true_MI = calc_MI(X,Y)\n",
    "\n",
    "        shuffled_mi = np.array([calc_MI(np.random.permutation(X),Y) for jj in range(n)])\n",
    "        conf = len(np.where(shuffled_mi>true_MI)[0])/float(len(shuffled_mi))\n",
    "#         print(\"Mean shuffled MI is {}\".format(np.mean(shuffled_mi)))\n",
    "    elif measure == 'cmi':\n",
    "        true_CMI = gain_inf(X,Y,Z)\n",
    "\n",
    "        shuffled_cmi = np.array([gain_inf(np.random.permutation(X),Y,Z) for jj in range(n)])\n",
    "        conf = len(np.where(shuffled_cmi>true_CMI)[0])/float(len(shuffled_cmi))\n",
    "#         print(\"Mean shuffled CMI is {}\".format(np.mean(shuffled_cmi)))\n",
    "    elif measure == 'ti':\n",
    "        true_TI = calc_TI(X,Y,Z)\n",
    "        shuffled_ti = np.array([calc_TI(X,Y, np.random.permutation(Z)) for jj in range(n)])\n",
    "        conf = len(np.where(shuffled_ti>true_TI)[0])/float(len(shuffled_ti))\n",
    "#         print(\"Mean shuffled TI is {}\".format(np.mean(shuffled_ti)))\n",
    "    return conf"
   ]
  },
  {
   "cell_type": "code",
   "execution_count": 6,
   "metadata": {},
   "outputs": [],
   "source": [
    "X = np.array(range(100))"
   ]
  },
  {
   "cell_type": "code",
   "execution_count": 7,
   "metadata": {},
   "outputs": [
    {
     "data": {
      "text/plain": [
       "array([1, 2])"
      ]
     },
     "execution_count": 7,
     "metadata": {},
     "output_type": "execute_result"
    }
   ],
   "source": [
    "np.where(np.array([1,2,3])>1)[0]"
   ]
  },
  {
   "cell_type": "code",
   "execution_count": 8,
   "metadata": {},
   "outputs": [],
   "source": [
    "def getPars_trialwise(neuron, expType=\"Control\", feature=0, notSqrs = [1]):\n",
    "    ''' Returns Expected, Observed, Time, Squares for the experiment'''\n",
    "    exp = neuron.experiment[expType]\n",
    "    expected = []\n",
    "    observed = []\n",
    "    time = []\n",
    "    sqrArr = []\n",
    "    trace = []\n",
    "    for sqr in exp:\n",
    "        if sqr not in notSqrs:\n",
    "            for coord in exp[sqr].coordwise:\n",
    "                for trial in exp[sqr].coordwise[coord].trials:\n",
    "                    if all([value == 0 for value in trial.flags.values()]) and not np.isnan(exp[sqr].coordwise[coord].expected_feature[feature]):\n",
    "                        expected.append(exp[sqr].coordwise[coord].expected_feature[feature])\n",
    "                        observed.append(trial.feature[feature])\n",
    "                        time.append(np.argmax(trial.interestWindow)/20.)\n",
    "                        sqrArr.append(sqr)\n",
    "                        trace.append(trial.interestWindow)\n",
    "    return expected, observed, time, sqrArr, trace"
   ]
  },
  {
   "cell_type": "code",
   "execution_count": 9,
   "metadata": {},
   "outputs": [],
   "source": [
    "def getPars(neuron, expType=\"Control\", feature=0, notSqrs = [1]):\n",
    "    ''' Returns Expected, Observed, Time, Squares for the experiment'''\n",
    "    exp = neuron.experiment[expType]\n",
    "    expected = []\n",
    "    observed = []\n",
    "    time = []\n",
    "    sqrArr = []\n",
    "    avgTrace = []\n",
    "    for sqr in exp:\n",
    "        if sqr not in notSqrs:\n",
    "            for coord in exp[sqr].coordwise:\n",
    "                if not np.isnan(exp[sqr].coordwise[coord].expected_feature[feature]):\n",
    "                    obs,t = [], []\n",
    "                    trace = []\n",
    "                    for trial in exp[sqr].coordwise[coord].trials:\n",
    "                        if all([value == 0 for value in trial.flags.values()]):\n",
    "                            obs.append(trial.feature[feature])\n",
    "                            t.append(np.argmax(trial.interestWindow)/20.)\n",
    "                            trace.append(trial.interestWindow)\n",
    "                    if not (all(np.isnan(obs)) or all(np.isnan(t))):\n",
    "                        observed.append(np.nanmean(obs))\n",
    "                        expected.append(exp[sqr].coordwise[coord].expected_feature[feature])\n",
    "                        time.append(np.nanmean(t))\n",
    "                        averagedTrace = np.mean(trace,axis=0)\n",
    "                        avgTrace.append(averagedTrace)\n",
    "                        sqrArr.append(sqr)\n",
    "    return expected, observed, time, sqrArr,avgTrace"
   ]
  },
  {
   "cell_type": "code",
   "execution_count": 9,
   "metadata": {},
   "outputs": [],
   "source": [
    "currentClampFiles = '/media/sahil/NCBS_Shares_BGStim/patch_data/normalization_files.txt'\n",
    "with open (currentClampFiles,'r') as r:\n",
    "    dirnames = r.read().splitlines()"
   ]
  },
  {
   "cell_type": "code",
   "execution_count": 13,
   "metadata": {},
   "outputs": [],
   "source": [
    "feature = 0\n",
    "neurons = {}\n",
    "for dirname in dirnames:\n",
    "    cellIndex = dirname.split('/')[-2]\n",
    "    filename = dirname + 'plots/' + cellIndex + '.pkl'\n",
    "    n = Neuron.load(filename)\n",
    "    neurons[str(n.date) + '_' + str(n.index)] = n"
   ]
  },
  {
   "cell_type": "code",
   "execution_count": 10,
   "metadata": {},
   "outputs": [],
   "source": [
    "neuron = Neuron.load('/home/bhalla/Documents/Codes/data/media/sahil/NCBS_Shares_BGStim/patch_data/161013/c1/plots/c1.pkl')"
   ]
  },
  {
   "cell_type": "code",
   "execution_count": 14,
   "metadata": {},
   "outputs": [],
   "source": [
    "neuron = neurons['170303_c1']"
   ]
  },
  {
   "cell_type": "code",
   "execution_count": 15,
   "metadata": {},
   "outputs": [],
   "source": [
    "feature = 0 # Area under the curve\n",
    "trace = []\n",
    "for expType, exp in neuron:\n",
    "    ## Control case\n",
    "    if(expType == \"Control\"):\n",
    "        expected = []\n",
    "        observed = []\n",
    "        time = []\n",
    "        sqrArr = []\n",
    "        for sqr in exp:\n",
    "            if sqr > 1:\n",
    "                for coord in exp[sqr].coordwise:\n",
    "                    for trial in exp[sqr].coordwise[coord].trials:\n",
    "                        if all([value == 0 for value in trial.flags.values()]):\n",
    "                            expected.append(exp[sqr].coordwise[coord].expected_feature[feature])\n",
    "                            observed.append(trial.feature[feature])\n",
    "                            time.append(np.argmax(trial.interestWindow)/20.)\n",
    "                            trace.append(trial.interestWindow)\n",
    "                            sqrArr.append(sqr)"
   ]
  },
  {
   "cell_type": "code",
   "execution_count": 16,
   "metadata": {},
   "outputs": [],
   "source": [
    "observed = np.array(observed)\n",
    "time = np.array(time)\n",
    "expected = np.array(expected)\n",
    "trace = np.array(trace)"
   ]
  },
  {
   "cell_type": "code",
   "execution_count": 17,
   "metadata": {},
   "outputs": [
    {
     "name": "stderr",
     "output_type": "stream",
     "text": [
      "/usr/local/lib/python2.7/dist-packages/ipykernel_launcher.py:3: RuntimeWarning: Mean of empty slice.\n",
      "  This is separate from the ipykernel package so we can avoid doing imports until\n",
      "/usr/local/lib/python2.7/dist-packages/numpy/core/_methods.py:80: RuntimeWarning: invalid value encountered in double_scalars\n",
      "  ret = ret.dtype.type(ret / rcount)\n",
      "/usr/local/lib/python2.7/dist-packages/ipykernel_launcher.py:4: RuntimeWarning: Mean of empty slice.\n",
      "  after removing the cwd from sys.path.\n",
      "/usr/local/lib/python2.7/dist-packages/numpy/core/_methods.py:135: RuntimeWarning: Degrees of freedom <= 0 for slice\n",
      "  keepdims=keepdims)\n",
      "/usr/local/lib/python2.7/dist-packages/numpy/core/_methods.py:105: RuntimeWarning: invalid value encountered in true_divide\n",
      "  arrmean, rcount, out=arrmean, casting='unsafe', subok=False)\n",
      "/usr/local/lib/python2.7/dist-packages/numpy/core/_methods.py:127: RuntimeWarning: invalid value encountered in double_scalars\n",
      "  ret = ret.dtype.type(ret / rcount)\n",
      "/usr/local/lib/python2.7/dist-packages/ipykernel_launcher.py:6: RuntimeWarning: Mean of empty slice.\n",
      "  \n"
     ]
    },
    {
     "data": {
      "image/png": "[encoded data removed]",
      "text/plain": [
       "<matplotlib.figure.Figure at 0x7f7968bc8950>"
      ]
     },
     "metadata": {},
     "output_type": "display_data"
    }
   ],
   "source": [
    "bins = np.linspace(0,12,10)\n",
    "digitized = np.digitize(expected, bins)\n",
    "exp_mean = [expected[digitized == i].mean() for i in range(len(bins))]\n",
    "obs_mean = [observed[digitized == i].mean() for i in range(len(bins))]\n",
    "obs_std = [observed[digitized == i].std() for i in range(len(bins))]\n",
    "time_mean = [time[digitized == i].mean() for i in range(len(bins))]\n",
    "time_std = [time[digitized == i].std() for i in range(len(bins))]\n",
    "\n",
    "fig, ax = plt.subplots(1,2, sharey=True)\n",
    "ax[0].plot(obs_mean, exp_mean,'.')\n",
    "ax[0].errorbar(obs_mean, exp_mean, xerr = obs_std,linestyle='--') #s= 10)\n",
    "ax[1].plot(time_mean, exp_mean,'.')\n",
    "ax[1].errorbar(time_mean, exp_mean, xerr = time_std,linestyle='--')# s= 10)\n",
    "\n",
    "#ax[0].scatter(observed, expected, s= 10)\n",
    "#ax[1].scatter(time, expected, s= 10)\n",
    "ax[0].set_xlim(0,6)\n",
    "ax[1].set_xlim(7,36)\n",
    "ax[0].set_xlabel('Observed peak voltage (mV)')\n",
    "ax[1].set_xlabel('Peak time (ms)')\n",
    "ax[0].set_ylabel('Expected peak voltage (mV)')\n",
    "simpleaxis(ax)\n",
    "fig.set_figwidth(1.5)\n",
    "fig.set_figheight(1.5)\n",
    "#dump(fig,file('figures/fig7/7a.pkl','wb'))\n",
    "plt.show()"
   ]
  },
  {
   "cell_type": "code",
   "execution_count": 15,
   "metadata": {},
   "outputs": [
    {
     "name": "stdout",
     "output_type": "stream",
     "text": [
      "17.214748093230323\n"
     ]
    }
   ],
   "source": [
    "print(max(expected))"
   ]
  },
  {
   "cell_type": "code",
   "execution_count": 16,
   "metadata": {},
   "outputs": [
    {
     "data": {
      "image/png": "[encoded data removed]",
      "text/plain": [
       "<matplotlib.figure.Figure at 0x7f1e7932bcd0>"
      ]
     },
     "metadata": {},
     "output_type": "display_data"
    }
   ],
   "source": [
    "feature = 0 # Area under the curve\n",
    "neuron = neurons['170303_c1']\n",
    "trace = []\n",
    "for expType, exp in neuron:\n",
    "    ## Control case\n",
    "    if(expType == \"Control\"):\n",
    "        std_time = []\n",
    "        std_observed = [] \n",
    "        expected = []\n",
    "        for sqr in exp:\n",
    "            if sqr > 1:\n",
    "                for coord in exp[sqr].coordwise:\n",
    "                    time_trial, observed_trial = [], []\n",
    "                    for trial in exp[sqr].coordwise[coord].trials:\n",
    "                        if all([value == 0 for value in trial.flags.values()]):\n",
    "                            time_trial.append(np.argmax(trial.interestWindow)/20.)\n",
    "                            observed_trial.append(np.max(trial.interestWindow))\n",
    "                    if len(observed_trial) == 3:\n",
    "                        expected.append(exp[sqr].coordwise[coord].expected_feature[feature])\n",
    "                        std_time.append( np.std(time_trial)/np.mean(time_trial))\n",
    "                        std_observed.append( np.std(observed_trial)/np.mean(observed_trial))\n",
    "\n",
    "fig, ax = plt.subplots()\n",
    "ax.scatter(expected, std_time, color='k', label='time', s=10)\n",
    "ax.scatter(expected, std_observed, color='r', label='peak vm', s=10)\n",
    "ax.set_xlabel(\"Expected\")\n",
    "ax.set_xlabel(\"std/mean\")\n",
    "simpleaxis(ax)\n",
    "plt.legend()\n",
    "plt.show()"
   ]
  },
  {
   "cell_type": "markdown",
   "metadata": {},
   "source": [
    "## Showing raw traces for timing information (Gabazine vs Control)"
   ]
  },
  {
   "cell_type": "markdown",
   "metadata": {},
   "source": [
    "### Loading GABAzine containing files"
   ]
  },
  {
   "cell_type": "code",
   "execution_count": 10,
   "metadata": {},
   "outputs": [],
   "source": [
    "currentClampFiles = '/media/sahil/NCBS_Shares_BGStim/patch_data/current_clamp_files_with_GABAzine.txt'\n",
    "with open (currentClampFiles,'r') as r:\n",
    "    dirnames = r.read().splitlines()"
   ]
  },
  {
   "cell_type": "code",
   "execution_count": 11,
   "metadata": {},
   "outputs": [],
   "source": [
    "feature = 0\n",
    "neurons = {}\n",
    "for dirname in dirnames:\n",
    "    cellIndex = dirname.split('/')[-2]\n",
    "    filename = dirname + 'plots/' + cellIndex + '.pkl'\n",
    "    n = Neuron.load(filename)\n",
    "    neurons[str(n.date) + '_' + str(n.index)] = n"
   ]
  },
  {
   "cell_type": "markdown",
   "metadata": {},
   "source": [
    "## Trying out the slope idea"
   ]
  },
  {
   "cell_type": "code",
   "execution_count": 12,
   "metadata": {
    "scrolled": false
   },
   "outputs": [
    {
     "ename": "NameError",
     "evalue": "name 'notSqrs' is not defined",
     "output_type": "error",
     "traceback": [
      "\u001b[0;31m---------------------------------------------------------------------------\u001b[0m",
      "\u001b[0;31mNameError\u001b[0m                                 Traceback (most recent call last)",
      "\u001b[0;32m<ipython-input-12-78f6484c6025>\u001b[0m in \u001b[0;36m<module>\u001b[0;34m()\u001b[0m\n\u001b[1;32m      7\u001b[0m     \u001b[0;32mif\u001b[0m \u001b[0;34m\"GABAzine\"\u001b[0m \u001b[0;32min\u001b[0m \u001b[0mneuron\u001b[0m\u001b[0;34m.\u001b[0m\u001b[0mexperiment\u001b[0m\u001b[0;34m:\u001b[0m\u001b[0;34m\u001b[0m\u001b[0m\n\u001b[1;32m      8\u001b[0m \u001b[0;34m\u001b[0m\u001b[0m\n\u001b[0;32m----> 9\u001b[0;31m         \u001b[0mg_expected\u001b[0m\u001b[0;34m,\u001b[0m \u001b[0mg_observed\u001b[0m\u001b[0;34m,\u001b[0m \u001b[0mg_time\u001b[0m\u001b[0;34m,\u001b[0m \u001b[0mg_sqrArr\u001b[0m\u001b[0;34m,\u001b[0m \u001b[0mg_trace\u001b[0m \u001b[0;34m=\u001b[0m \u001b[0mgetPars\u001b[0m\u001b[0;34m(\u001b[0m\u001b[0mneuron\u001b[0m\u001b[0;34m,\u001b[0m \u001b[0;34m\"GABAzine\"\u001b[0m\u001b[0;34m,\u001b[0m \u001b[0mnotSqrs\u001b[0m \u001b[0;34m=\u001b[0m \u001b[0mnotSqrs\u001b[0m\u001b[0;34m,\u001b[0m \u001b[0mfeature\u001b[0m\u001b[0;34m=\u001b[0m\u001b[0mfeature\u001b[0m\u001b[0;34m)\u001b[0m\u001b[0;34m\u001b[0m\u001b[0m\n\u001b[0m\u001b[1;32m     10\u001b[0m         \u001b[0mexpected\u001b[0m\u001b[0;34m,\u001b[0m \u001b[0mobserved\u001b[0m\u001b[0;34m,\u001b[0m \u001b[0mtime\u001b[0m\u001b[0;34m,\u001b[0m \u001b[0msqrArr\u001b[0m\u001b[0;34m,\u001b[0m \u001b[0mtrace\u001b[0m \u001b[0;34m=\u001b[0m \u001b[0mgetPars\u001b[0m\u001b[0;34m(\u001b[0m\u001b[0mneuron\u001b[0m\u001b[0;34m,\u001b[0m \u001b[0;34m\"Control\"\u001b[0m\u001b[0;34m,\u001b[0m \u001b[0mnotSqrs\u001b[0m \u001b[0;34m=\u001b[0m \u001b[0mnotSqrs\u001b[0m\u001b[0;34m,\u001b[0m \u001b[0mfeature\u001b[0m\u001b[0;34m=\u001b[0m\u001b[0mfeature\u001b[0m\u001b[0;34m)\u001b[0m\u001b[0;34m\u001b[0m\u001b[0m\n\u001b[1;32m     11\u001b[0m \u001b[0;34m\u001b[0m\u001b[0m\n",
      "\u001b[0;31mNameError\u001b[0m: name 'notSqrs' is not defined"
     ]
    }
   ],
   "source": [
    "feature = 0\n",
    "slope_c , slope_g = [], []\n",
    "for key in neurons:\n",
    "    neuron = neurons[key]\n",
    "    trace, g_trace, expected, g_expected, g_observed, observed, time, g_time = [], [], [], [], [], [], [], []\n",
    "    #notSqrs = [1]\n",
    "    if \"GABAzine\" in neuron.experiment:\n",
    "\n",
    "        g_expected, g_observed, g_time, g_sqrArr, g_trace = getPars(neuron, \"GABAzine\", notSqrs = notSqrs, feature=feature)\n",
    "        expected, observed, time, sqrArr, trace = getPars(neuron, \"Control\", notSqrs = notSqrs, feature=feature)\n",
    "        \n",
    "        g_time = [np.argmax(averagedTrace)/20. for averagedTrace in g_trace]\n",
    "        g_observed = [np.max(averagedTrace) for averagedTrace in g_trace]\n",
    "\n",
    "        time = [np.argmax(averagedTrace)/20. for averagedTrace in trace]\n",
    "        observed = [np.max(averagedTrace) for averagedTrace in trace]\n",
    "\n",
    "        expected = np.array(expected)\n",
    "        trace = np.array(trace)\n",
    "        g_expected = np.array(g_expected)\n",
    "        g_trace = np.array(g_trace)\n",
    "        observed = np.array(observed)\n",
    "        time = np.array(time)\n",
    "        g_observed = np.array(g_observed)\n",
    "        g_time = np.array(g_time)\n",
    "\n",
    "        indices =list(set(np.where(time<50)[0]).intersection(np.where(g_time<50)[0]).intersection(np.where(time>5)[0]).intersection(np.where(g_time>5)[0]))\n",
    "\n",
    "        expected = expected[indices]\n",
    "        time = time[indices]\n",
    "        g_expected = g_expected[indices]\n",
    "        g_time = g_time[indices]\n",
    "\n",
    "        if(( ss.iqr(g_expected))>=1.):\n",
    "            print (neuron.index, neuron.date)\n",
    "            fig, ax = plt.subplots()\n",
    "            slope, intercept, lowconf, highconf = ss.mstats.theilslopes(x=expected, y=time)\n",
    "            slope_c.append(slope)\n",
    "            ax.scatter(expected, time, c='blue', s=8)\n",
    "            xaxis = np.linspace(min(expected)-5, max(expected)+5,30)\n",
    "            ax.plot(xaxis , slope*xaxis  + intercept, 'b--')\n",
    "\n",
    "            slope, intercept, lowconf, highconf = ss.mstats.theilslopes(x=g_expected, y=g_time)\n",
    "            slope_g.append(slope)\n",
    "            ax.scatter(g_expected, g_time, c='g', s=8)\n",
    "            xaxis = np.linspace(min(g_expected)-5, max(g_expected)+5,30)\n",
    "            ax.plot(xaxis, slope*xaxis + intercept, 'g--')\n",
    "            simpleaxis(ax)\n",
    "            fig.set_figwidth(1.5)\n",
    "            fig.set_figheight(1.5)\n",
    "            plt.show()\n",
    "            \n",
    "fig, ax = plt.subplots()\n",
    "for c,g in zip(slope_c, slope_g):\n",
    "    ax.plot([1,3], [c,g], '.-', markersize=5)\n",
    "\n",
    "ax.set_xlim((0,4))\n",
    "ax.set_xticks([1,3])\n",
    "ax.set_xticklabels(['Control', 'GABAzine'])\n",
    "ax.set_ylabel(\"Slope\")\n",
    "\n",
    "y, h, col = np.max([np.max(slope_c),np.max(slope_g)])+ 0.2 , 0.25, 'k'\n",
    "plt.plot([1,1, 3, 3], [y, y+h, y+h, y], lw=1.5, c=col)\n",
    "plt.text((1+3)*.5, y+h, \"**\", ha='center', va='bottom', color=col)\n",
    "\n",
    "simpleaxis(ax)\n",
    "fig.set_figwidth(1.3)\n",
    "fig.set_figheight(1.3)\n",
    "plt.savefig('figures/fig7/Slope_control_gabazine.svg')\n",
    "plt.show()"
   ]
  },
  {
   "cell_type": "code",
   "execution_count": null,
   "metadata": {},
   "outputs": [],
   "source": [
    "print(ss.ranksums(slope_c, slope_g))"
   ]
  },
  {
   "cell_type": "code",
   "execution_count": null,
   "metadata": {},
   "outputs": [],
   "source": [
    "feature = 0 # Area under the curve\n",
    "neuron = neurons['170303_c1']"
   ]
  },
  {
   "cell_type": "code",
   "execution_count": null,
   "metadata": {},
   "outputs": [],
   "source": [
    "trace, g_trace, expected, g_expected, g_observed, observed, time, g_time = [], [], [], [], [], [], [], []\n",
    "notSqrs = [1]\n",
    "g_expected, g_observed, g_time, g_sqrArr, g_trace = getPars(neuron, \"GABAzine\", notSqrs = notSqrs, feature=feature)\n",
    "expected, observed, time, sqrArr, trace = getPars(neuron, \"Control\", notSqrs = notSqrs, feature=feature)\n",
    "\n",
    "g_time = [np.argmax(averagedTrace)/20. for averagedTrace in g_trace]\n",
    "g_observed = [np.max(averagedTrace) for averagedTrace in g_trace]\n",
    "\n",
    "time = [np.argmax(averagedTrace)/20. for averagedTrace in trace]\n",
    "observed = [np.max(averagedTrace) for averagedTrace in trace]"
   ]
  },
  {
   "cell_type": "code",
   "execution_count": null,
   "metadata": {},
   "outputs": [],
   "source": [
    "expected = np.array(expected)\n",
    "trace = np.array(trace)\n",
    "g_expected = np.array(g_expected)\n",
    "g_trace = np.array(g_trace)\n",
    "observed = np.array(observed)\n",
    "time = np.array(time)\n",
    "g_observed = np.array(g_observed)\n",
    "g_time = np.array(g_time)"
   ]
  },
  {
   "cell_type": "code",
   "execution_count": null,
   "metadata": {},
   "outputs": [],
   "source": [
    "numBins=20\n",
    "bins = np.linspace(0,max(expected),numBins)\n",
    "digitized = np.digitize(expected, bins)\n",
    "trace_mean = [trace[digitized == i].mean(axis=0) for i in range(len(bins)) if len(trace[digitized == i])]\n",
    "\n",
    "bins = np.linspace(0,max(g_expected),numBins)\n",
    "g_digitized = np.digitize(g_expected, bins)\n",
    "g_trace_mean = [g_trace[g_digitized == i].mean(axis=0) for i in range(len(bins)) if len(g_trace[g_digitized == i])]\n",
    "g_trace_time = [g_trace[g_digitized == i].mean(axis=0) for i in range(len(bins)) if len(g_trace[g_digitized == i])]"
   ]
  },
  {
   "cell_type": "code",
   "execution_count": null,
   "metadata": {},
   "outputs": [],
   "source": [
    "c_mean_time, c_mean, g_mean_time, g_mean = [], [], [], []\n",
    "alpha=0.5\n",
    "fig, ax = plt.subplots(2,1,sharex=True, sharey=True)\n",
    "for i in range(len(trace_mean)):\n",
    "    if len(trace_mean[i]):\n",
    "        ax[0].plot(np.linspace(0,100,len(trace_mean[i])), trace_mean[i], alpha=alpha)\n",
    "        ax[0].plot(np.argmax(trace_mean[i])/20.,np.max(trace_mean[i]),'.',markersize=8)\n",
    "        c_mean_time.append(np.argmax(trace_mean[i])/20.)\n",
    "        c_mean.append(np.max(trace_mean[i]))\n",
    "slope, intercept, lowconf, highconf = ss.mstats.theilslopes(x=c_mean_time, y=c_mean)\n",
    "meanTimeRange = np.linspace(0.8*np.min(c_mean_time), 1.2*np.max(c_mean_time),30)\n",
    "# ax[0].plot(meanTimeRange, slope*meanTimeRange + intercept,'--',linewidth=1)\n",
    "print (slope, intercept)\n",
    "for i in range(len(g_trace_mean)):\n",
    "    if len(g_trace_mean[i]):\n",
    "        ax[1].plot(np.linspace(0,100,len(g_trace_mean[i])), g_trace_mean[i],'r', alpha=alpha)\n",
    "        ax[1].plot(np.argmax(g_trace_mean[i])/20.,np.max(g_trace_mean[i]),'r.',markersize=8)\n",
    "        g_mean_time.append(np.argmax(g_trace_mean[i])/20.)\n",
    "        g_mean.append(np.max(g_trace_mean[i]))\n",
    "\n",
    "# slope, intercept, lowconf, highconf, k = ss.linregress(x=g_mean_time, y=g_mean)\n",
    "slope, intercept, lowconf, highconf = ss.mstats.theilslopes(x=g_mean, y=g_mean_time)\n",
    "meanTimeRange = np.linspace(0.8*np.min(g_mean_time), 1.2*np.max(g_mean_time),30)\n",
    "\n",
    "ax[1].plot(meanTimeRange, meanTimeRange*slope + intercept,'r--',linewidth=1)\n",
    "print (slope, intercept)\n",
    "# c_mean/=len(trace_mean)\n",
    "# g_mean/=len(g_trace_mean)\n",
    "\n",
    "# ax[0].vlines(x=c_mean ,ymin=0., ymax=1.1*np.max(trace_mean),linestyle='--')\n",
    "# ax[1].vlines(x=g_mean ,ymin=0., ymax=1.1*np.max(g_trace_mean),color='r',linestyle='--')\n",
    "\n",
    "# ax[1].set_xlabel('Time (ms)')\n",
    "# ax[1].set_ylabel('Amplitude (mV)')\n",
    "\n",
    "ax[0].set_xlim(0,60)\n",
    "ax[0].set_ylim(ymin=0., ymax=8.)\n",
    "ax[1].set_ylim(ymin=0., ymax=8.)\n",
    "ax[0].set_yticks([0,4,8])\n",
    "ax[1].set_yticks([0,4,8])\n",
    "simpleaxis(ax)\n",
    "fig.set_figheight(2.3)\n",
    "fig.set_figwidth(1.3)\n",
    "dump(fig,file('figures/fig7/7c.pkl','wb'))\n",
    "plt.show()"
   ]
  },
  {
   "cell_type": "code",
   "execution_count": null,
   "metadata": {},
   "outputs": [],
   "source": [
    "print(slope)"
   ]
  },
  {
   "cell_type": "code",
   "execution_count": null,
   "metadata": {},
   "outputs": [],
   "source": [
    "c_mean_time"
   ]
  },
  {
   "cell_type": "code",
   "execution_count": null,
   "metadata": {},
   "outputs": [],
   "source": [
    "exp_mean = [expected[digitized == i].mean() for i in range(len(bins)) ]\n",
    "obs_mean = [observed[digitized == i].mean() for i in range(len(bins))]\n",
    "obs_std = [observed[digitized == i].std() for i in range(len(bins))]\n",
    "time_mean = [time[digitized == i].mean() for i in range(len(bins))]\n",
    "time_std = [time[digitized == i].std() for i in range(len(bins))]\n",
    "\n",
    "g_exp_mean = [g_expected[g_digitized == i].mean() for i in range(len(bins)) ]\n",
    "g_obs_mean = [g_observed[g_digitized == i].mean() for i in range(len(bins))]\n",
    "g_obs_std = [g_observed[g_digitized == i].std() for i in range(len(bins))]\n",
    "g_time_mean = [g_time[g_digitized == i].mean() for i in range(len(bins))]\n",
    "g_time_std = [g_time[g_digitized == i].std() for i in range(len(bins))]\n",
    "\n",
    "print(np.nanmin(g_obs_mean), np.nanmin(obs_mean))\n",
    "omin = 0.3*np.nanmin((np.nanmin(g_obs_mean), np.nanmin(obs_mean)))\n",
    "omax = 1.1*np.nanmax((np.nanmax(g_obs_mean), np.nanmax(obs_mean)))\n",
    "\n",
    "tmin = 0.8*np.nanmin((np.nanmin(g_time_mean), np.nanmin(time_mean)))\n",
    "tmax = 1.2*np.nanmax((np.nanmax(g_time_mean), np.nanmax(time_mean)))\n",
    "\n",
    "tmin=15.\n",
    "tmax=40.\n",
    "fig, ax = plt.subplots(1,2, sharey=True)\n",
    "ax[0].plot(obs_mean, exp_mean,'.',markersize=8)\n",
    "ax[0].errorbar(obs_mean, exp_mean, xerr = obs_std, linestyle='') #s= 10)\n",
    "ax[1].plot(time_mean, exp_mean,'.',markersize=8)\n",
    "ax[1].errorbar(time_mean, exp_mean, xerr = time_std, linestyle='')# s= 10)\n",
    "# ax[0].set_xlabel('Pk Vm (mV)')\n",
    "# ax[1].set_xlabel('Pk time (ms)')\n",
    "ax[0].set_ylabel('Expected (mV)')\n",
    "ax[0].set_xlim(omin, omax)\n",
    "ax[1].set_xlim(tmin,tmax)\n",
    "ax[0].set_ylim(ymin=0.)\n",
    "simpleaxis(ax)\n",
    "fig.set_figwidth(2.0)\n",
    "fig.set_figheight(1.5)\n",
    "dump(fig,file('figures/fig7/7a.pkl','wb'))\n",
    "plt.show()\n",
    "\n",
    "fig, ax = plt.subplots(1,2, sharey=True)\n",
    "ax[0].plot(g_obs_mean, g_exp_mean,'r.',markersize=8)\n",
    "ax[0].errorbar(g_obs_mean, g_exp_mean, xerr = g_obs_std, color='r', linestyle='') #s= 10)\n",
    "ax[1].plot(g_time_mean, g_exp_mean,'r.',markersize=8)\n",
    "ax[1].errorbar(g_time_mean, g_exp_mean, xerr = g_time_std, color='r', linestyle='')# s= 10)\n",
    "\n",
    "\n",
    "ax[0].set_xlabel('Pk Vm (mV)')\n",
    "ax[1].set_xlabel('Pk time (ms)')\n",
    "ax[0].set_ylabel('Expected (mV)')\n",
    "ax[0].set_xlim(omin, omax)\n",
    "ax[1].set_xlim(tmin,tmax)\n",
    "ax[0].set_ylim(ymin=0.)\n",
    "simpleaxis(ax)\n",
    "fig.set_figwidth(2.0)\n",
    "fig.set_figheight(1.5)\n",
    "dump(fig,file('figures/fig7/7b.pkl','wb'))\n",
    "plt.show()"
   ]
  },
  {
   "cell_type": "code",
   "execution_count": null,
   "metadata": {},
   "outputs": [],
   "source": [
    "expected, observed, time = np.array(expected), np.array(observed), np.array(time)\n",
    "bins = np.linspace(0, max(expected), 8)\n",
    "digitized = np.digitize(expected, bins)\n",
    "ex_means = [expected[digitized == i].mean() for i in range(1, len(bins))]\n",
    "ob_means = [observed[digitized == i].mean() for i in range(1, len(bins))]\n",
    "t_means = [time[digitized == i].mean() for i in range(1, len(bins))]\n",
    "\n",
    "ex_std = [expected[digitized == i].std() for i in range(1, len(bins))]\n",
    "ob_std = [observed[digitized == i].std() for i in range(1, len(bins))]\n",
    "t_std = [time[digitized == i].std() for i in range(1, len(bins))]\n",
    "\n",
    "fig, ax = plt.subplots(1,2, sharey=True)\n",
    "ax[0].errorbar(ob_means, ex_means, xerr=ob_std, yerr=ex_std, c='k', fmt='.')\n",
    "ax[1].errorbar(t_means, ex_means, xerr=t_std, yerr=ex_std, c='k', fmt='.')\n",
    "\n",
    "ax[0].set_xlim(0,8)\n",
    "ax[1].set_xlim(10,40)\n",
    "ax[0].set_xlabel('Peak voltage (mV)')\n",
    "ax[1].set_xlabel('Peak time (ms)')\n",
    "ax[0].set_ylabel('Expected (mV)')\n",
    "simpleaxis(ax)\n",
    "fig.set_figheight(2)\n",
    "fig.set_figwidth(3)\n",
    "fig.tight_layout()\n",
    "dump(fig,file('figures/fig7/7a.pkl','wb'))\n",
    "plt.show()\n",
    "\n",
    "# ax[0].scatter(observed, expected, s= 10)\n",
    "# ax[1].scatter(time, expected, s= 10)\n",
    "# ax[0].set_xlim(0,10)\n",
    "# ax[1].set_xlim(0,50)\n",
    "# ax[0].set_xlabel('Observed peak voltage (mV)')\n",
    "# ax[1].set_xlabel('Peak time (ms)')\n",
    "# ax[0].set_ylabel('Expected peak voltage (mV)')\n",
    "# simpleaxis(ax)\n",
    "# dump(fig,file('figures/fig7/7a.pkl','wb'))\n",
    "# plt.show()"
   ]
  },
  {
   "cell_type": "code",
   "execution_count": null,
   "metadata": {},
   "outputs": [],
   "source": [
    "# feature = 0 # Area under the curve\n",
    "# neuron = neurons['170303_c1']\n",
    "# trace = []\n",
    "# fig, ax = plt.subplots(1,2)\n",
    "# for expType, exp in neuron:\n",
    "#     ## Control case\n",
    "#     if(expType == \"Control\"):\n",
    "#         std_time = []\n",
    "#         std_observed = [] \n",
    "#         expected = []\n",
    "#         for sqr in exp:\n",
    "#             if sqr > 1:\n",
    "#                 for coord in exp[sqr].coordwise:\n",
    "#                     time_trial, observed_trial = [], []\n",
    "#                     for trial in exp[sqr].coordwise[coord].trials:\n",
    "#                         if all([value == 0 for value in trial.flags.values()]):\n",
    "#                             time_trial.append(np.argmax(trial.interestWindow)/20.)\n",
    "#                             observed_trial.append(np.max(trial.interestWindow))\n",
    "#                     if len(observed_trial) == 3:\n",
    "#                         expected.append(exp[sqr].coordwise[coord].expected_feature[feature])\n",
    "#                         std_time.append( np.std(time_trial)/np.mean(time_trial))\n",
    "#                         std_observed.append( np.std(observed_trial)/np.mean(observed_trial))\n",
    "\n",
    "\n",
    "#         ax[0].scatter(expected, std_time, color='k', label='time', s=10)\n",
    "#         ax[0].scatter(expected, std_observed, color='r', label='peak vm', s=10)\n",
    "#         ax[0].set_xlabel(\"Expected\")\n",
    "#         ax[0].set_xlabel(\"std/mean\")\n",
    "\n",
    "#     if(expType == \"GABAzine\"):\n",
    "#         std_time = []\n",
    "#         std_observed = [] \n",
    "#         expected = []\n",
    "#         for sqr in exp:\n",
    "#             if sqr > 1:\n",
    "#                 for coord in exp[sqr].coordwise:\n",
    "#                     time_trial, observed_trial = [], []\n",
    "#                     for trial in exp[sqr].coordwise[coord].trials:\n",
    "#                         if all([value == 0 for value in trial.flags.values()]):\n",
    "#                             time_trial.append(np.argmax(trial.interestWindow)/20.)\n",
    "#                             observed_trial.append(np.max(trial.interestWindow))\n",
    "#                     if len(observed_trial) == 3:\n",
    "#                         expected.append(exp[sqr].coordwise[coord].expected_feature[feature])\n",
    "#                         std_time.append( np.std(time_trial)/np.mean(time_trial))\n",
    "#                         std_observed.append( np.std(observed_trial)/np.mean(observed_trial))\n",
    "#         ax[1].scatter(expected, std_time, color='k', label='time', s=10)\n",
    "#         ax[1].scatter(expected, std_observed, color='r', label='peak vm', s=10)\n",
    "#         ax[1].set_xlabel(\"Expected\")\n",
    "#         ax[1].set_xlabel(\"std/mean\")\n",
    "\n",
    "\n",
    "# simpleaxis(ax)\n",
    "# plt.legend()\n",
    "# plt.show()"
   ]
  },
  {
   "cell_type": "code",
   "execution_count": null,
   "metadata": {},
   "outputs": [],
   "source": [
    "bins = int(min([getNumBins(expected) , getNumBins(observed) , getNumBins(time)])/1.)"
   ]
  },
  {
   "cell_type": "code",
   "execution_count": null,
   "metadata": {},
   "outputs": [],
   "source": [
    "I_te = calc_MI(time, expected,bins)\n",
    "I_oe = calc_MI(observed, expected,bins)\n",
    "I_ote = calc_TI(time, observed, expected ,bins)"
   ]
  },
  {
   "cell_type": "code",
   "execution_count": null,
   "metadata": {},
   "outputs": [],
   "source": [
    "I_te, I_oe, I_ote"
   ]
  },
  {
   "cell_type": "markdown",
   "metadata": {},
   "source": [
    "## Calculating MI for all cells"
   ]
  },
  {
   "cell_type": "code",
   "execution_count": null,
   "metadata": {},
   "outputs": [],
   "source": [
    "I_te, I_oe, I_ote, I_t_gain = [], [], [], []\n",
    "feature = 0 # Area under the curve\n",
    "for index in neurons:\n",
    "    neuron = neurons[index]\n",
    "    for expType, exp in neuron:\n",
    "        ## Control case\n",
    "        if(expType == \"Control\"):\n",
    "            expected = []\n",
    "            observed = []\n",
    "            time = []\n",
    "            sqrArr = []\n",
    "            for sqr in exp:\n",
    "                if sqr > 1:\n",
    "                    for coord in exp[sqr].coordwise:\n",
    "                        for trial in exp[sqr].coordwise[coord].trials:\n",
    "                            if all([value == 0 for value in trial.flags.values()]):\n",
    "                                expected.append(exp[sqr].coordwise[coord].expected_feature[feature])\n",
    "                                observed.append(trial.feature[feature])\n",
    "                                time.append(np.argmax(trial.interestWindow)/20.)\n",
    "                                sqrArr.append(sqr)\n",
    "            if len(expected):\n",
    "                print (len(expected))\n",
    "                bins = int(min([getNumBins(expected) , getNumBins(observed) , getNumBins(time)])/1.)\n",
    "                I_te.append(calc_MI(time, expected,bins))\n",
    "                I_oe.append(calc_MI(observed, expected,bins))\n",
    "                I_ote.append(calc_TI(time, observed, expected ,bins))\n",
    "                I_t_gain.append(gain_inf(expected,time, observed, bins))"
   ]
  },
  {
   "cell_type": "code",
   "execution_count": null,
   "metadata": {},
   "outputs": [],
   "source": [
    "I_te, I_oe, I_ote, I_t_gain = np.array(I_te), np.array(I_oe), np.array(I_ote), np.array(I_t_gain)\n",
    "fig, ax = plt.subplots()\n",
    "indices = np.argsort(I_te)\n",
    "ax.plot(I_te[indices], 'r.-', label=\"Time\")\n",
    "ax.plot(I_oe[indices], c='g', label=\"Peak amplitude\")\n",
    "#ax.plot(I_te[indices] + I_oe[indices], 'b--', label=\"Sum of time and peak amplitude\")\n",
    "ax.plot(I_ote[indices], c='b', label=\"Total Information in time and peak\")\n",
    "ax.plot(I_t_gain[indices], c='m', label=\"Input information gain from time\")\n",
    "simpleaxis(ax)\n",
    "plt.legend()\n",
    "fig.set_figheight(6)\n",
    "fig.set_figwidth(6)\n",
    "plt.savefig('figures/Fig_7_b.png')\n",
    "# ax.set_xlim(0,1)\n",
    "# ax.set_ylim(0,1)\n",
    "plt.show()"
   ]
  },
  {
   "cell_type": "code",
   "execution_count": null,
   "metadata": {},
   "outputs": [],
   "source": [
    "fig, ax = plt.subplots()\n",
    "cbar = ax.scatter(I_te, I_oe, c= I_ote, cmap=plt.cm.viridis)\n",
    "# ax.set_xlim(0,0.4)\n",
    "# ax.set_ylim(0,1)\n",
    "plt.colorbar(cbar)\n",
    "plt.show()"
   ]
  },
  {
   "cell_type": "code",
   "execution_count": null,
   "metadata": {},
   "outputs": [],
   "source": [
    "fig, ax = plt.subplots(3,1,sharex=True)\n",
    "#ax.hist(I_te, color='r', alpha=0.2)\n",
    "ax[0].hist(I_oe, color='b', alpha=1)\n",
    "#ax.hist(I_te + I_oe, color='g', alpha=0.2)\n",
    "ax[1].hist(I_ote, color='g', alpha=1)\n",
    "ax[2].hist(I_t_gain, color='r', alpha=1)\n",
    "plt.show()"
   ]
  },
  {
   "cell_type": "code",
   "execution_count": null,
   "metadata": {},
   "outputs": [],
   "source": [
    "fig1, ax1 = plt.subplots()\n",
    "ax1.bar(2, np.mean(I_te))\n",
    "ax1.errorbar(2, np.mean(I_te), yerr= np.std(I_te))\n",
    "\n",
    "ax1.bar(5, np.mean(I_oe))\n",
    "ax1.errorbar(5, np.mean(I_oe), yerr= np.std(I_oe))\n",
    "\n",
    "ax1.bar(8, np.mean(I_ote))\n",
    "ax1.errorbar(8,np.mean(I_ote), yerr= np.std(I_ote))\n",
    "\n",
    "#ax1.bar(11, np.mean(I_to))\n",
    "#ax1.errorbar(11,np.mean(I_to), yerr= np.std(I_to))\n",
    "\n",
    "ax1.bar(14, np.mean(I_t_gain))\n",
    "ax1.errorbar(14,np.mean(I_t_gain), yerr= np.std(I_t_gain))\n",
    "plt.show()"
   ]
  },
  {
   "cell_type": "markdown",
   "metadata": {},
   "source": [
    "## GABAzine case"
   ]
  },
  {
   "cell_type": "markdown",
   "metadata": {},
   "source": [
    "### NPEET method"
   ]
  },
  {
   "cell_type": "code",
   "execution_count": 336,
   "metadata": {
    "scrolled": false
   },
   "outputs": [
    {
     "name": "stdout",
     "output_type": "stream",
     "text": [
      "160928 c4\n",
      "239 72\n",
      "161117 c1\n",
      "360 360\n",
      "170222 c2\n",
      "286 288\n",
      "161228 c1\n",
      "196 288\n",
      "160830 c1\n",
      "473 124\n",
      "161027 c3\n",
      "71 288\n",
      "160920 c1\n",
      "400 351\n",
      "161013 c1\n",
      "360 361\n",
      "160927 c5\n",
      "90 259\n",
      "170303 c1\n",
      "120 334\n"
     ]
    }
   ],
   "source": [
    "feature = 0 # Area under the curve\n",
    "minPoints = 0\n",
    "minIQR = 0\n",
    "minSqr = 0\n",
    "notSqrs = [1]\n",
    "g_I_te, g_I_oe, g_I_ote, g_I_to, g_I_t_gain = [], [], [], [], []\n",
    "c_I_te, c_I_oe, c_I_ote, c_I_to, c_I_t_gain = [], [], [], [], []\n",
    "g_sqr, c_sqr = [], []\n",
    "\n",
    "## tol=0.1, minPoints=80, minIQR=2.\n",
    "tol = 0.1\n",
    "for index in neurons:\n",
    "    neuron = neurons[index]\n",
    "    if \"GABAzine\" in neuron.experiment:\n",
    "        print (neuron.date, neuron.index)\n",
    "#         g_expected, g_observed, g_time, g_sqrArr, g_avgTrace = getPars(neuron, \"GABAzine\", notSqrs = notSqrs, feature=feature)\n",
    "#         c_expected, c_observed, c_time, c_sqrArr, c_avgTrace = getPars(neuron, \"Control\", notSqrs = notSqrs, feature=feature)\n",
    "        \n",
    "        g_expected, g_observed, g_time, g_sqrArr, g_avgTrace = getPars_trialwise(neuron, \"GABAzine\", notSqrs = notSqrs, feature=feature)\n",
    "        c_expected, c_observed, c_time, c_sqrArr, c_avgTrace = getPars_trialwise(neuron, \"Control\", notSqrs = notSqrs, feature=feature)\n",
    "        \n",
    "        if len(g_expected)>=minPoints and len(c_expected)>=minPoints:\n",
    "            print (len(g_expected), len(c_expected))\n",
    "            if ss.iqr(g_expected) >= minIQR and ss.iqr(c_expected) >= minIQR:\n",
    "                if len(set(c_sqrArr)) >= minSqr and len(set(g_sqrArr)) >= minSqr:\n",
    "                    \n",
    "                    g_observed, c_observed = np.array(g_observed), np.array(c_observed)\n",
    "                    g_expected, c_expected = np.array(g_expected), np.array(c_expected)\n",
    "                    g_time, c_time = np.array(g_time), np.array(c_time)\n",
    "                    g_avgTrace, c_avgTrace = np.array(g_avgTrace), np.array(c_avgTrace)\n",
    "                                        \n",
    "                    # Removing outliers\n",
    "                    indices =list(set(np.where(c_time<50)[0]).intersection(np.where(g_time<50)[0]).intersection(np.where(c_time>5)[0]).intersection(np.where(g_time>5)[0]))\n",
    "                    c_expected = c_expected[indices]\n",
    "                    c_observed = c_observed[indices]\n",
    "                    c_time = c_time[indices]\n",
    "                    g_expected = g_expected[indices]\n",
    "                    g_observed = g_observed[indices]\n",
    "                    g_time = g_time[indices]\n",
    "                    ###### \n",
    "                    \n",
    "                    bins_g = int(min([getNumBins(g_expected), getNumBins(g_observed), getNumBins(g_time)])/1)\n",
    "                    bins_c = int(min([getNumBins(c_expected), getNumBins(c_observed), getNumBins(c_time)])/1)\n",
    "#                     bins = min([bins_g, bins_c])\n",
    "                    if shuffle_test(g_time, g_observed, g_expected, measure='ti') <tol and shuffle_test(c_time, c_observed, c_expected, measure='ti') < tol:\n",
    "                        \n",
    "                        g_I_ote.append(calc_TI(g_time, g_observed, g_expected ,bins_g))\n",
    "\n",
    "                        if shuffle_test(g_time, g_expected)< tol:\n",
    "                            g_I_te.append(calc_MI(g_time, g_expected,bins_g))\n",
    "                        else:\n",
    "                            g_I_te.append(0)\n",
    "\n",
    "                        if shuffle_test(g_observed, g_expected)<tol:\n",
    "                            g_I_oe.append(calc_MI(g_observed, g_expected,bins_g))\n",
    "                        else:\n",
    "                            g_I_oe.append(0)\n",
    "                                       \n",
    "                        if shuffle_test(g_observed, g_time) <tol:\n",
    "                            g_I_to.append(calc_MI(g_observed, g_time,bins_g))\n",
    "                        else:\n",
    "                            g_I_to.append(0)\n",
    "                        \n",
    "                        if shuffle_test(g_expected,g_time, g_observed, measure='cmi') <tol:\n",
    "                            g_I_t_gain.append(gain_inf(g_expected,g_time, g_observed, bins_g))\n",
    "                        else:\n",
    "                            g_I_t_gain.append(0)\n",
    "                        \n",
    "                        g_sqr.append(len(set(g_sqrArr)))\n",
    "                 \n",
    "                        c_I_ote.append(calc_TI(c_time, c_observed, c_expected ,bins_c))\n",
    "                        \n",
    "                        if shuffle_test(c_time, c_expected) < tol:\n",
    "                            c_I_te.append(calc_MI(c_time, c_expected,bins_c))\n",
    "                        else:\n",
    "                            c_I_te.append(0)\n",
    "\n",
    "                        if shuffle_test(c_observed, c_expected) < tol:\n",
    "                            c_I_oe.append(calc_MI(c_observed, c_expected,bins_c))\n",
    "                        else:\n",
    "                            c_I_oe.append(0)\n",
    "                        \n",
    "                        if shuffle_test(c_observed, c_time) < tol:\n",
    "                            c_I_to.append(calc_MI(c_observed, c_time,bins_c))\n",
    "                        else:\n",
    "                            c_I_to.append(0)\n",
    "                        \n",
    "                        if shuffle_test(c_expected, c_time, c_observed, measure='cmi') < tol:\n",
    "                            c_I_t_gain.append(gain_inf(c_expected,c_time, c_observed, bins_c))\n",
    "                        else:\n",
    "                            c_I_t_gain.append(0)\n",
    "                        \n",
    "                        c_sqr.append(len(set(c_sqrArr)))\n",
    "\n",
    "#                     fig, ax = plt.subplots(1,4)\n",
    "#                     dotsize =10\n",
    "\n",
    "\n",
    "#                     ax[0].scatter(c_expected, c_observed,c='k',s=dotsize)\n",
    "#                     ax[0].scatter(g_expected, g_observed,c='r',s=dotsize)\n",
    "#                     ax[1].scatter(c_expected, c_time,c='k',s=dotsize)\n",
    "#                     ax[1].scatter(g_expected, g_time,c='r',s=dotsize)\n",
    "#                     if (len(g_observed) == len(c_observed)):\n",
    "                        \n",
    "#                         ax[2].scatter(g_observed, g_observed-c_observed,c='g',s=dotsize)\n",
    "#                         ymax = max((ax[2].get_xlim()[1],ax[2].get_ylim()[1]))\n",
    "#                         ax[2].set_xlim(0,ymax)\n",
    "#                         ax[2].set_ylim(0,ymax)\n",
    "#                         excit_gabaz, inhib_derived = [], []\n",
    "#                         for i,j in zip(g_avgTrace, c_avgTrace):\n",
    "#                             excit_gabaz.append(np.max(i))\n",
    "#                             inhib_derived.append(np.max(i-j))\n",
    "#                         ax[3].scatter( excit_gabaz, inhib_derived, c='m',s=dotsize)\n",
    "#                         ymax = max((ax[3].get_xlim()[1],ax[3].get_ylim()[1]))\n",
    "#                         ax[3].set_xlim(0,ymax)\n",
    "#                         ax[3].set_ylim(0,ymax)\n",
    "                        \n",
    "#                     else:\n",
    "#                         fig.delaxes(ax[2])\n",
    "#                         fig.delaxes(ax[3])\n",
    "#                         plt.draw()\n",
    "#                     ax[0].set_title(\"{}, {}, {}, {}\".format(len(c_expected), len(g_expected), g_sqr[-1], c_sqr[-1]))\n",
    "#                     fig.set_figwidth(16)\n",
    "#                     plt.show()\n",
    "#                     plt.close()"
   ]
  },
  {
   "cell_type": "code",
   "execution_count": 337,
   "metadata": {},
   "outputs": [],
   "source": [
    "g_I_te, g_I_oe, g_I_ote, g_I_to, g_I_t_gain, g_sqr = np.array(g_I_te), np.array(g_I_oe), np.array(g_I_ote), np.array(g_I_to), np.array(g_I_t_gain), np.array(g_sqr)\n",
    "c_I_te, c_I_oe, c_I_ote, c_I_to, c_I_t_gain, c_sqr = np.array(c_I_te), np.array(c_I_oe), np.array(c_I_ote), np.array(c_I_to), np.array(c_I_t_gain), np.array(c_sqr)"
   ]
  },
  {
   "cell_type": "code",
   "execution_count": 338,
   "metadata": {},
   "outputs": [],
   "source": [
    "def popZeros(l,m):\n",
    "    a = []\n",
    "    b = []\n",
    "    for i, (x,y) in enumerate(zip(l,m)):\n",
    "        if x == 0 and y == 0:\n",
    "            pass\n",
    "        else:\n",
    "            a.append(x)\n",
    "            b.append(y)\n",
    "    return a,b"
   ]
  },
  {
   "cell_type": "code",
   "execution_count": 339,
   "metadata": {},
   "outputs": [],
   "source": [
    "g_I_te1, g_I_oe1, g_I_to1, g_I_t_gain1 = g_I_te/g_I_ote, g_I_oe/g_I_ote, g_I_to/g_I_ote, g_I_t_gain/g_I_ote\n",
    "c_I_te1, c_I_oe1, c_I_to1, c_I_t_gain1 = c_I_te/c_I_ote, c_I_oe/c_I_ote, c_I_to/c_I_ote, c_I_t_gain/c_I_ote"
   ]
  },
  {
   "cell_type": "code",
   "execution_count": 340,
   "metadata": {},
   "outputs": [
    {
     "data": {
      "text/plain": [
       "(array([0.        , 0.        , 0.06138978, 0.25627485, 0.        ,\n",
       "        0.        , 0.        ]),\n",
       " array([0.6824328 , 0.37235259, 0.        , 0.19119124, 0.24495137,\n",
       "        0.41163925, 0.        ]))"
      ]
     },
     "execution_count": 340,
     "metadata": {},
     "output_type": "execute_result"
    }
   ],
   "source": [
    "g_I_t_gain1, c_I_t_gain1"
   ]
  },
  {
   "cell_type": "code",
   "execution_count": 367,
   "metadata": {},
   "outputs": [
    {
     "data": {
      "text/plain": [
       "(6, 6)"
      ]
     },
     "execution_count": 367,
     "metadata": {},
     "output_type": "execute_result"
    }
   ],
   "source": [
    "len(g_I_ote1), len(c_I_ote1)"
   ]
  },
  {
   "cell_type": "code",
   "execution_count": 342,
   "metadata": {},
   "outputs": [],
   "source": [
    "g_I_te1, c_I_te1 = popZeros(g_I_te1,c_I_te1)\n",
    "g_I_oe1, c_I_oe1 = popZeros(g_I_oe1, c_I_oe1)\n",
    "g_I_to1, c_I_to1 = popZeros(g_I_to1, c_I_to1)\n",
    "g_I_t_gain1, c_I_t_gain1 = popZeros(g_I_t_gain1, c_I_t_gain1)"
   ]
  },
  {
   "cell_type": "code",
   "execution_count": 343,
   "metadata": {},
   "outputs": [
    {
     "data": {
      "image/png": "[encoded data removed]",
      "text/plain": [
       "<matplotlib.figure.Figure at 0x7fce69190a90>"
      ]
     },
     "metadata": {},
     "output_type": "display_data"
    }
   ],
   "source": [
    "fig, ax = plt.subplots(1,2,sharey=True,sharex=True)\n",
    "indices = np.argsort(c_I_t_gain)\n",
    "\n",
    "ax[0].plot(c_I_oe[indices], 'g--', label=\"Peak amplitude\")\n",
    "ax[0].plot(c_I_ote[indices], 'k--', label=\"Peak Time\")\n",
    "# ax[1].plot(g_sqr[indices], 'k--', label=\"sqrs\")\n",
    "# ax[1].plot(c_I_to[indices], c='b', label=\"Redundancy in peak and time\")\n",
    "ax[0].plot(c_I_t_gain[indices], 'b--', label=\"Gain from time\")\n",
    "# ax[1].legend()\n",
    "simpleaxis(ax)\n",
    "ax[0].set_title(\"Control\")\n",
    "ax[0].legend()\n",
    "\n",
    "# ax[0].plot(g_I_te[indices], c='r', label=\"Time\")\n",
    "ax[1].plot(g_I_oe[indices], c='g', label=\"Peak amplitude\")\n",
    "ax[1].plot(g_I_ote[indices], c='k', label=\"Peak and Time\")\n",
    "# ax[0].plot(g_sqr[indices], c='k', label=\"sqrs\")\n",
    "# ax[0].plot(g_I_to[indices], c='b', label=\"Redundancy in peak and time\")\n",
    "ax[1].plot(g_I_t_gain[indices], c='b', label=\"Gain from time\")\n",
    "# ax[0].legend()\n",
    "# simpleaxis(ax)\n",
    "# plt.show()\n",
    "ax[1].set_title(\"GABAzine\")\n",
    "# fig, ax = plt.subplots()\n",
    "# ax[1].plot(c_I_te[indices], 'r--', label=\"Time\")\n",
    "\n",
    "\n",
    "ax[0].set_xlabel(\"Cell #\")\n",
    "ax[0].set_ylabel(\"Information (bits)\")\n",
    "\n",
    "fig.set_figheight(1.5)\n",
    "fig.set_figwidth(3)\n",
    "\n",
    "dump(fig,file('figures/fig7/7d.pkl','wb'))\n",
    "plt.show()"
   ]
  },
  {
   "cell_type": "markdown",
   "metadata": {},
   "source": [
    "### Redundancy between E and T"
   ]
  },
  {
   "cell_type": "code",
   "execution_count": 374,
   "metadata": {
    "scrolled": false
   },
   "outputs": [
    {
     "data": {
      "image/png": "[encoded data removed]",
      "text/plain": [
       "<matplotlib.figure.Figure at 0x7fcfb89f8dd0>"
      ]
     },
     "metadata": {},
     "output_type": "display_data"
    }
   ],
   "source": [
    "markersize = 3\n",
    "fig1, ax1 = plt.subplots()\n",
    "\n",
    "ax1.bar(2, np.mean(c_I_te1), color='None', edgecolor='k')\n",
    "ax1.plot([2]*len(c_I_te1), c_I_te1, 'o', alpha=1, markerfacecolor='k', markeredgecolor= 'k', markersize=markersize)\n",
    "# ax1.errorbar(2, np.mean(c_I_te1), yerr= np.std(c_I_te1))\n",
    "\n",
    "ax1.bar(3, np.mean(g_I_te1), edgecolor='r', color='None')\n",
    "ax1.plot([3]*len(g_I_te1), g_I_te1, 'o', alpha=1, markerfacecolor='r', markeredgecolor= 'r', markersize=markersize)\n",
    "# ax1.errorbar(3, np.mean(g_I_te1), yerr= np.std(g_I_te1), color='r')\n",
    "### Significance bars\n",
    "\n",
    "y, h, col = np.max([np.max(np.mean(g_I_te1)),np.max(np.mean(c_I_te1))])+ 0.2 ,0.1, 'k'\n",
    "# plt.plot([2,2, 3, 3], [y, y+h, y+h, y], lw=1.5, c=col)\n",
    "# plt.text((2+3)*.5, y+h, \"*\", ha='center', va='bottom', color=col)\n",
    "\n",
    "ax1.bar(5, np.mean(c_I_oe1), color='None', edgecolor='k')\n",
    "ax1.plot([5]*len(c_I_oe1), c_I_oe1, 'o', alpha=1, markerfacecolor='k', markeredgecolor= 'k', markersize=markersize)\n",
    "# ax1.errorbar(5, np.mean(c_I_oe1), yerr= np.std(c_I_oe1))\n",
    "\n",
    "ax1.bar(6, np.mean(g_I_oe1), color='None', edgecolor='r')\n",
    "ax1.plot([6]*len(g_I_oe1), g_I_oe1, 'o', alpha=1, markerfacecolor='r', markeredgecolor= 'r', markersize=markersize)\n",
    "# ax1.errorbar(6, np.mean(g_I_oe1), yerr= np.std(g_I_oe1), color='r')\n",
    "\n",
    "y, h, col = np.max([np.max(np.mean(g_I_oe1)),np.max(np.mean(c_I_oe1))])+ 0.2 ,0.1, 'k'\n",
    "# plt.plot([5,5, 6, 6], [y, y+h, y+h, y], lw=1.5, c=col)\n",
    "# plt.text((5+6)*.5, y+h, \"*\", ha='center', va='bottom', color=col)\n",
    "\n",
    "# ax1.bar(11, np.mean(g_I_ote))\n",
    "# ax1.errorbar(11,np.mean(g_I_ote), yerr= np.std(g_I_ote))\n",
    "\n",
    "# ax1.bar(12, np.mean(c_I_ote))\n",
    "# ax1.errorbar(12,np.mean(c_I_ote), yerr= np.std(c_I_ote))\n",
    "\n",
    "#ax1.bar(12, np.mean(c_I_to))\n",
    "#ax1.errorbar(12,np.mean(c_I_to), yerr= np.std(c_I_to))\n",
    "\n",
    "#ax1.bar(11, np.mean(g_I_to))\n",
    "#ax1.errorbar(11,np.mean(g_I_to), yerr= np.std(g_I_to))\n",
    "\n",
    "ax1.bar(8, np.mean(c_I_t_gain1), color='None', edgecolor='k')\n",
    "ax1.plot([8]*len(c_I_t_gain1), c_I_t_gain1, 'o', alpha=1, markerfacecolor='k', markeredgecolor= 'k', markersize=markersize)\n",
    "# ax1.errorbar(8,np.mean(c_I_t_gain1), yerr= np.std(c_I_t_gain1))\n",
    "\n",
    "ax1.bar(9, np.mean(g_I_t_gain1), edgecolor='r', color='None')\n",
    "ax1.plot([9]*len(g_I_t_gain1), g_I_t_gain1, 'o', alpha=1, markerfacecolor='r', markeredgecolor= 'r', markersize=markersize)\n",
    "# ax1.errorbar(9,np.mean(g_I_t_gain1), yerr= np.std(g_I_t_gain1), color='r')\n",
    "\n",
    "y, h, col = np.max([np.max(np.mean(g_I_t_gain1)),np.max(np.mean(c_I_t_gain1))])+ 0.3 ,0.1, 'k'\n",
    "# plt.plot([8,8, 9, 9], [y, y+h, y+h, y], lw=1.5, c=col)\n",
    "# plt.text((8+9)*.5, y+h, \"*\", ha='center', va='bottom', color=col)\n",
    "\n",
    "ax1.set_ylim(-0.05,1.5)\n",
    "\n",
    "indices = [2.5, 5.5, 8.5]\n",
    "ax1.set_xticks(indices)\n",
    "ax1.set_xticklabels(('Pk time', 'Pk amp', 'Gain\\nwith time'))\n",
    "\n",
    "ax1.set_ylabel(\"Norm. Information\")\n",
    "\n",
    "simpleaxis(ax1)\n",
    "fig1.set_figwidth(2)\n",
    "fig1.set_figheight(1.4)\n",
    "dump(fig1,file('figures/fig7/7e.pkl','wb'))\n",
    "plt.show()"
   ]
  },
  {
   "cell_type": "code",
   "execution_count": 375,
   "metadata": {},
   "outputs": [
    {
     "data": {
      "image/png": "[encoded data removed]",
      "text/plain": [
       "<matplotlib.figure.Figure at 0x7fcfb89b6cd0>"
      ]
     },
     "metadata": {},
     "output_type": "display_data"
    }
   ],
   "source": [
    "fig1, ax1 = plt.subplots()\n",
    "\n",
    "ax1.bar(2, np.mean(c_I_ote), color='None', edgecolor='k')\n",
    "ax1.plot([2]*len(c_I_ote), c_I_ote, 'o', alpha=1, color='0.5', markerfacecolor='k', markeredgecolor= 'k', markersize=markersize)\n",
    "# ax1.errorbar(2, np.mean(c_I_te1), yerr= np.std(c_I_te1))\n",
    "\n",
    "ax1.bar(3, np.mean(g_I_ote), edgecolor='r', color='None')\n",
    "ax1.plot([3]*len(g_I_ote), g_I_ote, 'o', alpha=1, color='0.5', markerfacecolor='r', markeredgecolor= 'r', markersize=markersize)\n",
    "# ax1.errorbar(3, np.mean(g_I_te1), yerr= np.std(g_I_te1), color='r')\n",
    "### Significance bars\n",
    "\n",
    "# y, h, col = np.max([np.max(np.mean(g_I_ote)),np.max(np.mean(c_I_ote))])+ 0.4 ,0.1, 'k'\n",
    "# plt.plot([2,2, 3, 3], [y-2*h, y+h, y+h, y], lw=1.5, c=col)\n",
    "# plt.text((2+3)*.5, y+1.5*h, \"n.s.\", ha='center', va='bottom', color=col)\n",
    "ax1.set_ylim(-0.05,1.7)\n",
    "ax1.set_xlim(1,4)\n",
    "indices = [2,3]\n",
    "ax1.set_xticks(indices)\n",
    "ax1.set_xticklabels(['C', 'G'])\n",
    "\n",
    "ax1.set_ylabel(\"Tot. Inf. (bits)\")\n",
    "\n",
    "simpleaxis(ax1)\n",
    "fig1.set_figwidth(0.7)\n",
    "fig1.set_figheight(1.4)\n",
    "dump(fig1,file('figures/fig7/7f_hist.pkl','wb'))\n",
    "plt.show()"
   ]
  },
  {
   "cell_type": "code",
   "execution_count": 383,
   "metadata": {},
   "outputs": [
    {
     "name": "stdout",
     "output_type": "stream",
     "text": [
      "0.04\n",
      "0.47\n",
      "0.02\n",
      "0.05\n",
      "0.11\n"
     ]
    }
   ],
   "source": [
    "print(\"{:.2f}\".format(ss.ranksums(g_I_te1, c_I_te1).pvalue))\n",
    "print(\"{:.2f}\".format(ss.ranksums(g_I_to1, c_I_to1).pvalue))\n",
    "print(\"{:.2f}\".format(ss.ranksums(g_I_oe1, c_I_oe1).pvalue))\n",
    "print(\"{:.2f}\".format(ss.ranksums(g_I_t_gain1, c_I_t_gain1).pvalue))\n",
    "print(\"{:.2f}\".format(ss.ranksums(g_I_ote, c_I_ote).pvalue))"
   ]
  },
  {
   "cell_type": "code",
   "execution_count": 368,
   "metadata": {},
   "outputs": [],
   "source": [
    "g_I_t_gain2, c_I_t_gain2 = popZeros(g_I_t_gain, c_I_t_gain)\n",
    "g_I_te2, c_I_te2 = popZeros(g_I_te,c_I_te)\n",
    "g_I_oe2, c_I_oe2 = popZeros(g_I_oe, c_I_oe)\n",
    "g_I_to2, c_I_to2 = popZeros(g_I_to, c_I_to)"
   ]
  },
  {
   "cell_type": "code",
   "execution_count": 316,
   "metadata": {},
   "outputs": [
    {
     "name": "stdout",
     "output_type": "stream",
     "text": [
      "160928 c4\n",
      "239 72\n",
      "161117 c1\n",
      "360 360\n",
      "170222 c2\n",
      "286 288\n",
      "161228 c1\n",
      "196 288\n",
      "160830 c1\n",
      "473 124\n",
      "161027 c3\n",
      "71 288\n",
      "160920 c1\n",
      "400 351\n",
      "161013 c1\n",
      "360 361\n",
      "160927 c5\n",
      "90 259\n",
      "170303 c1\n",
      "120 334\n"
     ]
    }
   ],
   "source": [
    "feature = 0 # Area under the curve\n",
    "minPoints = 0\n",
    "minIQR = 0\n",
    "minSqr = 0\n",
    "notSqrs = [1]\n",
    "g_I_te, g_I_oe, g_I_ote, g_I_to, g_I_t_gain = [], [], [], [], []\n",
    "c_I_te, c_I_oe, c_I_ote, c_I_to, c_I_t_gain = [], [], [], [], []\n",
    "g_sqr, c_sqr = [], []\n",
    "\n",
    "## tol=0.1, minPoints=80, minIQR=2.\n",
    "tol = 0.1\n",
    "for index in neurons:\n",
    "    neuron = neurons[index]\n",
    "    if \"GABAzine\" in neuron.experiment:\n",
    "        print (neuron.date, neuron.index)\n",
    "#         g_expected, g_observed, g_time, g_sqrArr, g_avgTrace = getPars(neuron, \"GABAzine\", notSqrs = notSqrs, feature=feature)\n",
    "#         c_expected, c_observed, c_time, c_sqrArr, c_avgTrace = getPars(neuron, \"Control\", notSqrs = notSqrs, feature=feature)\n",
    "        \n",
    "        g_expected, g_observed, g_time, g_sqrArr, g_avgTrace = getPars_trialwise(neuron, \"GABAzine\", notSqrs = notSqrs, feature=feature)\n",
    "        c_expected, c_observed, c_time, c_sqrArr, c_avgTrace = getPars_trialwise(neuron, \"Control\", notSqrs = notSqrs, feature=feature)\n",
    "        \n",
    "        if len(g_expected)>=minPoints and len(c_expected)>=minPoints:\n",
    "            print (len(g_expected), len(c_expected))\n",
    "            if ss.iqr(g_expected) >= minIQR and ss.iqr(c_expected) >= minIQR:\n",
    "                if len(set(c_sqrArr)) >= minSqr and len(set(g_sqrArr)) >= minSqr:\n",
    "                    \n",
    "                    g_observed, c_observed = np.array(g_observed), np.array(c_observed)\n",
    "                    g_expected, c_expected = np.array(g_expected), np.array(c_expected)\n",
    "                    g_time, c_time = np.array(g_time), np.array(c_time)\n",
    "                    g_avgTrace, c_avgTrace = np.array(g_avgTrace), np.array(c_avgTrace)\n",
    "                                        \n",
    "                    # Removing outliers\n",
    "                    indices =list(set(np.where(c_time<50)[0]).intersection(np.where(g_time<50)[0]).intersection(np.where(c_time>5)[0]).intersection(np.where(g_time>5)[0]))\n",
    "                    c_expected = c_expected[indices]\n",
    "                    c_observed = c_observed[indices]\n",
    "                    c_time = c_time[indices]\n",
    "                    g_expected = g_expected[indices]\n",
    "                    g_observed = g_observed[indices]\n",
    "                    g_time = g_time[indices]\n",
    "                    ###### \n",
    "                    \n",
    "                    bins_g = int(min([getNumBins(g_expected), getNumBins(g_observed), getNumBins(g_time)])/1)\n",
    "                    bins_c = int(min([getNumBins(c_expected), getNumBins(c_observed), getNumBins(c_time)])/1)\n",
    "#                     bins = min([bins_g, bins_c])\n",
    "                    if shuffle_test(g_time, g_observed, g_expected, measure='ti') <tol:\n",
    "                        \n",
    "                        g_I_ote.append(calc_TI(g_time, g_observed, g_expected ,bins_g))\n",
    "\n",
    "                        if shuffle_test(g_time, g_expected)< tol:\n",
    "                            g_I_te.append(calc_MI(g_time, g_expected,bins_g))\n",
    "                        else:\n",
    "                            g_I_te.append(0)\n",
    "\n",
    "                        if shuffle_test(g_observed, g_expected)<tol:\n",
    "                            g_I_oe.append(calc_MI(g_observed, g_expected,bins_g))\n",
    "                        else:\n",
    "                            g_I_oe.append(0)\n",
    "                                       \n",
    "                        if shuffle_test(g_observed, g_time) <tol:\n",
    "                            g_I_to.append(calc_MI(g_observed, g_time,bins_g))\n",
    "                        else:\n",
    "                            g_I_to.append(0)\n",
    "                        \n",
    "                        if shuffle_test(g_expected,g_time, g_observed, measure='cmi') <tol:\n",
    "                            g_I_t_gain.append(gain_inf(g_expected,g_time, g_observed, bins_g))\n",
    "                        else:\n",
    "                            g_I_t_gain.append(0)\n",
    "                        g_sqr.append(len(set(g_sqrArr)))\n",
    "                  \n",
    "                    if shuffle_test(c_time, c_observed, c_expected, measure='ti') < tol:         \n",
    "                \n",
    "                        c_I_ote.append(calc_TI(c_time, c_observed, c_expected ,bins_c))\n",
    "                        \n",
    "                        if shuffle_test(c_time, c_expected) < tol:\n",
    "                            c_I_te.append(calc_MI(c_time, c_expected,bins_c))\n",
    "                        else:\n",
    "                            c_I_te.append(0)\n",
    "\n",
    "                        if shuffle_test(c_observed, c_expected) < tol:\n",
    "                            c_I_oe.append(calc_MI(c_observed, c_expected,bins_c))\n",
    "                        else:\n",
    "                            c_I_oe.append(0)\n",
    "                        \n",
    "                        if shuffle_test(c_observed, c_time) < tol:\n",
    "                            c_I_to.append(calc_MI(c_observed, c_time,bins_c))\n",
    "                        else:\n",
    "                            c_I_to.append(0)\n",
    "                        \n",
    "                        if shuffle_test(c_expected, c_time, c_observed, measure='cmi') < tol:\n",
    "                            c_I_t_gain.append(gain_inf(c_expected,c_time, c_observed, bins_c))\n",
    "                        else:\n",
    "                            c_I_t_gain.append(0)\n",
    "                        \n",
    "                        c_sqr.append(len(set(c_sqrArr)))\n",
    "\n",
    "#                     fig, ax = plt.subplots(1,4)\n",
    "#                     dotsize =10\n",
    "\n",
    "\n",
    "#                     ax[0].scatter(c_expected, c_observed,c='k',s=dotsize)\n",
    "#                     ax[0].scatter(g_expected, g_observed,c='r',s=dotsize)\n",
    "#                     ax[1].scatter(c_expected, c_time,c='k',s=dotsize)\n",
    "#                     ax[1].scatter(g_expected, g_time,c='r',s=dotsize)\n",
    "#                     if (len(g_observed) == len(c_observed)):\n",
    "                        \n",
    "#                         ax[2].scatter(g_observed, g_observed-c_observed,c='g',s=dotsize)\n",
    "#                         ymax = max((ax[2].get_xlim()[1],ax[2].get_ylim()[1]))\n",
    "#                         ax[2].set_xlim(0,ymax)\n",
    "#                         ax[2].set_ylim(0,ymax)\n",
    "#                         excit_gabaz, inhib_derived = [], []\n",
    "#                         for i,j in zip(g_avgTrace, c_avgTrace):\n",
    "#                             excit_gabaz.append(np.max(i))\n",
    "#                             inhib_derived.append(np.max(i-j))\n",
    "#                         ax[3].scatter( excit_gabaz, inhib_derived, c='m',s=dotsize)\n",
    "#                         ymax = max((ax[3].get_xlim()[1],ax[3].get_ylim()[1]))\n",
    "#                         ax[3].set_xlim(0,ymax)\n",
    "#                         ax[3].set_ylim(0,ymax)\n",
    "                        \n",
    "#                     else:\n",
    "#                         fig.delaxes(ax[2])\n",
    "#                         fig.delaxes(ax[3])\n",
    "#                         plt.draw()\n",
    "#                     ax[0].set_title(\"{}, {}, {}, {}\".format(len(c_expected), len(g_expected), g_sqr[-1], c_sqr[-1]))\n",
    "#                     fig.set_figwidth(16)\n",
    "#                     plt.show()\n",
    "#                     plt.close()"
   ]
  },
  {
   "cell_type": "code",
   "execution_count": 317,
   "metadata": {},
   "outputs": [],
   "source": [
    "g_I_te, g_I_oe, g_I_ote, g_I_to, g_I_t_gain, g_sqr = np.array(g_I_te), np.array(g_I_oe), np.array(g_I_ote), np.array(g_I_to), np.array(g_I_t_gain), np.array(g_sqr)\n",
    "c_I_te, c_I_oe, c_I_ote, c_I_to, c_I_t_gain, c_sqr = np.array(c_I_te), np.array(c_I_oe), np.array(c_I_ote), np.array(c_I_to), np.array(c_I_t_gain), np.array(c_sqr)"
   ]
  },
  {
   "cell_type": "code",
   "execution_count": 318,
   "metadata": {},
   "outputs": [
    {
     "name": "stdout",
     "output_type": "stream",
     "text": [
      "RanksumsResult(statistic=-1.6358257627039396, pvalue=0.10187605853790069)\n",
      "RanksumsResult(statistic=0.0, pvalue=1.0)\n",
      "RanksumsResult(statistic=1.4433756729740643, pvalue=0.14891467317876572)\n",
      "RanksumsResult(statistic=-1.6839382851364084, pvalue=0.09219359636573936)\n",
      "RanksumsResult(statistic=1.2509255832441892, pvalue=0.2109616290358598)\n"
     ]
    }
   ],
   "source": [
    "print(ss.ranksums(g_I_te/g_I_ote, c_I_te/c_I_ote))\n",
    "print(ss.ranksums(g_I_to/g_I_ote, c_I_to/c_I_ote))\n",
    "print(ss.ranksums(g_I_oe/g_I_ote, c_I_oe/c_I_ote))\n",
    "print(ss.ranksums(g_I_t_gain/g_I_ote, c_I_t_gain/c_I_ote))\n",
    "print(ss.ranksums(g_I_ote, c_I_ote))"
   ]
  },
  {
   "cell_type": "code",
   "execution_count": 319,
   "metadata": {},
   "outputs": [],
   "source": [
    "g_I_te1, g_I_oe1, g_I_to1, g_I_t_gain1 = g_I_te/g_I_ote, g_I_oe/g_I_ote, g_I_to/g_I_ote, g_I_t_gain/g_I_ote\n",
    "c_I_te1, c_I_oe1, c_I_to1, c_I_t_gain1 = c_I_te/c_I_ote, c_I_oe/c_I_ote, c_I_to/c_I_ote, c_I_t_gain/c_I_ote"
   ]
  },
  {
   "cell_type": "code",
   "execution_count": 320,
   "metadata": {},
   "outputs": [],
   "source": [
    "g_I_te1, c_I_te1 = popZeros(g_I_te1,c_I_te1)\n",
    "g_I_oe1, c_I_oe1 = popZeros(g_I_oe1, c_I_oe1)\n",
    "g_I_to1, c_I_to1 = popZeros(g_I_to1, c_I_to1)\n",
    "g_I_t_gain1, c_I_t_gain1 = popZeros(g_I_t_gain1, c_I_t_gain1)"
   ]
  },
  {
   "cell_type": "code",
   "execution_count": 321,
   "metadata": {},
   "outputs": [
    {
     "data": {
      "image/png": "[encoded data removed]",
      "text/plain": [
       "<matplotlib.figure.Figure at 0x7fcfb8971510>"
      ]
     },
     "metadata": {},
     "output_type": "display_data"
    }
   ],
   "source": [
    "fig1, ax1 = plt.subplots()\n",
    "\n",
    "ax1.bar(2, np.mean(c_I_te1), color='None', edgecolor='k')\n",
    "ax1.plot([2]*len(c_I_te1), c_I_te1, 'o', alpha=1, markerfacecolor='k', markeredgecolor= None, markersize=4)\n",
    "# ax1.errorbar(2, np.mean(c_I_te1), yerr= np.std(c_I_te1))\n",
    "\n",
    "ax1.bar(3, np.mean(g_I_te1), edgecolor='r', color='None')\n",
    "ax1.plot([3]*len(g_I_te1), g_I_te1, 'o', alpha=1, markerfacecolor='r', markeredgecolor= None, markersize=4)\n",
    "# ax1.errorbar(3, np.mean(g_I_te1), yerr= np.std(g_I_te1), color='r')\n",
    "### Significance bars\n",
    "\n",
    "y, h, col = np.max([np.max(np.mean(g_I_te1)),np.max(np.mean(c_I_te1))])+ 0.2 ,0.1, 'k'\n",
    "# plt.plot([2,2, 3, 3], [y, y+h, y+h, y], lw=1.5, c=col)\n",
    "# plt.text((2+3)*.5, y+h, \"*\", ha='center', va='bottom', color=col)\n",
    "\n",
    "ax1.bar(5, np.mean(c_I_oe1), color='None', edgecolor='k')\n",
    "ax1.plot([5]*len(c_I_oe1), c_I_oe1, 'o', alpha=1, markerfacecolor='k', markeredgecolor= None, markersize=4)\n",
    "# ax1.errorbar(5, np.mean(c_I_oe1), yerr= np.std(c_I_oe1))\n",
    "\n",
    "ax1.bar(6, np.mean(g_I_oe1), color='None', edgecolor='r')\n",
    "ax1.plot([6]*len(g_I_oe1), g_I_oe1, 'o', alpha=1, markerfacecolor='r', markeredgecolor= None, markersize=4)\n",
    "# ax1.errorbar(6, np.mean(g_I_oe1), yerr= np.std(g_I_oe1), color='r')\n",
    "\n",
    "y, h, col = np.max([np.max(np.mean(g_I_oe1)),np.max(np.mean(c_I_oe1))])+ 0.2 ,0.1, 'k'\n",
    "# plt.plot([5,5, 6, 6], [y, y+h, y+h, y], lw=1.5, c=col)\n",
    "# plt.text((5+6)*.5, y+h, \"*\", ha='center', va='bottom', color=col)\n",
    "\n",
    "# ax1.bar(11, np.mean(g_I_ote))\n",
    "# ax1.errorbar(11,np.mean(g_I_ote), yerr= np.std(g_I_ote))\n",
    "\n",
    "# ax1.bar(12, np.mean(c_I_ote))\n",
    "# ax1.errorbar(12,np.mean(c_I_ote), yerr= np.std(c_I_ote))\n",
    "\n",
    "#ax1.bar(12, np.mean(c_I_to))\n",
    "#ax1.errorbar(12,np.mean(c_I_to), yerr= np.std(c_I_to))\n",
    "\n",
    "#ax1.bar(11, np.mean(g_I_to))\n",
    "#ax1.errorbar(11,np.mean(g_I_to), yerr= np.std(g_I_to))\n",
    "\n",
    "ax1.bar(8, np.mean(c_I_t_gain1), color='None', edgecolor='k')\n",
    "ax1.plot([8]*len(c_I_t_gain1), c_I_t_gain1, 'o', alpha=1, markerfacecolor='k', markeredgecolor= None, markersize=4)\n",
    "# ax1.errorbar(8,np.mean(c_I_t_gain1), yerr= np.std(c_I_t_gain1))\n",
    "\n",
    "ax1.bar(9, np.mean(g_I_t_gain1), edgecolor='r', color='None')\n",
    "ax1.plot([9]*len(g_I_t_gain1), g_I_t_gain1, 'o', alpha=1, markerfacecolor='r', markeredgecolor= None, markersize=4)\n",
    "# ax1.errorbar(9,np.mean(g_I_t_gain1), yerr= np.std(g_I_t_gain1), color='r')\n",
    "\n",
    "y, h, col = np.max([np.max(np.mean(g_I_t_gain1)),np.max(np.mean(c_I_t_gain1))])+ 0.3 ,0.1, 'k'\n",
    "# plt.plot([8,8, 9, 9], [y, y+h, y+h, y], lw=1.5, c=col)\n",
    "# plt.text((8+9)*.5, y+h, \"*\", ha='center', va='bottom', color=col)\n",
    "\n",
    "ax1.set_ylim(-0.05,1.5)\n",
    "\n",
    "indices = [2.5, 5.5, 8.5]\n",
    "ax1.set_xticks(indices)\n",
    "ax1.set_xticklabels(('Pk time', 'Pk amp', 'Gain\\nwith time'))\n",
    "\n",
    "ax1.set_ylabel(\"Norm. Information\")\n",
    "\n",
    "simpleaxis(ax1)\n",
    "fig1.set_figwidth(2)\n",
    "fig1.set_figheight(1.4)\n",
    "dump(fig1,file('figures/fig7/7e.pkl','wb'))\n",
    "plt.show()"
   ]
  },
  {
   "cell_type": "code",
   "execution_count": 322,
   "metadata": {},
   "outputs": [
    {
     "data": {
      "image/png": "[encoded data removed]",
      "text/plain": [
       "<matplotlib.figure.Figure at 0x7fce92d6e990>"
      ]
     },
     "metadata": {},
     "output_type": "display_data"
    }
   ],
   "source": [
    "fig1, ax1 = plt.subplots()\n",
    "\n",
    "ax1.bar(2, np.mean(c_I_ote), color='None', edgecolor='k')\n",
    "ax1.plot([2]*len(c_I_ote), c_I_ote, 'o', alpha=1, color='0.5', markerfacecolor='k', markeredgecolor= None, markersize=4)\n",
    "# ax1.errorbar(2, np.mean(c_I_te1), yerr= np.std(c_I_te1))\n",
    "\n",
    "ax1.bar(3, np.mean(g_I_ote), edgecolor='r', color='None')\n",
    "ax1.plot([3]*len(g_I_ote), g_I_ote, 'o', alpha=1, color='0.5', markerfacecolor='r', markeredgecolor= None, markersize=4)\n",
    "# ax1.errorbar(3, np.mean(g_I_te1), yerr= np.std(g_I_te1), color='r')\n",
    "### Significance bars\n",
    "\n",
    "# y, h, col = np.max([np.max(np.mean(g_I_ote)),np.max(np.mean(c_I_ote))])+ 0.4 ,0.1, 'k'\n",
    "# plt.plot([2,2, 3, 3], [y-2*h, y+h, y+h, y], lw=1.5, c=col)\n",
    "# plt.text((2+3)*.5, y+1.5*h, \"n.s.\", ha='center', va='bottom', color=col)\n",
    "ax1.set_ylim(-0.05,1.8)\n",
    "ax1.set_xlim(1,4)\n",
    "indices = [2,3]\n",
    "ax1.set_xticks(indices)\n",
    "ax1.set_xticklabels(['C', 'G'])\n",
    "\n",
    "ax1.set_ylabel(\"Tot. Inf. (bits)\")\n",
    "\n",
    "simpleaxis(ax1)\n",
    "fig1.set_figwidth(0.7)\n",
    "fig1.set_figheight(1.4)\n",
    "dump(fig1,file('figures/fig7/7f_hist.pkl','wb'))\n",
    "plt.show()"
   ]
  },
  {
   "cell_type": "code",
   "execution_count": 308,
   "metadata": {},
   "outputs": [
    {
     "data": {
      "text/plain": [
       "7"
      ]
     },
     "execution_count": 308,
     "metadata": {},
     "output_type": "execute_result"
    }
   ],
   "source": [
    "len(c_I_ote)"
   ]
  },
  {
   "cell_type": "code",
   "execution_count": 217,
   "metadata": {},
   "outputs": [
    {
     "data": {
      "text/plain": [
       "(array([0.13468534, 0.        , 0.17870197, 0.11208996, 0.        ,\n",
       "        0.        ]),\n",
       " array([0.91349812, 0.31942374, 0.15738151, 0.        , 0.67707076,\n",
       "        0.40495497]))"
      ]
     },
     "execution_count": 217,
     "metadata": {},
     "output_type": "execute_result"
    }
   ],
   "source": [
    "h, i"
   ]
  },
  {
   "cell_type": "code",
   "execution_count": 152,
   "metadata": {},
   "outputs": [
    {
     "data": {
      "image/png": "[encoded data removed]",
      "text/plain": [
       "<matplotlib.figure.Figure at 0x7fcfb8a3b550>"
      ]
     },
     "metadata": {},
     "output_type": "display_data"
    }
   ],
   "source": [
    "# indices = [1,2,3]\n",
    "fig, ax = plt.subplots()\n",
    "\n",
    "# , c_I_te/c_I_ote\n",
    "\n",
    "for j in g_I_te/g_I_ote:\n",
    "    ax.plot(2, j, 'o-', alpha=1, color='0.5', markerfacecolor='red',markersize=6) \n",
    "for j in c_I_te/c_I_ote:\n",
    "    ax.plot(3, j, 'o-', alpha=1, color='0.5', markerfacecolor='k',markersize=6)\n",
    "\n",
    "for j in g_I_to/g_I_ote:\n",
    "    ax.plot(5, j, 'o-', alpha=1, color='0.5', markerfacecolor='red',markersize=6)\n",
    "for j in c_I_to/c_I_ote:\n",
    "    ax.plot(6, j, 'o-', alpha=1, color='0.5', markerfacecolor='k',markersize=6)\n",
    "\n",
    "for j in g_I_t_gain/g_I_ote:\n",
    "    ax.plot(8, j, 'o-', alpha=1, color='0.5', markerfacecolor='red',markersize=6)\n",
    "for j in c_I_t_gain/c_I_ote:\n",
    "    ax.plot(9, j, 'o-', alpha=1, color='0.5', markerfacecolor='k',markersize=6)\n",
    "    \n",
    "# ax.plot(indices, [np.average(dn_gamma), np.average(gaba_gamma)],'o-', alpha=1., color='0',markersize=6)\n",
    "ax.set_xlim((0.5,9.5))\n",
    "# ax.set_ylim(ymin=-4,ymax=70)\n",
    "# ax.set_ylabel(\"$\\\\gamma$\")\n",
    "# ax.set_xticks(indices)\n",
    "# ax.set_xticklabels(('Control','GABAzine'))\n",
    "# y, h, col = np.max([np.max(gaba_gamma),np.max(dn_gamma)])+ 8 , 2, 'k'\n",
    "# plt.plot([1,1, 2, 2], [y, y+h, y+h, y], lw=1.5, c=col)\n",
    "# plt.text((1+2)*.5, y+h, \"*\", ha='center', va='bottom', color=col)\n",
    "indices = [2.5, 5.5, 8.5]\n",
    "ax.set_xticks(indices)\n",
    "ax.set_xticklabels(('Pk time', 'Pk amp', 'Gain\\nwith time'))\n",
    "\n",
    "simpleaxis(ax)\n",
    "fig.set_figwidth(1.5)\n",
    "fig.set_figheight(1.5)\n",
    "# dump(fig,file('figures/fig5/5c.pkl','wb'))\n",
    "plt.show()"
   ]
  },
  {
   "cell_type": "code",
   "execution_count": 131,
   "metadata": {},
   "outputs": [
    {
     "data": {
      "text/plain": [
       "(array([0.13835872, 0.        , 0.18419424, 0.25666978, 0.11369199,\n",
       "        0.20700743, 0.        ]),\n",
       " array([0.90177841, 0.31046939, 0.16548925, 0.18214648, 0.        ,\n",
       "        0.66348861, 0.37100019]))"
      ]
     },
     "execution_count": 131,
     "metadata": {},
     "output_type": "execute_result"
    }
   ],
   "source": [
    "g_I_te/g_I_ote, c_I_te/c_I_ote"
   ]
  },
  {
   "cell_type": "code",
   "execution_count": 68,
   "metadata": {},
   "outputs": [
    {
     "ename": "KeyboardInterrupt",
     "evalue": "",
     "output_type": "error",
     "traceback": [
      "\u001b[0;31m---------------------------------------------------------------------------\u001b[0m",
      "\u001b[0;31mKeyboardInterrupt\u001b[0m                         Traceback (most recent call last)",
      "\u001b[0;32m<ipython-input-68-09963cc1942c>\u001b[0m in \u001b[0;36m<module>\u001b[0;34m()\u001b[0m\n\u001b[1;32m      1\u001b[0m \u001b[0;32mwith\u001b[0m \u001b[0mopen\u001b[0m\u001b[0;34m(\u001b[0m\u001b[0;34m'current_clamp_with_GABA.pkl'\u001b[0m\u001b[0;34m,\u001b[0m \u001b[0;34m'wb'\u001b[0m\u001b[0;34m)\u001b[0m \u001b[0;32mas\u001b[0m \u001b[0mfp\u001b[0m\u001b[0;34m:\u001b[0m\u001b[0;34m\u001b[0m\u001b[0m\n\u001b[0;32m----> 2\u001b[0;31m     \u001b[0mpickle\u001b[0m\u001b[0;34m.\u001b[0m\u001b[0mdump\u001b[0m\u001b[0;34m(\u001b[0m\u001b[0mneurons\u001b[0m\u001b[0;34m,\u001b[0m \u001b[0mfp\u001b[0m\u001b[0;34m)\u001b[0m\u001b[0;34m\u001b[0m\u001b[0m\n\u001b[0m",
      "\u001b[0;32m/usr/lib/python2.7/pickle.pyc\u001b[0m in \u001b[0;36mdump\u001b[0;34m(obj, file, protocol)\u001b[0m\n\u001b[1;32m   1374\u001b[0m \u001b[0;34m\u001b[0m\u001b[0m\n\u001b[1;32m   1375\u001b[0m \u001b[0;32mdef\u001b[0m \u001b[0mdump\u001b[0m\u001b[0;34m(\u001b[0m\u001b[0mobj\u001b[0m\u001b[0;34m,\u001b[0m \u001b[0mfile\u001b[0m\u001b[0;34m,\u001b[0m \u001b[0mprotocol\u001b[0m\u001b[0;34m=\u001b[0m\u001b[0mNone\u001b[0m\u001b[0;34m)\u001b[0m\u001b[0;34m:\u001b[0m\u001b[0;34m\u001b[0m\u001b[0m\n\u001b[0;32m-> 1376\u001b[0;31m     \u001b[0mPickler\u001b[0m\u001b[0;34m(\u001b[0m\u001b[0mfile\u001b[0m\u001b[0;34m,\u001b[0m \u001b[0mprotocol\u001b[0m\u001b[0;34m)\u001b[0m\u001b[0;34m.\u001b[0m\u001b[0mdump\u001b[0m\u001b[0;34m(\u001b[0m\u001b[0mobj\u001b[0m\u001b[0;34m)\u001b[0m\u001b[0;34m\u001b[0m\u001b[0m\n\u001b[0m\u001b[1;32m   1377\u001b[0m \u001b[0;34m\u001b[0m\u001b[0m\n\u001b[1;32m   1378\u001b[0m \u001b[0;32mdef\u001b[0m \u001b[0mdumps\u001b[0m\u001b[0;34m(\u001b[0m\u001b[0mobj\u001b[0m\u001b[0;34m,\u001b[0m \u001b[0mprotocol\u001b[0m\u001b[0;34m=\u001b[0m\u001b[0mNone\u001b[0m\u001b[0;34m)\u001b[0m\u001b[0;34m:\u001b[0m\u001b[0;34m\u001b[0m\u001b[0m\n",
      "\u001b[0;32m/usr/lib/python2.7/pickle.pyc\u001b[0m in \u001b[0;36mdump\u001b[0;34m(self, obj)\u001b[0m\n\u001b[1;32m    222\u001b[0m         \u001b[0;32mif\u001b[0m \u001b[0mself\u001b[0m\u001b[0;34m.\u001b[0m\u001b[0mproto\u001b[0m \u001b[0;34m>=\u001b[0m \u001b[0;36m2\u001b[0m\u001b[0;34m:\u001b[0m\u001b[0;34m\u001b[0m\u001b[0m\n\u001b[1;32m    223\u001b[0m             \u001b[0mself\u001b[0m\u001b[0;34m.\u001b[0m\u001b[0mwrite\u001b[0m\u001b[0;34m(\u001b[0m\u001b[0mPROTO\u001b[0m \u001b[0;34m+\u001b[0m \u001b[0mchr\u001b[0m\u001b[0;34m(\u001b[0m\u001b[0mself\u001b[0m\u001b[0;34m.\u001b[0m\u001b[0mproto\u001b[0m\u001b[0;34m)\u001b[0m\u001b[0;34m)\u001b[0m\u001b[0;34m\u001b[0m\u001b[0m\n\u001b[0;32m--> 224\u001b[0;31m         \u001b[0mself\u001b[0m\u001b[0;34m.\u001b[0m\u001b[0msave\u001b[0m\u001b[0;34m(\u001b[0m\u001b[0mobj\u001b[0m\u001b[0;34m)\u001b[0m\u001b[0;34m\u001b[0m\u001b[0m\n\u001b[0m\u001b[1;32m    225\u001b[0m         \u001b[0mself\u001b[0m\u001b[0;34m.\u001b[0m\u001b[0mwrite\u001b[0m\u001b[0;34m(\u001b[0m\u001b[0mSTOP\u001b[0m\u001b[0;34m)\u001b[0m\u001b[0;34m\u001b[0m\u001b[0m\n\u001b[1;32m    226\u001b[0m \u001b[0;34m\u001b[0m\u001b[0m\n",
      "\u001b[0;32m/usr/lib/python2.7/pickle.pyc\u001b[0m in \u001b[0;36msave\u001b[0;34m(self, obj)\u001b[0m\n\u001b[1;32m    284\u001b[0m         \u001b[0mf\u001b[0m \u001b[0;34m=\u001b[0m \u001b[0mself\u001b[0m\u001b[0;34m.\u001b[0m\u001b[0mdispatch\u001b[0m\u001b[0;34m.\u001b[0m\u001b[0mget\u001b[0m\u001b[0;34m(\u001b[0m\u001b[0mt\u001b[0m\u001b[0;34m)\u001b[0m\u001b[0;34m\u001b[0m\u001b[0m\n\u001b[1;32m    285\u001b[0m         \u001b[0;32mif\u001b[0m \u001b[0mf\u001b[0m\u001b[0;34m:\u001b[0m\u001b[0;34m\u001b[0m\u001b[0m\n\u001b[0;32m--> 286\u001b[0;31m             \u001b[0mf\u001b[0m\u001b[0;34m(\u001b[0m\u001b[0mself\u001b[0m\u001b[0;34m,\u001b[0m \u001b[0mobj\u001b[0m\u001b[0;34m)\u001b[0m \u001b[0;31m# Call unbound method with explicit self\u001b[0m\u001b[0;34m\u001b[0m\u001b[0m\n\u001b[0m\u001b[1;32m    287\u001b[0m             \u001b[0;32mreturn\u001b[0m\u001b[0;34m\u001b[0m\u001b[0m\n\u001b[1;32m    288\u001b[0m \u001b[0;34m\u001b[0m\u001b[0m\n",
      "\u001b[0;32m/usr/lib/python2.7/pickle.pyc\u001b[0m in \u001b[0;36msave_dict\u001b[0;34m(self, obj)\u001b[0m\n\u001b[1;32m    653\u001b[0m \u001b[0;34m\u001b[0m\u001b[0m\n\u001b[1;32m    654\u001b[0m         \u001b[0mself\u001b[0m\u001b[0;34m.\u001b[0m\u001b[0mmemoize\u001b[0m\u001b[0;34m(\u001b[0m\u001b[0mobj\u001b[0m\u001b[0;34m)\u001b[0m\u001b[0;34m\u001b[0m\u001b[0m\n\u001b[0;32m--> 655\u001b[0;31m         \u001b[0mself\u001b[0m\u001b[0;34m.\u001b[0m\u001b[0m_batch_setitems\u001b[0m\u001b[0;34m(\u001b[0m\u001b[0mobj\u001b[0m\u001b[0;34m.\u001b[0m\u001b[0miteritems\u001b[0m\u001b[0;34m(\u001b[0m\u001b[0;34m)\u001b[0m\u001b[0;34m)\u001b[0m\u001b[0;34m\u001b[0m\u001b[0m\n\u001b[0m\u001b[1;32m    656\u001b[0m \u001b[0;34m\u001b[0m\u001b[0m\n\u001b[1;32m    657\u001b[0m     \u001b[0mdispatch\u001b[0m\u001b[0;34m[\u001b[0m\u001b[0mDictionaryType\u001b[0m\u001b[0;34m]\u001b[0m \u001b[0;34m=\u001b[0m \u001b[0msave_dict\u001b[0m\u001b[0;34m\u001b[0m\u001b[0m\n",
      "\u001b[0;32m/usr/lib/python2.7/pickle.pyc\u001b[0m in \u001b[0;36m_batch_setitems\u001b[0;34m(self, items)\u001b[0m\n\u001b[1;32m    667\u001b[0m             \u001b[0;32mfor\u001b[0m \u001b[0mk\u001b[0m\u001b[0;34m,\u001b[0m \u001b[0mv\u001b[0m \u001b[0;32min\u001b[0m \u001b[0mitems\u001b[0m\u001b[0;34m:\u001b[0m\u001b[0;34m\u001b[0m\u001b[0m\n\u001b[1;32m    668\u001b[0m                 \u001b[0msave\u001b[0m\u001b[0;34m(\u001b[0m\u001b[0mk\u001b[0m\u001b[0;34m)\u001b[0m\u001b[0;34m\u001b[0m\u001b[0m\n\u001b[0;32m--> 669\u001b[0;31m                 \u001b[0msave\u001b[0m\u001b[0;34m(\u001b[0m\u001b[0mv\u001b[0m\u001b[0;34m)\u001b[0m\u001b[0;34m\u001b[0m\u001b[0m\n\u001b[0m\u001b[1;32m    670\u001b[0m                 \u001b[0mwrite\u001b[0m\u001b[0;34m(\u001b[0m\u001b[0mSETITEM\u001b[0m\u001b[0;34m)\u001b[0m\u001b[0;34m\u001b[0m\u001b[0m\n\u001b[1;32m    671\u001b[0m             \u001b[0;32mreturn\u001b[0m\u001b[0;34m\u001b[0m\u001b[0m\n",
      "\u001b[0;32m/usr/lib/python2.7/pickle.pyc\u001b[0m in \u001b[0;36msave\u001b[0;34m(self, obj)\u001b[0m\n\u001b[1;32m    284\u001b[0m         \u001b[0mf\u001b[0m \u001b[0;34m=\u001b[0m \u001b[0mself\u001b[0m\u001b[0;34m.\u001b[0m\u001b[0mdispatch\u001b[0m\u001b[0;34m.\u001b[0m\u001b[0mget\u001b[0m\u001b[0;34m(\u001b[0m\u001b[0mt\u001b[0m\u001b[0;34m)\u001b[0m\u001b[0;34m\u001b[0m\u001b[0m\n\u001b[1;32m    285\u001b[0m         \u001b[0;32mif\u001b[0m \u001b[0mf\u001b[0m\u001b[0;34m:\u001b[0m\u001b[0;34m\u001b[0m\u001b[0m\n\u001b[0;32m--> 286\u001b[0;31m             \u001b[0mf\u001b[0m\u001b[0;34m(\u001b[0m\u001b[0mself\u001b[0m\u001b[0;34m,\u001b[0m \u001b[0mobj\u001b[0m\u001b[0;34m)\u001b[0m \u001b[0;31m# Call unbound method with explicit self\u001b[0m\u001b[0;34m\u001b[0m\u001b[0m\n\u001b[0m\u001b[1;32m    287\u001b[0m             \u001b[0;32mreturn\u001b[0m\u001b[0;34m\u001b[0m\u001b[0m\n\u001b[1;32m    288\u001b[0m \u001b[0;34m\u001b[0m\u001b[0m\n",
      "\u001b[0;32m/usr/lib/python2.7/pickle.pyc\u001b[0m in \u001b[0;36msave_inst\u001b[0;34m(self, obj)\u001b[0m\n\u001b[1;32m    729\u001b[0m             \u001b[0mstuff\u001b[0m \u001b[0;34m=\u001b[0m \u001b[0mgetstate\u001b[0m\u001b[0;34m(\u001b[0m\u001b[0;34m)\u001b[0m\u001b[0;34m\u001b[0m\u001b[0m\n\u001b[1;32m    730\u001b[0m             \u001b[0m_keep_alive\u001b[0m\u001b[0;34m(\u001b[0m\u001b[0mstuff\u001b[0m\u001b[0;34m,\u001b[0m \u001b[0mmemo\u001b[0m\u001b[0;34m)\u001b[0m\u001b[0;34m\u001b[0m\u001b[0m\n\u001b[0;32m--> 731\u001b[0;31m         \u001b[0msave\u001b[0m\u001b[0;34m(\u001b[0m\u001b[0mstuff\u001b[0m\u001b[0;34m)\u001b[0m\u001b[0;34m\u001b[0m\u001b[0m\n\u001b[0m\u001b[1;32m    732\u001b[0m         \u001b[0mwrite\u001b[0m\u001b[0;34m(\u001b[0m\u001b[0mBUILD\u001b[0m\u001b[0;34m)\u001b[0m\u001b[0;34m\u001b[0m\u001b[0m\n\u001b[1;32m    733\u001b[0m \u001b[0;34m\u001b[0m\u001b[0m\n",
      "\u001b[0;32m/usr/lib/python2.7/pickle.pyc\u001b[0m in \u001b[0;36msave\u001b[0;34m(self, obj)\u001b[0m\n\u001b[1;32m    284\u001b[0m         \u001b[0mf\u001b[0m \u001b[0;34m=\u001b[0m \u001b[0mself\u001b[0m\u001b[0;34m.\u001b[0m\u001b[0mdispatch\u001b[0m\u001b[0;34m.\u001b[0m\u001b[0mget\u001b[0m\u001b[0;34m(\u001b[0m\u001b[0mt\u001b[0m\u001b[0;34m)\u001b[0m\u001b[0;34m\u001b[0m\u001b[0m\n\u001b[1;32m    285\u001b[0m         \u001b[0;32mif\u001b[0m \u001b[0mf\u001b[0m\u001b[0;34m:\u001b[0m\u001b[0;34m\u001b[0m\u001b[0m\n\u001b[0;32m--> 286\u001b[0;31m             \u001b[0mf\u001b[0m\u001b[0;34m(\u001b[0m\u001b[0mself\u001b[0m\u001b[0;34m,\u001b[0m \u001b[0mobj\u001b[0m\u001b[0;34m)\u001b[0m \u001b[0;31m# Call unbound method with explicit self\u001b[0m\u001b[0;34m\u001b[0m\u001b[0m\n\u001b[0m\u001b[1;32m    287\u001b[0m             \u001b[0;32mreturn\u001b[0m\u001b[0;34m\u001b[0m\u001b[0m\n\u001b[1;32m    288\u001b[0m \u001b[0;34m\u001b[0m\u001b[0m\n",
      "\u001b[0;32m/usr/lib/python2.7/pickle.pyc\u001b[0m in \u001b[0;36msave_dict\u001b[0;34m(self, obj)\u001b[0m\n\u001b[1;32m    653\u001b[0m \u001b[0;34m\u001b[0m\u001b[0m\n\u001b[1;32m    654\u001b[0m         \u001b[0mself\u001b[0m\u001b[0;34m.\u001b[0m\u001b[0mmemoize\u001b[0m\u001b[0;34m(\u001b[0m\u001b[0mobj\u001b[0m\u001b[0;34m)\u001b[0m\u001b[0;34m\u001b[0m\u001b[0m\n\u001b[0;32m--> 655\u001b[0;31m         \u001b[0mself\u001b[0m\u001b[0;34m.\u001b[0m\u001b[0m_batch_setitems\u001b[0m\u001b[0;34m(\u001b[0m\u001b[0mobj\u001b[0m\u001b[0;34m.\u001b[0m\u001b[0miteritems\u001b[0m\u001b[0;34m(\u001b[0m\u001b[0;34m)\u001b[0m\u001b[0;34m)\u001b[0m\u001b[0;34m\u001b[0m\u001b[0m\n\u001b[0m\u001b[1;32m    656\u001b[0m \u001b[0;34m\u001b[0m\u001b[0m\n\u001b[1;32m    657\u001b[0m     \u001b[0mdispatch\u001b[0m\u001b[0;34m[\u001b[0m\u001b[0mDictionaryType\u001b[0m\u001b[0;34m]\u001b[0m \u001b[0;34m=\u001b[0m \u001b[0msave_dict\u001b[0m\u001b[0;34m\u001b[0m\u001b[0m\n",
      "\u001b[0;32m/usr/lib/python2.7/pickle.pyc\u001b[0m in \u001b[0;36m_batch_setitems\u001b[0;34m(self, items)\u001b[0m\n\u001b[1;32m    667\u001b[0m             \u001b[0;32mfor\u001b[0m \u001b[0mk\u001b[0m\u001b[0;34m,\u001b[0m \u001b[0mv\u001b[0m \u001b[0;32min\u001b[0m \u001b[0mitems\u001b[0m\u001b[0;34m:\u001b[0m\u001b[0;34m\u001b[0m\u001b[0m\n\u001b[1;32m    668\u001b[0m                 \u001b[0msave\u001b[0m\u001b[0;34m(\u001b[0m\u001b[0mk\u001b[0m\u001b[0;34m)\u001b[0m\u001b[0;34m\u001b[0m\u001b[0m\n\u001b[0;32m--> 669\u001b[0;31m                 \u001b[0msave\u001b[0m\u001b[0;34m(\u001b[0m\u001b[0mv\u001b[0m\u001b[0;34m)\u001b[0m\u001b[0;34m\u001b[0m\u001b[0m\n\u001b[0m\u001b[1;32m    670\u001b[0m                 \u001b[0mwrite\u001b[0m\u001b[0;34m(\u001b[0m\u001b[0mSETITEM\u001b[0m\u001b[0;34m)\u001b[0m\u001b[0;34m\u001b[0m\u001b[0m\n\u001b[1;32m    671\u001b[0m             \u001b[0;32mreturn\u001b[0m\u001b[0;34m\u001b[0m\u001b[0m\n",
      "\u001b[0;32m/usr/lib/python2.7/pickle.pyc\u001b[0m in \u001b[0;36msave\u001b[0;34m(self, obj)\u001b[0m\n\u001b[1;32m    284\u001b[0m         \u001b[0mf\u001b[0m \u001b[0;34m=\u001b[0m \u001b[0mself\u001b[0m\u001b[0;34m.\u001b[0m\u001b[0mdispatch\u001b[0m\u001b[0;34m.\u001b[0m\u001b[0mget\u001b[0m\u001b[0;34m(\u001b[0m\u001b[0mt\u001b[0m\u001b[0;34m)\u001b[0m\u001b[0;34m\u001b[0m\u001b[0m\n\u001b[1;32m    285\u001b[0m         \u001b[0;32mif\u001b[0m \u001b[0mf\u001b[0m\u001b[0;34m:\u001b[0m\u001b[0;34m\u001b[0m\u001b[0m\n\u001b[0;32m--> 286\u001b[0;31m             \u001b[0mf\u001b[0m\u001b[0;34m(\u001b[0m\u001b[0mself\u001b[0m\u001b[0;34m,\u001b[0m \u001b[0mobj\u001b[0m\u001b[0;34m)\u001b[0m \u001b[0;31m# Call unbound method with explicit self\u001b[0m\u001b[0;34m\u001b[0m\u001b[0m\n\u001b[0m\u001b[1;32m    287\u001b[0m             \u001b[0;32mreturn\u001b[0m\u001b[0;34m\u001b[0m\u001b[0m\n\u001b[1;32m    288\u001b[0m \u001b[0;34m\u001b[0m\u001b[0m\n",
      "\u001b[0;32m/usr/lib/python2.7/pickle.pyc\u001b[0m in \u001b[0;36msave_dict\u001b[0;34m(self, obj)\u001b[0m\n\u001b[1;32m    653\u001b[0m \u001b[0;34m\u001b[0m\u001b[0m\n\u001b[1;32m    654\u001b[0m         \u001b[0mself\u001b[0m\u001b[0;34m.\u001b[0m\u001b[0mmemoize\u001b[0m\u001b[0;34m(\u001b[0m\u001b[0mobj\u001b[0m\u001b[0;34m)\u001b[0m\u001b[0;34m\u001b[0m\u001b[0m\n\u001b[0;32m--> 655\u001b[0;31m         \u001b[0mself\u001b[0m\u001b[0;34m.\u001b[0m\u001b[0m_batch_setitems\u001b[0m\u001b[0;34m(\u001b[0m\u001b[0mobj\u001b[0m\u001b[0;34m.\u001b[0m\u001b[0miteritems\u001b[0m\u001b[0;34m(\u001b[0m\u001b[0;34m)\u001b[0m\u001b[0;34m)\u001b[0m\u001b[0;34m\u001b[0m\u001b[0m\n\u001b[0m\u001b[1;32m    656\u001b[0m \u001b[0;34m\u001b[0m\u001b[0m\n\u001b[1;32m    657\u001b[0m     \u001b[0mdispatch\u001b[0m\u001b[0;34m[\u001b[0m\u001b[0mDictionaryType\u001b[0m\u001b[0;34m]\u001b[0m \u001b[0;34m=\u001b[0m \u001b[0msave_dict\u001b[0m\u001b[0;34m\u001b[0m\u001b[0m\n",
      "\u001b[0;32m/usr/lib/python2.7/pickle.pyc\u001b[0m in \u001b[0;36m_batch_setitems\u001b[0;34m(self, items)\u001b[0m\n\u001b[1;32m    667\u001b[0m             \u001b[0;32mfor\u001b[0m \u001b[0mk\u001b[0m\u001b[0;34m,\u001b[0m \u001b[0mv\u001b[0m \u001b[0;32min\u001b[0m \u001b[0mitems\u001b[0m\u001b[0;34m:\u001b[0m\u001b[0;34m\u001b[0m\u001b[0m\n\u001b[1;32m    668\u001b[0m                 \u001b[0msave\u001b[0m\u001b[0;34m(\u001b[0m\u001b[0mk\u001b[0m\u001b[0;34m)\u001b[0m\u001b[0;34m\u001b[0m\u001b[0m\n\u001b[0;32m--> 669\u001b[0;31m                 \u001b[0msave\u001b[0m\u001b[0;34m(\u001b[0m\u001b[0mv\u001b[0m\u001b[0;34m)\u001b[0m\u001b[0;34m\u001b[0m\u001b[0m\n\u001b[0m\u001b[1;32m    670\u001b[0m                 \u001b[0mwrite\u001b[0m\u001b[0;34m(\u001b[0m\u001b[0mSETITEM\u001b[0m\u001b[0;34m)\u001b[0m\u001b[0;34m\u001b[0m\u001b[0m\n\u001b[1;32m    671\u001b[0m             \u001b[0;32mreturn\u001b[0m\u001b[0;34m\u001b[0m\u001b[0m\n",
      "\u001b[0;32m/usr/lib/python2.7/pickle.pyc\u001b[0m in \u001b[0;36msave\u001b[0;34m(self, obj)\u001b[0m\n\u001b[1;32m    284\u001b[0m         \u001b[0mf\u001b[0m \u001b[0;34m=\u001b[0m \u001b[0mself\u001b[0m\u001b[0;34m.\u001b[0m\u001b[0mdispatch\u001b[0m\u001b[0;34m.\u001b[0m\u001b[0mget\u001b[0m\u001b[0;34m(\u001b[0m\u001b[0mt\u001b[0m\u001b[0;34m)\u001b[0m\u001b[0;34m\u001b[0m\u001b[0m\n\u001b[1;32m    285\u001b[0m         \u001b[0;32mif\u001b[0m \u001b[0mf\u001b[0m\u001b[0;34m:\u001b[0m\u001b[0;34m\u001b[0m\u001b[0m\n\u001b[0;32m--> 286\u001b[0;31m             \u001b[0mf\u001b[0m\u001b[0;34m(\u001b[0m\u001b[0mself\u001b[0m\u001b[0;34m,\u001b[0m \u001b[0mobj\u001b[0m\u001b[0;34m)\u001b[0m \u001b[0;31m# Call unbound method with explicit self\u001b[0m\u001b[0;34m\u001b[0m\u001b[0m\n\u001b[0m\u001b[1;32m    287\u001b[0m             \u001b[0;32mreturn\u001b[0m\u001b[0;34m\u001b[0m\u001b[0m\n\u001b[1;32m    288\u001b[0m \u001b[0;34m\u001b[0m\u001b[0m\n",
      "\u001b[0;32m/usr/lib/python2.7/pickle.pyc\u001b[0m in \u001b[0;36msave_dict\u001b[0;34m(self, obj)\u001b[0m\n\u001b[1;32m    653\u001b[0m \u001b[0;34m\u001b[0m\u001b[0m\n\u001b[1;32m    654\u001b[0m         \u001b[0mself\u001b[0m\u001b[0;34m.\u001b[0m\u001b[0mmemoize\u001b[0m\u001b[0;34m(\u001b[0m\u001b[0mobj\u001b[0m\u001b[0;34m)\u001b[0m\u001b[0;34m\u001b[0m\u001b[0m\n\u001b[0;32m--> 655\u001b[0;31m         \u001b[0mself\u001b[0m\u001b[0;34m.\u001b[0m\u001b[0m_batch_setitems\u001b[0m\u001b[0;34m(\u001b[0m\u001b[0mobj\u001b[0m\u001b[0;34m.\u001b[0m\u001b[0miteritems\u001b[0m\u001b[0;34m(\u001b[0m\u001b[0;34m)\u001b[0m\u001b[0;34m)\u001b[0m\u001b[0;34m\u001b[0m\u001b[0m\n\u001b[0m\u001b[1;32m    656\u001b[0m \u001b[0;34m\u001b[0m\u001b[0m\n\u001b[1;32m    657\u001b[0m     \u001b[0mdispatch\u001b[0m\u001b[0;34m[\u001b[0m\u001b[0mDictionaryType\u001b[0m\u001b[0;34m]\u001b[0m \u001b[0;34m=\u001b[0m \u001b[0msave_dict\u001b[0m\u001b[0;34m\u001b[0m\u001b[0m\n",
      "\u001b[0;32m/usr/lib/python2.7/pickle.pyc\u001b[0m in \u001b[0;36m_batch_setitems\u001b[0;34m(self, items)\u001b[0m\n\u001b[1;32m    667\u001b[0m             \u001b[0;32mfor\u001b[0m \u001b[0mk\u001b[0m\u001b[0;34m,\u001b[0m \u001b[0mv\u001b[0m \u001b[0;32min\u001b[0m \u001b[0mitems\u001b[0m\u001b[0;34m:\u001b[0m\u001b[0;34m\u001b[0m\u001b[0m\n\u001b[1;32m    668\u001b[0m                 \u001b[0msave\u001b[0m\u001b[0;34m(\u001b[0m\u001b[0mk\u001b[0m\u001b[0;34m)\u001b[0m\u001b[0;34m\u001b[0m\u001b[0m\n\u001b[0;32m--> 669\u001b[0;31m                 \u001b[0msave\u001b[0m\u001b[0;34m(\u001b[0m\u001b[0mv\u001b[0m\u001b[0;34m)\u001b[0m\u001b[0;34m\u001b[0m\u001b[0m\n\u001b[0m\u001b[1;32m    670\u001b[0m                 \u001b[0mwrite\u001b[0m\u001b[0;34m(\u001b[0m\u001b[0mSETITEM\u001b[0m\u001b[0;34m)\u001b[0m\u001b[0;34m\u001b[0m\u001b[0m\n\u001b[1;32m    671\u001b[0m             \u001b[0;32mreturn\u001b[0m\u001b[0;34m\u001b[0m\u001b[0m\n",
      "\u001b[0;32m/usr/lib/python2.7/pickle.pyc\u001b[0m in \u001b[0;36msave\u001b[0;34m(self, obj)\u001b[0m\n\u001b[1;32m    284\u001b[0m         \u001b[0mf\u001b[0m \u001b[0;34m=\u001b[0m \u001b[0mself\u001b[0m\u001b[0;34m.\u001b[0m\u001b[0mdispatch\u001b[0m\u001b[0;34m.\u001b[0m\u001b[0mget\u001b[0m\u001b[0;34m(\u001b[0m\u001b[0mt\u001b[0m\u001b[0;34m)\u001b[0m\u001b[0;34m\u001b[0m\u001b[0m\n\u001b[1;32m    285\u001b[0m         \u001b[0;32mif\u001b[0m \u001b[0mf\u001b[0m\u001b[0;34m:\u001b[0m\u001b[0;34m\u001b[0m\u001b[0m\n\u001b[0;32m--> 286\u001b[0;31m             \u001b[0mf\u001b[0m\u001b[0;34m(\u001b[0m\u001b[0mself\u001b[0m\u001b[0;34m,\u001b[0m \u001b[0mobj\u001b[0m\u001b[0;34m)\u001b[0m \u001b[0;31m# Call unbound method with explicit self\u001b[0m\u001b[0;34m\u001b[0m\u001b[0m\n\u001b[0m\u001b[1;32m    287\u001b[0m             \u001b[0;32mreturn\u001b[0m\u001b[0;34m\u001b[0m\u001b[0m\n\u001b[1;32m    288\u001b[0m \u001b[0;34m\u001b[0m\u001b[0m\n",
      "\u001b[0;32m/usr/lib/python2.7/pickle.pyc\u001b[0m in \u001b[0;36msave_inst\u001b[0;34m(self, obj)\u001b[0m\n\u001b[1;32m    729\u001b[0m             \u001b[0mstuff\u001b[0m \u001b[0;34m=\u001b[0m \u001b[0mgetstate\u001b[0m\u001b[0;34m(\u001b[0m\u001b[0;34m)\u001b[0m\u001b[0;34m\u001b[0m\u001b[0m\n\u001b[1;32m    730\u001b[0m             \u001b[0m_keep_alive\u001b[0m\u001b[0;34m(\u001b[0m\u001b[0mstuff\u001b[0m\u001b[0;34m,\u001b[0m \u001b[0mmemo\u001b[0m\u001b[0;34m)\u001b[0m\u001b[0;34m\u001b[0m\u001b[0m\n\u001b[0;32m--> 731\u001b[0;31m         \u001b[0msave\u001b[0m\u001b[0;34m(\u001b[0m\u001b[0mstuff\u001b[0m\u001b[0;34m)\u001b[0m\u001b[0;34m\u001b[0m\u001b[0m\n\u001b[0m\u001b[1;32m    732\u001b[0m         \u001b[0mwrite\u001b[0m\u001b[0;34m(\u001b[0m\u001b[0mBUILD\u001b[0m\u001b[0;34m)\u001b[0m\u001b[0;34m\u001b[0m\u001b[0m\n\u001b[1;32m    733\u001b[0m \u001b[0;34m\u001b[0m\u001b[0m\n",
      "\u001b[0;32m/usr/lib/python2.7/pickle.pyc\u001b[0m in \u001b[0;36msave\u001b[0;34m(self, obj)\u001b[0m\n\u001b[1;32m    284\u001b[0m         \u001b[0mf\u001b[0m \u001b[0;34m=\u001b[0m \u001b[0mself\u001b[0m\u001b[0;34m.\u001b[0m\u001b[0mdispatch\u001b[0m\u001b[0;34m.\u001b[0m\u001b[0mget\u001b[0m\u001b[0;34m(\u001b[0m\u001b[0mt\u001b[0m\u001b[0;34m)\u001b[0m\u001b[0;34m\u001b[0m\u001b[0m\n\u001b[1;32m    285\u001b[0m         \u001b[0;32mif\u001b[0m \u001b[0mf\u001b[0m\u001b[0;34m:\u001b[0m\u001b[0;34m\u001b[0m\u001b[0m\n\u001b[0;32m--> 286\u001b[0;31m             \u001b[0mf\u001b[0m\u001b[0;34m(\u001b[0m\u001b[0mself\u001b[0m\u001b[0;34m,\u001b[0m \u001b[0mobj\u001b[0m\u001b[0;34m)\u001b[0m \u001b[0;31m# Call unbound method with explicit self\u001b[0m\u001b[0;34m\u001b[0m\u001b[0m\n\u001b[0m\u001b[1;32m    287\u001b[0m             \u001b[0;32mreturn\u001b[0m\u001b[0;34m\u001b[0m\u001b[0m\n\u001b[1;32m    288\u001b[0m \u001b[0;34m\u001b[0m\u001b[0m\n",
      "\u001b[0;32m/usr/lib/python2.7/pickle.pyc\u001b[0m in \u001b[0;36msave_dict\u001b[0;34m(self, obj)\u001b[0m\n\u001b[1;32m    653\u001b[0m \u001b[0;34m\u001b[0m\u001b[0m\n\u001b[1;32m    654\u001b[0m         \u001b[0mself\u001b[0m\u001b[0;34m.\u001b[0m\u001b[0mmemoize\u001b[0m\u001b[0;34m(\u001b[0m\u001b[0mobj\u001b[0m\u001b[0;34m)\u001b[0m\u001b[0;34m\u001b[0m\u001b[0m\n\u001b[0;32m--> 655\u001b[0;31m         \u001b[0mself\u001b[0m\u001b[0;34m.\u001b[0m\u001b[0m_batch_setitems\u001b[0m\u001b[0;34m(\u001b[0m\u001b[0mobj\u001b[0m\u001b[0;34m.\u001b[0m\u001b[0miteritems\u001b[0m\u001b[0;34m(\u001b[0m\u001b[0;34m)\u001b[0m\u001b[0;34m)\u001b[0m\u001b[0;34m\u001b[0m\u001b[0m\n\u001b[0m\u001b[1;32m    656\u001b[0m \u001b[0;34m\u001b[0m\u001b[0m\n\u001b[1;32m    657\u001b[0m     \u001b[0mdispatch\u001b[0m\u001b[0;34m[\u001b[0m\u001b[0mDictionaryType\u001b[0m\u001b[0;34m]\u001b[0m \u001b[0;34m=\u001b[0m \u001b[0msave_dict\u001b[0m\u001b[0;34m\u001b[0m\u001b[0m\n",
      "\u001b[0;32m/usr/lib/python2.7/pickle.pyc\u001b[0m in \u001b[0;36m_batch_setitems\u001b[0;34m(self, items)\u001b[0m\n\u001b[1;32m    667\u001b[0m             \u001b[0;32mfor\u001b[0m \u001b[0mk\u001b[0m\u001b[0;34m,\u001b[0m \u001b[0mv\u001b[0m \u001b[0;32min\u001b[0m \u001b[0mitems\u001b[0m\u001b[0;34m:\u001b[0m\u001b[0;34m\u001b[0m\u001b[0m\n\u001b[1;32m    668\u001b[0m                 \u001b[0msave\u001b[0m\u001b[0;34m(\u001b[0m\u001b[0mk\u001b[0m\u001b[0;34m)\u001b[0m\u001b[0;34m\u001b[0m\u001b[0m\n\u001b[0;32m--> 669\u001b[0;31m                 \u001b[0msave\u001b[0m\u001b[0;34m(\u001b[0m\u001b[0mv\u001b[0m\u001b[0;34m)\u001b[0m\u001b[0;34m\u001b[0m\u001b[0m\n\u001b[0m\u001b[1;32m    670\u001b[0m                 \u001b[0mwrite\u001b[0m\u001b[0;34m(\u001b[0m\u001b[0mSETITEM\u001b[0m\u001b[0;34m)\u001b[0m\u001b[0;34m\u001b[0m\u001b[0m\n\u001b[1;32m    671\u001b[0m             \u001b[0;32mreturn\u001b[0m\u001b[0;34m\u001b[0m\u001b[0m\n",
      "\u001b[0;32m/usr/lib/python2.7/pickle.pyc\u001b[0m in \u001b[0;36msave\u001b[0;34m(self, obj)\u001b[0m\n\u001b[1;32m    284\u001b[0m         \u001b[0mf\u001b[0m \u001b[0;34m=\u001b[0m \u001b[0mself\u001b[0m\u001b[0;34m.\u001b[0m\u001b[0mdispatch\u001b[0m\u001b[0;34m.\u001b[0m\u001b[0mget\u001b[0m\u001b[0;34m(\u001b[0m\u001b[0mt\u001b[0m\u001b[0;34m)\u001b[0m\u001b[0;34m\u001b[0m\u001b[0m\n\u001b[1;32m    285\u001b[0m         \u001b[0;32mif\u001b[0m \u001b[0mf\u001b[0m\u001b[0;34m:\u001b[0m\u001b[0;34m\u001b[0m\u001b[0m\n\u001b[0;32m--> 286\u001b[0;31m             \u001b[0mf\u001b[0m\u001b[0;34m(\u001b[0m\u001b[0mself\u001b[0m\u001b[0;34m,\u001b[0m \u001b[0mobj\u001b[0m\u001b[0;34m)\u001b[0m \u001b[0;31m# Call unbound method with explicit self\u001b[0m\u001b[0;34m\u001b[0m\u001b[0m\n\u001b[0m\u001b[1;32m    287\u001b[0m             \u001b[0;32mreturn\u001b[0m\u001b[0;34m\u001b[0m\u001b[0m\n\u001b[1;32m    288\u001b[0m \u001b[0;34m\u001b[0m\u001b[0m\n",
      "\u001b[0;32m/usr/lib/python2.7/pickle.pyc\u001b[0m in \u001b[0;36msave_dict\u001b[0;34m(self, obj)\u001b[0m\n\u001b[1;32m    653\u001b[0m \u001b[0;34m\u001b[0m\u001b[0m\n\u001b[1;32m    654\u001b[0m         \u001b[0mself\u001b[0m\u001b[0;34m.\u001b[0m\u001b[0mmemoize\u001b[0m\u001b[0;34m(\u001b[0m\u001b[0mobj\u001b[0m\u001b[0;34m)\u001b[0m\u001b[0;34m\u001b[0m\u001b[0m\n\u001b[0;32m--> 655\u001b[0;31m         \u001b[0mself\u001b[0m\u001b[0;34m.\u001b[0m\u001b[0m_batch_setitems\u001b[0m\u001b[0;34m(\u001b[0m\u001b[0mobj\u001b[0m\u001b[0;34m.\u001b[0m\u001b[0miteritems\u001b[0m\u001b[0;34m(\u001b[0m\u001b[0;34m)\u001b[0m\u001b[0;34m)\u001b[0m\u001b[0;34m\u001b[0m\u001b[0m\n\u001b[0m\u001b[1;32m    656\u001b[0m \u001b[0;34m\u001b[0m\u001b[0m\n\u001b[1;32m    657\u001b[0m     \u001b[0mdispatch\u001b[0m\u001b[0;34m[\u001b[0m\u001b[0mDictionaryType\u001b[0m\u001b[0;34m]\u001b[0m \u001b[0;34m=\u001b[0m \u001b[0msave_dict\u001b[0m\u001b[0;34m\u001b[0m\u001b[0m\n",
      "\u001b[0;32m/usr/lib/python2.7/pickle.pyc\u001b[0m in \u001b[0;36m_batch_setitems\u001b[0;34m(self, items)\u001b[0m\n\u001b[1;32m    667\u001b[0m             \u001b[0;32mfor\u001b[0m \u001b[0mk\u001b[0m\u001b[0;34m,\u001b[0m \u001b[0mv\u001b[0m \u001b[0;32min\u001b[0m \u001b[0mitems\u001b[0m\u001b[0;34m:\u001b[0m\u001b[0;34m\u001b[0m\u001b[0m\n\u001b[1;32m    668\u001b[0m                 \u001b[0msave\u001b[0m\u001b[0;34m(\u001b[0m\u001b[0mk\u001b[0m\u001b[0;34m)\u001b[0m\u001b[0;34m\u001b[0m\u001b[0m\n\u001b[0;32m--> 669\u001b[0;31m                 \u001b[0msave\u001b[0m\u001b[0;34m(\u001b[0m\u001b[0mv\u001b[0m\u001b[0;34m)\u001b[0m\u001b[0;34m\u001b[0m\u001b[0m\n\u001b[0m\u001b[1;32m    670\u001b[0m                 \u001b[0mwrite\u001b[0m\u001b[0;34m(\u001b[0m\u001b[0mSETITEM\u001b[0m\u001b[0;34m)\u001b[0m\u001b[0;34m\u001b[0m\u001b[0m\n\u001b[1;32m    671\u001b[0m             \u001b[0;32mreturn\u001b[0m\u001b[0;34m\u001b[0m\u001b[0m\n",
      "\u001b[0;32m/usr/lib/python2.7/pickle.pyc\u001b[0m in \u001b[0;36msave\u001b[0;34m(self, obj)\u001b[0m\n\u001b[1;32m    284\u001b[0m         \u001b[0mf\u001b[0m \u001b[0;34m=\u001b[0m \u001b[0mself\u001b[0m\u001b[0;34m.\u001b[0m\u001b[0mdispatch\u001b[0m\u001b[0;34m.\u001b[0m\u001b[0mget\u001b[0m\u001b[0;34m(\u001b[0m\u001b[0mt\u001b[0m\u001b[0;34m)\u001b[0m\u001b[0;34m\u001b[0m\u001b[0m\n\u001b[1;32m    285\u001b[0m         \u001b[0;32mif\u001b[0m \u001b[0mf\u001b[0m\u001b[0;34m:\u001b[0m\u001b[0;34m\u001b[0m\u001b[0m\n\u001b[0;32m--> 286\u001b[0;31m             \u001b[0mf\u001b[0m\u001b[0;34m(\u001b[0m\u001b[0mself\u001b[0m\u001b[0;34m,\u001b[0m \u001b[0mobj\u001b[0m\u001b[0;34m)\u001b[0m \u001b[0;31m# Call unbound method with explicit self\u001b[0m\u001b[0;34m\u001b[0m\u001b[0m\n\u001b[0m\u001b[1;32m    287\u001b[0m             \u001b[0;32mreturn\u001b[0m\u001b[0;34m\u001b[0m\u001b[0m\n\u001b[1;32m    288\u001b[0m \u001b[0;34m\u001b[0m\u001b[0m\n",
      "\u001b[0;32m/usr/lib/python2.7/pickle.pyc\u001b[0m in \u001b[0;36msave_inst\u001b[0;34m(self, obj)\u001b[0m\n\u001b[1;32m    729\u001b[0m             \u001b[0mstuff\u001b[0m \u001b[0;34m=\u001b[0m \u001b[0mgetstate\u001b[0m\u001b[0;34m(\u001b[0m\u001b[0;34m)\u001b[0m\u001b[0;34m\u001b[0m\u001b[0m\n\u001b[1;32m    730\u001b[0m             \u001b[0m_keep_alive\u001b[0m\u001b[0;34m(\u001b[0m\u001b[0mstuff\u001b[0m\u001b[0;34m,\u001b[0m \u001b[0mmemo\u001b[0m\u001b[0;34m)\u001b[0m\u001b[0;34m\u001b[0m\u001b[0m\n\u001b[0;32m--> 731\u001b[0;31m         \u001b[0msave\u001b[0m\u001b[0;34m(\u001b[0m\u001b[0mstuff\u001b[0m\u001b[0;34m)\u001b[0m\u001b[0;34m\u001b[0m\u001b[0m\n\u001b[0m\u001b[1;32m    732\u001b[0m         \u001b[0mwrite\u001b[0m\u001b[0;34m(\u001b[0m\u001b[0mBUILD\u001b[0m\u001b[0;34m)\u001b[0m\u001b[0;34m\u001b[0m\u001b[0m\n\u001b[1;32m    733\u001b[0m \u001b[0;34m\u001b[0m\u001b[0m\n",
      "\u001b[0;32m/usr/lib/python2.7/pickle.pyc\u001b[0m in \u001b[0;36msave\u001b[0;34m(self, obj)\u001b[0m\n\u001b[1;32m    284\u001b[0m         \u001b[0mf\u001b[0m \u001b[0;34m=\u001b[0m \u001b[0mself\u001b[0m\u001b[0;34m.\u001b[0m\u001b[0mdispatch\u001b[0m\u001b[0;34m.\u001b[0m\u001b[0mget\u001b[0m\u001b[0;34m(\u001b[0m\u001b[0mt\u001b[0m\u001b[0;34m)\u001b[0m\u001b[0;34m\u001b[0m\u001b[0m\n\u001b[1;32m    285\u001b[0m         \u001b[0;32mif\u001b[0m \u001b[0mf\u001b[0m\u001b[0;34m:\u001b[0m\u001b[0;34m\u001b[0m\u001b[0m\n\u001b[0;32m--> 286\u001b[0;31m             \u001b[0mf\u001b[0m\u001b[0;34m(\u001b[0m\u001b[0mself\u001b[0m\u001b[0;34m,\u001b[0m \u001b[0mobj\u001b[0m\u001b[0;34m)\u001b[0m \u001b[0;31m# Call unbound method with explicit self\u001b[0m\u001b[0;34m\u001b[0m\u001b[0m\n\u001b[0m\u001b[1;32m    287\u001b[0m             \u001b[0;32mreturn\u001b[0m\u001b[0;34m\u001b[0m\u001b[0m\n\u001b[1;32m    288\u001b[0m \u001b[0;34m\u001b[0m\u001b[0m\n",
      "\u001b[0;32m/usr/lib/python2.7/pickle.pyc\u001b[0m in \u001b[0;36msave_dict\u001b[0;34m(self, obj)\u001b[0m\n\u001b[1;32m    653\u001b[0m \u001b[0;34m\u001b[0m\u001b[0m\n\u001b[1;32m    654\u001b[0m         \u001b[0mself\u001b[0m\u001b[0;34m.\u001b[0m\u001b[0mmemoize\u001b[0m\u001b[0;34m(\u001b[0m\u001b[0mobj\u001b[0m\u001b[0;34m)\u001b[0m\u001b[0;34m\u001b[0m\u001b[0m\n\u001b[0;32m--> 655\u001b[0;31m         \u001b[0mself\u001b[0m\u001b[0;34m.\u001b[0m\u001b[0m_batch_setitems\u001b[0m\u001b[0;34m(\u001b[0m\u001b[0mobj\u001b[0m\u001b[0;34m.\u001b[0m\u001b[0miteritems\u001b[0m\u001b[0;34m(\u001b[0m\u001b[0;34m)\u001b[0m\u001b[0;34m)\u001b[0m\u001b[0;34m\u001b[0m\u001b[0m\n\u001b[0m\u001b[1;32m    656\u001b[0m \u001b[0;34m\u001b[0m\u001b[0m\n\u001b[1;32m    657\u001b[0m     \u001b[0mdispatch\u001b[0m\u001b[0;34m[\u001b[0m\u001b[0mDictionaryType\u001b[0m\u001b[0;34m]\u001b[0m \u001b[0;34m=\u001b[0m \u001b[0msave_dict\u001b[0m\u001b[0;34m\u001b[0m\u001b[0m\n",
      "\u001b[0;32m/usr/lib/python2.7/pickle.pyc\u001b[0m in \u001b[0;36m_batch_setitems\u001b[0;34m(self, items)\u001b[0m\n\u001b[1;32m    667\u001b[0m             \u001b[0;32mfor\u001b[0m \u001b[0mk\u001b[0m\u001b[0;34m,\u001b[0m \u001b[0mv\u001b[0m \u001b[0;32min\u001b[0m \u001b[0mitems\u001b[0m\u001b[0;34m:\u001b[0m\u001b[0;34m\u001b[0m\u001b[0m\n\u001b[1;32m    668\u001b[0m                 \u001b[0msave\u001b[0m\u001b[0;34m(\u001b[0m\u001b[0mk\u001b[0m\u001b[0;34m)\u001b[0m\u001b[0;34m\u001b[0m\u001b[0m\n\u001b[0;32m--> 669\u001b[0;31m                 \u001b[0msave\u001b[0m\u001b[0;34m(\u001b[0m\u001b[0mv\u001b[0m\u001b[0;34m)\u001b[0m\u001b[0;34m\u001b[0m\u001b[0m\n\u001b[0m\u001b[1;32m    670\u001b[0m                 \u001b[0mwrite\u001b[0m\u001b[0;34m(\u001b[0m\u001b[0mSETITEM\u001b[0m\u001b[0;34m)\u001b[0m\u001b[0;34m\u001b[0m\u001b[0m\n\u001b[1;32m    671\u001b[0m             \u001b[0;32mreturn\u001b[0m\u001b[0;34m\u001b[0m\u001b[0m\n",
      "\u001b[0;32m/usr/lib/python2.7/pickle.pyc\u001b[0m in \u001b[0;36msave\u001b[0;34m(self, obj)\u001b[0m\n\u001b[1;32m    329\u001b[0m \u001b[0;34m\u001b[0m\u001b[0m\n\u001b[1;32m    330\u001b[0m         \u001b[0;31m# Save the reduce() output and finally memoize the object\u001b[0m\u001b[0;34m\u001b[0m\u001b[0;34m\u001b[0m\u001b[0m\n\u001b[0;32m--> 331\u001b[0;31m         \u001b[0mself\u001b[0m\u001b[0;34m.\u001b[0m\u001b[0msave_reduce\u001b[0m\u001b[0;34m(\u001b[0m\u001b[0mobj\u001b[0m\u001b[0;34m=\u001b[0m\u001b[0mobj\u001b[0m\u001b[0;34m,\u001b[0m \u001b[0;34m*\u001b[0m\u001b[0mrv\u001b[0m\u001b[0;34m)\u001b[0m\u001b[0;34m\u001b[0m\u001b[0m\n\u001b[0m\u001b[1;32m    332\u001b[0m \u001b[0;34m\u001b[0m\u001b[0m\n\u001b[1;32m    333\u001b[0m     \u001b[0;32mdef\u001b[0m \u001b[0mpersistent_id\u001b[0m\u001b[0;34m(\u001b[0m\u001b[0mself\u001b[0m\u001b[0;34m,\u001b[0m \u001b[0mobj\u001b[0m\u001b[0;34m)\u001b[0m\u001b[0;34m:\u001b[0m\u001b[0;34m\u001b[0m\u001b[0m\n",
      "\u001b[0;32m/usr/lib/python2.7/pickle.pyc\u001b[0m in \u001b[0;36msave_reduce\u001b[0;34m(self, func, args, state, listitems, dictitems, obj)\u001b[0m\n\u001b[1;32m    423\u001b[0m \u001b[0;34m\u001b[0m\u001b[0m\n\u001b[1;32m    424\u001b[0m         \u001b[0;32mif\u001b[0m \u001b[0mstate\u001b[0m \u001b[0;32mis\u001b[0m \u001b[0;32mnot\u001b[0m \u001b[0mNone\u001b[0m\u001b[0;34m:\u001b[0m\u001b[0;34m\u001b[0m\u001b[0m\n\u001b[0;32m--> 425\u001b[0;31m             \u001b[0msave\u001b[0m\u001b[0;34m(\u001b[0m\u001b[0mstate\u001b[0m\u001b[0;34m)\u001b[0m\u001b[0;34m\u001b[0m\u001b[0m\n\u001b[0m\u001b[1;32m    426\u001b[0m             \u001b[0mwrite\u001b[0m\u001b[0;34m(\u001b[0m\u001b[0mBUILD\u001b[0m\u001b[0;34m)\u001b[0m\u001b[0;34m\u001b[0m\u001b[0m\n\u001b[1;32m    427\u001b[0m \u001b[0;34m\u001b[0m\u001b[0m\n",
      "\u001b[0;32m/usr/lib/python2.7/pickle.pyc\u001b[0m in \u001b[0;36msave\u001b[0;34m(self, obj)\u001b[0m\n\u001b[1;32m    284\u001b[0m         \u001b[0mf\u001b[0m \u001b[0;34m=\u001b[0m \u001b[0mself\u001b[0m\u001b[0;34m.\u001b[0m\u001b[0mdispatch\u001b[0m\u001b[0;34m.\u001b[0m\u001b[0mget\u001b[0m\u001b[0;34m(\u001b[0m\u001b[0mt\u001b[0m\u001b[0;34m)\u001b[0m\u001b[0;34m\u001b[0m\u001b[0m\n\u001b[1;32m    285\u001b[0m         \u001b[0;32mif\u001b[0m \u001b[0mf\u001b[0m\u001b[0;34m:\u001b[0m\u001b[0;34m\u001b[0m\u001b[0m\n\u001b[0;32m--> 286\u001b[0;31m             \u001b[0mf\u001b[0m\u001b[0;34m(\u001b[0m\u001b[0mself\u001b[0m\u001b[0;34m,\u001b[0m \u001b[0mobj\u001b[0m\u001b[0;34m)\u001b[0m \u001b[0;31m# Call unbound method with explicit self\u001b[0m\u001b[0;34m\u001b[0m\u001b[0m\n\u001b[0m\u001b[1;32m    287\u001b[0m             \u001b[0;32mreturn\u001b[0m\u001b[0;34m\u001b[0m\u001b[0m\n\u001b[1;32m    288\u001b[0m \u001b[0;34m\u001b[0m\u001b[0m\n",
      "\u001b[0;32m/usr/lib/python2.7/pickle.pyc\u001b[0m in \u001b[0;36msave_tuple\u001b[0;34m(self, obj)\u001b[0m\n\u001b[1;32m    566\u001b[0m         \u001b[0mwrite\u001b[0m\u001b[0;34m(\u001b[0m\u001b[0mMARK\u001b[0m\u001b[0;34m)\u001b[0m\u001b[0;34m\u001b[0m\u001b[0m\n\u001b[1;32m    567\u001b[0m         \u001b[0;32mfor\u001b[0m \u001b[0melement\u001b[0m \u001b[0;32min\u001b[0m \u001b[0mobj\u001b[0m\u001b[0;34m:\u001b[0m\u001b[0;34m\u001b[0m\u001b[0m\n\u001b[0;32m--> 568\u001b[0;31m             \u001b[0msave\u001b[0m\u001b[0;34m(\u001b[0m\u001b[0melement\u001b[0m\u001b[0;34m)\u001b[0m\u001b[0;34m\u001b[0m\u001b[0m\n\u001b[0m\u001b[1;32m    569\u001b[0m \u001b[0;34m\u001b[0m\u001b[0m\n\u001b[1;32m    570\u001b[0m         \u001b[0;32mif\u001b[0m \u001b[0mid\u001b[0m\u001b[0;34m(\u001b[0m\u001b[0mobj\u001b[0m\u001b[0;34m)\u001b[0m \u001b[0;32min\u001b[0m \u001b[0mmemo\u001b[0m\u001b[0;34m:\u001b[0m\u001b[0;34m\u001b[0m\u001b[0m\n",
      "\u001b[0;32m/usr/lib/python2.7/pickle.pyc\u001b[0m in \u001b[0;36msave\u001b[0;34m(self, obj)\u001b[0m\n\u001b[1;32m    284\u001b[0m         \u001b[0mf\u001b[0m \u001b[0;34m=\u001b[0m \u001b[0mself\u001b[0m\u001b[0;34m.\u001b[0m\u001b[0mdispatch\u001b[0m\u001b[0;34m.\u001b[0m\u001b[0mget\u001b[0m\u001b[0;34m(\u001b[0m\u001b[0mt\u001b[0m\u001b[0;34m)\u001b[0m\u001b[0;34m\u001b[0m\u001b[0m\n\u001b[1;32m    285\u001b[0m         \u001b[0;32mif\u001b[0m \u001b[0mf\u001b[0m\u001b[0;34m:\u001b[0m\u001b[0;34m\u001b[0m\u001b[0m\n\u001b[0;32m--> 286\u001b[0;31m             \u001b[0mf\u001b[0m\u001b[0;34m(\u001b[0m\u001b[0mself\u001b[0m\u001b[0;34m,\u001b[0m \u001b[0mobj\u001b[0m\u001b[0;34m)\u001b[0m \u001b[0;31m# Call unbound method with explicit self\u001b[0m\u001b[0;34m\u001b[0m\u001b[0m\n\u001b[0m\u001b[1;32m    287\u001b[0m             \u001b[0;32mreturn\u001b[0m\u001b[0;34m\u001b[0m\u001b[0m\n\u001b[1;32m    288\u001b[0m \u001b[0;34m\u001b[0m\u001b[0m\n",
      "\u001b[0;32m/usr/lib/python2.7/pickle.pyc\u001b[0m in \u001b[0;36msave_string\u001b[0;34m(self, obj, pack)\u001b[0m\n\u001b[1;32m    492\u001b[0m                 \u001b[0mself\u001b[0m\u001b[0;34m.\u001b[0m\u001b[0mwrite\u001b[0m\u001b[0;34m(\u001b[0m\u001b[0mBINSTRING\u001b[0m \u001b[0;34m+\u001b[0m \u001b[0mpack\u001b[0m\u001b[0;34m(\u001b[0m\u001b[0;34m\"<i\"\u001b[0m\u001b[0;34m,\u001b[0m \u001b[0mn\u001b[0m\u001b[0;34m)\u001b[0m \u001b[0;34m+\u001b[0m \u001b[0mobj\u001b[0m\u001b[0;34m)\u001b[0m\u001b[0;34m\u001b[0m\u001b[0m\n\u001b[1;32m    493\u001b[0m         \u001b[0;32melse\u001b[0m\u001b[0;34m:\u001b[0m\u001b[0;34m\u001b[0m\u001b[0m\n\u001b[0;32m--> 494\u001b[0;31m             \u001b[0mself\u001b[0m\u001b[0;34m.\u001b[0m\u001b[0mwrite\u001b[0m\u001b[0;34m(\u001b[0m\u001b[0mSTRING\u001b[0m \u001b[0;34m+\u001b[0m \u001b[0mrepr\u001b[0m\u001b[0;34m(\u001b[0m\u001b[0mobj\u001b[0m\u001b[0;34m)\u001b[0m \u001b[0;34m+\u001b[0m \u001b[0;34m'\\n'\u001b[0m\u001b[0;34m)\u001b[0m\u001b[0;34m\u001b[0m\u001b[0m\n\u001b[0m\u001b[1;32m    495\u001b[0m         \u001b[0mself\u001b[0m\u001b[0;34m.\u001b[0m\u001b[0mmemoize\u001b[0m\u001b[0;34m(\u001b[0m\u001b[0mobj\u001b[0m\u001b[0;34m)\u001b[0m\u001b[0;34m\u001b[0m\u001b[0m\n\u001b[1;32m    496\u001b[0m     \u001b[0mdispatch\u001b[0m\u001b[0;34m[\u001b[0m\u001b[0mStringType\u001b[0m\u001b[0;34m]\u001b[0m \u001b[0;34m=\u001b[0m \u001b[0msave_string\u001b[0m\u001b[0;34m\u001b[0m\u001b[0m\n",
      "\u001b[0;31mKeyboardInterrupt\u001b[0m: "
     ]
    }
   ],
   "source": [
    "with open('current_clamp_with_GABA.pkl', 'wb') as fp:\n",
    "    pickle.dump(neurons, fp)"
   ]
  },
  {
   "cell_type": "code",
   "execution_count": 53,
   "metadata": {},
   "outputs": [],
   "source": [
    "?pickle.dump"
   ]
  },
  {
   "cell_type": "code",
   "execution_count": 39,
   "metadata": {},
   "outputs": [
    {
     "data": {
      "text/plain": [
       "(array([0.        , 0.        , 0.06706314, 0.        , 0.25748206,\n",
       "        0.        , 0.        , 0.        ]),\n",
       " array([0.68020621, 0.36865376, 0.        , 0.18492307, 0.23986861,\n",
       "        0.38974054, 0.        ]))"
      ]
     },
     "execution_count": 39,
     "metadata": {},
     "output_type": "execute_result"
    }
   ],
   "source": [
    "g_I_t_gain/g_I_ote, c_I_t_gain/c_I_ote"
   ]
  },
  {
   "cell_type": "code",
   "execution_count": 25,
   "metadata": {},
   "outputs": [
    {
     "ename": "ValueError",
     "evalue": "x and y must be the same size",
     "output_type": "error",
     "traceback": [
      "\u001b[0;31m---------------------------------------------------------------------------\u001b[0m",
      "\u001b[0;31mValueError\u001b[0m                                Traceback (most recent call last)",
      "\u001b[0;32m<ipython-input-25-4a0c42078b60>\u001b[0m in \u001b[0;36m<module>\u001b[0;34m()\u001b[0m\n\u001b[1;32m      1\u001b[0m \u001b[0mfig\u001b[0m\u001b[0;34m,\u001b[0m \u001b[0max\u001b[0m \u001b[0;34m=\u001b[0m \u001b[0mplt\u001b[0m\u001b[0;34m.\u001b[0m\u001b[0msubplots\u001b[0m\u001b[0;34m(\u001b[0m\u001b[0;34m)\u001b[0m\u001b[0;34m\u001b[0m\u001b[0m\n\u001b[0;32m----> 2\u001b[0;31m \u001b[0max\u001b[0m\u001b[0;34m.\u001b[0m\u001b[0mscatter\u001b[0m\u001b[0;34m(\u001b[0m\u001b[0mg_I_oe\u001b[0m\u001b[0;34m/\u001b[0m\u001b[0mg_I_ote\u001b[0m\u001b[0;34m,\u001b[0m \u001b[0mc_I_oe\u001b[0m\u001b[0;34m/\u001b[0m\u001b[0mc_I_ote\u001b[0m\u001b[0;34m)\u001b[0m\u001b[0;34m\u001b[0m\u001b[0m\n\u001b[0m\u001b[1;32m      3\u001b[0m \u001b[0max\u001b[0m\u001b[0;34m.\u001b[0m\u001b[0mset_ylim\u001b[0m\u001b[0;34m(\u001b[0m\u001b[0mymin\u001b[0m\u001b[0;34m=\u001b[0m\u001b[0;36m0.\u001b[0m\u001b[0;34m)\u001b[0m\u001b[0;34m\u001b[0m\u001b[0m\n\u001b[1;32m      4\u001b[0m \u001b[0max\u001b[0m\u001b[0;34m.\u001b[0m\u001b[0mset_xlim\u001b[0m\u001b[0;34m(\u001b[0m\u001b[0mxmin\u001b[0m\u001b[0;34m=\u001b[0m\u001b[0;36m0.\u001b[0m\u001b[0;34m)\u001b[0m\u001b[0;34m\u001b[0m\u001b[0m\n\u001b[1;32m      5\u001b[0m \u001b[0msimpleaxis\u001b[0m\u001b[0;34m(\u001b[0m\u001b[0max\u001b[0m\u001b[0;34m)\u001b[0m\u001b[0;34m\u001b[0m\u001b[0m\n",
      "\u001b[0;32m/usr/local/lib/python2.7/dist-packages/matplotlib/__init__.pyc\u001b[0m in \u001b[0;36minner\u001b[0;34m(ax, *args, **kwargs)\u001b[0m\n\u001b[1;32m   1715\u001b[0m                     warnings.warn(msg % (label_namer, func.__name__),\n\u001b[1;32m   1716\u001b[0m                                   RuntimeWarning, stacklevel=2)\n\u001b[0;32m-> 1717\u001b[0;31m             \u001b[0;32mreturn\u001b[0m \u001b[0mfunc\u001b[0m\u001b[0;34m(\u001b[0m\u001b[0max\u001b[0m\u001b[0;34m,\u001b[0m \u001b[0;34m*\u001b[0m\u001b[0margs\u001b[0m\u001b[0;34m,\u001b[0m \u001b[0;34m**\u001b[0m\u001b[0mkwargs\u001b[0m\u001b[0;34m)\u001b[0m\u001b[0;34m\u001b[0m\u001b[0m\n\u001b[0m\u001b[1;32m   1718\u001b[0m         \u001b[0mpre_doc\u001b[0m \u001b[0;34m=\u001b[0m \u001b[0minner\u001b[0m\u001b[0;34m.\u001b[0m\u001b[0m__doc__\u001b[0m\u001b[0;34m\u001b[0m\u001b[0m\n\u001b[1;32m   1719\u001b[0m         \u001b[0;32mif\u001b[0m \u001b[0mpre_doc\u001b[0m \u001b[0;32mis\u001b[0m \u001b[0mNone\u001b[0m\u001b[0;34m:\u001b[0m\u001b[0;34m\u001b[0m\u001b[0m\n",
      "\u001b[0;32m/usr/local/lib/python2.7/dist-packages/matplotlib/axes/_axes.pyc\u001b[0m in \u001b[0;36mscatter\u001b[0;34m(self, x, y, s, c, marker, cmap, norm, vmin, vmax, alpha, linewidths, verts, edgecolors, **kwargs)\u001b[0m\n\u001b[1;32m   3950\u001b[0m         \u001b[0my\u001b[0m \u001b[0;34m=\u001b[0m \u001b[0mnp\u001b[0m\u001b[0;34m.\u001b[0m\u001b[0mma\u001b[0m\u001b[0;34m.\u001b[0m\u001b[0mravel\u001b[0m\u001b[0;34m(\u001b[0m\u001b[0my\u001b[0m\u001b[0;34m)\u001b[0m\u001b[0;34m\u001b[0m\u001b[0m\n\u001b[1;32m   3951\u001b[0m         \u001b[0;32mif\u001b[0m \u001b[0mx\u001b[0m\u001b[0;34m.\u001b[0m\u001b[0msize\u001b[0m \u001b[0;34m!=\u001b[0m \u001b[0my\u001b[0m\u001b[0;34m.\u001b[0m\u001b[0msize\u001b[0m\u001b[0;34m:\u001b[0m\u001b[0;34m\u001b[0m\u001b[0m\n\u001b[0;32m-> 3952\u001b[0;31m             \u001b[0;32mraise\u001b[0m \u001b[0mValueError\u001b[0m\u001b[0;34m(\u001b[0m\u001b[0;34m\"x and y must be the same size\"\u001b[0m\u001b[0;34m)\u001b[0m\u001b[0;34m\u001b[0m\u001b[0m\n\u001b[0m\u001b[1;32m   3953\u001b[0m \u001b[0;34m\u001b[0m\u001b[0m\n\u001b[1;32m   3954\u001b[0m         \u001b[0;32mif\u001b[0m \u001b[0ms\u001b[0m \u001b[0;32mis\u001b[0m \u001b[0mNone\u001b[0m\u001b[0;34m:\u001b[0m\u001b[0;34m\u001b[0m\u001b[0m\n",
      "\u001b[0;31mValueError\u001b[0m: x and y must be the same size"
     ]
    },
    {
     "data": {
      "image/png": "[encoded data removed]",
      "text/plain": [
       "<matplotlib.figure.Figure at 0x7f6e0d9789d0>"
      ]
     },
     "metadata": {},
     "output_type": "display_data"
    }
   ],
   "source": [
    "fig, ax = plt.subplots()\n",
    "ax.scatter(g_I_oe/g_I_ote, c_I_oe/c_I_ote)\n",
    "ax.set_ylim(ymin=0.)\n",
    "ax.set_xlim(xmin=0.)\n",
    "simpleaxis(ax)\n",
    "plt.show()"
   ]
  },
  {
   "cell_type": "markdown",
   "metadata": {},
   "source": [
    "### Histogram method"
   ]
  },
  {
   "cell_type": "code",
   "execution_count": 282,
   "metadata": {},
   "outputs": [
    {
     "name": "stdout",
     "output_type": "stream",
     "text": [
      "160928 c4\n",
      "161117 c1\n",
      "360 360\n",
      "170222 c2\n",
      "286 288\n",
      "161228 c1\n",
      "196 288\n",
      "160830 c1\n",
      "473 124\n",
      "161027 c3\n",
      "160920 c1\n",
      "400 351\n",
      "161013 c1\n",
      "360 361\n",
      "160927 c5\n",
      "90 259\n",
      "170303 c1\n",
      "120 334\n"
     ]
    }
   ],
   "source": [
    "feature = 0 # Area under the curve\n",
    "minPoints = 80\n",
    "minIQR = 2\n",
    "minSqr = 0\n",
    "notSqrs = [1]\n",
    "g_I_te, g_I_oe, g_I_ote, g_I_to, g_I_t_gain = [], [], [], [], []\n",
    "c_I_te, c_I_oe, c_I_ote, c_I_to, c_I_t_gain = [], [], [], [], []\n",
    "g_sqr, c_sqr = [], []\n",
    "#neurons.pop('160920_c1')\n",
    "#neurons.pop('170222_c2')\n",
    "tol = 0.05\n",
    "for index in neurons:\n",
    "    neuron = neurons[index]\n",
    "    if \"GABAzine\" in neuron.experiment:\n",
    "        print (neuron.date, neuron.index)\n",
    "#         g_expected, g_observed, g_time, g_sqrArr, g_avgTrace = getPars(neuron, \"GABAzine\", notSqrs = notSqrs, feature=feature)\n",
    "#         c_expected, c_observed, c_time, c_sqrArr, c_avgTrace = getPars(neuron, \"Control\", notSqrs = notSqrs, feature=feature)\n",
    "        \n",
    "        g_expected, g_observed, g_time, g_sqrArr, g_avgTrace = getPars_trialwise(neuron, \"GABAzine\", notSqrs = notSqrs, feature=feature)\n",
    "        c_expected, c_observed, c_time, c_sqrArr, c_avgTrace = getPars_trialwise(neuron, \"Control\", notSqrs = notSqrs, feature=feature)\n",
    "        \n",
    "        if len(g_expected)>=minPoints and len(c_expected)>=minPoints:\n",
    "            print (len(g_expected), len(c_expected))\n",
    "            if ss.iqr(g_expected) >= minIQR and ss.iqr(c_expected) >= minIQR:\n",
    "                if len(set(c_sqrArr)) >= minSqr and len(set(g_sqrArr)) >= minSqr:\n",
    "                    \n",
    "                    g_observed, c_observed = np.array(g_observed), np.array(c_observed)\n",
    "                    g_expected, c_expected = np.array(g_expected), np.array(c_expected)\n",
    "                    g_time, c_time = np.array(g_time), np.array(c_time)\n",
    "                    g_avgTrace, c_avgTrace = np.array(g_avgTrace), np.array(c_avgTrace)\n",
    "                                        \n",
    "                    # Removing outliers\n",
    "                    indices =list(set(np.where(c_time<50)[0]).intersection(np.where(g_time<50)[0]).intersection(np.where(c_time>5)[0]).intersection(np.where(g_time>5)[0]))\n",
    "                    c_expected = c_expected[indices]\n",
    "                    c_observed = c_observed[indices]\n",
    "                    c_time = c_time[indices]\n",
    "                    g_expected = g_expected[indices]\n",
    "                    g_observed = g_observed[indices]\n",
    "                    g_time = g_time[indices]\n",
    "                    ###### \n",
    "                    \n",
    "                    bins_g = int(min([getNumBins(g_expected), getNumBins(g_observed), getNumBins(g_time)])/1)\n",
    "                    bins_c = int(min([getNumBins(c_expected), getNumBins(c_observed), getNumBins(c_time)])/1)\n",
    "#                     bins = min([bins_g, bins_c])             \n",
    "                    \n",
    "                    g_I_ote.append(calc_TI(g_time, g_observed, g_expected ,bins_g))\n",
    "                    g_I_te.append(calc_MI(g_time, g_expected,bins_g))\n",
    "                    g_I_oe.append(calc_MI(g_observed, g_expected,bins_g))\n",
    "                    g_I_to.append(calc_MI(g_observed, g_time,bins_g))\n",
    "                    g_I_t_gain.append(gain_inf(g_expected,g_time, g_observed, bins_g))\n",
    "                    g_sqr.append(len(set(g_sqrArr)))\n",
    "\n",
    "                    c_I_ote.append(calc_TI(c_time, c_observed, c_expected ,bins_c))\n",
    "                    c_I_te.append(calc_MI(c_time, c_expected,bins_c))\n",
    "                    c_I_oe.append(calc_MI(c_observed, c_expected,bins_c))\n",
    "                    c_I_to.append(calc_MI(c_observed, c_time,bins_c))\n",
    "                    c_I_t_gain.append(gain_inf(c_expected,c_time, c_observed, bins_c))\n",
    "                    c_sqr.append(len(set(c_sqrArr)))\n",
    "\n",
    "#                     fig, ax = plt.subplots(1,4)\n",
    "#                     dotsize =10\n",
    "\n",
    "\n",
    "#                     ax[0].scatter(c_expected, c_observed,c='k',s=dotsize)\n",
    "#                     ax[0].scatter(g_expected, g_observed,c='r',s=dotsize)\n",
    "#                     ax[1].scatter(c_expected, c_time,c='k',s=dotsize)\n",
    "#                     ax[1].scatter(g_expected, g_time,c='r',s=dotsize)\n",
    "#                     if (len(g_observed) == len(c_observed)):\n",
    "                        \n",
    "#                         ax[2].scatter(g_observed, g_observed-c_observed,c='g',s=dotsize)\n",
    "#                         ymax = max((ax[2].get_xlim()[1],ax[2].get_ylim()[1]))\n",
    "#                         ax[2].set_xlim(0,ymax)\n",
    "#                         ax[2].set_ylim(0,ymax)\n",
    "#                         excit_gabaz, inhib_derived = [], []\n",
    "#                         for i,j in zip(g_avgTrace, c_avgTrace):\n",
    "#                             excit_gabaz.append(np.max(i))\n",
    "#                             inhib_derived.append(np.max(i-j))\n",
    "#                         ax[3].scatter( excit_gabaz, inhib_derived, c='m',s=dotsize)\n",
    "#                         ymax = max((ax[3].get_xlim()[1],ax[3].get_ylim()[1]))\n",
    "#                         ax[3].set_xlim(0,ymax)\n",
    "#                         ax[3].set_ylim(0,ymax)\n",
    "                        \n",
    "#                     else:\n",
    "#                         fig.delaxes(ax[2])\n",
    "#                         fig.delaxes(ax[3])\n",
    "#                         plt.draw()\n",
    "#                     ax[0].set_title(\"{}, {}, {}, {}\".format(len(c_expected), len(g_expected), g_sqr[-1], c_sqr[-1]))\n",
    "#                     fig.set_figwidth(16)\n",
    "#                     plt.show()\n",
    "#                     plt.close()"
   ]
  },
  {
   "cell_type": "code",
   "execution_count": 283,
   "metadata": {},
   "outputs": [],
   "source": [
    "g_I_te, g_I_oe, g_I_ote, g_I_to, g_I_t_gain, g_sqr = np.array(g_I_te), np.array(g_I_oe), np.array(g_I_ote), np.array(g_I_to), np.array(g_I_t_gain), np.array(g_sqr)\n",
    "c_I_te, c_I_oe, c_I_ote, c_I_to, c_I_t_gain, c_sqr = np.array(c_I_te), np.array(c_I_oe), np.array(c_I_ote), np.array(c_I_to), np.array(c_I_t_gain), np.array(c_sqr)"
   ]
  },
  {
   "cell_type": "code",
   "execution_count": 132,
   "metadata": {},
   "outputs": [
    {
     "data": {
      "image/png": "[encoded data removed]",
      "text/plain": [
       "<matplotlib.figure.Figure at 0x7fcf794a86d0>"
      ]
     },
     "metadata": {},
     "output_type": "display_data"
    }
   ],
   "source": [
    "fig1, ax1 = plt.subplots()\n",
    "\n",
    "ax1.bar(2, np.mean(c_I_te/c_I_ote))\n",
    "ax1.errorbar(2, np.mean(c_I_te/c_I_ote), yerr= np.std(c_I_te/c_I_ote))\n",
    "\n",
    "ax1.bar(3, np.mean(g_I_te/g_I_ote), color='r')\n",
    "ax1.errorbar(3, np.mean(g_I_te/g_I_ote), yerr= np.std(g_I_te/g_I_ote), color='r')\n",
    "### Significance bars\n",
    "\n",
    "y, h, col = np.max([np.max(np.mean(g_I_te/g_I_ote)),np.max(np.mean(c_I_te/c_I_ote))])+ 0.2 ,0.1, 'k'\n",
    "plt.plot([2,2, 3, 3], [y, y+h, y+h, y], lw=1.5, c=col)\n",
    "plt.text((2+3)*.5, y+h, \"*\", ha='center', va='bottom', color=col)\n",
    "\n",
    "ax1.bar(5, np.mean(c_I_oe/c_I_ote))\n",
    "ax1.errorbar(5, np.mean(c_I_oe/c_I_ote), yerr= np.std(c_I_oe/c_I_ote))\n",
    "\n",
    "ax1.bar(6, np.mean(g_I_oe/g_I_ote), color='r')\n",
    "ax1.errorbar(6, np.mean(g_I_oe/g_I_ote), yerr= np.std(g_I_oe/g_I_ote), color='r')\n",
    "\n",
    "y, h, col = np.max([np.max(np.mean(g_I_oe/g_I_ote)),np.max(np.mean(c_I_oe/c_I_ote))])+ 0.2 ,0.1, 'k'\n",
    "plt.plot([5,5, 6, 6], [y, y+h, y+h, y], lw=1.5, c=col)\n",
    "plt.text((5+6)*.5, y+h, \"*\", ha='center', va='bottom', color=col)\n",
    "\n",
    "# ax1.bar(11, np.mean(g_I_ote))\n",
    "# ax1.errorbar(11,np.mean(g_I_ote), yerr= np.std(g_I_ote))\n",
    "\n",
    "# ax1.bar(12, np.mean(c_I_ote))\n",
    "# ax1.errorbar(12,np.mean(c_I_ote), yerr= np.std(c_I_ote))\n",
    "\n",
    "#ax1.bar(12, np.mean(c_I_to))\n",
    "#ax1.errorbar(12,np.mean(c_I_to), yerr= np.std(c_I_to))\n",
    "\n",
    "#ax1.bar(11, np.mean(g_I_to))\n",
    "#ax1.errorbar(11,np.mean(g_I_to), yerr= np.std(g_I_to))\n",
    "\n",
    "ax1.bar(8, np.mean(c_I_t_gain/c_I_ote))\n",
    "ax1.errorbar(8,np.mean(c_I_t_gain/c_I_ote), yerr= np.std(c_I_t_gain/c_I_ote))\n",
    "\n",
    "ax1.bar(9, np.mean(g_I_t_gain/g_I_ote), color='r')\n",
    "ax1.errorbar(9,np.mean(g_I_t_gain/g_I_ote), yerr= np.std(g_I_t_gain/g_I_ote), color='r')\n",
    "\n",
    "y, h, col = np.max([np.max(np.mean(g_I_t_gain/g_I_ote)),np.max(np.mean(c_I_t_gain/c_I_ote))])+ 0.3 ,0.1, 'k'\n",
    "plt.plot([8,8, 9, 9], [y, y+h, y+h, y], lw=1.5, c=col)\n",
    "plt.text((8+9)*.5, y+h, \"*\", ha='center', va='bottom', color=col)\n",
    "\n",
    "ax1.set_ylim(0,1.3)\n",
    "\n",
    "indices = [2.5, 5.5, 8.5]\n",
    "ax1.set_xticks(indices)\n",
    "ax1.set_xticklabels(('Pk time', 'Pk amp', 'Gain\\nwith time'))\n",
    "\n",
    "ax1.set_ylabel(\"Norm. Information\")\n",
    "\n",
    "simpleaxis(ax1)\n",
    "fig1.set_figwidth(2)\n",
    "fig1.set_figheight(1.4)\n",
    "dump(fig1,file('figures/fig7/7e_hist_method.pkl','wb'))\n",
    "plt.show()"
   ]
  },
  {
   "cell_type": "code",
   "execution_count": 133,
   "metadata": {},
   "outputs": [
    {
     "data": {
      "image/png": "[encoded data removed]",
      "text/plain": [
       "<matplotlib.figure.Figure at 0x7fcfb89f8950>"
      ]
     },
     "metadata": {},
     "output_type": "display_data"
    }
   ],
   "source": [
    "fig1, ax1 = plt.subplots()\n",
    "\n",
    "ax1.bar(2, np.mean(c_I_ote))\n",
    "ax1.errorbar(2,np.mean(c_I_ote), yerr= np.std(c_I_ote))\n",
    "\n",
    "ax1.bar(3, np.mean(g_I_ote), color='r')\n",
    "ax1.errorbar(3,np.mean(g_I_ote), yerr= np.std(g_I_ote), color='r')\n",
    "\n",
    "y, h, col = np.max([np.max(np.mean(g_I_ote)),np.max(np.mean(c_I_ote))])+ 0.4 ,0.1, 'k'\n",
    "plt.plot([2,2, 3, 3], [y-2*h, y+h, y+h, y], lw=1.5, c=col)\n",
    "plt.text((2+3)*.5, y+1.5*h, \"n.s.\", ha='center', va='bottom', color=col)\n",
    "ax1.set_ylim(0,1.5)\n",
    "ax1.set_xlim(1,4)\n",
    "indices = [2,3]\n",
    "ax1.set_xticks(indices)\n",
    "ax1.set_xticklabels(['C', 'G'])\n",
    "\n",
    "ax1.set_ylabel(\"Tot. Inf. (bits)\")\n",
    "\n",
    "simpleaxis(ax1)\n",
    "fig1.set_figwidth(0.7)\n",
    "fig1.set_figheight(1.4)\n",
    "dump(fig1,file('figures/fig7/7f_hist.pkl','wb'))\n",
    "plt.show()"
   ]
  },
  {
   "cell_type": "code",
   "execution_count": 134,
   "metadata": {},
   "outputs": [
    {
     "name": "stdout",
     "output_type": "stream",
     "text": [
      "RanksumsResult(statistic=-1.5971914124998496, pvalue=0.11022304635486535)\n",
      "RanksumsResult(statistic=0.7027642214999339, pvalue=0.48220269762779056)\n",
      "RanksumsResult(statistic=2.4916186034997656, pvalue=0.012716250355070739)\n",
      "RanksumsResult(statistic=-2.1721803209997956, pvalue=0.02984206441795427)\n",
      "RanksumsResult(statistic=1.0860901604998978, pvalue=0.27743910513984715)\n"
     ]
    }
   ],
   "source": [
    "print(ss.ranksums(g_I_te/g_I_ote, c_I_te/c_I_ote))\n",
    "print(ss.ranksums(g_I_to/g_I_ote, c_I_to/c_I_ote))\n",
    "print(ss.ranksums(g_I_oe/g_I_ote, c_I_oe/c_I_ote))\n",
    "print(ss.ranksums(g_I_t_gain/g_I_ote, c_I_t_gain/c_I_ote))\n",
    "print(ss.ranksums(g_I_ote, c_I_ote))"
   ]
  },
  {
   "cell_type": "code",
   "execution_count": null,
   "metadata": {},
   "outputs": [],
   "source": [
    "print(ss.ranksums(g_I_oe/g_I_ote, c_I_oe/c_I_ote))\n",
    "print(ss.ranksums(g_I_t_gain/g_I_ote, c_I_t_gain/c_I_ote))"
   ]
  },
  {
   "cell_type": "code",
   "execution_count": 195,
   "metadata": {},
   "outputs": [
    {
     "data": {
      "text/plain": [
       "[(-0.020746375929228122, -0.24378850908253025),\n",
       " (-0.3918538710885864, -0.5978476096567107),\n",
       " (-0.1257812489257617, -0.2017509382791749),\n",
       " (-0.24015970702051792, -0.35676806704501196),\n",
       " (-0.07494026287844502, -0.37968100616029865),\n",
       " (-0.1430378723964516, -0.3055247716470433),\n",
       " (-0.29656477105258805, -0.6359536310877942)]"
      ]
     },
     "execution_count": 195,
     "metadata": {},
     "output_type": "execute_result"
    }
   ],
   "source": [
    "zip(np.array(g_I_te) + np.array(g_I_oe) - np.array(g_I_ote), np.array(c_I_te) + np.array(c_I_oe) - np.array(c_I_ote))"
   ]
  },
  {
   "cell_type": "code",
   "execution_count": 196,
   "metadata": {},
   "outputs": [
    {
     "data": {
      "text/plain": [
       "[(0.18643100786698882, 0.3683941924913172),\n",
       " (0.1939665744897002, 0.22511330385993267),\n",
       " (0.15484937582306046, 0.21820657573116678),\n",
       " (0.20469542182345551, 0.18152889681795806),\n",
       " (0.15907776683040645, 0.19427545957566508),\n",
       " (0.30519153082732636, 0.32569623845213047),\n",
       " (0.2340289986012663, 0.30063600177645994)]"
      ]
     },
     "execution_count": 196,
     "metadata": {},
     "output_type": "execute_result"
    }
   ],
   "source": [
    "zip(np.array(g_I_te)/g_I_ote , np.array(c_I_te)/c_I_ote )"
   ]
  },
  {
   "cell_type": "code",
   "execution_count": 197,
   "metadata": {},
   "outputs": [
    {
     "data": {
      "text/plain": [
       "[(0.8010416143305753, 0.3556425890276252),\n",
       " (0.4156377297455394, 0.24851792341470688),\n",
       " (0.7742283329524754, 0.6362283778291647),\n",
       " (0.5165059587985755, 0.469249189089882),\n",
       " (0.7891117025093701, 0.39729370792156127),\n",
       " (0.5662801140576961, 0.4349116758389324),\n",
       " (0.552584350977859, 0.31479311186511877)]"
      ]
     },
     "execution_count": 197,
     "metadata": {},
     "output_type": "execute_result"
    }
   ],
   "source": [
    "zip(np.array(g_I_oe)/g_I_ote , np.array(c_I_oe)/c_I_ote )"
   ]
  },
  {
   "cell_type": "code",
   "execution_count": null,
   "metadata": {},
   "outputs": [],
   "source": [
    "zip(np.array(g_I_t_gain)/g_I_ote , np.array(c_I_t_gain)/c_I_ote )"
   ]
  },
  {
   "cell_type": "code",
   "execution_count": null,
   "metadata": {},
   "outputs": [],
   "source": [
    "fig, ax = plt.subplots()\n",
    "indices = np.argsort(c_I_t_gain/c_I_ote)\n",
    "ax.plot(g_I_to[indices]/g_I_ote[indices], 'r', label=\"GABAzine MI peak and time\")\n",
    "ax.plot(c_I_to[indices]/c_I_ote[indices], 'k', label=\"Control MI peak and time\")\n",
    "simpleaxis(ax)\n",
    "ax.legend()\n",
    "fig.set_figheight(4)\n",
    "fig.set_figwidth(8)\n",
    "plt.show()"
   ]
  },
  {
   "cell_type": "code",
   "execution_count": null,
   "metadata": {},
   "outputs": [],
   "source": [
    "bins = np.linspace(-0.5,0.5,11)\n",
    "plt.hist((c_I_te - c_I_t_gain)/c_I_ote, bins=bins, color='k',histtype='step')\n",
    "plt.hist((g_I_te - g_I_t_gain)/g_I_ote, bins=bins, color='r',histtype='step')\n",
    "plt.vlines(x=0,ymin=0,ymax=6.2,color='g')\n",
    "plt.ylabel(\"Interaction Information\")\n",
    "plt.show()"
   ]
  },
  {
   "cell_type": "code",
   "execution_count": null,
   "metadata": {},
   "outputs": [],
   "source": [
    "np.mean(g_I_te/g_I_ote), np.mean(g_I_t_gain/g_I_ote)"
   ]
  },
  {
   "cell_type": "code",
   "execution_count": null,
   "metadata": {},
   "outputs": [],
   "source": [
    "np.mean(c_I_te/c_I_ote), np.mean(c_I_t_gain/c_I_ote)"
   ]
  },
  {
   "cell_type": "code",
   "execution_count": null,
   "metadata": {},
   "outputs": [],
   "source": [
    "c_sqr, g_sqr"
   ]
  },
  {
   "cell_type": "markdown",
   "metadata": {},
   "source": [
    "# Squares prediction Information Theory"
   ]
  },
  {
   "cell_type": "code",
   "execution_count": 53,
   "metadata": {},
   "outputs": [],
   "source": [
    "currentClampFiles = '/media/sahil/NCBS_Shares_BGStim/patch_data/current_clamp_with_CS.txt'\n",
    "with open (currentClampFiles,'r') as r:\n",
    "    dirnames = r.read().splitlines()"
   ]
  },
  {
   "cell_type": "code",
   "execution_count": 54,
   "metadata": {},
   "outputs": [],
   "source": [
    "feature = 0\n",
    "neurons = {}\n",
    "for dirname in dirnames:\n",
    "    cellIndex = dirname.split('/')[-2]\n",
    "    filename = dirname + 'plots/' + cellIndex + '.pkl'\n",
    "    n = Neuron.load(filename)\n",
    "    neurons[str(n.date) + '_' + str(n.index)] = n"
   ]
  },
  {
   "cell_type": "code",
   "execution_count": 55,
   "metadata": {},
   "outputs": [],
   "source": [
    "I_tsq, I_osq, I_otsq = [], [], []\n",
    "feature = 0 # Area under the curve\n",
    "for index in neurons:\n",
    "    neuron = neurons[index]\n",
    "    for expType, exp in neuron:\n",
    "        ## Control case\n",
    "        if(expType == \"Control\"):\n",
    "            expected = []\n",
    "            observed = []\n",
    "            time = []\n",
    "            sqrArr = []\n",
    "            for sqr in exp:\n",
    "                for coord in exp[sqr].coordwise:\n",
    "                    for trial in exp[sqr].coordwise[coord].trials:\n",
    "                        if all([value == 0 for value in trial.flags.values()]):\n",
    "                            observed.append(trial.feature[feature])\n",
    "                            time.append(np.argmax(trial.interestWindow)/20.)\n",
    "                            sqrArr.append(sqr)\n",
    "            if len(sqrArr):\n",
    "                #bins = int(min([getNumBins(expected) , getNumBins(observed) , getNumBins(time)])/1.5)\n",
    "                bins = max(set(sqrArr)) - 1\n",
    "                I_tsq.append(calc_MI(time, sqrArr, bins))\n",
    "                I_osq.append(calc_MI(observed, sqrArr,bins))\n",
    "                I_otsq.append(calc_TI(time, observed, sqrArr ,bins))"
   ]
  },
  {
   "cell_type": "code",
   "execution_count": 56,
   "metadata": {},
   "outputs": [
    {
     "data": {
      "image/png": "[encoded data removed]",
      "text/plain": [
       "<matplotlib.figure.Figure at 0x7f4945e23bd0>"
      ]
     },
     "metadata": {},
     "output_type": "display_data"
    }
   ],
   "source": [
    "I_tsq, I_osq, I_otsq = np.array(I_tsq), np.array(I_osq), np.array(I_otsq)\n",
    "fig, ax = plt.subplots()\n",
    "indices = np.argsort(I_otsq)\n",
    "ax.plot(I_tsq[indices], 'r.-', label=\"Time\")\n",
    "ax.plot(I_osq[indices], 'g.-', label=\"Peak amplitude\")\n",
    "# ax.plot(I_tsq[indices] + I_osq[indices], 'm.--', label=\"Sum of time and peak amplitude\")\n",
    "ax.plot(I_otsq[indices], 'b.-', label=\"Total Information in time and peak\")\n",
    "xmin, xmax = ax.get_xlim()\n",
    "ax.hlines(y=0, xmin=xmin, xmax=xmax, linestyles='--')\n",
    "simpleaxis(ax)\n",
    "plt.legend()\n",
    "fig.set_figheight(8)\n",
    "fig.set_figwidth(8)\n",
    "# ax.set_xlim(0,1)\n",
    "# ax.set_ylim(0,1)\n",
    "plt.show()"
   ]
  },
  {
   "cell_type": "markdown",
   "metadata": {},
   "source": [
    "## GABAzine case"
   ]
  },
  {
   "cell_type": "code",
   "execution_count": 57,
   "metadata": {},
   "outputs": [],
   "source": [
    "I_tsq, I_osq, I_otsq, n_indices, I_t_gain = [], [], [], [], []\n",
    "feature = 0 # Area under the curve\n",
    "for index in neurons:\n",
    "    neuron = neurons[index]\n",
    "    if \"GABAzine\" in neuron.experiment:\n",
    "        for expType, exp in neuron:\n",
    "            ## Control case\n",
    "            if(expType == \"Control\"):\n",
    "                expected = []\n",
    "                observed = []\n",
    "                time = []\n",
    "                sqrArr = []\n",
    "                for sqr in exp:\n",
    "                    for coord in exp[sqr].coordwise:\n",
    "                        for trial in exp[sqr].coordwise[coord].trials:\n",
    "                            if all([value == 0 for value in trial.flags.values()]):\n",
    "                                observed.append(trial.feature[feature])\n",
    "                                time.append(np.argmax(trial.interestWindow)/20.)\n",
    "                                sqrArr.append(sqr)\n",
    "                if len(sqrArr):\n",
    "                    #bins = int(min([getNumBins(expected) , getNumBins(observed) , getNumBins(time)])/1.5)\n",
    "                    n_indices.append(\"{}_{}\".format(neuron.date, neuron.index))\n",
    "                    bins = max(set(sqrArr)) - 1\n",
    "                    I_tsq.append(calc_MI(time, sqrArr, bins))\n",
    "                    I_osq.append(calc_MI(observed, sqrArr,bins))\n",
    "                    I_otsq.append(calc_TI(time, observed, sqrArr ,bins))\n",
    "                    I_t_gain.append(gain_inf(sqrArr,time, observed,bins))"
   ]
  },
  {
   "cell_type": "code",
   "execution_count": 58,
   "metadata": {},
   "outputs": [
    {
     "data": {
      "text/plain": [
       "(0, 1.2)"
      ]
     },
     "execution_count": 58,
     "metadata": {},
     "output_type": "execute_result"
    },
    {
     "data": {
      "image/png": "[encoded data removed]",
      "text/plain": [
       "<matplotlib.figure.Figure at 0x7f494d7014d0>"
      ]
     },
     "metadata": {},
     "output_type": "display_data"
    }
   ],
   "source": [
    "#fig, ax = plt.subplots(2,1,sharex=True)\n",
    "fig, ax = plt.subplots()\n",
    "I_tsq, I_osq, I_otsq, I_t_gain = np.array(I_tsq), np.array(I_osq), np.array(I_otsq), np.array(I_t_gain)\n",
    "indices = np.argsort(I_tsq)\n",
    "ax.plot(I_tsq[indices], 'rv-', label= \"Control \" + \"Time\")\n",
    "ax.plot(I_osq[indices], 'gv-', label=\"Control \" + \"Peak amplitude\")\n",
    "# ax.plot(I_tsq[indices] + I_osq[indices], 'm.--', label=\"Sum of time and peak amplitude\")\n",
    "ax.plot(I_otsq[indices], 'bv-', label=\"Control \" + \"Peak and time\")\n",
    "xmin, xmax = ax.get_xlim()\n",
    "ax.hlines(y=0, xmin=xmin, xmax=xmax, linestyles='--')\n",
    "ax.legend()\n",
    "ax.set_ylim(0,1.2)"
   ]
  },
  {
   "cell_type": "code",
   "execution_count": 59,
   "metadata": {},
   "outputs": [
    {
     "data": {
      "image/png": "[encoded data removed]",
      "text/plain": [
       "<matplotlib.figure.Figure at 0x7f49986e1dd0>"
      ]
     },
     "metadata": {},
     "output_type": "display_data"
    }
   ],
   "source": [
    "fig1, ax1 = plt.subplots()\n",
    "ax1.bar(2, np.mean(I_tsq))\n",
    "ax1.errorbar(2, np.mean(I_tsq), yerr= np.std(I_tsq))\n",
    "\n",
    "ax1.bar(5, np.mean(I_osq))\n",
    "ax1.errorbar(5, np.mean(I_osq), yerr= np.std(I_osq))\n",
    "\n",
    "ax1.bar(8, np.mean(I_otsq))\n",
    "ax1.errorbar(8,np.mean(I_otsq), yerr= np.std(I_otsq))\n",
    "\n",
    "ax1.bar(11, np.mean(I_t_gain))\n",
    "ax1.errorbar(11,np.mean(I_t_gain), yerr= np.std(I_t_gain))\n",
    "\n",
    "I_t_gain_control = I_t_gain\n",
    "I_osq_control = I_osq\n",
    "I_otsq_control = I_otsq"
   ]
  },
  {
   "cell_type": "code",
   "execution_count": 60,
   "metadata": {},
   "outputs": [],
   "source": [
    "I_tsq, I_osq, I_otsq, n_indices, I_t_gain = [], [], [], [], []\n",
    "feature = 0 # Area under the curve\n",
    "for index in neurons:\n",
    "    neuron = neurons[index]\n",
    "    for expType, exp in neuron:\n",
    "        ## Control case\n",
    "        if(expType == \"GABAzine\"):\n",
    "            expected = []\n",
    "            observed = []\n",
    "            time = []\n",
    "            sqrArr = []\n",
    "            for sqr in exp:\n",
    "                for coord in exp[sqr].coordwise:\n",
    "                    for trial in exp[sqr].coordwise[coord].trials:\n",
    "                        if all([value == 0 for value in trial.flags.values()]):\n",
    "                            observed.append(trial.feature[feature])\n",
    "                            time.append(np.argmax(trial.interestWindow)/20.)\n",
    "                            sqrArr.append(sqr)\n",
    "            if len(sqrArr):\n",
    "                #bins = int(min([getNumBins(expected) , getNumBins(observed) , getNumBins(time)])/1.5)\n",
    "                n_indices.append(\"{}_{}\".format(neuron.date, neuron.index))\n",
    "                bins = max(set(sqrArr)) - 1\n",
    "                I_tsq.append(calc_MI(time, sqrArr, bins))\n",
    "                I_osq.append(calc_MI(observed, sqrArr,bins))\n",
    "                I_otsq.append(calc_TI(time, observed, sqrArr ,bins))\n",
    "                I_t_gain.append(gain_inf(sqrArr,time, observed,bins))"
   ]
  },
  {
   "cell_type": "code",
   "execution_count": 61,
   "metadata": {},
   "outputs": [],
   "source": [
    "I_tsq, I_osq, I_otsq, I_t_gain = np.array(I_tsq), np.array(I_osq), np.array(I_otsq), np.array(I_t_gain)\n",
    "ax.plot(I_tsq[indices], 'ro--', label=\"GABAzine \" + \"Time\")\n",
    "ax.plot(I_osq[indices], 'go--', label=\"GABAzine \" + \"Peak amplitude\")\n",
    "# ax.plot(I_tsq[indices] + I_osq[indices], 'm.--', label=\"Sum of time and peak amplitude\")\n",
    "ax.plot(I_otsq[indices], 'bo--', label=\"GABAzine \" + \"Peak and time\")\n",
    "xmin, xmax = ax.get_xlim()\n",
    "ax.hlines(y=0, xmin=xmin, xmax=xmax, linestyles='--')\n",
    "ax.legend()\n",
    "# ax.set_xlim(0,1)\n",
    "ax.set_ylim(0,1.2)\n",
    "fig.set_figheight(8)\n",
    "fig.set_figwidth(8)"
   ]
  },
  {
   "cell_type": "code",
   "execution_count": 62,
   "metadata": {},
   "outputs": [],
   "source": [
    "ax1.bar(3, np.mean(I_tsq))\n",
    "ax1.errorbar(3, np.mean(I_tsq), yerr= np.std(I_tsq))\n",
    "\n",
    "ax1.bar(6, np.mean(I_osq))\n",
    "ax1.errorbar(6, np.mean(I_osq), yerr= np.std(I_osq))\n",
    "\n",
    "ax1.bar(9, np.mean(I_otsq))\n",
    "ax1.errorbar(9,np.mean(I_otsq), yerr= np.std(I_otsq))\n",
    "\n",
    "ax1.bar(12, np.mean(I_t_gain))\n",
    "ax1.errorbar(12,np.mean(I_t_gain), yerr= np.std(I_t_gain))\n",
    "plt.show()\n",
    "\n",
    "I_t_gain_gaba = I_t_gain\n",
    "I_osq_gaba = I_osq\n",
    "I_otsq_gaba = I_otsq"
   ]
  },
  {
   "cell_type": "code",
   "execution_count": 63,
   "metadata": {},
   "outputs": [
    {
     "name": "stdout",
     "output_type": "stream",
     "text": [
      "RanksumsResult(statistic=-0.3194382824999699, pvalue=0.7493941849625707)\n",
      "RanksumsResult(statistic=-0.9583148474999098, pvalue=0.33790401910300505)\n",
      "RanksumsResult(statistic=-0.9583148474999098, pvalue=0.33790401910300505)\n"
     ]
    }
   ],
   "source": [
    "print(ss.ranksums(I_t_gain_gaba, I_t_gain_control))\n",
    "print(ss.ranksums(I_osq_gaba, I_osq_control))\n",
    "print(ss.ranksums(I_otsq_gaba, I_otsq_control))"
   ]
  }
 ],
 "metadata": {
  "hide_input": false,
  "kernelspec": {
   "display_name": "Python 2",
   "language": "python",
   "name": "python2"
  },
  "language_info": {
   "codemirror_mode": {
    "name": "ipython",
    "version": 2
   },
   "file_extension": ".py",
   "mimetype": "text/x-python",
   "name": "python",
   "nbconvert_exporter": "python",
   "pygments_lexer": "ipython2",
   "version": "2.7.12"
  },
  "latex_envs": {
   "LaTeX_envs_menu_present": true,
   "autocomplete": true,
   "bibliofile": "biblio.bib",
   "cite_by": "apalike",
   "current_citInitial": 1,
   "eqLabelWithNumbers": true,
   "eqNumInitial": 1,
   "hotkeys": {
    "equation": "Ctrl-E",
    "itemize": "Ctrl-I"
   },
   "labels_anchors": false,
   "latex_user_defs": false,
   "report_style_numbering": false,
   "user_envs_cfg": false
  },
  "toc": {
   "colors": {
    "hover_highlight": "#DAA520",
    "navigate_num": "#000000",
    "navigate_text": "#333333",
    "running_highlight": "#FF0000",
    "selected_highlight": "#FFD700",
    "sidebar_border": "#EEEEEE",
    "wrapper_background": "#FFFFFF"
   },
   "moveMenuLeft": true,
   "nav_menu": {
    "height": "12px",
    "width": "252px"
   },
   "navigate_menu": true,
   "number_sections": true,
   "sideBar": true,
   "threshold": 4,
   "toc_cell": false,
   "toc_section_display": "block",
   "toc_window_display": true,
   "widenNotebook": false
  },
  "varInspector": {
   "cols": {
    "lenName": 16,
    "lenType": 16,
    "lenVar": 40
   },
   "kernels_config": {
    "python": {
     "delete_cmd_postfix": "",
     "delete_cmd_prefix": "del ",
     "library": "var_list.py",
     "varRefreshCmd": "print(var_dic_list())"
    },
    "r": {
     "delete_cmd_postfix": ") ",
     "delete_cmd_prefix": "rm(",
     "library": "var_list.r",
     "varRefreshCmd": "cat(var_dic_list()) "
    }
   },
   "types_to_exclude": [
    "module",
    "function",
    "builtin_function_or_method",
    "instance",
    "_Feature"
   ],
   "window_display": false
  }
 },
 "nbformat": 4,
 "nbformat_minor": 2
}
