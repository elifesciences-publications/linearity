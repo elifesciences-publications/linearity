{
 "cells": [
  {
   "cell_type": "code",
   "execution_count": 1,
   "metadata": {
    "collapsed": true
   },
   "outputs": [],
   "source": [
    "import glob\n",
    "import matplotlib\n",
    "import matplotlib.pyplot as plt\n",
    "import pickle\n",
    "from pickle import dump\n",
    "import lmfit\n",
    "import numpy as np\n",
    "import scipy.stats as ss\n",
    "plt.style.use('neuron')\n",
    "import statsmodels.api as sm\n",
    "from statsmodels.sandbox.regression.predstd import wls_prediction_std\n",
    "from statsmodels.formula.api import ols, rlm\n",
    "import sys\n",
    "sys.path.append('../')\n",
    "from Linearity import Neuron"
   ]
  },
  {
   "cell_type": "code",
   "execution_count": 2,
   "metadata": {
    "collapsed": true
   },
   "outputs": [],
   "source": [
    "def simpleaxis(axes, every=False):\n",
    "    if not isinstance(axes, (list, np.ndarray)):\n",
    "        axes = [axes]\n",
    "    for ax in axes:\n",
    "        ax.spines['top'].set_visible(False)\n",
    "        ax.spines['right'].set_visible(False)\n",
    "        if every:\n",
    "            ax.spines['bottom'].set_visible(False)\n",
    "            ax.spines['left'].set_visible(False)\n",
    "        ax.get_xaxis().tick_bottom()\n",
    "        ax.get_yaxis().tick_left()\n",
    "        ax.set_title('')"
   ]
  },
  {
   "cell_type": "code",
   "execution_count": 3,
   "metadata": {
    "collapsed": true
   },
   "outputs": [],
   "source": [
    "def getNumBins(X, rule=\"S\"):\n",
    "\n",
    "    if rule == \"FD\":\n",
    "        # Freedman‐Diaconis Rule!\n",
    "        minMax = max(X) - min(X)\n",
    "        Qx = sp.stats.iqr(X)\n",
    "        N_cubrt = np.cbrt(len(X))\n",
    "        print (minMax, Qx, N_cubrt, minMax/(2.* Qx * N_cubrt))\n",
    "        return int(np.ceil(minMax/(2.* Qx * N_cubrt)))\n",
    "    elif rule == \"S\":\n",
    "        # Sturges’ Rule!\n",
    "        return int(np.ceil(1. + np.log2(len(X))))\n",
    "\n",
    "def calc_MI(X,Y,bins):\n",
    "\n",
    "    c_X = np.histogram(X, bins=bins)[0]\n",
    "    c_Y = np.histogram(Y, bins=bins)[0]\n",
    "    c_XY = np.histogram2d(X,Y, bins=bins)[0]\n",
    "\n",
    "    H_X = shan_entropy(c_X)\n",
    "    H_Y = shan_entropy(c_Y)\n",
    "    H_XY = shan_entropy(c_XY)\n",
    "\n",
    "    MI = H_X + H_Y - H_XY\n",
    "    normalized_MI = MI    # In bits, or normalize: /(np.sqrt(H_X*H_Y))\n",
    "    return normalized_MI\n",
    "\n",
    "def calc_TI(X,Y,Z,bins):\n",
    "\n",
    "    c_X = np.histogram(X, bins=bins)[0]\n",
    "    c_Y = np.histogram(Y, bins=bins)[0]\n",
    "    c_Z = np.histogram(Z, bins=bins)[0]\n",
    "\n",
    "    c_XY = np.histogram2d(X,Y, bins=bins)[0]\n",
    "    c_XYZ = np.histogramdd((X,Y,Z), bins=bins)[0]\n",
    "\n",
    "    H_X = shan_entropy(c_X)\n",
    "    H_Y = shan_entropy(c_Y)\n",
    "    H_Z = shan_entropy(c_Z)\n",
    "\n",
    "    H_XY = shan_entropy(c_XY)\n",
    "    H_XYZ = shan_entropy(c_XYZ)\n",
    "\n",
    "    TI = H_Z + H_XY - H_XYZ\n",
    "    normalized_TI = TI  # In bits, or normalize: /(np.sqrt(H_X*H_Y))\n",
    "    return normalized_TI\n",
    "\n",
    "\n",
    "def shan_entropy(c):\n",
    "    c_normalized = c / float(np.sum(c))\n",
    "    c_normalized = c_normalized[np.nonzero(c_normalized)]\n",
    "    H = -sum(c_normalized* np.log2(c_normalized))\n",
    "    return H"
   ]
  },
  {
   "cell_type": "code",
   "execution_count": 4,
   "metadata": {
    "collapsed": true
   },
   "outputs": [],
   "source": [
    "currentClampFiles = '/media/sahil/NCBS_Shares_BGStim/patch_data/current_clamp_files.txt'\n",
    "with open (currentClampFiles,'r') as r:\n",
    "    dirnames = r.read().splitlines()"
   ]
  },
  {
   "cell_type": "code",
   "execution_count": 5,
   "metadata": {
    "collapsed": true
   },
   "outputs": [],
   "source": [
    "feature = 0\n",
    "scalingFactor = 1e9\n",
    "neurons = {}\n",
    "for dirname in dirnames:\n",
    "    cellIndex = dirname.split('/')[-2]\n",
    "    filename = dirname + 'plots/' + cellIndex + '.pkl'\n",
    "    n = Neuron.load(filename)\n",
    "    neurons[str(n.date) + '_' + str(n.index)] = n"
   ]
  },
  {
   "cell_type": "code",
   "execution_count": 6,
   "metadata": {
    "collapsed": true
   },
   "outputs": [],
   "source": [
    "feature = 0 # Area under the curve\n",
    "neuron = neurons['170303_c1']\n",
    "expected, observed, g_expected, g_observed, time = {}, {}, {}, {}, {}\n",
    "for expType, exp in neuron:\n",
    "    ## Control case\n",
    "    if(expType == \"Control\"):\n",
    "        expected = []\n",
    "        observed = []\n",
    "        time = []\n",
    "        sqrArr = []\n",
    "        for sqr in exp:\n",
    "            if sqr > 1:\n",
    "                for coord in exp[sqr].coordwise:\n",
    "                    for trial in exp[sqr].coordwise[coord].trials:\n",
    "                        if all([value == 0 for value in trial.flags.values()]):\n",
    "                            expected.append(exp[sqr].coordwise[coord].expected_feature[feature])\n",
    "                            observed.append(trial.feature[feature])\n",
    "                            time.append(np.argmax(trial.interestWindow)/20.)\n",
    "                            sqrArr.append(sqr)"
   ]
  },
  {
   "cell_type": "code",
   "execution_count": 26,
   "metadata": {},
   "outputs": [
    {
     "name": "stderr",
     "output_type": "stream",
     "text": [
      "/usr/local/lib/python2.7/dist-packages/ipykernel_launcher.py:4: RuntimeWarning: Mean of empty slice.\n",
      "  after removing the cwd from sys.path.\n",
      "/usr/local/lib/python2.7/dist-packages/ipykernel_launcher.py:5: RuntimeWarning: Mean of empty slice.\n",
      "  \"\"\"\n",
      "/usr/local/lib/python2.7/dist-packages/ipykernel_launcher.py:6: RuntimeWarning: Mean of empty slice.\n",
      "  \n"
     ]
    },
    {
     "data": {
      "image/png": "[encoded data removed]",
      "text/plain": [
       "<matplotlib.figure.Figure at 0x7f30fa405310>"
      ]
     },
     "metadata": {},
     "output_type": "display_data"
    }
   ],
   "source": [
    "expected, observed, time = np.array(expected), np.array(observed), np.array(time)\n",
    "bins = np.linspace(0, 20, 15)\n",
    "digitized = np.digitize(expected, bins)\n",
    "ex_means = [expected[digitized == i].mean() for i in range(1, len(bins))]\n",
    "ob_means = [observed[digitized == i].mean() for i in range(1, len(bins))]\n",
    "t_means = [time[digitized == i].mean() for i in range(1, len(bins))]\n",
    "\n",
    "ex_std = [expected[digitized == i].std() for i in range(1, len(bins))]\n",
    "ob_std = [observed[digitized == i].std() for i in range(1, len(bins))]\n",
    "t_std = [time[digitized == i].std() for i in range(1, len(bins))]\n",
    "\n",
    "fig, ax = plt.subplots(1,2, sharey=True)\n",
    "ax[0].errorbar(ob_means, ex_means, xerr=ob_std, yerr=ex_std, c='k', fmt='.')\n",
    "ax[1].errorbar(t_means, ex_means, xerr=t_std, yerr=ex_std, c='k', fmt='.')\n",
    "\n",
    "ax[0].set_xlim(0,8)\n",
    "ax[1].set_xlim(10,40)\n",
    "ax[0].set_xlabel('Peak voltage (mV)')\n",
    "ax[1].set_xlabel('Peak time (ms)')\n",
    "ax[0].set_ylabel('Expected (mV)')\n",
    "simpleaxis(ax)\n",
    "fig.set_figheight(2)\n",
    "fig.set_figwidth(3)\n",
    "fig.tight_layout()\n",
    "dump(fig,file('figures/fig7/7a.pkl','wb'))\n",
    "plt.show()\n",
    "\n",
    "# ax[0].scatter(observed, expected, s= 10)\n",
    "# ax[1].scatter(time, expected, s= 10)\n",
    "# ax[0].set_xlim(0,10)\n",
    "# ax[1].set_xlim(0,50)\n",
    "# ax[0].set_xlabel('Observed peak voltage (mV)')\n",
    "# ax[1].set_xlabel('Peak time (ms)')\n",
    "# ax[0].set_ylabel('Expected peak voltage (mV)')\n",
    "# simpleaxis(ax)\n",
    "# dump(fig,file('figures/fig7/7a.pkl','wb'))\n",
    "# plt.show()"
   ]
  },
  {
   "cell_type": "code",
   "execution_count": 27,
   "metadata": {
    "collapsed": true
   },
   "outputs": [],
   "source": [
    "bins = int(min([getNumBins(expected) , getNumBins(observed) , getNumBins(time)])/1.5)"
   ]
  },
  {
   "cell_type": "code",
   "execution_count": 10,
   "metadata": {
    "collapsed": true
   },
   "outputs": [],
   "source": [
    "I_te = calc_MI(time, expected,bins)\n",
    "I_oe = calc_MI(observed, expected,bins)\n",
    "I_ote = calc_TI(time, observed, expected ,bins)"
   ]
  },
  {
   "cell_type": "code",
   "execution_count": 11,
   "metadata": {},
   "outputs": [
    {
     "data": {
      "text/plain": [
       "(0.25954713341413704, 0.395451093272988, 0.67928525514478189)"
      ]
     },
     "execution_count": 11,
     "metadata": {},
     "output_type": "execute_result"
    }
   ],
   "source": [
    "I_te, I_oe, I_ote"
   ]
  },
  {
   "cell_type": "markdown",
   "metadata": {},
   "source": [
    "## Calculating MI for all cells"
   ]
  },
  {
   "cell_type": "code",
   "execution_count": 12,
   "metadata": {
    "collapsed": true
   },
   "outputs": [],
   "source": [
    "I_te, I_oe, I_ote = [], [], []\n",
    "feature = 0 # Area under the curve\n",
    "for index in neurons:\n",
    "    neuron = neurons[index]\n",
    "    for expType, exp in neuron:\n",
    "        ## Control case\n",
    "        if(expType == \"Control\"):\n",
    "            expected = []\n",
    "            observed = []\n",
    "            time = []\n",
    "            sqrArr = []\n",
    "            for sqr in exp:\n",
    "                if sqr > 1:\n",
    "                    for coord in exp[sqr].coordwise:\n",
    "                        for trial in exp[sqr].coordwise[coord].trials:\n",
    "                            if all([value == 0 for value in trial.flags.values()]):\n",
    "                                expected.append(exp[sqr].coordwise[coord].expected_feature[feature])\n",
    "                                observed.append(trial.feature[feature])\n",
    "                                time.append(np.argmax(trial.interestWindow)/20.)\n",
    "                                sqrArr.append(sqr)\n",
    "            if len(expected):\n",
    "                bins = int(min([getNumBins(expected) , getNumBins(observed) , getNumBins(time)])/1.5)\n",
    "                I_te.append(calc_MI(time, expected,bins))\n",
    "                I_oe.append(calc_MI(observed, expected,bins))\n",
    "                I_ote.append(calc_TI(time, observed, expected ,bins))"
   ]
  },
  {
   "cell_type": "code",
   "execution_count": 21,
   "metadata": {},
   "outputs": [
    {
     "data": {
      "image/png": "[encoded data removed]",
      "text/plain": [
       "<matplotlib.figure.Figure at 0x7fe5b6942e50>"
      ]
     },
     "metadata": {},
     "output_type": "display_data"
    }
   ],
   "source": [
    "I_te, I_oe, I_ote = np.array(I_te), np.array(I_oe), np.array(I_ote)\n",
    "fig, ax = plt.subplots()\n",
    "indices = np.argsort(I_te)\n",
    "# ax.plot(I_te[indices], c='r', label=\"Time\")\n",
    "# ax.plot(I_oe[indices], c='g', label=\"Peak amplitude\")\n",
    "ax.plot(I_te[indices] + I_oe[indices], 'b--', label=\"Sum of time and peak amplitude\")\n",
    "ax.plot(I_ote[indices], c='b', label=\"Total Information in time and peak\")\n",
    "simpleaxis(ax)\n",
    "plt.legend()\n",
    "fig.set_figheight(6)\n",
    "fig.set_figwidth(6)\n",
    "plt.savefig('figures/Fig_7_b.png')\n",
    "# ax.set_xlim(0,1)\n",
    "# ax.set_ylim(0,1)\n",
    "plt.show()"
   ]
  },
  {
   "cell_type": "code",
   "execution_count": 25,
   "metadata": {},
   "outputs": [
    {
     "name": "stdout",
     "output_type": "stream",
     "text": [
      "17.010449338\n"
     ]
    }
   ],
   "source": [
    "observed = np.array(observed)\n",
    "time = np.array(time)\n",
    "expected = np.array(expected)\n",
    "\n",
    "print(shan_entropy(time) + shan_entropy(observed))"
   ]
  },
  {
   "cell_type": "code",
   "execution_count": 18,
   "metadata": {},
   "outputs": [
    {
     "data": {
      "image/png": "[encoded data removed]",
      "text/plain": [
       "<matplotlib.figure.Figure at 0x7fe5c0c5c2d0>"
      ]
     },
     "metadata": {},
     "output_type": "display_data"
    }
   ],
   "source": [
    "fig, ax = plt.subplots()\n",
    "ax.hist(I_te, color='r', alpha=0.2)\n",
    "ax.hist(I_oe, color='b', alpha=0.2)\n",
    "ax.hist(I_te + I_oe, color='g', alpha=0.2)\n",
    "ax.hist(I_ote, color='g', alpha=0.2)\n",
    "plt.show()"
   ]
  }
 ],
 "metadata": {
  "hide_input": false,
  "kernelspec": {
   "display_name": "Python 2",
   "language": "python",
   "name": "python2"
  },
  "language_info": {
   "codemirror_mode": {
    "name": "ipython",
    "version": 2
   },
   "file_extension": ".py",
   "mimetype": "text/x-python",
   "name": "python",
   "nbconvert_exporter": "python",
   "pygments_lexer": "ipython2",
   "version": "2.7.12"
  },
  "latex_envs": {
   "LaTeX_envs_menu_present": true,
   "autocomplete": true,
   "bibliofile": "biblio.bib",
   "cite_by": "apalike",
   "current_citInitial": 1,
   "eqLabelWithNumbers": true,
   "eqNumInitial": 1,
   "hotkeys": {
    "equation": "Ctrl-E",
    "itemize": "Ctrl-I"
   },
   "labels_anchors": false,
   "latex_user_defs": false,
   "report_style_numbering": false,
   "user_envs_cfg": false
  },
  "toc": {
   "colors": {
    "hover_highlight": "#DAA520",
    "navigate_num": "#000000",
    "navigate_text": "#333333",
    "running_highlight": "#FF0000",
    "selected_highlight": "#FFD700",
    "sidebar_border": "#EEEEEE",
    "wrapper_background": "#FFFFFF"
   },
   "moveMenuLeft": true,
   "nav_menu": {
    "height": "12px",
    "width": "252px"
   },
   "navigate_menu": true,
   "number_sections": true,
   "sideBar": true,
   "threshold": 4,
   "toc_cell": false,
   "toc_section_display": "block",
   "toc_window_display": true,
   "widenNotebook": false
  },
  "varInspector": {
   "cols": {
    "lenName": 16,
    "lenType": 16,
    "lenVar": 40
   },
   "kernels_config": {
    "python": {
     "delete_cmd_postfix": "",
     "delete_cmd_prefix": "del ",
     "library": "var_list.py",
     "varRefreshCmd": "print(var_dic_list())"
    },
    "r": {
     "delete_cmd_postfix": ") ",
     "delete_cmd_prefix": "rm(",
     "library": "var_list.r",
     "varRefreshCmd": "cat(var_dic_list()) "
    }
   },
   "types_to_exclude": [
    "module",
    "function",
    "builtin_function_or_method",
    "instance",
    "_Feature"
   ],
   "window_display": false
  }
 },
 "nbformat": 4,
 "nbformat_minor": 2
}
