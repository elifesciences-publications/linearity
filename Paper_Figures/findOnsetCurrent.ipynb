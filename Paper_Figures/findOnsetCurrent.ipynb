{
 "cells": [
  {
   "cell_type": "code",
   "execution_count": 1,
   "metadata": {
    "collapsed": true
   },
   "outputs": [],
   "source": [
    "#!/usr/bin/python2.7\n",
    "import sys\n",
    "sys.path.append('../')\n",
    "from Linearity import Neuron\n",
    "import numpy as np\n",
    "import scipy.stats as ss\n",
    "import matplotlib.pyplot as plt\n",
    "plt.style.use('neuron')\n",
    "import lmfit"
   ]
  },
  {
   "cell_type": "code",
   "execution_count": 23,
   "metadata": {
    "collapsed": true
   },
   "outputs": [],
   "source": [
    "n = Neuron.load('/media/sahil/NCBS_Shares_BGStim/patch_data/170720/c5_EI/plots/c5_EI.pkl')"
   ]
  },
  {
   "cell_type": "code",
   "execution_count": 24,
   "metadata": {
    "collapsed": true
   },
   "outputs": [],
   "source": [
    "# def delay_excitation(x, a=1, b=1, c=1):\n",
    "#     # Delay as a function of excitation\n",
    "#     return a + b*np.exp(-c*x)\n",
    "def delay_excitation(x, a=1, b=1):\n",
    "    # Delay as a function of excitation\n",
    "    return a + (b/x)"
   ]
  },
  {
   "cell_type": "code",
   "execution_count": 25,
   "metadata": {
    "collapsed": true
   },
   "outputs": [],
   "source": [
    "def findOnsetTime(trial, step=.25, slide = 0.05, minOnset = 2., maxOnset = 50., initpValTolerance=1.0, pValMinTolerance = 0.05):\n",
    "    maxIndex = int(trial.F_sample*maxOnset*1e-3)\n",
    "    if expType == 1:\n",
    "        maxOnsetIndex = np.argmax(-trial.interestWindow[:maxIndex])\n",
    "    elif expType == 2:\n",
    "        maxOnsetIndex = np.argmax(trial.interestWindow[:maxIndex])\n",
    "    else:\n",
    "        maxOnsetIndex = np.argmax(trial.interestWindow[:maxIndex])\n",
    "    \n",
    "    window_size = len(trial.interestWindow)\n",
    "    step_size = int(trial.F_sample*step*1e-3)\n",
    "    \n",
    "    overlap =  int(trial.F_sample*slide*1e-3)\n",
    "    \n",
    "    index_right = maxOnsetIndex\n",
    "    index_left = index_right - step_size\n",
    "    minOnsetIndex = int(trial.F_sample*minOnset*1e-3)\n",
    "    \n",
    "    baseMean = np.mean(trial.interestWindow[:minOnsetIndex])\n",
    "    factor = 5\n",
    "    thresholdGradient = 0.01\n",
    "    pValTolerance = initpValTolerance\n",
    "    \n",
    "    #if -baseMean*factor < trial.interestWindow[maxOnsetIndex] < baseMean*factor:\n",
    "    #    return 0\n",
    "    #print baseMean\n",
    "    l_window = trial.interestWindow[:minOnsetIndex]\n",
    "    while (index_left>minOnset):\n",
    "        r_window = trial.interestWindow[index_left:index_right] #, trial.baselineWindow #trial.interestWindow[index_left - step_size:index_left]\n",
    "    \n",
    "        #if baseMean - 0.1 < np.mean(r_window) < baseMean + 0.1:\n",
    "        #if (-factor*baseMean  < np.mean(r_window) < factor*baseMean) and (np.average(np.abs(np.gradient(r_window))) < thresholdGradient):\n",
    "        \n",
    "        stat, pVal = ss.ks_2samp(r_window, l_window)\n",
    "        if pVal>pValTolerance:\n",
    "            return float(index_right)/trial.F_sample\n",
    "\n",
    "        else:\n",
    "            index_left-=overlap\n",
    "            index_right-=overlap\n",
    "            if index_left<=minOnsetIndex:\n",
    "                pValTolerance/=2\n",
    "                #factor*=2\n",
    "                #thresholdGradient*=2\n",
    "                if pValTolerance<pValMinTolerance:\n",
    "#                         print (\"{} pval too low for {} tolerance, increasing baseline size\".format(pVal, pValTolerance))\n",
    "#                         minOnset*=2\n",
    "#                         #step_size*=2\n",
    "#                         index_right = maxOnsetIndex\n",
    "#                         index_left = maxOnsetIndex - step_size\n",
    "\n",
    "#                         l_window = trial.interestWindow[:minOnsetIndex]\n",
    "#                         pValTolerance = initpValTolerance \n",
    "\n",
    "#                         if minOnsetIndex > maxOnsetIndex - step_size :\n",
    "                            print (\"Returning Nan\")\n",
    "                            return np.nan\n",
    "                else:\n",
    "                    index_right = maxOnsetIndex\n",
    "                    index_left = maxOnsetIndex - step_size"
   ]
  },
  {
   "cell_type": "code",
   "execution_count": 31,
   "metadata": {
    "scrolled": false
   },
   "outputs": [
    {
     "ename": "TypeError",
     "evalue": "unsupported operand type(s) for *: 'NoneType' and 'float'",
     "output_type": "error",
     "traceback": [
      "\u001b[0;31m---------------------------------------------------------------------------\u001b[0m",
      "\u001b[0;31mTypeError\u001b[0m                                 Traceback (most recent call last)",
      "\u001b[0;32m<ipython-input-31-3c04ef42902e>\u001b[0m in \u001b[0;36m<module>\u001b[0;34m()\u001b[0m\n\u001b[1;32m     10\u001b[0m             \u001b[0;32mif\u001b[0m \u001b[0mexpType\u001b[0m \u001b[0;34m==\u001b[0m \u001b[0;36m1\u001b[0m\u001b[0;34m:\u001b[0m\u001b[0;34m\u001b[0m\u001b[0m\n\u001b[1;32m     11\u001b[0m                 \u001b[0;32mfor\u001b[0m \u001b[0mtrial\u001b[0m \u001b[0;32min\u001b[0m \u001b[0mexp\u001b[0m\u001b[0;34m[\u001b[0m\u001b[0msqr\u001b[0m\u001b[0;34m]\u001b[0m\u001b[0;34m.\u001b[0m\u001b[0mcoordwise\u001b[0m\u001b[0;34m[\u001b[0m\u001b[0mcoord\u001b[0m\u001b[0;34m]\u001b[0m\u001b[0;34m.\u001b[0m\u001b[0mtrials\u001b[0m\u001b[0;34m:\u001b[0m\u001b[0;34m\u001b[0m\u001b[0m\n\u001b[0;32m---> 12\u001b[0;31m                     \u001b[0mexc_onsets\u001b[0m\u001b[0;34m[\u001b[0m\u001b[0;34m(\u001b[0m\u001b[0msqr\u001b[0m\u001b[0;34m,\u001b[0m\u001b[0mtrial\u001b[0m\u001b[0;34m.\u001b[0m\u001b[0mindex\u001b[0m\u001b[0;34m)\u001b[0m\u001b[0;34m]\u001b[0m \u001b[0;34m=\u001b[0m \u001b[0mfindOnsetTime\u001b[0m\u001b[0;34m(\u001b[0m\u001b[0mtrial\u001b[0m\u001b[0;34m)\u001b[0m\u001b[0;34m*\u001b[0m\u001b[0;36m1e3\u001b[0m\u001b[0;34m\u001b[0m\u001b[0m\n\u001b[0m\u001b[1;32m     13\u001b[0m                     \u001b[0mexc_max\u001b[0m\u001b[0;34m[\u001b[0m\u001b[0;34m(\u001b[0m\u001b[0msqr\u001b[0m\u001b[0;34m,\u001b[0m\u001b[0mtrial\u001b[0m\u001b[0;34m.\u001b[0m\u001b[0mindex\u001b[0m\u001b[0;34m)\u001b[0m\u001b[0;34m]\u001b[0m \u001b[0;34m=\u001b[0m \u001b[0;34m-\u001b[0m\u001b[0mtrial\u001b[0m\u001b[0;34m.\u001b[0m\u001b[0mfeature\u001b[0m\u001b[0;34m[\u001b[0m\u001b[0;36m5\u001b[0m\u001b[0;34m]\u001b[0m\u001b[0;34m*\u001b[0m\u001b[0;36m1e6\u001b[0m\u001b[0;34m\u001b[0m\u001b[0m\n\u001b[1;32m     14\u001b[0m                     \u001b[0;31m#exp[sqr].coordwise[coord].average_feature[5]\u001b[0m\u001b[0;34m\u001b[0m\u001b[0;34m\u001b[0m\u001b[0m\n",
      "\u001b[0;31mTypeError\u001b[0m: unsupported operand type(s) for *: 'NoneType' and 'float'"
     ]
    }
   ],
   "source": [
    "avg_exc_onset = {}\n",
    "avg_inh_onset = {}\n",
    "avg_exc_max = {}\n",
    "exc_onsets, inh_onsets = {}, {}\n",
    "exc_max,inh_max = {}, {}\n",
    "err_inh_onsets = {}\n",
    "for expType, exp in n:\n",
    "    for sqr in exp:\n",
    "        for coord in exp[sqr].coordwise:\n",
    "            if expType == 1:\n",
    "                for trial in exp[sqr].coordwise[coord].trials:\n",
    "                    exc_onsets[(sqr,trial.index)] = findOnsetTime(trial)*1e3\n",
    "                    exc_max[(sqr,trial.index)] = -trial.feature[5]*1e6\n",
    "                    #exp[sqr].coordwise[coord].average_feature[5]\n",
    "            if expType == 2:\n",
    "                list_inh_onset = []\n",
    "                for trial in exp[sqr].coordwise[coord].trials:\n",
    "                    inh_onsets[(sqr,trial.index)] = findOnsetTime(trial)*1e3\n",
    "                    list_inh_onset.append(inh_onsets[(sqr,trial.index)])\n",
    "                    inh_max[(sqr,trial.index)] = trial.feature[0]*1e6\n",
    "                avg_onset = np.nanmean([onset for onset in list_inh_onset if onset])\n",
    "                err_onset = np.nanstd([onset for onset in list_inh_onset if onset])\n",
    "                for trial in exp[sqr].coordwise[coord].trials:\n",
    "                    avg_inh_onset[(sqr,trial.index)] = avg_onset\n",
    "                    err_inh_onsets[(sqr,trial.index)] = err_onset\n",
    "#print (avg_exc_max, avg_exc_onset, avg_inh_onset)"
   ]
  },
  {
   "cell_type": "code",
   "execution_count": 30,
   "metadata": {},
   "outputs": [
    {
     "ename": "KeyError",
     "evalue": "(2, 25)",
     "output_type": "error",
     "traceback": [
      "\u001b[0;31m---------------------------------------------------------------------------\u001b[0m",
      "\u001b[0;31mKeyError\u001b[0m                                  Traceback (most recent call last)",
      "\u001b[0;32m<ipython-input-30-930dd1091f9a>\u001b[0m in \u001b[0;36m<module>\u001b[0;34m()\u001b[0m\n\u001b[1;32m      3\u001b[0m \u001b[0minhibOnset\u001b[0m \u001b[0;34m=\u001b[0m \u001b[0;34m[\u001b[0m\u001b[0;34m]\u001b[0m\u001b[0;34m\u001b[0m\u001b[0m\n\u001b[1;32m      4\u001b[0m \u001b[0;32mfor\u001b[0m \u001b[0mkey\u001b[0m \u001b[0;32min\u001b[0m \u001b[0mset\u001b[0m\u001b[0;34m(\u001b[0m\u001b[0mexc_onsets\u001b[0m\u001b[0;34m)\u001b[0m\u001b[0;34m.\u001b[0m\u001b[0mintersection\u001b[0m\u001b[0;34m(\u001b[0m\u001b[0mset\u001b[0m\u001b[0;34m(\u001b[0m\u001b[0mavg_inh_onset\u001b[0m\u001b[0;34m)\u001b[0m\u001b[0;34m)\u001b[0m\u001b[0;34m:\u001b[0m\u001b[0;34m\u001b[0m\u001b[0m\n\u001b[0;32m----> 5\u001b[0;31m     \u001b[0;32mif\u001b[0m \u001b[0mavg_inh_onset\u001b[0m\u001b[0;34m[\u001b[0m\u001b[0mkey\u001b[0m\u001b[0;34m]\u001b[0m \u001b[0;32mand\u001b[0m \u001b[0mexc_onsets\u001b[0m\u001b[0;34m[\u001b[0m\u001b[0mkey\u001b[0m\u001b[0;34m]\u001b[0m \u001b[0;32mand\u001b[0m \u001b[0minh_onsets\u001b[0m\u001b[0;34m[\u001b[0m\u001b[0mkey\u001b[0m\u001b[0;34m]\u001b[0m\u001b[0;34m:\u001b[0m\u001b[0;34m\u001b[0m\u001b[0m\n\u001b[0m\u001b[1;32m      6\u001b[0m         \u001b[0;32mif\u001b[0m \u001b[0;32mnot\u001b[0m \u001b[0mnp\u001b[0m\u001b[0;34m.\u001b[0m\u001b[0misnan\u001b[0m\u001b[0;34m(\u001b[0m\u001b[0mavg_inh_onset\u001b[0m\u001b[0;34m[\u001b[0m\u001b[0mkey\u001b[0m\u001b[0;34m]\u001b[0m\u001b[0;34m)\u001b[0m \u001b[0;32mand\u001b[0m \u001b[0;32mnot\u001b[0m \u001b[0mnp\u001b[0m\u001b[0;34m.\u001b[0m\u001b[0misnan\u001b[0m \u001b[0;34m(\u001b[0m\u001b[0mexc_onsets\u001b[0m\u001b[0;34m[\u001b[0m\u001b[0mkey\u001b[0m\u001b[0;34m]\u001b[0m\u001b[0;34m)\u001b[0m \u001b[0;32mand\u001b[0m \u001b[0;32mnot\u001b[0m \u001b[0mnp\u001b[0m\u001b[0;34m.\u001b[0m\u001b[0misnan\u001b[0m \u001b[0;34m(\u001b[0m\u001b[0mexc_max\u001b[0m\u001b[0;34m[\u001b[0m\u001b[0mkey\u001b[0m\u001b[0;34m]\u001b[0m\u001b[0;34m)\u001b[0m\u001b[0;34m:\u001b[0m\u001b[0;34m\u001b[0m\u001b[0m\n\u001b[1;32m      7\u001b[0m             \u001b[0mdelay\u001b[0m\u001b[0;34m.\u001b[0m\u001b[0mappend\u001b[0m\u001b[0;34m(\u001b[0m\u001b[0mavg_inh_onset\u001b[0m\u001b[0;34m[\u001b[0m\u001b[0mkey\u001b[0m\u001b[0;34m]\u001b[0m\u001b[0;34m-\u001b[0m \u001b[0mexc_onsets\u001b[0m\u001b[0;34m[\u001b[0m\u001b[0mkey\u001b[0m\u001b[0;34m]\u001b[0m\u001b[0;34m)\u001b[0m\u001b[0;34m\u001b[0m\u001b[0m\n",
      "\u001b[0;31mKeyError\u001b[0m: (2, 25)"
     ]
    }
   ],
   "source": [
    "delay, max_current = [], []\n",
    "del_err, max_err= [], []\n",
    "inhibOnset = []\n",
    "for key in set(exc_onsets).intersection(set(avg_inh_onset)):\n",
    "    if avg_inh_onset[key] and exc_onsets[key]:\n",
    "        if not np.isnan(avg_inh_onset[key]) and not np.isnan (exc_onsets[key]) and not np.isnan (exc_max[key]):\n",
    "            delay.append(avg_inh_onset[key]- exc_onsets[key])\n",
    "            max_current.append(exc_max[key])\n",
    "            del_err.append(err_inh_onsets[key])\n",
    "            inhibOnset.append(inh_onsets[key])\n",
    "#         del_err.append()\n",
    "#         max_err.append()"
   ]
  },
  {
   "cell_type": "code",
   "execution_count": 21,
   "metadata": {},
   "outputs": [
    {
     "name": "stdout",
     "output_type": "stream",
     "text": [
      "Parameters([('a', <Parameter 'a', value=0.78057906026335944 +/- 0.254, bounds=[-inf:inf]>), ('b', <Parameter 'b', value=-0.047940283113586224 +/- 0.025, bounds=[-inf:inf]>)])\n",
      "245.491058124\n",
      "5.18257476018\n"
     ]
    }
   ],
   "source": [
    "delay_Model = lmfit.Model(delay_excitation)\n",
    "delay_pars = delay_Model.make_params()\n",
    "\n",
    "delay = np.array(delay)\n",
    "max_current = np.array(max_current)\n",
    "\n",
    "delay_result = delay_Model.fit(delay, delay_pars, x=max_current)\n",
    "print (delay_result.params)\n",
    "print (delay_result.aic)\n",
    "print (delay_result.redchi)"
   ]
  },
  {
   "cell_type": "code",
   "execution_count": 22,
   "metadata": {},
   "outputs": [
    {
     "data": {
      "image/png": "[encoded data removed]",
      "text/plain": [
       "<matplotlib.figure.Figure at 0x7f456a874290>"
      ]
     },
     "metadata": {},
     "output_type": "display_data"
    }
   ],
   "source": [
    "fig, ax = plt.subplots()\n",
    "ax.errorbar(np.array(max_current), np.array(delay), fmt ='o', yerr=np.array(del_err), alpha=0.4)\n",
    "#ax.scatter(np.array(max_current)*1e6, np.array(delay)*1e3)\n",
    "current_linspace= np.linspace(np.min(max_current),1.1*np.max(max_current),100)\n",
    "ax.plot(current_linspace, delay_result.eval(x=current_linspace), '-', label=\"${:.2f} \\\\times e^{{-{:.2f} \\\\times E }}$\".format(delay_result.params['a'].value, delay_result.params['b'].value))\n",
    "\n",
    "# ax.plot(1./(delay_result.params['c'].value), delay_result.eval(x=1./(delay_result.params['c'].value)), 'ko')\n",
    "xmin, xmax = ax.get_xlim()\n",
    "# ax.hlines(y=0, xmin=xmin, xmax=xmax, linestyles='--', alpha=0.5)\n",
    "# ax.hlines(y=delay_result.params['a'].value, xmin=xmin, xmax=xmax, linestyles='--', alpha=0.5)\n",
    "# ax.set_xlabel(\"$I_{max}^{exc}$\")\n",
    "# ax.set_ylabel(\"Delay $(\\\\delta_{inh})$\")\n",
    "\n",
    "# ax.annotate(\"\",\n",
    "#             xy=(xmax, 0.), xycoords='data',\n",
    "#             xytext=(xmax, delay_result.params['a'].value), textcoords='data',\n",
    "#             arrowprops=dict(arrowstyle=\"<->\",\n",
    "#                             connectionstyle=\"arc3\"),\n",
    "#             )\n",
    "# ax.text(1.01*xmax, 1., \"$\\\\delta_{min}$\")\n",
    "\n",
    "# ax.annotate(\"\",\n",
    "#             xy=(0, 0), xycoords='data',\n",
    "#             xytext=(0, delay_result.params['b'].value + delay_result.params['a'].value), textcoords='data',\n",
    "#             arrowprops=dict(arrowstyle=\"<->\",\n",
    "#                             connectionstyle=\"arc3\"),\n",
    "#             )\n",
    "# ax.text(xmin*1.5, 10., \"$\\\\delta_{max}$\")\n",
    "\n",
    "# ax.annotate(\"\",\n",
    "#             xy=(xmax, delay_result.params['a'].value), xycoords='data',\n",
    "#             xytext=(xmax,  delay_result.params['b'].value + delay_result.params['a'].value), textcoords='data',\n",
    "#             arrowprops=dict(arrowstyle=\"<->\",\n",
    "#                             connectionstyle=\"arc3\"),\n",
    "#             )\n",
    "# ax.text(1.01*xmax, 10., \"$m$\")\n",
    "\n",
    "# ax.text(0.006, 6., \"$k$\")\n",
    "ax.set_xlim(xmax= xmax*1.1)\n",
    "plt.legend(fontsize=12)\n",
    "fig.set_figwidth(8)\n",
    "fig.set_figheight(8)\n",
    "plt.show()"
   ]
  },
  {
   "cell_type": "code",
   "execution_count": 9,
   "metadata": {
    "scrolled": false
   },
   "outputs": [
    {
     "name": "stderr",
     "output_type": "stream",
     "text": [
      "/usr/local/lib/python2.7/dist-packages/ipykernel_launcher.py:6: RuntimeWarning: divide by zero encountered in divide\n",
      "  \n"
     ]
    },
    {
     "ename": "KeyError",
     "evalue": "'c'",
     "output_type": "error",
     "traceback": [
      "\u001b[0;31m---------------------------------------------------------------------------\u001b[0m",
      "\u001b[0;31mKeyError\u001b[0m                                  Traceback (most recent call last)",
      "\u001b[0;32m<ipython-input-9-e1bceaa825a9>\u001b[0m in \u001b[0;36m<module>\u001b[0;34m()\u001b[0m\n\u001b[1;32m      3\u001b[0m \u001b[0;31m#ax.scatter(np.array(max_current)*1e6, np.array(delay)*1e3)\u001b[0m\u001b[0;34m\u001b[0m\u001b[0;34m\u001b[0m\u001b[0m\n\u001b[1;32m      4\u001b[0m \u001b[0mcurrent_linspace\u001b[0m\u001b[0;34m=\u001b[0m \u001b[0mnp\u001b[0m\u001b[0;34m.\u001b[0m\u001b[0mlinspace\u001b[0m\u001b[0;34m(\u001b[0m\u001b[0;36m0\u001b[0m\u001b[0;34m,\u001b[0m\u001b[0;36m1.1\u001b[0m\u001b[0;34m*\u001b[0m\u001b[0mnp\u001b[0m\u001b[0;34m.\u001b[0m\u001b[0mmax\u001b[0m\u001b[0;34m(\u001b[0m\u001b[0mmax_current\u001b[0m\u001b[0;34m)\u001b[0m\u001b[0;34m)\u001b[0m\u001b[0;34m\u001b[0m\u001b[0m\n\u001b[0;32m----> 5\u001b[0;31m \u001b[0max\u001b[0m\u001b[0;34m.\u001b[0m\u001b[0mplot\u001b[0m\u001b[0;34m(\u001b[0m\u001b[0mcurrent_linspace\u001b[0m\u001b[0;34m,\u001b[0m \u001b[0mdelay_result\u001b[0m\u001b[0;34m.\u001b[0m\u001b[0meval\u001b[0m\u001b[0;34m(\u001b[0m\u001b[0mx\u001b[0m\u001b[0;34m=\u001b[0m\u001b[0mcurrent_linspace\u001b[0m\u001b[0;34m)\u001b[0m\u001b[0;34m,\u001b[0m \u001b[0;34m'-'\u001b[0m\u001b[0;34m,\u001b[0m \u001b[0mlabel\u001b[0m\u001b[0;34m=\u001b[0m\u001b[0;34m\"${:.2f} + {:.2f} \\\\times e^{{-{:.2f} \\\\times E }}$\"\u001b[0m\u001b[0;34m.\u001b[0m\u001b[0mformat\u001b[0m\u001b[0;34m(\u001b[0m\u001b[0mdelay_result\u001b[0m\u001b[0;34m.\u001b[0m\u001b[0mparams\u001b[0m\u001b[0;34m[\u001b[0m\u001b[0;34m'a'\u001b[0m\u001b[0;34m]\u001b[0m\u001b[0;34m.\u001b[0m\u001b[0mvalue\u001b[0m\u001b[0;34m,\u001b[0m \u001b[0mdelay_result\u001b[0m\u001b[0;34m.\u001b[0m\u001b[0mparams\u001b[0m\u001b[0;34m[\u001b[0m\u001b[0;34m'b'\u001b[0m\u001b[0;34m]\u001b[0m\u001b[0;34m.\u001b[0m\u001b[0mvalue\u001b[0m\u001b[0;34m,\u001b[0m \u001b[0mdelay_result\u001b[0m\u001b[0;34m.\u001b[0m\u001b[0mparams\u001b[0m\u001b[0;34m[\u001b[0m\u001b[0;34m'c'\u001b[0m\u001b[0;34m]\u001b[0m\u001b[0;34m.\u001b[0m\u001b[0mvalue\u001b[0m\u001b[0;34m)\u001b[0m\u001b[0;34m)\u001b[0m\u001b[0;34m\u001b[0m\u001b[0m\n\u001b[0m\u001b[1;32m      6\u001b[0m \u001b[0;34m\u001b[0m\u001b[0m\n\u001b[1;32m      7\u001b[0m \u001b[0max\u001b[0m\u001b[0;34m.\u001b[0m\u001b[0mplot\u001b[0m\u001b[0;34m(\u001b[0m\u001b[0;36m1.\u001b[0m\u001b[0;34m/\u001b[0m\u001b[0;34m(\u001b[0m\u001b[0mdelay_result\u001b[0m\u001b[0;34m.\u001b[0m\u001b[0mparams\u001b[0m\u001b[0;34m[\u001b[0m\u001b[0;34m'c'\u001b[0m\u001b[0;34m]\u001b[0m\u001b[0;34m.\u001b[0m\u001b[0mvalue\u001b[0m\u001b[0;34m)\u001b[0m\u001b[0;34m,\u001b[0m \u001b[0mdelay_result\u001b[0m\u001b[0;34m.\u001b[0m\u001b[0meval\u001b[0m\u001b[0;34m(\u001b[0m\u001b[0mx\u001b[0m\u001b[0;34m=\u001b[0m\u001b[0;36m1.\u001b[0m\u001b[0;34m/\u001b[0m\u001b[0;34m(\u001b[0m\u001b[0mdelay_result\u001b[0m\u001b[0;34m.\u001b[0m\u001b[0mparams\u001b[0m\u001b[0;34m[\u001b[0m\u001b[0;34m'c'\u001b[0m\u001b[0;34m]\u001b[0m\u001b[0;34m.\u001b[0m\u001b[0mvalue\u001b[0m\u001b[0;34m)\u001b[0m\u001b[0;34m)\u001b[0m\u001b[0;34m,\u001b[0m \u001b[0;34m'ko'\u001b[0m\u001b[0;34m)\u001b[0m\u001b[0;34m\u001b[0m\u001b[0m\n",
      "\u001b[0;31mKeyError\u001b[0m: 'c'"
     ]
    }
   ],
   "source": [
    "fig, ax = plt.subplots()\n",
    "ax.errorbar(np.array(max_current), np.array(delay), fmt ='o', yerr=np.array(del_err), alpha=0.4)\n",
    "#ax.scatter(np.array(max_current)*1e6, np.array(delay)*1e3)\n",
    "current_linspace= np.linspace(0,1.1*np.max(max_current))\n",
    "ax.plot(current_linspace, delay_result.eval(x=current_linspace), '-', label=\"${:.2f} + {:.2f} \\\\times e^{{-{:.2f} \\\\times E }}$\".format(delay_result.params['a'].value, delay_result.params['b'].value, delay_result.params['c'].value))\n",
    "\n",
    "ax.plot(1./(delay_result.params['c'].value), delay_result.eval(x=1./(delay_result.params['c'].value)), 'ko')\n",
    "xmin, xmax = ax.get_xlim()\n",
    "ax.hlines(y=0, xmin=xmin, xmax=xmax, linestyles='--', alpha=0.5)\n",
    "ax.hlines(y=delay_result.params['a'].value, xmin=xmin, xmax=xmax, linestyles='--', alpha=0.5)\n",
    "ax.set_xlabel(\"$I_{max}^{exc}$\")\n",
    "ax.set_ylabel(\"Delay $(\\\\delta_{inh})$\")\n",
    "\n",
    "ax.annotate(\"\",\n",
    "            xy=(xmax, 0.), xycoords='data',\n",
    "            xytext=(xmax, delay_result.params['a'].value), textcoords='data',\n",
    "            arrowprops=dict(arrowstyle=\"<->\",\n",
    "                            connectionstyle=\"arc3\"),\n",
    "            )\n",
    "ax.text(1.01*xmax, 1., \"$\\\\delta_{min}$\")\n",
    "\n",
    "ax.annotate(\"\",\n",
    "            xy=(0, 0), xycoords='data',\n",
    "            xytext=(0, delay_result.params['b'].value + delay_result.params['a'].value), textcoords='data',\n",
    "            arrowprops=dict(arrowstyle=\"<->\",\n",
    "                            connectionstyle=\"arc3\"),\n",
    "            )\n",
    "ax.text(xmin*1.5, 10., \"$\\\\delta_{max}$\")\n",
    "\n",
    "ax.annotate(\"\",\n",
    "            xy=(xmax, delay_result.params['a'].value), xycoords='data',\n",
    "            xytext=(xmax,  delay_result.params['b'].value + delay_result.params['a'].value), textcoords='data',\n",
    "            arrowprops=dict(arrowstyle=\"<->\",\n",
    "                            connectionstyle=\"arc3\"),\n",
    "            )\n",
    "ax.text(1.01*xmax, 10., \"$m$\")\n",
    "\n",
    "ax.text(0.006, 6., \"$k$\")\n",
    "ax.set_xlim(xmax= xmax*1.1)\n",
    "plt.legend(fontsize=12)\n",
    "fig.set_figwidth(8)\n",
    "fig.set_figheight(8)\n",
    "plt.show()"
   ]
  },
  {
   "cell_type": "markdown",
   "metadata": {},
   "source": [
    "## Individual scatters"
   ]
  },
  {
   "cell_type": "code",
   "execution_count": null,
   "metadata": {
    "collapsed": true
   },
   "outputs": [],
   "source": [
    "inhibOnset,inhibMax = [], []\n",
    "excMax, excOnset = [], []\n",
    "for key in inh_onsets:\n",
    "        inhibOnset.append(inh_onsets[key])\n",
    "        inhibMax.append(inh_max[key])\n",
    "for key in exc_onsets:\n",
    "        excOnset.append(exc_onsets[key])\n",
    "        excMax.append(exc_max[key])\n",
    "#         del_err.append()\n",
    "#         max_err.append()"
   ]
  },
  {
   "cell_type": "code",
   "execution_count": null,
   "metadata": {
    "collapsed": true
   },
   "outputs": [],
   "source": [
    "fig, ax = plt.subplots()\n",
    "ax.scatter(np.array(excMax)*1e6, np.array(inhibOnset)*1e3, label=\"inh\")\n",
    "ax.scatter(np.array(excMax)*1e6, np.array(excOnset)*1e3, label=\"exc\")\n",
    "# ax.set_ylim(-1,20)\n",
    "# ax.set_xlim(0,0.175)\n",
    "plt.legend()\n",
    "fig.set_figwidth(8)\n",
    "fig.set_figheight(8)\n",
    "plt.show()"
   ]
  },
  {
   "cell_type": "markdown",
   "metadata": {},
   "source": [
    "## Paired scatter"
   ]
  },
  {
   "cell_type": "code",
   "execution_count": null,
   "metadata": {
    "collapsed": true
   },
   "outputs": [],
   "source": [
    "inhibOnset,inhibMax = [], []\n",
    "excMax, excOnset = [], []\n",
    "for key in set(inh_onsets).intersection(exc_onsets):\n",
    "        inhibOnset.append(inh_onsets[key])\n",
    "        excOnset.append(exc_onsets[key])"
   ]
  },
  {
   "cell_type": "code",
   "execution_count": null,
   "metadata": {
    "collapsed": true
   },
   "outputs": [],
   "source": [
    "fig, ax = plt.subplots()\n",
    "ax.scatter(np.array(excOnset)*1e3, np.array(inhibOnset)*1e3)\n",
    "ax.set_ylim(0,30)\n",
    "ax.set_xlim(0,30)\n",
    "fig.set_figwidth(8)\n",
    "fig.set_figheight(8)\n",
    "plt.show()"
   ]
  },
  {
   "cell_type": "code",
   "execution_count": null,
   "metadata": {
    "collapsed": true
   },
   "outputs": [],
   "source": []
  }
 ],
 "metadata": {
  "hide_input": false,
  "kernelspec": {
   "display_name": "Python 2",
   "language": "python",
   "name": "python2"
  },
  "language_info": {
   "codemirror_mode": {
    "name": "ipython",
    "version": 2
   },
   "file_extension": ".py",
   "mimetype": "text/x-python",
   "name": "python",
   "nbconvert_exporter": "python",
   "pygments_lexer": "ipython2",
   "version": "2.7.12"
  },
  "latex_envs": {
   "LaTeX_envs_menu_present": true,
   "autocomplete": true,
   "bibliofile": "biblio.bib",
   "cite_by": "apalike",
   "current_citInitial": 1,
   "eqLabelWithNumbers": true,
   "eqNumInitial": 1,
   "hotkeys": {
    "equation": "Ctrl-E",
    "itemize": "Ctrl-I"
   },
   "labels_anchors": false,
   "latex_user_defs": false,
   "report_style_numbering": false,
   "user_envs_cfg": false
  },
  "toc": {
   "colors": {
    "hover_highlight": "#DAA520",
    "navigate_num": "#000000",
    "navigate_text": "#333333",
    "running_highlight": "#FF0000",
    "selected_highlight": "#FFD700",
    "sidebar_border": "#EEEEEE",
    "wrapper_background": "#FFFFFF"
   },
   "moveMenuLeft": true,
   "nav_menu": {
    "height": "12px",
    "width": "252px"
   },
   "navigate_menu": true,
   "number_sections": true,
   "sideBar": true,
   "threshold": 4,
   "toc_cell": false,
   "toc_section_display": "block",
   "toc_window_display": true,
   "widenNotebook": false
  },
  "varInspector": {
   "cols": {
    "lenName": 16,
    "lenType": 16,
    "lenVar": 40
   },
   "kernels_config": {
    "python": {
     "delete_cmd_postfix": "",
     "delete_cmd_prefix": "del ",
     "library": "var_list.py",
     "varRefreshCmd": "print(var_dic_list())"
    },
    "r": {
     "delete_cmd_postfix": ") ",
     "delete_cmd_prefix": "rm(",
     "library": "var_list.r",
     "varRefreshCmd": "cat(var_dic_list()) "
    }
   },
   "types_to_exclude": [
    "module",
    "function",
    "builtin_function_or_method",
    "instance",
    "_Feature"
   ],
   "window_display": false
  }
 },
 "nbformat": 4,
 "nbformat_minor": 2
}
