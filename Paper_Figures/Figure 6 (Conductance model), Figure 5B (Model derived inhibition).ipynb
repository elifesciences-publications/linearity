{
 "cells": [
  {
   "cell_type": "markdown",
   "metadata": {},
   "source": [
    "# Figure 6"
   ]
  },
  {
   "cell_type": "code",
   "execution_count": 1,
   "metadata": {
    "collapsed": true
   },
   "outputs": [],
   "source": [
    "from sympy import symbols, exp, solve, logcombine, simplify, Piecewise, lambdify, N, init_printing, Eq\n",
    "import numpy\n",
    "import scipy.stats as ss\n",
    "from sympy.physics.units import seconds, siemens, volts, farads, amperes, milli, micro, nano, pico, ms, s, kg, meters\n",
    "from matplotlib import pyplot as plt\n",
    "import matplotlib\n",
    "plt.style.use('neuron_color')\n",
    "import os\n",
    "import sys\n",
    "sys.path.append('../')\n",
    "from Linearity import Neuron\n",
    "import lmfit\n",
    "from pickle import dump"
   ]
  },
  {
   "cell_type": "code",
   "execution_count": 2,
   "metadata": {
    "collapsed": true
   },
   "outputs": [],
   "source": [
    "def simpleaxis(axes, every=False, outward=False):\n",
    "    if not isinstance(axes, (list, numpy.ndarray)):\n",
    "        axes = [axes]\n",
    "    for ax in axes:\n",
    "        ax.spines['top'].set_visible(False)\n",
    "        ax.spines['right'].set_visible(False)\n",
    "        if (outward):\n",
    "            ax.spines['bottom'].set_position(('outward', 10))\n",
    "            ax.spines['left'].set_position(('outward', 10))\n",
    "        if every:\n",
    "            ax.spines['bottom'].set_visible(False)\n",
    "            ax.spines['left'].set_visible(False)\n",
    "        ax.get_xaxis().tick_bottom()\n",
    "        ax.get_yaxis().tick_left()\n",
    "        ax.set_title('')"
   ]
  },
  {
   "cell_type": "code",
   "execution_count": 3,
   "metadata": {
    "collapsed": true
   },
   "outputs": [],
   "source": [
    "from IPython.display import display, Markdown, Image"
   ]
  },
  {
   "cell_type": "code",
   "execution_count": 4,
   "metadata": {
    "collapsed": true
   },
   "outputs": [],
   "source": [
    "init_printing()"
   ]
  },
  {
   "cell_type": "markdown",
   "metadata": {},
   "source": [
    "## 6 A Circuit diagram"
   ]
  },
  {
   "cell_type": "markdown",
   "metadata": {},
   "source": [
    "<img src=\"Fig_6_a.png\" alt=\"Drawing\" style=\"width: 800px;\"/>"
   ]
  },
  {
   "cell_type": "markdown",
   "metadata": {},
   "source": [
    "## 6 B: Fitting voltage clamp data to get parameters"
   ]
  },
  {
   "cell_type": "code",
   "execution_count": 6,
   "metadata": {
    "collapsed": true
   },
   "outputs": [],
   "source": [
    "analysisFile = '/media/sahil/NCBS_Shares_BGStim/patch_data/170530/c1_EI/plots/c1_EI.pkl'\n",
    "plotDir = os.path.dirname(analysisFile)\n",
    "neuron = Neuron.load(analysisFile)"
   ]
  },
  {
   "cell_type": "markdown",
   "metadata": {},
   "source": [
    "$g(t) = \\bar{g}\\frac{( e^\\frac{\\delta_{onset} - t }{\\tau_{decay}} - e^\\frac{\\delta_{onset} - t }{\\tau_{rise}})}{- \\left(\\frac{\\tau_{rise}}{\\tau_{decay}}\\right)^{\\frac{\\tau_{decay}}{\\tau_{decay} - \\tau_{rise}}} + \\left(\\frac{\\tau_{rise}}{\\tau_{decay}}\\right)^{\\frac{\\tau_{rise}}{\\tau_{decay} - \\tau_{rise}}}}$"
   ]
  },
  {
   "cell_type": "code",
   "execution_count": 7,
   "metadata": {
    "collapsed": true
   },
   "outputs": [],
   "source": [
    "def fitFunctionToPSP(time, vector, t_0=0, g_max=0):\n",
    "    ''' Fits using lmfit '''\n",
    "\n",
    "    def _doubleExponentialFunction(t, t_0, tOn, tOff, g_max):\n",
    "        ''' Returns the shape of an EPSP as a double exponential function '''\n",
    "        tPeak = t_0 + float(((tOff * tOn)/(tOff-tOn)) * numpy.log(tOff/tOn))\n",
    "        A = 1./(numpy.exp(-(tPeak-t_0)/tOff) - numpy.exp(-(tPeak-t_0)/tOn))\n",
    "        g = [ g_max * A * (numpy.exp(-(t_point-t_0)/tOff) - numpy.exp(-(t_point-t_0)/tOn)) if  t_point >= t_0 else 0. for t_point in t]\n",
    "        return numpy.array(g)\n",
    "\n",
    "    model = lmfit.Model(_doubleExponentialFunction)\n",
    "    # Fixing values of variables from data\n",
    "    # Onset time\n",
    "    if not t_0:\n",
    "        model.set_param_hint('t_0', value =max(time)/10., min=0., max = max(time))\n",
    "    else:\n",
    "        model.set_param_hint('t_0', value = t_0, vary=False)\n",
    "    # g_max \n",
    "    if not g_max:\n",
    "        model.set_param_hint('g_max', value = max(vector)/10., min = 0., max = max(vector))\n",
    "    else:\n",
    "        model.set_param_hint('g_max', value = g_max, vary=False)\n",
    "\n",
    "    model.set_param_hint('tOn', value =max(time)/5.1 , min = 0., max = max(time))\n",
    "    model.set_param_hint('t_ratio', value =10., min=1.05)\n",
    "    model.set_param_hint('tOff', min = 0., expr='tOn*t_ratio')\n",
    "    model.set_param_hint('t_peak', expr = 't_0 + ((tOff * tOn)/(tOff-tOn)) * log(tOff/tOn)')\n",
    "    pars = model.make_params()\n",
    "\n",
    "    result = model.fit(vector, pars, t=time)\n",
    "    # print (result.fit_report())\n",
    "    return result"
   ]
  },
  {
   "cell_type": "code",
   "execution_count": 8,
   "metadata": {},
   "outputs": [
    {
     "data": {
      "image/png": "[encoded data removed]",
      "text/plain": [
       "<matplotlib.figure.Figure at 0x7efe498d1cd0>"
      ]
     },
     "metadata": {},
     "output_type": "display_data"
    }
   ],
   "source": [
    "n = {key:value for key,value in neuron}\n",
    "for numSq in set(n[1]).intersection(set(n[2])):\n",
    "    for i in set(n[1][numSq].trial).intersection(set(n[2][numSq].trial)):\n",
    "        if i == 3 and numSq == 7:\n",
    "            exc = -1e9*n[1][numSq].trial[i].interestWindow\n",
    "            inh = 1e9*n[2][numSq].trial[i].interestWindow\n",
    "            time = numpy.arange(len(n[1][numSq].trial[i].interestWindow))*n[1][numSq].trial[i].samplingTime\n",
    "            exc_fit = fitFunctionToPSP(time, exc)\n",
    "            inh_fit = fitFunctionToPSP(time, inh)\n",
    "\n",
    "            fig,ax = plt.subplots() \n",
    "            ax.plot(time*1e3, exc, alpha=0.6, c='b')\n",
    "            ax.set_xlabel(\"Time (ms)\")\n",
    "            ax.set_ylabel(\"Current (pA)\")\n",
    "            ax.plot(time*1e3, exc_fit.best_fit, '--', label=\"Excitation\", c='b')\n",
    "\n",
    "            ax.plot(time*1e3, -inh, alpha=0.6, c='g')\n",
    "            ax.plot(time*1e3, -inh_fit.best_fit, '--', label=\"Inhibition\", c='g')\n",
    "            ax.annotate('Excitation', (50,100), (50,100), xycoords='data',color='b')\n",
    "            ax.annotate('Inhibition', (50,-300), (50,-300), xycoords='data',color='g')\n",
    "            fig.set_figwidth(1.5)\n",
    "            fig.set_figheight(1.5)\n",
    "            simpleaxis(ax)\n",
    "            dump(fig,file('figures/fig6/6b.pkl','wb'))\n",
    "            plt.show()"
   ]
  },
  {
   "cell_type": "code",
   "execution_count": 9,
   "metadata": {
    "collapsed": true
   },
   "outputs": [],
   "source": [
    "samplingRate = 20  # kHz, to get milliseconds\n",
    "sample_every = 10 # points\n",
    "timeStep, maxTime = (sample_every*1.)/ samplingRate, 100.  # ms\n",
    "trange = numpy.arange(\n",
    "    0., maxTime, timeStep)  # We will always use 100. ms timecourse of PSPs."
   ]
  },
  {
   "cell_type": "code",
   "execution_count": 10,
   "metadata": {
    "collapsed": true
   },
   "outputs": [],
   "source": [
    "#### Range of $g_e$ explored\n",
    "emax = 4\n",
    "e_step = 0.5\n",
    "erange = numpy.arange(0., emax, e_step)\n",
    "#### Range of proportionality ($P$) between $E$ and $I$\n",
    "prop_array = numpy.arange(0, 5, 1)"
   ]
  },
  {
   "cell_type": "code",
   "execution_count": 11,
   "metadata": {
    "collapsed": true
   },
   "outputs": [],
   "source": [
    "## Setting up the variables, parameters and units for simulation\n",
    "t, P, e_r, e_d, delta_e, rho_e, g_e, i_r, i_d, delta_i, rho_i, g_i, b, Cm, g_L = symbols(\n",
    "    't P \\\\tau_{er} \\\\tau_{ed} \\\\delta_e \\\\rho_e \\\\bar{g}_e \\\\tau_{ir} \\\\tau_{id} \\\\delta_i \\\\rho_i \\\\bar{g}_i \\\\beta C_m \\\\bar{g}_L',\n",
    "    positive=True,\n",
    "    real=True)\n",
    "leak_rev, e_rev, i_rev, Vm = symbols(\n",
    "    'Leak_{rev} Exc_{rev} Inh_{rev} V_m', real=True)\n",
    "SymbolDict = {\n",
    "    t: \"Time (ms)\",\n",
    "    P: \"Proportion of $g_i/g_e$\",\n",
    "    e_r: \"Excitatory Rise (ms)\",\n",
    "    e_d: \"Excitatory Fall (ms)\",\n",
    "    delta_e: \"Excitatory onset time (ms)\",\n",
    "    rho_e: \"Excitatory $tau$ ratio (fall/rise)\",\n",
    "    g_e: \"Excitatory max conductance\",\n",
    "    i_r: \"Inhibitory Rise (ms)\",\n",
    "    i_d: \"Inhibitory Fall(ms)\",\n",
    "    delta_i: \"Inhibitory onset time(ms)\",\n",
    "    rho_i: \"Inhibitory $tau$ ratio (fall/rise)\",\n",
    "    g_i: \"Inhibitory max conductance\",\n",
    "    b: \"Inhibitory/Excitatory $tau$ rise ratio\"\n",
    "}\n",
    "unitsDict = {\n",
    "    's': seconds,\n",
    "    'exp': exp,\n",
    "    'S': siemens,\n",
    "    'V': volts,\n",
    "    'A': amperes,\n",
    "    'm': meters,\n",
    "    'kg': kg\n",
    "}  # This is for lamdify\n",
    "nS, pF, mV, pA = nano * siemens, pico * farads, milli * volts, pico*amperes\n",
    "### Estimates from data and averaging them to get a number\n",
    "estimateDict = {\n",
    "    P: (1.9, 2.1),\n",
    "    e_r: (1.5 * ms, 5 * ms),\n",
    "    e_d: (8. * ms, 20. * ms),\n",
    "    delta_e: (0. * ms, 0. * ms),\n",
    "    rho_e: (2., 7.),\n",
    "    g_e: (0.02 * nS, 0.25 * nS),\n",
    "    i_r: (1.5 * ms, 5. * ms),\n",
    "    i_d: (14. * ms, 60. * ms),\n",
    "    delta_i: (2. * ms, 4. * ms),\n",
    "    rho_i: (5., 20.),\n",
    "    g_i: (0.04 * nS, 0.5 * nS),\n",
    "    b: (0.5, 5.)\n",
    "}\n",
    "averageEstimateDict = {\n",
    "    key: value[0] + value[1] / 2\n",
    "    for key, value in estimateDict.items()\n",
    "}\n",
    "\n",
    "### Approximating the rest from literature\n",
    "approximateDict = {\n",
    "    g_L: 10 * nS,\n",
    "    e_rev: 0. * mV,\n",
    "    i_rev: -70. * mV,\n",
    "    leak_rev: -65. * mV,\n",
    "    Cm: 100 * pF\n",
    "}\n",
    "sourceDict = {\n",
    "    g_L: \"None\",\n",
    "    e_rev: \"None\",\n",
    "    i_rev: \"None\",\n",
    "    leak_rev: \"None\",\n",
    "    Cm: \"Neuroelectro.org\"\n",
    "}"
   ]
  },
  {
   "cell_type": "markdown",
   "metadata": {},
   "source": [
    "| Variable  |  Meaning |  Range |\n",
    "|---|---|---|\n",
    "|$t$|Time (ms)|0-100|\n",
    "|$P$|Proportion of $g_i/g_e$|2-4|\n",
    "|$\\tau_{er}$|Excitatory Rise (ms)|1.5-5|\n",
    "|$\\tau_{ed}$|Excitatory Fall (ms)|8-20|\n",
    "|$\\delta_e$|Excitatory onset time (ms)|0-0|\n",
    "|$\\rho_e$|Excitatory $tau$ ratio (fall/rise)|2-7|\n",
    "|$\\bar{g}_e$|Excitatory max conductance|0.02-0.25|\n",
    "|$\\tau_{ir}$|Inhibitory Rise (ms)|1.5-5|\n",
    "|$\\tau_{id}$|Inhibitory Fall(ms)|14-60|\n",
    "|$\\delta_i$|Inhibitory onset time(ms)|3-15|\n",
    "|$\\rho_i$|Inhibitory $tau$ ratio (fall/rise)|5-20|\n",
    "|$\\bar{g}_i$|Inhibitory max conductance|0.04-0.5|\n",
    "|$\\beta$|Inhibitory/Excitatory $tau$ rise ratio|0.5-5|"
   ]
  },
  {
   "cell_type": "markdown",
   "metadata": {},
   "source": [
    "| Variable  |  Meaning | Source | Value |\n",
    "|---|---|---|\n",
    "|$g_L$|Leak conductance|Undefined| 10 nS |\n",
    "|$Exc_{rev}$|Excitatory reversal|Undefined| 0 mV|\n",
    "|$Inh_{rev}$|Inhibitory reversal |Undefined| -70 mV |\n",
    "|$Leak_{rev}$|Leak reversal |Undefined| -65 mV |\n",
    "|$C_m$|Membrane capacitance |neuroelectro.org| 100 pF|"
   ]
  },
  {
   "cell_type": "markdown",
   "metadata": {},
   "source": [
    "---"
   ]
  },
  {
   "cell_type": "code",
   "execution_count": 12,
   "metadata": {
    "collapsed": true
   },
   "outputs": [],
   "source": [
    "### Double exponential to explain the net synaptic conductance.\n",
    "alpha = exp(-(t - delta_e) / e_d) - exp(-(t - delta_e) / e_r)\n",
    "alpha_prime = alpha.diff(t)\n",
    "theta_e = solve(alpha_prime, t)  # Time to peak\n",
    "theta_e = logcombine(theta_e[0])\n",
    "simplify(theta_e.subs(averageEstimateDict))\n",
    "alpha_star = simplify(alpha.subs(t, theta_e).doit())\n",
    "\n",
    "### Finding maximum of the curve and substituting ratio of taus\n",
    "g_E = Piecewise((0. * nS, t / ms < delta_e / ms), (g_e * (alpha / alpha_star),\n",
    "                                                   True))\n",
    "### Final equation for Excitation normalized to be maximum at $g_e$\n",
    "\n",
    "### Doing the same with inhibition\n",
    "g_I = g_E.xreplace({\n",
    "    g_e: g_i,\n",
    "    rho_e: rho_i,\n",
    "    e_r: i_r,\n",
    "    e_d: i_d,\n",
    "    delta_e: delta_i\n",
    "})\n",
    "alpha_I = alpha.xreplace({e_r: i_r, e_d: i_d, delta_e: delta_i})\n",
    "alpha_star_I = alpha_star.xreplace({e_r: i_r, e_d: i_d})\n",
    "g_I = Piecewise((0. * nS, t / ms < delta_i / ms),\n",
    "                (g_i * (alpha_I / alpha_star_I), True))"
   ]
  },
  {
   "cell_type": "code",
   "execution_count": 13,
   "metadata": {
    "collapsed": true
   },
   "outputs": [],
   "source": [
    "### Now finding the control peak using difference of these double-exponentials\n",
    "compartment = Eq((1 / Cm) * (g_E * (Vm - e_rev) + g_I * (Vm - i_rev) + g_L *\n",
    "                             (Vm - leak_rev)), Vm.diff(t))\n",
    "Vm_t = solve(compartment, Vm, rational=False, simplify=True)\n",
    "check_vm_t = Vm_t[0].subs({ i: averageEstimateDict[i] for i in averageEstimateDict if i not in [ P] }).subs(approximateDict).subs({ g_i: P * g_e })"
   ]
  },
  {
   "cell_type": "code",
   "execution_count": 14,
   "metadata": {
    "collapsed": true
   },
   "outputs": [],
   "source": [
    "f = lambdify((g_e, P, t), check_vm_t/mV, (unitsDict, \"numpy\"))"
   ]
  },
  {
   "cell_type": "code",
   "execution_count": 15,
   "metadata": {},
   "outputs": [
    {
     "data": {
      "text/latex": [
       "$$\\begin{cases} - \\frac{65.0 e^{\\frac{0.305555555555556 t}{millisecond}}}{- 0.0286513188937306 e^{\\frac{0.0555555555555556 t}{millisecond}} + 0.0286513188937306 e^{\\frac{0.25 t}{millisecond}} + e^{\\frac{0.305555555555556 t}{millisecond}}} & \\text{for}\\: \\frac{t}{millisecond} < 4.0 \\\\- \\frac{\\left(\\left(- 7.71476094920348 e^{\\frac{0.0227272727272727 t}{millisecond}} + 3.10820251934499 e^{\\frac{0.25 t}{millisecond}}\\right) e^{- \\frac{0.272727272727273 t}{millisecond}} + 65.0\\right) e^{\\frac{0.305555555555556 t}{millisecond}}}{\\left(\\left(- 0.110210870702907 e^{\\frac{0.0227272727272727 t}{millisecond}} + 0.0444028931334999 e^{\\frac{0.25 t}{millisecond}}\\right) e^{- \\frac{0.272727272727273 t}{millisecond}} + 1\\right) e^{\\frac{0.305555555555556 t}{millisecond}} - 0.0286513188937306 e^{\\frac{0.0555555555555556 t}{millisecond}} + 0.0286513188937306 e^{\\frac{0.25 t}{millisecond}}} & \\text{otherwise} \\end{cases}$$"
      ],
      "text/plain": [
       "⎧                                                                             \n",
       "⎪                                                                             \n",
       "⎪                                                                             \n",
       "⎪                                                                             \n",
       "⎪                                                    ─────────────────────────\n",
       "⎪                                                                          0.0\n",
       "⎪                                                                          ───\n",
       "⎪                                                                             \n",
       "⎪                                                    - 0.0286513188937306⋅ℯ   \n",
       "⎨                                                                             \n",
       "⎪                                      ⎛⎛                    0.022727272727272\n",
       "⎪                                      ⎜⎜                    ─────────────────\n",
       "⎪                                      ⎜⎜                        millisecond  \n",
       "⎪                                     -⎝⎝- 7.71476094920348⋅ℯ                 \n",
       "⎪─────────────────────────────────────────────────────────────────────────────\n",
       "⎪⎛⎛                     0.0227272727272727⋅t                          0.25⋅t  \n",
       "⎪⎜⎜                     ────────────────────                       ───────────\n",
       "⎪⎜⎜                         millisecond                            millisecond\n",
       "⎩⎝⎝- 0.110210870702907⋅ℯ                     + 0.0444028931334999⋅ℯ           \n",
       "\n",
       "                  0.305555555555556⋅t                                         \n",
       "                  ───────────────────                                         \n",
       "                      millisecond                                             \n",
       "           -65.0⋅ℯ                                                            \n",
       "──────────────────────────────────────────────────────────────────────────    \n",
       "555555555555556⋅t                          0.25⋅t      0.305555555555556⋅t    \n",
       "─────────────────                       ───────────    ───────────────────    \n",
       " millisecond                            millisecond        millisecond        \n",
       "                  + 0.0286513188937306⋅ℯ            + ℯ                       \n",
       "                                                                              \n",
       "7⋅t                        0.25⋅t  ⎞  -0.272727272727273⋅t        ⎞  0.3055555\n",
       "───                     ───────────⎟  ─────────────────────       ⎟  ─────────\n",
       "                        millisecond⎟       millisecond            ⎟      milli\n",
       "    + 3.10820251934499⋅ℯ           ⎠⋅ℯ                      + 65.0⎠⋅ℯ         \n",
       "──────────────────────────────────────────────────────────────────────────────\n",
       "⎞  -0.272727272727273⋅t     ⎞  0.305555555555556⋅t                       0.055\n",
       "⎟  ─────────────────────    ⎟  ───────────────────                       ─────\n",
       "⎟       millisecond         ⎟      millisecond                               m\n",
       "⎠⋅ℯ                      + 1⎠⋅ℯ                    - 0.0286513188937306⋅ℯ     \n",
       "\n",
       "                                                                        \n",
       "                                                                        \n",
       "                                                                        \n",
       "                                                            t           \n",
       "                                                   for ─────────── < 4.0\n",
       "                                                       millisecond      \n",
       "                                                                        \n",
       "                                                                        \n",
       "                                                                        \n",
       "                                                                        \n",
       "55555556⋅t                                                              \n",
       "──────────                                                              \n",
       "second                                                                  \n",
       "                                                                        \n",
       "─────────────────────────────────────────────────        otherwise      \n",
       "5555555555556⋅t                          0.25⋅t                         \n",
       "───────────────                       ───────────                       \n",
       "illisecond                            millisecond                       \n",
       "                + 0.0286513188937306⋅ℯ                                  "
      ]
     },
     "execution_count": 15,
     "metadata": {},
     "output_type": "execute_result"
    }
   ],
   "source": [
    "simplify(check_vm_t)"
   ]
  },
  {
   "cell_type": "code",
   "execution_count": 20,
   "metadata": {},
   "outputs": [
    {
     "ename": "TypeError",
     "evalue": "cannot determine truth value of Relational",
     "output_type": "error",
     "traceback": [
      "\u001b[0;31m---------------------------------------------------------------------------\u001b[0m",
      "\u001b[0;31mTypeError\u001b[0m                                 Traceback (most recent call last)",
      "\u001b[0;32m<ipython-input-20-c9f71ba14df6>\u001b[0m in \u001b[0;36m<module>\u001b[0;34m()\u001b[0m\n\u001b[0;32m----> 1\u001b[0;31m \u001b[0mf\u001b[0m\u001b[0;34m(\u001b[0m\u001b[0;36m1.\u001b[0m\u001b[0;34m*\u001b[0m\u001b[0mnS\u001b[0m\u001b[0;34m,\u001b[0m \u001b[0;36m1.\u001b[0m\u001b[0;34m,\u001b[0m \u001b[0;36m1.\u001b[0m\u001b[0;34m*\u001b[0m \u001b[0mms\u001b[0m\u001b[0;34m)\u001b[0m\u001b[0;34m\u001b[0m\u001b[0m\n\u001b[0m",
      "\u001b[0;32m/usr/local/lib/python2.7/dist-packages/sympy/utilities/lambdify.pyc\u001b[0m in \u001b[0;36mwrapper\u001b[0;34m(*argsx, **kwargsx)\u001b[0m\n\u001b[1;32m    442\u001b[0m                 newargs = [asarray(i) if isinstance(i, integer_types + (float,\n\u001b[1;32m    443\u001b[0m                     complex)) else i for i in argsx]\n\u001b[0;32m--> 444\u001b[0;31m                 \u001b[0;32mreturn\u001b[0m \u001b[0mfuncarg\u001b[0m\u001b[0;34m(\u001b[0m\u001b[0;34m*\u001b[0m\u001b[0mnewargs\u001b[0m\u001b[0;34m,\u001b[0m \u001b[0;34m**\u001b[0m\u001b[0mkwargsx\u001b[0m\u001b[0;34m)\u001b[0m\u001b[0;34m\u001b[0m\u001b[0m\n\u001b[0m\u001b[1;32m    445\u001b[0m             \u001b[0;32mreturn\u001b[0m \u001b[0mwrapper\u001b[0m\u001b[0;34m\u001b[0m\u001b[0m\n\u001b[1;32m    446\u001b[0m         \u001b[0mfunc\u001b[0m \u001b[0;34m=\u001b[0m \u001b[0marray_wrap\u001b[0m\u001b[0;34m(\u001b[0m\u001b[0mfunc\u001b[0m\u001b[0;34m)\u001b[0m\u001b[0;34m\u001b[0m\u001b[0m\n",
      "\u001b[0;32m/usr/local/lib/python2.7/dist-packages/numpy/__init__.pyc\u001b[0m in \u001b[0;36m<lambda>\u001b[0;34m(_Dummy_149, _Dummy_150, _Dummy_151)\u001b[0m\n",
      "\u001b[0;32m/usr/local/lib/python2.7/dist-packages/sympy/core/relational.pyc\u001b[0m in \u001b[0;36m__nonzero__\u001b[0;34m(self)\u001b[0m\n\u001b[1;32m    193\u001b[0m \u001b[0;34m\u001b[0m\u001b[0m\n\u001b[1;32m    194\u001b[0m     \u001b[0;32mdef\u001b[0m \u001b[0m__nonzero__\u001b[0m\u001b[0;34m(\u001b[0m\u001b[0mself\u001b[0m\u001b[0;34m)\u001b[0m\u001b[0;34m:\u001b[0m\u001b[0;34m\u001b[0m\u001b[0m\n\u001b[0;32m--> 195\u001b[0;31m         \u001b[0;32mraise\u001b[0m \u001b[0mTypeError\u001b[0m\u001b[0;34m(\u001b[0m\u001b[0;34m\"cannot determine truth value of Relational\"\u001b[0m\u001b[0;34m)\u001b[0m\u001b[0;34m\u001b[0m\u001b[0m\n\u001b[0m\u001b[1;32m    196\u001b[0m \u001b[0;34m\u001b[0m\u001b[0m\n\u001b[1;32m    197\u001b[0m     \u001b[0m__bool__\u001b[0m \u001b[0;34m=\u001b[0m \u001b[0m__nonzero__\u001b[0m\u001b[0;34m\u001b[0m\u001b[0m\n",
      "\u001b[0;31mTypeError\u001b[0m: cannot determine truth value of Relational"
     ]
    }
   ],
   "source": [
    "f(1.*nS, 1., 1.* ms)"
   ]
  },
  {
   "cell_type": "markdown",
   "metadata": {},
   "source": [
    "## 6 C Divisive Inhibition: Inhibition proportional to Excitation, or $g_i = P \\times g_e$"
   ]
  },
  {
   "cell_type": "code",
   "execution_count": null,
   "metadata": {
    "collapsed": true
   },
   "outputs": [],
   "source": [
    "di_exc =  [[float(f(e * nS, 0., dt * ms)) for dt in trange] for e in erange]\n",
    "di_control = {prop: [[float(f(e * nS, prop, dt * ms)) for dt in trange] for e in erange] for prop in prop_array}"
   ]
  },
  {
   "cell_type": "code",
   "execution_count": null,
   "metadata": {
    "collapsed": true
   },
   "outputs": [],
   "source": [
    "fig, ax = plt.subplots()\n",
    "# plt.style.context('neuron-color')\n",
    "handles, labels = [], []\n",
    "for prop in prop_array:\n",
    "    v_max, e_max = [], []\n",
    "    for con_trace,e_t in zip(di_control[prop], di_exc):\n",
    "        v_max.append(max(con_trace) - float(approximateDict[leak_rev]/mV))\n",
    "        e_max.append(max(e_t) - float(approximateDict[leak_rev]/mV))\n",
    "    handles.append(ax.scatter(e_max, v_max, s=40))\n",
    "    ax.plot(e_max, v_max, '--')\n",
    "    labels.append(\"$P= {}$\".format(prop))\n",
    "ax.set_xlabel(\"Excitation $V_{max}$\")\n",
    "ax.set_ylabel(\"Control  $V_{max}$\")\n",
    "left, bottom, width, height = [0.25, 0.6, 0.2, 0.2]\n",
    "ax2 = fig.add_axes([left, bottom, width, height])\n",
    "for prop in prop_array:\n",
    "    ax2.plot(trange, di_control[prop][5])\n",
    "#ax2.set_xlabel(\"Time\")\n",
    "#ax2.set_ylabel(\"Membrane potential (mV)\")\n",
    "#fig.legend(handles, labels, loc ='center right')\n",
    "fig.set_figwidth(2)\n",
    "fig.set_figheight(2)\n",
    "simpleaxis(ax)\n",
    "dump(fig,file('figures/fig6/6c.pkl','wb'))\n",
    "# ax.set_title(\"Divisive Inhibition\")\n",
    "plt.show()"
   ]
  },
  {
   "cell_type": "code",
   "execution_count": null,
   "metadata": {
    "collapsed": true
   },
   "outputs": [],
   "source": [
    "print ( \"Constant $delta_i$ was {:.1f} ms\".format(averageEstimateDict[delta_i]/ms))"
   ]
  },
  {
   "cell_type": "markdown",
   "metadata": {},
   "source": [
    "6 DEF: Divisive Normalization: Inhibition proportional to Excitation, or $g_i = P \\times g_e$ and $\\delta_i$ inversely proportional to $g_e$"
   ]
  },
  {
   "cell_type": "markdown",
   "metadata": {},
   "source": [
    "## 6 D Changing $\\delta_i$ = $\\delta_{min} + me^{-k\\times{g_e}}$"
   ]
  },
  {
   "cell_type": "code",
   "execution_count": null,
   "metadata": {
    "collapsed": true
   },
   "outputs": [],
   "source": [
    "d = lambda minDelay,k,e: minDelay + m*exp(-(k*e))\n",
    "nS = nano*siemens\n",
    "k, m, minDelay = 2/nS, 9*ms, 1.*ms\n",
    "fig, ax = plt.subplots()\n",
    "ax.scatter(erange, [d(minDelay,k,e*nS)/ms for e in erange], s=40, facecolor='k', edgecolor='k')\n",
    "ax.set_xlabel(\"$g_e$ (nS)\")\n",
    "ax.set_ylabel(\"$\\\\delta_i$ (ms)\")\n",
    "fig.set_figwidth(2)\n",
    "fig.set_figheight(2)\n",
    "simpleaxis(ax)\n",
    "dump(fig,file('figures/fig6/6d.pkl','wb'))\n",
    "plt.show()"
   ]
  },
  {
   "cell_type": "code",
   "execution_count": null,
   "metadata": {
    "collapsed": true
   },
   "outputs": [],
   "source": [
    "check_vm = simplify(Vm_t[0].subs({i:averageEstimateDict[i] for i in averageEstimateDict if i not in [g_e, g_i, delta_i]}).subs(approximateDict).subs({g_i: P*g_e, delta_i: d(minDelay,k,g_e)}).evalf())\n",
    "f = lambdify((g_e, P, t), check_vm/mV, (unitsDict, \"numpy\"))"
   ]
  },
  {
   "cell_type": "code",
   "execution_count": null,
   "metadata": {
    "collapsed": true
   },
   "outputs": [],
   "source": [
    "dn_exc =  [[float(f(e * nS, 0., dt * ms)) for dt in trange] for e in erange]\n",
    "dn_control = {prop: [[float(f(e * nS, prop, dt * ms)) for dt in trange] for e in erange] for prop in prop_array}"
   ]
  },
  {
   "cell_type": "markdown",
   "metadata": {},
   "source": [
    "## 6 E Divisive Normalization "
   ]
  },
  {
   "cell_type": "code",
   "execution_count": null,
   "metadata": {
    "collapsed": true
   },
   "outputs": [],
   "source": [
    "fig, ax = plt.subplots()\n",
    "handles, labels = [], []\n",
    "for prop in prop_array:\n",
    "    v_max, e_max = [], []\n",
    "    for con_trace,e_t in zip(dn_control[prop], dn_exc):\n",
    "        v_max.append(max(con_trace) - float(approximateDict[leak_rev]/mV))\n",
    "        e_max.append(max(e_t) - float(approximateDict[leak_rev]/mV))\n",
    "    handles.append(ax.scatter(e_max, v_max, s=40))\n",
    "    ax.plot(e_max, v_max, '--')\n",
    "    labels.append(\"$P= {}$\".format(prop))\n",
    "ax.set_xlabel(\"Excitation $V_{max}$\")\n",
    "ax.set_ylabel(\"Control  $V_{max}$\")\n",
    "left, bottom, width, height = [0.25, 0.6, 0.2, 0.2]\n",
    "ax2 = fig.add_axes([left, bottom, width, height])\n",
    "for prop in prop_array:\n",
    "    ax2.plot(trange, dn_control[prop][5])\n",
    "#ax2.set_xlabel(\"Time\")\n",
    "#ax2.set_ylabel(\"Membrane potential (mV)\")\n",
    "# fig.legend(handles, labels, loc ='right')\n",
    "fig.set_figwidth(2)\n",
    "fig.set_figheight(2)\n",
    "simpleaxis(ax)\n",
    "dump(fig,file('figures/fig6/6e.pkl','wb'))\n",
    "# ax.set_title(\"Divisive Normalization\", fontsize=18)\n",
    "plt.show()"
   ]
  },
  {
   "cell_type": "markdown",
   "metadata": {},
   "source": [
    "## 5 B Model subtraction scheme"
   ]
  },
  {
   "cell_type": "code",
   "execution_count": null,
   "metadata": {
    "collapsed": true
   },
   "outputs": [],
   "source": [
    "fig, ax = plt.subplots()\n",
    "handles, labels = [], []\n",
    "prop = 4\n",
    "\n",
    "i_max, e_max = [], []\n",
    "trace_c, trace_e = numpy.array(dn_control[prop][-1]), numpy.array(dn_exc[-1])\n",
    "ax.plot(trange, trace_c, label=\"PSP\")\n",
    "ax.plot(trange, trace_e, label=\"EPSP\")\n",
    "trace_i =  float(approximateDict[leak_rev]/mV) + (trace_c - trace_e)\n",
    "ax.plot(trange, trace_i, label=\"Derived IPSP\")\n",
    "ax.set_xlabel(\"Time\")\n",
    "ax.set_ylabel(\"$V_m$\")\n",
    "fig.set_figwidth(3)\n",
    "fig.set_figheight(3)\n",
    "simpleaxis(ax)\n",
    "dump(fig,file('figures/fig5/5b.pkl','wb'))\n",
    "plt.legend()\n",
    "plt.show()"
   ]
  },
  {
   "cell_type": "markdown",
   "metadata": {},
   "source": [
    "## 6 F Excitation - Derived Inhibition plot"
   ]
  },
  {
   "cell_type": "code",
   "execution_count": null,
   "metadata": {
    "collapsed": true
   },
   "outputs": [],
   "source": [
    "fig, ax = plt.subplots()\n",
    "handles, labels = [], []\n",
    "for prop in prop_array:\n",
    "    i_max, e_max = [], []\n",
    "    for con_trace,e_t in zip(dn_control[prop], dn_exc):\n",
    "        i_max.append(max(e_t) - max(con_trace))\n",
    "        e_max.append(max(e_t) - float(approximateDict[leak_rev]/mV))\n",
    "    handles.append(ax.scatter(e_max, i_max, s=40))\n",
    "    ax.plot(e_max, i_max, '--')\n",
    "    labels.append(\"$P= {}$\".format(prop))\n",
    "ax.set_xlabel(\"Excitation $V_{max}$\")\n",
    "ax.set_ylabel(\"Derived Inhibition  $V_{max}$\")\n",
    "xlim = ax.get_xlim()\n",
    "ax.set_ylim (xlim)\n",
    "ax.plot(xlim, xlim, '--')\n",
    "# fig.legend(handles, labels, loc ='center right')\n",
    "fig.set_figwidth(2)\n",
    "fig.set_figheight(2)\n",
    "simpleaxis(ax)\n",
    "dump(fig,file('figures/fig6/6f.pkl','wb'))\n",
    "plt.show()"
   ]
  },
  {
   "cell_type": "markdown",
   "metadata": {},
   "source": [
    "## 6 G Time to peak"
   ]
  },
  {
   "cell_type": "code",
   "execution_count": null,
   "metadata": {
    "collapsed": true
   },
   "outputs": [],
   "source": [
    "fig, ax = plt.subplots()\n",
    "handles, labels = [], []\n",
    "for prop in prop_array:\n",
    "    ttp, e_max = [], []\n",
    "    for con_trace,e_t in zip(dn_control[prop], dn_exc):\n",
    "        ttp.append(numpy.argmax(con_trace))\n",
    "        e_max.append(max(e_t) - float(approximateDict[leak_rev]/mV))\n",
    "    handles.append(ax.scatter(e_max[1:], ttp[1:], s=40))\n",
    "    ax.plot(e_max[1:], ttp[1:], '--')\n",
    "    labels.append(\"$P= {}$\".format(prop))\n",
    "ax.set_xlabel(\"Excitation $V_{max}$\")\n",
    "ax.set_ylabel(\"Time to peak  $t_{peak}$\")\n",
    "ax.set_xlim(0,18)\n",
    "ax.set_ylim(0,18)\n",
    "# fig.legend(handles, labels, loc ='center right')\n",
    "fig.set_figwidth(3)\n",
    "fig.set_figheight(3)\n",
    "simpleaxis(ax)\n",
    "dump(fig,file('figures/fig6/6g.pkl','wb'))\n",
    "plt.show()"
   ]
  },
  {
   "cell_type": "markdown",
   "metadata": {},
   "source": [
    "## 6 H Permutation of P"
   ]
  },
  {
   "cell_type": "code",
   "execution_count": null,
   "metadata": {
    "collapsed": true
   },
   "outputs": [],
   "source": [
    "check_vm = simplify(Vm_t[0].subs({i:averageEstimateDict[i] for i in averageEstimateDict if i not in [g_e, g_i, delta_i]}).subs(approximateDict).subs({delta_i: d(minDelay,k,g_e)}).evalf())\n",
    "f = lambdify((g_e, g_i, t), check_vm/mV, (unitsDict, \"numpy\"))"
   ]
  },
  {
   "cell_type": "code",
   "execution_count": null,
   "metadata": {
    "collapsed": true
   },
   "outputs": [],
   "source": [
    "p_perm_dn_exc =  [[float(f(e * nS, 0., dt * ms)) for dt in trange] for e in erange]\n",
    "p_perm_dn_control = {prop: [[float(f(e * nS, i * nS, dt * ms)) for dt in trange] for (e,i) in zip(erange, numpy.random.permutation(erange*prop))] for prop in prop_array}"
   ]
  },
  {
   "cell_type": "code",
   "execution_count": null,
   "metadata": {
    "collapsed": true
   },
   "outputs": [],
   "source": [
    "fig, ax = plt.subplots()\n",
    "handles, labels = [], []\n",
    "for prop in prop_array:\n",
    "    v_max, e_max = [], []\n",
    "    for con_trace,e_t in zip(p_perm_dn_control[prop], p_perm_dn_exc):\n",
    "        v_max.append(max(con_trace) - float(approximateDict[leak_rev]/mV))\n",
    "        e_max.append(max(e_t) - float(approximateDict[leak_rev]/mV))\n",
    "    handles.append(ax.scatter(e_max, v_max, s=40))\n",
    "    ax.plot(e_max, v_max, '--')\n",
    "    labels.append(\"$P= {}$\".format(prop))\n",
    "ax.set_xlabel(\"Excitation $V_{max}$\")\n",
    "ax.set_ylabel(\"Control  $V_{max}$\")\n",
    "left, bottom, width, height = [0.25, 0.6, 0.2, 0.2]\n",
    "ax2 = fig.add_axes([left, bottom, width, height])\n",
    "for prop in prop_array:\n",
    "    ax2.plot(trange, p_perm_dn_control[prop][5])\n",
    "#ax2.set_xlabel(\"Time\")\n",
    "#ax2.set_ylabel(\"Membrane potential (mV)\")\n",
    "# fig.legend(handles, labels, loc ='center right')\n",
    "fig.set_figwidth(3)\n",
    "fig.set_figheight(3)\n",
    "simpleaxis(ax)\n",
    "dump(fig,file('figures/fig6/6h.pkl','wb'))\n",
    "# ax.set_title(\"Divisive Normalization with E and I balance permuted\", fontsize=18)\n",
    "plt.show()"
   ]
  },
  {
   "cell_type": "markdown",
   "metadata": {},
   "source": [
    "## 6 I Permutation of $\\delta_i$"
   ]
  },
  {
   "cell_type": "code",
   "execution_count": null,
   "metadata": {
    "collapsed": true
   },
   "outputs": [],
   "source": [
    "check_vm = simplify(Vm_t[0].subs({i:averageEstimateDict[i] for i in averageEstimateDict if i not in [g_e, g_i, delta_i]}).subs(approximateDict).subs({g_i: P*g_e}).evalf())\n",
    "f = lambdify((g_e, P, delta_i, t), check_vm/mV, (unitsDict, \"numpy\"))"
   ]
  },
  {
   "cell_type": "code",
   "execution_count": null,
   "metadata": {
    "collapsed": true
   },
   "outputs": [],
   "source": [
    "d_perm_dn_exc =  [[float(f(e * nS, 0., d(minDelay,k, e* nS), dt * ms)) for dt in trange] for e in erange]\n",
    "d_perm_dn_control = {prop: [[float(f(e * nS, prop, delay, dt * ms)) for dt in trange] for e,delay in zip(erange, numpy.random.permutation([d(minDelay,k, e* nS) for e in erange])) ] for prop in prop_array}"
   ]
  },
  {
   "cell_type": "code",
   "execution_count": null,
   "metadata": {
    "collapsed": true,
    "scrolled": false
   },
   "outputs": [],
   "source": [
    "fig, ax = plt.subplots()\n",
    "handles, labels = [], []\n",
    "for prop in prop_array:\n",
    "    v_max, e_max = [], []\n",
    "    for con_trace,e_t in zip(d_perm_dn_control[prop], d_perm_dn_exc):\n",
    "        v_max.append(max(con_trace) - float(approximateDict[leak_rev]/mV))\n",
    "        e_max.append(max(e_t) - float(approximateDict[leak_rev]/mV))\n",
    "    handles.append(ax.scatter(e_max, v_max, s=40))\n",
    "    ax.plot(e_max, v_max, '--')\n",
    "    labels.append(\"$P= {}$\".format(prop))\n",
    "ax.set_xlabel(\"Excitation $V_{max}$\")\n",
    "ax.set_ylabel(\"Control  $V_{max}$\")\n",
    "left, bottom, width, height = [0.25, 0.6, 0.2, 0.2]\n",
    "ax2 = fig.add_axes([left, bottom, width, height])\n",
    "for prop in prop_array:\n",
    "    ax2.plot(trange, d_perm_dn_control[prop][5])\n",
    "# fig.legend(handles, labels, loc ='center right')\n",
    "fig.set_figwidth(2)\n",
    "fig.set_figheight(2)\n",
    "simpleaxis(ax)\n",
    "dump(fig,file('figures/fig6/6i.pkl','wb'))\n",
    "# ax.set_title(\"Divisive Normalization\", fontsize=18)\n",
    "plt.show()"
   ]
  },
  {
   "cell_type": "markdown",
   "metadata": {},
   "source": [
    "## 6 J Phase plot Divisive Normalization"
   ]
  },
  {
   "cell_type": "code",
   "execution_count": null,
   "metadata": {
    "collapsed": true
   },
   "outputs": [],
   "source": [
    "import lmfit\n",
    "def DN_model(x,a=1):\n",
    "    # Divisive normalization model\n",
    "    #return x - a*(x**2)/(b+x)\n",
    "    return x/(a*x+1)\n",
    "DN_Model = lmfit.Model(DN_model)"
   ]
  },
  {
   "cell_type": "code",
   "execution_count": null,
   "metadata": {
    "collapsed": true
   },
   "outputs": [],
   "source": [
    "check_vm = simplify(Vm_t[0].subs({i:averageEstimateDict[i] for i in averageEstimateDict if i not in [g_e, g_i, delta_i]}).subs(approximateDict).subs({g_i: P*g_e}).evalf())\n",
    "f = lambdify((g_e, P, delta_i, t), check_vm/mV, (unitsDict, \"numpy\"))"
   ]
  },
  {
   "cell_type": "code",
   "execution_count": null,
   "metadata": {
    "collapsed": true
   },
   "outputs": [],
   "source": [
    "phase_dn_control = {}\n",
    "phase_dn_exc = {}\n",
    "prop_array = numpy.logspace(-1,1,7)\n",
    "k_array = numpy.logspace(-1,1,7)\n",
    "for k in k_array:\n",
    "    phase_dn_exc[k] = [[float(f(e * nS, 0., d(minDelay,k/nS, e* nS), dt * ms)) for dt in trange] for e in erange]\n",
    "    phase_dn_control[k] = {prop: [[float(f(e * nS, prop, delay, dt * ms)) for dt in trange] for e,delay in zip(erange, [d(minDelay,k/nS, e* nS) for e in erange]) ] for prop in prop_array}"
   ]
  },
  {
   "cell_type": "code",
   "execution_count": null,
   "metadata": {
    "collapsed": true
   },
   "outputs": [],
   "source": [
    "fig, ax = plt.subplots()\n",
    "phaseMat = numpy.zeros((len(k_array),len(prop_array)))\n",
    "for ind1, k in enumerate(k_array):\n",
    "    for ind2, prop in enumerate(prop_array):\n",
    "        v_max, e_max = [], []\n",
    "        for con_trace,e_t in zip(phase_dn_control[k][prop], phase_dn_exc[k]):\n",
    "            v_max.append(max(con_trace) - float(approximateDict[leak_rev]/mV))\n",
    "            e_max.append(max(e_t) - float(approximateDict[leak_rev]/mV))\n",
    "        X, y = e_max, v_max\n",
    "        DN_pars = DN_Model.make_params()\n",
    "        DN_result = DN_Model.fit(y, DN_pars, x=X)\n",
    "        phaseMat[ind1][ind2] = DN_result.params['a']\n",
    "#         print(DN_result.fit_report())\n",
    "\n",
    "x,y = numpy.meshgrid(numpy.linspace(-1,1,7),numpy.linspace(-1,1,7))\n",
    "heatmap = ax.pcolor(x,y, phaseMat, cmap =matplotlib.cm.viridis)\n",
    "\n",
    "# ax.xaxis.set(ticklabels=[str(j) for j in k_array])\n",
    "# ax.yaxis.set(ticklabels=[str(j) for j in prop_array])\n",
    "\n",
    "# ax.axis([int(k_array.min()),int(k_array.max()),int(prop_array.min()),int(prop_array.max())])\n",
    "\n",
    "# ax.set_xlabel(\"K\", fontsize=14)\n",
    "# ax.set_ylabel(\"P\", fontsize=14)\n",
    "# ax.set_title(\"Divisive Normalization\", fontsize=18)\n",
    "plt.colorbar(heatmap, label = \"a\")\n",
    "ax.set_aspect(1)\n",
    "fig.set_figwidth(3.5)\n",
    "fig.set_figheight(3)\n",
    "simpleaxis(ax)\n",
    "dump(fig,file('figures/fig6/6j.pkl','wb'))\n",
    "plt.show()"
   ]
  },
  {
   "cell_type": "code",
   "execution_count": null,
   "metadata": {
    "collapsed": true
   },
   "outputs": [],
   "source": [
    "# for ind1, k in enumerate(k_array):\n",
    "#     for ind2, prop in enumerate(prop_array):\n",
    "#         v_max, e_max = [], []\n",
    "#         for con_trace,e_t in zip(phase_dn_control[k][prop], phase_dn_exc[k]):\n",
    "#             v_max.append(max(con_trace) - float(approximateDict[leak_rev]/mV))\n",
    "#             e_max.append(max(e_t) - float(approximateDict[leak_rev]/mV))\n",
    "#         X, y = e_max, v_max\n",
    "#         DN_pars = DN_Model.make_params()\n",
    "#         DN_result = DN_Model.fit(y, DN_pars, x=X)\n",
    "#         print (k, prop)\n",
    "#         print(DN_result.fit_report())\n",
    "#         f,ax = plt.subplots()\n",
    "#         DN_result.plot_fit(ax)\n",
    "#         plt.show()"
   ]
  },
  {
   "cell_type": "markdown",
   "metadata": {},
   "source": [
    "## 6 K $\\delta_i$ as a function of $g_e$"
   ]
  },
  {
   "cell_type": "code",
   "execution_count": null,
   "metadata": {
    "collapsed": true
   },
   "outputs": [],
   "source": [
    "n = Neuron.load('/media/sahil/NCBS_Shares_BGStim/patch_data/161220/c2_EI/plots/c2_EI.pkl')"
   ]
  },
  {
   "cell_type": "code",
   "execution_count": null,
   "metadata": {
    "collapsed": true
   },
   "outputs": [],
   "source": [
    "def delay_excitation(x, a=1, b=1, c=1):\n",
    "    # Delay as a function of excitation\n",
    "    return a + b*numpy.exp(-c*x)"
   ]
  },
  {
   "cell_type": "code",
   "execution_count": null,
   "metadata": {
    "collapsed": true
   },
   "outputs": [],
   "source": [
    "def findOnsetTime(trial, step=.25, slide = 0.05, minOnset = 2., maxOnset = 50., initpValTolerance=1.0, pValMinTolerance = 0.05):\n",
    "    maxIndex = int(trial.F_sample*maxOnset*1e-3)\n",
    "    if expType == 1:\n",
    "        maxOnsetIndex = numpy.argmax(-trial.interestWindow[:maxIndex])\n",
    "    elif expType == 2:\n",
    "        maxOnsetIndex = numpy.argmax(trial.interestWindow[:maxIndex])\n",
    "    else:\n",
    "        maxOnsetIndex = numpy.argmax(trial.interestWindow[:maxIndex])\n",
    "    \n",
    "    window_size = len(trial.interestWindow)\n",
    "    step_size = int(trial.F_sample*step*1e-3)\n",
    "    \n",
    "    overlap =  int(trial.F_sample*slide*1e-3)\n",
    "    \n",
    "    index_right = maxOnsetIndex\n",
    "    index_left = index_right - step_size\n",
    "    minOnsetIndex = int(trial.F_sample*minOnset*1e-3)\n",
    "    \n",
    "    baseMean = numpy.mean(trial.interestWindow[:minOnsetIndex])\n",
    "    factor = 5\n",
    "    thresholdGradient = 0.01\n",
    "    pValTolerance = initpValTolerance\n",
    "\n",
    "    l_window = trial.interestWindow[:minOnsetIndex]\n",
    "    while (index_left>minOnset):\n",
    "        r_window = trial.interestWindow[index_left:index_right] #, trial.baselineWindow #trial.interestWindow[index_left - step_size:index_left]\n",
    "        stat, pVal = ss.ks_2samp(r_window, l_window)\n",
    "        if pVal>pValTolerance:\n",
    "            return float(index_right)/trial.F_sample\n",
    "\n",
    "        else:\n",
    "            index_left-=overlap\n",
    "            index_right-=overlap\n",
    "            if index_left<=minOnsetIndex:\n",
    "                pValTolerance/=2\n",
    "                if pValTolerance<pValMinTolerance:\n",
    "#                             print (\"Returning Nan\")\n",
    "                            return numpy.nan\n",
    "                else:\n",
    "                    index_right = maxOnsetIndex\n",
    "                    index_left = maxOnsetIndex - step_size"
   ]
  },
  {
   "cell_type": "code",
   "execution_count": null,
   "metadata": {
    "collapsed": true
   },
   "outputs": [],
   "source": [
    "avg_exc_onset = {}\n",
    "avg_inh_onset = {}\n",
    "avg_exc_max = {}\n",
    "exc_onsets, inh_onsets = {}, {}\n",
    "exc_max,inh_max = {}, {}\n",
    "err_inh_onsets = {}\n",
    "for expType, exp in n:\n",
    "    for sqr in exp:\n",
    "        for coord in exp[sqr].coordwise:\n",
    "            if expType == 1:\n",
    "                for trial in exp[sqr].coordwise[coord].trials:\n",
    "                    exc_onsets[(sqr,trial.index)] = findOnsetTime(trial)*1e3\n",
    "                    exc_max[(sqr,trial.index)] = -trial.feature[5]*1e6\n",
    "                    #exp[sqr].coordwise[coord].average_feature[5]\n",
    "            if expType == 2:\n",
    "                list_inh_onset = []\n",
    "                for trial in exp[sqr].coordwise[coord].trials:\n",
    "                    inh_onsets[(sqr,trial.index)] = findOnsetTime(trial)*1e3\n",
    "                    list_inh_onset.append(inh_onsets[(sqr,trial.index)])\n",
    "                    inh_max[(sqr,trial.index)] = trial.feature[0]*1e6\n",
    "                avg_onset = numpy.nanmean([onset for onset in list_inh_onset if onset])\n",
    "                err_onset = numpy.nanstd([onset for onset in list_inh_onset if onset])\n",
    "                for trial in exp[sqr].coordwise[coord].trials:\n",
    "                    avg_inh_onset[(sqr,trial.index)] = avg_onset\n",
    "                    err_inh_onsets[(sqr,trial.index)] = err_onset\n",
    "#print (avg_exc_max, avg_exc_onset, avg_inh_onset)"
   ]
  },
  {
   "cell_type": "code",
   "execution_count": null,
   "metadata": {
    "collapsed": true
   },
   "outputs": [],
   "source": [
    "delay, max_current = [], []\n",
    "del_err, max_err= [], []\n",
    "inhibOnset = []\n",
    "for key in set(exc_onsets).intersection(set(avg_inh_onset)):\n",
    "    if avg_inh_onset[key] and exc_onsets[key]:\n",
    "        if not numpy.isnan(avg_inh_onset[key]) and not numpy.isnan (exc_onsets[key]) and not numpy.isnan (exc_max[key]):\n",
    "            delay.append(avg_inh_onset[key]- exc_onsets[key])\n",
    "            max_current.append(exc_max[key])\n",
    "            del_err.append(err_inh_onsets[key])\n",
    "            inhibOnset.append(inh_onsets[key])\n",
    "#         del_err.append()\n",
    "#         max_err.append()"
   ]
  },
  {
   "cell_type": "code",
   "execution_count": null,
   "metadata": {
    "collapsed": true
   },
   "outputs": [],
   "source": [
    "delay_Model = lmfit.Model(delay_excitation)\n",
    "delay_pars = delay_Model.make_params()\n",
    "\n",
    "delay = numpy.array(delay)\n",
    "max_current = numpy.array(max_current)\n",
    "\n",
    "delay_result = delay_Model.fit(delay, delay_pars, x=max_current)\n",
    "# print (delay_result.params)\n",
    "# print (delay_result.aic)\n",
    "# print (delay_result.redchi)"
   ]
  },
  {
   "cell_type": "code",
   "execution_count": null,
   "metadata": {
    "collapsed": true
   },
   "outputs": [],
   "source": [
    "fig, ax = plt.subplots()\n",
    "ax.errorbar(numpy.array(max_current), numpy.array(delay), fmt ='o', yerr=numpy.array(del_err), markersize=2, alpha=0.4)\n",
    "#ax.scatter(numpy.array(max_current)*1e6, numpy.array(delay)*1e3)\n",
    "current_linspace= numpy.linspace(0,1.1*numpy.max(max_current))\n",
    "ax.plot(current_linspace, delay_result.eval(x=current_linspace), '-', label=\"${:.2f} + {:.2f} \\\\times e^{{-{:.2f} \\\\times E }}$\".format(delay_result.params['a'].value, delay_result.params['b'].value, delay_result.params['c'].value))\n",
    "\n",
    "ax.plot(1./(delay_result.params['c'].value), delay_result.eval(x=1./(delay_result.params['c'].value)), 'ko', markersize=2)\n",
    "xmin, xmax = ax.get_xlim()\n",
    "ax.hlines(y=0, xmin=xmin, xmax=xmax, linestyles='--', alpha=0.5)\n",
    "ax.hlines(y=delay_result.params['a'].value, xmin=xmin, xmax=xmax, linestyles='--', alpha=0.5)\n",
    "ax.set_xlabel(\"$I_{max}^{exc}$\")\n",
    "ax.set_ylabel(\"Delay $(\\\\delta_{inh})$\")\n",
    "\n",
    "ax.annotate(\"\",\n",
    "            xy=(xmax, 0.), xycoords='data',\n",
    "            xytext=(xmax, delay_result.params['a'].value), textcoords='data',\n",
    "            arrowprops=dict(arrowstyle=\"<->\",\n",
    "                            connectionstyle=\"arc3\"),\n",
    "            )\n",
    "ax.text(1.01*xmax, 1., \"$\\\\delta_{min}$\")\n",
    "\n",
    "ax.annotate(\"\",\n",
    "            xy=(0, 0), xycoords='data',\n",
    "            xytext=(0, delay_result.params['b'].value + delay_result.params['a'].value), textcoords='data',\n",
    "            arrowprops=dict(arrowstyle=\"<->\",\n",
    "                            connectionstyle=\"arc3\"),\n",
    "            )\n",
    "ax.text(xmin*1.5, 10., \"$\\\\delta_{max}$\")\n",
    "\n",
    "ax.annotate(\"\",\n",
    "            xy=(xmax, delay_result.params['a'].value), xycoords='data',\n",
    "            xytext=(xmax,  delay_result.params['b'].value + delay_result.params['a'].value), textcoords='data',\n",
    "            arrowprops=dict(arrowstyle=\"<->\",\n",
    "                            connectionstyle=\"arc3\"),\n",
    "            )\n",
    "ax.text(1.01*xmax, 10., \"$m$\")\n",
    "\n",
    "# ax.text(0.006, 6., \"$k$\")\n",
    "ax.set_xlim(xmax= xmax*1.1)\n",
    "simpleaxis(ax)\n",
    "plt.legend()\n",
    "fig.set_figwidth(6)\n",
    "fig.set_figheight(6)\n",
    "dump(fig,file('figures/fig6/6k.pkl','wb'))\n",
    "plt.show()"
   ]
  }
 ],
 "metadata": {
  "hide_input": true,
  "kernelspec": {
   "display_name": "Python 2",
   "language": "python",
   "name": "python2"
  },
  "language_info": {
   "codemirror_mode": {
    "name": "ipython",
    "version": 2
   },
   "file_extension": ".py",
   "mimetype": "text/x-python",
   "name": "python",
   "nbconvert_exporter": "python",
   "pygments_lexer": "ipython2",
   "version": "2.7.12"
  },
  "latex_envs": {
   "LaTeX_envs_menu_present": true,
   "autocomplete": true,
   "bibliofile": "biblio.bib",
   "cite_by": "apalike",
   "current_citInitial": 1,
   "eqLabelWithNumbers": true,
   "eqNumInitial": 1,
   "hotkeys": {
    "equation": "Ctrl-E",
    "itemize": "Ctrl-I"
   },
   "labels_anchors": false,
   "latex_user_defs": false,
   "report_style_numbering": false,
   "user_envs_cfg": false
  },
  "toc": {
   "colors": {
    "hover_highlight": "#DAA520",
    "navigate_num": "#000000",
    "navigate_text": "#333333",
    "running_highlight": "#FF0000",
    "selected_highlight": "#FFD700",
    "sidebar_border": "#EEEEEE",
    "wrapper_background": "#FFFFFF"
   },
   "moveMenuLeft": true,
   "nav_menu": {
    "height": "208px",
    "width": "252px"
   },
   "navigate_menu": true,
   "number_sections": true,
   "sideBar": true,
   "threshold": 4,
   "toc_cell": false,
   "toc_section_display": "block",
   "toc_window_display": true,
   "widenNotebook": false
  },
  "varInspector": {
   "cols": {
    "lenName": 16,
    "lenType": 16,
    "lenVar": 40
   },
   "kernels_config": {
    "python": {
     "delete_cmd_postfix": "",
     "delete_cmd_prefix": "del ",
     "library": "var_list.py",
     "varRefreshCmd": "print(var_dic_list())"
    },
    "r": {
     "delete_cmd_postfix": ") ",
     "delete_cmd_prefix": "rm(",
     "library": "var_list.r",
     "varRefreshCmd": "cat(var_dic_list()) "
    }
   },
   "types_to_exclude": [
    "module",
    "function",
    "builtin_function_or_method",
    "instance",
    "_Feature"
   ],
   "window_display": false
  }
 },
 "nbformat": 4,
 "nbformat_minor": 2
}
