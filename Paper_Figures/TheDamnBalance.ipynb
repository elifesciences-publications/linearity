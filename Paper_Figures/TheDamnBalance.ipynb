{
 "cells": [
  {
   "cell_type": "markdown",
   "metadata": {},
   "source": [
    "# Analytical formulation of the synaptic output using a bernoulli and a gaussian process."
   ]
  },
  {
   "cell_type": "markdown",
   "metadata": {},
   "source": [
    "We can think of individual synapses as product of 2 random variables. 1: Release probabilities (p) as a bernoulli process (coin flips with certain probability) and 2: synaptic weights drawn from a (say lognormal) distribution. This results in a unitary at the postsynapse. These unitaries can then sum up to give rise to PSPs, which are sums of these random variables.\n",
    "\n",
    "Formally,\n",
    "\n",
    "$X = B(p)$\n",
    "\n",
    "$Y = G(\\bar{w}, \\tilde{w})$ (This can be arbitrary distributions, not necessarily Gaussian)\n",
    "\n",
    "Here,\n",
    "\n",
    "$B$ is Binomial random process with success probability $p$,\n",
    "$G$ is a Gaussian random process with mean $\\bar{w}$, and variance $\\tilde{w}$\n",
    "\n",
    "Now $V(X,Y) = {E(X)}^2 V(Y) + {E(Y)}^2 V(X) + V(X)V(Y)$\n",
    "\n",
    "Or, \n",
    "$V(X,Y) = \\bar{w}^2.p.(1-p) + p^2.\\tilde{w} + p.(1-p).\\tilde{w}$\n",
    "\n",
    "Canceling and rearranging, \n",
    "\n",
    "$V(X,Y) = p.(\\bar{w}^2.(1- p) + \\tilde{w})$\n",
    "\n",
    "Let the number of active synapses by n. Then, the total variance of n such processes would be:\n",
    "\n",
    "$\\sum\\limits_{}^{n} {V(X,Y)} = np.(\\bar{w}^2.(1- p) + \\tilde{w})$ \n",
    "\n",
    "Similarly, mean EPSC from n active synapses will be $\\sum\\limits_{}^{n} {E(X,Y)} = \\sum\\limits_{}^{n}{E(X).E(Y)} = \\sum\\limits_{}^{n} p.\\bar{w} = np\\bar{w}$\n",
    "\n",
    "Using this framework, we can think about if there were to be tuning of weights, what signatures should we find in the data. For example, the fano factor turns out immediately to be independent of n (number of synapses) = \n",
    "\n",
    "\n",
    "$\\frac{V(X,Y)}{E(X,Y)} = \\frac{np.(\\bar{w}^2.(1- p) + \\tilde{w})}{np\\bar{w}} = (1-p)\\bar{w} + \\frac{\\tilde{w}}{\\bar{w}}$\n",
    "\n",
    "We can rewrite this now for both excitatory and inhibitory inputs.\n",
    "\n",
    "$FF_e = \\frac{V_e(X,Y)}{E_e(X,Y)} = \\frac{n_e p_e.(\\bar{w_e}^2.(1- p_e) + \\tilde{w_e})}{n_e p_e \\bar{w_e}} = (1-p_e)\\bar{w_e} + \\frac{\\tilde{w_e}}{\\bar{w_e}}$\n",
    "\n",
    "And for inhibitory, again, \n",
    "\n",
    "$FF_i = \\frac{V_i(X,Y)}{E_i(X,Y)} = (1-p_i)\\bar{w_i} + \\frac{\\tilde{w_i}}{\\bar{w_i}}$\n",
    "\n",
    "Therefore, without the numbers of afferents in, the fano factors of E and I inputs should not scale with each other, unless there is weight tuning.\n",
    "\n",
    "Let's assess what $\\frac{FF_i}{FF_e}$ gives us with and without weight tuning:\n",
    "\n",
    "$ \\frac{(1-p_i)\\bar{w_i} + \\frac{\\tilde{w_i}}{\\bar{w_i}}}{(1-p_e)\\bar{w_e} + \\frac{\\tilde{w_e}}{\\bar{w_e}}}$\n",
    "\n",
    "First, we define a variable to quantify tuning error, such that it parameterizes the system from a global balanced state to a detailed balanced state. Let this variable be $\\rho$.\n",
    "\n",
    "\n",
    "We define detailed balanced as a state where all synaptic weights are tuned to a given I/E ratio, as opposed to a global balanced state, with only average synaptic weights balanced. That is, for detailed balance $\\vec{W_i} = k.\\vec{W_e} $, whereas for global balance, only $\\bar{W_i} = k.\\bar{W_e}$\n",
    "\n",
    "So now, to go from perfect correlation to no correlation between 2 standard normal vectors $x$ and $y$, we use the above defined $\\rho$, such that $y = \\rho.x + \\mathcal{N}(0, 1-\\rho^2)$. Here, at $\\rho=1$, there is perfect correlation, and at $\\rho=0$, there is no correlation.\n",
    "\n",
    "From this, we can build weight vector $W_i$ from $W_e$, by converting the standard normal $x$ into $W_e$ and $y$ into $W_i$. \n",
    "\n",
    "We start with $\\frac{w_e - \\bar{w_e}}{\\sqrt{\\tilde{w_e}}} \\times \\rho + \\mathcal{N}(0, 1-\\rho^2)$\n",
    "\n",
    "By scaling and adding an intercept to it, \n",
    "\n",
    "$w_i = k \\times \\bigg\\{ \\big( \\frac{w_e - \\bar{w_e}}{\\sqrt{\\tilde{w_e}}} \\times \\rho + \\mathcal{N}(0, 1-\\rho^2) \\big) \\times \\sqrt{\\tilde{w_e}} + \\bar{w_e}\\bigg\\}$\n",
    "\n",
    "And so for the whole vector, \n",
    "\n",
    "$\\vec{W_i} = k \\bigg\\{ \\big( \\frac{\\vec{W_e} - \\bar{W_e}}{\\sqrt{\\tilde{W_e}}} \\times \\rho + \\mathcal{N}(0, 1-\\rho^2) \\big) \\times \\sqrt{\\tilde{W_e}} + \\bar{W_e}\\bigg\\}$\n",
    "\n",
    "This can be simplified to:\n",
    "\n",
    "$\\vec{W_i} = k \\times \\bigg\\{ \\vec{W_e}.\\rho +  \\bar{W_e}.(1-\\rho) + \\mathcal{N}(0, \\tilde{W_e}.(1-\\rho^2)) \\bigg\\}$\n",
    "\n",
    "This can now be looked at in cases of perfect weight tuning, and without weight tuning:\n",
    "\n",
    "At $\\rho=0$,  $\\vec{W_i} =  k.\\bar{W_e} + \\mathcal{N}(0, k^2\\tilde{W_e})$, which implies global balance and untuned weights. \n",
    "\n",
    "At $\\rho=1$,  $\\vec{W_i} = k \\vec{W_e}$, which implies detailed balance and perfectly tuned weights.\n",
    "\n",
    "For $ 0 < \\rho < 1$, $\\rho$ denotes the correlation between the inhibitory and excitatory synaptic weights.\n",
    "\n",
    "From here, it can be noted that $\\bar{W_i} = k.\\bar{W_e}$ and $\\tilde{W_i} = k^2\\tilde{W_e}$ \n",
    "\n",
    "Now going back to Fano factor calculations, \n",
    "\n",
    "$FF_i = (1-p_i)\\bar{W_i} + \\frac{\\tilde{W_i}}{\\bar{W_i}} = k\\times \\big((1-p_i)(\\bar{W_e}) + \\frac{\\tilde{W_e}}{ \\bar{W_e}}\\big)$\n",
    "\n",
    "and $FF_e = (1-p_e)\\bar{W_e} + \\frac{\\tilde{W_e}}{\\bar{W_e}} $\n",
    "\n",
    "Therefore, $\\frac{FF_i}{FF_e} = k\\times {\\frac{(1-p_i)\\bar{W_e} + \\frac{\\tilde{W_e}}{\\bar{W_e}}}{(1-p_e)\\bar{W_e} + \\frac{\\tilde{W_e}}{\\bar{W_e}}}}$\n",
    "\n",
    "If $\\tilde{W_E} >> \\bar{W_E}, \\frac{FF_i}{FF_e} \\to k$\n"
   ]
  },
  {
   "cell_type": "markdown",
   "metadata": {},
   "source": [
    "$FF_i = (1-p_i)\\bar{W_i} + \\frac{\\tilde{W_i}}{\\bar{W_i}} = k\\times \\big((1-p_i)(\\bar{W_e}) + \\frac{\\tilde{W_e}}{ \\bar{W_e}}\\big)$\n",
    "\n",
    "Therefore, $\\frac{FF_i}{FF_e} = k\\times {\\frac{(1-p_i)\\bar{W_e} + \\frac{\\tilde{W_e}}{\\bar{W_e}}}{(1-p_e)\\bar{W_e} + \\frac{\\tilde{W_e}}{\\bar{W_e}}}}$\n",
    "\n",
    "If $\\tilde{W_E} >> \\bar{W_E}, \\frac{FF_i}{FF_e} \\to k$"
   ]
  },
  {
   "cell_type": "code",
   "execution_count": 2,
   "metadata": {},
   "outputs": [],
   "source": [
    "import sys\n",
    "sys.path.append(\"../\")\n",
    "import glob\n",
    "from mpl_toolkits.axes_grid1 import make_axes_locatable\n",
    "import math\n",
    "from matplotlib import mlab\n",
    "from Linearity import Neuron\n",
    "import numpy as np\n",
    "import scipy.stats as ss\n",
    "import matplotlib\n",
    "import matplotlib.pyplot as plt\n",
    "from matplotlib.font_manager import findfont, FontProperties\n",
    "matplotlib.rcParams['text.usetex'] = False\n",
    "matplotlib.rc('text.latex', preamble=r'\\usepackage{cmbright}')\n",
    "matplotlib.rc('font',**{'family':'sans-serif','sans-serif':['Arial']})\n",
    "plt.style.use('neuron')\n",
    "from pickle import dump\n",
    "import random"
   ]
  },
  {
   "cell_type": "code",
   "execution_count": 3,
   "metadata": {},
   "outputs": [],
   "source": [
    "def simpleaxis(axes, every=False, outward=False):\n",
    "    if not isinstance(axes, (list, np.ndarray)):\n",
    "        axes = [axes]\n",
    "    for ax in axes:\n",
    "        ax.spines['top'].set_visible(False)\n",
    "        ax.spines['right'].set_visible(False)\n",
    "        if (outward):\n",
    "            ax.spines['bottom'].set_position(('outward', 10))\n",
    "            ax.spines['left'].set_position(('outward', 10))\n",
    "        if every:\n",
    "            ax.spines['bottom'].set_visible(False)\n",
    "            ax.spines['left'].set_visible(False)\n",
    "        ax.get_xaxis().tick_bottom()\n",
    "        ax.get_yaxis().tick_left()\n",
    "        ax.set_title('')"
   ]
  },
  {
   "cell_type": "code",
   "execution_count": 4,
   "metadata": {},
   "outputs": [],
   "source": [
    "n, p = 20, 0.2\n",
    "mu , sigma = 1, 0.5\n",
    "trials = 5\n",
    "\n",
    "syn_weight = np.random.normal(mu,sigma,n)\n",
    "\n",
    "var_arr = []\n",
    "for num in range(1000):\n",
    "    syn_active = np.random.binomial(n,p,n)\n",
    "    total_weight = syn_active*syn_weight\n",
    "    var_arr.append(np.var(total_weight, ddof=1))    "
   ]
  },
  {
   "cell_type": "code",
   "execution_count": 5,
   "metadata": {},
   "outputs": [
    {
     "data": {
      "image/png": "[encoded data removed]",
      "text/plain": [
       "<matplotlib.figure.Figure at 0x7f18058c3c50>"
      ]
     },
     "metadata": {},
     "output_type": "display_data"
    }
   ],
   "source": [
    "est_var = n*p*((1-p)*(mu**2) + sigma)\n",
    "\n",
    "fig, ax = plt.subplots()\n",
    "counts, bins, patches = ax.hist(var_arr)\n",
    "ax.vlines(x = est_var, ymin=0, ymax = max(counts) +5 )\n",
    "plt.show()"
   ]
  },
  {
   "cell_type": "code",
   "execution_count": 6,
   "metadata": {},
   "outputs": [
    {
     "data": {
      "image/png": "[encoded data removed]",
      "text/plain": [
       "<matplotlib.figure.Figure at 0x7f18037ac550>"
      ]
     },
     "metadata": {},
     "output_type": "display_data"
    },
    {
     "data": {
      "image/png": "[encoded data removed]",
      "text/plain": [
       "<matplotlib.figure.Figure at 0x7f18037739d0>"
      ]
     },
     "metadata": {},
     "output_type": "display_data"
    }
   ],
   "source": [
    "b,d = [], []\n",
    "for j in range(1000):\n",
    "    a = np.random.binomial(1,0.2,50)*20\n",
    "    b.append(np.mean(a))\n",
    "    c = np.random.binomial(1,0.2,20)*50\n",
    "    d.append(np.mean(c))\n",
    "\n",
    "\n",
    "fig, ax = plt.subplots()\n",
    "n, bins, patches = ax.hist(b, bins=2)\n",
    "plt.show()\n",
    "\n",
    "fig, ax = plt.subplots()\n",
    "n, bins, patches = ax.hist(d, bins=2)\n",
    "plt.show()"
   ]
  },
  {
   "cell_type": "code",
   "execution_count": 7,
   "metadata": {},
   "outputs": [
    {
     "data": {
      "text/plain": [
       "(9.82, 3.9412)"
      ]
     },
     "execution_count": 7,
     "metadata": {},
     "output_type": "execute_result"
    }
   ],
   "source": [
    "np.mean(d), np.mean(b)"
   ]
  },
  {
   "cell_type": "code",
   "execution_count": 4,
   "metadata": {},
   "outputs": [],
   "source": [
    "def simpleaxis(axes, every=False, outward=False):\n",
    "    if not isinstance(axes, (list, np.ndarray)):\n",
    "        axes = [axes]\n",
    "    for ax in axes:\n",
    "        ax.spines['top'].set_visible(False)\n",
    "        ax.spines['right'].set_visible(False)\n",
    "        if (outward):\n",
    "            ax.spines['bottom'].set_position(('outward', 10))\n",
    "            ax.spines['left'].set_position(('outward', 10))\n",
    "        if every:\n",
    "            ax.spines['bottom'].set_visible(False)\n",
    "            ax.spines['left'].set_visible(False)\n",
    "        ax.get_xaxis().tick_bottom()\n",
    "        ax.get_yaxis().tick_left()\n",
    "        ax.set_title('')"
   ]
  },
  {
   "cell_type": "code",
   "execution_count": 5,
   "metadata": {},
   "outputs": [],
   "source": [
    "def generatePSC(w_e, w_i, p_E, p_I, trials=1):\n",
    "    '''Returns one PSC worth of input'''\n",
    "    \n",
    "    W_E, W_I = [], []\n",
    "    numSyns_E =  []\n",
    "    numSyns_I =  []\n",
    "    \n",
    "    for j in range(trials):\n",
    "        N_E = len(w_e)\n",
    "        N_I = len(w_i)\n",
    "\n",
    "        # Bernoulli process for release probability\n",
    "        active_e = np.random.binomial(1, p_E, N_E)\n",
    "        active_i = np.random.binomial(1, p_I, N_I)\n",
    "\n",
    "        W_E.append(active_e.dot(w_e))\n",
    "        W_I.append(active_i.dot(w_i))\n",
    "        numSyns_E.append(np.sum(active_e))\n",
    "        numSyns_I.append(np.sum(active_i))\n",
    "\n",
    "    return W_E, W_I, numSyns_E, numSyns_I\n",
    "\n",
    "def getTunedInhibition(w_e, rho, k, minResolvable=None):\n",
    "    ''' Another method'''\n",
    "    sorted_indices = np.argsort(w_e)\n",
    "    old_sorting = np.argsort(sorted_indices)\n",
    "    \n",
    "    if not minResolvable:\n",
    "        minResolvable = min(w_e)\n",
    "\n",
    "    minDiff = np.max([np.min(np.diff(w_e[sorted_indices])), minResolvable])\n",
    "\n",
    "    bins = np.arange(w_e[sorted_indices[0]], w_e[sorted_indices[-1]]+minDiff, minDiff)\n",
    "\n",
    "    result = np.digitize(w_e[sorted_indices], bins)\n",
    "    L = len(bins)\n",
    "    shuffle_length = int((L - 1) * (1-rho) + 1)\n",
    "    \n",
    "    shuffled_sorted_indices = []\n",
    "\n",
    "    for binIndex in range(1,L+1,shuffle_length):\n",
    "        if len(old_sorting):\n",
    "            shuffled_sorted_indices.append(np.random.permutation(sorted_indices[np.where((result >= binIndex) & (result < binIndex + shuffle_length))[0]]))\n",
    "    \n",
    "    w_i = k* w_e[np.concatenate(shuffled_sorted_indices)]\n",
    "    w_i = w_i[old_sorting]\n",
    "    \n",
    "    return w_i\n",
    "\n",
    "# def getTunedInhibition(w_e, rho, k, normal='True'):\n",
    "#     '''Returns tuned inhibition with a given I/E ratio. Only for a normally distributed weight distribution. Can do it for general case.'''\n",
    "#     if normal:\n",
    "#         return k * (w_e*rho + np.mean(w_e)*(1-rho) + np.random.normal( 0, np.var(w_e)*(1-rho**2), len(w_e)) )"
   ]
  },
  {
   "cell_type": "code",
   "execution_count": 10,
   "metadata": {},
   "outputs": [],
   "source": [
    "?random.sample([1,2,3,4],5)"
   ]
  },
  {
   "cell_type": "markdown",
   "metadata": {},
   "source": [
    "## Getting correlation matrices for proportional synaptic numbers"
   ]
  },
  {
   "cell_type": "code",
   "execution_count": 60,
   "metadata": {},
   "outputs": [],
   "source": [
    "def returnCorrelationMatrixFromSynapticInput(N_E=1000, N_I=1000, p_E=0.2, p_I=0.8, k=2, rho_steps=9,\n",
    "                                             var_steps=9, max_syn = 20, minResolvable = 0.5, num_syn = 50,\n",
    "                                             runs=50, numTrials=20, corrType='var'):\n",
    "\n",
    "    '''\n",
    "    N_E, N_I = Number of afferents\n",
    "    p_E, p_I = Release probs\n",
    "    k = I/E ratio for the unitary synaptic distribution.\n",
    "\n",
    "    rho_steps = samples of tuning parameter rho\n",
    "\n",
    "    max_syn = Number of active synapses\n",
    "    max_syn = Maximum number of active synapses\n",
    "    num_syn = Number of samples from active synapses\n",
    "    minResolvable = Minimum resolvable current for tuning\n",
    "    '''\n",
    "\n",
    "    # Normal synaptic weights, normal dist parameters. Keep the scale.\n",
    "    w_e_mean = -0.39 # shape\n",
    "\n",
    "    #var_arr = np.logspace(-1, 1, num=var_steps, base=2) #scale\n",
    "    var_arr = np.linspace(0.5, 1.0, num=var_steps) #scale\n",
    "\n",
    "    scalingWeightFactor = 1. #0.25\n",
    "\n",
    "    correlation_matrix = np.zeros((var_steps, rho_steps))\n",
    "    w_e_var_true = np.zeros((runs, var_steps))\n",
    "    w_e_mean_true = np.zeros((runs, var_steps))\n",
    "    w_ei_corr = np.zeros((var_steps, rho_steps))\n",
    "    \n",
    "    rho_arr = np.linspace(0,1,rho_steps)\n",
    "    \n",
    "    runs = 50\n",
    "    run_mat = np.zeros((var_steps, rho_steps))\n",
    "    for run in range(runs):\n",
    "        for i, w_e_var in enumerate(var_arr):\n",
    "\n",
    "            # Unitary synaptic distribution\n",
    "            w_e = np.random.lognormal(w_e_mean, w_e_var, N_E)/scalingWeightFactor\n",
    "            w_e_var_true[run,i] = np.var(w_e, ddof=1)\n",
    "            w_e_mean_true[run,i] = np.mean(w_e)\n",
    "            #w_e = np.random.normal(w_e_mean, w_e_var, N_E)\n",
    "            #w_e -= np.min(w_e)\n",
    "\n",
    "        #     fig,ax = plt.subplots(ncols=rho_steps,sharex=True, sharey=True)\n",
    "        #     fig2,ax2 = plt.subplots(ncols=rho_steps,sharex=True, sharey=True)\n",
    "        #     fig3,ax3 = plt.subplots(ncols=rho_steps,sharex=True, sharey=True)\n",
    "        #     fig4,ax4 = plt.subplots(ncols=rho_steps,sharex=True, sharey=True)\n",
    "        #     fig5,ax5 = plt.subplots(ncols=rho_steps,sharex=True, sharey=True)\n",
    "\n",
    "            for j, rho in enumerate(rho_arr):\n",
    "                w_i = getTunedInhibition(w_e, rho, k, minResolvable)\n",
    "                #print(np.mean(w_e), np.var(w_e))\n",
    "        #         print(\"Desired correlation: {}, actual correlation: {}\".format(rho, np.corrcoef(w_e, w_i)[0,1]))\n",
    "                numTrials = 30\n",
    "\n",
    "                W_exc_mean, W_inh_mean = [], []\n",
    "                numE, numI = [], [] \n",
    "                W_exc_std, W_inh_std = [], []\n",
    "                W_exc, W_inh = [], []\n",
    "\n",
    "                numSynpaseRange = np.random.choice(max_syn, num_syn) + 1\n",
    "                #numSynpaseRange = np.arange(max_syn) + 1\n",
    "                for n_e in numSynpaseRange:\n",
    "                    chosen_synapses = random.sample(range(len(w_e)), n_e)\n",
    "\n",
    "                    w_e_subset = w_e[chosen_synapses]\n",
    "                    w_i_subset = w_i[chosen_synapses]\n",
    "\n",
    "                    w_exc, w_inh, num_e, num_i = generatePSC(w_e_subset, w_i_subset, p_E, p_I, numTrials)\n",
    "\n",
    "                    W_exc_mean.append(np.mean(w_exc))\n",
    "                    W_inh_mean.append(np.mean(w_inh))\n",
    "\n",
    "                    numE.append(np.mean(num_e))\n",
    "                    numI.append(np.mean(num_i))\n",
    "\n",
    "                    W_exc_std.append(np.std(w_exc, ddof=1))\n",
    "                    W_inh_std.append(np.std(w_inh, ddof=1))\n",
    "                    \n",
    "                    W_exc.append(w_exc)\n",
    "                    W_inh.append(w_inh)\n",
    "                    \n",
    "            #         W_exc = np.concatenate([W_exc])\n",
    "            #         W_inh = np.concatenate([W_inh])\n",
    "                W_exc_std = np.array(W_exc_std)\n",
    "                W_inh_std = np.array(W_inh_std)\n",
    "                W_exc_mean = np.array(W_exc_mean)\n",
    "                W_inh_mean = np.array(W_inh_mean)\n",
    "                \n",
    "                W_exc = np.concatenate(W_exc)\n",
    "                W_inh = np.concatenate(W_inh)\n",
    "        #         print(\"Correlation for synaptic sum: {}\".format(np.corrcoef(W_exc, W_inh)[0,1]))\n",
    "        #         print(\"Correlation for synaptic variance: {}\\n\".format(np.corrcoef(W_exc_std**2, W_inh_std**2)[0,1]))\n",
    "                if corrType == 'var':\n",
    "                    correlation_matrix[i,j] += np.corrcoef(W_exc_std**2, W_inh_std**2)[0,1]\n",
    "                elif corrType == 'rsquare':\n",
    "                    slope, intercept, rval, pval, stderr = ss.linregress(W_exc_mean, W_inh_mean)\n",
    "                    correlation_matrix[i,j] += rval**2\n",
    "                coeff_wts = np.corrcoef(w_exc, w_inh)[0,1]\n",
    "                w_ei_corr[i,j] += np.corrcoef(w_e, w_i)[0,1]\n",
    "                numE = np.array(numE)\n",
    "\n",
    "        #         ax[j].scatter(W_exc, W_inh, c=numE, cmap = plt.cm.viridis)\n",
    "        #         ax[j].errorbar(W_exc, W_inh, xerr=W_exc_std, yerr=W_inh_std, fmt=None, marker=None, mew=0)\n",
    "        #         ax2[j].scatter(W_exc, W_inh_std**2,  c=numE, cmap = plt.cm.viridis)\n",
    "        #         ax3[j].scatter(W_inh, W_exc_std**2, c=numI, cmap = plt.cm.viridis)\n",
    "        #         ax4[j].scatter(np.log10(W_exc_std**2), np.log10(W_inh_std**2), c=numE, cmap = plt.cm.viridis)\n",
    "        #         ax5[j].scatter(W_exc_std**2/W_exc, W_inh_std**2/W_inh)\n",
    "\n",
    "            #     ax4[j].set_xlim(-5,10.)\n",
    "            #     ax4[j].set_ylim(-5,10.)\n",
    "\n",
    "        #     max_ax = np.max([ax[0].get_xlim()[1], ax[0].get_ylim()[1]])\n",
    "        #     for axis in fig.axes:\n",
    "        #         axis.set_xlim(xmax=max_ax)\n",
    "        #         axis.set_ylim(ymax=max_ax)\n",
    "\n",
    "        #     figs = [fig, fig2, fig3, fig4, fig5]\n",
    "        #     axes = [ax, ax2, ax3, ax4, ax5]\n",
    "        #     for figure, axis in zip(figs, axes):\n",
    "        #         simpleaxis(axis)\n",
    "        #         figure.set_figwidth(len(rho_arr)*figure.get_figheight())\n",
    "\n",
    "        #     plt.show()\n",
    "    correlation_matrix/=runs\n",
    "    w_ei_corr/=runs\n",
    "    w_e_var_true = np.mean(w_e_var_true, axis=0)\n",
    "    w_e_mean_true = np.mean(w_e_mean_true, axis=0)\n",
    "    w_ei_corr = np.average(w_ei_corr,axis=0)\n",
    "    return (correlation_matrix, w_e_var_true, w_e_mean_true, w_ei_corr)"
   ]
  },
  {
   "cell_type": "markdown",
   "metadata": {},
   "source": [
    "## Getting correlation matrices for varying proportion of synaptic numbers"
   ]
  },
  {
   "cell_type": "code",
   "execution_count": 65,
   "metadata": {},
   "outputs": [],
   "source": [
    "def returnCorrelationMatrixFromSynapticInputNumNotProportional(N_E=1000, N_I=1000, p_E=0.2, p_I=0.8, k=2, rho=1, sigma_steps=9,\n",
    "                                             var_steps=9, max_syn = 20, minResolvable = 0.5, num_syn = 50,\n",
    "                                             runs=50, numTrials=20, corrType='var'):\n",
    "\n",
    "    '''\n",
    "    N_E, N_I = Number of afferents\n",
    "    p_E, p_I = Release probs\n",
    "    k = I/E ratio for the unitary synaptic distribution.\n",
    "\n",
    "    rho = Degree of tuning\n",
    "\n",
    "    max_syn = Number of active synapses\n",
    "    max_syn = Maximum number of active synapses\n",
    "    num_syn = Number of samples from active synapses\n",
    "    minResolvable = Minimum resolvable current for tuning\n",
    "    '''\n",
    "\n",
    "    # Normal synaptic weights, normal dist parameters. Keep the scale.\n",
    "    w_e_mean = -0.39 # shape\n",
    "\n",
    "    #var_arr = np.logspace(-1, 1, num=var_steps, base=2) #scale\n",
    "    var_arr = np.linspace(0.5, 1.0, num=var_steps) #scale\n",
    "\n",
    "    scalingWeightFactor = 1. #0.25\n",
    "\n",
    "    correlation_matrix = np.zeros((var_steps, sigma_steps))\n",
    "    w_e_var_true = np.zeros((runs, var_steps))\n",
    "    w_e_mean_true = np.zeros((runs, var_steps))\n",
    "    w_ei_corr = np.zeros((var_steps, sigma_steps))\n",
    "    num_ei_corr = np.zeros((var_steps, sigma_steps))\n",
    "    \n",
    "    runs = 50\n",
    "    run_mat = np.zeros((var_steps, sigma_steps))\n",
    "    sigma_arr = np.linspace(0,1,sigma_steps)\n",
    "    for run in range(runs):\n",
    "        for i, w_e_var in enumerate(var_arr):\n",
    "\n",
    "            # Unitary synaptic distribution\n",
    "            w_e = np.random.lognormal(w_e_mean, w_e_var, N_E)/scalingWeightFactor\n",
    "            w_e_var_true[run,i] = np.var(w_e, ddof=1)\n",
    "            w_e_mean_true[run,i] = np.mean(w_e)\n",
    "            #w_e = np.random.normal(w_e_mean, w_e_var, N_E)\n",
    "            #w_e -= np.min(w_e)\n",
    "\n",
    "        #     fig,ax = plt.subplots(ncols=rho_steps,sharex=True, sharey=True)\n",
    "        #     fig2,ax2 = plt.subplots(ncols=rho_steps,sharex=True, sharey=True)\n",
    "        #     fig3,ax3 = plt.subplots(ncols=rho_steps,sharex=True, sharey=True)\n",
    "        #     fig4,ax4 = plt.subplots(ncols=rho_steps,sharex=True, sharey=True)\n",
    "        #     fig5,ax5 = plt.subplots(ncols=rho_steps,sharex=True, sharey=True)\n",
    "\n",
    "            w_i = getTunedInhibition(w_e, rho, k, minResolvable)\n",
    "            #print(np.mean(w_e), np.var(w_e))\n",
    "    #         print(\"Desired correlation: {}, actual correlation: {}\".format(rho, np.corrcoef(w_e, w_i)[0,1]))\n",
    "            numTrials = 30\n",
    "\n",
    "            #numSynpaseRange = np.random.choice(max_syn, num_syn) + 1\n",
    "            #numSynpaseRange = np.arange(max_syn) + 1\n",
    "        \n",
    "            n_exc_arr = np.arange(max_syn) + 1\n",
    "            for j,sigma in enumerate(sigma_arr):\n",
    "                \n",
    "                W_exc_mean, W_inh_mean = [], []\n",
    "                numE, numI = [], [] \n",
    "                W_exc_std, W_inh_std = [], []\n",
    "                W_exc, W_inh = [], []\n",
    "                \n",
    "                n_inh_arr = getTunedInhibition(n_exc_arr, sigma, 1, minResolvable=1)\n",
    "                num_ei_corr[i,j] += np.corrcoef(n_exc_arr, n_inh_arr)[0,1]\n",
    "                for n_e, n_i in zip(n_exc_arr, n_inh_arr):\n",
    "                    chosen_synapses_e = random.sample(range(len(w_e)), n_e)\n",
    "                    chosen_synapses_i = random.sample(range(len(w_i)), n_i)\n",
    "\n",
    "                    w_e_subset = w_e[chosen_synapses_e]\n",
    "                    w_i_subset = w_i[chosen_synapses_i]\n",
    "\n",
    "                    w_exc, w_inh, num_e, num_i = generatePSC(w_e_subset, w_i_subset, p_E, p_I, numTrials)\n",
    "\n",
    "                    W_exc_mean.append(np.mean(w_exc))\n",
    "                    W_inh_mean.append(np.mean(w_inh))\n",
    "\n",
    "                    numE.append(np.mean(num_e))\n",
    "                    numI.append(np.mean(num_i))\n",
    "\n",
    "                    W_exc_std.append(np.std(w_exc, ddof=1))\n",
    "                    W_inh_std.append(np.std(w_inh, ddof=1))\n",
    "\n",
    "                    W_exc.append(w_exc)\n",
    "                    W_inh.append(w_inh)\n",
    "\n",
    "            #         W_exc = np.concatenate([W_exc])\n",
    "            #         W_inh = np.concatenate([W_inh])\n",
    "                W_exc_std = np.array(W_exc_std)\n",
    "                W_inh_std = np.array(W_inh_std)\n",
    "                W_exc_mean = np.array(W_exc_mean)\n",
    "                W_inh_mean = np.array(W_inh_mean)\n",
    "\n",
    "                W_exc = np.concatenate(W_exc)\n",
    "                W_inh = np.concatenate(W_inh)\n",
    "        #         print(\"Correlation for synaptic sum: {}\".format(np.corrcoef(W_exc, W_inh)[0,1]))\n",
    "        #         print(\"Correlation for synaptic variance: {}\\n\".format(np.corrcoef(W_exc_std**2, W_inh_std**2)[0,1]))\n",
    "                if corrType == 'var':\n",
    "                    correlation_matrix[i,j] += np.corrcoef(W_exc_std**2, W_inh_std**2)[0,1]\n",
    "                elif corrType == 'rsquare':\n",
    "                    slope, intercept, rval, pval, stderr = ss.linregress(W_exc_mean, W_inh_mean)\n",
    "                    correlation_matrix[i,j] += rval**2\n",
    "                coeff_wts = np.corrcoef(w_exc, w_inh)[0,1]\n",
    "                w_ei_corr[i,j] += np.corrcoef(w_e, w_i)[0,1]\n",
    "                numE = np.array(numE)\n",
    "\n",
    "    #         ax[j].scatter(W_exc, W_inh, c=numE, cmap = plt.cm.viridis)\n",
    "    #         ax[j].errorbar(W_exc, W_inh, xerr=W_exc_std, yerr=W_inh_std, fmt=None, marker=None, mew=0)\n",
    "    #         ax2[j].scatter(W_exc, W_inh_std**2,  c=numE, cmap = plt.cm.viridis)\n",
    "    #         ax3[j].scatter(W_inh, W_exc_std**2, c=numI, cmap = plt.cm.viridis)\n",
    "    #         ax4[j].scatter(np.log10(W_exc_std**2), np.log10(W_inh_std**2), c=numE, cmap = plt.cm.viridis)\n",
    "    #         ax5[j].scatter(W_exc_std**2/W_exc, W_inh_std**2/W_inh)\n",
    "\n",
    "        #     ax4[j].set_xlim(-5,10.)\n",
    "        #     ax4[j].set_ylim(-5,10.)\n",
    "\n",
    "    #     max_ax = np.max([ax[0].get_xlim()[1], ax[0].get_ylim()[1]])\n",
    "    #     for axis in fig.axes:\n",
    "    #         axis.set_xlim(xmax=max_ax)\n",
    "    #         axis.set_ylim(ymax=max_ax)\n",
    "\n",
    "    #     figs = [fig, fig2, fig3, fig4, fig5]\n",
    "    #     axes = [ax, ax2, ax3, ax4, ax5]\n",
    "    #     for figure, axis in zip(figs, axes):\n",
    "    #         simpleaxis(axis)\n",
    "    #         figure.set_figwidth(len(rho_arr)*figure.get_figheight())\n",
    "\n",
    "    #     plt.show()\n",
    "    correlation_matrix/=runs\n",
    "    w_ei_corr/=runs\n",
    "    num_ei_corr/=runs\n",
    "    \n",
    "    w_e_var_true = np.mean(w_e_var_true, axis=0)\n",
    "    w_e_mean_true = np.mean(w_e_mean_true, axis=0)\n",
    "    w_ei_corr = np.average(w_ei_corr,axis=0)\n",
    "    num_ei_corr = np.average(num_ei_corr,axis=0)\n",
    "    \n",
    "    return (correlation_matrix, w_e_var_true, w_e_mean_true, w_ei_corr, num_ei_corr)"
   ]
  },
  {
   "cell_type": "code",
   "execution_count": 4,
   "metadata": {},
   "outputs": [],
   "source": [
    "def drawHeatmapCorrelationMat(correlation_matrix, rho_arr, var_arr, colorNormalize='max'):\n",
    "    fig, ax = plt.subplots()\n",
    "    if colorNormalize == 'max':\n",
    "        vmax = np.max(correlation_matrix)\n",
    "    else:\n",
    "        vmax = 1.\n",
    "    cbar = ax.imshow(correlation_matrix, cmap='magma',origin='lower', vmin=0., vmax=vmax)\n",
    "    ax.set_xlabel(\"$\\\\rho$\")\n",
    "    ax.set_ylabel(\"$\\\\sigma^2_{exc}/\\\\mu_{exc}$\")\n",
    "\n",
    "    ax.set_xticks(range(0,len(rho_arr), 4))\n",
    "    ax.set_yticks(range(0,len(var_arr), 4))\n",
    "\n",
    "    ax.set_xticklabels(np.round(rho_arr,2)[::4])\n",
    "    ax.set_yticklabels(np.round(var_arr,2)[::4])\n",
    "\n",
    "    plt.colorbar(cbar, label=\"avg. correlation\")\n",
    "    plt.show()"
   ]
  },
  {
   "cell_type": "code",
   "execution_count": 7,
   "metadata": {},
   "outputs": [
    {
     "data": {
      "image/png": "[encoded data removed]",
      "text/plain": [
       "<matplotlib.figure.Figure at 0x7f9db4451150>"
      ]
     },
     "metadata": {},
     "output_type": "display_data"
    }
   ],
   "source": [
    "N_E = 1000\n",
    "w_e_mean = 0.2\n",
    "w_e_var = 1.5\n",
    "\n",
    "w_e = np.random.lognormal(w_e_mean, w_e_var, N_E)\n",
    "\n",
    "rho_arr = np.arange(0,1,0.02)\n",
    "corr_arr = []\n",
    "k = 1\n",
    "\n",
    "for rho in rho_arr:\n",
    "    w_i= getTunedInhibition(w_e, rho, k)\n",
    "    corr_arr.append(np.corrcoef(w_e, w_i)[0,1])\n",
    "\n",
    "fig, ax = plt.subplots()\n",
    "ax.scatter(rho_arr, corr_arr)\n",
    "ax.plot([0,1], [0,1], '--')\n",
    "# ax.plot(w_e[sorted_indices]/w_e[sorted_indices][-1], np.cumsum(result)/np.cumsum(result)[-1])\n",
    "simpleaxis(ax)\n",
    "plt.show()"
   ]
  },
  {
   "cell_type": "markdown",
   "metadata": {},
   "source": [
    "## Wide number distribution, no tuning"
   ]
  },
  {
   "cell_type": "code",
   "execution_count": 66,
   "metadata": {},
   "outputs": [],
   "source": [
    "correlation_matrix_num, W_e_var, W_e_mean_true, true_corr_array, num_corr_array = returnCorrelationMatrixFromSynapticInputNumNotProportional(max_syn=20, corrType='rsquare')"
   ]
  },
  {
   "cell_type": "code",
   "execution_count": 67,
   "metadata": {},
   "outputs": [
    {
     "data": {
      "image/png": "[encoded data removed]",
      "text/plain": [
       "<matplotlib.figure.Figure at 0x7f9d783e3790>"
      ]
     },
     "metadata": {},
     "output_type": "display_data"
    }
   ],
   "source": [
    "drawHeatmapCorrelationMat(correlation_matrix_num, num_corr_array, W_e_var/W_e_mean_true)"
   ]
  },
  {
   "cell_type": "markdown",
   "metadata": {},
   "source": [
    "## Putting everything together"
   ]
  },
  {
   "cell_type": "code",
   "execution_count": 6,
   "metadata": {},
   "outputs": [],
   "source": [
    "class Neuron:\n",
    "    def __init__(self, w_e, k, N_I, p_E=0.2, p_I=0.8):\n",
    "        self.w_e = w_e\n",
    "        self.N_E = len(w_e)\n",
    "        self.w_i = []\n",
    "        self.N_I = N_I\n",
    "        \n",
    "        self.p_E = p_E\n",
    "        self.p_I = p_I\n",
    "        self.k = k\n",
    "        self.stimuli = {}\n",
    "        \n",
    "    def generateStimuli(self, n_e, sigma, k=1):\n",
    "        ''' Generates a given number of stimuli'''\n",
    "        \n",
    "        self.n_e = n_e\n",
    "        \n",
    "        self.numStimuli = len(n_e)\n",
    "        self.n_i = self.getTunedNumbers(n_e, sigma, k=k)\n",
    "        \n",
    "        for j, (num_e, num_i) in enumerate(zip(self.n_e, self.n_i)):\n",
    "            self.stimuli[j] = self.generateStimulus(num_e, num_i)\n",
    "        \n",
    "    def generateStimulus(self, n_e, n_i):\n",
    "        ''' Generates a stimulus based on number of exc and inh'''\n",
    "        if not n_e==n_i:\n",
    "            numSyn = max([n_e, n_i])\n",
    "        else:\n",
    "            numSyn = n_e\n",
    "\n",
    "        totalSyns = min([self.N_E, self.N_I])\n",
    "        chosen_synapses = random.sample(range(totalSyns), numSyn)\n",
    "        \n",
    "        chosen_synapses_e = chosen_synapses[:n_e]\n",
    "        chosen_synapses_i = chosen_synapses[:n_i]\n",
    "        \n",
    "        return (chosen_synapses_e, chosen_synapses_i)\n",
    "    \n",
    "    def giveStimuli(self, numTrials):\n",
    "        ''' Gives all the stimuli to the neuron '''\n",
    "        \n",
    "        w_e_all, w_i_all, num_e_all , num_i_all = {}, {}, {}, {}\n",
    "        \n",
    "        for j in range(self.numStimuli):\n",
    "            w_exc, w_inh, num_e, num_i = self.giveStimulus(j, numTrials)\n",
    "            w_e_all  [j] = w_exc\n",
    "            w_i_all  [j] = w_inh\n",
    "            num_e_all[j] = num_e\n",
    "            num_i_all[j] = num_i\n",
    "            \n",
    "        return (w_e_all, w_i_all, num_e_all, num_i_all)\n",
    "            \n",
    "    def giveStimulus(self, index, numTrials=1):\n",
    "        \n",
    "        chosen_synapses_e, chosen_synapses_i = self.stimuli[index]\n",
    "        w_e_subset = self.w_e[chosen_synapses_e]\n",
    "        w_i_subset = self.w_i[chosen_synapses_i]\n",
    "        \n",
    "        w_exc, w_inh, num_e, num_i = self.generatePSC(w_e_subset, w_i_subset, numTrials)\n",
    "        \n",
    "        return (w_exc, w_inh, num_e, num_i)\n",
    "    \n",
    "    def generatePSC(self, w_e_subset, w_i_subset, numTrials=1):\n",
    "        '''Returns one PSC worth of input'''\n",
    "\n",
    "        W_E, W_I = [], []\n",
    "        numSyns_E =  []\n",
    "        numSyns_I =  []\n",
    "        \n",
    "        n_e = len(w_e_subset)\n",
    "        n_i = len(w_i_subset)\n",
    "        \n",
    "        for j in range(numTrials):\n",
    "\n",
    "            # Bernoulli process for release probability\n",
    "            active_e = np.random.binomial(1, self.p_E, n_e)\n",
    "            active_i = np.random.binomial(1, self.p_I, n_i)\n",
    "\n",
    "            W_E.append(active_e.dot(w_e_subset))\n",
    "            W_I.append(active_i.dot(w_i_subset))\n",
    "            numSyns_E.append(np.sum(active_e))\n",
    "            numSyns_I.append(np.sum(active_i))\n",
    "\n",
    "        return W_E, W_I, numSyns_E, numSyns_I\n",
    "\n",
    "    def returnCorrelation(arr1, arr2):\n",
    "        ''' Returns correlations'''\n",
    "        return np.corrcoef(arr1, arr2)[0,1]\n",
    "\n",
    "    def __prob_round__(self, x):\n",
    "        is_up = random.random() < x-int(x)\n",
    "        round_func = math.ceil if is_up else math.floor\n",
    "        return int(round_func(x))\n",
    "\n",
    "    def getTunedNumbers(self, num_e, sigma, k=1, minResolvable=1, probRounding=False):\n",
    "        ''' Returns tuned inhibitory weights from excitatory weights and a tuning parameter. Minresolvable is used to bin the weight vector'''\n",
    "\n",
    "        sorted_indices = np.argsort(num_e)\n",
    "        old_sorting = np.argsort(sorted_indices)\n",
    "\n",
    "        if not minResolvable:\n",
    "            minResolvable = min(num_e)\n",
    "\n",
    "        minDiff = np.max([np.min(np.diff(num_e[sorted_indices])), minResolvable])\n",
    "\n",
    "        bins = np.arange(num_e[sorted_indices[0]], num_e[sorted_indices[-1]]+minDiff, minDiff)\n",
    "\n",
    "        result = np.digitize(num_e[sorted_indices], bins)\n",
    "        L = len(bins)\n",
    "        shuffle_length = int((L - 1) * (1-sigma) + 1)\n",
    "\n",
    "        shuffled_sorted_indices = []\n",
    "\n",
    "        for binIndex in range(1,L+1,shuffle_length):\n",
    "            if len(old_sorting):\n",
    "                shuffled_sorted_indices.append(np.random.permutation(sorted_indices[np.where((result >= binIndex) & (result < binIndex + shuffle_length))[0]]))\n",
    "        \n",
    "        if probRounding:\n",
    "            num_i = np.array([self.__prob_round__(k*exc) for exc in num_e[np.concatenate(shuffled_sorted_indices)]])\n",
    "        else:\n",
    "            num_i = np.array([int(np.round(k*exc)) for exc in num_e[np.concatenate(shuffled_sorted_indices)]])\n",
    "        num_i = num_i[old_sorting]\n",
    "\n",
    "        return num_i    \n",
    "    \n",
    "    def getTunedWeights(self, rho, k=1, minResolvable=0.1):\n",
    "        ''' Returns tuned inhibitory weights from excitatory weights and a tuning parameter. Minresolvable is used to bin the weight vector'''\n",
    "\n",
    "        sorted_indices = np.argsort(self.w_e)\n",
    "        old_sorting = np.argsort(sorted_indices)\n",
    "\n",
    "        if not minResolvable:\n",
    "            minResolvable = min(self.w_e)\n",
    "\n",
    "        minDiff = np.max([np.min(np.diff(self.w_e[sorted_indices])), minResolvable])\n",
    "\n",
    "        bins = np.arange(self.w_e[sorted_indices[0]], self.w_e[sorted_indices[-1]]+minDiff, minDiff)\n",
    "\n",
    "        result = np.digitize(self.w_e[sorted_indices], bins)\n",
    "        L = len(bins)\n",
    "        shuffle_length = int((L - 1) * (1-rho) + 1)\n",
    "\n",
    "        shuffled_sorted_indices = []\n",
    "\n",
    "        for binIndex in range(1,L+1,shuffle_length):\n",
    "            if len(old_sorting):\n",
    "                shuffled_sorted_indices.append(np.random.permutation(sorted_indices[np.where((result >= binIndex) & (result < binIndex + shuffle_length))[0]]))\n",
    "\n",
    "        w_i = k*self.w_e[np.concatenate(shuffled_sorted_indices)]\n",
    "        w_i = w_i[old_sorting]\n",
    "\n",
    "        return w_i        "
   ]
  },
  {
   "cell_type": "code",
   "execution_count": 7,
   "metadata": {},
   "outputs": [],
   "source": [
    "def getAveragedStimuli(w_e_all, w_i_all):\n",
    "    avg_e, avg_i = [], []\n",
    "    std_e, std_i = [], []\n",
    "    for j in range(num_stim):\n",
    "        avg_e.append(np.average(w_e_all[j]))\n",
    "        avg_i.append(np.average(w_i_all[j]))\n",
    "        std_e.append(np.std(w_e_all[j], ddof=1))\n",
    "        std_i.append(np.std(w_i_all[j], ddof=1))\n",
    "    avg_e = np.array(avg_e)\n",
    "    avg_i = np.array(avg_i)\n",
    "    std_e = np.array(std_e)\n",
    "    std_i = np.array(std_i)\n",
    "    return avg_e, avg_i, std_e, std_i"
   ]
  },
  {
   "cell_type": "code",
   "execution_count": 8,
   "metadata": {},
   "outputs": [],
   "source": [
    "def scatterPlots(w_e_all, w_i_all, filename='', show=True):\n",
    "    fig, (ax1, ax2) = plt.subplots(ncols=2)\n",
    "\n",
    "    avg_e, avg_i, std_e, std_i = getAveragedStimuli(w_e_all, w_i_all)\n",
    "    ax1.errorbar(avg_e, avg_i, xerr = std_e, yerr = std_i, fmt='o', markersize=6)\n",
    "    slope, intercept, r_value, p_value, std_err = ss.linregress(avg_e, avg_i)\n",
    "    ax2.scatter(std_e, std_i, s=24)\n",
    "\n",
    "    max_ax = max([ax1.get_xlim()[1], ax1.get_ylim()[1]])\n",
    "\n",
    "    ax1.set_xlim(xmin=0., xmax=max_ax)\n",
    "    ax1.set_ylim(ymin=0., ymax=max_ax)\n",
    "    \n",
    "    xaxis = np.linspace(ax1.get_xlim()[0], ax1.get_xlim()[1], 100)\n",
    "    ax1.plot(xaxis, slope*xaxis + intercept, '--', label=\"$R^2$ {:.2f}\\n slope {:.2f}\".format(r_value**2, slope))\n",
    "    \n",
    "    max_ax = max([ax2.get_xlim()[1], ax2.get_ylim()[1]])\n",
    "    ax2.set_xlim(xmin=0., xmax=max_ax)\n",
    "    ax2.set_ylim(ymin=0., ymax=max_ax)\n",
    "    \n",
    "    slope, intercept, r_value, p_value, std_err = ss.linregress(std_e, std_i)\n",
    "    \n",
    "    xaxis = np.linspace(ax2.get_xlim()[0], ax2.get_xlim()[1], 100)\n",
    "    ax2.plot(xaxis, slope*xaxis + intercept, '--', label=\"$R^2$ {:.2f}\\n slope {:.2f}\\nCorr {:.2f}\".format(r_value**2, slope, np.corrcoef(std_e, std_i)[0,1]))\n",
    "    \n",
    "    ax1.set_xlabel(\"Exc\")\n",
    "    ax1.set_ylabel(\"Inh\")\n",
    "    ax1.legend()\n",
    "\n",
    "    ax2.set_xlabel(\"$\\sigma$(Exc)\")\n",
    "    ax2.set_ylabel(\"$\\sigma$(Inh)\")\n",
    "    ax2.legend()\n",
    "\n",
    "    simpleaxis([ax1, ax2])\n",
    "    fig.set_figheight(1.5)\n",
    "    fig.set_figwidth(3)\n",
    "    if filename:\n",
    "        plt.savefig(filename)\n",
    "    if show==True:\n",
    "        plt.show()\n",
    "    plt.close()\n",
    "    return avg_e, avg_i, std_e, std_i"
   ]
  },
  {
   "cell_type": "code",
   "execution_count": 9,
   "metadata": {},
   "outputs": [],
   "source": [
    "def histogram(w_e, xlabel='', filename='', show=True):\n",
    "    fig, ax = plt.subplots()\n",
    "    ax.hist(w_e, color='gray')\n",
    "    ax.set_xlabel(xlabel)\n",
    "    ax.set_ylabel(\"#\")\n",
    "    simpleaxis(ax)\n",
    "    fig.set_figheight(1.5)\n",
    "    fig.set_figwidth(1.5)\n",
    "    if filename:\n",
    "        plt.savefig(filename)\n",
    "    if show:\n",
    "        plt.show()\n",
    "    plt.close()"
   ]
  },
  {
   "cell_type": "code",
   "execution_count": 10,
   "metadata": {},
   "outputs": [],
   "source": [
    "def drawHeatmapCorrelationMat(correlation_matrix, x_arr, y_arr, xlabel = '', ylabel = '', cbarlabel= '', colorNormalize='max', filename = ''):\n",
    "    fig, ax = plt.subplots()\n",
    "    if colorNormalize == 'max':\n",
    "        vmin = 0.\n",
    "        vmax = np.max(correlation_matrix)\n",
    "    elif colorNormalize == 'minmax':\n",
    "        vmin = np.min(correlation_matrix)    \n",
    "        print(vmin)\n",
    "        vmax = np.max(correlation_matrix)    \n",
    "    else:\n",
    "        vmin = 0.\n",
    "        vmax = 1.\n",
    "    heatmap = ax.imshow(correlation_matrix, cmap='plasma',origin='lower', vmin=vmin, vmax=vmax)\n",
    "    ax.set_xlabel(xlabel)\n",
    "    ax.set_ylabel(ylabel)\n",
    "\n",
    "    ax.set_xticks(range(0,len(x_arr), 4))\n",
    "    ax.set_yticks(range(0,len(y_arr), 4))\n",
    "\n",
    "    ax.set_xticklabels(np.round(x_arr,2)[::4])\n",
    "    ax.set_yticklabels(np.round(y_arr,2)[::4])\n",
    "    \n",
    "    cbar = plt.colorbar(heatmap, label=cbarlabel, fraction=0.046, pad=0.04)\n",
    "    cbar.set_ticks(np.linspace(0., vmax, 3))\n",
    "    cbar.set_ticklabels(['{:.2f}'.format(ticklabel) for ticklabel in np.linspace(0., vmax, 3)])\n",
    "    \n",
    "    fig.set_figheight(1.5)\n",
    "    fig.set_figwidth(1.5)\n",
    "\n",
    "    if filename:\n",
    "        plt.savefig(filename)\n",
    "    plt.show()"
   ]
  },
  {
   "cell_type": "code",
   "execution_count": 12,
   "metadata": {},
   "outputs": [],
   "source": [
    "dirPrefix = \"../DamnBalance/Figures/\"\n",
    "plotFormat = \".svg\""
   ]
  },
  {
   "cell_type": "markdown",
   "metadata": {},
   "source": [
    "## Case of detailed balance: $\\rho = 1$"
   ]
  },
  {
   "cell_type": "code",
   "execution_count": 19,
   "metadata": {},
   "outputs": [
    {
     "data": {
      "image/png": "[encoded data removed]",
      "text/plain": [
       "<matplotlib.figure.Figure at 0x7fafd48cf750>"
      ]
     },
     "metadata": {},
     "output_type": "display_data"
    },
    {
     "data": {
      "image/png": "[encoded data removed]",
      "text/plain": [
       "<matplotlib.figure.Figure at 0x7fafd6d2ee10>"
      ]
     },
     "metadata": {},
     "output_type": "display_data"
    },
    {
     "data": {
      "image/png": "[encoded data removed]",
      "text/plain": [
       "<matplotlib.figure.Figure at 0x7fafd6d2ed90>"
      ]
     },
     "metadata": {},
     "output_type": "display_data"
    },
    {
     "data": {
      "image/png": "[encoded data removed]",
      "text/plain": [
       "<matplotlib.figure.Figure at 0x7faff8123710>"
      ]
     },
     "metadata": {},
     "output_type": "display_data"
    }
   ],
   "source": [
    "w_e_shape = -0.39\n",
    "w_e_scale = [0.80] # np.linspace(0.5, 1.0, 10)\n",
    "\n",
    "N_E, N_I = 1000, 1000\n",
    "\n",
    "num_stim = 15\n",
    "lam = 5\n",
    "\n",
    "rho = 1.\n",
    "sigma = 1.\n",
    "\n",
    "w_k = 1.\n",
    "n_k = 1.\n",
    "\n",
    "w_e = np.random.lognormal(w_e_shape, w_e_scale[0], N_E)\n",
    "n_e = np.random.poisson(lam, num_stim)\n",
    "\n",
    "p_E, p_I = .2, .8\n",
    "\n",
    "n1 = Neuron(w_e, w_k, N_I, p_E=p_E, p_I=p_I)\n",
    "\n",
    "n1.w_i = n1.getTunedWeights(rho=rho, k=w_k)\n",
    "n1.generateStimuli(n_e, sigma=sigma, k=n_k)\n",
    "\n",
    "w_e_all, w_i_all, num_e_all, num_i_all = n1.giveStimuli(numTrials=6)\n",
    "\n",
    "histogram(w_e, \"Exc\", filename=dirPrefix + \"w_e_hist\" + plotFormat)\n",
    "histogram(n1.w_i, \"Inh\", filename=dirPrefix + \"w_i_hist\" + plotFormat)\n",
    "histogram(n_e, \"# syn./stim.\", filename=dirPrefix + \"n_e_hist\" + plotFormat)\n",
    "avg_e, avg_i, std_e, std_i = scatterPlots(w_e_all, w_i_all, filename=dirPrefix + \"EI_scatter\" + plotFormat)"
   ]
  },
  {
   "cell_type": "markdown",
   "metadata": {},
   "source": [
    "## Case of global balance: $\\rho = 0$"
   ]
  },
  {
   "cell_type": "code",
   "execution_count": 29,
   "metadata": {},
   "outputs": [
    {
     "data": {
      "image/png": "[encoded data removed]",
      "text/plain": [
       "<matplotlib.figure.Figure at 0x7fafd489f810>"
      ]
     },
     "metadata": {},
     "output_type": "display_data"
    },
    {
     "data": {
      "image/png": "[encoded data removed]",
      "text/plain": [
       "<matplotlib.figure.Figure at 0x7fafd7856e10>"
      ]
     },
     "metadata": {},
     "output_type": "display_data"
    },
    {
     "data": {
      "image/png": "[encoded data removed]",
      "text/plain": [
       "<matplotlib.figure.Figure at 0x7fafd4597250>"
      ]
     },
     "metadata": {},
     "output_type": "display_data"
    },
    {
     "data": {
      "image/png": "[encoded data removed]",
      "text/plain": [
       "<matplotlib.figure.Figure at 0x7fafd4bcc2d0>"
      ]
     },
     "metadata": {},
     "output_type": "display_data"
    }
   ],
   "source": [
    "w_e_shape = -0.39\n",
    "w_e_scale = [0.80] # np.linspace(0.5, 1.0, 10)\n",
    "\n",
    "N_E, N_I = 1000, 1000\n",
    "\n",
    "num_stim = 15\n",
    "lam = 5\n",
    "\n",
    "rho = 0.\n",
    "sigma = 1.\n",
    "\n",
    "w_k = 1.\n",
    "n_k = 1.\n",
    "\n",
    "w_e = np.random.lognormal(w_e_shape, w_e_scale[0], N_E)\n",
    "n_e = np.random.poisson(lam, num_stim)\n",
    "\n",
    "p_E, p_I = .2, .8\n",
    "\n",
    "n1 = Neuron(w_e, w_k, N_I, p_E=p_E, p_I=p_I)\n",
    "\n",
    "n1.w_i = n1.getTunedWeights(rho=rho, k=w_k)\n",
    "n1.generateStimuli(n_e, sigma=sigma, k=n_k)\n",
    "\n",
    "w_e_all, w_i_all, num_e_all, num_i_all = n1.giveStimuli(numTrials=6)\n",
    "\n",
    "histogram(w_e, \"Exc\", filename=dirPrefix + \"w_e_hist\" + plotFormat)\n",
    "histogram(n1.w_i, \"Inh\", filename=dirPrefix + \"w_i_hist\" + plotFormat)\n",
    "histogram(n_e, \"# syn./stim.\", filename=dirPrefix + \"n_e_hist\" + plotFormat)\n",
    "avg_e_0, avg_i_0, std_e_0, std_i_0 = scatterPlots(w_e_all, w_i_all, filename=dirPrefix + \"EI_scatter\" + plotFormat)"
   ]
  },
  {
   "cell_type": "markdown",
   "metadata": {},
   "source": [
    "## EI correlation plots"
   ]
  },
  {
   "cell_type": "code",
   "execution_count": 32,
   "metadata": {},
   "outputs": [
    {
     "name": "stdout",
     "output_type": "stream",
     "text": [
      "(-0.5, 3.0)\n",
      "(-0.5, 14.0)\n"
     ]
    },
    {
     "data": {
      "image/png": "[encoded data removed]",
      "text/plain": [
       "<matplotlib.figure.Figure at 0x7fafd433cc50>"
      ]
     },
     "metadata": {},
     "output_type": "display_data"
    }
   ],
   "source": [
    "fig, ax = plt.subplots()\n",
    "plotline1, caplines1, barlinecols1  = ax.errorbar(np.arange(len(avg_e_0)), avg_e_0,  yerr = std_e_0 , markersize=6, label=\"Exc\",c='olive', fmt='.-', uplims=True)\n",
    "plotline2, caplines2, barlinecols2  = ax.errorbar(1+len(avg_e_0) + np.arange(len(avg_e)), avg_e,  yerr = std_e , markersize=6, label=\"Exc\",c='olive', fmt='.-', uplims=True)\n",
    "# line_exc3 = ax.plot(len(exc_1) + len(exc_2) + np.arange(len(exc_3)), exc_3, '.-', markersize=6 ,c=color_sqr[3])\n",
    "\n",
    "# ax.xaxis.set_ticks([1,3,5,7,9])\n",
    "ax_copy = ax.twinx()\n",
    "plotline3, caplines3, barlinecols3  = ax_copy.errorbar( np.arange(len(avg_i_0)), avg_i_0,  yerr = std_i_0, markersize=6, label=\"Inh\",c='#8b0046', fmt='.-', lolims=True)\n",
    "plotline4, caplines4, barlinecols4  = ax_copy.errorbar(1+len(avg_i_0) + np.arange(len(avg_i)), avg_i,  yerr = std_i, markersize=6, label=\"Inh\",c='#8b0046', fmt='.-', lolims=True)\n",
    "# line_inh3 = ax_copy.plot( len(inh_1) + len(inh_2) + np.arange(len(inh_3)), inh_3, 'v-', markersize=6 ,c=color_sqr[3])\n",
    "ax.set_title(\"Different number of squares show consistent EI ratios\")\n",
    "ax.set_xlabel(\"# stimulus\")\n",
    "\n",
    "caplines1[0].set_marker('_')\n",
    "caplines1[0].set_markersize(5)\n",
    "caplines2[0].set_marker('_')\n",
    "caplines2[0].set_markersize(5)\n",
    "caplines3[0].set_marker('_')\n",
    "caplines3[0].set_markersize(5)\n",
    "caplines4[0].set_marker('_')\n",
    "caplines4[0].set_markersize(5)\n",
    "\n",
    "\n",
    "ax.spines['left'].set_color('olive')\n",
    "ax_copy.spines['right'].set_color('#8b0046')\n",
    "# lines = line_exc1 + line_exc2 + line_inh1 + line_inh2\n",
    "# labs = [l.get_label() for l in lines]\n",
    "# ax.legend(lines, labs, loc=0)\n",
    "\n",
    "simpleaxis(ax)\n",
    "simpleaxis(ax_copy,every=True)\n",
    "ax_copy.spines['right'].set_visible(True)\n",
    "ax_copy.get_yaxis().tick_right()\n",
    "\n",
    "ax.set_ylim(ymin=-0.5, ymax=3.)\n",
    "ax_copy.set_ylim(ymin=-0.5, ymax=14.)\n",
    "\n",
    "ax.set_yticks(np.linspace(0,3.,3))\n",
    "ax_copy.set_yticks(np.linspace(0,14.,3))\n",
    "\n",
    "ax.set_ylabel(\"Excitation\")\n",
    "ax_copy.set_ylabel(\"Inhibition\")\n",
    "\n",
    "fig.set_figheight(1.5)\n",
    "fig.set_figwidth(3)\n",
    "print(ax.get_ylim())\n",
    "print(ax_copy.get_ylim())\n",
    "# dump(fig,file('figures/fig2/2_precise_small.pkl','wb'))\n",
    "plt.savefig('/home/bhalla/Documents/Codes/linearity/DamnBalance/Figures/' + '2_rho_range' + '.svg')\n",
    "plt.show()"
   ]
  },
  {
   "cell_type": "markdown",
   "metadata": {},
   "source": [
    "## EI Std. correlation plots"
   ]
  },
  {
   "cell_type": "code",
   "execution_count": 34,
   "metadata": {},
   "outputs": [
    {
     "name": "stdout",
     "output_type": "stream",
     "text": [
      "(-0.1084050730261184, 3.86148238711417)\n",
      "(-0.14570013793516443, 3.0597028966384525)\n"
     ]
    },
    {
     "data": {
      "image/png": "[encoded data removed]",
      "text/plain": [
       "<matplotlib.figure.Figure at 0x7fafd43d7750>"
      ]
     },
     "metadata": {},
     "output_type": "display_data"
    }
   ],
   "source": [
    "### Correlation plots for standard deviation exc and inh \n",
    "        \n",
    "plotlines, caplines, barlinecols = [], [], []\n",
    "\n",
    "fig, ax = plt.subplots()    \n",
    "plotline1  = ax.plot(np.arange(len(std_e_0)), std_e_0, '.-', markersize=6, label=\"Exc\",c='olive')\n",
    "plotline2  = ax.plot(5 + len(std_e_0) + np.arange(len(std_e)), std_e, '.-', markersize=6, label=\"Exc\",c='olive')\n",
    "ax_copy = ax.twinx()\n",
    "plotline3  = ax_copy.plot(np.arange(len(std_i_0)), std_i_0, '.-', markersize=6, label=\"Inh\",c='#8b0046')\n",
    "plotline4  = ax_copy.plot(5 + len(std_i_0) + np.arange(len(std_i)), std_i, '.-', markersize=6, label=\"Inh\",c='#8b0046')\n",
    "ax.set_xlabel(\"# stimulus\")\n",
    "\n",
    "ax.spines['left'].set_color('olive')\n",
    "ax_copy.spines['right'].set_color('#8b0046')\n",
    "# lines = line_exc1 + line_exc2 + line_inh1 + line_inh2\n",
    "# labs = [l.get_label() for l in lines]\n",
    "# ax.legend(lines, labs, loc=0)\n",
    "\n",
    "simpleaxis(ax)\n",
    "simpleaxis(ax_copy,every=True)\n",
    "crossCorr = np.corrcoef(std_e_0, std_i_0)[0,1]\n",
    "ax.set_title(\"{:.2f}\".format(crossCorr), loc='left')\n",
    "crossCorr = np.corrcoef(std_e, std_i)[0,1]\n",
    "ax_copy.set_title(\"{:.2f}\".format(crossCorr), loc='right')\n",
    "ax_copy.spines['right'].set_visible(True)\n",
    "ax_copy.get_yaxis().tick_right()\n",
    "\n",
    "#         ax.set_ylim(ymin=-0.5, ymax=3.)\n",
    "#         ax_copy.set_ylim(ymin=-0.5, ymax=14.)\n",
    "\n",
    "#         ax.set_yticks(np.linspace(0,3.,3))\n",
    "#         ax_copy.set_yticks(np.linspace(0,14.,3))\n",
    "\n",
    "ax.set_ylabel(\"Excitation\")\n",
    "ax_copy.set_ylabel(\"Inhibition\")\n",
    "\n",
    "fig.set_figheight(1.5)\n",
    "fig.set_figwidth(3)\n",
    "print(ax.get_ylim())\n",
    "print(ax_copy.get_ylim())\n",
    "plt.savefig('/home/bhalla/Documents/Codes/linearity/Paper_Figures/figures/supplementary/' + 'model_2_corr_plot_std' + '.svg')\n",
    "plt.show()"
   ]
  },
  {
   "cell_type": "markdown",
   "metadata": {},
   "source": [
    "## Varying the scale of weight distribution."
   ]
  },
  {
   "cell_type": "code",
   "execution_count": 46,
   "metadata": {
    "scrolled": true
   },
   "outputs": [],
   "source": [
    "dirPrefix = '/home/bhalla/Documents/Codes/linearity/DamnBalance/Figures/'\n",
    "plotSuffix = '_{}_{}_{}_{}_{}_{}_{}'.format(w_e_shape, w_e_scale, lam, rho, sigma, w_k, n_k)\n",
    "plotType = '.svg'\n",
    "\n",
    "w_e_shape = -0.39\n",
    "scale_step = 9\n",
    "w_e_scale_arr = np.linspace(0.5, 1.0, scale_step)\n",
    "\n",
    "N_E, N_I = 4000, 1000\n",
    "\n",
    "num_stim = 30\n",
    "lam = 5 # Average number of synapses per stimulus\n",
    "rho, sigma = 1., 1.\n",
    "rho_step, sigma_step = 9, 9\n",
    "\n",
    "w_k = 1.\n",
    "n_k = 1.\n",
    "\n",
    "numTrials = 6\n",
    "runs = 100\n",
    "\n",
    "n1 = Neuron(w_e, w_k, N_I)\n",
    "\n",
    "rho_array = np.linspace(0,1,rho_step)\n",
    "#sigma_array = np.linspace(0,1,sigma_step)\n",
    "\n",
    "corrMat = np.zeros((scale_step, rho_step))\n",
    "rSqMat = np.zeros((scale_step, rho_step))\n",
    "\n",
    "corrMat_std = np.zeros((scale_step, rho_step))\n",
    "rSqMat_std = np.zeros((scale_step, rho_step))\n",
    "\n",
    "w_e_fano = np.zeros(scale_step)\n",
    "\n",
    "for run in range(runs):\n",
    "    for i,w_e_scale in enumerate(w_e_scale_arr):\n",
    "        w_e = np.random.lognormal(w_e_shape, w_e_scale, N_E)\n",
    "        n1.w_e = w_e\n",
    "#         histogram(w_e, \"Exc wts.\", filename= dirPrefix + 'w_e_hist_w_dist_{}_{}'.format(run,i) + plotSuffix + plotType, show=False)\n",
    "        n_e = np.random.poisson(lam, num_stim)\n",
    "        \n",
    "        w_e_fano[i] += (np.var(w_e)/np.mean(w_e))\n",
    "        \n",
    "        for j,rho in enumerate(rho_array):\n",
    "\n",
    "            n1.w_i = n1.getTunedWeights(rho=rho, k=w_k)\n",
    "            n1.generateStimuli(n_e, sigma=sigma, k=n_k)\n",
    "            w_e_all, w_i_all, num_e_all, num_i_all = n1.giveStimuli(numTrials=numTrials)\n",
    "#             scatterPlots(w_e_all, w_i_all, filename= dirPrefix + 'scatter_w_e_w_dist_{}_{}'.format(run,i) + plotSuffix + plotType, show=False)\n",
    "            \n",
    "            avg_e, avg_i, std_e, std_i = getAveragedStimuli(w_e_all, w_i_all)\n",
    "            \n",
    "            corrMat[i,j] += np.corrcoef(avg_e, avg_i)[0,1]\n",
    "            slope, intercept, r_value, p_value, std_err = ss.linregress(avg_e, avg_i)\n",
    "            rSqMat[i,j] += r_value**2\n",
    "            \n",
    "            corrMat_std[i,j] += np.corrcoef(std_e, std_i)[0,1]\n",
    "            slope, intercept, r_value, p_value, std_err = ss.linregress(std_e, std_i)\n",
    "            rSqMat_std[i,j] += r_value**2\n",
    "\n",
    "w_e_fano/=runs\n",
    "corrMat/=runs    \n",
    "rSqMat/=runs\n",
    "corrMat_std/=runs    \n",
    "rSqMat_std/=runs "
   ]
  },
  {
   "cell_type": "code",
   "execution_count": 47,
   "metadata": {},
   "outputs": [
    {
     "data": {
      "text/plain": [
       "array([0.5   , 0.5625, 0.625 , 0.6875, 0.75  , 0.8125, 0.875 , 0.9375,\n",
       "       1.    ])"
      ]
     },
     "execution_count": 47,
     "metadata": {},
     "output_type": "execute_result"
    }
   ],
   "source": [
    "w_e_scale_arr"
   ]
  },
  {
   "cell_type": "code",
   "execution_count": 117,
   "metadata": {
    "scrolled": false
   },
   "outputs": [
    {
     "data": {
      "image/png": "[encoded data removed]",
      "text/plain": [
       "<matplotlib.figure.Figure at 0x7f3253a8dfd0>"
      ]
     },
     "metadata": {},
     "output_type": "display_data"
    },
    {
     "data": {
      "image/png": "[encoded data removed]",
      "text/plain": [
       "<matplotlib.figure.Figure at 0x7f3253ac4790>"
      ]
     },
     "metadata": {},
     "output_type": "display_data"
    },
    {
     "data": {
      "image/png": "[encoded data removed]",
      "text/plain": [
       "<matplotlib.figure.Figure at 0x7f3253111e10>"
      ]
     },
     "metadata": {},
     "output_type": "display_data"
    },
    {
     "data": {
      "image/png": "[encoded data removed]",
      "text/plain": [
       "<matplotlib.figure.Figure at 0x7f325314cf90>"
      ]
     },
     "metadata": {},
     "output_type": "display_data"
    },
    {
     "data": {
      "image/png": "[encoded data removed]",
      "text/plain": [
       "<matplotlib.figure.Figure at 0x7f325314ce50>"
      ]
     },
     "metadata": {},
     "output_type": "display_data"
    }
   ],
   "source": [
    "plotType = '.svg'\n",
    "\n",
    "histogram(n_e, \"Syn./stim.\", filename= dirPrefix + 'n_e_hist_w_dist' + plotSuffix + plotType)\n",
    "drawHeatmapCorrelationMat(corrMat, y_arr=w_e_fano, x_arr=rho_array, colorNormalize= 'max', ylabel = '$\\sigma^2_{exc}/\\mu_{exc}$', xlabel = '$\\\\rho$', cbarlabel= 'avg. corr.', filename=dirPrefix + 'corr_EI_w_dist' + plotSuffix + plotType)\n",
    "drawHeatmapCorrelationMat(rSqMat, y_arr=w_e_fano, x_arr=rho_array, colorNormalize= 'max', ylabel = '$\\sigma^2_{exc}/\\mu_{exc}$', xlabel = '$\\\\rho$', cbarlabel= 'avg. $R^2$', filename=dirPrefix + 'rsq_EI_w_dist' + plotSuffix + plotType)\n",
    "drawHeatmapCorrelationMat(corrMat_std, y_arr=w_e_fano, x_arr=rho_array, colorNormalize= 'max', ylabel = '$\\sigma^2_{exc}/\\mu_{exc}$', xlabel = '$\\\\rho$', cbarlabel= 'avg. corr.', filename=dirPrefix + 'std_corr_EI_w_dist' + plotSuffix + plotType)\n",
    "drawHeatmapCorrelationMat(rSqMat_std, y_arr=w_e_fano, x_arr=rho_array, colorNormalize= 'max', ylabel = '$\\sigma^2_{exc}/\\mu_{exc}$', xlabel = '$\\\\rho$', cbarlabel= 'avg. $R^2$', filename=dirPrefix + 'std_rsq_EI_w_dist' + plotSuffix + plotType)"
   ]
  },
  {
   "cell_type": "code",
   "execution_count": null,
   "metadata": {},
   "outputs": [],
   "source": []
  },
  {
   "cell_type": "markdown",
   "metadata": {},
   "source": [
    "## Varying both rho and sigma and plotting the values of correlations between Exc and Inh synaptic sums."
   ]
  },
  {
   "cell_type": "code",
   "execution_count": 108,
   "metadata": {},
   "outputs": [],
   "source": [
    "w_e_shape = -0.39\n",
    "w_e_scale = [0.80] # np.linspace(0.5, 1.0, 10)\n",
    "\n",
    "N_E, N_I = 4000, 1000\n",
    "\n",
    "num_stim = 30\n",
    "lam = 5 # Average number of synapses per stimulus\n",
    "rho, sigma = 1., 1.\n",
    "rho_step, sigma_step = 9, 9\n",
    "\n",
    "w_k = 4.\n",
    "n_k = 0.25\n",
    "\n",
    "numTrials = 6\n",
    "runs = 50\n",
    "\n",
    "w_e = np.random.lognormal(w_e_shape, w_e_scale[0], N_E)\n",
    "n_e = np.random.poisson(lam, num_stim)\n",
    "\n",
    "\n",
    "n1 = Neuron(w_e, w_k, N_I)\n",
    "\n",
    "rho_array = np.linspace(0,1,rho_step)\n",
    "sigma_array = np.linspace(0,1,sigma_step)\n",
    "\n",
    "corrMat = np.zeros((rho_step, sigma_step))\n",
    "rSqMat = np.zeros((rho_step, sigma_step))\n",
    "\n",
    "for run in range(runs):\n",
    "    for i,rho in enumerate(rho_array):\n",
    "        for j, sigma in enumerate(sigma_array):\n",
    "            n1.w_i = n1.getTunedWeights(rho=rho, k=w_k)\n",
    "            n1.generateStimuli(n_e, sigma=sigma, k=n_k)\n",
    "            w_e_all, w_i_all, num_e_all, num_i_all = n1.giveStimuli(numTrials=numTrials)\n",
    "            avg_e, avg_i, std_e, std_i = getAveragedStimuli(w_e_all, w_i_all)\n",
    "            \n",
    "            corrMat[i,j] += np.corrcoef(avg_e, avg_i)[0,1]\n",
    "            slope, intercept, r_value, p_value, std_err = ss.linregress(avg_e, avg_i)\n",
    "            rSqMat[i,j] += r_value**2\n",
    "corrMat/=runs    \n",
    "rSqMat/=runs    "
   ]
  },
  {
   "cell_type": "code",
   "execution_count": 110,
   "metadata": {},
   "outputs": [
    {
     "data": {
      "image/png": "[encoded data removed]",
      "text/plain": [
       "<matplotlib.figure.Figure at 0x7f32546fcc10>"
      ]
     },
     "metadata": {},
     "output_type": "display_data"
    },
    {
     "data": {
      "image/png": "[encoded data removed]",
      "text/plain": [
       "<matplotlib.figure.Figure at 0x7f32546fc610>"
      ]
     },
     "metadata": {},
     "output_type": "display_data"
    },
    {
     "data": {
      "image/png": "[encoded data removed]",
      "text/plain": [
       "<matplotlib.figure.Figure at 0x7f3254c61950>"
      ]
     },
     "metadata": {},
     "output_type": "display_data"
    },
    {
     "data": {
      "image/png": "[encoded data removed]",
      "text/plain": [
       "<matplotlib.figure.Figure at 0x7f3254d38890>"
      ]
     },
     "metadata": {},
     "output_type": "display_data"
    }
   ],
   "source": [
    "dirPrefix = '/home/bhalla/Documents/Codes/linearity/DamnBalance/'\n",
    "plotSuffix = '_{}_{}_{}_{}_{}_{}_{}'.format(w_e_shape, w_e_scale, lam, rho, sigma, w_k, n_k)\n",
    "plotType = '.svg'\n",
    "\n",
    "histogram(w_e, \"Exc wts.\", filename= dirPrefix + 'w_e_hist' + plotSuffix + plotType)\n",
    "histogram(n_e, \"Syn./stim.\", filename= dirPrefix + 'n_e_hist' + plotSuffix + plotType)\n",
    "drawHeatmapCorrelationMat(corrMat, x_arr=sigma_array, y_arr=rho_array, colorNormalize= 'max', xlabel = '$\\\\sigma$', ylabel = '$\\\\rho$', cbarlabel= 'avg. corr.', filename=dirPrefix + 'corr_EI' + plotSuffix + plotType)\n",
    "drawHeatmapCorrelationMat(rSqMat, x_arr=sigma_array, y_arr=rho_array, colorNormalize= 'max', xlabel = '$\\\\sigma$', ylabel = '$\\\\rho$', cbarlabel= 'avg. $R^2$', filename=dirPrefix + 'rsq_EI' + plotSuffix + plotType)"
   ]
  },
  {
   "cell_type": "code",
   "execution_count": null,
   "metadata": {},
   "outputs": [],
   "source": []
  }
 ],
 "metadata": {
  "hide_input": false,
  "kernelspec": {
   "display_name": "Python 2",
   "language": "python",
   "name": "python2"
  },
  "language_info": {
   "codemirror_mode": {
    "name": "ipython",
    "version": 2
   },
   "file_extension": ".py",
   "mimetype": "text/x-python",
   "name": "python",
   "nbconvert_exporter": "python",
   "pygments_lexer": "ipython2",
   "version": "2.7.12"
  },
  "toc": {
   "colors": {
    "hover_highlight": "#DAA520",
    "navigate_num": "#000000",
    "navigate_text": "#333333",
    "running_highlight": "#FF0000",
    "selected_highlight": "#FFD700",
    "sidebar_border": "#EEEEEE",
    "wrapper_background": "#FFFFFF"
   },
   "moveMenuLeft": true,
   "nav_menu": {
    "height": "117px",
    "width": "252px"
   },
   "navigate_menu": true,
   "number_sections": true,
   "sideBar": true,
   "threshold": 4,
   "toc_cell": false,
   "toc_section_display": "block",
   "toc_window_display": false,
   "widenNotebook": false
  },
  "varInspector": {
   "cols": {
    "lenName": 16,
    "lenType": 16,
    "lenVar": 40
   },
   "kernels_config": {
    "python": {
     "delete_cmd_postfix": "",
     "delete_cmd_prefix": "del ",
     "library": "var_list.py",
     "varRefreshCmd": "print(var_dic_list())"
    },
    "r": {
     "delete_cmd_postfix": ") ",
     "delete_cmd_prefix": "rm(",
     "library": "var_list.r",
     "varRefreshCmd": "cat(var_dic_list()) "
    }
   },
   "types_to_exclude": [
    "module",
    "function",
    "builtin_function_or_method",
    "instance",
    "_Feature"
   ],
   "window_display": false
  }
 },
 "nbformat": 4,
 "nbformat_minor": 2
}
