{
 "cells": [
  {
   "cell_type": "code",
   "execution_count": 2,
   "metadata": {
    "collapsed": true
   },
   "outputs": [],
   "source": [
    "import glob\n",
    "import matplotlib\n",
    "import matplotlib.pyplot as plt\n",
    "import pickle\n",
    "import lmfit\n",
    "import numpy as np\n",
    "import scipy.stats as ss\n",
    "plt.style.use('seaborn-white')\n",
    "import statsmodels.api as sm\n",
    "from statsmodels.sandbox.regression.predstd import wls_prediction_std\n",
    "from statsmodels.formula.api import ols, rlm\n",
    "import sys\n",
    "sys.path.append('../')\n",
    "from Linearity import Neuron"
   ]
  },
  {
   "cell_type": "code",
   "execution_count": 3,
   "metadata": {
    "collapsed": true
   },
   "outputs": [],
   "source": [
    "filename = '/media/sahil/NCBS_Shares_BGStim/patch_data/161013/c1/plots/c1.pkl'"
   ]
  },
  {
   "cell_type": "code",
   "execution_count": 4,
   "metadata": {
    "collapsed": true
   },
   "outputs": [],
   "source": [
    "#Colorscheme for squares\n",
    "color_sqr = { index+1: color for index, color in enumerate(matplotlib.cm.viridis(np.linspace(0,1,9)))}"
   ]
  },
  {
   "cell_type": "code",
   "execution_count": 5,
   "metadata": {
    "collapsed": true
   },
   "outputs": [],
   "source": [
    "control_result2_rsquared_adj = []\n",
    "control_result1_rsquared_adj = []\n",
    "control_var_expected = []\n",
    "gabazine_result2_rsquared_adj = []\n",
    "gabazine_result1_rsquared_adj = []\n",
    "gabazine_var_expected = []\n",
    "tolerance = 5e-4"
   ]
  },
  {
   "cell_type": "code",
   "execution_count": 25,
   "metadata": {
    "collapsed": true
   },
   "outputs": [],
   "source": [
    "def linearModel(x, a=1):\n",
    "    # Linear model\n",
    "    return (a*x)\n",
    "\n",
    "def DN_model(x,a=1):\n",
    "    # Divisive normalization model\n",
    "    #return x - a*(x**2)/(b+x)\n",
    "    return x/(a*x+1)\n",
    "\n",
    "def DN_1_model(x,a=1):\n",
    "    # Divisive normalization model\n",
    "    #return x - a*(x**2)/(b+x)\n",
    "    return a*x/(x+1)\n",
    "\n",
    "def DN_2_model(x,a=1,b=1):\n",
    "    # Divisive normalization model\n",
    "    #return x - a*(x**2)/(b+x)\n",
    "    return x/(a*x+b)"
   ]
  },
  {
   "cell_type": "code",
   "execution_count": 26,
   "metadata": {},
   "outputs": [
    {
     "name": "stdout",
     "output_type": "stream",
     "text": [
      "Starting expt Control\n",
      "Square 1\n",
      "Square 2\n",
      "Square 3\n",
      "Square 5\n",
      "Square 7\n",
      "Square 9\n",
      "Starting expt GABAzine\n",
      "Square 1\n",
      "Square 2\n",
      "Square 3\n",
      "Square 5\n",
      "Square 7\n",
      "Square 9\n",
      "Read /media/sahil/NCBS_Shares_BGStim/patch_data/161013/c1/plots/c1.pkl into variables\n"
     ]
    }
   ],
   "source": [
    "lin_aic = []\n",
    "dn_aic = []\n",
    "lin_chi = []\n",
    "dn_chi = []\n",
    "\n",
    "control_observed = {}\n",
    "control_observed_average = {}\n",
    "gabazine_observed ={}\n",
    "gabazine_observed_average = {}\n",
    "control_expected = {}\n",
    "control_expected_average = {}\n",
    "gabazine_expected ={}\n",
    "gabazine_expected_average = {}\n",
    "feature = 0\n",
    "\n",
    "neuron = Neuron.load(filename)\n",
    "for expt in neuron.experiment:\n",
    "    print (\"Starting expt {}\".format(expt))\n",
    "    for numSquares in neuron.experiment[expt].keys(): \n",
    "        print (\"Square {}\".format(numSquares))\n",
    "        if not numSquares == 1:\n",
    "            nSquareData = neuron.experiment[expt][numSquares]\n",
    "            if expt == \"Control\":\n",
    "                coords_C = nSquareData.coordwise\n",
    "                for coord in coords_C: \n",
    "                    if feature in coords_C[coord].feature:\n",
    "                        control_observed_average.update({coord: coords_C[coord].average_feature[feature]})\n",
    "                        control_expected_average.update({coord: coords_C[coord].expected_feature[feature]})\n",
    "                        control_observed.update({coord: []})\n",
    "                        control_expected.update({coord: []})\n",
    "                        for trial in coords_C[coord].trials:\n",
    "                            if feature in trial.feature:\n",
    "                                control_observed[coord].append(trial.feature[feature])\n",
    "                                control_expected[coord].append(coords_C[coord].expected_feature[feature])\n",
    "            elif expt == \"GABAzine\":\n",
    "                coords_I = nSquareData.coordwise\n",
    "                for coord in coords_I: \n",
    "                    if feature in coords_I[coord].feature:\n",
    "                        gabazine_observed.update({coord: []})\n",
    "                        gabazine_expected.update({coord: []})\n",
    "                        gabazine_observed_average.update({coord: coords_I[coord].average_feature[feature]})\n",
    "                        gabazine_expected_average.update({coord: coords_I[coord].expected_feature[feature]})\n",
    "\n",
    "                        for trial in coords_I[coord].trials:\n",
    "                            if feature in trial.feature:\n",
    "                                gabazine_observed[coord].append(trial.feature[feature])\n",
    "                                gabazine_expected[coord].append(coords_I[coord].expected_feature[feature])\n",
    "print (\"Read {} into variables\".format(filename))"
   ]
  },
  {
   "cell_type": "code",
   "execution_count": 27,
   "metadata": {},
   "outputs": [
    {
     "data": {
      "text/plain": [
       "{0: 'epsp_max',\n",
       " 1: 'epsp_area',\n",
       " 2: 'epsp_avg',\n",
       " 3: 'epsp_time_to_peak',\n",
       " 4: 'epsp_area_to_peak',\n",
       " 5: 'epsp_min',\n",
       " 6: 'epsp_onset'}"
      ]
     },
     "execution_count": 27,
     "metadata": {},
     "output_type": "execute_result"
    }
   ],
   "source": [
    "neuron.features"
   ]
  },
  {
   "cell_type": "code",
   "execution_count": 28,
   "metadata": {
    "collapsed": true,
    "scrolled": false
   },
   "outputs": [],
   "source": [
    "feature = 0\n",
    "expected, observed, g_expected, g_observed = {}, {}, {}, {}\n",
    "for exp in neuron:\n",
    "    for sqr in exp:\n",
    "        ## Control case\n",
    "        if(exp[sqr].type == \"Control\"):\n",
    "            if sqr > 1:\n",
    "                expected[sqr] = []\n",
    "                observed[sqr] = []\n",
    "                for coord in exp[sqr].coordwise:\n",
    "                    for trial in exp[sqr].coordwise[coord].trials:\n",
    "                        if all([value == 0 for value in trial.flags.values()]):\n",
    "                            expected[sqr].append(exp[sqr].coordwise[coord].expected_feature[feature])\n",
    "                            observed[sqr].append(trial.feature[feature])\n",
    "        ## Gabazine case\n",
    "        if(exp[sqr].type == \"GABAzine\"):\n",
    "            if sqr > 1:\n",
    "                g_expected[sqr] = []\n",
    "                g_observed[sqr] = []\n",
    "                for coord in exp[sqr].coordwise:\n",
    "                    for trial in exp[sqr].coordwise[coord].trials:\n",
    "                        if all([value == 0 for value in trial.flags.values()]):\n",
    "                            g_expected[sqr].append(exp[sqr].coordwise[coord].expected_feature[feature])\n",
    "                            g_observed[sqr].append(trial.feature[feature])"
   ]
  },
  {
   "cell_type": "code",
   "execution_count": 29,
   "metadata": {
    "scrolled": false
   },
   "outputs": [
    {
     "name": "stdout",
     "output_type": "stream",
     "text": [
      "[[Model]]\n",
      "    Model(linearModel)\n",
      "[[Fit Statistics]]\n",
      "    # function evals   = 8\n",
      "    # data points      = 361\n",
      "    # variables        = 2\n",
      "    chi-square         = 198.945\n",
      "    reduced chi-square = 0.554\n",
      "    Akaike info crit   = -211.102\n",
      "    Bayesian info crit = -203.325\n",
      "[[Variables]]\n",
      "    a:   0.14819421 +/- 0.013968 (9.43%) (init= 1)\n",
      "    b:   1.08195697 +/- 0.084018 (7.77%) (init= 1)\n",
      "[[Correlations]] (unreported correlations are <  0.100)\n",
      "    C(a, b)                      = -0.885 \n",
      "\n",
      "[[Model]]\n",
      "    Model(DN_model)\n",
      "[[Fit Statistics]]\n",
      "    # function evals   = 25\n",
      "    # data points      = 361\n",
      "    # variables        = 2\n",
      "    chi-square         = 189.572\n",
      "    reduced chi-square = 0.528\n",
      "    Akaike info crit   = -228.524\n",
      "    Bayesian info crit = -220.746\n",
      "[[Variables]]\n",
      "    a:   0.32835100 +/- 0.020207 (6.15%) (init= 1)\n",
      "    b:   0.89209527 +/- 0.108360 (12.15%) (init= 1)\n",
      "[[Correlations]] (unreported correlations are <  0.100)\n",
      "    C(a, b)                      = -0.881 \n",
      "\n",
      "[[Model]]\n",
      "    Model(linearModel)\n",
      "[[Fit Statistics]]\n",
      "    # function evals   = 8\n",
      "    # data points      = 360\n",
      "    # variables        = 2\n",
      "    chi-square         = 394.951\n",
      "    reduced chi-square = 1.103\n",
      "    Akaike info crit   = 37.357\n",
      "    Bayesian info crit = 45.129\n",
      "[[Variables]]\n",
      "    a:   0.59123808 +/- 0.016251 (2.75%) (init= 1)\n",
      "    b:   0.74896013 +/- 0.113435 (15.15%) (init= 1)\n",
      "[[Correlations]] (unreported correlations are <  0.100)\n",
      "    C(a, b)                      = -0.873 \n",
      "\n",
      "[[Model]]\n",
      "    Model(DN_model)\n",
      "[[Fit Statistics]]\n",
      "    # function evals   = 39\n",
      "    # data points      = 360\n",
      "    # variables        = 2\n",
      "    chi-square         = 370.898\n",
      "    reduced chi-square = 1.036\n",
      "    Akaike info crit   = 14.736\n",
      "    Bayesian info crit = 22.508\n",
      "[[Variables]]\n",
      "    a:   0.04207642 +/- 0.005091 (12.10%) (init= 1)\n",
      "    b:   1.07638477 +/- 0.044911 (4.17%) (init= 1)\n",
      "[[Correlations]] (unreported correlations are <  0.100)\n",
      "    C(a, b)                      = -0.935 \n",
      "\n"
     ]
    },
    {
     "data": {
      "image/png": "[encoded data removed]",
      "text/plain": [
       "<matplotlib.figure.Figure at 0x7ff60b1efb10>"
      ]
     },
     "metadata": {},
     "output_type": "display_data"
    }
   ],
   "source": [
    "f, ax = plt.subplots(1,2)\n",
    "\n",
    "## Control stuff\n",
    "squareVal = []\n",
    "list_control_expected = []\n",
    "list_control_observed = []\n",
    "\n",
    "max_exp, max_g_exp = 0.,0.\n",
    "for sqr in sorted(observed):\n",
    "    squareVal.append(ax[0].scatter(expected[sqr], observed[sqr], label=str(sqr), c=color_sqr[sqr], alpha=0.8))\n",
    "    max_exp = max(max_exp, max(expected[sqr]))\n",
    "    list_control_expected += expected[sqr]\n",
    "    list_control_observed += observed[sqr]\n",
    "    \n",
    "X = np.array(list_control_expected)\n",
    "y = np.array(list_control_observed)\n",
    "idx   = np.argsort(X)\n",
    "X = X[idx]\n",
    "y = y[idx]\n",
    "\n",
    "linear_Model = lmfit.Model(linearModel)\n",
    "DN_Model = lmfit.Model(DN_model)\n",
    "\n",
    "lin_pars = linear_Model.make_params()\n",
    "lin_result = linear_Model.fit(y, lin_pars, x=X)\n",
    "lin_aic.append(lin_result.aic)\n",
    "lin_chi.append(lin_result.redchi)\n",
    "\n",
    "DN_pars = DN_Model.make_params()\n",
    "DN_result = DN_Model.fit(y, DN_pars, x=X)\n",
    "dn_aic.append(DN_result.aic)\n",
    "dn_chi.append(DN_result.redchi)\n",
    "\n",
    "print (lin_result.fit_report())\n",
    "print (DN_result.fit_report())\n",
    "\n",
    "ax[0].set_xlim(xmin=0.)\n",
    "ax[0].set_ylim(ymin=0.)\n",
    "ax[0].set_xlabel(\"Expected\")\n",
    "ax[0].set_ylabel(\"Observed\")\n",
    "ax[0].set_title(\"Divisive Normalization fits\")\n",
    "div_norm = ax[0].plot(X, DN_result.best_fit, '-')\n",
    "\n",
    "\n",
    "max_exp *=1.1\n",
    "max_g_exp *=1.1\n",
    "ax[0].set_xlim(0,max_exp)\n",
    "ax[0].set_ylim(0,max_exp)\n",
    "ax[0].set_xlabel(\"Expected Sum (mV)\")\n",
    "ax[0].set_ylabel(\"Observed Sum (mV)\")\n",
    "linear = ax[0].plot((0,max_exp), (0,max_exp), 'r--')\n",
    "\n",
    "legends = squareVal + div_norm + linear\n",
    "labels = sorted(observed.keys()) + [ \"Divisive Normalization\", \"Linear sum\"]\n",
    "ax[0].legend(legends, labels)\n",
    "\n",
    "\n",
    "### GABAzine stuff \n",
    "squareVal = []\n",
    "list_gabazine_expected = []\n",
    "list_gabazine_observed = []\n",
    "\n",
    "max_exp, max_g_exp = 0.,0.\n",
    "for sqr in sorted(g_observed):\n",
    "    squareVal.append(ax[1].scatter(g_expected[sqr], g_observed[sqr], label=str(sqr), c=color_sqr[sqr], alpha=0.8))\n",
    "    max_exp = max(max_exp, max(g_expected[sqr]))\n",
    "    list_gabazine_expected += g_expected[sqr]\n",
    "    list_gabazine_observed += g_observed[sqr]\n",
    "    \n",
    "X = np.array(list_gabazine_expected)\n",
    "y = np.array(list_gabazine_observed)\n",
    "idx   = np.argsort(X)\n",
    "X = X[idx]\n",
    "y = y[idx]\n",
    "\n",
    "linear_Model = lmfit.Model(linearModel)\n",
    "DN_Model = lmfit.Model(DN_model)\n",
    "\n",
    "lin_pars = linear_Model.make_params()\n",
    "lin_result = linear_Model.fit(y, lin_pars, x=X)\n",
    "lin_aic.append(lin_result.aic)\n",
    "lin_chi.append(lin_result.redchi)\n",
    "\n",
    "DN_pars = DN_Model.make_params()\n",
    "DN_result = DN_Model.fit(y, DN_pars, x=X)\n",
    "dn_aic.append(DN_result.aic)\n",
    "dn_chi.append(DN_result.redchi)\n",
    "\n",
    "print (lin_result.fit_report())\n",
    "print (DN_result.fit_report())\n",
    "\n",
    "ax[1].set_xlim(xmin=0.)\n",
    "ax[1].set_ylim(ymin=0.)\n",
    "ax[1].set_xlabel(\"Expected\")\n",
    "ax[1].set_ylabel(\"Observed\")\n",
    "ax[1].set_title(\"Divisive Normalization fits\")\n",
    "div_norm = ax[1].plot(X, DN_result.best_fit, '-')\n",
    "\n",
    "\n",
    "max_exp *=1.1\n",
    "max_g_exp *=1.1\n",
    "ax[1].set_xlim(0,max_exp)\n",
    "ax[1].set_ylim(0,max_exp)\n",
    "ax[1].set_xlabel(\"Expected Sum (mV)\")\n",
    "ax[1].set_ylabel(\"Observed Sum (mV)\")\n",
    "linear = ax[1].plot((0,max_exp), (0,max_exp), 'r--')\n",
    "\n",
    "legends = squareVal + div_norm + linear\n",
    "labels = sorted(observed.keys()) + [ \"Divisive Normalization\", \"Linear sum\"]\n",
    "ax[1].legend(legends, labels)\n",
    "\n",
    "f.set_figwidth(16)\n",
    "f.set_figheight(8)\n",
    "\n",
    "plt.show()"
   ]
  },
  {
   "cell_type": "markdown",
   "metadata": {
    "collapsed": true
   },
   "source": [
    "## C Gabazine - Control responses"
   ]
  },
  {
   "cell_type": "code",
   "execution_count": 52,
   "metadata": {
    "collapsed": true
   },
   "outputs": [],
   "source": [
    "feature = 0\n",
    "#expected, observed, g_expected, g_observed = {}, {}, {}, {}\n",
    "control, gabazine = {}, {}\n",
    "for exp in neuron:\n",
    "    for sqr in exp:\n",
    "        ## Control case\n",
    "        if(exp[sqr].type == \"Control\"):\n",
    "            if sqr > 1:\n",
    "                expected[sqr] = []\n",
    "                observed[sqr] = []\n",
    "                for coord in exp[sqr].coordwise:\n",
    "                    if all([value == 0 for value in exp[sqr].coordwise[coord].flags.values()]):\n",
    "                        control[sqr] = exp[sqr]\n",
    "#                         expected[sqr].append(exp[sqr].coordwise[coord].expected_feature[feature])\n",
    "#                         observed[sqr].append(exp[sqr].coordwise[coord].average_feature[feature])\n",
    "        ## Gabazine case\n",
    "        if(exp[sqr].type == \"GABAzine\"):\n",
    "            if sqr > 1:\n",
    "                g_expected[sqr] = []\n",
    "                g_observed[sqr] = []\n",
    "                for coord in exp[sqr].coordwise:\n",
    "                    if all([value == 0 for value in exp[sqr].coordwise[coord].flags.values()]):\n",
    "                        gabazine[sqr] = exp[sqr]\n",
    "#                         g_expected[sqr].append(exp[sqr].coordwise[coord].expected_feature[feature])\n",
    "#                         g_observed[sqr].append(exp[sqr].coordwise[coord].average_feature[feature])\n",
    "\n",
    "derived_inh, exc = {}, {}\n",
    "for sq in set(control).intersection(set(gabazine)):\n",
    "    derived_inh[sq] = []\n",
    "    exc[sq] = []\n",
    "    for coord in set(control[sq].coordwise).intersection(set(gabazine[sq].coordwise)):\n",
    "        derived_inh[sq].append(gabazine[sq].coordwise[coord].average_feature[feature] - control[sq].coordwise[coord].average_feature[feature])\n",
    "        exc[sq].append(gabazine[sq].coordwise[coord].average_feature[feature])"
   ]
  },
  {
   "cell_type": "code",
   "execution_count": 53,
   "metadata": {},
   "outputs": [
    {
     "data": {
      "image/png": "[encoded data removed]",
      "text/plain": [
       "<matplotlib.figure.Figure at 0x7ff60b5a9390>"
      ]
     },
     "metadata": {},
     "output_type": "display_data"
    }
   ],
   "source": [
    "### Derived Inh\n",
    "squareVal = []\n",
    "list_exc = []\n",
    "list_inh = []\n",
    "f, ax = plt.subplots()\n",
    "max_exp, max_g_exp = 0.,0.\n",
    "for sqr in sorted(derived_inh):\n",
    "    squareVal.append(ax.scatter(exc[sqr], derived_inh[sqr], label=str(sqr), c=color_sqr[sqr]))\n",
    "    max_exp = max(max_exp, max(exc[sqr]))\n",
    "    \n",
    "max_exp *=1.1\n",
    "max_g_exp *=1.1\n",
    "ax.set_xlim(0,max_exp)\n",
    "ax.set_ylim(0,max_exp)\n",
    "ax.set_xlabel(\"Excitation (mV)\")\n",
    "ax.set_ylabel(\"Derived Inhibition (mV)\")\n",
    "linear = ax.plot((0,max_exp), (0,max_exp), 'r--')\n",
    "\n",
    "legends = squareVal + linear\n",
    "labels = sorted(observed.keys()) + [ \"Linear sum\"]\n",
    "ax.legend(legends, labels)\n",
    "\n",
    "f.set_figwidth(8)\n",
    "f.set_figheight(8)\n",
    "\n",
    "plt.show()"
   ]
  },
  {
   "cell_type": "code",
   "execution_count": null,
   "metadata": {
    "collapsed": true
   },
   "outputs": [],
   "source": [
    "list_control_observed   = []  \n",
    "list_gabazine_observed  = []\n",
    "list_control_expected   = []\n",
    "list_gabazine_expected  = []\n",
    "\n",
    "if len(gabazine_observed_average):\n",
    "    for key in gabazine_observed_average.keys():\n",
    "        element1, element2 = gabazine_observed_average[key], gabazine_expected_average[key]\n",
    "        if not (element1 <0 or np.isclose(element1, 0, atol=tolerance) or element2<0 or np.isclose(element2, 0, atol=tolerance)):\n",
    "            list_gabazine_observed.append(element1)\n",
    "            list_gabazine_expected.append(element2)\n",
    "\n",
    "if len(control_observed_average):\n",
    "    for key in control_observed_average.keys():\n",
    "        element1, element2 = control_observed_average[key], control_expected_average[key]\n",
    "        if not (element1 <0 or np.isclose(element1, 0, atol=tolerance) or element2<0 or np.isclose(element2, 0, atol=tolerance)):\n",
    "            list_control_observed.append(element1)\n",
    "            list_control_expected.append(element2)"
   ]
  },
  {
   "cell_type": "code",
   "execution_count": null,
   "metadata": {
    "collapsed": true
   },
   "outputs": [],
   "source": []
  },
  {
   "cell_type": "code",
   "execution_count": 15,
   "metadata": {
    "collapsed": true
   },
   "outputs": [],
   "source": [
    "list_control_observed   = []  \n",
    "list_gabazine_observed  = []\n",
    "list_control_expected   = []\n",
    "list_gabazine_expected  = []\n",
    "\n",
    "if len(gabazine_observed):\n",
    "    for key in gabazine_observed.keys():\n",
    "        for element1, element2 in zip(gabazine_observed[key], gabazine_expected[key] ):\n",
    "            if not (element1 <0 or np.isclose(element1, 0, atol=tolerance) or element2<0 or np.isclose(element2, 0, atol=tolerance)):\n",
    "                list_gabazine_observed.append(element1)\n",
    "                list_gabazine_expected.append(element2)\n",
    "\n",
    "if len(control_observed):\n",
    "    for key in control_observed.keys():\n",
    "        for element1, element2 in zip(control_observed[key], control_expected[key] ):\n",
    "            if not (element1 <0 or np.isclose(element1, 0, atol=tolerance) or element2<0 or np.isclose(element2, 0, atol=tolerance)):\n",
    "                list_control_observed.append(element1)\n",
    "                list_control_expected.append(element2)"
   ]
  },
  {
   "cell_type": "code",
   "execution_count": null,
   "metadata": {
    "collapsed": true
   },
   "outputs": [],
   "source": []
  },
  {
   "cell_type": "code",
   "execution_count": null,
   "metadata": {
    "collapsed": true
   },
   "outputs": [],
   "source": [
    "minPoints = 10\n",
    "minIQR = 3\n",
    "if len(list_control_expected)>minPoints and len(list_control_observed)> minPoints and ss.iqr(list_control_expected)>minIQR:\n",
    "    print (\"Control\")\n",
    "    X = np.array(list_control_expected)\n",
    "    y = np.array(list_control_observed)\n",
    "    idx   = np.argsort(X)\n",
    "    X = X[idx]\n",
    "    y = y[idx]\n",
    "\n",
    "    linear_Model = lmfit.Model(linearModel)\n",
    "    DN_Model = lmfit.Model(DN_model)\n",
    "\n",
    "    lin_pars = linear_Model.make_params()\n",
    "    lin_result = linear_Model.fit(y, lin_pars, x=X)\n",
    "    lin_aic.append(lin_result.aic)\n",
    "    lin_chi.append(lin_result.redchi)\n",
    "\n",
    "    DN_pars = DN_Model.make_params()\n",
    "    DN_result = DN_Model.fit(y, DN_pars, x=X)\n",
    "    dn_aic.append(DN_result.aic)\n",
    "    dn_chi.append(DN_result.redchi)\n",
    "\n",
    "    print (lin_result.fit_report())\n",
    "    print (DN_result.fit_report())\n",
    "\n",
    "    ax = plt.subplot(111)\n",
    "    ax.scatter(X, y, alpha=0.2)\n",
    "    ax.set_xlim(xmin=0.)\n",
    "    ax.set_ylim(ymin=0.)\n",
    "    ax.set_xlabel(\"Expected\")\n",
    "    ax.set_ylabel(\"Observed\")\n",
    "    ax.set_title(\"Divisive Normalization and Inhibition fits\")\n",
    "    ax.plot(X, lin_result.best_fit, '-', label=\"Divisive Inhibition Model\")\n",
    "    ax.plot(X, DN_result.best_fit, '-', label=\"Divisive Normalization Model\")\n",
    "    plt.legend()\n",
    "    plt.show()"
   ]
  },
  {
   "cell_type": "code",
   "execution_count": null,
   "metadata": {
    "collapsed": true,
    "scrolled": false
   },
   "outputs": [],
   "source": [
    "if len(list_gabazine_expected)>minPoints and len(list_gabazine_observed)>minPoints and ss.iqr(list_gabazine_expected)>minIQR :\n",
    "\n",
    "    print (\"GABAzine\")\n",
    "    X = np.array(list_gabazine_expected)\n",
    "    y = np.array(list_gabazine_observed)\n",
    "    \n",
    "    idx   = np.argsort(X)\n",
    "    X = X[idx]\n",
    "    y = y[idx]\n",
    "\n",
    "    linear_Model = lmfit.Model(linearModel)\n",
    "    DN_Model = lmfit.Model(DN_model)\n",
    "\n",
    "    lin_pars = linear_Model.make_params()\n",
    "    lin_result = linear_Model.fit(y, lin_pars, x=X)\n",
    "    lin_aic.append(lin_result.aic)\n",
    "    lin_chi.append(lin_result.redchi)\n",
    "\n",
    "    DN_pars = DN_Model.make_params()\n",
    "    DN_result = DN_Model.fit(y, DN_pars, x=X)\n",
    "    dn_aic.append(DN_result.aic)\n",
    "    dn_chi.append(DN_result.redchi)\n",
    "\n",
    "    print (lin_result.fit_report())\n",
    "    print (DN_result.fit_report())\n",
    "\n",
    "    ax = plt.subplot(111)\n",
    "    ax.scatter(X, y, alpha=0.2)\n",
    "    ax.set_xlim(xmin=0.)\n",
    "    ax.set_ylim(ymin=0.)\n",
    "    ax.set_xlabel(\"Expected\")\n",
    "    ax.set_ylabel(\"Observed\")\n",
    "    ax.set_title(\"Divisive Normalization and Inhibition fits\")\n",
    "    ax.plot(X, lin_result.best_fit, '-', label=\"Divisive Inhibition Model\")\n",
    "    ax.plot(X, DN_result.best_fit, '-', label=\"Divisive Normalization Model\")\n",
    "    plt.legend()\n",
    "    plt.show()"
   ]
  },
  {
   "cell_type": "markdown",
   "metadata": {},
   "source": [
    "### GABAzine plotted with control"
   ]
  },
  {
   "cell_type": "code",
   "execution_count": null,
   "metadata": {
    "collapsed": true
   },
   "outputs": [],
   "source": [
    "list_control_observed   = []  \n",
    "list_gabazine_observed  = []\n",
    "list_control_expected   = []\n",
    "list_gabazine_expected  = []\n",
    "\n",
    "if len(gabazine_observed_average) and len(control_observed_average):\n",
    "    for key in list(set(gabazine_observed_average).intersection(set(control_observed_average))):\n",
    "        element1, element2 =  gabazine_observed_average[key], control_observed_average[key]\n",
    "        if not (element1 <0 or np.isclose(element1, 0, atol=tolerance) or element2<0 or np.isclose(element2, 0, atol=tolerance)):\n",
    "            list_gabazine_observed.append(element1)\n",
    "            list_control_observed.append(element2)"
   ]
  },
  {
   "cell_type": "code",
   "execution_count": null,
   "metadata": {
    "collapsed": true,
    "scrolled": false
   },
   "outputs": [],
   "source": [
    "print (\"GABAzine and control\")\n",
    "#X = np.array(list_gabazine_expected)\n",
    "#y = np.array(list_gabazine_observed)\n",
    "\n",
    "y = np.array(list_control_observed)\n",
    "X = np.array(list_gabazine_observed)\n",
    "\n",
    "idx   = np.argsort(X)\n",
    "X = X[idx]\n",
    "y = y[idx]\n",
    "\n",
    "linear_Model = lmfit.Model(linearModel)\n",
    "DN_Model = lmfit.Model(DN_model)\n",
    "\n",
    "lin_pars = linear_Model.make_params()\n",
    "lin_result = linear_Model.fit(y, lin_pars, x=X)\n",
    "lin_aic.append(lin_result.aic)\n",
    "lin_chi.append(lin_result.redchi)\n",
    "\n",
    "DN_pars = DN_Model.make_params()\n",
    "DN_result = DN_Model.fit(y, DN_pars, x=X)\n",
    "dn_aic.append(DN_result.aic)\n",
    "dn_chi.append(DN_result.redchi)\n",
    "\n",
    "print (lin_result.fit_report())\n",
    "print (DN_result.fit_report())\n",
    "\n",
    "ax = plt.subplot(111)\n",
    "ax.scatter(X, y, alpha=0.2)\n",
    "ax.set_xlim(xmin=0.)\n",
    "ax.set_ylim(ymin=0.)\n",
    "ax.set_xlabel(\"Expected\")\n",
    "ax.set_ylabel(\"Observed\")\n",
    "ax.set_title(\"Divisive Normalization and Inhibition fits\")\n",
    "ax.plot(X, lin_result.best_fit, '-', label=\"Divisive Inhibition Model\")\n",
    "ax.plot(X, DN_result.best_fit, '-', label=\"Divisive Normalization Model\")\n",
    "plt.show()"
   ]
  },
  {
   "cell_type": "markdown",
   "metadata": {},
   "source": [
    "### For averaged out responses"
   ]
  }
 ],
 "metadata": {
  "hide_input": true,
  "kernelspec": {
   "display_name": "Python 2",
   "language": "python",
   "name": "python2"
  },
  "language_info": {
   "codemirror_mode": {
    "name": "ipython",
    "version": 2
   },
   "file_extension": ".py",
   "mimetype": "text/x-python",
   "name": "python",
   "nbconvert_exporter": "python",
   "pygments_lexer": "ipython2",
   "version": "2.7.12"
  },
  "latex_envs": {
   "LaTeX_envs_menu_present": true,
   "autocomplete": true,
   "bibliofile": "biblio.bib",
   "cite_by": "apalike",
   "current_citInitial": 1,
   "eqLabelWithNumbers": true,
   "eqNumInitial": 1,
   "hotkeys": {
    "equation": "Ctrl-E",
    "itemize": "Ctrl-I"
   },
   "labels_anchors": false,
   "latex_user_defs": false,
   "report_style_numbering": false,
   "user_envs_cfg": false
  },
  "toc": {
   "colors": {
    "hover_highlight": "#DAA520",
    "navigate_num": "#000000",
    "navigate_text": "#333333",
    "running_highlight": "#FF0000",
    "selected_highlight": "#FFD700",
    "sidebar_border": "#EEEEEE",
    "wrapper_background": "#FFFFFF"
   },
   "moveMenuLeft": true,
   "nav_menu": {
    "height": "12px",
    "width": "252px"
   },
   "navigate_menu": true,
   "number_sections": true,
   "sideBar": true,
   "threshold": 4,
   "toc_cell": false,
   "toc_section_display": "block",
   "toc_window_display": true,
   "widenNotebook": false
  },
  "varInspector": {
   "cols": {
    "lenName": 16,
    "lenType": 16,
    "lenVar": 40
   },
   "kernels_config": {
    "python": {
     "delete_cmd_postfix": "",
     "delete_cmd_prefix": "del ",
     "library": "var_list.py",
     "varRefreshCmd": "print(var_dic_list())"
    },
    "r": {
     "delete_cmd_postfix": ") ",
     "delete_cmd_prefix": "rm(",
     "library": "var_list.r",
     "varRefreshCmd": "cat(var_dic_list()) "
    }
   },
   "types_to_exclude": [
    "module",
    "function",
    "builtin_function_or_method",
    "instance",
    "_Feature"
   ],
   "window_display": false
  }
 },
 "nbformat": 4,
 "nbformat_minor": 2
}
