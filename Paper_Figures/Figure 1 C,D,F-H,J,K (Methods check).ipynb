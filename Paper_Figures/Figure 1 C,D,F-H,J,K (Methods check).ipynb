{
 "cells": [
  {
   "cell_type": "code",
   "execution_count": 1,
   "metadata": {
    "collapsed": true
   },
   "outputs": [],
   "source": [
    "import sys\n",
    "sys.path.append(\"../\")\n",
    "import glob\n",
    "import matplotlib\n",
    "import matplotlib.pyplot as plt\n",
    "import numpy as np\n",
    "from Linearity import Neuron\n",
    "from IPython.display import set_matplotlib_formats\n",
    "import scipy.stats as ss\n",
    "from pickle import dump, load\n",
    "plt.style.use('neuron')"
   ]
  },
  {
   "cell_type": "code",
   "execution_count": 2,
   "metadata": {
    "collapsed": true
   },
   "outputs": [],
   "source": [
    "def simpleaxis(axes, every=False, outward=False):\n",
    "    if not isinstance(axes, (list, np.ndarray)):\n",
    "        axes = [axes]\n",
    "    for ax in axes:\n",
    "        ax.spines['top'].set_visible(False)\n",
    "        ax.spines['right'].set_visible(False)\n",
    "        if (outward):\n",
    "            ax.spines['bottom'].set_position(('outward', 10))\n",
    "            ax.spines['left'].set_position(('outward', 10))\n",
    "        if every:\n",
    "            ax.spines['bottom'].set_visible(False)\n",
    "            ax.spines['left'].set_visible(False)\n",
    "        ax.get_xaxis().tick_bottom()\n",
    "        ax.get_yaxis().tick_left()\n",
    "        ax.set_title('')"
   ]
  },
  {
   "cell_type": "markdown",
   "metadata": {},
   "source": [
    "## 1 C (CA3 heatmap)"
   ]
  },
  {
   "cell_type": "code",
   "execution_count": 3,
   "metadata": {
    "collapsed": true
   },
   "outputs": [],
   "source": [
    "ca3_neuron = Neuron.load('/media/sahil/NCBS_Shares_BGStim/patch_data/160927/c4_CA3_CPP/plots/c4_CA3_CPP.pkl')"
   ]
  },
  {
   "cell_type": "code",
   "execution_count": 4,
   "metadata": {
    "collapsed": true
   },
   "outputs": [],
   "source": [
    "AP_dict = np.zeros((12,12))\n",
    "SubThP_dict = np.zeros((12,12))\n",
    "for expType, exp in ca3_neuron:\n",
    "    if expType == \"Control\":\n",
    "        for coord in exp[1].coordwise:\n",
    "            temp_coord = []\n",
    "            for trial in exp[1].coordwise[coord].trials:\n",
    "                temp_coord.append(trial.AP_flag)\n",
    "            AP_dict[list(coord)[0]] = np.sum(temp_coord)\n",
    "            SubThP_dict[list(coord)[0]] = exp[1].coordwise[coord].average_feature[0]"
   ]
  },
  {
   "cell_type": "code",
   "execution_count": 5,
   "metadata": {
    "scrolled": true
   },
   "outputs": [
    {
     "data": {
      "image/png": "[encoded data removed]",
      "text/plain": [
       "<matplotlib.figure.Figure at 0x7fcd2cecbd50>"
      ]
     },
     "metadata": {},
     "output_type": "display_data"
    }
   ],
   "source": [
    "SubThP_dict = np.ma.masked_where(SubThP_dict == 0., SubThP_dict)\n",
    "SubThP_dict = np.ma.masked_where(np.isnan(SubThP_dict), SubThP_dict)\n",
    "cmap = plt.cm.viridis\n",
    "cmap.set_bad(color='white')\n",
    "\n",
    "fig, ax = plt.subplots()\n",
    "heatmap = ax.pcolormesh(SubThP_dict, cmap=cmap, vmin=np.nanmin(SubThP_dict), vmax=np.nanmax(SubThP_dict))\n",
    "\n",
    "# # mark a specific square?\n",
    "# zeros = np.zeros((12,12))\n",
    "# AP_coords = np.where(AP_dict>0)\n",
    "# zeros[AP_coords] = 1.\n",
    "# c = np.ma.masked_array(zeros, zeros == 0.)  # mask squares where value == 1\n",
    "# ax.pcolormesh(np.arange(13), np.arange(13), c, alpha=1.0, zorder=2, facecolor='none', edgecolors='k',\n",
    "#                cmap='gray')\n",
    "\n",
    "for y in range(AP_dict.shape[0]):\n",
    "    for x in range(AP_dict.shape[1]):\n",
    "        if AP_dict[y, x] > 0:\n",
    "            plt.text(x + 0.5, y + 0.5, \"{}/4\".format(int(AP_dict[y, x])),\n",
    "                     horizontalalignment='center',\n",
    "                     verticalalignment='center', size=10)\n",
    "\n",
    "circle1 = plt.Circle((7.5, 7.5), 0.75, color='r', fill=False)\n",
    "\n",
    "ax.invert_yaxis()\n",
    "for axis in [ax.xaxis, ax.yaxis]:\n",
    "    axis.set_ticks(np.arange(1,13), minor=True)\n",
    "    axis.set(ticks=np.arange(0,13,2)+0.5, ticklabels=np.arange(0,13,2)) #Skipping square labels\n",
    "\n",
    "ax.grid(True, which='minor', axis='both', linestyle='--', alpha=0.1, color='k')\n",
    "ax.set_xlim((0,13))\n",
    "ax.set_ylim((0,13))\n",
    "\n",
    "#Colorbar stuff\n",
    "cbar = plt.colorbar(heatmap, label=\"Average response (mV)\")\n",
    "cbar.ax.get_yaxis().labelpad = 6\n",
    "tick_locator = matplotlib.ticker.MaxNLocator(nbins=5)\n",
    "cbar.locator = tick_locator\n",
    "cbar.update_ticks()\n",
    "\n",
    "ax.add_artist(circle1)\n",
    "ax.set_aspect(1)\n",
    "fig.set_figheight(2.)\n",
    "fig.set_figwidth(2.5)\n",
    "simpleaxis(ax,every=True,outward=False)\n",
    "dump(fig,file('figures/fig1/1c.pkl','wb'))\n",
    "plt.show()"
   ]
  },
  {
   "cell_type": "markdown",
   "metadata": {},
   "source": [
    "## 1 D (CA3 jitter)"
   ]
  },
  {
   "cell_type": "code",
   "execution_count": 6,
   "metadata": {},
   "outputs": [
    {
     "name": "stdout",
     "output_type": "stream",
     "text": [
      "1.93632988824\n"
     ]
    },
    {
     "data": {
      "image/png": "[encoded data removed]",
      "text/plain": [
       "<matplotlib.figure.Figure at 0x7fcd2d04ff10>"
      ]
     },
     "metadata": {},
     "output_type": "display_data"
    }
   ],
   "source": [
    "fig, ax = plt.subplots()\n",
    "AP_dict = np.zeros((12,12))\n",
    "tsp = []\n",
    "for expType, exp in ca3_neuron:\n",
    "    if expType == \"Control\":\n",
    "        for trial in exp[1].coordwise[frozenset([(7,7)])].trials:\n",
    "            time = np.linspace(0,100,len(trial.interestWindow))\n",
    "            ax.plot(time, trial.interestWindow, color=(170/256., 0, 0))\n",
    "            tsp.append(time[np.argmax(trial.interestWindow)])\n",
    "ax.set_xlabel(\"Time\")\n",
    "ax.set_ylabel(\"$V_m$\")\n",
    "ax.plot(tsp, [110]*len(tsp), 'k|', markersize=5)\n",
    "print(np.std(tsp, ddof = 1))\n",
    "fig.set_figheight(1.5)\n",
    "fig.set_figwidth(1.5)\n",
    "ax.get_xaxis().tick_bottom()\n",
    "ax.get_yaxis().tick_left()\n",
    "simpleaxis(ax)\n",
    "dump(fig,file('figures/fig1/1d.pkl','wb'))\n",
    "plt.show()"
   ]
  },
  {
   "cell_type": "markdown",
   "metadata": {},
   "source": [
    "## 1 E (CA3 jitter distribution)"
   ]
  },
  {
   "cell_type": "code",
   "execution_count": 7,
   "metadata": {},
   "outputs": [
    {
     "data": {
      "image/png": "[encoded data removed]",
      "text/plain": [
       "<matplotlib.figure.Figure at 0x7fcd2d04ff50>"
      ]
     },
     "metadata": {},
     "output_type": "display_data"
    }
   ],
   "source": [
    "fig, ax = plt.subplots()\n",
    "AP_dict = np.zeros((12,12))\n",
    "jitter = []\n",
    "for expType, exp in ca3_neuron:\n",
    "    if expType == \"Control\":\n",
    "        for coord in exp[1].coordwise:\n",
    "            tsp = []\n",
    "            for trial in exp[1].coordwise[coord].trials:\n",
    "                time = np.linspace(0,100,len(trial.interestWindow))\n",
    "                tsp.append(time[np.argmax(trial.interestWindow)])\n",
    "            jitter.append(np.std(tsp, ddof = 1))\n",
    "ax.set_xlabel(\"CA3 jitter (ms)\")\n",
    "ax.set_ylabel(\"# trials\")\n",
    "bins = np.linspace(0,5,20)\n",
    "ax.hist(jitter, bins=bins)\n",
    "ax.set_xlim((0,5))\n",
    "fig.set_figheight(1.5)\n",
    "fig.set_figwidth(1.5)\n",
    "simpleaxis(ax)\n",
    "dump(fig,file('figures/fig1/1e.pkl','wb'))\n",
    "plt.show()"
   ]
  },
  {
   "cell_type": "markdown",
   "metadata": {},
   "source": [
    "## 1 F (CA1 heatmap)"
   ]
  },
  {
   "cell_type": "code",
   "execution_count": 8,
   "metadata": {
    "collapsed": true
   },
   "outputs": [],
   "source": [
    "ca1_neuron = Neuron.load('/media/sahil/NCBS_Shares_BGStim/patch_data/161013/c1/plots/c1.pkl')"
   ]
  },
  {
   "cell_type": "code",
   "execution_count": 9,
   "metadata": {
    "collapsed": true
   },
   "outputs": [],
   "source": [
    "coordwise = ca1_neuron.experiment[\"Control\"][1].coordwise\n",
    "epsp_dict = np.zeros((12,12))\n",
    "\n",
    "for coord in coordwise:\n",
    "    epsp_dict[list(coord)[0]] = coordwise[coord].average_feature[0]"
   ]
  },
  {
   "cell_type": "code",
   "execution_count": 10,
   "metadata": {},
   "outputs": [
    {
     "data": {
      "image/png": "[encoded data removed]",
      "text/plain": [
       "<matplotlib.figure.Figure at 0x7fcd2a851a10>"
      ]
     },
     "metadata": {},
     "output_type": "display_data"
    }
   ],
   "source": [
    "epsp_dict = np.ma.masked_where(epsp_dict == 0., epsp_dict)\n",
    "cmap = plt.cm.viridis\n",
    "cmap.set_bad(color='white')\n",
    "\n",
    "fig, ax = plt.subplots()\n",
    "heatmap = ax.pcolormesh(epsp_dict, cmap=cmap)\n",
    "circle1 = plt.Circle((5.5, 7.5), 0.75, color='r', fill=False)\n",
    "\n",
    "ax.set_title(\"CA1 cell response\")\n",
    "\n",
    "ax.invert_yaxis()\n",
    "for axis in [ax.xaxis, ax.yaxis]:\n",
    "    axis.set_ticks(np.arange(1,13), minor=True)\n",
    "    axis.set(ticks=np.arange(0,13,2)+0.5, ticklabels=np.arange(0,13,2)) #Skipping square labels\n",
    "\n",
    "ax.grid(True, which='minor', axis='both', linestyle='--', alpha=0.1, color='k')\n",
    "\n",
    "ax.set_xlim((0,13))\n",
    "ax.set_ylim((0,13))\n",
    "\n",
    "# Colorbar stuff\n",
    "cbar = plt.colorbar(heatmap, label=\"Average response (mV)\")\n",
    "cbar.ax.get_yaxis().labelpad = 10\n",
    "tick_locator = matplotlib.ticker.MaxNLocator(nbins=5)\n",
    "cbar.locator = tick_locator\n",
    "cbar.update_ticks()\n",
    "\n",
    "ax.add_artist(circle1)\n",
    "ax.set_aspect(1)\n",
    "simpleaxis(ax, every=True, outward=False)\n",
    "\n",
    "fig.set_figheight(2.)\n",
    "fig.set_figwidth(2.5)\n",
    "dump(fig,file('figures/fig1/1f.pkl','wb'))\n",
    "plt.show()"
   ]
  },
  {
   "cell_type": "markdown",
   "metadata": {},
   "source": [
    "## 1 G (CA1 jitter)"
   ]
  },
  {
   "cell_type": "code",
   "execution_count": 11,
   "metadata": {},
   "outputs": [
    {
     "name": "stdout",
     "output_type": "stream",
     "text": [
      "3.25367747385\n"
     ]
    },
    {
     "data": {
      "image/png": "[encoded data removed]",
      "text/plain": [
       "<matplotlib.figure.Figure at 0x7fcd2d09bf50>"
      ]
     },
     "metadata": {},
     "output_type": "display_data"
    }
   ],
   "source": [
    "fig, ax = plt.subplots()\n",
    "tsp = []\n",
    "for expType, exp in ca1_neuron:\n",
    "    if expType == \"Control\":\n",
    "        for trial in exp[1].coordwise[frozenset([(7,5)])].trials:\n",
    "            trial.\n",
    "            time = np.linspace(0,100,len(trial.interestWindow))\n",
    "            ax.plot(time, trial.interestWindow, color=(0,.5,.5))\n",
    "            tsp.append(time[np.argmax(trial.interestWindow)])\n",
    "ax.set_xlabel(\"Time\")\n",
    "ax.set_ylabel(\"$V_m$\")\n",
    "ax.plot(tsp, [3]*len(tsp), 'k.', markersize=3)\n",
    "ax.get_xaxis().tick_bottom()\n",
    "ax.get_yaxis().tick_left()\n",
    "print(np.std(tsp, ddof=1))\n",
    "fig.set_figheight(1.5)\n",
    "fig.set_figwidth(1.5)\n",
    "simpleaxis(ax)\n",
    "dump(fig,file('figures/fig1/1g.pkl','wb'))\n",
    "plt.show()"
   ]
  },
  {
   "cell_type": "markdown",
   "metadata": {},
   "source": [
    "## 1 H (CA1 jitter distribution)"
   ]
  },
  {
   "cell_type": "code",
   "execution_count": 12,
   "metadata": {},
   "outputs": [
    {
     "data": {
      "image/png": "[encoded data removed]",
      "text/plain": [
       "<matplotlib.figure.Figure at 0x7fcd2a851390>"
      ]
     },
     "metadata": {},
     "output_type": "display_data"
    }
   ],
   "source": [
    "fig, ax = plt.subplots()\n",
    "ca1_jitter = []\n",
    "for expType, exp in ca1_neuron:\n",
    "    if expType == \"Control\":\n",
    "        for coord in exp[1].coordwise:\n",
    "            tsp = []\n",
    "            for trial in exp[1].coordwise[coord].trials:\n",
    "                time = np.linspace(0,100,len(trial.interestWindow))\n",
    "                tsp.append(time[np.argmax(trial.interestWindow)])\n",
    "            ca1_jitter.append(np.std(tsp, ddof = 1))\n",
    "ax.set_xlabel(\"CA1 jitter (ms)\")\n",
    "ax.set_ylabel(\"# trials\")\n",
    "bins = np.linspace(0,50,20)\n",
    "ax.hist(ca1_jitter, bins=bins)\n",
    "ax.set_xlim((0,50))\n",
    "fig.set_figheight(1.5)\n",
    "fig.set_figwidth(1.5)\n",
    "simpleaxis(ax)\n",
    "dump(fig,file('figures/fig1/1h.pkl','wb'))\n",
    "plt.show()"
   ]
  },
  {
   "cell_type": "markdown",
   "metadata": {},
   "source": [
    "## 1 I, J (CA1 amplitude variability )"
   ]
  },
  {
   "cell_type": "code",
   "execution_count": 13,
   "metadata": {},
   "outputs": [
    {
     "data": {
      "image/png": "[encoded data removed]",
      "text/plain": [
       "<matplotlib.figure.Figure at 0x7fcd2a824890>"
      ]
     },
     "metadata": {},
     "output_type": "display_data"
    },
    {
     "data": {
      "image/png": "[encoded data removed]",
      "text/plain": [
       "<matplotlib.figure.Figure at 0x7fcd2cda2e90>"
      ]
     },
     "metadata": {},
     "output_type": "display_data"
    }
   ],
   "source": [
    "ca1_amp_jitter = []\n",
    "average_psp = []\n",
    "for expType, exp in ca1_neuron:\n",
    "    if expType == \"Control\":\n",
    "        for coord in exp[1].coordwise:\n",
    "            amp = []\n",
    "            for trial in exp[1].coordwise[coord].trials:\n",
    "                amp.append(trial.feature[0])\n",
    "            average_psp.append(exp[1].coordwise[coord].average_feature[0])\n",
    "            ca1_amp_jitter.append(np.std(amp, ddof = 1))\n",
    "            \n",
    "fig, ax = plt.subplots()\n",
    "ax.set_xlabel(\"CA1 amplitude variability (mV)\")\n",
    "ax.set_ylabel(\"# trials\")\n",
    "bins = 10\n",
    "ax.hist(ca1_amp_jitter, bins=bins)\n",
    "ax.set_xlim((0,1))\n",
    "fig.set_figheight(1.5)\n",
    "fig.set_figwidth(1.5)\n",
    "simpleaxis(ax)\n",
    "dump(fig,file('figures/fig1/1i.pkl','wb'))\n",
    "plt.show()\n",
    "\n",
    "fig, ax = plt.subplots()\n",
    "average_psp = np.array(average_psp)\n",
    "indices = np.argsort(average_psp)\n",
    "ca1_amp_jitter = np.array(ca1_amp_jitter)\n",
    "ax.bar(np.arange(len(average_psp)), average_psp[indices], yerr = ca1_amp_jitter[indices], ecolor='0.5')\n",
    "ax.set_xlabel(\"sorted stimulus index\")\n",
    "ax.set_ylabel(\"average amplitude\")\n",
    "fig.set_figheight(1.5)\n",
    "fig.set_figwidth(1.5)\n",
    "simpleaxis(ax)\n",
    "dump(fig,file('figures/fig1/1j.pkl','wb'))\n",
    "plt.show()"
   ]
  },
  {
   "cell_type": "markdown",
   "metadata": {},
   "source": [
    "Population statistics"
   ]
  },
  {
   "cell_type": "code",
   "execution_count": 14,
   "metadata": {},
   "outputs": [
    {
     "name": "stdout",
     "output_type": "stream",
     "text": [
      "('Reading ', '/media/sahil/NCBS_Shares_BGStim/patch_data/150828/c2/plots/c2.pkl')\n",
      "('Reading ', '/media/sahil/NCBS_Shares_BGStim/patch_data/150902/c1/plots/c1.pkl')\n",
      "('Reading ', '/media/sahil/NCBS_Shares_BGStim/patch_data/150902/c2/plots/c2.pkl')\n",
      "('Reading ', '/media/sahil/NCBS_Shares_BGStim/patch_data/150904/c1/plots/c1.pkl')\n",
      "('Reading ', '/media/sahil/NCBS_Shares_BGStim/patch_data/150904/c3/plots/c3.pkl')\n",
      "('Reading ', '/media/sahil/NCBS_Shares_BGStim/patch_data/160126/c3/plots/c3.pkl')\n",
      "('Reading ', '/media/sahil/NCBS_Shares_BGStim/patch_data/160209/c4/plots/c4.pkl')\n",
      "('Reading ', '/media/sahil/NCBS_Shares_BGStim/patch_data/160219/c5/plots/c5.pkl')\n",
      "('Reading ', '/media/sahil/NCBS_Shares_BGStim/patch_data/160223/c2/plots/c2.pkl')\n",
      "('Reading ', '/media/sahil/NCBS_Shares_BGStim/patch_data/160223/c3/plots/c3.pkl')\n",
      "('Reading ', '/media/sahil/NCBS_Shares_BGStim/patch_data/160513/c5/plots/c5.pkl')\n",
      "('Reading ', '/media/sahil/NCBS_Shares_BGStim/patch_data/160617/c5/plots/c5.pkl')\n",
      "('Reading ', '/media/sahil/NCBS_Shares_BGStim/patch_data/160817/c2/plots/c2.pkl')\n",
      "('Reading ', '/media/sahil/NCBS_Shares_BGStim/patch_data/160830/c1/plots/c1.pkl')\n",
      "('Reading ', '/media/sahil/NCBS_Shares_BGStim/patch_data/160920/c1/plots/c1.pkl')\n",
      "('Reading ', '/media/sahil/NCBS_Shares_BGStim/patch_data/160927/c5/plots/c5.pkl')\n",
      "('Reading ', '/media/sahil/NCBS_Shares_BGStim/patch_data/160927/c3/plots/c3.pkl')\n",
      "('Reading ', '/media/sahil/NCBS_Shares_BGStim/patch_data/160927/c1/plots/c1.pkl')\n",
      "('Reading ', '/media/sahil/NCBS_Shares_BGStim/patch_data/160928/c3/plots/c3.pkl')\n",
      "('Reading ', '/media/sahil/NCBS_Shares_BGStim/patch_data/160928/c4/plots/c4.pkl')\n",
      "('Reading ', '/media/sahil/NCBS_Shares_BGStim/patch_data/161013/c1/plots/c1.pkl')\n",
      "('Reading ', '/media/sahil/NCBS_Shares_BGStim/patch_data/161026/c1/plots/c1.pkl')\n",
      "('Reading ', '/media/sahil/NCBS_Shares_BGStim/patch_data/161027/c3/plots/c3.pkl')\n",
      "('Reading ', '/media/sahil/NCBS_Shares_BGStim/patch_data/161109/c3/plots/c3.pkl')\n",
      "('Reading ', '/media/sahil/NCBS_Shares_BGStim/patch_data/161110/c1/plots/c1.pkl')\n",
      "('Reading ', '/media/sahil/NCBS_Shares_BGStim/patch_data/161116/c2/plots/c2.pkl')\n",
      "('Reading ', '/media/sahil/NCBS_Shares_BGStim/patch_data/161117/c1/plots/c1.pkl')\n",
      "('Reading ', '/media/sahil/NCBS_Shares_BGStim/patch_data/161228/c1/plots/c1.pkl')\n",
      "('Reading ', '/media/sahil/NCBS_Shares_BGStim/patch_data/170104/c4/plots/c4.pkl')\n",
      "('Reading ', '/media/sahil/NCBS_Shares_BGStim/patch_data/170208/c3/plots/c3.pkl')\n",
      "('Reading ', '/media/sahil/NCBS_Shares_BGStim/patch_data/170222/c1/plots/c1.pkl')\n",
      "('Reading ', '/media/sahil/NCBS_Shares_BGStim/patch_data/170222/c2/plots/c2.pkl')\n",
      "('Reading ', '/media/sahil/NCBS_Shares_BGStim/patch_data/170220/c1/plots/c1.pkl')\n",
      "('Reading ', '/media/sahil/NCBS_Shares_BGStim/patch_data/170317/c1/plots/c1.pkl')\n",
      "('Reading ', '/media/sahil/NCBS_Shares_BGStim/patch_data/170317/c3/plots/c3.pkl')\n",
      "('Reading ', '/media/sahil/NCBS_Shares_BGStim/patch_data/170317/c4/plots/c4.pkl')\n",
      "('Reading ', '/media/sahil/NCBS_Shares_BGStim/patch_data/170303/c1/plots/c1.pkl')\n",
      "('Reading ', '/media/sahil/NCBS_Shares_BGStim/patch_data/170124/c3_CS/plots/c3_CS.pkl')\n",
      "('Reading ', '/media/sahil/NCBS_Shares_BGStim/patch_data/170124/c2_CS/plots/c2_CS.pkl')\n",
      "('Reading ', '/media/sahil/NCBS_Shares_BGStim/patch_data/161116/c1_CS/plots/c1_CS.pkl')\n",
      "('Reading ', '/media/sahil/NCBS_Shares_BGStim/patch_data/161117/c3_CS/plots/c3_CS.pkl')\n",
      "('Reading ', '/media/sahil/NCBS_Shares_BGStim/patch_data/161117/c2_CS/plots/c2_CS.pkl')\n",
      "('Reading ', '/media/sahil/NCBS_Shares_BGStim/patch_data/161123/c2_CS/plots/c2_CS.pkl')\n",
      "('Reading ', '/media/sahil/NCBS_Shares_BGStim/patch_data/161123/c1_CS/plots/c1_CS.pkl')\n",
      "('Reading ', '/media/sahil/NCBS_Shares_BGStim/patch_data/RS_Analysis/Patch_Recording/Control_RS_short/1_c4_150827/plots/1_c4_150827.pkl')\n",
      "('Reading ', '/media/sahil/NCBS_Shares_BGStim/patch_data/RS_Analysis/Patch_Recording/Control_RS_short/2_c1_150828/plots/2_c1_150828.pkl')\n",
      "('Reading ', '/media/sahil/NCBS_Shares_BGStim/patch_data/RS_Analysis/Patch_Recording/Control_RS_short/3_c1_150929/plots/3_c1_150929.pkl')\n",
      "('Reading ', '/media/sahil/NCBS_Shares_BGStim/patch_data/RS_Analysis/Patch_Recording/Control_RS_short/6_c2_160513/plots/6_c2_160513.pkl')\n",
      "('Reading ', '/media/sahil/NCBS_Shares_BGStim/patch_data/RS_Analysis/Patch_Recording/RS_TBS_short/5_c4_160122/plots/5_c4_160122.pkl')\n",
      "Read 49 files.\n"
     ]
    }
   ],
   "source": [
    "neuronList = []\n",
    "with open(\"/media/sahil/NCBS_Shares_BGStim/patch_data/current_clamp_files.txt\", 'r') as fp:\n",
    "    fileList = fp.read().splitlines()\n",
    "    for i,filename in enumerate(fileList):\n",
    "        fileList[i] += \"plots/\" + filename.split('/')[-2] + \".pkl\"\n",
    "        try:\n",
    "            print (\"Reading \", fileList[i])\n",
    "            neuronList.append(Neuron.load(fileList[i]))\n",
    "        except:\n",
    "            print (\"Couldn't read\", fileList[i])\n",
    "print (\"Read {} files.\".format(len(fileList)))"
   ]
  },
  {
   "cell_type": "code",
   "execution_count": 15,
   "metadata": {
    "collapsed": true
   },
   "outputs": [],
   "source": [
    "neuronList = load(open('/home/bhalla/Documents/Codes/data/currentClampCells.pkl','rb'))"
   ]
  },
  {
   "cell_type": "markdown",
   "metadata": {},
   "source": [
    "## 1 K (distribution of EPSP one squares)"
   ]
  },
  {
   "cell_type": "code",
   "execution_count": 16,
   "metadata": {
    "collapsed": true
   },
   "outputs": [],
   "source": [
    "def figureK(feature = 0):\n",
    "    ''' Get's the fraction of times an AP occurs verus PSPs '''\n",
    "    epsp_1sq = []\n",
    "    squares = 1\n",
    "    feature = 0\n",
    "    numBins = 200\n",
    "    for neuron in neuronList:\n",
    "        try:\n",
    "            trials = neuron.experiment[\"Control\"][squares].trial\n",
    "            for trialNum in trials:\n",
    "                trial = neuron.experiment[\"Control\"][squares].trial[trialNum]\n",
    "                epsp_1sq.append(trial.feature[feature])\n",
    "        except:\n",
    "            print(\"{}, {}: No control dataset!\".format(neuron.index, neuron.date))\n",
    "    #print (np.mean(epsp_1sq), np.median(epsp_1sq), ss.mode(epsp_1sq))\n",
    "    print(len(epsp_1sq))\n",
    "    print(ss.kstest(epsp_1sq, \"lognorm\", ss.lognorm.fit(epsp_1sq)))\n",
    "    fig, ax = plt.subplots()\n",
    "    n, bins, patches = ax.hist(epsp_1sq, bins=numBins)\n",
    "    maxBin = np.argmax(n)\n",
    "    modeEPSP = bins[maxBin]\n",
    "    ymin, ymax = ax.get_ylim()\n",
    "    ax.vlines(modeEPSP,ymin,ymax, linestyles='--', color='0.5')\n",
    "    ax.annotate(\"{:.2f} mV\".format(modeEPSP), xy=(modeEPSP, ymax), xytext=(1.2*modeEPSP, ymax), textcoords='data')\n",
    "    ax.set_xlabel(\"PSP Amplitude (mV)\")\n",
    "    ax.set_ylabel(\"# recorded PSPs\")\n",
    "    fig.set_figheight(1.5)\n",
    "    fig.set_figwidth(1.5)\n",
    "    simpleaxis(ax, outward=False)\n",
    "    dump(fig,file('figures/fig1/1k.pkl','wb'))\n",
    "    plt.show()"
   ]
  },
  {
   "cell_type": "code",
   "execution_count": 17,
   "metadata": {},
   "outputs": [
    {
     "name": "stdout",
     "output_type": "stream",
     "text": [
      "5_c4_160122, RS_TBS_short: No control dataset!\n",
      "9702\n",
      "KstestResult(statistic=0.11391330504164798, pvalue=8.9042240340983708e-110)\n"
     ]
    },
    {
     "data": {
      "image/png": "[encoded data removed]",
      "text/plain": [
       "<matplotlib.figure.Figure at 0x7fcd2cfd87d0>"
      ]
     },
     "metadata": {},
     "output_type": "display_data"
    }
   ],
   "source": [
    "figureK()"
   ]
  },
  {
   "cell_type": "markdown",
   "metadata": {},
   "source": [
    "## 1 L (Fraction of APs and sublinear responses)"
   ]
  },
  {
   "cell_type": "code",
   "execution_count": 18,
   "metadata": {
    "collapsed": true
   },
   "outputs": [],
   "source": [
    "def figureL(feature = 0):\n",
    "    ''' Get's the fraction of times an AP occurs verus PSPs '''\n",
    "    numNeurons = 0\n",
    "    numAP = 0\n",
    "    numPSP = 0\n",
    "    for neuron in neuronList:\n",
    "        for experiment in neuron.experiment:\n",
    "            if experiment == \"Control\":    \n",
    "                numNeurons+=1\n",
    "                for squares in neuron.experiment[experiment]:\n",
    "                    nSq = neuron.experiment[experiment][squares].trial\n",
    "                    for trialnum in nSq:\n",
    "                        if nSq[trialnum].AP_flag:\n",
    "                            numAP+=1\n",
    "                        else:\n",
    "                            numPSP+=1\n",
    "    \n",
    "    fracAPs = float(numAP)/numPSP\n",
    "    fig, ax = plt.subplots()\n",
    "    index = np.arange(2)\n",
    "    width = 0.5\n",
    "    ax.bar(index, (numPSP, numAP), width)\n",
    "    ax.set_title(\"CA1 responses\")\n",
    "    ax.set_ylabel(\"Frequency\")\n",
    "    ax.set_xticks(index)\n",
    "    ax.set_xticklabels(('PSP', 'AP'))\n",
    "    #ax.set_yticks(list(ax.get_yticks()) + [numAP])\n",
    "    ax.annotate(\"{:.2f} %\".format(fracAPs*1e2), xy=(0.8, numAP*2.0), xytext=(0.75, numAP*5), textcoords='data')\n",
    "    xaxisVal = ax.get_xlim()[0]\n",
    "    ax.hlines(numAP, xaxisVal, index[1],linestyle=\"--\")\n",
    "    fig.set_figheight(1.5)\n",
    "    fig.set_figwidth(1.5)\n",
    "    ax.set_ylim(0,22500)\n",
    "#     ax.set_yscale('log')\n",
    "    simpleaxis(ax, outward=False)\n",
    "    ax.ticklabel_format(style='sci', axis='y', scilimits=(0,0))\n",
    "    ax.yaxis.major.formatter._useMathText = True\n",
    "    dump(fig,file('figures/fig1/1l.pkl','wb'))\n",
    "    plt.show()\n",
    "    print (\"Legend text: Number of cells: {}, number of points: {}, fraction of APS: {}\".format(numNeurons, numAP+numPSP, fracAPs))"
   ]
  },
  {
   "cell_type": "code",
   "execution_count": 19,
   "metadata": {
    "scrolled": false
   },
   "outputs": [
    {
     "data": {
      "image/png": "[encoded data removed]",
      "text/plain": [
       "<matplotlib.figure.Figure at 0x7fcd1ca71f50>"
      ]
     },
     "metadata": {},
     "output_type": "display_data"
    },
    {
     "name": "stdout",
     "output_type": "stream",
     "text": [
      "Legend text: Number of cells: 49, number of points: 22371, fraction of APS: 0.0113014782334\n"
     ]
    }
   ],
   "source": [
    "figureL()"
   ]
  },
  {
   "cell_type": "markdown",
   "metadata": {},
   "source": [
    "## 1 M (Desensitization of CA3)"
   ]
  },
  {
   "cell_type": "code",
   "execution_count": 20,
   "metadata": {
    "collapsed": true
   },
   "outputs": [],
   "source": [
    "ca3_cell = '/media/sahil/NCBS_Shares_BGStim/patch_data/161013/c2_CA3_CPP/CPP/desensitization_161013_c2.txt'"
   ]
  },
  {
   "cell_type": "code",
   "execution_count": 21,
   "metadata": {
    "collapsed": true
   },
   "outputs": [],
   "source": [
    "desenCell = np.loadtxt(ca3_cell, delimiter=',')"
   ]
  },
  {
   "cell_type": "code",
   "execution_count": 22,
   "metadata": {},
   "outputs": [
    {
     "data": {
      "image/png": "[encoded data removed]",
      "text/plain": [
       "<matplotlib.figure.Figure at 0x7fcd239370d0>"
      ]
     },
     "metadata": {},
     "output_type": "display_data"
    }
   ],
   "source": [
    "fig, ax = plt.subplots()\n",
    "ax.plot(desenCell, 'o--', markersize=3, mfc='1', markeredgecolor='0.5')\n",
    "# ax.bar(range(len(desenCell)), desenCell)\n",
    "ax.set_ylim(0,10)\n",
    "ax.set_xlabel(\"Trial number\")\n",
    "ax.set_ylabel(\"Number of APs\")\n",
    "simpleaxis(ax)\n",
    "fig.set_figheight(1.5)\n",
    "fig.set_figwidth(1.5)\n",
    "dump(fig,file('figures/fig1/1m.pkl','wb'))\n",
    "plt.show()"
   ]
  },
  {
   "cell_type": "code",
   "execution_count": 23,
   "metadata": {
    "collapsed": true
   },
   "outputs": [],
   "source": [
    "#dump(neuronList,open('/home/bhalla/Documents/Codes/data/currentClampCells.pkl','wb'))"
   ]
  }
 ],
 "metadata": {
  "hide_input": false,
  "kernelspec": {
   "display_name": "Python 2",
   "language": "python",
   "name": "python2"
  },
  "language_info": {
   "codemirror_mode": {
    "name": "ipython",
    "version": 2
   },
   "file_extension": ".py",
   "mimetype": "text/x-python",
   "name": "python",
   "nbconvert_exporter": "python",
   "pygments_lexer": "ipython2",
   "version": "2.7.12"
  },
  "latex_envs": {
   "LaTeX_envs_menu_present": true,
   "autocomplete": true,
   "bibliofile": "biblio.bib",
   "cite_by": "apalike",
   "current_citInitial": 1,
   "eqLabelWithNumbers": true,
   "eqNumInitial": 1,
   "hotkeys": {
    "equation": "Ctrl-E",
    "itemize": "Ctrl-I"
   },
   "labels_anchors": false,
   "latex_user_defs": false,
   "report_style_numbering": false,
   "user_envs_cfg": false
  },
  "toc": {
   "colors": {
    "hover_highlight": "#DAA520",
    "navigate_num": "#000000",
    "navigate_text": "#333333",
    "running_highlight": "#FF0000",
    "selected_highlight": "#FFD700",
    "sidebar_border": "#EEEEEE",
    "wrapper_background": "#FFFFFF"
   },
   "moveMenuLeft": true,
   "nav_menu": {
    "height": "12px",
    "width": "252px"
   },
   "navigate_menu": true,
   "number_sections": true,
   "sideBar": true,
   "threshold": 4,
   "toc_cell": false,
   "toc_section_display": "block",
   "toc_window_display": true,
   "widenNotebook": false
  },
  "varInspector": {
   "cols": {
    "lenName": 16,
    "lenType": 16,
    "lenVar": 40
   },
   "kernels_config": {
    "python": {
     "delete_cmd_postfix": "",
     "delete_cmd_prefix": "del ",
     "library": "var_list.py",
     "varRefreshCmd": "print(var_dic_list())"
    },
    "r": {
     "delete_cmd_postfix": ") ",
     "delete_cmd_prefix": "rm(",
     "library": "var_list.r",
     "varRefreshCmd": "cat(var_dic_list()) "
    }
   },
   "types_to_exclude": [
    "module",
    "function",
    "builtin_function_or_method",
    "instance",
    "_Feature"
   ],
   "window_display": false
  }
 },
 "nbformat": 4,
 "nbformat_minor": 2
}
