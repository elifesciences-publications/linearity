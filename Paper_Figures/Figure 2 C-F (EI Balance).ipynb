{
 "cells": [
  {
   "cell_type": "markdown",
   "metadata": {},
   "source": [
    "# EI balance in different CA1 neurons."
   ]
  },
  {
   "cell_type": "code",
   "execution_count": 1,
   "metadata": {
    "collapsed": true
   },
   "outputs": [],
   "source": [
    "import sys\n",
    "sys.path.append(\"../\")\n",
    "import glob\n",
    "from Linearity import Neuron\n",
    "import numpy as np\n",
    "import scipy.stats as ss\n",
    "import matplotlib\n",
    "import matplotlib.pyplot as plt\n",
    "from matplotlib.font_manager import findfont, FontProperties\n",
    "plt.style.use('neuron')\n",
    "from pickle import dump"
   ]
  },
  {
   "cell_type": "code",
   "execution_count": 2,
   "metadata": {
    "collapsed": true
   },
   "outputs": [],
   "source": [
    "def simpleaxis(axes, every=False, outward=True):\n",
    "    if not isinstance(axes, (list, np.ndarray)):\n",
    "        axes = [axes]\n",
    "    for ax in axes:\n",
    "        ax.spines['top'].set_visible(False)\n",
    "        ax.spines['right'].set_visible(False)\n",
    "        if (outward):\n",
    "            ax.spines['bottom'].set_position(('outward', 10))\n",
    "            ax.spines['left'].set_position(('outward', 10))\n",
    "        if every:\n",
    "            ax.spines['bottom'].set_visible(False)\n",
    "            ax.spines['left'].set_visible(False)\n",
    "        ax.get_xaxis().tick_bottom()\n",
    "        ax.get_yaxis().tick_left()\n",
    "        ax.set_title('')"
   ]
  },
  {
   "cell_type": "code",
   "execution_count": 3,
   "metadata": {
    "collapsed": true
   },
   "outputs": [],
   "source": [
    "#Colorscheme for squares\n",
    "color_sqr = { index+1: color for index, color in enumerate(matplotlib.cm.viridis(np.linspace(0,1,9)))}"
   ]
  },
  {
   "cell_type": "code",
   "execution_count": 4,
   "metadata": {
    "collapsed": true
   },
   "outputs": [],
   "source": [
    "voltageClampFiles = '/media/sahil/NCBS_Shares_BGStim/patch_data/voltage_clamp_files.txt'"
   ]
  },
  {
   "cell_type": "code",
   "execution_count": 5,
   "metadata": {
    "collapsed": true
   },
   "outputs": [],
   "source": [
    "with open (voltageClampFiles,'r') as r:\n",
    "    dirnames = r.read().splitlines()"
   ]
  },
  {
   "cell_type": "code",
   "execution_count": 6,
   "metadata": {
    "collapsed": true
   },
   "outputs": [],
   "source": [
    "#Colorscheme for cells\n",
    "color_cell = matplotlib.cm.plasma(np.linspace(0,1,len(dirnames)))"
   ]
  },
  {
   "cell_type": "code",
   "execution_count": 7,
   "metadata": {
    "collapsed": true
   },
   "outputs": [],
   "source": [
    "neurons = []\n",
    "for dirname in dirnames:\n",
    "    cellIndex = dirname.split('/')[-2]\n",
    "    filename = dirname + 'plots/' + cellIndex + '.pkl'\n",
    "    neurons.append(Neuron.load(filename))"
   ]
  },
  {
   "cell_type": "code",
   "execution_count": 52,
   "metadata": {
    "code_folding": [],
    "collapsed": true,
    "scrolled": false
   },
   "outputs": [],
   "source": [
    "feature = 0\n",
    "scalingFactor = 1e9\n",
    "r_squared = []\n",
    "slopes = []\n",
    "for index, n in enumerate(neurons):\n",
    "#     if index != (len(neurons) - 1) and index != (len(neurons) - 3) :\n",
    "        obs_exc, obs_inh = {}, {}\n",
    "        sqrs = []\n",
    "#         f, ax = plt.subplots()\n",
    "        for expType,expt in n:\n",
    "            for sqr in expt:\n",
    "                if (expType == 1):\n",
    "                    sqrs.append(sqr)\n",
    "                    for coord in expt[sqr].coordwise:\n",
    "                        obs_exc[coord] = expt[sqr].coordwise[coord].average_feature[5]\n",
    "                elif (expType == 2):\n",
    "                    for coord in expt[sqr].coordwise:\n",
    "                        obs_inh[coord] = expt[sqr].coordwise[coord].average_feature[0]\n",
    "\n",
    "        exc, inh = [], []\n",
    "        for coord in set(obs_exc).intersection(set(obs_inh)):\n",
    "            exc.append(-obs_exc[coord]*scalingFactor)\n",
    "            inh.append(obs_inh[coord]*scalingFactor)\n",
    "#             ax.scatter(-obs_exc[coord]*scalingFactor, obs_inh[coord]*scalingFactor, c=color_cell[index], s=10)\n",
    "        \n",
    "        slope, intercept, rval, pval, stderr = ss.linregress(exc, inh)\n",
    "        r_squared.append(rval**2)\n",
    "        slopes.append(slope)\n",
    "\n",
    "#         excRange = np.linspace(0, max(exc), 100)\n",
    "#         inhFit = excRange*slope + intercept\n",
    "\n",
    "#         ax.plot(excRange, inhFit, c=color_cell[index])\n",
    "#         xlim_old = ax.get_xlim()\n",
    "#         ylim_old = ax.get_ylim()\n",
    "#         minlim, maxlim = min(xlim_old[0], ylim_old[0]), max(xlim_old[1], ylim_old[1])\n",
    "#         ax.set_xlim(0,maxlim)\n",
    "#         ax.set_ylim(0,maxlim)\n",
    "#         print (index,n.date, n.index)\n",
    "#         plt.show()\n",
    "\n",
    "# ax.set_title(\"Linear regression showing proportional E and I\")\n",
    "# ax.set_xlabel(\"\")\n",
    "# ax.set_ylabel(\"\")\n",
    "# plt.legend(scatterPoints=sqrs, label=sqrs)\n"
   ]
  },
  {
   "cell_type": "markdown",
   "metadata": {},
   "source": [
    "## Figure 2 C (Example Cell)"
   ]
  },
  {
   "cell_type": "code",
   "execution_count": 53,
   "metadata": {},
   "outputs": [
    {
     "data": {
      "image/png": "[encoded data removed]",
      "text/plain": [
       "<matplotlib.figure.Figure at 0x7fbcef2d4690>"
      ]
     },
     "metadata": {},
     "output_type": "display_data"
    }
   ],
   "source": [
    "index = -4\n",
    "n = neurons[index]\n",
    "obs_exc, obs_inh = {}, {}\n",
    "exc_error, inh_error = {}, {}\n",
    "sqrs = []\n",
    "fig, ax = plt.subplots()\n",
    "# fig.suptitle(\"Representative cell {}, {}\".format(n.index,n.date), fontsize=18)\n",
    "for expType,expt in n:\n",
    "    for sqr in expt:\n",
    "        if (expType == 1):\n",
    "            sqrs.append(sqr)\n",
    "            for coord in expt[sqr].coordwise:\n",
    "                obs_exc[coord] = expt[sqr].coordwise[coord].average_feature[5]\n",
    "                exc_error[coord] = np.std([trial.feature[5] for trial in expt[sqr].coordwise[coord].trials], ddof = 1)\n",
    "        elif (expType == 2):\n",
    "            for coord in expt[sqr].coordwise:\n",
    "                obs_inh[coord] = expt[sqr].coordwise[coord].average_feature[0]\n",
    "                inh_error[coord] = np.std([trial.feature[0] for trial in expt[sqr].coordwise[coord].trials], ddof = 1)\n",
    "\n",
    "exc, inh = [], []\n",
    "for coord in set(obs_exc).intersection(set(obs_inh)):\n",
    "    exc.append(-obs_exc[coord]*scalingFactor)\n",
    "    inh.append(obs_inh[coord]*scalingFactor)\n",
    "    ax.errorbar(-obs_exc[coord]*scalingFactor, obs_inh[coord]*scalingFactor, xerr=exc_error[coord]*scalingFactor, yerr=inh_error[coord]*scalingFactor, c='k', fmt='.', alpha=0.5)\n",
    "\n",
    "slope, intercept, rval, pval, stderr = ss.linregress(exc, inh)\n",
    "\n",
    "excRange = np.linspace(0, 1.1*max(exc), 100)\n",
    "inhFit = excRange*slope + intercept\n",
    "\n",
    "ax.plot(excRange, inhFit, '--', c='k', label=\"slope {:.2f}, $r^2$ {:.2f}\".format(slope, rval**2))\n",
    "\n",
    "xlim_old = ax.get_xlim()\n",
    "ylim_old = ax.get_ylim()\n",
    "minlim, maxlim = min(xlim_old[0], ylim_old[0]), max(xlim_old[1], ylim_old[1])\n",
    "ax.plot((0,maxlim), (0,maxlim),'--', label=\"slope 1.0\")\n",
    "ax.set_xlim(0,maxlim)\n",
    "ax.set_ylim(0,maxlim)\n",
    "ax.set_xlabel(\"Excitation (pA)\")\n",
    "ax.set_ylabel(\"Inhibition (pA)\")\n",
    "fig.set_figheight(3)\n",
    "fig.set_figwidth(3)\n",
    "simpleaxis(ax)\n",
    "dump(fig,file('figures/fig2/2c.pkl','wb'))\n",
    "plt.legend(loc='lower right')\n",
    "plt.show()"
   ]
  },
  {
   "cell_type": "markdown",
   "metadata": {},
   "source": [
    "## Figures 2 D, E (Statistics)"
   ]
  },
  {
   "cell_type": "code",
   "execution_count": 57,
   "metadata": {},
   "outputs": [
    {
     "data": {
      "image/png": "[encoded data removed]",
      "text/plain": [
       "<matplotlib.figure.Figure at 0x7fbcec2b0ed0>"
      ]
     },
     "metadata": {},
     "output_type": "display_data"
    }
   ],
   "source": [
    "fig, ax = plt.subplots(1,2, sharey=True)\n",
    "\n",
    "ax[0].hist(r_squared)\n",
    "# ax[0].set_title(\"$r^2$ for linear regression\")\n",
    "ax[0].set_xlabel(\"r-squared\")\n",
    "ax[0].set_ylabel(\"# neurons\")\n",
    "ax[0].set_xlim((0,1))\n",
    "\n",
    "ax[1].hist(slopes)\n",
    "# ax[1].set_title(\"Different proportionality $P$ for E and I\")\n",
    "ax[1].set_xlabel(\"E/I Ratio (P)\")\n",
    "# ax[1].set_ylabel(\"Number of neurons\")\n",
    "ax[1].yaxis.set_visible(False)\n",
    "ax[1].set_xlim(xmin=0)\n",
    "fig.set_figheight(2)\n",
    "fig.set_figwidth(4)\n",
    "simpleaxis(ax)\n",
    "dump(fig,file('figures/fig2/2d.pkl','wb'))\n",
    "plt.show()"
   ]
  },
  {
   "cell_type": "code",
   "execution_count": 45,
   "metadata": {
    "scrolled": true
   },
   "outputs": [
    {
     "data": {
      "text/plain": [
       "(0.81958404798508211, 0.13179758506026718)"
      ]
     },
     "execution_count": 45,
     "metadata": {},
     "output_type": "execute_result"
    }
   ],
   "source": [
    "np.mean(r_squared), np.std(r_squared)"
   ]
  },
  {
   "cell_type": "markdown",
   "metadata": {},
   "source": [
    "## Figure 2 F: r-square and I/E changes with number of squares"
   ]
  },
  {
   "cell_type": "code",
   "execution_count": 60,
   "metadata": {},
   "outputs": [
    {
     "data": {
      "image/png": "[encoded data removed]",
      "text/plain": [
       "<matplotlib.figure.Figure at 0x7fbcec4d2950>"
      ]
     },
     "metadata": {},
     "output_type": "display_data"
    },
    {
     "data": {
      "image/png": "[encoded data removed]",
      "text/plain": [
       "<matplotlib.figure.Figure at 0x7fbcec338390>"
      ]
     },
     "metadata": {},
     "output_type": "display_data"
    }
   ],
   "source": [
    "r_squared = []\n",
    "slopes = []\n",
    "index = -1\n",
    "n = neurons[index]\n",
    "obs_exc, obs_inh = {}, {}\n",
    "sqrs = {}\n",
    "\n",
    "fig, ax = plt.subplots()\n",
    "# f.suptitle(\"Representative cell {}, {}\".format(n.index,n.date), fontsize=18)\n",
    "\n",
    "r_sqrs, slopes, sqrs = [], [], []\n",
    "\n",
    "for sqr in set(n.experiment[1]).intersection(set(n.experiment[2])):\n",
    "    exc, inh = [], []\n",
    "    exc_error, inh_error = [], []\n",
    "    for coord in set(n.experiment[1][sqr].coordwise).intersection(set(n.experiment[1][sqr].coordwise)):\n",
    "        exc.append(-n.experiment[1][sqr].coordwise[coord].average_feature[5]*scalingFactor)\n",
    "        inh.append(n.experiment[2][sqr].coordwise[coord].average_feature[0]*scalingFactor)\n",
    "        exc_error.append(np.std([trial.feature[5] for trial in n.experiment[1][sqr].coordwise[coord].trials], ddof = 1)*scalingFactor)\n",
    "        inh_error.append(np.std([trial.feature[0] for trial in n.experiment[2][sqr].coordwise[coord].trials], ddof = 1)*scalingFactor)\n",
    "    ax.scatter(exc, inh, c=color_sqr[sqr], s=5, label=sqr)\n",
    "    #ax[0].errorbar(exc, inh, xerr=exc_error, yerr=inh_error, c='k', fmt='.', alpha=0.1)\n",
    "\n",
    "    slope, intercept, rval, pval, stderr = ss.linregress(exc, inh)\n",
    "\n",
    "    excRange = np.linspace(0.9*min(exc), 1.1*max(exc), 100)\n",
    "    inhFit = excRange*slope + intercept\n",
    "\n",
    "    ax.plot(excRange, inhFit, '--', c=color_sqr[sqr])\n",
    "    sqrs.append(sqr)\n",
    "    slopes.append(slope)\n",
    "    r_sqrs.append(rval**2)\n",
    "\n",
    "xlim_old = ax.get_xlim()\n",
    "ylim_old = ax.get_ylim()\n",
    "minlim, maxlim = min(xlim_old[0], ylim_old[0]), max(xlim_old[1], ylim_old[1])\n",
    "ax.plot((0,maxlim), (0,maxlim),'--', label=\"P=1\")\n",
    "ax.set_xlim(0,maxlim)\n",
    "ax.set_ylim(0,maxlim)\n",
    "ax.set_title(\"Linear regression showing proportional E and I\")\n",
    "ax.set_xlabel(\"Excitation (pA)\")\n",
    "ax.set_ylabel(\"Inhibition (pA)\")\n",
    "ax.legend(loc='lower right')\n",
    "fig.set_figheight(2)\n",
    "fig.set_figwidth(2)\n",
    "simpleaxis(ax)\n",
    "dump(fig,file('figures/fig2/2f1.pkl','wb'))\n",
    "plt.show()\n",
    "\n",
    "fig, ax = plt.subplots()\n",
    "line1 = ax.plot(sqrs, r_sqrs, label=\"$R^2$ values\",c='b')\n",
    "ax.set_ylim((0,1))\n",
    "ax.xaxis.set_ticks([1,3,5,7,9])\n",
    "ax_copy = ax.twinx()\n",
    "line2 = ax_copy.plot(sqrs, slopes, label=\"slopes\",c='r')\n",
    "ax.set_title(\"Different number of squares show consistent EI ratios\")\n",
    "ax.set_xlabel(\"# squares\")\n",
    "ax.set_ylabel(\"$R^2$ values\")\n",
    "ax_copy.set_ylim((0.1,10))\n",
    "ax_copy.set_ylabel(\"E/I Ratio (P)\")\n",
    "ax_copy.set_yscale(\"log\")\n",
    "\n",
    "lines = line1+line2\n",
    "labs = [l.get_label() for l in lines]\n",
    "ax.legend(lines, labs, loc=0)\n",
    "fig.set_figheight(2)\n",
    "fig.set_figwidth(2)\n",
    "simpleaxis(ax)\n",
    "simpleaxis(ax_copy,every=True)\n",
    "ax_copy.spines['right'].set_visible(True)\n",
    "ax_copy.get_yaxis().tick_right()\n",
    "\n",
    "dump(fig,file('figures/fig2/2f2.pkl','wb'))\n",
    "plt.show()"
   ]
  },
  {
   "cell_type": "markdown",
   "metadata": {},
   "source": [
    "    A. shows tight balance between tight balance between excitation and inhibition at the CA1 neuron. \n",
    "    B. shows r-square for linear regression showing high degree of correlation between E and I. \n",
    "    C. showing different proportionality P of all CA1 neurons."
   ]
  }
 ],
 "metadata": {
  "hide_input": false,
  "kernelspec": {
   "display_name": "Python 2",
   "language": "python",
   "name": "python2"
  },
  "language_info": {
   "codemirror_mode": {
    "name": "ipython",
    "version": 2
   },
   "file_extension": ".py",
   "mimetype": "text/x-python",
   "name": "python",
   "nbconvert_exporter": "python",
   "pygments_lexer": "ipython2",
   "version": "2.7.12"
  },
  "latex_envs": {
   "LaTeX_envs_menu_present": true,
   "autocomplete": true,
   "bibliofile": "biblio.bib",
   "cite_by": "apalike",
   "current_citInitial": 1,
   "eqLabelWithNumbers": true,
   "eqNumInitial": 1,
   "hotkeys": {
    "equation": "Ctrl-E",
    "itemize": "Ctrl-I"
   },
   "labels_anchors": false,
   "latex_user_defs": false,
   "report_style_numbering": false,
   "user_envs_cfg": false
  },
  "toc": {
   "colors": {
    "hover_highlight": "#DAA520",
    "navigate_num": "#000000",
    "navigate_text": "#333333",
    "running_highlight": "#FF0000",
    "selected_highlight": "#FFD700",
    "sidebar_border": "#EEEEEE",
    "wrapper_background": "#FFFFFF"
   },
   "moveMenuLeft": true,
   "nav_menu": {
    "height": "12px",
    "width": "252px"
   },
   "navigate_menu": true,
   "number_sections": true,
   "sideBar": true,
   "threshold": 4,
   "toc_cell": false,
   "toc_section_display": "block",
   "toc_window_display": true,
   "widenNotebook": false
  },
  "varInspector": {
   "cols": {
    "lenName": 16,
    "lenType": 16,
    "lenVar": 40
   },
   "kernels_config": {
    "python": {
     "delete_cmd_postfix": "",
     "delete_cmd_prefix": "del ",
     "library": "var_list.py",
     "varRefreshCmd": "print(var_dic_list())"
    },
    "r": {
     "delete_cmd_postfix": ") ",
     "delete_cmd_prefix": "rm(",
     "library": "var_list.r",
     "varRefreshCmd": "cat(var_dic_list()) "
    }
   },
   "types_to_exclude": [
    "module",
    "function",
    "builtin_function_or_method",
    "instance",
    "_Feature"
   ],
   "window_display": false
  }
 },
 "nbformat": 4,
 "nbformat_minor": 2
}
