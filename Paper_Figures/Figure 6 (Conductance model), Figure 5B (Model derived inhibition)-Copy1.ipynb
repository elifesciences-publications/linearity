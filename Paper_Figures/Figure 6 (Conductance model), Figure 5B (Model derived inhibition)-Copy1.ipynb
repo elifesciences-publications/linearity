{
 "cells": [
  {
   "cell_type": "markdown",
   "metadata": {},
   "source": [
    "# Figure 6"
   ]
  },
  {
   "cell_type": "code",
   "execution_count": 1,
   "metadata": {
    "collapsed": true
   },
   "outputs": [],
   "source": [
    "from sympy import symbols, exp, solve, logcombine, simplify, Piecewise, lambdify, N, init_printing, Eq\n",
    "import numpy\n",
    "import scipy.stats as ss\n",
    "from sympy.physics.units import seconds, siemens, volts, farads, amperes, milli, micro, nano, pico, ms, s, kg, meters\n",
    "from matplotlib import pyplot as plt\n",
    "import matplotlib\n",
    "from matplotlib.colors import LinearSegmentedColormap\n",
    "import matplotlib.patches as patches\n",
    "plt.style.use('neuron_color')\n",
    "import os\n",
    "import sys\n",
    "sys.path.append('../')\n",
    "from Linearity import Neuron\n",
    "import lmfit\n",
    "from pickle import dump"
   ]
  },
  {
   "cell_type": "code",
   "execution_count": 2,
   "metadata": {
    "collapsed": true
   },
   "outputs": [],
   "source": [
    "def simpleaxis(axes, every=False, outward=False, hideTitle=True):\n",
    "    if not isinstance(axes, (list, numpy.ndarray)):\n",
    "        axes = [axes]\n",
    "    for ax in axes:\n",
    "        ax.spines['top'].set_visible(False)\n",
    "        ax.spines['right'].set_visible(False)\n",
    "        if (outward):\n",
    "            ax.spines['bottom'].set_position(('outward', 10))\n",
    "            ax.spines['left'].set_position(('outward', 10))\n",
    "        if every:\n",
    "            ax.spines['bottom'].set_visible(False)\n",
    "            ax.spines['left'].set_visible(False)\n",
    "        ax.get_xaxis().tick_bottom()\n",
    "        ax.get_yaxis().tick_left()\n",
    "        if hideTitle:\n",
    "            ax.set_title('')"
   ]
  },
  {
   "cell_type": "code",
   "execution_count": 3,
   "metadata": {
    "collapsed": true
   },
   "outputs": [],
   "source": [
    "from IPython.display import display, Markdown, Image"
   ]
  },
  {
   "cell_type": "code",
   "execution_count": 4,
   "metadata": {
    "collapsed": true
   },
   "outputs": [],
   "source": [
    "init_printing()"
   ]
  },
  {
   "cell_type": "markdown",
   "metadata": {},
   "source": [
    "## 6 A Circuit diagram"
   ]
  },
  {
   "cell_type": "markdown",
   "metadata": {},
   "source": [
    "<img src=\"Fig_6_a.png\" alt=\"Drawing\" style=\"width: 800px;\"/>"
   ]
  },
  {
   "cell_type": "code",
   "execution_count": 5,
   "metadata": {
    "collapsed": true
   },
   "outputs": [],
   "source": [
    "prefix = '/home/bhalla/Documents/Codes/data'"
   ]
  },
  {
   "cell_type": "markdown",
   "metadata": {},
   "source": [
    "## 6 B: Fitting voltage clamp data to get parameters"
   ]
  },
  {
   "cell_type": "code",
   "execution_count": 7,
   "metadata": {
    "collapsed": true
   },
   "outputs": [],
   "source": [
    "analysisFile = prefix + '/media/sahil/NCBS_Shares_BGStim/patch_data/170530/c1_EI/plots/c1_EI.pkl'\n",
    "plotDir = os.path.dirname(analysisFile)\n",
    "neuron = Neuron.load(analysisFile)"
   ]
  },
  {
   "cell_type": "markdown",
   "metadata": {},
   "source": [
    "$g(t) = \\bar{g}\\frac{( e^\\frac{\\delta_{onset} - t }{\\tau_{decay}} - e^\\frac{\\delta_{onset} - t }{\\tau_{rise}})}{- \\left(\\frac{\\tau_{rise}}{\\tau_{decay}}\\right)^{\\frac{\\tau_{decay}}{\\tau_{decay} - \\tau_{rise}}} + \\left(\\frac{\\tau_{rise}}{\\tau_{decay}}\\right)^{\\frac{\\tau_{rise}}{\\tau_{decay} - \\tau_{rise}}}}$"
   ]
  },
  {
   "cell_type": "code",
   "execution_count": 6,
   "metadata": {
    "collapsed": true
   },
   "outputs": [],
   "source": [
    "def fitFunctionToPSP(time, vector, t_0=0, g_max=0):\n",
    "    ''' Fits using lmfit '''\n",
    "\n",
    "    def _doubleExponentialFunction(t, t_0, tOn, tOff, g_max):\n",
    "        ''' Returns the shape of an EPSP as a double exponential function '''\n",
    "        tPeak = t_0 + float(((tOff * tOn)/(tOff-tOn)) * numpy.log(tOff/tOn))\n",
    "        A = 1./(numpy.exp(-(tPeak-t_0)/tOff) - numpy.exp(-(tPeak-t_0)/tOn))\n",
    "        g = [ g_max * A * (numpy.exp(-(t_point-t_0)/tOff) - numpy.exp(-(t_point-t_0)/tOn)) if  t_point >= t_0 else 0. for t_point in t]\n",
    "        return numpy.array(g)\n",
    "\n",
    "    model = lmfit.Model(_doubleExponentialFunction)\n",
    "    # Fixing values of variables from data\n",
    "    # Onset time\n",
    "    if not t_0:\n",
    "        model.set_param_hint('t_0', value =max(time)/10., min=0., max = max(time))\n",
    "    else:\n",
    "        model.set_param_hint('t_0', value = t_0, vary=False)\n",
    "    # g_max \n",
    "    if not g_max:\n",
    "        model.set_param_hint('g_max', value = max(vector)/10., min = 0., max = max(vector))\n",
    "    else:\n",
    "        model.set_param_hint('g_max', value = g_max, vary=False)\n",
    "\n",
    "    model.set_param_hint('tOn', value =max(time)/5.1 , min = 0., max = max(time))\n",
    "    model.set_param_hint('t_ratio', value =10., min=1.05)\n",
    "    model.set_param_hint('tOff', min = 0., expr='tOn*t_ratio')\n",
    "    model.set_param_hint('t_peak', expr = 't_0 + ((tOff * tOn)/(tOff-tOn)) * log(tOff/tOn)')\n",
    "    pars = model.make_params()\n",
    "\n",
    "    result = model.fit(vector, pars, t=time)\n",
    "    # print (result.fit_report())\n",
    "    return result"
   ]
  },
  {
   "cell_type": "code",
   "execution_count": 9,
   "metadata": {},
   "outputs": [
    {
     "name": "stdout",
     "output_type": "stream",
     "text": [
      "[[Model]]\n",
      "    Model(_doubleExponentialFunction)\n",
      "[[Fit Statistics]]\n",
      "    # function evals   = 99\n",
      "    # data points      = 2000\n",
      "    # variables        = 4\n",
      "    chi-square         = 109634.871\n",
      "    reduced chi-square = 54.927\n",
      "    Akaike info crit   = 8016.017\n",
      "    Bayesian info crit = 8038.420\n",
      "[[Variables]]\n",
      "    t_0:       0.00702619 +/- 3.02e-05 (0.43%) (init= 0.009995)\n",
      "    tOn:       0.00681315 +/- 0.000118 (1.73%) (init= 0.01959804)\n",
      "    tOff:      0.01720850 +/- 0.000188 (1.09%)  == 'tOn*t_ratio'\n",
      "    g_max:     184.458128 +/- 0.461645 (0.25%) (init= 20.48352)\n",
      "    t_ratio:   2.52577659 +/- 0.069629 (2.76%) (init= 10)\n",
      "    t_peak:    0.01747629 +/- 8.94e-05 (0.51%)  == 't_0 + ((tOff * tOn)/(tOff-tOn)) * log(tOff/tOn)'\n",
      "[[Correlations]] (unreported correlations are <  0.100)\n",
      "    C(tOn, t_ratio)              = -0.985 \n",
      "    C(t_0, tOn)                  = -0.599 \n",
      "    C(t_0, t_ratio)              =  0.526 \n",
      "    C(t_0, g_max)                =  0.377 \n",
      "    C(tOn, g_max)                = -0.287 \n",
      "    C(g_max, t_ratio)            =  0.190 \n",
      "\n",
      "[[Model]]\n",
      "    Model(_doubleExponentialFunction)\n",
      "[[Fit Statistics]]\n",
      "    # function evals   = 83\n",
      "    # data points      = 2000\n",
      "    # variables        = 4\n",
      "    chi-square         = 212208.051\n",
      "    reduced chi-square = 106.317\n",
      "    Akaike info crit   = 9336.840\n",
      "    Bayesian info crit = 9359.244\n",
      "[[Variables]]\n",
      "    t_0:       0.00836846 +/- 2.06e-05 (0.25%) (init= 0.009995)\n",
      "    tOn:       0.00497443 +/- 4.20e-05 (0.84%) (init= 0.01959804)\n",
      "    tOff:      0.04184005 +/- 0.000148 (0.35%)  == 'tOn*t_ratio'\n",
      "    g_max:     400.602424 +/- 0.545731 (0.14%) (init= 40.78763)\n",
      "    t_ratio:   8.41100987 +/- 0.093905 (1.12%) (init= 10)\n",
      "    t_peak:    0.02039114 +/- 5.59e-05 (0.27%)  == 't_0 + ((tOff * tOn)/(tOff-tOn)) * log(tOff/tOn)'\n",
      "[[Correlations]] (unreported correlations are <  0.100)\n",
      "    C(tOn, t_ratio)              = -0.973 \n",
      "    C(t_0, tOn)                  = -0.667 \n",
      "    C(t_0, t_ratio)              =  0.589 \n",
      "    C(t_0, g_max)                =  0.337 \n",
      "    C(tOn, g_max)                = -0.262 \n",
      "    C(g_max, t_ratio)            =  0.112 \n",
      "\n"
     ]
    },
    {
     "data": {
      "image/png": "[encoded data removed]",
      "text/plain": [
       "<matplotlib.figure.Figure at 0x7faa398e4f50>"
      ]
     },
     "metadata": {},
     "output_type": "display_data"
    }
   ],
   "source": [
    "n = {key:value for key,value in neuron}\n",
    "for numSq in set(n[1]).intersection(set(n[2])):\n",
    "    for i in set(n[1][numSq].trial).intersection(set(n[2][numSq].trial)):\n",
    "        if i == 3 and numSq == 7:\n",
    "            exc = -1e9*n[1][numSq].trial[i].interestWindow\n",
    "            inh = 1e9*n[2][numSq].trial[i].interestWindow\n",
    "            time = numpy.arange(len(n[1][numSq].trial[i].interestWindow))*n[1][numSq].trial[i].samplingTime\n",
    "            exc_fit = fitFunctionToPSP(time, exc)\n",
    "            inh_fit = fitFunctionToPSP(time, inh)\n",
    "            print (exc_fit.fit_report())\n",
    "            print (inh_fit.fit_report())\n",
    "            fig,ax = plt.subplots() \n",
    "            ax.plot(time*1e3, exc, alpha=0.6, c='indigo')\n",
    "            ax.set_xlabel(\"Time (ms)\")\n",
    "            ax.set_ylabel(\"Current (pA)\")\n",
    "            ax.plot(time*1e3, exc_fit.best_fit, label=\"Excitation\", c='indigo')\n",
    "\n",
    "            ax.plot(time*1e3, -inh, alpha=0.6, c='k')\n",
    "            ax.plot(time*1e3, -inh_fit.best_fit, label=\"Inhibition\", c='k')\n",
    "            ax.annotate('Excitation', (50,100), (50,100), xycoords='data',color='indigo')\n",
    "            ax.annotate('Inhibition', (50,-300), (50,-300), xycoords='data',color='k')\n",
    "            fig.set_figwidth(1.5)\n",
    "            fig.set_figheight(1.5)\n",
    "            simpleaxis(ax)\n",
    "            dump(fig,file('figures/fig6/6b.pkl','wb'))\n",
    "            plt.show()"
   ]
  },
  {
   "cell_type": "code",
   "execution_count": 17,
   "metadata": {
    "collapsed": true
   },
   "outputs": [],
   "source": [
    "samplingRate = 20  # kHz, to get milliseconds\n",
    "sample_every = 10 # points\n",
    "timeStep, maxTime = (sample_every*1.)/ samplingRate, 100.  # ms\n",
    "trange = numpy.arange(\n",
    "    0., maxTime, timeStep)  # We will always use 100. ms timecourse of PSPs."
   ]
  },
  {
   "cell_type": "code",
   "execution_count": 48,
   "metadata": {
    "collapsed": true
   },
   "outputs": [],
   "source": [
    "#### Range of $g_e$ explored\n",
    "emin = 0.01\n",
    "emax = 3.\n",
    "e_step = 0.5\n",
    "erange = numpy.arange(emin, emax, e_step)\n",
    "#### Range of proportionality ($P$) between $E$ and $I$\n",
    "prop_array = numpy.arange(0, 6, 1)"
   ]
  },
  {
   "cell_type": "code",
   "execution_count": 8,
   "metadata": {
    "collapsed": true
   },
   "outputs": [],
   "source": [
    "## Setting up the variables, parameters and units for simulation\n",
    "t, P, e_r, e_d, delta_e, rho_e, g_e, i_r, i_d, delta_i, rho_i, g_i, b, Cm, g_L = symbols(\n",
    "    't P \\\\tau_{er} \\\\tau_{ed} \\\\delta_e \\\\rho_e \\\\bar{g}_e \\\\tau_{ir} \\\\tau_{id} \\\\delta_i \\\\rho_i \\\\bar{g}_i \\\\beta C_m \\\\bar{g}_L',\n",
    "    positive=True,\n",
    "    real=True)\n",
    "leak_rev, e_rev, i_rev, Vm = symbols(\n",
    "    'Leak_{rev} Exc_{rev} Inh_{rev} V_m', real=True)\n",
    "SymbolDict = {\n",
    "    t: \"Time (ms)\",\n",
    "    P: \"Proportion of $g_i/g_e$\",\n",
    "    e_r: \"Excitatory Rise (ms)\",\n",
    "    e_d: \"Excitatory Fall (ms)\",\n",
    "    delta_e: \"Excitatory onset time (ms)\",\n",
    "    rho_e: \"Excitatory $tau$ ratio (fall/rise)\",\n",
    "    g_e: \"Excitatory max conductance\",\n",
    "    i_r: \"Inhibitory Rise (ms)\",\n",
    "    i_d: \"Inhibitory Fall(ms)\",\n",
    "    delta_i: \"Inhibitory onset time(ms)\",\n",
    "    rho_i: \"Inhibitory $tau$ ratio (fall/rise)\",\n",
    "    g_i: \"Inhibitory max conductance\",\n",
    "    b: \"Inhibitory/Excitatory $tau$ rise ratio\"\n",
    "}\n",
    "unitsDict = {\n",
    "    's': seconds,\n",
    "    'exp': exp,\n",
    "    'S': siemens,\n",
    "    'V': volts,\n",
    "    'A': amperes,\n",
    "    'm': meters,\n",
    "    'kg': kg\n",
    "}  # This is for lamdify\n",
    "nS, pF, mV, pA = nano * siemens, pico * farads, milli * volts, pico*amperes\n",
    "### Estimates from data and averaging them to get a number\n",
    "estimateDict = {\n",
    "    P: (1,5),\n",
    "    #e_r: (1.5 * ms, 5 * ms),\n",
    "    #e_d: (8. * ms, 20. * ms),\n",
    "    e_r: (17. * ms, 17. * ms),\n",
    "    e_d: (18. * ms, 18. * ms),\n",
    "    delta_e: (0. * ms, 0. * ms),\n",
    "    rho_e: (2., 7.),\n",
    "    g_e: (0.02 * nS, 0.25 * nS),\n",
    "    #i_r: (1.5 * ms, 5. * ms),\n",
    "    #i_d: (14. * ms, 60. * ms),\n",
    "    i_r: (12. * ms, 12. * ms),\n",
    "    i_d: (49. * ms, 49. * ms),\n",
    "    delta_i: (2. * ms, 4. * ms),\n",
    "    rho_i: (5., 20.),\n",
    "    g_i: (0.04 * nS, 0.5 * nS),\n",
    "    b: (0.5, 5.)\n",
    "}\n",
    "averageEstimateDict = {\n",
    "    key: value[0] + value[1] / 2\n",
    "    for key, value in estimateDict.items()\n",
    "}\n",
    "\n",
    "### Approximating the rest from literature\n",
    "approximateDict = {\n",
    "    g_L: 10 * nS,\n",
    "    e_rev: 0. * mV,\n",
    "    i_rev: -70. * mV,\n",
    "    leak_rev: -65. * mV,\n",
    "    Cm: 100 * pF\n",
    "}\n",
    "sourceDict = {\n",
    "    g_L: \"None\",\n",
    "    e_rev: \"None\",\n",
    "    i_rev: \"None\",\n",
    "    leak_rev: \"None\",\n",
    "    Cm: \"Neuroelectro.org\"\n",
    "}"
   ]
  },
  {
   "cell_type": "markdown",
   "metadata": {},
   "source": [
    "| Variable  |  Meaning |  Range |\n",
    "|---|---|---|\n",
    "|$t$|Time (ms)|0-100|\n",
    "|$P$|Proportion of $g_i/g_e$|2-4|\n",
    "|$\\tau_{er}$|Excitatory Rise (ms)|1.5-5|\n",
    "|$\\tau_{ed}$|Excitatory Fall (ms)|8-20|\n",
    "|$\\delta_e$|Excitatory onset time (ms)|0-0|\n",
    "|$\\rho_e$|Excitatory $tau$ ratio (fall/rise)|2-7|\n",
    "|$\\bar{g}_e$|Excitatory max conductance|0.02-0.25|\n",
    "|$\\tau_{ir}$|Inhibitory Rise (ms)|1.5-5|\n",
    "|$\\tau_{id}$|Inhibitory Fall(ms)|14-60|\n",
    "|$\\delta_i$|Inhibitory onset time(ms)|3-15|\n",
    "|$\\rho_i$|Inhibitory $tau$ ratio (fall/rise)|5-20|\n",
    "|$\\bar{g}_i$|Inhibitory max conductance|0.04-0.5|\n",
    "|$\\beta$|Inhibitory/Excitatory $tau$ rise ratio|0.5-5|"
   ]
  },
  {
   "cell_type": "markdown",
   "metadata": {},
   "source": [
    "| Variable  |  Meaning | Source | Value |\n",
    "|---|---|---|\n",
    "|$g_L$|Leak conductance| Fernandos and White, J. Neuro. (2010) | 10 nS |\n",
    "|$Exc_{rev}$|Excitatory reversal|Calculated (Methods)| 0 mV|\n",
    "|$Inh_{rev}$|Inhibitory reversal |Calculated (Methods)| -70 mV |\n",
    "|$Leak_{rev}$|Leak reversal |Fernandos and White, J. Neuro. (2010)| -65 mV |\n",
    "|$C_m$|Membrane capacitance |neuroelectro.org| 100 pF|"
   ]
  },
  {
   "cell_type": "markdown",
   "metadata": {},
   "source": [
    "---"
   ]
  },
  {
   "cell_type": "code",
   "execution_count": 9,
   "metadata": {
    "collapsed": true
   },
   "outputs": [],
   "source": [
    "### Double exponential to explain the net synaptic conductance.\n",
    "alpha = exp(-(t - delta_e) / e_d) - exp(-(t - delta_e) / e_r)\n",
    "alpha_prime = alpha.diff(t)\n",
    "theta_e = solve(alpha_prime, t)  # Time to peak\n",
    "theta_e = logcombine(theta_e[0])\n",
    "simplify(theta_e.subs(averageEstimateDict))\n",
    "alpha_star = simplify(alpha.subs(t, theta_e).doit())\n",
    "\n",
    "### Finding maximum of the curve and substituting ratio of taus\n",
    "g_E = Piecewise((0. * nS, t / ms < delta_e / ms), (g_e * (alpha / alpha_star),\n",
    "                                                   True))\n",
    "### Final equation for Excitation normalized to be maximum at $g_e$\n",
    "\n",
    "### Doing the same with inhibition\n",
    "g_I = g_E.xreplace({\n",
    "    g_e: g_i,\n",
    "    rho_e: rho_i,\n",
    "    e_r: i_r,\n",
    "    e_d: i_d,\n",
    "    delta_e: delta_i\n",
    "})\n",
    "alpha_I = alpha.xreplace({e_r: i_r, e_d: i_d, delta_e: delta_i})\n",
    "alpha_star_I = alpha_star.xreplace({e_r: i_r, e_d: i_d})\n",
    "g_I = Piecewise((0. * nS, t / ms < delta_i / ms),\n",
    "                (g_i * (alpha_I / alpha_star_I), True))"
   ]
  },
  {
   "cell_type": "code",
   "execution_count": 10,
   "metadata": {
    "collapsed": true
   },
   "outputs": [],
   "source": [
    "### Now finding the control peak using difference of these double-exponentials\n",
    "compartment = Eq((1 / Cm) * (g_E * (Vm - e_rev) + g_I * (Vm - i_rev) + g_L *\n",
    "                             (Vm - leak_rev)), Vm.diff(t))\n",
    "Vm_t = solve(compartment, Vm, rational=False, simplify=True)\n",
    "check_vm_t = Vm_t[0].subs({ i: averageEstimateDict[i] for i in averageEstimateDict if i not in [g_e,g_i, P] }).subs(approximateDict).subs({ g_i: P * g_e })"
   ]
  },
  {
   "cell_type": "code",
   "execution_count": 11,
   "metadata": {
    "collapsed": true
   },
   "outputs": [],
   "source": [
    "f = lambdify((g_e, P, t), check_vm_t/mV, (unitsDict, \"numpy\"))"
   ]
  },
  {
   "cell_type": "markdown",
   "metadata": {},
   "source": [
    "## 6 C Divisive Inhibition: Inhibition proportional to Excitation, or $g_i = P \\times g_e$"
   ]
  },
  {
   "cell_type": "code",
   "execution_count": 109,
   "metadata": {},
   "outputs": [],
   "source": [
    "di_exc =  [[float(f(e * nS, 0., dt * ms)) for dt in trange] for e in erange]\n",
    "di_control = {prop: [[float(f(e * nS, prop, dt * ms)) for dt in trange] for e in erange] for prop in prop_array}"
   ]
  },
  {
   "cell_type": "code",
   "execution_count": 110,
   "metadata": {},
   "outputs": [
    {
     "data": {
      "image/png": "[encoded data removed]",
      "text/plain": [
       "<matplotlib.figure.Figure at 0x7f35869aa9d0>"
      ]
     },
     "metadata": {},
     "output_type": "display_data"
    },
    {
     "data": {
      "image/png": "[encoded data removed]",
      "text/plain": [
       "<matplotlib.figure.Figure at 0x7f35892a7510>"
      ]
     },
     "metadata": {},
     "output_type": "display_data"
    }
   ],
   "source": [
    "fig, ax = plt.subplots()\n",
    "# plt.style.context('neuron-color')\n",
    "handles, labels = [], []\n",
    "for prop in prop_array:\n",
    "    v_max, e_max = [], []\n",
    "    for con_trace,e_t in zip(di_control[prop], di_exc):\n",
    "        v_max.append(max(con_trace) - float(approximateDict[leak_rev]/mV))\n",
    "        e_max.append(max(e_t) - float(approximateDict[leak_rev]/mV))\n",
    "    handles.append(ax.scatter(e_max, v_max, s=10))\n",
    "    ax.plot(e_max, v_max, '--')\n",
    "    labels.append(\"$P= {}$\".format(prop))\n",
    "ax.set_xlabel(\"Excitation $V_{max}$\")\n",
    "ax.set_ylabel(\"Control  $V_{max}$\")\n",
    "# left, bottom, width, height = [0.25, 0.6, 0.2, 0.2]\n",
    "# ax2 = fig.add_axes([left, bottom, width, height])\n",
    "# for prop in prop_array:\n",
    "#     ax2.plot(trange, di_control[prop][5])\n",
    "#ax2.set_xlabel(\"Time\")\n",
    "#ax2.set_ylabel(\"Membrane potential (mV)\")\n",
    "# fig.legend(handles, labels, loc ='center right')\n",
    "fig.set_figwidth(1.5)\n",
    "fig.set_figheight(1.5)\n",
    "simpleaxis(ax)\n",
    "dump(fig,file('figures/fig6/6c.pkl','wb'))\n",
    "# ax.set_title(\"Divisive Inhibition\")\n",
    "plt.show()"
   ]
  },
  {
   "cell_type": "code",
   "execution_count": null,
   "metadata": {},
   "outputs": [],
   "source": [
    "fig, ax = plt.subplots()\n",
    "handles, labels = [], []\n",
    "for prop in prop_array:\n",
    "    ttp, e_max = [], []\n",
    "    for con_trace,e_t in zip(di_control[prop], di_exc):\n",
    "        ttp.append(numpy.argmax(con_trace))\n",
    "        e_max.append(max(e_t) - float(approximateDict[leak_rev]/mV))\n",
    "    handles.append(ax.scatter(e_max[1:], ttp[1:], s=10))\n",
    "    ax.plot(e_max[1:], ttp[1:], '--')\n",
    "    labels.append(\"$P= {}$\".format(prop))\n",
    "ax.set_xlabel(\"Excitation $V_{max}$\")\n",
    "ax.set_ylabel(\"Time to peak  $t_{peak}$\")\n",
    "ax.set_xlim(0,15)\n",
    "ax.set_ylim(0,55)\n",
    "# fig.legend(handles, labels, loc ='center right')\n",
    "fig.set_figwidth(1.5)\n",
    "fig.set_figheight(1.5)\n",
    "simpleaxis(ax)\n",
    "# dump(fig,file('figures/fig6/6g.pkl','wb'))\n",
    "plt.show()"
   ]
  },
  {
   "cell_type": "code",
   "execution_count": null,
   "metadata": {},
   "outputs": [],
   "source": [
    "handles, labels = [], []\n",
    "for prop in prop_array:\n",
    "    fig, ax = plt.subplots()\n",
    "    ttp, e_max = [], []\n",
    "    for con_trace,e_t in zip(di_control[prop], di_exc):\n",
    "        ax.plot(trange, con_trace,c='k')\n",
    "    fig.set_figwidth(12)\n",
    "    plt.show()\n"
   ]
  },
  {
   "cell_type": "code",
   "execution_count": null,
   "metadata": {},
   "outputs": [],
   "source": [
    "threshold = 5.5\n",
    "fig, ax = plt.subplots()\n",
    "handles, labels = [], []\n",
    "for prop in prop_array:\n",
    "    v_max, e_max, spk_t = [], [], []\n",
    "    for con_trace,e_t in zip(di_control[prop], di_exc):\n",
    "        v_max.append(max(con_trace) - float(approximateDict[leak_rev]/mV))\n",
    "        e_max.append(max(e_t) - float(approximateDict[leak_rev]/mV))\n",
    "        spiking = numpy.where((numpy.array(con_trace) - float(approximateDict[leak_rev]/mV)) > threshold)[0]\n",
    "        if len(spiking):\n",
    "            spk_t.append(spiking[0])\n",
    "        else:\n",
    "            spk_t.append(numpy.nan)\n",
    "#         print(numpy.where(e_t>threshold))\n",
    "    handles.append(ax.plot(erange, spk_t, '.-'))\n",
    "#     ax.plot(e_max, v_max, '--')\n",
    "    labels.append(\"$P= {}$\".format(prop))\n",
    "ax.set_xlabel(\"Excitation $V_{max}$\")\n",
    "ax.set_ylabel(\"Spike Time  $t_{sp}$\")\n",
    "# left, bottom, width, height = [0.25, 0.6, 0.2, 0.2]\n",
    "# ax2 = fig.add_axes([left, bottom, width, height])\n",
    "# for prop in prop_array:\n",
    "#     ax2.plot(trange, dn_control[prop][5])\n",
    "# ax.hlines(y=threshold, linestyle='--')\n",
    "#ax2.set_xlabel(\"Time\")\n",
    "#ax2.set_ylabel(\"Membrane potential (mV)\")\n",
    "# fig.legend(handles, labels, loc ='right')\n",
    "fig.set_figwidth(2)\n",
    "fig.set_figheight(2)\n",
    "simpleaxis(ax)\n",
    "#dump(fig,file('figures/fig6/6e.pkl','wb'))\n",
    "# ax.set_title(\"Divisive Normalization\", fontsize=18)\n",
    "plt.show()"
   ]
  },
  {
   "cell_type": "code",
   "execution_count": null,
   "metadata": {},
   "outputs": [],
   "source": [
    "print ( \"Constant $delta_i$ was {:.1f} ms\".format(averageEstimateDict[delta_i]/ms))"
   ]
  },
  {
   "cell_type": "markdown",
   "metadata": {},
   "source": [
    "6 DEF: Divisive Normalization: Inhibition proportional to Excitation, or $g_i = P \\times g_e$ and $\\delta_i$ inversely proportional to $g_e$"
   ]
  },
  {
   "cell_type": "markdown",
   "metadata": {},
   "source": [
    "## 6 D Changing $\\delta_i$ = $\\delta_{min} + me^{-k\\times{g_e}}$"
   ]
  },
  {
   "cell_type": "code",
   "execution_count": 22,
   "metadata": {
    "collapsed": true
   },
   "outputs": [],
   "source": [
    "time_erange = numpy.linspace(0.01,4.,10)"
   ]
  },
  {
   "cell_type": "code",
   "execution_count": 86,
   "metadata": {
    "collapsed": true
   },
   "outputs": [],
   "source": [
    "d = lambda minDelay,k,e: minDelay + m*exp(-(k*e))\n",
    "nS = nano*siemens\n",
    "k, m, minDelay = 1.43/nS, 18.15*ms, 2.54*ms\n",
    "maxDelay = (minDelay + m)/ms"
   ]
  },
  {
   "cell_type": "code",
   "execution_count": 103,
   "metadata": {},
   "outputs": [],
   "source": [
    "d = lambda minDelay,k,e: minDelay + (k/e)\n",
    "nS = nano*siemens\n",
    "k, m, minDelay = 1.5*ms*nS, -1.13, 1.5*ms\n",
    "maxDelay = (minDelay + m)/ms"
   ]
  },
  {
   "cell_type": "code",
   "execution_count": 104,
   "metadata": {},
   "outputs": [
    {
     "data": {
      "image/png": "[encoded data removed]",
      "text/plain": [
       "<matplotlib.figure.Figure at 0x7f3586152850>"
      ]
     },
     "metadata": {},
     "output_type": "display_data"
    }
   ],
   "source": [
    "fig, ax = plt.subplots()\n",
    "ax.scatter(time_erange, [d(minDelay,k,e*nS)/ms for e in time_erange], s=40, facecolor='k', edgecolor='k')\n",
    "ax.set_xlabel(\"$g_{exc}$ (nS)\")\n",
    "ax.set_ylabel(\"$\\\\delta_i$ (ms)\")\n",
    "fig.set_figwidth(1.5)\n",
    "fig.set_figheight(1.5)\n",
    "ax.set_xlim(0,4.5)\n",
    "ax.set_ylim(0, 13 )\n",
    "ax.set_xticks(range(4))\n",
    "ax.set_yticks(range(0,13,2))\n",
    "simpleaxis(ax)\n",
    "dump(fig,file('figures/fig6/6d.pkl','wb'))\n",
    "plt.show()"
   ]
  },
  {
   "cell_type": "code",
   "execution_count": 105,
   "metadata": {
    "collapsed": true
   },
   "outputs": [],
   "source": [
    "check_vm = simplify(Vm_t[0].subs({i:averageEstimateDict[i] for i in averageEstimateDict if i not in [g_e, g_i, delta_i]}).subs(approximateDict).subs({g_i: P*g_e, delta_i: d(minDelay,k,g_e)}).evalf())\n",
    "f = lambdify((g_e, P, t), check_vm/mV, (unitsDict, \"numpy\"))"
   ]
  },
  {
   "cell_type": "code",
   "execution_count": 106,
   "metadata": {},
   "outputs": [],
   "source": [
    "dn_exc =  [[float(f(e * nS, 0., dt * ms)) for dt in trange] for e in erange]\n",
    "dn_control = {prop: [[float(f(e * nS, prop, dt * ms)) for dt in trange] for e in erange] for prop in prop_array}"
   ]
  },
  {
   "cell_type": "markdown",
   "metadata": {},
   "source": [
    "## 6 E Divisive Normalization "
   ]
  },
  {
   "cell_type": "code",
   "execution_count": 107,
   "metadata": {},
   "outputs": [
    {
     "data": {
      "image/png": "[encoded data removed]",
      "text/plain": [
       "<matplotlib.figure.Figure at 0x7f35894102d0>"
      ]
     },
     "metadata": {},
     "output_type": "display_data"
    }
   ],
   "source": [
    "fig, ax = plt.subplots()\n",
    "handles, labels = [], []\n",
    "for prop in prop_array:\n",
    "    v_max, e_max = [], []\n",
    "    for con_trace,e_t in zip(dn_control[prop], dn_exc):\n",
    "        v_max.append(max(con_trace) - float(approximateDict[leak_rev]/mV))\n",
    "        e_max.append(max(e_t) - float(approximateDict[leak_rev]/mV))\n",
    "    handles.append(ax.scatter(e_max, v_max, s=10))\n",
    "    ax.plot(e_max, v_max, '--')\n",
    "    labels.append(\"$P= {}$\".format(prop))\n",
    "ax.set_xlabel(\"Excitation $V_{max}$\")\n",
    "ax.set_ylabel(\"Control  $V_{max}$\")\n",
    "# left, bottom, width, height = [0.25, 0.6, 0.2, 0.2]\n",
    "# ax2 = fig.add_axes([left, bottom, width, height])\n",
    "# for prop in prop_array:\n",
    "#     ax2.plot(trange, dn_control[prop][5])\n",
    "#ax2.set_xlabel(\"Time\")\n",
    "#ax2.set_ylabel(\"Membrane potential (mV)\")\n",
    "# fig.legend(handles, labels, loc ='right')\n",
    "fig.set_figwidth(1.5)\n",
    "fig.set_figheight(1.5)\n",
    "simpleaxis(ax)\n",
    "dump(fig,file('figures/fig6/6e.pkl','wb'))\n",
    "# ax.set_title(\"Divisive Normalization\", fontsize=18)\n",
    "plt.show()"
   ]
  },
  {
   "cell_type": "markdown",
   "metadata": {},
   "source": [
    "### Synapses to threshold"
   ]
  },
  {
   "cell_type": "code",
   "execution_count": 43,
   "metadata": {},
   "outputs": [
    {
     "data": {
      "image/png": "[encoded data removed]",
      "text/plain": [
       "<matplotlib.figure.Figure at 0x7f9821578c50>"
      ]
     },
     "metadata": {},
     "output_type": "display_data"
    }
   ],
   "source": [
    "threshold = 5.5\n",
    "fig, ax = plt.subplots()\n",
    "handles, labels = [], []\n",
    "for prop in prop_array:\n",
    "    v_max, e_max, spk_t = [], [], []\n",
    "    for con_trace,e_t in zip(dn_control[prop], dn_exc):\n",
    "        v_max.append(max(con_trace) - float(approximateDict[leak_rev]/mV))\n",
    "        e_max.append(max(e_t) - float(approximateDict[leak_rev]/mV))\n",
    "        spiking = numpy.where((numpy.array(con_trace) - float(approximateDict[leak_rev]/mV)) > threshold)[0]\n",
    "        if len(spiking):\n",
    "            spk_t.append(spiking[0])\n",
    "        else:\n",
    "            spk_t.append(numpy.nan)\n",
    "#         print(numpy.where(e_t>threshold))\n",
    "    handles.append(ax.plot(erange, spk_t, '.-'))\n",
    "#     ax.plot(e_max, v_max, '--')\n",
    "    labels.append(\"$P= {}$\".format(prop))\n",
    "ax.set_xlabel(\"Excitation $V_{max}$\")\n",
    "ax.set_ylabel(\"Spike Time  $t_{sp}$\")\n",
    "# left, bottom, width, height = [0.25, 0.6, 0.2, 0.2]\n",
    "# ax2 = fig.add_axes([left, bottom, width, height])\n",
    "# for prop in prop_array:\n",
    "#     ax2.plot(trange, dn_control[prop][5])\n",
    "# ax.hlines(y=threshold, linestyle='--')\n",
    "#ax2.set_xlabel(\"Time\")\n",
    "#ax2.set_ylabel(\"Membrane potential (mV)\")\n",
    "# fig.legend(handles, labels, loc ='right')\n",
    "fig.set_figwidth(2)\n",
    "fig.set_figheight(2)\n",
    "simpleaxis(ax)\n",
    "#dump(fig,file('figures/fig6/6e.pkl','wb'))\n",
    "# ax.set_title(\"Divisive Normalization\", fontsize=18)\n",
    "plt.show()"
   ]
  },
  {
   "cell_type": "code",
   "execution_count": 44,
   "metadata": {},
   "outputs": [
    {
     "data": {
      "image/png": "[encoded data removed]",
      "text/plain": [
       "<matplotlib.figure.Figure at 0x7f982182a650>"
      ]
     },
     "metadata": {},
     "output_type": "display_data"
    }
   ],
   "source": [
    "fig, ax = plt.subplots()\n",
    "for prop in prop_array:\n",
    "    v_max, e_max = [], []\n",
    "    for con_trace,e_t in zip(dn_control[prop], dn_exc):\n",
    "        v_max.append(max(con_trace) - float(approximateDict[leak_rev]/mV))\n",
    "        e_max.append(max(e_t) - float(approximateDict[leak_rev]/mV))\n",
    "    e_max = numpy.array(e_max)\n",
    "    v_max = numpy.array(v_max)\n",
    "    handles.append(ax.scatter(erange, e_max/v_max, s=10))\n",
    "    ax.plot(erange, e_max/v_max, '--')\n",
    "ax.set_xlabel(\"Excitation $g_{exc}$\")\n",
    "ax.set_ylabel(\"Gain\")\n",
    "fig.set_figwidth(2)\n",
    "fig.set_figheight(2)\n",
    "simpleaxis(ax)\n",
    "plt.show()"
   ]
  },
  {
   "cell_type": "markdown",
   "metadata": {},
   "source": [
    "## 5 B Model subtraction scheme"
   ]
  },
  {
   "cell_type": "code",
   "execution_count": 45,
   "metadata": {},
   "outputs": [
    {
     "data": {
      "image/png": "[encoded data removed]",
      "text/plain": [
       "<matplotlib.figure.Figure at 0x7f982158a190>"
      ]
     },
     "metadata": {},
     "output_type": "display_data"
    }
   ],
   "source": [
    "fig, ax = plt.subplots()\n",
    "handles, labels = [], []\n",
    "prop = 4\n",
    "\n",
    "i_max, e_max = [], []\n",
    "trace_c, trace_e = numpy.array(dn_control[prop][-1]), numpy.array(dn_exc[-1])\n",
    "ax.plot(trange, trace_c, label=\"PSP\")\n",
    "ax.plot(trange, trace_e, label=\"EPSP\")\n",
    "trace_i =  float(approximateDict[leak_rev]/mV) + (trace_c - trace_e)\n",
    "ax.plot(trange, trace_i, label=\"Derived IPSP\")\n",
    "ax.set_xlabel(\"Time\")\n",
    "ax.set_ylabel(\"$V_m$\")\n",
    "fig.set_figwidth(3)\n",
    "fig.set_figheight(3)\n",
    "simpleaxis(ax)\n",
    "dump(fig,file('figures/fig5/5b.pkl','wb'))\n",
    "plt.legend()\n",
    "plt.show()"
   ]
  },
  {
   "cell_type": "markdown",
   "metadata": {},
   "source": [
    "## 6 F Excitation - Derived Inhibition plot"
   ]
  },
  {
   "cell_type": "code",
   "execution_count": 46,
   "metadata": {},
   "outputs": [
    {
     "data": {
      "image/png": "[encoded data removed]",
      "text/plain": [
       "<matplotlib.figure.Figure at 0x7f982170d610>"
      ]
     },
     "metadata": {},
     "output_type": "display_data"
    }
   ],
   "source": [
    "fig, ax = plt.subplots()\n",
    "handles, labels = [], []\n",
    "for prop in prop_array:\n",
    "    i_max, e_max = [], []\n",
    "    for con_trace,e_t in zip(dn_control[prop], dn_exc):\n",
    "        i_t = numpy.array(e_t) - numpy.array(con_trace)\n",
    "        i_max.append(numpy.max(i_t))\n",
    "#         i_max.append(max(e_t) - max(con_trace))\n",
    "        e_max.append(max(e_t) - float(approximateDict[leak_rev]/mV))\n",
    "    handles.append(ax.scatter(e_max, i_max, s=10))\n",
    "    ax.plot(e_max, i_max, '--')\n",
    "    labels.append(\"$P= {}$\".format(prop))\n",
    "ax.set_xlabel(\"Excitation $V_{max}$\")\n",
    "ax.set_ylabel(\"Derived Inhibition  $V_{max}$\")\n",
    "xlim = ax.get_xlim()\n",
    "ax.set_ylim (xlim)\n",
    "ax.plot(xlim, xlim, '--')\n",
    "# fig.legend(handles, labels, loc ='center right')\n",
    "fig.set_figwidth(1.5)\n",
    "fig.set_figheight(1.5)\n",
    "simpleaxis(ax)\n",
    "dump(fig,file('figures/fig6/6f.pkl','wb'))\n",
    "plt.show()"
   ]
  },
  {
   "cell_type": "markdown",
   "metadata": {},
   "source": [
    "## 6 G Time to peak"
   ]
  },
  {
   "cell_type": "code",
   "execution_count": 47,
   "metadata": {},
   "outputs": [
    {
     "data": {
      "image/png": "[encoded data removed]",
      "text/plain": [
       "<matplotlib.figure.Figure at 0x7f98215de890>"
      ]
     },
     "metadata": {},
     "output_type": "display_data"
    }
   ],
   "source": [
    "fig, ax = plt.subplots()\n",
    "handles, labels = [], []\n",
    "for prop in prop_array:\n",
    "    ttp, e_max = [], []\n",
    "    for con_trace,e_t in zip(dn_control[prop], dn_exc):\n",
    "        ttp.append(numpy.argmax(con_trace))\n",
    "        e_max.append(max(e_t) - float(approximateDict[leak_rev]/mV))\n",
    "    handles.append(ax.scatter(e_max[1:], ttp[1:], s=10))\n",
    "    ax.plot(e_max[1:], ttp[1:], '--')\n",
    "    labels.append(\"$P= {}$\".format(prop))\n",
    "ax.set_xlabel(\"Excitation $V_{max}$\")\n",
    "ax.set_ylabel(\"Time to peak  $t_{peak}$\")\n",
    "ax.set_xlim(0,15)\n",
    "ax.set_ylim(0,55)\n",
    "# fig.legend(handles, labels, loc ='center right')\n",
    "fig.set_figwidth(1.5)\n",
    "fig.set_figheight(1.5)\n",
    "simpleaxis(ax)\n",
    "dump(fig,file('figures/fig6/6g.pkl','wb'))\n",
    "plt.show()"
   ]
  },
  {
   "cell_type": "code",
   "execution_count": 57,
   "metadata": {},
   "outputs": [
    {
     "data": {
      "image/png": "[encoded data removed]",
      "text/plain": [
       "<matplotlib.figure.Figure at 0x7f9821862bd0>"
      ]
     },
     "metadata": {},
     "output_type": "display_data"
    },
    {
     "data": {
      "image/png": "[encoded data removed]",
      "text/plain": [
       "<matplotlib.figure.Figure at 0x7f982009ce90>"
      ]
     },
     "metadata": {},
     "output_type": "display_data"
    },
    {
     "data": {
      "image/png": "[encoded data removed]",
      "text/plain": [
       "<matplotlib.figure.Figure at 0x7f98200d9690>"
      ]
     },
     "metadata": {},
     "output_type": "display_data"
    },
    {
     "data": {
      "image/png": "[encoded data removed]",
      "text/plain": [
       "<matplotlib.figure.Figure at 0x7f9820120510>"
      ]
     },
     "metadata": {},
     "output_type": "display_data"
    },
    {
     "data": {
      "image/png": "[encoded data removed]",
      "text/plain": [
       "<matplotlib.figure.Figure at 0x7f981b6eb910>"
      ]
     },
     "metadata": {},
     "output_type": "display_data"
    },
    {
     "data": {
      "image/png": "[encoded data removed]",
      "text/plain": [
       "<matplotlib.figure.Figure at 0x7f982180bd10>"
      ]
     },
     "metadata": {},
     "output_type": "display_data"
    }
   ],
   "source": [
    "handles, labels = [], []\n",
    "for prop in prop_array:\n",
    "    fig, ax = plt.subplots()\n",
    "    ttp, e_max = [], []\n",
    "    for con_trace,e_t in zip(dn_control[prop], dn_exc):\n",
    "        ax.plot(trange, con_trace,c='k')\n",
    "    fig.set_figwidth(12)\n",
    "    plt.show()"
   ]
  },
  {
   "cell_type": "markdown",
   "metadata": {},
   "source": [
    "## 6 H Permutation of P"
   ]
  },
  {
   "cell_type": "code",
   "execution_count": 38,
   "metadata": {
    "collapsed": true
   },
   "outputs": [],
   "source": [
    "check_vm = simplify(Vm_t[0].subs({i:averageEstimateDict[i] for i in averageEstimateDict if i not in [g_e, g_i, delta_i]}).subs(approximateDict).subs({delta_i: d(minDelay,k,g_e)}).evalf())\n",
    "f = lambdify((g_e, g_i, t), check_vm/mV, (unitsDict, \"numpy\"))"
   ]
  },
  {
   "cell_type": "code",
   "execution_count": 39,
   "metadata": {
    "collapsed": true
   },
   "outputs": [],
   "source": [
    "p_perm_dn_exc =  [[float(f(e * nS, 0., dt * ms)) for dt in trange] for e in erange]\n",
    "p_perm_dn_control = {prop: [[float(f(e * nS, i * nS, dt * ms)) for dt in trange] for (e,i) in zip(erange, numpy.random.permutation(erange*prop))] for prop in prop_array}"
   ]
  },
  {
   "cell_type": "code",
   "execution_count": 40,
   "metadata": {},
   "outputs": [
    {
     "data": {
      "image/png": "[encoded data removed]",
      "text/plain": [
       "<matplotlib.figure.Figure at 0x7ff6b2d19fd0>"
      ]
     },
     "metadata": {},
     "output_type": "display_data"
    }
   ],
   "source": [
    "fig, ax = plt.subplots()\n",
    "handles, labels = [], []\n",
    "for prop in prop_array:\n",
    "    v_max, e_max = [], []\n",
    "    for con_trace,e_t in zip(p_perm_dn_control[prop], p_perm_dn_exc):\n",
    "        v_max.append(max(con_trace) - float(approximateDict[leak_rev]/mV))\n",
    "        e_max.append(max(e_t) - float(approximateDict[leak_rev]/mV))\n",
    "    handles.append(ax.scatter(e_max, v_max, s=10))\n",
    "    ax.plot(e_max, v_max, '--')\n",
    "    labels.append(\"$P= {}$\".format(prop))\n",
    "ax.set_xlabel(\"Excitation $V_{max}$\")\n",
    "ax.set_ylabel(\"Control  $V_{max}$\")\n",
    "# left, bottom, width, height = [0.25, 0.6, 0.2, 0.2]\n",
    "# ax2 = fig.add_axes([left, bottom, width, height])\n",
    "# for prop in prop_array:\n",
    "#     ax2.plot(trange, p_perm_dn_control[prop][5])\n",
    "#ax2.set_xlabel(\"Time\")\n",
    "#ax2.set_ylabel(\"Membrane potential (mV)\")\n",
    "# fig.legend(handles, labels, loc ='center right')\n",
    "fig.set_figwidth(1.5)\n",
    "fig.set_figheight(1.5)\n",
    "simpleaxis(ax)\n",
    "dump(fig,file('figures/fig6/6h.pkl','wb'))\n",
    "# ax.set_title(\"Divisive Normalization with E and I balance permuted\", fontsize=18)\n",
    "plt.show()"
   ]
  },
  {
   "cell_type": "markdown",
   "metadata": {},
   "source": [
    "## 6 I Permutation of $\\delta_i$"
   ]
  },
  {
   "cell_type": "code",
   "execution_count": 41,
   "metadata": {
    "collapsed": true
   },
   "outputs": [],
   "source": [
    "check_vm = simplify(Vm_t[0].subs({i:averageEstimateDict[i] for i in averageEstimateDict if i not in [g_e, g_i, delta_i]}).subs(approximateDict).subs({g_i: P*g_e}).evalf())\n",
    "f = lambdify((g_e, P, delta_i, t), check_vm/mV, (unitsDict, \"numpy\"))"
   ]
  },
  {
   "cell_type": "code",
   "execution_count": 42,
   "metadata": {
    "collapsed": true
   },
   "outputs": [],
   "source": [
    "d_perm_dn_exc =  [[float(f(e * nS, 0., d(minDelay,k, e* nS), dt * ms)) for dt in trange] for e in erange]\n",
    "d_perm_dn_control = {prop: [[float(f(e * nS, prop, delay, dt * ms)) for dt in trange] for e,delay in zip(erange, numpy.random.permutation([d(minDelay,k, e* nS) for e in erange])) ] for prop in prop_array}"
   ]
  },
  {
   "cell_type": "code",
   "execution_count": 43,
   "metadata": {
    "scrolled": false
   },
   "outputs": [
    {
     "data": {
      "image/png": "[encoded data removed]",
      "text/plain": [
       "<matplotlib.figure.Figure at 0x7ff6b01c5190>"
      ]
     },
     "metadata": {},
     "output_type": "display_data"
    }
   ],
   "source": [
    "fig, ax = plt.subplots()\n",
    "handles, labels = [], []\n",
    "for prop in prop_array:\n",
    "    v_max, e_max = [], []\n",
    "    for con_trace,e_t in zip(d_perm_dn_control[prop], d_perm_dn_exc):\n",
    "        v_max.append(max(con_trace) - float(approximateDict[leak_rev]/mV))\n",
    "        e_max.append(max(e_t) - float(approximateDict[leak_rev]/mV))\n",
    "    handles.append(ax.scatter(e_max, v_max, s=10))\n",
    "    ax.plot(e_max, v_max, '--')\n",
    "    labels.append(\"$P= {}$\".format(prop))\n",
    "ax.set_xlabel(\"Excitation $V_{max}$\")\n",
    "ax.set_ylabel(\"Control  $V_{max}$\")\n",
    "# left, bottom, width, height = [0.25, 0.6, 0.2, 0.2]\n",
    "# ax2 = fig.add_axes([left, bottom, width, height])\n",
    "# for prop in prop_array:\n",
    "#     ax2.plot(trange, d_perm_dn_control[prop][5])\n",
    "# fig.legend(handles, labels, loc ='center right')\n",
    "fig.set_figwidth(1.5)\n",
    "fig.set_figheight(1.5)\n",
    "simpleaxis(ax)\n",
    "dump(fig,file('figures/fig6/6i.pkl','wb'))\n",
    "# ax.set_title(\"Divisive Normalization\", fontsize=18)\n",
    "plt.show()"
   ]
  },
  {
   "cell_type": "markdown",
   "metadata": {},
   "source": [
    "## 6 J Phase plot Divisive Normalization"
   ]
  },
  {
   "cell_type": "code",
   "execution_count": 44,
   "metadata": {
    "collapsed": true
   },
   "outputs": [],
   "source": [
    "import lmfit\n",
    "def DN_model(x,a=1):\n",
    "    # Divisive normalization model\n",
    "    return (a*x)/(x+a)\n",
    "DN_Model = lmfit.Model(DN_model)"
   ]
  },
  {
   "cell_type": "code",
   "execution_count": 45,
   "metadata": {
    "collapsed": true
   },
   "outputs": [],
   "source": [
    "check_vm = simplify(Vm_t[0].subs({i:averageEstimateDict[i] for i in averageEstimateDict if i not in [g_e, g_i, delta_i]}).subs(approximateDict).subs({g_i: P*g_e}).evalf())\n",
    "f = lambdify((g_e, P, delta_i, t), check_vm/mV, (unitsDict, \"numpy\"))"
   ]
  },
  {
   "cell_type": "code",
   "execution_count": 46,
   "metadata": {
    "collapsed": true
   },
   "outputs": [],
   "source": [
    "inhib = simplify(Vm_t[0].subs({i:averageEstimateDict[i] for i in averageEstimateDict if i not in [g_e, g_i, delta_i]}).subs(approximateDict).evalf())\n",
    "g = lambdify((g_e, g_i, delta_i, t), inhib/mV, (unitsDict, \"numpy\"))"
   ]
  },
  {
   "cell_type": "code",
   "execution_count": 47,
   "metadata": {
    "collapsed": true
   },
   "outputs": [],
   "source": [
    "phase_dn_control = {}\n",
    "phase_dn_exc = {}\n",
    "phase_dn_inh = {}\n",
    "\n",
    "# prop_array = numpy.logspace(-1,1,7)\n",
    "# k_array = numpy.logspace(-1,1,7)\n",
    "\n",
    "prop_array = numpy.linspace(0,6,7)\n",
    "k_array = numpy.linspace(0.,3.,7)"
   ]
  },
  {
   "cell_type": "code",
   "execution_count": 48,
   "metadata": {
    "collapsed": true
   },
   "outputs": [],
   "source": [
    "for k in k_array:\n",
    "    phase_dn_exc[k] = [[float(f(e * nS, 0., d(minDelay,k/nS, e* nS), dt * ms)) for dt in trange] for e in erange]\n",
    "    phase_dn_control[k] = {prop: [[float(f(e * nS, prop, delay, dt * ms)) for dt in trange] for e,delay in zip(erange, [d(minDelay,k/nS, e* nS) for e in erange]) ] for prop in prop_array}\n",
    "#     phase_dn_inh[k] = {prop: [[float(g(0 * nS, prop*e, delay, dt * ms)) for dt in trange] for e,delay in zip(erange, [d(minDelay,k/nS, e* nS) for e in erange]) ] for prop in prop_array}"
   ]
  },
  {
   "cell_type": "code",
   "execution_count": 49,
   "metadata": {
    "collapsed": true
   },
   "outputs": [],
   "source": [
    "phase_dn_inh = {}\n",
    "for k in k_array:\n",
    "    phase_dn_inh[k] = {prop: [[float(g(0 * nS, prop*e* nS, delay, dt * ms)) for dt in trange] for e,delay in zip(erange, [d(minDelay,k/nS, e* nS) for e in erange]) ] for prop in prop_array}"
   ]
  },
  {
   "cell_type": "code",
   "execution_count": 269,
   "metadata": {
    "scrolled": false
   },
   "outputs": [
    {
     "name": "stdout",
     "output_type": "stream",
     "text": [
      "Max gamma is 3354324684.12\n"
     ]
    },
    {
     "data": {
      "image/png": "[encoded data removed]",
      "text/plain": [
       "<matplotlib.figure.Figure at 0x7ff6ad774210>"
      ]
     },
     "metadata": {},
     "output_type": "display_data"
    }
   ],
   "source": [
    "phaseMat_init = numpy.zeros((len(k_array),len(prop_array)))\n",
    "\n",
    "for ind1, k in enumerate(k_array):\n",
    "    for ind2, prop in enumerate(prop_array):\n",
    "        v_max, e_max = [], []\n",
    "        for con_trace,e_t in zip(phase_dn_control[k][prop], phase_dn_exc[k]):\n",
    "            v_max.append(max(con_trace) - float(approximateDict[leak_rev]/mV))\n",
    "            e_max.append(max(e_t) - float(approximateDict[leak_rev]/mV))\n",
    "        X, y = e_max, v_max\n",
    "        DN_pars = DN_Model.make_params()\n",
    "        DN_result = DN_Model.fit(y, DN_pars, x=X)\n",
    "\n",
    "#         plt.plot(X, y, 'bo')\n",
    "#         plt.plot(X, DN_result.best_fit, 'r-')\n",
    "#         plt.xlim(0,1.2*max(e_max))\n",
    "#         plt.ylim(0,1.2*max(e_max))\n",
    "#         plt.show()\n",
    "        phaseMat_init[ind1][ind2] = DN_result.params['a']\n",
    "#         print(DN_result.fit_report())\n",
    "\n",
    "# x,y = numpy.meshgrid(prop_array, k_array)\n",
    "\n",
    "#cmap = LinearSegmentedColormap.from_list('gamma_purple', [(0.,'purple' ), (1., 'white')])\n",
    "cmap = matplotlib.cm.inferno_r\n",
    "cmap.set_bad(color='white')\n",
    "\n",
    "print (\"Max gamma is {}\".format(numpy.max(phaseMat_init)))\n",
    "gamma_cutOff = 40\n",
    "cutOffmask = numpy.ma.masked_where(phaseMat_init > gamma_cutOff, phaseMat_init)\n",
    "phaseMat = numpy.ma.masked_where(numpy.isnan(phaseMat_init), cutOffmask)\n",
    "\n",
    "vmax = numpy.nanmax(phaseMat)\n",
    "vmin = numpy.nanmin(phaseMat)\n",
    "\n",
    "fig, ax = plt.subplots()\n",
    "\n",
    "phaseMat \n",
    "#heatmap = ax.pcolormesh(phaseMat, norm=matplotlib.colors.LogNorm(vmin=vmin, vmax=vmax), cmap = cmap, edgecolor='k', linewidths=.05)\n",
    "heatmap = ax.pcolormesh(phaseMat, vmin=0, vmax=gamma_cutOff, cmap = cmap, edgecolor='k', linewidths=.05)\n",
    "# ax.grid(True, which='minor', axis='both', linestyle='--', alpha=0.1, color='k')\n",
    "\n",
    "ax.invert_yaxis()\n",
    "ticks = numpy.arange(0,len(prop_array),2)\n",
    "ax.xaxis.set_ticks(ticks+0.5)\n",
    "ax.yaxis.set_ticks(ticks+0.5)\n",
    "\n",
    "ax.yaxis.set(ticklabels=[\"{:.0f}\".format(j) for j in k_array[ticks]])\n",
    "ax.xaxis.set(ticklabels=[\"{:.0f}\".format(j) for j in prop_array[ticks]])\n",
    "\n",
    "\n",
    "# ax.axis([int(k_array.min()),int(k_array.max()),int(prop_array.min()),int(prop_array.max())])\n",
    "# for axis in [ax.xaxis, ax.yaxis]:\n",
    "#     axis.set_ticks([0,10,10], minor=True)\n",
    "#     axis.set(ticks=[0,10,10], ticklabels=numpy.linspace(0,10,10)) #Skipping square labels\n",
    "\n",
    "# ax.set_xlim((-1,1))\n",
    "# ax.set_ylim((-1,1))\n",
    "\n",
    "#Colorbar stuff\n",
    "cbar = plt.colorbar(heatmap, label = \"$\\\\gamma$\", ticks=[0,20,40])\n",
    "cbar.ax.get_yaxis().labelpad = 6\n",
    "# tick_locator = matplotlib.ticker.MaxNLocator(nbins=5)\n",
    "# cbar.locator = tick_locator\n",
    "# cbar.update_ticks()\n",
    "\n",
    "# ax.patch.set(hatch='xx', edgecolor='purple')\n",
    "\n",
    "simpleaxis(ax,every=True,outward=False)\n",
    "ax.set_aspect(1)\n",
    "fig.set_figwidth(2.)\n",
    "fig.set_figheight(2.)\n",
    "\n",
    "ax.set_ylabel(\"K\")\n",
    "ax.set_xlabel(\"I/E\")\n",
    "# ax.set_title(\"Divisive Normalization\", fontsize=18)\n",
    "\n",
    "dump(fig,file('figures/supplementary/11a.pkl','wb'))\n",
    "plt.show()"
   ]
  },
  {
   "cell_type": "code",
   "execution_count": 270,
   "metadata": {},
   "outputs": [
    {
     "name": "stdout",
     "output_type": "stream",
     "text": [
      "[ 0.   0.5  1.   1.5  2.   2.5  3. ]\n"
     ]
    }
   ],
   "source": [
    "print (k_array)"
   ]
  },
  {
   "cell_type": "markdown",
   "metadata": {},
   "source": [
    "### Delay plots"
   ]
  },
  {
   "cell_type": "code",
   "execution_count": 271,
   "metadata": {
    "collapsed": true
   },
   "outputs": [],
   "source": [
    "d = lambda minDelay,k,e: minDelay + m*exp(-(k*e))\n",
    "nS = nano*siemens\n",
    "m, minDelay = 18.15*ms, 2.54*ms\n",
    "maxDelay = (minDelay + m)/ms"
   ]
  },
  {
   "cell_type": "code",
   "execution_count": 272,
   "metadata": {},
   "outputs": [
    {
     "data": {
      "image/png": "[encoded data removed]",
      "text/plain": [
       "<matplotlib.figure.Figure at 0x7ff6afa7b810>"
      ]
     },
     "metadata": {},
     "output_type": "display_data"
    }
   ],
   "source": [
    "k_sample_indices = [1,3,5]\n",
    "fig, ax = plt.subplots(len(k_array[k_sample_indices]),1,sharey=True)\n",
    "for axis,k in zip(ax,k_array[k_sample_indices]):\n",
    "    axis.plot(time_erange, [d(minDelay,k/nS,e*nS)/ms for e in time_erange], '.-', c='k', markersize=5)\n",
    "    axis.set_xlim(0,4.5)\n",
    "    axis.set_ylim(0, 13 )\n",
    "    axis.set_xticks(range(4))\n",
    "    axis.set_yticks(range(0,13,6))\n",
    "    axis.set_title(\"k={}\".format(k))\n",
    "ax[0].set_ylabel(\"$\\\\delta_i$ (ms)\")\n",
    "ax[-1].set_xlabel(\"$g_{exc}$ (nS)\")\n",
    "simpleaxis(ax,hideTitle=False)\n",
    "fig.set_figwidth(1)\n",
    "fig.set_figheight(3)\n",
    "dump(fig,file('figures/supplementary/11b.pkl','wb'))\n",
    "plt.show()"
   ]
  },
  {
   "cell_type": "markdown",
   "metadata": {},
   "source": [
    "### I/E differences"
   ]
  },
  {
   "cell_type": "code",
   "execution_count": 273,
   "metadata": {},
   "outputs": [
    {
     "data": {
      "image/png": "[encoded data removed]",
      "text/plain": [
       "<matplotlib.figure.Figure at 0x7ff6b0466250>"
      ]
     },
     "metadata": {},
     "output_type": "display_data"
    }
   ],
   "source": [
    "ie_sample_indices = [1,3,6]\n",
    "fig, ax = plt.subplots(1,3,sharey=True)\n",
    "for axis,i_by_e in zip(ax, prop_array[ie_sample_indices]):\n",
    "    axis.plot(erange, i_by_e * erange, '.-', c='k', markersize=5)\n",
    "    axis.set_xlabel(\"$g_{exc}$ (nS)\")\n",
    "    axis.set_xlim(0,4.5)\n",
    "    axis.set_xticks(range(4))\n",
    "#     axis.set_yticks(range(0,13,2))\n",
    "#     axis.set_title(\"I/E={}\".format(i_by_e))\n",
    "ax[0].set_ylabel(\"$g_{inh}$ (nS)\")   \n",
    "simpleaxis(ax,hideTitle=False)\n",
    "fig.set_figwidth(3)\n",
    "fig.set_figheight(1)\n",
    "dump(fig,file('figures/supplementary/11c.pkl','wb'))\n",
    "plt.show()"
   ]
  },
  {
   "cell_type": "markdown",
   "metadata": {},
   "source": [
    "### DN traces for these values"
   ]
  },
  {
   "cell_type": "code",
   "execution_count": 286,
   "metadata": {},
   "outputs": [
    {
     "data": {
      "image/png": "[encoded data removed]",
      "text/plain": [
       "<matplotlib.figure.Figure at 0x7ff6af9a4a90>"
      ]
     },
     "metadata": {},
     "output_type": "display_data"
    }
   ],
   "source": [
    "fig, ax = plt.subplots(len(k_sample_indices), len(ie_sample_indices), sharex=True, sharey=True)\n",
    "sm = plt.cm.ScalarMappable(cmap=cmap, norm=plt.Normalize(vmin=0, vmax=gamma_cutOff))\n",
    "for ind1,k_index in enumerate(k_sample_indices):\n",
    "    for ind2,prop_index in enumerate(ie_sample_indices):\n",
    "        k, prop = k_array[k_index], prop_array[prop_index]\n",
    "        for trace in phase_dn_control[k][prop]:\n",
    "            if phaseMat[k_index][prop_index]:\n",
    "                ax[ind1][ind2].plot(trange, trace, c=sm.to_rgba(float(phaseMat[k_index][prop_index])), linewidth=1)\n",
    "            else:\n",
    "                ax[ind1][ind2].plot(trange, trace, c='k', linewidth=1)\n",
    "#         ax[ind1][ind2].set_title(\"K={},I/E={}\".format(k,prop))\n",
    "simpleaxis(fig.get_axes(),hideTitle=False)\n",
    "fig.set_figwidth(3)\n",
    "fig.set_figheight(3)\n",
    "dump(fig,file('figures/supplementary/11d.pkl','wb'))\n",
    "plt.show()"
   ]
  },
  {
   "cell_type": "markdown",
   "metadata": {},
   "source": [
    "### SDN curve for these values"
   ]
  },
  {
   "cell_type": "code",
   "execution_count": 275,
   "metadata": {},
   "outputs": [
    {
     "data": {
      "image/png": "[encoded data removed]",
      "text/plain": [
       "<matplotlib.figure.Figure at 0x7ff6ed5f02d0>"
      ]
     },
     "metadata": {},
     "output_type": "display_data"
    }
   ],
   "source": [
    "sm = plt.cm.ScalarMappable(cmap=cmap, norm=plt.Normalize(vmin=0, vmax=gamma_cutOff))\n",
    "fig, ax = plt.subplots(len(k_sample), len(ie_sample), sharex=True, sharey=True)\n",
    "for ind1,k_index in enumerate(k_sample_indices):\n",
    "    for ind2,prop_index in enumerate(ie_sample_indices):\n",
    "        k, prop = k_array[k_index], prop_array[prop_index]       \n",
    "        \n",
    "        obs_sdn = numpy.array([numpy.max(trace) for trace in phase_dn_control[k][prop]]) - float(approximateDict[leak_rev]/mV)\n",
    "        exp_sdn = numpy.array([numpy.max(trace) for trace in phase_dn_exc[k]])  - float(approximateDict[leak_rev]/mV)\n",
    "        \n",
    "        if phaseMat[k_index][prop_index]:\n",
    "            ax[ind1][ind2].plot(exp_sdn, obs_sdn, '.-', c=sm.to_rgba(float(phaseMat[k_index][prop_index])), markersize=5, linewidth=1)\n",
    "            ax[ind1][ind2].set_title(\"$\\gamma$ = \" + \"{:.2f}\".format(phaseMat_init[k_index][prop_index]))\n",
    "#             ax[ind1][ind2].set_title(\"K={}, I/E={}, \".format(k,prop) + \"$\\gamma$ = \" + \"{:.2e}\".format(phaseMat_init[k_index][prop_index]))\n",
    "        else:\n",
    "            ax[ind1][ind2].plot(exp_sdn, obs_sdn, '.-', c='k', markersize=5, linewidth=1)\n",
    "            #ax[ind1][ind2].set_title(\"$\\gamma$ > 40\")\n",
    "#             ax[ind1][ind2].set_title(\"K={}, I/E={}, \".format(k,prop) + \"$\\gamma$ = \" + \"{:.2e}\".format(phaseMat_init[k_index][prop_index]))\n",
    "\n",
    "\n",
    "#     if phaseMat[k_index][prop_index]:\n",
    "#             print (k_index, prop_index)\n",
    "#             ax[ind1][ind2].set_title(\"$\\gamma$ = \" + \"{:.2f}\".format(phaseMat_init[k_index][prop_index]))\n",
    "#         else:\n",
    "#             print (\"Didn't work, {},{}\".format(k_index, prop_index))\n",
    "#             ax[ind1][ind2].set_title(\"$\\gamma$ > 40\")\n",
    "simpleaxis(fig.get_axes(),hideTitle=False)\n",
    "fig.set_figwidth(3)\n",
    "fig.set_figheight(3)\n",
    "dump(fig,file('figures/supplementary/11e.pkl','wb'))\n",
    "plt.show()"
   ]
  },
  {
   "cell_type": "code",
   "execution_count": 276,
   "metadata": {},
   "outputs": [
    {
     "data": {
      "text/plain": [
       "(array([  1.42108547e-14,   3.09511844e+00,   5.90887286e+00,\n",
       "          8.47796161e+00,   1.08329669e+01,   1.29995778e+01]),\n",
       " array([  1.42108547e-14,   1.88185101e+00,   2.51450521e+00,\n",
       "          3.07378708e+00,   3.55554570e+00,   3.99203815e+00]))"
      ]
     },
     "execution_count": 276,
     "metadata": {},
     "output_type": "execute_result"
    }
   ],
   "source": [
    "exp_sdn, obs_sdn"
   ]
  },
  {
   "cell_type": "code",
   "execution_count": null,
   "metadata": {
    "collapsed": true
   },
   "outputs": [],
   "source": [
    "k = k_array[4]\n",
    "p = prop_array[4]\n",
    "\n",
    "numColors = 10\n",
    "cm = matplotlib.cm.viridis_r\n",
    "cgen = (cm(1.*i/numColors) for i in range(numColors))\n",
    "maxTime = 200\n",
    "\n",
    "fig, ax = plt.subplots()\n",
    "for con_trace,exc_trace,inh_trace in zip(phase_dn_control[k][prop][1:], phase_dn_exc[k][1:], phase_dn_inh[k][prop][1:]):\n",
    "    c = cgen.next()\n",
    "    ax.plot(con_trace[:maxTime], '-', linewidth=2, c=c)\n",
    "    ax.plot(exc_trace[:maxTime], '-', linewidth=2, c=c)\n",
    "    ax.plot( [-65 - (a - b) for a,b in zip(exc_trace[:maxTime],con_trace[:maxTime])], '-', linewidth=2, c=c)\n",
    "#     ax.plot(inh_trace[:maxTime], '-', linewidth=2, c=c)\n",
    "    ax.hlines(y=max(con_trace[:maxTime]), xmin=0, xmax=maxTime, linestyles='--')\n",
    "#     ax.hlines(y=max(con_trace[:maxTime]))\n",
    "simpleaxis(ax,every=True)\n",
    "fig.set_figheight(15)\n",
    "fig.set_figwidth(15)\n",
    "plt.show()"
   ]
  },
  {
   "cell_type": "code",
   "execution_count": null,
   "metadata": {
    "collapsed": true
   },
   "outputs": [],
   "source": [
    "fig, ax = plt.subplots()\n",
    "for inh_trace in phase_dn_inh[k][p]:\n",
    "    ax.plot(inh_trace)\n",
    "plt.show()"
   ]
  },
  {
   "cell_type": "code",
   "execution_count": null,
   "metadata": {
    "collapsed": true
   },
   "outputs": [],
   "source": [
    "len(phase_dn_inh[8])"
   ]
  },
  {
   "cell_type": "code",
   "execution_count": null,
   "metadata": {
    "collapsed": true
   },
   "outputs": [],
   "source": [
    "# for ind1, k in enumerate(k_array):\n",
    "#     for ind2, prop in enumerate(prop_array):\n",
    "#         v_max, e_max = [], []\n",
    "#         for con_trace,e_t in zip(phase_dn_control[k][prop], phase_dn_exc[k]):\n",
    "#             v_max.append(max(con_trace) - float(approximateDict[leak_rev]/mV))\n",
    "#             e_max.append(max(e_t) - float(approximateDict[leak_rev]/mV))\n",
    "#         X, y = e_max, v_max\n",
    "#         DN_pars = DN_Model.make_params()\n",
    "#         DN_result = DN_Model.fit(y, DN_pars, x=X)\n",
    "#         print (k, prop)\n",
    "#         print(DN_result.fit_report())\n",
    "#         f,ax = plt.subplots()\n",
    "#         DN_result.plot_fit(ax)\n",
    "#         plt.show()"
   ]
  },
  {
   "cell_type": "markdown",
   "metadata": {},
   "source": [
    "## 6 K $\\delta_i$ as a function of $g_e$"
   ]
  },
  {
   "cell_type": "code",
   "execution_count": 192,
   "metadata": {
    "collapsed": true
   },
   "outputs": [],
   "source": [
    "prefix = '/home/bhalla/Documents/Codes/data'\n",
    "n = Neuron.load(prefix + '/media/sahil/NCBS_Shares_BGStim/patch_data/170720/c5_EI/plots/c5_EI.pkl')"
   ]
  },
  {
   "cell_type": "code",
   "execution_count": 277,
   "metadata": {
    "collapsed": true
   },
   "outputs": [],
   "source": [
    "def delay_excitation(x, a=1., b=1., c=1.):\n",
    "    # Delay as a function of excitation\n",
    "#     return a + b*numpy.exp(-c*x)\n",
    "    return a+(x**b)"
   ]
  },
  {
   "cell_type": "code",
   "execution_count": 256,
   "metadata": {
    "collapsed": true
   },
   "outputs": [],
   "source": [
    "def findOnsetTime(trial, step=0.5, slide = 0.05, minOnset = 2., maxOnset = 50., initpValTolerance=1.0, pValMinTolerance = 0.1):\n",
    "    maxIndex = int(trial.F_sample*maxOnset*1e-3)\n",
    "    if expType == 1:\n",
    "        maxOnsetIndex = numpy.argmax(-trial.interestWindow[:maxIndex])\n",
    "    elif expType == 2:\n",
    "        maxOnsetIndex = numpy.argmax(trial.interestWindow[:maxIndex])\n",
    "    else:\n",
    "        maxOnsetIndex = numpy.argmax(trial.interestWindow[:maxIndex])\n",
    "    \n",
    "    window_size = len(trial.interestWindow)\n",
    "    step_size = int(trial.F_sample*step*1e-3)\n",
    "    \n",
    "    overlap =  int(trial.F_sample*slide*1e-3)\n",
    "    \n",
    "    index_right = maxOnsetIndex\n",
    "    index_left = index_right - step_size\n",
    "    minOnsetIndex = int(trial.F_sample*minOnset*1e-3)\n",
    "    \n",
    "    baseMean = numpy.mean(trial.interestWindow[:minOnsetIndex])\n",
    "    factor = 5\n",
    "    thresholdGradient = 0.01\n",
    "    pValTolerance = initpValTolerance\n",
    "\n",
    "    l_window = trial.interestWindow[:minOnsetIndex]\n",
    "    while (index_left>minOnset):\n",
    "        r_window = trial.interestWindow[index_left:index_right] #, trial.baselineWindow #trial.interestWindow[index_left - step_size:index_left]\n",
    "        stat, pVal = ss.ks_2samp(r_window, l_window)\n",
    "        if pVal>pValTolerance:\n",
    "            return float(index_right)/trial.F_sample\n",
    "\n",
    "        else:\n",
    "            index_left-=overlap\n",
    "            index_right-=overlap\n",
    "            if index_left<=minOnsetIndex:\n",
    "                pValTolerance/=2\n",
    "                if pValTolerance<pValMinTolerance:\n",
    "#                             print (\"Returning Nan\")\n",
    "                            return numpy.nan\n",
    "                else:\n",
    "                    index_right = maxOnsetIndex\n",
    "                    index_left = maxOnsetIndex - step_size"
   ]
  },
  {
   "cell_type": "code",
   "execution_count": 211,
   "metadata": {
    "collapsed": true
   },
   "outputs": [],
   "source": [
    "# avg_exc_onset = {}\n",
    "# avg_inh_onset = {}\n",
    "# avg_exc_max = {}\n",
    "# exc_onsets, inh_onsets = {}, {}\n",
    "# exc_max,inh_max = {}, {}\n",
    "# err_inh_onsets = {}\n",
    "# scalingFactor = 1e6\n",
    "# for expType, experiment in n:\n",
    "#     for sqr in experiment:\n",
    "#         for coord in experiment[sqr].coordwise:\n",
    "#             if expType == 1:\n",
    "#                 for trial in experiment[sqr].coordwise[coord].trials:\n",
    "#                     exc_onsets[(sqr,trial.index)] = findOnsetTime(trial)*1e3\n",
    "#                     exc_max[(sqr,trial.index)] = -trial.feature[5]*scalingFactor\n",
    "#                     #exp[sqr].coordwise[coord].average_feature[5]\n",
    "#             if expType == 2:\n",
    "#                 list_inh_onset = []\n",
    "#                 for trial in experiment[sqr].coordwise[coord].trials:\n",
    "#                     inh_onsets[(sqr,trial.index)] = findOnsetTime(trial)*1e3\n",
    "#                     list_inh_onset.append(inh_onsets[(sqr,trial.index)])\n",
    "#                     inh_max[(sqr,trial.index)] = trial.feature[0]*scalingFactor\n",
    "#                 avg_onset = numpy.nanmean([onset for onset in list_inh_onset if onset])\n",
    "#                 err_onset = numpy.nanstd([onset for onset in list_inh_onset if onset])\n",
    "#                 for trial in experiment[sqr].coordwise[coord].trials:\n",
    "#                     avg_inh_onset[(sqr,trial.index)] = avg_onset\n",
    "#                     err_inh_onsets[(sqr,trial.index)] = err_onset\n",
    "#print (avg_exc_max, avg_exc_onset, avg_inh_onset)"
   ]
  },
  {
   "cell_type": "code",
   "execution_count": 219,
   "metadata": {
    "collapsed": true
   },
   "outputs": [],
   "source": [
    "avg_exc_onset = {}\n",
    "avg_inh_onset = {}\n",
    "avg_exc_max = {}\n",
    "exc_onsets, inh_onsets = {}, {}\n",
    "exc_max,inh_max = {}, {}\n",
    "err_exc_onset, err_inh_onset = {}, {}\n",
    "scalingFactor = 1e6\n",
    "\n",
    "for expType, experiment in n:\n",
    "    for sqr in experiment:\n",
    "        for coord in experiment[sqr].coordwise:\n",
    "            if expType == 1:\n",
    "                list_exc_onset = []\n",
    "                list_exc_max = []\n",
    "                for trial in experiment[sqr].coordwise[coord].trials:\n",
    "                    onsetTime = findOnsetTime(trial)\n",
    "                    if onsetTime:\n",
    "                        exc_onsets[(sqr,trial.index)] = onsetTime*1e3\n",
    "                        list_exc_onset.append(exc_onsets[(sqr,trial.index)])\n",
    "                        list_exc_max.append(-trial.feature[5]*scalingFactor)\n",
    "                    #exp[sqr].coordwise[coord].average_feature[5]\n",
    "                avg_exc_onset[coord] = numpy.nanmean([onset for onset in list_exc_onset if onset])\n",
    "                err_exc_onset[coord] = numpy.nanstd([onset for onset in list_exc_onset if onset])\n",
    "                exc_max[coord] = numpy.nanmean([maxC for maxC in list_exc_max if maxC])\n",
    "#                 for trial in experiment[sqr].coordwise[coord].trials:\n",
    "#                     avg_exc_onset[(sqr,trial.index)] = avg_onset\n",
    "#                     err_exc_onsets[(sqr,trial.index)] = err_onset\n",
    "            if expType == 2:\n",
    "                list_inh_onset = []\n",
    "                for trial in experiment[sqr].coordwise[coord].trials:\n",
    "                    onsetTime = findOnsetTime(trial)\n",
    "                    if onsetTime:\n",
    "                        inh_onsets[(sqr,trial.index)] = onsetTime*1e3\n",
    "                        list_inh_onset.append(inh_onsets[(sqr,trial.index)])\n",
    "                        inh_max[(sqr,trial.index)] = trial.feature[0]*scalingFactor\n",
    "                avg_inh_onset[coord] = numpy.nanmean([onset for onset in list_inh_onset if onset])\n",
    "                err_inh_onset[coord] = numpy.nanstd([onset for onset in list_inh_onset if onset])\n",
    "#                 for trial in experiment[sqr].coordwise[coord].trials:\n",
    "#                     avg_inh_onset[(sqr,trial.index)] = avg_onset\n",
    "#                     err_inh_onsets[(sqr,trial.index)] = err_onset"
   ]
  },
  {
   "cell_type": "code",
   "execution_count": 220,
   "metadata": {
    "collapsed": true
   },
   "outputs": [],
   "source": [
    "delay, max_current = [], []\n",
    "del_err, max_err= [], []\n",
    "inhibOnset = []\n",
    "conductanceConversion = 70e-3\n",
    "for key in set(avg_exc_onset).intersection(set(avg_inh_onset)):\n",
    "    if avg_inh_onset[key] and avg_exc_onset[key]:\n",
    "        if not numpy.isnan(avg_inh_onset[key]) and not numpy.isnan (avg_exc_onset[key]) and not numpy.isnan (exc_max[key]):\n",
    "            delay.append(avg_inh_onset[key]- avg_exc_onset[key])\n",
    "            max_current.append(exc_max[key])\n",
    "#             del_err.append(err_inh_onset[key])\n",
    "            inhibOnset.append(avg_inh_onset[key])\n",
    "maxConductance = numpy.array(max_current)/conductanceConversion\n",
    "#         del_err.append()\n",
    "#         max_err.append()"
   ]
  },
  {
   "cell_type": "code",
   "execution_count": 234,
   "metadata": {
    "collapsed": true
   },
   "outputs": [],
   "source": [
    "delay_Model = lmfit.Model(delay_excitation)\n",
    "delay_pars = delay_Model.make_params()\n",
    "\n",
    "delay = numpy.array(delay)\n",
    "maxConductance = numpy.array(maxConductance)\n",
    "# print (delay_result.params)\n",
    "# print (delay_result.aic)\n",
    "# print (delay_result.redchi)"
   ]
  },
  {
   "cell_type": "code",
   "execution_count": 235,
   "metadata": {
    "collapsed": true
   },
   "outputs": [],
   "source": [
    "delay_result = delay_Model.fit(delay, delay_pars, x=maxConductance)"
   ]
  },
  {
   "cell_type": "code",
   "execution_count": 236,
   "metadata": {},
   "outputs": [
    {
     "data": {
      "image/png": "[encoded data removed]",
      "text/plain": [
       "<matplotlib.figure.Figure at 0x7faa3409e3d0>"
      ]
     },
     "metadata": {},
     "output_type": "display_data"
    }
   ],
   "source": [
    "fig, ax = plt.subplots()\n",
    "ax.scatter(maxConductance, delay)\n",
    "ax.set_ylim(0,)\n",
    "plt.show()"
   ]
  },
  {
   "cell_type": "code",
   "execution_count": 237,
   "metadata": {},
   "outputs": [
    {
     "data": {
      "image/png": "[encoded data removed]",
      "text/plain": [
       "<matplotlib.figure.Figure at 0x7faa3120d750>"
      ]
     },
     "metadata": {},
     "output_type": "display_data"
    },
    {
     "name": "stdout",
     "output_type": "stream",
     "text": [
      "2.06 + E^--0.98\n",
      "[[Model]]\n",
      "    Model(delay_excitation)\n",
      "[[Fit Statistics]]\n",
      "    # function evals   = 39\n",
      "    # data points      = 25\n",
      "    # variables        = 3\n",
      "    chi-square         = 104.590\n",
      "    reduced chi-square = 4.754\n",
      "    Akaike info crit   = 41.779\n",
      "    Bayesian info crit = 45.436\n",
      "[[Variables]]\n",
      "    a:   2.06465796 +/- 0        (0.00%) (init= 1)\n",
      "    c:   1          +/- 0        (0.00%) (init= 1)\n",
      "    b:  -0.98294230 +/- 0        (0.00%) (init= 1)\n",
      "\n"
     ]
    }
   ],
   "source": [
    "delay_result = delay_Model.fit(delay, delay_pars, x=maxConductance)\n",
    "fig, ax = plt.subplots()\n",
    "indices = numpy.argsort(maxConductance)\n",
    "ax.scatter(maxConductance[indices], delay[indices], s=30, facecolor='k', edgecolor='k')\n",
    "ax.plot(maxConductance[indices], delay_result.best_fit[indices], '-')\n",
    "# print(conductance_std, delay_std)\n",
    "# ax.errorbar(conductance_mean, delay_mean, xerr = conductance_std, yerr= delay_std, linestyle='',c='k')\n",
    "ax.set_xticks(range(4))\n",
    "ax.set_yticks(range(0,12,2))\n",
    "ax.set_xlim(0,4.5)\n",
    "ax.set_ylim(-3,12.5)\n",
    "ax.set_xlabel(\"$g_e$ (nS)\")\n",
    "ax.set_ylabel(\"$\\\\delta_i$ (ms)\")\n",
    "fig.set_figwidth(1.5)\n",
    "fig.set_figheight(1.5)\n",
    "simpleaxis(ax)\n",
    "# dump(fig,file('figures/fig6/6k.pkl','wb'))\n",
    "plt.show()\n",
    "# print (\"{:.2f} + {:.2f}e^-{:.2f}E\".format(delay_result.params['a'].value, delay_result.params['b'].value, delay_result.params['c'].value))\n",
    "print (\"{:.2f} + E^-{:.2f}\".format(delay_result.params['a'].value, delay_result.params['b'].value, delay_result.params['c'].value))\n",
    "print(delay_result.fit_report())"
   ]
  },
  {
   "cell_type": "markdown",
   "metadata": {},
   "source": [
    "### Binning delays here"
   ]
  },
  {
   "cell_type": "code",
   "execution_count": 155,
   "metadata": {},
   "outputs": [
    {
     "name": "stderr",
     "output_type": "stream",
     "text": [
      "/usr/local/lib/python2.7/dist-packages/ipykernel_launcher.py:3: RuntimeWarning: Mean of empty slice.\n",
      "  This is separate from the ipykernel package so we can avoid doing imports until\n",
      "/usr/local/lib/python2.7/dist-packages/ipykernel_launcher.py:4: RuntimeWarning: Mean of empty slice.\n",
      "  after removing the cwd from sys.path.\n"
     ]
    }
   ],
   "source": [
    "bins = numpy.linspace(0,max(maxConductance),6)\n",
    "digitized = numpy.digitize(maxConductance, bins)\n",
    "conductance_mean = [maxConductance[digitized == i].mean() for i in range(len(bins))]\n",
    "delay_mean = [delay[digitized == i].mean() for i in range(len(bins))]\n",
    "conductance_std = [maxConductance[digitized == i].std(ddof=1) for i in range(len(bins))]\n",
    "delay_std = [delay[digitized == i].std(ddof=1) for i in range(len(bins))]\n",
    "\n",
    "delay_mean, conductance_mean, delay_std, conductance_std = map(list, zip(*[ (d,c,sd,sc) for d,c,sd,sc in zip(delay_mean, conductance_mean, delay_std, conductance_std) if not any(numpy.isnan([d,c,sd,sc]))]))"
   ]
  },
  {
   "cell_type": "code",
   "execution_count": 156,
   "metadata": {
    "scrolled": true
   },
   "outputs": [
    {
     "name": "stdout",
     "output_type": "stream",
     "text": [
      "-1518.52 + 1520.00e^--0.00E\n"
     ]
    }
   ],
   "source": [
    "print (\"{:.2f} + {:.2f}e^-{:.2f}E\".format(delay_result.params['a'].value, delay_result.params['b'].value, delay_result.params['c'].value))"
   ]
  },
  {
   "cell_type": "code",
   "execution_count": 157,
   "metadata": {},
   "outputs": [
    {
     "name": "stdout",
     "output_type": "stream",
     "text": [
      "[0.14239052795104876, 0.17989683703719034, 0.18453625391578368, 0.16077057563100647, 0.063752321261663455] [8.4959024281581197, 1.7754673876037392, 2.1990954015952697, 0.80293005091767888, 0.34883934538536332]\n"
     ]
    },
    {
     "data": {
      "image/png": "[encoded data removed]",
      "text/plain": [
       "<matplotlib.figure.Figure at 0x7faa344e7d90>"
      ]
     },
     "metadata": {},
     "output_type": "display_data"
    },
    {
     "name": "stdout",
     "output_type": "stream",
     "text": [
      "-767.85 + 769.51e^--0.00E\n"
     ]
    }
   ],
   "source": [
    "delay_result = delay_Model.fit(delay_mean, delay_pars, x=conductance_mean)\n",
    "fig, ax = plt.subplots()\n",
    "ax.scatter(conductance_mean, delay_mean, s=30, facecolor='k', edgecolor='k')\n",
    "# ax.plot(conductance_mean, delay_result.best_fit, '-')\n",
    "print(conductance_std, delay_std)\n",
    "ax.errorbar(conductance_mean, delay_mean, xerr = conductance_std, yerr= delay_std, linestyle='',c='k')\n",
    "ax.set_xticks(range(4))\n",
    "ax.set_yticks(range(0,12,2))\n",
    "ax.set_xlim(0,4.5)\n",
    "ax.set_ylim(0,12.5)\n",
    "ax.set_xlabel(\"$g_e$ (nS)\")\n",
    "ax.set_ylabel(\"$\\\\delta_i$ (ms)\")\n",
    "fig.set_figwidth(1.5)\n",
    "fig.set_figheight(1.5)\n",
    "simpleaxis(ax)\n",
    "# dump(fig,file('figures/fig6/6k.pkl','wb'))\n",
    "plt.show()\n",
    "print (\"{:.2f} + {:.2f}e^-{:.2f}E\".format(delay_result.params['a'].value, delay_result.params['b'].value, delay_result.params['c'].value))"
   ]
  },
  {
   "cell_type": "code",
   "execution_count": null,
   "metadata": {
    "collapsed": true
   },
   "outputs": [],
   "source": [
    "delay_result = delay_Model.fit(delay, delay_pars, x=maxConductance)\n",
    "fig, ax = plt.subplots()\n",
    "ax.errorbar(numpy.array(maxConductance), numpy.array(delay), fmt ='o', markersize=2, alpha=0.4)\n",
    "#ax.scatter(numpy.array(maxConductance)*1e6, numpy.array(delay)*1e3)\n",
    "current_linspace= numpy.linspace(0,1.1*numpy.max(maxConductance))\n",
    "ax.plot(current_linspace, delay_result.eval(x=current_linspace), '-', label=\"${:.2f} + {:.2f} \\\\times e^{{-{:.2f} \\\\times E }}$\".format(delay_result.params['a'].value, delay_result.params['b'].value, delay_result.params['c'].value))\n",
    "\n",
    "ax.plot(1./(delay_result.params['c'].value), delay_result.eval(x=1./(delay_result.params['c'].value)), 'ko', markersize=2)\n",
    "xmin, xmax = ax.get_xlim()\n",
    "ax.hlines(y=0, xmin=xmin, xmax=xmax, linestyles='--', alpha=0.5)\n",
    "ax.hlines(y=delay_result.params['a'].value, xmin=xmin, xmax=xmax, linestyles='--', alpha=0.5)\n",
    "ax.set_xlabel(\"$g_{max}^{exc}$\")\n",
    "ax.set_ylabel(\"Delay $(\\\\delta_{inh})$\")\n",
    "\n",
    "ax.annotate(\"\",\n",
    "            xy=(xmax, 0.), xycoords='data',\n",
    "            xytext=(xmax, delay_result.params['a'].value), textcoords='data',\n",
    "            arrowprops=dict(arrowstyle=\"<->\",\n",
    "                            connectionstyle=\"arc3\"),\n",
    "            )\n",
    "ax.text(1.01*xmax, 1., \"$\\\\delta_{min}$\")\n",
    "\n",
    "ax.annotate(\"\",\n",
    "            xy=(0, 0), xycoords='data',\n",
    "            xytext=(0, delay_result.params['b'].value + delay_result.params['a'].value), textcoords='data',\n",
    "            arrowprops=dict(arrowstyle=\"<->\",\n",
    "                            connectionstyle=\"arc3\"),\n",
    "            )\n",
    "ax.text(xmin*1.5, 10., \"$\\\\delta_{max}$\")\n",
    "\n",
    "ax.annotate(\"\",\n",
    "            xy=(xmax, delay_result.params['a'].value), xycoords='data',\n",
    "            xytext=(xmax,  delay_result.params['b'].value + delay_result.params['a'].value), textcoords='data',\n",
    "            arrowprops=dict(arrowstyle=\"<->\",\n",
    "                            connectionstyle=\"arc3\"),\n",
    "            )\n",
    "ax.text(1.01*xmax, 10., \"$m$\")\n",
    "\n",
    "# ax.text(0.006, 6., \"$k$\")\n",
    "ax.set_xlim(xmax= xmax*1.1)\n",
    "simpleaxis(ax)\n",
    "plt.legend()\n",
    "fig.set_figwidth(6)\n",
    "fig.set_figheight(6)\n",
    "# dump(fig,file('figures/fig6/6k.pkl','wb'))\n",
    "plt.show()"
   ]
  },
  {
   "cell_type": "markdown",
   "metadata": {
    "collapsed": true
   },
   "source": [
    "### Over all EI cells"
   ]
  },
  {
   "cell_type": "code",
   "execution_count": 93,
   "metadata": {
    "collapsed": true
   },
   "outputs": [],
   "source": [
    "voltageClampFiles = '/media/sahil/NCBS_Shares_BGStim/patch_data/voltage_clamp_files.txt'"
   ]
  },
  {
   "cell_type": "code",
   "execution_count": 94,
   "metadata": {},
   "outputs": [
    {
     "ename": "IOError",
     "evalue": "[Errno 2] No such file or directory: '/media/sahil/NCBS_Shares_BGStim/patch_data/voltage_clamp_files.txt'",
     "output_type": "error",
     "traceback": [
      "\u001b[0;31m---------------------------------------------------------------------------\u001b[0m",
      "\u001b[0;31mIOError\u001b[0m                                   Traceback (most recent call last)",
      "\u001b[0;32m<ipython-input-94-befd8927fba6>\u001b[0m in \u001b[0;36m<module>\u001b[0;34m()\u001b[0m\n\u001b[0;32m----> 1\u001b[0;31m \u001b[0;32mwith\u001b[0m \u001b[0mopen\u001b[0m \u001b[0;34m(\u001b[0m\u001b[0mvoltageClampFiles\u001b[0m\u001b[0;34m,\u001b[0m\u001b[0;34m'r'\u001b[0m\u001b[0;34m)\u001b[0m \u001b[0;32mas\u001b[0m \u001b[0mr\u001b[0m\u001b[0;34m:\u001b[0m\u001b[0;34m\u001b[0m\u001b[0m\n\u001b[0m\u001b[1;32m      2\u001b[0m     \u001b[0mdirnames\u001b[0m \u001b[0;34m=\u001b[0m \u001b[0mr\u001b[0m\u001b[0;34m.\u001b[0m\u001b[0mread\u001b[0m\u001b[0;34m(\u001b[0m\u001b[0;34m)\u001b[0m\u001b[0;34m.\u001b[0m\u001b[0msplitlines\u001b[0m\u001b[0;34m(\u001b[0m\u001b[0;34m)\u001b[0m\u001b[0;34m\u001b[0m\u001b[0m\n",
      "\u001b[0;31mIOError\u001b[0m: [Errno 2] No such file or directory: '/media/sahil/NCBS_Shares_BGStim/patch_data/voltage_clamp_files.txt'"
     ]
    }
   ],
   "source": [
    "with open (voltageClampFiles,'r') as r:\n",
    "    dirnames = r.read().splitlines()"
   ]
  },
  {
   "cell_type": "code",
   "execution_count": 158,
   "metadata": {
    "collapsed": true
   },
   "outputs": [],
   "source": [
    "a = ['161220 c2_EI',\n",
    " '170510 c2_EI',\n",
    " '170524 c3_EI',\n",
    " '170524 c1_EI',\n",
    " '170530 c2_EI',\n",
    " '170530 c1_EI',\n",
    " '170531 c2_EI',\n",
    " '170531 c4_EI',\n",
    " '170531 c1_EI',\n",
    " '170720 c5_EI',\n",
    " '170720 c3_EI',\n",
    " '170720 c4_EI',\n",
    " '170720 c2_EI']\n",
    "dirnames = (['/home/bhalla/Documents/Codes/data/media/sahil/NCBS_Shares_BGStim/patch_data/' + '/'.join(j.split(' ')) + '/' for j in a])"
   ]
  },
  {
   "cell_type": "code",
   "execution_count": 159,
   "metadata": {
    "collapsed": true
   },
   "outputs": [],
   "source": [
    "#Colorscheme for cells\n",
    "color_cell = matplotlib.cm.plasma(numpy.linspace(0,1,len(dirnames)))"
   ]
  },
  {
   "cell_type": "code",
   "execution_count": 160,
   "metadata": {
    "collapsed": true
   },
   "outputs": [],
   "source": [
    "neurons = []\n",
    "for dirname in dirnames:\n",
    "    cellIndex = dirname.split('/')[-2]\n",
    "    filename = dirname + 'plots/' + cellIndex + '.pkl'\n",
    "    neurons.append(Neuron.load(filename))"
   ]
  },
  {
   "cell_type": "code",
   "execution_count": 257,
   "metadata": {},
   "outputs": [
    {
     "name": "stdout",
     "output_type": "stream",
     "text": [
      "Done 0\n",
      "Done 1\n",
      "Done 2\n",
      "Done 3\n",
      "Done 4\n",
      "Done 5\n",
      "Done 6\n",
      "Done 7\n"
     ]
    },
    {
     "name": "stderr",
     "output_type": "stream",
     "text": [
      "/usr/local/lib/python2.7/dist-packages/ipykernel_launcher.py:41: RuntimeWarning: Mean of empty slice\n",
      "/usr/local/lib/python2.7/dist-packages/numpy/lib/nanfunctions.py:1427: RuntimeWarning: Degrees of freedom <= 0 for slice.\n",
      "  keepdims=keepdims)\n"
     ]
    },
    {
     "name": "stdout",
     "output_type": "stream",
     "text": [
      "Done 8\n",
      "Done 9\n",
      "Done 10\n",
      "Done 11\n",
      "Done 12\n"
     ]
    }
   ],
   "source": [
    "all_delays = []\n",
    "all_conductances = []\n",
    "all_inh_conductances = []\n",
    "scalingFactor = 1e6\n",
    "for index, n in enumerate(neurons):\n",
    "    avg_exc_onset = {}\n",
    "    avg_inh_onset = {}\n",
    "    avg_exc_max = {}\n",
    "    exc_onsets, inh_onsets = {}, {}\n",
    "    exc_max,inh_max = {}, {}\n",
    "    err_exc_onset, err_inh_onset = {}, {}\n",
    "\n",
    "    for expType, experiment in n:\n",
    "        for sqr in experiment:\n",
    "            for coord in experiment[sqr].coordwise:\n",
    "                if expType == 1:\n",
    "                    list_exc_onset = []\n",
    "                    list_exc_max = []\n",
    "                    for trial in experiment[sqr].coordwise[coord].trials:\n",
    "                        onsetTime = findOnsetTime(trial)\n",
    "                        if onsetTime:\n",
    "                            exc_onsets[(sqr,trial.index)] = onsetTime*1e3\n",
    "                            list_exc_onset.append(exc_onsets[(sqr,trial.index)])\n",
    "                            list_exc_max.append(-trial.feature[5]*scalingFactor)\n",
    "                        #exp[sqr].coordwise[coord].average_feature[5]\n",
    "                    avg_exc_onset[coord] = numpy.nanmean([onset for onset in list_exc_onset if onset])\n",
    "                    err_exc_onset[coord] = numpy.nanstd([onset for onset in list_exc_onset if onset])\n",
    "                    exc_max[coord] = numpy.nanmean([maxC for maxC in list_exc_max if maxC])\n",
    "    #                 for trial in experiment[sqr].coordwise[coord].trials:\n",
    "    #                     avg_exc_onset[(sqr,trial.index)] = avg_onset\n",
    "    #                     err_exc_onsets[(sqr,trial.index)] = err_onset\n",
    "                if expType == 2:\n",
    "                    list_inh_onset = []\n",
    "                    list_inh_max = []\n",
    "                    for trial in experiment[sqr].coordwise[coord].trials:\n",
    "                        onsetTime = findOnsetTime(trial)\n",
    "                        if onsetTime:\n",
    "                            inh_onsets[(sqr,trial.index)] = onsetTime*1e3\n",
    "                            list_inh_onset.append(inh_onsets[(sqr,trial.index)])\n",
    "                            list_inh_max.append(trial.feature[0]*scalingFactor)\n",
    "                    avg_inh_onset[coord] = numpy.nanmean([onset for onset in list_inh_onset if onset])\n",
    "                    err_inh_onset[coord] = numpy.nanstd([onset for onset in list_inh_onset if onset])\n",
    "                    inh_max[coord] = numpy.nanmean([maxC for maxC in list_inh_max if maxC])\n",
    "\n",
    "    delay, max_conductance, max_inh_conductance = [], [], []\n",
    "    inhibOnset = []\n",
    "    conductanceConversion = 70e-3\n",
    "    for key in set(avg_exc_onset).intersection(set(avg_inh_onset)):\n",
    "        if avg_inh_onset[key] and avg_exc_onset[key]:\n",
    "            if not numpy.isnan(avg_inh_onset[key]) and not numpy.isnan (avg_exc_onset[key]) and not numpy.isnan (exc_max[key]) and not numpy.isnan (inh_max[key]):\n",
    "                delay.append(avg_inh_onset[key]- avg_exc_onset[key])\n",
    "                max_conductance.append(exc_max[key]/conductanceConversion)\n",
    "                max_inh_conductance.append(inh_max[key]/conductanceConversion)\n",
    "    all_delays.append(delay)\n",
    "    all_conductances.append(max_conductance)\n",
    "    all_inh_conductances.append(max_inh_conductance)\n",
    "    print (\"Done {}\".format(index))"
   ]
  },
  {
   "cell_type": "code",
   "execution_count": null,
   "metadata": {
    "collapsed": true
   },
   "outputs": [],
   "source": [
    "# all_delays = []\n",
    "# all_conductances = []\n",
    "# all_inh_conductances = []\n",
    "# scalingFactor = 1e6\n",
    "# for index, n in enumerate(neurons):\n",
    "#     avg_exc_onset = {}\n",
    "#     avg_inh_onset = {}\n",
    "#     avg_exc_max = {}\n",
    "#     exc_onsets, inh_onsets = {}, {}\n",
    "#     exc_max,inh_max = {}, {}\n",
    "#     err_inh_onsets = {}\n",
    "#     for expType, experiment in n:\n",
    "#         for sqr in experiment:\n",
    "#             for coord in experiment[sqr].coordwise:\n",
    "#                 if expType == 1:\n",
    "#                     exc_onsets[(sqr,coord)] = []\n",
    "#                     exc_max[(sqr,coord)] = []\n",
    "#                     for trial in experiment[sqr].coordwise[coord].trials:\n",
    "#                         onsetTime = findOnsetTime(trial)\n",
    "#                         if onsetTime:\n",
    "#                             exc_onsets[(sqr,coord)].append(onsetTime*1e3)\n",
    "#                             exc_max[(sqr,coord)].append(-trial.feature[5]*scalingFactor)\n",
    "#                             #exp[sqr].coordwise[coord].average_feature[5]\n",
    "#                     exc_onsets[(sqr,coord)] = numpy.nanmean(exc_onsets[(sqr,coord)])\n",
    "#                     exc_max[(sqr,coord)] = numpy.nanmean(exc_max[(sqr,coord)])\n",
    "                        \n",
    "#                 if expType == 2:\n",
    "#                     inh_onsets[(sqr,coord)] = []\n",
    "#                     inh_max[(sqr,coord)] = []\n",
    "#                     #list_inh_onset = []\n",
    "#                     for trial in experiment[sqr].coordwise[coord].trials:\n",
    "#                         onsetTime = findOnsetTime(trial)\n",
    "#                         if onsetTime:\n",
    "#                             inh_onsets[(sqr,coord)].append(onsetTime*1e3)\n",
    "#                             #list_inh_onset.append(onsetTime*1e3)\n",
    "#                             inh_max[(sqr,coord)].append(trial.feature[0]*scalingFactor)\n",
    "#                     #avg_onset = numpy.nanmean([onset for onset in list_inh_onset if onset])\n",
    "#                     #err_onset = numpy.nanstd([onset for onset in list_inh_onset if onset])\n",
    "# #                     for trial in exp[sqr].coordwise[coord].trials:\n",
    "# #                         avg_inh_onset[(sqr,trial.index)] = avg_onset\n",
    "# #                         err_inh_onsets[(sqr,trial.index)] = err_onset\n",
    "#                     inh_onsets[(sqr,coord)] = numpy.nanmean(inh_onsets[(sqr,coord)])\n",
    "#                     inh_max[(sqr,coord)] = numpy.nanmean(inh_max[(sqr,coord)])\n",
    "                        \n",
    "#     delay, max_conductance, max_inh_conductance = [], [], []\n",
    "# #     del_err, max_err= [], []\n",
    "#     inhibOnset = []\n",
    "#     conductanceConversion = 70e-3\n",
    "#     for key in set(exc_onsets).intersection(set(inh_onsets)):\n",
    "#         if inh_onsets[key] and exc_onsets[key]:\n",
    "# #             print (\"Doing {}\".format(index))\n",
    "# #             print (inh_onsets[key], exc_onsets[key], exc_max[key])\n",
    "#             if not numpy.isnan(inh_onsets[key]) and not numpy.isnan (exc_onsets[key]) and not numpy.isnan (exc_max[key]) and not numpy.isnan (inh_max[key]):\n",
    "# #                 print (\"Delay is {}\".format(inh_onsets[key]- exc_onsets[key]))\n",
    "#                 delay.append(inh_onsets[key]- exc_onsets[key])\n",
    "#                 max_conductance.append(exc_max[key]/conductanceConversion)\n",
    "#                 max_inh_conductance.append(inh_max[key]/conductanceConversion)\n",
    "#     all_delays.append(delay)\n",
    "#     all_conductances.append(max_conductance)\n",
    "#     all_inh_conductances.append(max_inh_conductance)\n",
    "#     print (\"Done {}\".format(index))"
   ]
  },
  {
   "cell_type": "code",
   "execution_count": 111,
   "metadata": {
    "scrolled": false
   },
   "outputs": [
    {
     "ename": "NameError",
     "evalue": "name 'all_inh_conductances' is not defined",
     "output_type": "error",
     "traceback": [
      "\u001b[0;31m---------------------------------------------------------------------------\u001b[0m",
      "\u001b[0;31mNameError\u001b[0m                                 Traceback (most recent call last)",
      "\u001b[0;32m<ipython-input-111-f05332d8cb23>\u001b[0m in \u001b[0;36m<module>\u001b[0;34m()\u001b[0m\n\u001b[1;32m      2\u001b[0m \u001b[0mcmap\u001b[0m \u001b[0;34m=\u001b[0m \u001b[0mmatplotlib\u001b[0m\u001b[0;34m.\u001b[0m\u001b[0mcm\u001b[0m\u001b[0;34m.\u001b[0m\u001b[0mviridis\u001b[0m\u001b[0;34m\u001b[0m\u001b[0m\n\u001b[1;32m      3\u001b[0m \u001b[0;34m\u001b[0m\u001b[0m\n\u001b[0;32m----> 4\u001b[0;31m \u001b[0mcolors\u001b[0m \u001b[0;34m=\u001b[0m \u001b[0mmatplotlib\u001b[0m\u001b[0;34m.\u001b[0m\u001b[0mcm\u001b[0m\u001b[0;34m.\u001b[0m\u001b[0mviridis\u001b[0m\u001b[0;34m(\u001b[0m\u001b[0mnumpy\u001b[0m\u001b[0;34m.\u001b[0m\u001b[0mlinspace\u001b[0m\u001b[0;34m(\u001b[0m\u001b[0;36m0\u001b[0m\u001b[0;34m,\u001b[0m \u001b[0;36m1\u001b[0m\u001b[0;34m,\u001b[0m \u001b[0mlen\u001b[0m\u001b[0;34m(\u001b[0m\u001b[0mall_inh_conductances\u001b[0m\u001b[0;34m)\u001b[0m\u001b[0;34m)\u001b[0m\u001b[0;34m)\u001b[0m\u001b[0;34m\u001b[0m\u001b[0m\n\u001b[0m\u001b[1;32m      5\u001b[0m \u001b[0;34m\u001b[0m\u001b[0m\n\u001b[1;32m      6\u001b[0m \u001b[0;31m# norm = matplotlib.colors.Normalize(vmin=1, vmax=6)\u001b[0m\u001b[0;34m\u001b[0m\u001b[0;34m\u001b[0m\u001b[0m\n",
      "\u001b[0;31mNameError\u001b[0m: name 'all_inh_conductances' is not defined"
     ]
    }
   ],
   "source": [
    "fig, ax = plt.subplots()\n",
    "cmap = matplotlib.cm.viridis\n",
    "\n",
    "colors = matplotlib.cm.viridis(numpy.linspace(0, 1, len(all_inh_conductances)))\n",
    "\n",
    "# norm = matplotlib.colors.Normalize(vmin=1, vmax=6)\n",
    "slopeArr = []\n",
    "for i, (g, gi, d, c) in enumerate(zip(all_conductances, all_inh_conductances, all_delays, colors)):\n",
    "    g, gi, d = numpy.array(g), numpy.array(gi), numpy.array(d)\n",
    "    indices = numpy.argsort(g)\n",
    "    slope, intercept, rval, pvalue, err = ss.linregress(g[indices], gi[indices])\n",
    "    #cbar = ax.scatter(g,d, c= [slope]*len(g), s= 10, cmap='viridis', vmin=1.5, vmax=3.2)\n",
    "    slope, intercept, lowConf, upperConf = ss.mstats.theilslopes(x=gi[indices], y=d[indices])\n",
    "    #slope, intercept, rval, pvalue, err = ss.linregress(g[indices], d[indices])\n",
    "    cbar = ax.scatter(gi,d, s=8, c=c, alpha=0.4, cmap='viridis')\n",
    "    ax.plot(gi, slope*gi + intercept,c=c)\n",
    "    slopeArr.append(slope)\n",
    "    \n",
    "flattened_g = numpy.array([g for sublist in all_conductances for g in sublist])\n",
    "flattened_d = numpy.array([d for sublist in all_delays for d in sublist])\n",
    "\n",
    "ax.set_xlabel(\"$g_e$  (nS)\")\n",
    "ax.set_ylabel(\"$\\\\delta_i$ (ms)\")\n",
    "# plt.colorbar(cbar)\n",
    "ax.set_ylim(ymin=-5)\n",
    "simpleaxis(ax)\n",
    "fig.set_figwidth(4.5)\n",
    "fig.set_figheight(4.5)\n",
    "dump(fig,file('figures/fig6/6l_1.pkl','wb'))\n",
    "plt.show()"
   ]
  },
  {
   "cell_type": "code",
   "execution_count": 182,
   "metadata": {},
   "outputs": [
    {
     "name": "stdout",
     "output_type": "stream",
     "text": [
      "[-3.         -2.72916667 -2.45833333 -2.1875     -1.91666667 -1.64583333\n",
      " -1.375      -1.10416667 -0.83333333 -0.5625     -0.29166667 -0.02083333\n",
      "  0.25      ]\n"
     ]
    },
    {
     "data": {
      "image/png": "[encoded data removed]",
      "text/plain": [
       "<matplotlib.figure.Figure at 0x7faa31e4e650>"
      ]
     },
     "metadata": {},
     "output_type": "display_data"
    }
   ],
   "source": [
    "fig, ax = plt.subplots()\n",
    "bins = numpy.linspace(-3,0.25,13)\n",
    "print(bins)\n",
    "ax.hist(slopeArr,bins=bins,color='k')\n",
    "ax.vlines(x=0,ymin=0,ymax=7.,color='r')\n",
    "simpleaxis(ax)\n",
    "fig.set_figwidth(1.5)\n",
    "fig.set_figheight(1.5)\n",
    "plt.show()"
   ]
  },
  {
   "cell_type": "markdown",
   "metadata": {},
   "source": [
    "### Fitting through all cells"
   ]
  },
  {
   "cell_type": "code",
   "execution_count": 287,
   "metadata": {
    "scrolled": false
   },
   "outputs": [
    {
     "name": "stdout",
     "output_type": "stream",
     "text": [
      "2.26 + -3.27g_e^1.00\n",
      "[[Model]]\n",
      "    Model(delay_excitation)\n",
      "[[Fit Statistics]]\n",
      "    # function evals   = 32\n",
      "    # data points      = 21\n",
      "    # variables        = 3\n",
      "    chi-square         = 68.279\n",
      "    reduced chi-square = 3.793\n",
      "    Akaike info crit   = 30.761\n",
      "    Bayesian info crit = 33.894\n",
      "[[Variables]]\n",
      "    a:   2.26407927 +/- 0        (0.00%) (init= 1)\n",
      "    c:   1          +/- 0        (0.00%) (init= 1)\n",
      "    b:  -3.27391330 +/- 0        (0.00%) (init= 1)\n",
      "\n",
      "0.11 + -0.89g_e^1.00\n",
      "[[Model]]\n",
      "    Model(delay_excitation)\n",
      "[[Fit Statistics]]\n",
      "    # function evals   = 32\n",
      "    # data points      = 15\n",
      "    # variables        = 3\n",
      "    chi-square         = 77.449\n",
      "    reduced chi-square = 6.454\n",
      "    Akaike info crit   = 30.624\n",
      "    Bayesian info crit = 32.748\n",
      "[[Variables]]\n",
      "    a:   0.10783049 +/- 0        (0.00%) (init= 1)\n",
      "    c:   1          +/- 0        (0.00%) (init= 1)\n",
      "    b:  -0.89322302 +/- 0        (0.00%) (init= 1)\n",
      "\n",
      "4.15 + -1.27g_e^1.00\n",
      "[[Model]]\n",
      "    Model(delay_excitation)\n",
      "[[Fit Statistics]]\n",
      "    # function evals   = 31\n",
      "    # data points      = 15\n",
      "    # variables        = 3\n",
      "    chi-square         = 112.539\n",
      "    reduced chi-square = 9.378\n",
      "    Akaike info crit   = 36.229\n",
      "    Bayesian info crit = 38.353\n",
      "[[Variables]]\n",
      "    a:   4.14869208 +/- 0        (0.00%) (init= 1)\n",
      "    c:   1          +/- 0        (0.00%) (init= 1)\n",
      "    b:  -1.26683433 +/- 0        (0.00%) (init= 1)\n",
      "\n",
      "2.43 + -2.00g_e^1.00\n",
      "[[Model]]\n",
      "    Model(delay_excitation)\n",
      "[[Fit Statistics]]\n",
      "    # function evals   = 28\n",
      "    # data points      = 20\n",
      "    # variables        = 3\n",
      "    chi-square         = 60.422\n",
      "    reduced chi-square = 3.554\n",
      "    Akaike info crit   = 28.112\n",
      "    Bayesian info crit = 31.100\n",
      "[[Variables]]\n",
      "    a:   2.42636143 +/- 0        (0.00%) (init= 1)\n",
      "    c:   1          +/- 0        (0.00%) (init= 1)\n",
      "    b:  -1.99721852 +/- 0        (0.00%) (init= 1)\n",
      "\n",
      "1.91 + -1.63g_e^1.00\n",
      "[[Model]]\n",
      "    Model(delay_excitation)\n",
      "[[Fit Statistics]]\n",
      "    # function evals   = 19\n",
      "    # data points      = 24\n",
      "    # variables        = 3\n",
      "    chi-square         = 197.008\n",
      "    reduced chi-square = 9.381\n",
      "    Akaike info crit   = 56.525\n",
      "    Bayesian info crit = 60.059\n",
      "[[Variables]]\n",
      "    a:   1.91211005 +/- 0        (0.00%) (init= 1)\n",
      "    c:   1          +/- 0        (0.00%) (init= 1)\n",
      "    b:  -1.62679300 +/- 0        (0.00%) (init= 1)\n",
      "\n",
      "0.74 + -0.44g_e^1.00\n",
      "[[Model]]\n",
      "    Model(delay_excitation)\n",
      "[[Fit Statistics]]\n",
      "    # function evals   = 55\n",
      "    # data points      = 14\n",
      "    # variables        = 3\n",
      "    chi-square         = 18.914\n",
      "    reduced chi-square = 1.719\n",
      "    Akaike info crit   = 10.212\n",
      "    Bayesian info crit = 12.129\n",
      "[[Variables]]\n",
      "    a:   0.73987480 +/- 0        (0.00%) (init= 1)\n",
      "    c:   1          +/- 0        (0.00%) (init= 1)\n",
      "    b:  -0.44030041 +/- 0        (0.00%) (init= 1)\n",
      "\n",
      "3.06 + -0.78g_e^1.00\n",
      "[[Model]]\n",
      "    Model(delay_excitation)\n",
      "[[Fit Statistics]]\n",
      "    # function evals   = 35\n",
      "    # data points      = 16\n",
      "    # variables        = 3\n",
      "    chi-square         = 46.382\n",
      "    reduced chi-square = 3.568\n",
      "    Akaike info crit   = 23.029\n",
      "    Bayesian info crit = 25.347\n",
      "[[Variables]]\n",
      "    a:   3.06189091 +/- 0        (0.00%) (init= 1)\n",
      "    c:   1          +/- 0        (0.00%) (init= 1)\n",
      "    b:  -0.77823698 +/- 0        (0.00%) (init= 1)\n",
      "\n",
      "6.32 + -1.97g_e^1.00\n",
      "[[Model]]\n",
      "    Model(delay_excitation)\n",
      "[[Fit Statistics]]\n",
      "    # function evals   = 23\n",
      "    # data points      = 15\n",
      "    # variables        = 3\n",
      "    chi-square         = 323.881\n",
      "    reduced chi-square = 26.990\n",
      "    Akaike info crit   = 52.085\n",
      "    Bayesian info crit = 54.209\n",
      "[[Variables]]\n",
      "    a:   6.32260401 +/- 0        (0.00%) (init= 1)\n",
      "    c:   1          +/- 0        (0.00%) (init= 1)\n",
      "    b:  -1.97449948 +/- 0        (0.00%) (init= 1)\n",
      "\n",
      "1.11 + -0.65g_e^1.00\n",
      "[[Model]]\n",
      "    Model(delay_excitation)\n",
      "[[Fit Statistics]]\n",
      "    # function evals   = 53\n",
      "    # data points      = 16\n",
      "    # variables        = 3\n",
      "    chi-square         = 13.378\n",
      "    reduced chi-square = 1.029\n",
      "    Akaike info crit   = 3.137\n",
      "    Bayesian info crit = 5.454\n",
      "[[Variables]]\n",
      "    a:   1.10596697 +/- 0        (0.00%) (init= 1)\n",
      "    c:   1          +/- 0        (0.00%) (init= 1)\n",
      "    b:  -0.64516634 +/- 0        (0.00%) (init= 1)\n",
      "\n",
      "2.42 + -0.66g_e^1.00\n",
      "[[Model]]\n",
      "    Model(delay_excitation)\n",
      "[[Fit Statistics]]\n",
      "    # function evals   = 39\n",
      "    # data points      = 24\n",
      "    # variables        = 3\n",
      "    chi-square         = 72.609\n",
      "    reduced chi-square = 3.458\n",
      "    Akaike info crit   = 32.569\n",
      "    Bayesian info crit = 36.103\n",
      "[[Variables]]\n",
      "    a:   2.41953073 +/- 0        (0.00%) (init= 1)\n",
      "    c:   1          +/- 0        (0.00%) (init= 1)\n",
      "    b:  -0.65502819 +/- 0        (0.00%) (init= 1)\n",
      "\n",
      "0.01 + 0.34g_e^1.00\n",
      "[[Model]]\n",
      "    Model(delay_excitation)\n",
      "[[Fit Statistics]]\n",
      "    # function evals   = 23\n",
      "    # data points      = 15\n",
      "    # variables        = 3\n",
      "    chi-square         = 17.715\n",
      "    reduced chi-square = 1.476\n",
      "    Akaike info crit   = 8.496\n",
      "    Bayesian info crit = 10.620\n",
      "[[Variables]]\n",
      "    a:   0.01095675 +/- 0        (0.00%) (init= 1)\n",
      "    c:   1          +/- 0        (0.00%) (init= 1)\n",
      "    b:   0.33591961 +/- 0        (0.00%) (init= 1)\n",
      "\n",
      "0.04 + -0.34g_e^1.00\n",
      "[[Model]]\n",
      "    Model(delay_excitation)\n",
      "[[Fit Statistics]]\n",
      "    # function evals   = 31\n",
      "    # data points      = 6\n",
      "    # variables        = 3\n",
      "    chi-square         = 2.314\n",
      "    reduced chi-square = 0.771\n",
      "    Akaike info crit   = 0.283\n",
      "    Bayesian info crit = -0.341\n",
      "[[Variables]]\n",
      "    a:   0.04179816 +/- 0        (0.00%) (init= 1)\n",
      "    c:   1          +/- 0        (0.00%) (init= 1)\n",
      "    b:  -0.33793707 +/- 0        (0.00%) (init= 1)\n",
      "\n",
      "0.78 + -1.18g_e^1.00\n",
      "[[Model]]\n",
      "    Model(delay_excitation)\n",
      "[[Fit Statistics]]\n",
      "    # function evals   = 36\n",
      "    # data points      = 23\n",
      "    # variables        = 3\n",
      "    chi-square         = 14.138\n",
      "    reduced chi-square = 0.707\n",
      "    Akaike info crit   = -5.193\n",
      "    Bayesian info crit = -1.787\n",
      "[[Variables]]\n",
      "    a:   0.78331289 +/- 0        (0.00%) (init= 1)\n",
      "    c:   1          +/- 0        (0.00%) (init= 1)\n",
      "    b:  -1.17682402 +/- 0        (0.00%) (init= 1)\n",
      "\n"
     ]
    },
    {
     "data": {
      "image/png": "[encoded data removed]",
      "text/plain": [
       "<matplotlib.figure.Figure at 0x7faa31235390>"
      ]
     },
     "metadata": {},
     "output_type": "display_data"
    }
   ],
   "source": [
    "cmap = matplotlib.cm.viridis\n",
    "colors = matplotlib.cm.viridis(numpy.linspace(0, 1, len(all_inh_conductances)))\n",
    "fig, ax = plt.subplots()\n",
    "# norm = matplotlib.colors.Normalize(vmin=1, vmax=6)\n",
    "slopeArr = []\n",
    "adist, bdist = [],[]\n",
    "for i, (g, gi, d, c) in enumerate(zip(all_conductances, all_inh_conductances, all_delays, colors)):\n",
    "    g, gi, d = numpy.array(g), numpy.array(gi), numpy.array(d)\n",
    "    indices = numpy.where(d>0)\n",
    "    g, gi, d = g[indices], gi[indices], d[indices]\n",
    "    indices = numpy.argsort(g)\n",
    "    delay_Model = lmfit.Model(delay_excitation)\n",
    "    delay_pars = delay_Model.make_params()\n",
    "    \n",
    "    delay_result = delay_Model.fit(d, delay_pars, x=g)\n",
    "    indices = numpy.argsort(g)\n",
    "#     ax.scatter(g[indices], d[indices], s=30, facecolor='k', edgecolor='k')\n",
    "    ax.scatter(g[indices], d[indices], s=5, facecolor=colors[i], edgecolor=colors[i])\n",
    "    ax.plot(g[indices], delay_result.best_fit[indices], '--', color=colors[i], linewidth=1)\n",
    "    print (\"{:.2f} + {:.2f}g_e^{:.2f}\".format(delay_result.params['a'].value, delay_result.params['b'].value, delay_result.params['c'].value))\n",
    "    adist.append(delay_result.params['a'].value)\n",
    "    bdist.append(delay_result.params['b'].value)\n",
    "    print(delay_result.fit_report())\n",
    "#     ax.set_xlabel(\"$g_e$ (nS)\")\n",
    "#     ax.set_ylabel(\"$\\\\delta_i$ (ms)\")\n",
    "    # dump(fig,file('figures/fig6/6k.pkl','wb'))\n",
    "# flattened_g = numpy.array([g for sublist in all_conductances for g in sublist])\n",
    "# flattened_d = numpy.array([d for sublist in all_delays for d in sublist])\n",
    "# delay_Model = lmfit.Model(delay_excitation)\n",
    "# delay_pars = delay_Model.make_params()\n",
    "\n",
    "# delay_result = delay_Model.fit(flattened_d, delay_pars, x=flattened_g)\n",
    "# indices = numpy.argsort(flattened_g)\n",
    "# #     ax.scatter(g[indices], d[indices], s=30, facecolor='k', edgecolor='k')\n",
    "# ax.plot(flattened_g[indices], delay_result.best_fit[indices], '-',color='k')\n",
    "# print (\"{:.2f} * g_e^{:.2f}\".format(delay_result.params['a'].value, delay_result.params['b'].value))#, delay_result.params['c'].value))\n",
    "# print(delay_result.fit_report())\n",
    "ax.set_xlabel(\"$g_e$ (nS)\")\n",
    "ax.set_ylabel(\"$\\\\delta_i$ (ms)\")\n",
    "fig.set_figwidth(4.5)\n",
    "fig.set_figheight(4.5)\n",
    "ax.set_xlim(0,4.5)\n",
    "simpleaxis(ax)\n",
    "plt.show()\n",
    "# ax.set_xticks(range(4))\n",
    "# ax.set_yticks(range(0,12,2))\n",
    "\n",
    "# ax.set_ylim(-3,12.5)\n",
    "\n",
    "# print (\"{:.2f} + {:.2f}e^-{:.2f}E\".format(delay_result.params['a'].value, delay_result.params['b'].value, delay_result.params['c'].value))"
   ]
  },
  {
   "cell_type": "code",
   "execution_count": 292,
   "metadata": {},
   "outputs": [
    {
     "data": {
      "image/png": "[encoded data removed]",
      "text/plain": [
       "<matplotlib.figure.Figure at 0x7faa30aca6d0>"
      ]
     },
     "metadata": {},
     "output_type": "display_data"
    },
    {
     "name": "stdout",
     "output_type": "stream",
     "text": [
      "1.94961604632\n",
      "-1.13308116266\n"
     ]
    }
   ],
   "source": [
    "fig, ax = plt.subplots(3,1)\n",
    "ax[0].hist(adist)\n",
    "ax[1].hist(bdist,bins=5)\n",
    "plt.show()\n",
    "print(numpy.mean(adist))\n",
    "print(numpy.mean(bdist))"
   ]
  },
  {
   "cell_type": "code",
   "execution_count": 183,
   "metadata": {},
   "outputs": [
    {
     "data": {
      "image/png": "[encoded data removed]",
      "text/latex": [
       "$$\\left [ -0.785912518688, \\quad 0.20447793747, \\quad -0.682212242713, \\quad -0.981372689841, \\quad -0.143277376099, \\quad 0.0703915909292, \\quad -0.0151866102187, \\quad -2.5407494757, \\quad 0.0463832531185, \\quad -0.369925420307, \\quad -0.174943800507, \\quad -0.411893003136, \\quad -0.113085216906\\right ]$$"
      ],
      "text/plain": [
       "[-0.785912518688, 0.20447793747, -0.682212242713, -0.981372689841, -0.14327737\n",
       "6099, 0.0703915909292, -0.0151866102187, -2.5407494757, 0.0463832531185, -0.36\n",
       "9925420307, -0.174943800507, -0.411893003136, -0.113085216906]"
      ]
     },
     "execution_count": 183,
     "metadata": {},
     "output_type": "execute_result"
    }
   ],
   "source": [
    "slopeArr"
   ]
  },
  {
   "cell_type": "code",
   "execution_count": 171,
   "metadata": {},
   "outputs": [
    {
     "name": "stdout",
     "output_type": "stream",
     "text": [
      "0.0 0.502920157896 4.0 3.53716240317\n",
      "0.0 4.0\n",
      "[ 0.72211933  1.76527103  2.50876466] [ 6.40708333  2.96547619  2.41009259] 7.7676647565 -2.30584161713\n",
      "0.0 0.0722738645753 2.0 1.74271414618\n",
      "0.0 2.0\n",
      "[ 0.54185055] [ 0.9352381] nan nan\n",
      "0.0 0.505398484121 2.0 1.93300685934\n",
      "0.0 2.0\n",
      "[ 0.68120182] [ 7.04392857] nan nan\n",
      "0.0 0.270132300374 2.0 1.95592850845\n",
      "0.0 2.0\n",
      "[ 0.68315288] [ 5.25178571] nan nan\n",
      "0.0 0.120850458198 3.0 2.51118900624\n",
      "0.0 3.0\n",
      "[ 0.47828377  1.49302333] [ 1.75923077  1.96464286] 1.66241255834 0.202428383211\n",
      "0.0 0.873567109263 6.0 5.35349528697\n",
      "0.0 6.0\n",
      "[ 0.87356711  1.30101618  2.33452345  3.55241393  4.61094152] [-2.28       -0.50458333 -0.23941667 -0.23833333  1.64833333] -2.32494122391 0.789957466387\n",
      "0.0 0.434486914483 4.0 3.09986696769\n",
      "0.0 4.0\n",
      "[ 0.67206855  1.37256621  2.38862074] [ 4.105       2.21733333  3.82444444] 3.43878956204 -0.0382542599852\n",
      "0.0 0.467035659221 2.0 1.66198263047\n",
      "0.0 2.0\n",
      "[ 0.70340702] [ 7.45833333] nan nan\n",
      "0.0"
     ]
    },
    {
     "name": "stderr",
     "output_type": "stream",
     "text": [
      "/usr/local/lib/python2.7/dist-packages/ipykernel_launcher.py:25: RuntimeWarning: Mean of empty slice.\n",
      "/usr/local/lib/python2.7/dist-packages/ipykernel_launcher.py:27: RuntimeWarning: Mean of empty slice.\n",
      "/usr/local/lib/python2.7/dist-packages/scipy/stats/_stats_mstats_common.py:106: RuntimeWarning: invalid value encountered in double_scalars\n",
      "  slope = r_num / ssxm\n",
      "/usr/local/lib/python2.7/dist-packages/scipy/stats/_stats_mstats_common.py:116: RuntimeWarning: invalid value encountered in sqrt\n",
      "  t = r * np.sqrt(df / ((1.0 - r + TINY)*(1.0 + r + TINY)))\n",
      "/usr/local/lib/python2.7/dist-packages/scipy/stats/_stats_mstats_common.py:118: RuntimeWarning: invalid value encountered in double_scalars\n",
      "  sterrest = np.sqrt((1 - r**2) * ssym / ssxm / df)\n"
     ]
    },
    {
     "name": "stdout",
     "output_type": "stream",
     "text": [
      " 0.296321428289 13.0 12.6945793162\n",
      "0.0 13.0\n",
      "[  0.57949552   2.69445614   3.38869447   4.10863121   5.53230672\n",
      "   6.14405007   7.65277769   8.34803606   9.32633316  10.41832184\n",
      "  11.93870242] [-1.46722222 -1.92458333 -3.28333333  1.90666667  0.48541667 -0.56833333\n",
      " -0.44180556 -1.03316667  0.93833333  0.71083333 -0.09166667] -1.63782073083 0.188889575416\n",
      "0.0 0.463261615398 4.0 3.09073761786\n",
      "0.0 4.0\n",
      "[ 0.64237947  1.4454997   2.3999953 ] [ 3.93597222  3.17314815  1.62092593] 4.89480013555 -1.32676485611\n",
      "1.0 1.01333962344 5.0 4.5303571894\n",
      "1.0 5.0\n",
      "[ 1.20150093  2.80329751  3.42178479  4.53035719] [ 0.03666667 -0.4953125  -0.00712121 -0.18833333] -0.0258589025231 -0.0460539861728\n",
      "0.0 0.456571415447 4.0 3.85588180109\n",
      "0.0 4.0\n",
      "[ 0.56502321  1.19274374  2.54432978] [ 0.96388889  1.62083333  0.18666667] 1.63967869137 -0.499209413932\n",
      "1.0 1.02380502318 3.0 2.91772071069\n",
      "1.0 3.0\n",
      "[ 1.43717994  2.46114686] [ 0.94783333  0.08872222] 2.15363132281 -0.839002798725\n"
     ]
    },
    {
     "data": {
      "image/png": "[encoded data removed]",
      "text/plain": [
       "<matplotlib.figure.Figure at 0x7faa31e38b90>"
      ]
     },
     "metadata": {},
     "output_type": "display_data"
    }
   ],
   "source": [
    "fig, ax = plt.subplots()\n",
    "cmap = matplotlib.cm.viridis\n",
    "\n",
    "colors = matplotlib.cm.viridis(numpy.linspace(0, 1, len(all_inh_conductances)))\n",
    "\n",
    "# norm = matplotlib.colors.Normalize(vmin=1, vmax=6)\n",
    "for i, (g, gi, d, c) in enumerate(zip(all_conductances, all_inh_conductances, all_delays, colors)):\n",
    "    g, gi, d = numpy.array(g), numpy.array(gi), numpy.array(d)\n",
    "    indices = numpy.argsort(g)\n",
    "    \n",
    "#     slope, intercept, rval, pvalue, err = ss.linregress(g[indices], gi[indices])\n",
    "#     print(slope)\n",
    "    #cbar = ax.scatter(g,d, c= [slope]*len(g), s= 10, cmap='viridis', vmin=1.5, vmax=3.2)\n",
    "#     print(g)\n",
    "    gmax = numpy.ceil(max(g))\n",
    "    gmin = numpy.floor(min(g))\n",
    "    print(gmin, min(g), gmax, max(g))\n",
    "#     bins = numpy.linspace(gmin,gmax,(gmax - gmin) +1)\n",
    "    print (gmin, gmax)\n",
    "    bins = numpy.arange(gmin,gmax,1)\n",
    "    indices = numpy.argsort(g)\n",
    "    \n",
    "    digitized = numpy.digitize(g[indices], bins)\n",
    "#     bins = range(8)\n",
    "    g_means = numpy.array([g[indices][digitized == i].mean() for i in bins])\n",
    "    g_err = numpy.array([g[indices][digitized == i].std() for i in bins])\n",
    "    d_means = numpy.array([d[indices][digitized == i].mean() for i in bins])\n",
    "    d_err = numpy.array([d[indices][digitized == i].std() for i in bins])\n",
    "    \n",
    "    finiteYmask = numpy.isfinite(g_means)\n",
    "    d_means = d_means[finiteYmask]\n",
    "    g_means = g_means[finiteYmask]\n",
    "    d_err = d_err[finiteYmask]\n",
    "    g_err = g_err[finiteYmask]\n",
    "    \n",
    "    slope, intercept, rval, pvalue, err = ss.linregress(g_means, d_means)\n",
    "    \n",
    "    ax.errorbar(g_means, d_means, xerr = g_err, yerr = d_err, linestyle='')\n",
    "    cbar = ax.scatter(g_means, d_means, s=10, c=c, alpha=0.5, cmap='viridis')\n",
    "#     indices = numpy.argsort(g_means)\n",
    "    print(g_means, d_means, intercept, slope)\n",
    "    ax.plot(g_means, intercept + slope*g_means, c=c)\n",
    "plt.show()"
   ]
  },
  {
   "cell_type": "code",
   "execution_count": null,
   "metadata": {
    "collapsed": true
   },
   "outputs": [],
   "source": [
    "delay_Model = lmfit.Model(delay_excitation)\n",
    "delay_pars = delay_Model.make_params()\n",
    "\n",
    "indices = numpy.argsort(flattened_g)\n",
    "flattened_g = flattened_g[indices]\n",
    "flattened_d_fit = delay_result.eval(x=flattened_g)\n",
    "\n",
    "delay_result = delay_Model.fit(flattened_d, delay_pars, x=flattened_g)\n",
    "\n",
    "\n",
    "fig, ax = plt.subplots()\n",
    "ax.scatter(flattened_g, flattened_d, s=10, alpha=0.2,c='k')\n",
    "\n",
    "print(delay_result.fit_report())\n",
    "ax.plot(flattened_g, flattened_d_fit)\n",
    "plt.show()\n",
    "# slope, intercept, rval, pvalue, err = ss.linregress(flattened_g[indices], flattened_d[indices])\n",
    "# x_axis = numpy.linspace(numpy.min(flattened_g), numpy.max(flattened_g), 100)\n",
    "# y_axis = slope * x_axis + intercept\n",
    "\n",
    "# ax.set_xlim(0,6)\n",
    "# ax.set_ylim(-3,10)\n",
    "\n",
    "# ax.plot(x_axis, y_axis, '--')\n",
    "print ( delay_result.params['a'],delay_result.params['b'],delay_result.params['c'])"
   ]
  },
  {
   "cell_type": "code",
   "execution_count": null,
   "metadata": {
    "collapsed": true,
    "scrolled": false
   },
   "outputs": [],
   "source": [
    "keySet = set(inh_onsets).intersection(exc_onsets)"
   ]
  },
  {
   "cell_type": "code",
   "execution_count": null,
   "metadata": {
    "collapsed": true
   },
   "outputs": [],
   "source": [
    "for key in keySet:\n",
    "    print (inh_onsets[key], exc_onsets[key])"
   ]
  }
 ],
 "metadata": {
  "hide_input": false,
  "kernelspec": {
   "display_name": "Python 2",
   "language": "python",
   "name": "python2"
  },
  "language_info": {
   "codemirror_mode": {
    "name": "ipython",
    "version": 2
   },
   "file_extension": ".py",
   "mimetype": "text/x-python",
   "name": "python",
   "nbconvert_exporter": "python",
   "pygments_lexer": "ipython2",
   "version": "2.7.12"
  },
  "latex_envs": {
   "LaTeX_envs_menu_present": true,
   "autocomplete": true,
   "bibliofile": "biblio.bib",
   "cite_by": "apalike",
   "current_citInitial": 1,
   "eqLabelWithNumbers": true,
   "eqNumInitial": 1,
   "hotkeys": {
    "equation": "Ctrl-E",
    "itemize": "Ctrl-I"
   },
   "labels_anchors": false,
   "latex_user_defs": false,
   "report_style_numbering": false,
   "user_envs_cfg": false
  },
  "toc": {
   "colors": {
    "hover_highlight": "#DAA520",
    "navigate_num": "#000000",
    "navigate_text": "#333333",
    "running_highlight": "#FF0000",
    "selected_highlight": "#FFD700",
    "sidebar_border": "#EEEEEE",
    "wrapper_background": "#FFFFFF"
   },
   "moveMenuLeft": true,
   "nav_menu": {
    "height": "208px",
    "width": "252px"
   },
   "navigate_menu": true,
   "number_sections": true,
   "sideBar": true,
   "threshold": 4,
   "toc_cell": false,
   "toc_position": {
    "height": "840px",
    "left": "0px",
    "right": "1643px",
    "top": "106px",
    "width": "212px"
   },
   "toc_section_display": "block",
   "toc_window_display": true,
   "widenNotebook": false
  },
  "varInspector": {
   "cols": {
    "lenName": 16,
    "lenType": 16,
    "lenVar": 40
   },
   "kernels_config": {
    "python": {
     "delete_cmd_postfix": "",
     "delete_cmd_prefix": "del ",
     "library": "var_list.py",
     "varRefreshCmd": "print(var_dic_list())"
    },
    "r": {
     "delete_cmd_postfix": ") ",
     "delete_cmd_prefix": "rm(",
     "library": "var_list.r",
     "varRefreshCmd": "cat(var_dic_list()) "
    }
   },
   "types_to_exclude": [
    "module",
    "function",
    "builtin_function_or_method",
    "instance",
    "_Feature"
   ],
   "window_display": false
  }
 },
 "nbformat": 4,
 "nbformat_minor": 2
}
