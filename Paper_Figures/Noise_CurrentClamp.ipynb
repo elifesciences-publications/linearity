{
 "cells": [
  {
   "cell_type": "code",
   "execution_count": 1,
   "metadata": {},
   "outputs": [
    {
     "name": "stderr",
     "output_type": "stream",
     "text": [
      "/usr/local/lib/python2.7/dist-packages/statsmodels/compat/pandas.py:56: FutureWarning: The pandas.core.datetools module is deprecated and will be removed in a future version. Please use the pandas.tseries module instead.\n",
      "  from pandas.core import datetools\n"
     ]
    }
   ],
   "source": [
    "import glob\n",
    "import matplotlib\n",
    "import matplotlib.pyplot as plt\n",
    "import pickle\n",
    "import lmfit\n",
    "import numpy as np\n",
    "import scipy.stats as ss\n",
    "plt.style.use('neuron_color')\n",
    "import statsmodels.api as sm\n",
    "from statsmodels.sandbox.regression.predstd import wls_prediction_std\n",
    "from statsmodels.formula.api import ols, rlm\n",
    "import sys\n",
    "sys.path.append('../')\n",
    "from Linearity import Neuron\n",
    "from pickle import dump"
   ]
  },
  {
   "cell_type": "code",
   "execution_count": 3,
   "metadata": {},
   "outputs": [],
   "source": [
    "#Colorscheme for squares\n",
    "color_sqr = { index+1: color for index, color in enumerate(matplotlib.cm.viridis(np.linspace(0,1,9)))}\n",
    "currentClampFiles = '/media/sahil/NCBS_Shares_BGStim/patch_data/current_clamp_files_with_GABAzine.txt'\n",
    "with open (currentClampFiles,'r') as r:\n",
    "    dirnames = r.read().splitlines()\n",
    "neurons = {}\n",
    "for dirname in dirnames:\n",
    "    cellIndex = dirname.split('/')[-2]\n",
    "    filename = dirname + 'plots/' + cellIndex + '.pkl'\n",
    "    n = Neuron.load(filename)\n",
    "    neurons[str(n.date) + '_' + str(n.index)] = n\n",
    "control_result2_rsquared_adj = []\n",
    "control_result1_rsquared_adj = []\n",
    "control_var_expected = []\n",
    "gabazine_result2_rsquared_adj = []\n",
    "gabazine_result1_rsquared_adj = []\n",
    "gabazine_var_expected = []\n",
    "tolerance = 5e-4"
   ]
  },
  {
   "cell_type": "code",
   "execution_count": 4,
   "metadata": {},
   "outputs": [],
   "source": [
    "def simpleaxis(axes, every=False, outward=False):\n",
    "    if not isinstance(axes, (list, np.ndarray)):\n",
    "        axes = [axes]\n",
    "    for ax in axes:\n",
    "        ax.spines['top'].set_visible(False)\n",
    "        ax.spines['right'].set_visible(False)\n",
    "        if (outward):\n",
    "            ax.spines['bottom'].set_position(('outward', 10))\n",
    "            ax.spines['left'].set_position(('outward', 10))\n",
    "        if every:\n",
    "            ax.spines['bottom'].set_visible(False)\n",
    "            ax.spines['left'].set_visible(False)\n",
    "        ax.get_xaxis().tick_bottom()\n",
    "        ax.get_yaxis().tick_left()\n",
    "        ax.set_title('')\n",
    "def linearModel(x, beta=1):\n",
    "    # Linear model\n",
    "    return (beta*x)\n",
    "\n",
    "def DN_model(x, beta=1, gamma=100):\n",
    "    # Divisive normalization model\n",
    "    #return x - a*(x**2)/(b+x)\n",
    "    #return ((x**2)*(1-beta) + (gamma*x))/(x+gamma)\n",
    "    return (gamma*x)/(x+gamma)"
   ]
  },
  {
   "cell_type": "code",
   "execution_count": 5,
   "metadata": {},
   "outputs": [
    {
     "data": {
      "text/plain": [
       "['160928_c4',\n",
       " '160817_c4',\n",
       " '161117_c1',\n",
       " '170222_c2',\n",
       " '161228_c1',\n",
       " '160830_c1',\n",
       " '161027_c3',\n",
       " '160920_c1',\n",
       " '161013_c1',\n",
       " '160927_c5',\n",
       " '170303_c1']"
      ]
     },
     "execution_count": 5,
     "metadata": {},
     "output_type": "execute_result"
    }
   ],
   "source": [
    "neurons.keys()"
   ]
  },
  {
   "cell_type": "code",
   "execution_count": 189,
   "metadata": {},
   "outputs": [],
   "source": [
    "lin_aic = []\n",
    "dn_aic = []\n",
    "lin_chi = []\n",
    "dn_chi = []\n",
    "\n",
    "control_observed = {}\n",
    "control_observed_average = {}\n",
    "gabazine_observed ={}\n",
    "gabazine_observed_average = {}\n",
    "control_expected = {}\n",
    "control_expected_average = {}\n",
    "gabazine_expected ={}\n",
    "gabazine_expected_average = {}\n",
    "feature = 0\n",
    "\n",
    "neuron = neurons['170303_c1']\n",
    "# neuron = neurons['170303_c1']\n",
    "## 5 A (GABAzine treatment abolishes divisive normalization)\n",
    "feature = 0\n",
    "expected, observed, g_expected, g_observed = {}, {}, {}, {}\n",
    "for expType, exp in neuron:\n",
    "    ## Control case\n",
    "    if expType == \"Control\":\n",
    "        for sqr in exp:\n",
    "            if sqr in [1,2]:\n",
    "                for coord in exp[sqr].coordwise:\n",
    "                    observed[coord] = []\n",
    "                    for trial in exp[sqr].coordwise[coord].trials:\n",
    "                        if all([value == 0 for value in trial.flags.values()]):\n",
    "                            #expected[sqr].append(exp[sqr].coordwise[coord].expected_feature[feature])\n",
    "                            observed[coord].append(trial.feature[feature])\n",
    "                    if len(observed[coord]) <3:\n",
    "                        observed.pop(coord)\n",
    "    ## Gabazine case\n",
    "    if(expType == \"GABAzine\"):\n",
    "        for sqr in exp:\n",
    "            if sqr in [1,2]:\n",
    "                for coord in exp[sqr].coordwise:\n",
    "                    g_observed[coord] = []\n",
    "                    for trial in exp[sqr].coordwise[coord].trials:\n",
    "                        if all([value == 0 for value in trial.flags.values()]):\n",
    "                            #g_expected[sqr].append(exp[sqr].coordwise[coord].expected_feature[feature])\n",
    "                            g_observed[coord].append(trial.feature[feature])\n",
    "                    if len(g_observed[coord]) <3:\n",
    "                        g_observed.pop(coord)"
   ]
  },
  {
   "cell_type": "code",
   "execution_count": 193,
   "metadata": {
    "scrolled": false
   },
   "outputs": [
    {
     "data": {
      "image/png": "[encoded data removed]",
      "text/plain": [
       "<matplotlib.figure.Figure at 0x7f769025c590>"
      ]
     },
     "metadata": {},
     "output_type": "display_data"
    },
    {
     "data": {
      "image/png": "[encoded data removed]",
      "text/plain": [
       "<matplotlib.figure.Figure at 0x7f76933b4fd0>"
      ]
     },
     "metadata": {},
     "output_type": "display_data"
    },
    {
     "name": "stdout",
     "output_type": "stream",
     "text": [
      "[[ 1.         -0.12322167]\n",
      " [-0.12322167  1.        ]]\n",
      "[[1.         0.06713352]\n",
      " [0.06713352 1.        ]]\n",
      "[[ 1.         -0.07755516]\n",
      " [-0.07755516  1.        ]]\n"
     ]
    }
   ],
   "source": [
    "max_weight = 2. # mV\n",
    "g_mean, g_var, o_mean, o_var, num_sqr = [], [], [], [], []\n",
    "for coord in list(set(observed)&set(g_observed)):\n",
    "    o_m, o_v = np.mean(observed[coord]), np.var(observed[coord], ddof=1)\n",
    "    g_m, g_v = np.mean(g_observed[coord]), np.var(g_observed[coord], ddof=1)\n",
    "    if g_m < max_weight:\n",
    "        o_mean.append(o_m)\n",
    "        o_var.append(o_v)\n",
    "        g_mean.append(g_m)\n",
    "        g_var.append(g_v)\n",
    "        num_sqr.append(len(coord))\n",
    "\n",
    "g_mean, g_var, o_mean, o_var, num_sqr = np.array(g_mean), np.array(g_var), np.array(o_mean), np.array(o_var ), np.array(num_sqr)\n",
    "# print(g_mean, g_var, o_mean, o_var, num_sqr)\n",
    "fig, ax = plt.subplots()\n",
    "ax.scatter(o_mean, o_var, c='b', alpha=0.2)\n",
    "ax.scatter(g_mean, g_var, c='g', alpha=0.2)\n",
    "# ax.scatter(range(len(g_var)), g_var/g_mean - o_var/o_mean, c='r')\n",
    "# ax.set_xlim(0,1)\n",
    "simpleaxis(ax)\n",
    "plt.show()\n",
    "\n",
    "fig, ax = plt.subplots()\n",
    "ax.hist(g_var/g_mean - o_var/o_mean,bins=30)\n",
    "simpleaxis(ax)\n",
    "plt.show()\n",
    "\n",
    "print(np.corrcoef(g_var, o_var))\n",
    "print(np.corrcoef(g_mean, o_mean))\n",
    "print(np.corrcoef(g_var/g_mean, o_var/o_mean))"
   ]
  },
  {
   "cell_type": "code",
   "execution_count": 194,
   "metadata": {
    "scrolled": false
   },
   "outputs": [
    {
     "data": {
      "image/png": "[encoded data removed]",
      "text/plain": [
       "<matplotlib.figure.Figure at 0x7f7693655150>"
      ]
     },
     "metadata": {},
     "output_type": "display_data"
    },
    {
     "data": {
      "image/png": "[encoded data removed]",
      "text/plain": [
       "<matplotlib.figure.Figure at 0x7f76dfa70190>"
      ]
     },
     "metadata": {},
     "output_type": "display_data"
    },
    {
     "data": {
      "image/png": "[encoded data removed]",
      "text/plain": [
       "<matplotlib.figure.Figure at 0x7f768affaed0>"
      ]
     },
     "metadata": {},
     "output_type": "display_data"
    },
    {
     "data": {
      "image/png": "[encoded data removed]",
      "text/plain": [
       "<matplotlib.figure.Figure at 0x7f7690095bd0>"
      ]
     },
     "metadata": {},
     "output_type": "display_data"
    },
    {
     "data": {
      "image/png": "[encoded data removed]",
      "text/plain": [
       "<matplotlib.figure.Figure at 0x7f76905c0ad0>"
      ]
     },
     "metadata": {},
     "output_type": "display_data"
    },
    {
     "name": "stdout",
     "output_type": "stream",
     "text": [
      "0.47619047619\n"
     ]
    }
   ],
   "source": [
    "fig, ax = plt.subplots()\n",
    "cbar = ax.scatter(np.log(g_var), np.log(o_var), c=g_mean, cmap=matplotlib.cm.viridis)\n",
    "plt.colorbar(cbar)\n",
    "simpleaxis(ax)\n",
    "plt.show()\n",
    "\n",
    "fig, (ax1,ax2) = plt.subplots(ncols=2)\n",
    "cbar = ax1.scatter(g_mean, o_mean, c=np.log(g_var/o_var), cmap=matplotlib.cm.plasma)\n",
    "plt.colorbar(cbar)\n",
    "# cbar = ax2.scatter(g_mean, o_mean, c=np.log(o_var), cmap=matplotlib.cm.plasma)\n",
    "# plt.colorbar(cbar)\n",
    "ax = [ax1,ax2]\n",
    "simpleaxis(ax)\n",
    "fig.set_figwidth(12)\n",
    "plt.show()\n",
    "\n",
    "fig, ax = plt.subplots()\n",
    "cbar = ax.scatter(np.log(g_var/g_mean), np.log(o_var/o_mean), c=num_sqr, cmap=matplotlib.cm.viridis)\n",
    "plt.colorbar(cbar)\n",
    "simpleaxis(ax)\n",
    "plt.show()\n",
    "\n",
    "fig, ax = plt.subplots()\n",
    "cbar = ax.scatter(np.log(g_var/o_var), np.log(g_mean/o_mean), c=num_sqr, cmap=matplotlib.cm.viridis)\n",
    "plt.colorbar(cbar)\n",
    "simpleaxis(ax)\n",
    "plt.show()\n",
    "\n",
    "ff_ratio = (g_var/g_mean)/(o_var/o_mean)\n",
    "fig, ax  = plt.subplots()\n",
    "ax.hist(np.log(ff_ratio))\n",
    "plt.show()\n",
    "\n",
    "\n",
    "print(len(np.where(np.log(ff_ratio) <0)[0])/float(len((np.log(ff_ratio)))))"
   ]
  },
  {
   "cell_type": "code",
   "execution_count": 160,
   "metadata": {},
   "outputs": [
    {
     "ename": "KeyError",
     "evalue": "frozenset([(1, 5)])",
     "output_type": "error",
     "traceback": [
      "\u001b[0;31m---------------------------------------------------------------------------\u001b[0m",
      "\u001b[0;31mKeyError\u001b[0m                                  Traceback (most recent call last)",
      "\u001b[0;32m<ipython-input-160-a434623f3b9f>\u001b[0m in \u001b[0;36m<module>\u001b[0;34m()\u001b[0m\n\u001b[1;32m      8\u001b[0m \u001b[0mmax_exp\u001b[0m\u001b[0;34m,\u001b[0m \u001b[0mmax_g_exp\u001b[0m \u001b[0;34m=\u001b[0m \u001b[0;36m0.\u001b[0m\u001b[0;34m,\u001b[0m\u001b[0;36m0.\u001b[0m\u001b[0;34m\u001b[0m\u001b[0m\n\u001b[1;32m      9\u001b[0m \u001b[0;32mfor\u001b[0m \u001b[0msqr\u001b[0m \u001b[0;32min\u001b[0m \u001b[0msorted\u001b[0m\u001b[0;34m(\u001b[0m\u001b[0mobserved\u001b[0m\u001b[0;34m)\u001b[0m\u001b[0;34m:\u001b[0m\u001b[0;34m\u001b[0m\u001b[0m\n\u001b[0;32m---> 10\u001b[0;31m     \u001b[0msquareVal\u001b[0m\u001b[0;34m.\u001b[0m\u001b[0mappend\u001b[0m\u001b[0;34m(\u001b[0m\u001b[0max\u001b[0m\u001b[0;34m[\u001b[0m\u001b[0;36m0\u001b[0m\u001b[0;34m]\u001b[0m\u001b[0;34m.\u001b[0m\u001b[0mscatter\u001b[0m\u001b[0;34m(\u001b[0m\u001b[0mexpected\u001b[0m\u001b[0;34m[\u001b[0m\u001b[0msqr\u001b[0m\u001b[0;34m]\u001b[0m\u001b[0;34m,\u001b[0m \u001b[0mobserved\u001b[0m\u001b[0;34m[\u001b[0m\u001b[0msqr\u001b[0m\u001b[0;34m]\u001b[0m\u001b[0;34m,\u001b[0m \u001b[0mlabel\u001b[0m\u001b[0;34m=\u001b[0m\u001b[0mstr\u001b[0m\u001b[0;34m(\u001b[0m\u001b[0msqr\u001b[0m\u001b[0;34m)\u001b[0m\u001b[0;34m,\u001b[0m \u001b[0mc\u001b[0m\u001b[0;34m=\u001b[0m\u001b[0mcolor_sqr\u001b[0m\u001b[0;34m[\u001b[0m\u001b[0msqr\u001b[0m\u001b[0;34m]\u001b[0m\u001b[0;34m,\u001b[0m \u001b[0malpha\u001b[0m\u001b[0;34m=\u001b[0m\u001b[0;36m0.8\u001b[0m\u001b[0;34m,\u001b[0m \u001b[0ms\u001b[0m\u001b[0;34m=\u001b[0m\u001b[0;36m3\u001b[0m\u001b[0;34m)\u001b[0m\u001b[0;34m)\u001b[0m\u001b[0;34m\u001b[0m\u001b[0m\n\u001b[0m\u001b[1;32m     11\u001b[0m     \u001b[0mmax_exp\u001b[0m \u001b[0;34m=\u001b[0m \u001b[0mmax\u001b[0m\u001b[0;34m(\u001b[0m\u001b[0mmax_exp\u001b[0m\u001b[0;34m,\u001b[0m \u001b[0mmax\u001b[0m\u001b[0;34m(\u001b[0m\u001b[0mexpected\u001b[0m\u001b[0;34m[\u001b[0m\u001b[0msqr\u001b[0m\u001b[0;34m]\u001b[0m\u001b[0;34m)\u001b[0m\u001b[0;34m)\u001b[0m\u001b[0;34m\u001b[0m\u001b[0m\n\u001b[1;32m     12\u001b[0m     \u001b[0mlist_control_expected\u001b[0m \u001b[0;34m+=\u001b[0m \u001b[0mexpected\u001b[0m\u001b[0;34m[\u001b[0m\u001b[0msqr\u001b[0m\u001b[0;34m]\u001b[0m\u001b[0;34m\u001b[0m\u001b[0m\n",
      "\u001b[0;31mKeyError\u001b[0m: frozenset([(1, 5)])"
     ]
    },
    {
     "data": {
      "image/png": "[encoded data removed]",
      "text/plain": [
       "<matplotlib.figure.Figure at 0x7f768af6c290>"
      ]
     },
     "metadata": {},
     "output_type": "display_data"
    }
   ],
   "source": [
    "f, ax = plt.subplots(1,2, sharey=True)\n",
    "\n",
    "## Control stuff\n",
    "squareVal = []\n",
    "list_control_expected = []\n",
    "list_control_observed = []\n",
    "\n",
    "max_exp, max_g_exp = 0.,0.\n",
    "for sqr in sorted(observed):\n",
    "    squareVal.append(ax[0].scatter(expected[sqr], observed[sqr], label=str(sqr), c=color_sqr[sqr], alpha=0.8, s=3))\n",
    "    max_exp = max(max_exp, max(expected[sqr]))\n",
    "    list_control_expected += expected[sqr]\n",
    "    list_control_observed += observed[sqr]\n",
    "    \n",
    "X = np.array(list_control_expected)\n",
    "y = np.array(list_control_observed)\n",
    "idx   = np.argsort(X)\n",
    "X = X[idx]\n",
    "y = y[idx]\n",
    "\n",
    "linear_Model = lmfit.Model(linearModel)\n",
    "DN_Model = lmfit.Model(DN_model)\n",
    "\n",
    "lin_pars = linear_Model.make_params()\n",
    "lin_result = linear_Model.fit(y, lin_pars, x=X)\n",
    "lin_aic.append(lin_result.aic)\n",
    "lin_chi.append(lin_result.redchi)\n",
    "\n",
    "DN_pars = DN_Model.make_params()\n",
    "DN_result = DN_Model.fit(y, DN_pars, x=X)\n",
    "dn_aic.append(DN_result.aic)\n",
    "dn_chi.append(DN_result.redchi)\n",
    "\n",
    "# print (lin_result.fit_report())\n",
    "# print (DN_result.fit_report())\n",
    "\n",
    "ax[0].set_xlim(xmin=0.)\n",
    "ax[0].set_ylim(ymin=0.)\n",
    "ax[0].set_xlabel(\"Expected\")\n",
    "ax[0].set_ylabel(\"Observed\")\n",
    "ax[0].set_title(\"Divisive Normalization fits\")\n",
    "div_norm = ax[0].plot(X, DN_result.best_fit, '-')\n",
    "\n",
    "\n",
    "max_exp *=1.1\n",
    "max_g_exp *=1.1\n",
    "ax[0].set_xlim(0,max_exp)\n",
    "ax[0].set_ylim(0,max_exp)\n",
    "ax[0].set_xlabel(\"Expected Sum (mV)\")\n",
    "ax[0].set_ylabel(\"Observed Sum (mV)\")\n",
    "linear = ax[0].plot((0,max_exp), (0,max_exp), '--', c='gray')\n",
    "\n",
    "legends = div_norm\n",
    "#labels = [ \"$\\\\beta={:.2f}$ \\n $ \\\\gamma={:.2f}$\".format(DN_result.params['beta'].value, DN_result.params['gamma'].value)]\n",
    "labels = [ \"$ \\\\gamma={:.2f}$\".format(DN_result.params['gamma'].value)]\n",
    "ax[0].legend(legends, labels)\n",
    "\n",
    "\n",
    "### GABAzine stuff \n",
    "squareVal = []\n",
    "list_gabazine_expected = []\n",
    "list_gabazine_observed = []\n",
    "\n",
    "max_exp, max_g_exp = 0.,0.\n",
    "for sqr in sorted(g_observed):\n",
    "    squareVal.append(ax[1].scatter(g_expected[sqr], g_observed[sqr], label=str(sqr), c=color_sqr[sqr], alpha=0.8, s=3))\n",
    "    max_exp = max(max_exp, max(g_expected[sqr]))\n",
    "    list_gabazine_expected += g_expected[sqr]\n",
    "    list_gabazine_observed += g_observed[sqr]\n",
    "    \n",
    "X = np.array(list_gabazine_expected)\n",
    "y = np.array(list_gabazine_observed)\n",
    "idx   = np.argsort(X)\n",
    "X = X[idx]\n",
    "y = y[idx]\n",
    "\n",
    "linear_Model = lmfit.Model(linearModel)\n",
    "DN_Model = lmfit.Model(DN_model)\n",
    "\n",
    "lin_pars = linear_Model.make_params()\n",
    "lin_result = linear_Model.fit(y, lin_pars, x=X)\n",
    "lin_aic.append(lin_result.aic)\n",
    "lin_chi.append(lin_result.redchi)\n",
    "\n",
    "DN_pars = DN_Model.make_params()\n",
    "DN_result = DN_Model.fit(y, DN_pars, x=X)\n",
    "dn_aic.append(DN_result.aic)\n",
    "dn_chi.append(DN_result.redchi)\n",
    "\n",
    "# print (lin_result.fit_report())\n",
    "# print (DN_result.fit_report())\n",
    "\n",
    "ax[1].set_xlim(xmin=0.)\n",
    "ax[1].set_ylim(ymin=0.)\n",
    "ax[1].set_title(\"Divisive Normalization fits\")\n",
    "div_norm = ax[1].plot(X, DN_result.best_fit, '-')\n",
    "\n",
    "\n",
    "max_exp *=1.1\n",
    "max_g_exp *=1.1\n",
    "ax[1].set_xlim(0,max_exp)\n",
    "ax[1].set_ylim(0,max_exp)\n",
    "ax[1].set_xlabel(\"Expected Sum (mV)\")\n",
    "# ax[1].set_ylabel(\"Observed Sum (mV)\")\n",
    "linear = ax[1].plot((0,max_exp), (0,max_exp), '--', c='gray')\n",
    "\n",
    "legends = div_norm\n",
    "#labels = [ \"$\\\\beta={:.2f}$ \\n $\\\\gamma={:.2f}$\".format(DN_result.params['beta'].value, DN_result.params['gamma'].value)]\n",
    "labels = [ \"$\\\\gamma={:.2f}$\".format(DN_result.params['gamma'].value)]\n",
    "ax[1].legend(legends, labels)\n",
    "ax[1].yaxis.set_visible(False)\n",
    "simpleaxis(ax)\n",
    "f.set_figwidth(3)\n",
    "f.set_figheight(1.5)\n",
    "dump(f,file('figures/fig5/5a.pkl','wb'))\n",
    "plt.show()"
   ]
  },
  {
   "cell_type": "markdown",
   "metadata": {},
   "source": [
    "## 5 C Gabazine - Control responses are still balanced"
   ]
  },
  {
   "cell_type": "code",
   "execution_count": null,
   "metadata": {},
   "outputs": [],
   "source": [
    "feature = 0\n",
    "#expected, observed, g_expected, g_observed = {}, {}, {}, {}\n",
    "control, gabazine = {}, {}\n",
    "for expType, exp in neuron:\n",
    "    ## Control case\n",
    "    if(expType == \"Control\"):\n",
    "        for sqr in exp:\n",
    "            if sqr > 1:\n",
    "                expected[sqr] = []\n",
    "                observed[sqr] = []\n",
    "                for coord in exp[sqr].coordwise:\n",
    "                    if all([value == 0 for value in exp[sqr].coordwise[coord].flags.values()]):\n",
    "                        control[sqr] = exp[sqr]\n",
    "    ## Gabazine case\n",
    "    if(expType == \"GABAzine\"):\n",
    "        for sqr in exp:\n",
    "            if sqr > 1:\n",
    "                g_expected[sqr] = []\n",
    "                g_observed[sqr] = []\n",
    "                for coord in exp[sqr].coordwise:\n",
    "                    if all([value == 0 for value in exp[sqr].coordwise[coord].flags.values()]):\n",
    "                        gabazine[sqr] = exp[sqr]\n",
    "\n",
    "derived_inh, exc = {}, {}\n",
    "for sq in set(control).intersection(set(gabazine)):\n",
    "    derived_inh[sq] = []\n",
    "    exc[sq] = []\n",
    "    for coord in set(control[sq].coordwise).intersection(set(gabazine[sq].coordwise)):\n",
    "        derived_inh[sq].append(gabazine[sq].coordwise[coord].average_feature[feature] - control[sq].coordwise[coord].average_feature[feature])\n",
    "        exc[sq].append(gabazine[sq].coordwise[coord].average_feature[feature])\n",
    "### Derived Inh\n",
    "squareVal = []\n",
    "list_exc = []\n",
    "list_inh = []\n",
    "f, ax = plt.subplots()\n",
    "max_exp, max_g_exp = 0.,0.\n",
    "for sqr in sorted(derived_inh):\n",
    "    squareVal.append(ax.scatter(exc[sqr], derived_inh[sqr], label=str(sqr), c=color_sqr[sqr], s=5))\n",
    "    max_exp = max(max_exp, max(exc[sqr]))\n",
    "    list_exc += exc[sqr]\n",
    "    list_inh += derived_inh[sqr]\n",
    "    \n",
    "max_exp *=1.1\n",
    "max_g_exp *=1.1\n",
    "ax.set_xlim(0,max_exp)\n",
    "ax.set_ylim(0,max_exp)\n",
    "ax.set_xlabel(\"Excitation (mV)\")\n",
    "ax.set_ylabel(\"Derived Inhibition (mV)\")\n",
    "linear = ax.plot((0,max_exp), (0,max_exp), '--', c='gray')\n",
    "\n",
    "legends = squareVal + linear\n",
    "labels = sorted(observed.keys()) + [ \"Linear sum\"]\n",
    "\n",
    "slope, intercept, rval, pval, stderr = ss.linregress(list_exc, list_inh)\n",
    "x_ = np.linspace(0,max_exp)\n",
    "y_ = (slope*x_) + intercept\n",
    "ax.plot(x_,y_, '--', color='gray')\n",
    "print slope, rval**2, intercept\n",
    "x_intercept = -intercept/slope\n",
    "print x_intercept\n",
    "# ax.legend(legends, labels)\n",
    "\n",
    "f.set_figwidth(2)\n",
    "f.set_figheight(2)\n",
    "simpleaxis(ax)\n",
    "plt.show()"
   ]
  }
 ],
 "metadata": {
  "hide_input": false,
  "kernelspec": {
   "display_name": "Python 2",
   "language": "python",
   "name": "python2"
  },
  "language_info": {
   "codemirror_mode": {
    "name": "ipython",
    "version": 2
   },
   "file_extension": ".py",
   "mimetype": "text/x-python",
   "name": "python",
   "nbconvert_exporter": "python",
   "pygments_lexer": "ipython2",
   "version": "2.7.12"
  },
  "toc": {
   "colors": {
    "hover_highlight": "#DAA520",
    "navigate_num": "#000000",
    "navigate_text": "#333333",
    "running_highlight": "#FF0000",
    "selected_highlight": "#FFD700",
    "sidebar_border": "#EEEEEE",
    "wrapper_background": "#FFFFFF"
   },
   "moveMenuLeft": true,
   "nav_menu": {
    "height": "45px",
    "width": "252px"
   },
   "navigate_menu": true,
   "number_sections": true,
   "sideBar": true,
   "threshold": 4,
   "toc_cell": false,
   "toc_section_display": "block",
   "toc_window_display": false,
   "widenNotebook": false
  },
  "varInspector": {
   "cols": {
    "lenName": 16,
    "lenType": 16,
    "lenVar": 40
   },
   "kernels_config": {
    "python": {
     "delete_cmd_postfix": "",
     "delete_cmd_prefix": "del ",
     "library": "var_list.py",
     "varRefreshCmd": "print(var_dic_list())"
    },
    "r": {
     "delete_cmd_postfix": ") ",
     "delete_cmd_prefix": "rm(",
     "library": "var_list.r",
     "varRefreshCmd": "cat(var_dic_list()) "
    }
   },
   "types_to_exclude": [
    "module",
    "function",
    "builtin_function_or_method",
    "instance",
    "_Feature"
   ],
   "window_display": false
  }
 },
 "nbformat": 4,
 "nbformat_minor": 2
}
