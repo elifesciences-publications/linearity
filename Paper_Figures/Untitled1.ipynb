{
 "cells": [
  {
   "cell_type": "code",
   "execution_count": 1,
   "metadata": {
    "collapsed": true
   },
   "outputs": [],
   "source": [
    "import tensorflow as tf"
   ]
  },
  {
   "cell_type": "code",
   "execution_count": 3,
   "metadata": {},
   "outputs": [],
   "source": [
    "node1 = tf.constant(6.0, dtype = tf.float32)"
   ]
  },
  {
   "cell_type": "code",
   "execution_count": 4,
   "metadata": {},
   "outputs": [
    {
     "data": {
      "text/plain": [
       "<tf.Tensor 'Const_1:0' shape=() dtype=float32>"
      ]
     },
     "execution_count": 4,
     "metadata": {},
     "output_type": "execute_result"
    }
   ],
   "source": [
    "node1"
   ]
  },
  {
   "cell_type": "code",
   "execution_count": 5,
   "metadata": {
    "collapsed": true
   },
   "outputs": [],
   "source": [
    "import os, pandas"
   ]
  },
  {
   "cell_type": "code",
   "execution_count": 9,
   "metadata": {},
   "outputs": [
    {
     "data": {
      "text/html": [
       "<div>\n",
       "<table border=\"1\" class=\"dataframe\">\n",
       "  <thead>\n",
       "    <tr style=\"text-align: right;\">\n",
       "      <th></th>\n",
       "      <th>⎡ Virtual core pointer                    \tid=2\t[master pointer  (3)]</th>\n",
       "    </tr>\n",
       "  </thead>\n",
       "  <tbody>\n",
       "    <tr>\n",
       "      <th>0</th>\n",
       "      <td>⎜   ↳ Virtual core XTEST pointer              ...</td>\n",
       "    </tr>\n",
       "    <tr>\n",
       "      <th>1</th>\n",
       "      <td>⎜   ↳ ETPS/2 Elantech Touchpad                ...</td>\n",
       "    </tr>\n",
       "    <tr>\n",
       "      <th>2</th>\n",
       "      <td>⎜   ↳ USB Optical Mouse                       ...</td>\n",
       "    </tr>\n",
       "    <tr>\n",
       "      <th>3</th>\n",
       "      <td>⎣ Virtual core keyboard                   \\tid...</td>\n",
       "    </tr>\n",
       "    <tr>\n",
       "      <th>4</th>\n",
       "      <td>↳ Virtual core XTEST keyboard             ...</td>\n",
       "    </tr>\n",
       "    <tr>\n",
       "      <th>5</th>\n",
       "      <td>↳ Power Button                            ...</td>\n",
       "    </tr>\n",
       "    <tr>\n",
       "      <th>6</th>\n",
       "      <td>↳ Video Bus                               ...</td>\n",
       "    </tr>\n",
       "    <tr>\n",
       "      <th>7</th>\n",
       "      <td>↳ Video Bus                               ...</td>\n",
       "    </tr>\n",
       "    <tr>\n",
       "      <th>8</th>\n",
       "      <td>↳ Sleep Button                            ...</td>\n",
       "    </tr>\n",
       "    <tr>\n",
       "      <th>9</th>\n",
       "      <td>↳ USB 2.0 UVC VGA WebCam                  ...</td>\n",
       "    </tr>\n",
       "    <tr>\n",
       "      <th>10</th>\n",
       "      <td>↳ Asus WMI hotkeys                        ...</td>\n",
       "    </tr>\n",
       "    <tr>\n",
       "      <th>11</th>\n",
       "      <td>↳ AT Translated Set 2 keyboard            ...</td>\n",
       "    </tr>\n",
       "    <tr>\n",
       "      <th>12</th>\n",
       "      <td>↳   USB Keyboard                          ...</td>\n",
       "    </tr>\n",
       "    <tr>\n",
       "      <th>13</th>\n",
       "      <td>↳   USB Keyboard                          ...</td>\n",
       "    </tr>\n",
       "  </tbody>\n",
       "</table>\n",
       "</div>"
      ],
      "text/plain": [
       "   ⎡ Virtual core pointer                    \\tid=2\\t[master pointer  (3)]\n",
       "0   ⎜   ↳ Virtual core XTEST pointer              ...                     \n",
       "1   ⎜   ↳ ETPS/2 Elantech Touchpad                ...                     \n",
       "2   ⎜   ↳ USB Optical Mouse                       ...                     \n",
       "3   ⎣ Virtual core keyboard                   \\tid...                     \n",
       "4       ↳ Virtual core XTEST keyboard             ...                     \n",
       "5       ↳ Power Button                            ...                     \n",
       "6       ↳ Video Bus                               ...                     \n",
       "7       ↳ Video Bus                               ...                     \n",
       "8       ↳ Sleep Button                            ...                     \n",
       "9       ↳ USB 2.0 UVC VGA WebCam                  ...                     \n",
       "10      ↳ Asus WMI hotkeys                        ...                     \n",
       "11      ↳ AT Translated Set 2 keyboard            ...                     \n",
       "12      ↳   USB Keyboard                          ...                     \n",
       "13      ↳   USB Keyboard                          ...                     "
      ]
     },
     "execution_count": 9,
     "metadata": {},
     "output_type": "execute_result"
    }
   ],
   "source": [
    "path = \"~/Documents/\"\n",
    "fileName = \"all_inputs.txt\"\n",
    "pandas.read_csv(os.path.join(path, fileName))"
   ]
  },
  {
   "cell_type": "code",
   "execution_count": 8,
   "metadata": {},
   "outputs": [
    {
     "name": "stdout",
     "output_type": "stream",
     "text": [
      "all_inputs.txt\r\n",
      "arvind.odt\r\n",
      "Asus_centre.txt\r\n",
      "\u001b[0m\u001b[01;34mbank\u001b[0m/\r\n",
      "bistability and robustness.bib\r\n",
      "bistability.bib\r\n",
      "CAMP2014 Machine.ova\r\n",
      "CAMP2014.ova\r\n",
      "CAMP-2015.ova\r\n",
      "CE Exam Report2013_0.doc\r\n",
      "\u001b[01;34mCodes\u001b[0m/\r\n",
      "\u001b[01;34mComprehensive papers\u001b[0m/\r\n",
      "Compre_sched.planner\r\n",
      "Computational Neuro &  Cognitive Science.bib\r\n",
      "\u001b[01;34mCopasi_results\u001b[0m/\r\n",
      "csir_form.pdf\r\n",
      "\u001b[01;34mcspace\u001b[0m/\r\n",
      "\u001b[01;35mDN_model_schematic.png\u001b[0m\r\n",
      "\u001b[01;35mDN_model_schematic.svg\u001b[0m\r\n",
      "\u001b[01;34mdolna\u001b[0m/\r\n",
      "Employee-Self Assesment- Life Science -13-14.doc\r\n",
      "\u001b[01;34mhasiru\u001b[0m/\r\n",
      "hebbs_hour\r\n",
      "\u001b[01;34mhome_router\u001b[0m/\r\n",
      "\u001b[01;34mitalc-2.0.2\u001b[0m/\r\n",
      "\u001b[01;34mlabnotes\u001b[0m/\r\n",
      "library.bib\r\n",
      "library.bib.bak\r\n",
      "library.bib.blg\r\n",
      "LV_trial.blend\r\n",
      "LV_trial.blend1\r\n",
      "\u001b[01;34mLV_trial_files\u001b[0m/\r\n",
      "\u001b[01;34mMachineLearning\u001b[0m/\r\n",
      "Main.planner\r\n",
      "\u001b[01;34mMATLAB\u001b[0m/\r\n",
      "\u001b[01;34mMay232013_gul_laptop\u001b[0m/\r\n",
      "\u001b[01;34mmcell\u001b[0m/\r\n",
      "\u001b[01;34mmoose\u001b[0m/\r\n",
      "\u001b[01;34mMy Music\u001b[0m/\r\n",
      "\u001b[01;34mMy Pictures\u001b[0m/\r\n",
      "\u001b[01;34mMy Videos\u001b[0m/\r\n",
      "\u001b[01;34mnbjc\u001b[0m/\r\n",
      "\u001b[01;34mNeuro\u001b[0m/\r\n",
      "openLabSession\r\n",
      "\u001b[01;34mOpenLabSession\u001b[0m/\r\n",
      "Paper - bistability.bib\r\n",
      "\u001b[01;34mpong_game\u001b[0m/\r\n",
      "\u001b[01;34mProject-workspace\u001b[0m/\r\n",
      "\u001b[01;34mRangamanch\u001b[0m/\r\n",
      "\u001b[01;35mratio_of_nsphere_volume_to_cube_with_dimensions.png\u001b[0m\r\n",
      "\u001b[01;34mRepressilator_mcell\u001b[0m/\r\n",
      "ScienceJournalismWorkshop.aux\r\n",
      "ScienceJournalismWorkshop.log\r\n",
      "ScienceJournalismWorkshop.pdf\r\n",
      "\u001b[01;31mScienceJournalismWorkshop.synctex.gz\u001b[0m\r\n",
      "ScienceJournalismWorkshop.tex\r\n",
      "ScienceJournalismWorkshop.tex.bak\r\n",
      "\u001b[01;34msil\u001b[0m/\r\n",
      "Simulation.bib\r\n",
      "SOI.aux\r\n",
      "SOI.log\r\n",
      "SOI.pdf\r\n",
      "\u001b[01;31mSOI.synctex.gz\u001b[0m\r\n",
      "SOI.tex\r\n",
      "SOI.tex.bak\r\n",
      "Spines and LTP.bib\r\n",
      "Spines.bib\r\n",
      "Spines, plasticity and LTP.bib\r\n",
      "\u001b[01;34mstackoverflow\u001b[0m/\r\n",
      "\u001b[01;34mstagecraft\u001b[0m/\r\n",
      "start_time.txt\r\n",
      "\u001b[01;34mStat_Mech_temp\u001b[0m/\r\n",
      "systems biology.bib\r\n",
      "Systems Biology.bib\r\n",
      "test.pl\r\n",
      "test.pl~\r\n",
      "texput.log\r\n",
      "\u001b[01;34mTime-management\u001b[0m/\r\n",
      "\u001b[01;34mtrial\u001b[0m/\r\n",
      "trial_mail_marge.csv\r\n",
      "\u001b[01;34mTutorial_CAMP\u001b[0m/\r\n",
      "\u001b[01;34mupi\u001b[0m/\r\n",
      "\u001b[01;34mvbox_\u001b[0m/\r\n",
      "\u001b[01;34mwioleta\u001b[0m/\r\n",
      "\u001b[01;34mWork_backup_09042013\u001b[0m/\r\n"
     ]
    }
   ],
   "source": [
    "ls /home/sahil/Documents/"
   ]
  },
  {
   "cell_type": "code",
   "execution_count": null,
   "metadata": {
    "collapsed": true
   },
   "outputs": [],
   "source": []
  }
 ],
 "metadata": {
  "hide_input": false,
  "kernelspec": {
   "display_name": "Python 2",
   "language": "python",
   "name": "python2"
  },
  "language_info": {
   "codemirror_mode": {
    "name": "ipython",
    "version": 2
   },
   "file_extension": ".py",
   "mimetype": "text/x-python",
   "name": "python",
   "nbconvert_exporter": "python",
   "pygments_lexer": "ipython2",
   "version": "2.7.12"
  },
  "latex_envs": {
   "LaTeX_envs_menu_present": true,
   "autocomplete": true,
   "bibliofile": "biblio.bib",
   "cite_by": "apalike",
   "current_citInitial": 1,
   "eqLabelWithNumbers": true,
   "eqNumInitial": 1,
   "hotkeys": {
    "equation": "Ctrl-E",
    "itemize": "Ctrl-I"
   },
   "labels_anchors": false,
   "latex_user_defs": false,
   "report_style_numbering": false,
   "user_envs_cfg": false
  },
  "toc": {
   "colors": {
    "hover_highlight": "#DAA520",
    "navigate_num": "#000000",
    "navigate_text": "#333333",
    "running_highlight": "#FF0000",
    "selected_highlight": "#FFD700",
    "sidebar_border": "#EEEEEE",
    "wrapper_background": "#FFFFFF"
   },
   "moveMenuLeft": true,
   "nav_menu": {
    "height": "12px",
    "width": "252px"
   },
   "navigate_menu": true,
   "number_sections": true,
   "sideBar": true,
   "threshold": 4,
   "toc_cell": false,
   "toc_section_display": "block",
   "toc_window_display": true,
   "widenNotebook": false
  },
  "varInspector": {
   "cols": {
    "lenName": 16,
    "lenType": 16,
    "lenVar": 40
   },
   "kernels_config": {
    "python": {
     "delete_cmd_postfix": "",
     "delete_cmd_prefix": "del ",
     "library": "var_list.py",
     "varRefreshCmd": "print(var_dic_list())"
    },
    "r": {
     "delete_cmd_postfix": ") ",
     "delete_cmd_prefix": "rm(",
     "library": "var_list.r",
     "varRefreshCmd": "cat(var_dic_list()) "
    }
   },
   "types_to_exclude": [
    "module",
    "function",
    "builtin_function_or_method",
    "instance",
    "_Feature"
   ],
   "window_display": false
  }
 },
 "nbformat": 4,
 "nbformat_minor": 2
}
