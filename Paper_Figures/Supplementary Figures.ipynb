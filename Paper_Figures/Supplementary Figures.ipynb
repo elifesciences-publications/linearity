{
 "cells": [
  {
   "cell_type": "markdown",
   "metadata": {},
   "source": [
    "# <center> Supplementary Paper figures </center>"
   ]
  },
  {
   "cell_type": "code",
   "execution_count": 1,
   "metadata": {},
   "outputs": [],
   "source": [
    "import sys\n",
    "sys.path.append(\"../\")\n",
    "import glob\n",
    "import matplotlib\n",
    "import matplotlib.pyplot as plt\n",
    "import numpy as np\n",
    "from Linearity import Neuron\n",
    "import scipy.stats as ss\n",
    "plt.style.use('neuron_color')\n",
    "from pickle import dump\n",
    "import os"
   ]
  },
  {
   "cell_type": "code",
   "execution_count": 2,
   "metadata": {},
   "outputs": [],
   "source": [
    "def simpleaxis(axes, every=False, outward=False):\n",
    "    if not isinstance(axes, (list, np.ndarray)):\n",
    "        axes = np.array([axes])\n",
    "    for ax in np.array(axes).flatten():\n",
    "        ax.spines['top'].set_visible(False)\n",
    "        ax.spines['right'].set_visible(False)\n",
    "        if (outward):\n",
    "            ax.spines['bottom'].set_position(('outward', 10))\n",
    "            ax.spines['left'].set_position(('outward', 10))\n",
    "        if every:\n",
    "            ax.spines['bottom'].set_visible(False)\n",
    "            ax.spines['left'].set_visible(False)\n",
    "        ax.get_xaxis().tick_bottom()\n",
    "        ax.get_yaxis().tick_left()\n",
    "        ax.set_title('')"
   ]
  },
  {
   "cell_type": "markdown",
   "metadata": {},
   "source": [
    "## One square distributions of Control and GABAzine are similar, while two square onwards starts to diverge."
   ]
  },
  {
   "cell_type": "code",
   "execution_count": 3,
   "metadata": {},
   "outputs": [
    {
     "name": "stdout",
     "output_type": "stream",
     "text": [
      "Reading  /home/bhalla/Documents/Codes/data/media/sahil/NCBS_Shares_BGStim/patch_data/160817/c4/plots/c4.pkl\n",
      "Reading  /home/bhalla/Documents/Codes/data/media/sahil/NCBS_Shares_BGStim/patch_data/160830/c1/plots/c1.pkl\n",
      "Reading  /home/bhalla/Documents/Codes/data/media/sahil/NCBS_Shares_BGStim/patch_data/160920/c1/plots/c1.pkl\n",
      "Reading  /home/bhalla/Documents/Codes/data/media/sahil/NCBS_Shares_BGStim/patch_data/160927/c5/plots/c5.pkl\n",
      "Reading  /home/bhalla/Documents/Codes/data/media/sahil/NCBS_Shares_BGStim/patch_data/160928/c4/plots/c4.pkl\n",
      "Reading  /home/bhalla/Documents/Codes/data/media/sahil/NCBS_Shares_BGStim/patch_data/161013/c1/plots/c1.pkl\n",
      "Reading  /home/bhalla/Documents/Codes/data/media/sahil/NCBS_Shares_BGStim/patch_data/161027/c3/plots/c3.pkl\n",
      "Reading  /home/bhalla/Documents/Codes/data/media/sahil/NCBS_Shares_BGStim/patch_data/161117/c1/plots/c1.pkl\n",
      "Reading  /home/bhalla/Documents/Codes/data/media/sahil/NCBS_Shares_BGStim/patch_data/161228/c1/plots/c1.pkl\n",
      "Reading  /home/bhalla/Documents/Codes/data/media/sahil/NCBS_Shares_BGStim/patch_data/170222/c2/plots/c2.pkl\n",
      "Reading  /home/bhalla/Documents/Codes/data/media/sahil/NCBS_Shares_BGStim/patch_data/170303/c1/plots/c1.pkl\n",
      "Read 11 files.\n"
     ]
    }
   ],
   "source": [
    "#fileList = glob.glob(\"/media/sahil/NCBS_Shares_BGStim/patch_data/**/c?/plots/*.pkl\")\n",
    "neuronList = []\n",
    "prefix = '/home/bhalla/Documents/Codes/data'\n",
    "with open(prefix + \"/media/sahil/NCBS_Shares_BGStim/patch_data/current_clamp_files_with_GABAzine.txt\", 'r') as fp:\n",
    "    fileList = fp.read().splitlines()\n",
    "    for i,filename in enumerate(fileList):\n",
    "        fileList[i] += \"plots/\" + filename.split('/')[-2] + \".pkl\"\n",
    "        try:\n",
    "            print (\"Reading \", prefix + fileList[i])\n",
    "            neuronList.append(Neuron.load(prefix + fileList[i]))\n",
    "        except:\n",
    "            print (\"Couldn't read\", prefix + fileList[i])\n",
    "print (\"Read {} files.\".format(len(fileList)))"
   ]
  },
  {
   "cell_type": "code",
   "execution_count": 4,
   "metadata": {},
   "outputs": [],
   "source": [
    "def figure2(feature=0, square=1):\n",
    "    ''' Looking at the one square distribution for GABAzine and Control'''\n",
    "                        \n",
    "    numNeurons = 0\n",
    "    control_vmax = []\n",
    "    gabazine_vmax = []\n",
    "    \n",
    "    for neuron in neuronList:\n",
    "        if len(neuron.experiment)>1:\n",
    "            try:\n",
    "                control_trials = neuron.experiment[\"Control\"][square].trial\n",
    "                gabazine_trials = neuron.experiment[\"GABAzine\"][square].trial\n",
    "                for trial in control_trials:\n",
    "                    try:\n",
    "                        control_vmax.append(control_trials[trial].feature[feature])\n",
    "                    except:\n",
    "                        print (\"trial didn't work\", trial)\n",
    "                for trial in gabazine_trials:\n",
    "                    try:\n",
    "                        gabazine_vmax.append(gabazine_trials[trial].feature[feature])\n",
    "                    except:\n",
    "                        print (\"trial didn't work\", trial)\n",
    "            except:\n",
    "                print (square, \"square not found in either or both in \", neuron.date, neuron.index)\n",
    "    \n",
    "    rangeMin = min(min(control_vmax), min(gabazine_vmax))\n",
    "    rangeMax = max(max(control_vmax), max(gabazine_vmax))\n",
    "    bins = np.linspace(rangeMin, rangeMax, 30)\n",
    "    fig, ax = plt.subplots()\n",
    "    ax.hist(control_vmax, bins=bins, label=\"Control\",  color='gray',histtype='step')\n",
    "    ax.hist(gabazine_vmax, bins=bins, label=\"GABAzine\", color='red',histtype='step')\n",
    "    ax.set_title(\"Comparing one square distributions for Control and GABAzine\")\n",
    "    ax.set_xlabel(\"PSP Amplitude (mV)\")\n",
    "    ax.set_ylabel(\"# recorded PSPs\")\n",
    "    simpleaxis(ax)\n",
    "    fig.set_figwidth(1.5)\n",
    "    fig.set_figheight(1.5)\n",
    "    plt.legend()\n",
    "    dump(fig,file('figures/supplementary/2_{}.pkl'.format(square),'wb'))\n",
    "    plt.show()\n",
    "    print(len(control_vmax), len(gabazine_vmax))\n",
    "    return control_vmax, gabazine_vmax"
   ]
  },
  {
   "cell_type": "code",
   "execution_count": 5,
   "metadata": {
    "scrolled": false
   },
   "outputs": [
    {
     "name": "stdout",
     "output_type": "stream",
     "text": [
      "trial didn't work 5\n",
      "trial didn't work 7\n",
      "trial didn't work 9\n",
      "trial didn't work 13\n",
      "trial didn't work 31\n",
      "trial didn't work 35\n",
      "trial didn't work 37\n",
      "trial didn't work 53\n",
      "trial didn't work 59\n",
      "trial didn't work 61\n",
      "trial didn't work 85\n",
      "trial didn't work 7\n",
      "trial didn't work 13\n",
      "trial didn't work 31\n",
      "trial didn't work 37\n",
      "trial didn't work 55\n",
      "trial didn't work 59\n",
      "trial didn't work 61\n",
      "trial didn't work 26\n",
      "trial didn't work 45\n",
      "trial didn't work 55\n",
      "trial didn't work 63\n",
      "trial didn't work 106\n"
     ]
    },
    {
     "data": {
      "image/png": "[encoded data removed]",
      "text/plain": [
       "<matplotlib.figure.Figure at 0x7fc188487e10>"
      ]
     },
     "metadata": {},
     "output_type": "display_data"
    },
    {
     "name": "stdout",
     "output_type": "stream",
     "text": [
      "1092 1173\n",
      "trial didn't work 5\n",
      "trial didn't work 7\n",
      "trial didn't work 9\n",
      "trial didn't work 13\n",
      "trial didn't work 31\n",
      "trial didn't work 35\n",
      "trial didn't work 37\n",
      "trial didn't work 53\n",
      "trial didn't work 59\n",
      "trial didn't work 61\n",
      "trial didn't work 85\n",
      "trial didn't work 7\n",
      "trial didn't work 13\n",
      "trial didn't work 31\n",
      "trial didn't work 37\n",
      "trial didn't work 55\n",
      "trial didn't work 59\n",
      "trial didn't work 61\n",
      "trial didn't work 26\n",
      "trial didn't work 45\n",
      "trial didn't work 55\n",
      "trial didn't work 63\n",
      "trial didn't work 106\n"
     ]
    },
    {
     "data": {
      "image/png": "[encoded data removed]",
      "text/plain": [
       "<matplotlib.figure.Figure at 0x7fc14d859750>"
      ]
     },
     "metadata": {},
     "output_type": "display_data"
    },
    {
     "name": "stdout",
     "output_type": "stream",
     "text": [
      "1092 1173\n",
      "trial didn't work 5\n",
      "trial didn't work 7\n",
      "trial didn't work 9\n",
      "trial didn't work 13\n",
      "trial didn't work 31\n",
      "trial didn't work 35\n",
      "trial didn't work 37\n",
      "trial didn't work 53\n",
      "trial didn't work 59\n",
      "trial didn't work 61\n",
      "trial didn't work 85\n",
      "trial didn't work 7\n",
      "trial didn't work 13\n",
      "trial didn't work 31\n",
      "trial didn't work 37\n",
      "trial didn't work 55\n",
      "trial didn't work 59\n",
      "trial didn't work 61\n",
      "trial didn't work 26\n",
      "trial didn't work 45\n",
      "trial didn't work 55\n",
      "trial didn't work 63\n",
      "trial didn't work 106\n"
     ]
    },
    {
     "data": {
      "image/png": "[encoded data removed]",
      "text/plain": [
       "<matplotlib.figure.Figure at 0x7fc14cb86ad0>"
      ]
     },
     "metadata": {},
     "output_type": "display_data"
    },
    {
     "name": "stdout",
     "output_type": "stream",
     "text": [
      "1092 1173\n",
      "trial didn't work 5\n",
      "trial didn't work 7\n",
      "trial didn't work 9\n",
      "trial didn't work 13\n",
      "trial didn't work 31\n",
      "trial didn't work 35\n",
      "trial didn't work 37\n",
      "trial didn't work 53\n",
      "trial didn't work 59\n",
      "trial didn't work 61\n",
      "trial didn't work 85\n",
      "trial didn't work 7\n",
      "trial didn't work 13\n",
      "trial didn't work 31\n",
      "trial didn't work 37\n",
      "trial didn't work 55\n",
      "trial didn't work 59\n",
      "trial didn't work 61\n",
      "trial didn't work 26\n",
      "trial didn't work 45\n",
      "trial didn't work 55\n",
      "trial didn't work 63\n",
      "trial didn't work 106\n"
     ]
    },
    {
     "data": {
      "image/png": "[encoded data removed]",
      "text/plain": [
       "<matplotlib.figure.Figure at 0x7fc14b744c50>"
      ]
     },
     "metadata": {},
     "output_type": "display_data"
    },
    {
     "name": "stdout",
     "output_type": "stream",
     "text": [
      "1092 1173\n",
      "trial didn't work 5\n",
      "trial didn't work 7\n",
      "trial didn't work 9\n",
      "trial didn't work 13\n",
      "trial didn't work 31\n",
      "trial didn't work 35\n",
      "trial didn't work 37\n",
      "trial didn't work 53\n",
      "trial didn't work 59\n",
      "trial didn't work 61\n",
      "trial didn't work 85\n",
      "trial didn't work 7\n",
      "trial didn't work 13\n",
      "trial didn't work 31\n",
      "trial didn't work 37\n",
      "trial didn't work 55\n",
      "trial didn't work 59\n",
      "trial didn't work 61\n",
      "trial didn't work 26\n",
      "trial didn't work 45\n",
      "trial didn't work 55\n",
      "trial didn't work 63\n",
      "trial didn't work 106\n"
     ]
    },
    {
     "data": {
      "image/png": "[encoded data removed]",
      "text/plain": [
       "<matplotlib.figure.Figure at 0x7fc14c59f050>"
      ]
     },
     "metadata": {},
     "output_type": "display_data"
    },
    {
     "name": "stdout",
     "output_type": "stream",
     "text": [
      "1092 1173\n",
      "trial didn't work 5\n",
      "trial didn't work 7\n",
      "trial didn't work 9\n",
      "trial didn't work 13\n",
      "trial didn't work 31\n",
      "trial didn't work 35\n",
      "trial didn't work 37\n",
      "trial didn't work 53\n",
      "trial didn't work 59\n",
      "trial didn't work 61\n",
      "trial didn't work 85\n",
      "trial didn't work 7\n",
      "trial didn't work 13\n",
      "trial didn't work 31\n",
      "trial didn't work 37\n",
      "trial didn't work 55\n",
      "trial didn't work 59\n",
      "trial didn't work 61\n",
      "trial didn't work 26\n",
      "trial didn't work 45\n",
      "trial didn't work 55\n",
      "trial didn't work 63\n",
      "trial didn't work 106\n"
     ]
    },
    {
     "data": {
      "image/png": "[encoded data removed]",
      "text/plain": [
       "<matplotlib.figure.Figure at 0x7fc14b736310>"
      ]
     },
     "metadata": {},
     "output_type": "display_data"
    },
    {
     "name": "stdout",
     "output_type": "stream",
     "text": [
      "1092 1173\n",
      "trial didn't work 5\n",
      "trial didn't work 7\n",
      "trial didn't work 9\n",
      "trial didn't work 13\n",
      "trial didn't work 31\n",
      "trial didn't work 35\n",
      "trial didn't work 37\n",
      "trial didn't work 53\n",
      "trial didn't work 59\n",
      "trial didn't work 61\n",
      "trial didn't work 85\n",
      "trial didn't work 7\n",
      "trial didn't work 13\n",
      "trial didn't work 31\n",
      "trial didn't work 37\n",
      "trial didn't work 55\n",
      "trial didn't work 59\n",
      "trial didn't work 61\n",
      "trial didn't work 26\n",
      "trial didn't work 45\n",
      "trial didn't work 55\n",
      "trial didn't work 63\n",
      "trial didn't work 106\n"
     ]
    },
    {
     "data": {
      "image/png": "[encoded data removed]",
      "text/plain": [
       "<matplotlib.figure.Figure at 0x7fc14b757610>"
      ]
     },
     "metadata": {},
     "output_type": "display_data"
    },
    {
     "name": "stdout",
     "output_type": "stream",
     "text": [
      "1092 1173\n"
     ]
    }
   ],
   "source": [
    "for feature in range(7):\n",
    "    c, g = figure2(square=1, feature=feature)"
   ]
  },
  {
   "cell_type": "code",
   "execution_count": 6,
   "metadata": {},
   "outputs": [
    {
     "data": {
      "text/plain": [
       "{0: 'epsp_max',\n",
       " 1: 'epsp_area',\n",
       " 2: 'epsp_avg',\n",
       " 3: 'epsp_time_to_peak',\n",
       " 4: 'epsp_area_to_peak',\n",
       " 5: 'epsp_min',\n",
       " 6: 'epsp_onset'}"
      ]
     },
     "execution_count": 6,
     "metadata": {},
     "output_type": "execute_result"
    }
   ],
   "source": [
    "neuronList[0].features"
   ]
  },
  {
   "cell_type": "code",
   "execution_count": 7,
   "metadata": {
    "scrolled": true
   },
   "outputs": [
    {
     "name": "stdout",
     "output_type": "stream",
     "text": [
      "2.521137205675473e-07 0.00017385531135531135 1.7684263607505622e-07 0.00011926683716965046\n",
      "0.0\n",
      "(1.0, -0.00020140520026913975, 0.0)\n",
      "2.521137205675473e-07 0.00017385531135531135 1.7684263607505622e-07 0.00011926683716965046\n",
      "0.0\n",
      "(1.0, -0.00020901535862166305, 0.0)\n"
     ]
    },
    {
     "name": "stderr",
     "output_type": "stream",
     "text": [
      "/usr/local/lib/python2.7/dist-packages/scipy/optimize/optimize.py:543: RuntimeWarning: invalid value encountered in subtract\n",
      "  numpy.max(numpy.abs(fsim[0] - fsim[1:])) <= fatol):\n"
     ]
    }
   ],
   "source": [
    "print(np.var(c, ddof=1), np.mean(c), np.var(g, ddof=1), np.mean(g))\n",
    "n, bins = np.histogram(g,bins=100)\n",
    "print(np.median(g))\n",
    "print(ss.lognorm.fit(g, fscale=np.median(g)))\n",
    "\n",
    "print(np.var(c, ddof=1), np.mean(c), np.var(g, ddof=1), np.mean(g))\n",
    "n, bins = np.histogram(c,bins=100)\n",
    "print(np.median(c))\n",
    "print(ss.lognorm.fit(c, fscale=np.median(c)))"
   ]
  },
  {
   "cell_type": "code",
   "execution_count": 8,
   "metadata": {},
   "outputs": [
    {
     "data": {
      "text/plain": [
       "(array([887,  11,  12,  10,   9,   5,   5,   4,  15,   8,   9,  10,   5,\n",
       "          6,   6,   2,   3,   7,   4,   7,   2,   5,   4,   2,   1,   2,\n",
       "          2,   6,   7,   1,   2,   3,   0,   2,   1,   1,   2,   2,   3,\n",
       "          1,   1,   2,   2,   1,   1,   1,   1,   0,   0,   1,   1,   0,\n",
       "          0,   1,   0,   0,   0,   0,   1,   0,   0,   0,   0,   1,   0,\n",
       "          0,   1,   0,   0,   0,   0,   0,   0,   0,   0,   0,   0,   0,\n",
       "          0,   0,   0,   0,   1,   0,   0,   0,   1,   0,   0,   0,   0,\n",
       "          0,   0,   0,   0,   0,   0,   0,   0,   1]),\n",
       " array([0.000e+00, 5.100e-05, 1.020e-04, 1.530e-04, 2.040e-04, 2.550e-04,\n",
       "        3.060e-04, 3.570e-04, 4.080e-04, 4.590e-04, 5.100e-04, 5.610e-04,\n",
       "        6.120e-04, 6.630e-04, 7.140e-04, 7.650e-04, 8.160e-04, 8.670e-04,\n",
       "        9.180e-04, 9.690e-04, 1.020e-03, 1.071e-03, 1.122e-03, 1.173e-03,\n",
       "        1.224e-03, 1.275e-03, 1.326e-03, 1.377e-03, 1.428e-03, 1.479e-03,\n",
       "        1.530e-03, 1.581e-03, 1.632e-03, 1.683e-03, 1.734e-03, 1.785e-03,\n",
       "        1.836e-03, 1.887e-03, 1.938e-03, 1.989e-03, 2.040e-03, 2.091e-03,\n",
       "        2.142e-03, 2.193e-03, 2.244e-03, 2.295e-03, 2.346e-03, 2.397e-03,\n",
       "        2.448e-03, 2.499e-03, 2.550e-03, 2.601e-03, 2.652e-03, 2.703e-03,\n",
       "        2.754e-03, 2.805e-03, 2.856e-03, 2.907e-03, 2.958e-03, 3.009e-03,\n",
       "        3.060e-03, 3.111e-03, 3.162e-03, 3.213e-03, 3.264e-03, 3.315e-03,\n",
       "        3.366e-03, 3.417e-03, 3.468e-03, 3.519e-03, 3.570e-03, 3.621e-03,\n",
       "        3.672e-03, 3.723e-03, 3.774e-03, 3.825e-03, 3.876e-03, 3.927e-03,\n",
       "        3.978e-03, 4.029e-03, 4.080e-03, 4.131e-03, 4.182e-03, 4.233e-03,\n",
       "        4.284e-03, 4.335e-03, 4.386e-03, 4.437e-03, 4.488e-03, 4.539e-03,\n",
       "        4.590e-03, 4.641e-03, 4.692e-03, 4.743e-03, 4.794e-03, 4.845e-03,\n",
       "        4.896e-03, 4.947e-03, 4.998e-03, 5.049e-03, 5.100e-03]))"
      ]
     },
     "execution_count": 8,
     "metadata": {},
     "output_type": "execute_result"
    }
   ],
   "source": [
    "n, bins"
   ]
  },
  {
   "cell_type": "code",
   "execution_count": 9,
   "metadata": {},
   "outputs": [],
   "source": [
    "?ss.lognorm.fit"
   ]
  },
  {
   "cell_type": "markdown",
   "metadata": {},
   "source": [
    "|Sq num|C_var|C_mean|G_var|G_mean|\n",
    "|----|----|----|----|-----|\n",
    "|1|0.8545850409488629 |1.151996055161383 |2.170838059275216 |1.4204768821911005|\n",
    "|2|2.0089464925142595 |1.9930293791179101 |4.333277125877969 |2.669277622854819|\n",
    "|3|2.3710840651933167 |2.525231743863857 |5.518800076298463 |3.570808533457798|\n",
    "|5|3.770729716081392 |3.0680340604357026 |6.778870045071278 |4.124148356004597|\n",
    "|7|5.703181417691025 |3.6109601237044955 |5.6260328700008015 |4.586416713995049|\n",
    "|9|0.9795477534698871 | 1.7217867593384926 |3.2567437190490516 |6.894163377128345|"
   ]
  },
  {
   "cell_type": "code",
   "execution_count": 10,
   "metadata": {},
   "outputs": [
    {
     "ename": "SyntaxError",
     "evalue": "invalid syntax (<ipython-input-10-ef9c212d53aa>, line 1)",
     "output_type": "error",
     "traceback": [
      "\u001b[0;36m  File \u001b[0;32m\"<ipython-input-10-ef9c212d53aa>\"\u001b[0;36m, line \u001b[0;32m1\u001b[0m\n\u001b[0;31m    a =\u001b[0m\n\u001b[0m        ^\u001b[0m\n\u001b[0;31mSyntaxError\u001b[0m\u001b[0;31m:\u001b[0m invalid syntax\n"
     ]
    }
   ],
   "source": [
    "'''\n",
    "a = \n",
    "\n",
    "[1.4204768821911005, 2.669277622854819, 3.570808533457798, 4.124148356004597, 4.586416713995049, 6.894163377128345]\n",
    "\n",
    "[2.170838059275216, ]\n",
    "1\t0.8545850409488629\t1.151996055161383\t2.170838059275216\t1.4204768821911005\n",
    "2\t2.0089464925142595\t1.9930293791179101\t4.333277125877969\t2.669277622854819\n",
    "3\t2.3710840651933167\t2.525231743863857\t5.518800076298463\t3.570808533457798\n",
    "5\t3.770729716081392\t3.0680340604357026\t6.778870045071278\t4.124148356004597\n",
    "7\t5.703181417691025\t3.6109601237044955\t5.6260328700008015\t4.586416713995049\n",
    "9\t0.9795477534698871\t1.7217867593384926\t3.2567437190490516\t6.894163377128345\n",
    "\n",
    "'''\n",
    "\n",
    "\n"
   ]
  },
  {
   "cell_type": "code",
   "execution_count": 11,
   "metadata": {
    "scrolled": false
   },
   "outputs": [
    {
     "name": "stdout",
     "output_type": "stream",
     "text": [
      "trial didn't work 5\n",
      "trial didn't work 7\n",
      "trial didn't work 9\n",
      "trial didn't work 13\n",
      "trial didn't work 31\n",
      "trial didn't work 35\n",
      "trial didn't work 37\n",
      "trial didn't work 53\n",
      "trial didn't work 59\n",
      "trial didn't work 61\n",
      "trial didn't work 85\n",
      "trial didn't work 7\n",
      "trial didn't work 13\n",
      "trial didn't work 31\n",
      "trial didn't work 37\n",
      "trial didn't work 55\n",
      "trial didn't work 59\n",
      "trial didn't work 61\n",
      "trial didn't work 26\n",
      "trial didn't work 45\n",
      "trial didn't work 55\n",
      "trial didn't work 63\n",
      "trial didn't work 106\n"
     ]
    },
    {
     "data": {
      "image/png": "[encoded data removed]",
      "text/plain": [
       "<matplotlib.figure.Figure at 0x7fc1880efc50>"
      ]
     },
     "metadata": {},
     "output_type": "display_data"
    },
    {
     "name": "stdout",
     "output_type": "stream",
     "text": [
      "1092 1173\n",
      "2 square not found in either or both in  160830 c1\n",
      "trial didn't work 7\n",
      "trial didn't work 15\n",
      "trial didn't work 16\n",
      "trial didn't work 24\n",
      "trial didn't work 39\n",
      "trial didn't work 63\n",
      "trial didn't work 77\n",
      "trial didn't work 2\n",
      "trial didn't work 4\n",
      "trial didn't work 6\n",
      "trial didn't work 7\n",
      "trial didn't work 9\n",
      "trial didn't work 15\n",
      "trial didn't work 17\n",
      "trial didn't work 18\n",
      "trial didn't work 22\n",
      "trial didn't work 23\n",
      "trial didn't work 24\n",
      "trial didn't work 25\n",
      "trial didn't work 26\n",
      "trial didn't work 28\n",
      "trial didn't work 30\n",
      "trial didn't work 31\n",
      "trial didn't work 32\n",
      "trial didn't work 36\n",
      "trial didn't work 39\n",
      "trial didn't work 41\n",
      "trial didn't work 42\n",
      "trial didn't work 52\n",
      "trial didn't work 54\n",
      "trial didn't work 55\n",
      "trial didn't work 56\n",
      "trial didn't work 57\n",
      "trial didn't work 59\n",
      "trial didn't work 62\n",
      "trial didn't work 63\n",
      "trial didn't work 68\n",
      "trial didn't work 70\n",
      "trial didn't work 5\n",
      "trial didn't work 16\n",
      "trial didn't work 29\n",
      "trial didn't work 39\n",
      "trial didn't work 53\n",
      "trial didn't work 55\n",
      "trial didn't work 63\n",
      "trial didn't work 3\n",
      "trial didn't work 17\n",
      "trial didn't work 47\n",
      "trial didn't work 62\n"
     ]
    },
    {
     "data": {
      "image/png": "[encoded data removed]",
      "text/plain": [
       "<matplotlib.figure.Figure at 0x7fc14cea0bd0>"
      ]
     },
     "metadata": {},
     "output_type": "display_data"
    },
    {
     "name": "stdout",
     "output_type": "stream",
     "text": [
      "690 638\n",
      "3 square not found in either or both in  160830 c1\n",
      "3 square not found in either or both in  160927 c5\n",
      "3 square not found in either or both in  160928 c4\n",
      "trial didn't work 3\n",
      "trial didn't work 4\n",
      "trial didn't work 5\n",
      "trial didn't work 6\n",
      "trial didn't work 8\n",
      "trial didn't work 10\n",
      "trial didn't work 11\n",
      "trial didn't work 12\n",
      "trial didn't work 13\n",
      "trial didn't work 15\n",
      "trial didn't work 16\n",
      "trial didn't work 17\n",
      "trial didn't work 18\n",
      "trial didn't work 19\n",
      "trial didn't work 24\n",
      "trial didn't work 25\n",
      "trial didn't work 27\n",
      "trial didn't work 28\n",
      "trial didn't work 29\n",
      "trial didn't work 31\n",
      "trial didn't work 32\n",
      "trial didn't work 34\n",
      "trial didn't work 35\n",
      "trial didn't work 36\n",
      "trial didn't work 37\n",
      "trial didn't work 39\n",
      "trial didn't work 41\n",
      "trial didn't work 42\n",
      "trial didn't work 45\n",
      "trial didn't work 46\n",
      "trial didn't work 48\n",
      "trial didn't work 49\n",
      "trial didn't work 50\n",
      "trial didn't work 51\n",
      "trial didn't work 52\n",
      "trial didn't work 53\n",
      "trial didn't work 54\n",
      "trial didn't work 58\n",
      "trial didn't work 59\n",
      "trial didn't work 60\n",
      "trial didn't work 61\n",
      "trial didn't work 63\n",
      "trial didn't work 65\n",
      "trial didn't work 66\n",
      "trial didn't work 67\n",
      "trial didn't work 69\n",
      "trial didn't work 70\n",
      "trial didn't work 71\n",
      "trial didn't work 72\n",
      "trial didn't work 12\n",
      "trial didn't work 66\n",
      "trial didn't work 4\n",
      "trial didn't work 5\n",
      "trial didn't work 6\n",
      "trial didn't work 8\n",
      "trial didn't work 9\n",
      "trial didn't work 10\n",
      "trial didn't work 11\n",
      "trial didn't work 15\n",
      "trial didn't work 19\n",
      "trial didn't work 21\n",
      "trial didn't work 23\n",
      "trial didn't work 24\n",
      "trial didn't work 26\n",
      "trial didn't work 28\n",
      "trial didn't work 29\n",
      "trial didn't work 31\n",
      "trial didn't work 33\n",
      "trial didn't work 34\n",
      "trial didn't work 35\n",
      "trial didn't work 36\n",
      "trial didn't work 38\n",
      "trial didn't work 42\n",
      "trial didn't work 43\n",
      "trial didn't work 45\n",
      "trial didn't work 47\n",
      "trial didn't work 49\n",
      "trial didn't work 55\n",
      "trial didn't work 56\n",
      "trial didn't work 57\n",
      "trial didn't work 58\n",
      "trial didn't work 61\n",
      "trial didn't work 63\n",
      "trial didn't work 66\n",
      "trial didn't work 67\n",
      "trial didn't work 68\n",
      "trial didn't work 69\n",
      "trial didn't work 71\n"
     ]
    },
    {
     "data": {
      "image/png": "[encoded data removed]",
      "text/plain": [
       "<matplotlib.figure.Figure at 0x7fc14d876c10>"
      ]
     },
     "metadata": {},
     "output_type": "display_data"
    },
    {
     "name": "stdout",
     "output_type": "stream",
     "text": [
      "510 432\n",
      "trial didn't work 1\n",
      "trial didn't work 5\n",
      "trial didn't work 7\n",
      "trial didn't work 10\n",
      "trial didn't work 12\n",
      "trial didn't work 14\n",
      "trial didn't work 17\n",
      "trial didn't work 19\n",
      "trial didn't work 23\n",
      "trial didn't work 24\n",
      "trial didn't work 25\n",
      "trial didn't work 27\n",
      "trial didn't work 29\n",
      "trial didn't work 32\n",
      "trial didn't work 34\n",
      "trial didn't work 37\n",
      "trial didn't work 38\n",
      "trial didn't work 39\n",
      "trial didn't work 40\n",
      "trial didn't work 41\n",
      "trial didn't work 43\n",
      "trial didn't work 45\n",
      "trial didn't work 46\n",
      "trial didn't work 48\n",
      "trial didn't work 50\n",
      "trial didn't work 51\n",
      "trial didn't work 54\n",
      "trial didn't work 55\n",
      "trial didn't work 56\n",
      "trial didn't work 57\n",
      "trial didn't work 58\n",
      "trial didn't work 62\n",
      "trial didn't work 63\n",
      "trial didn't work 64\n",
      "trial didn't work 66\n",
      "trial didn't work 67\n",
      "trial didn't work 72\n",
      "trial didn't work 1\n",
      "trial didn't work 2\n",
      "trial didn't work 3\n",
      "trial didn't work 5\n",
      "trial didn't work 6\n",
      "trial didn't work 7\n",
      "trial didn't work 8\n",
      "trial didn't work 9\n",
      "trial didn't work 10\n",
      "trial didn't work 12\n",
      "trial didn't work 13\n",
      "trial didn't work 14\n",
      "trial didn't work 16\n",
      "trial didn't work 17\n",
      "trial didn't work 18\n",
      "trial didn't work 19\n",
      "trial didn't work 20\n",
      "trial didn't work 21\n",
      "trial didn't work 23\n",
      "trial didn't work 24\n",
      "trial didn't work 25\n",
      "trial didn't work 26\n",
      "trial didn't work 27\n",
      "trial didn't work 28\n",
      "trial didn't work 30\n",
      "trial didn't work 31\n",
      "trial didn't work 33\n",
      "trial didn't work 34\n",
      "trial didn't work 36\n",
      "trial didn't work 37\n",
      "trial didn't work 38\n",
      "trial didn't work 39\n",
      "trial didn't work 40\n",
      "trial didn't work 41\n",
      "trial didn't work 42\n",
      "trial didn't work 43\n",
      "trial didn't work 44\n",
      "trial didn't work 45\n",
      "trial didn't work 47\n",
      "trial didn't work 48\n",
      "trial didn't work 49\n",
      "trial didn't work 50\n",
      "trial didn't work 51\n",
      "trial didn't work 54\n",
      "trial didn't work 55\n",
      "trial didn't work 57\n",
      "trial didn't work 58\n",
      "trial didn't work 62\n",
      "trial didn't work 64\n",
      "trial didn't work 65\n",
      "trial didn't work 66\n",
      "trial didn't work 67\n",
      "trial didn't work 69\n",
      "trial didn't work 70\n",
      "trial didn't work 71\n",
      "trial didn't work 72\n",
      "trial didn't work 73\n",
      "trial didn't work 75\n",
      "trial didn't work 78\n",
      "trial didn't work 79\n",
      "trial didn't work 81\n",
      "trial didn't work 82\n",
      "trial didn't work 84\n",
      "5 square not found in either or both in  160928 c4\n",
      "trial didn't work 1\n",
      "trial didn't work 2\n",
      "trial didn't work 3\n",
      "trial didn't work 4\n",
      "trial didn't work 5\n",
      "trial didn't work 6\n",
      "trial didn't work 7\n",
      "trial didn't work 8\n",
      "trial didn't work 9\n",
      "trial didn't work 10\n",
      "trial didn't work 13\n",
      "trial didn't work 14\n",
      "trial didn't work 15\n",
      "trial didn't work 16\n",
      "trial didn't work 17\n",
      "trial didn't work 18\n",
      "trial didn't work 19\n",
      "trial didn't work 20\n",
      "trial didn't work 21\n",
      "trial didn't work 23\n",
      "trial didn't work 24\n",
      "trial didn't work 25\n",
      "trial didn't work 26\n",
      "trial didn't work 27\n",
      "trial didn't work 28\n",
      "trial didn't work 29\n",
      "trial didn't work 30\n",
      "trial didn't work 31\n",
      "trial didn't work 32\n",
      "trial didn't work 33\n",
      "trial didn't work 34\n",
      "trial didn't work 35\n",
      "trial didn't work 37\n",
      "trial didn't work 38\n",
      "trial didn't work 39\n",
      "trial didn't work 40\n",
      "trial didn't work 41\n",
      "trial didn't work 42\n",
      "trial didn't work 43\n",
      "trial didn't work 44\n",
      "trial didn't work 45\n",
      "trial didn't work 46\n",
      "trial didn't work 47\n",
      "trial didn't work 48\n",
      "trial didn't work 49\n",
      "trial didn't work 50\n",
      "trial didn't work 51\n",
      "trial didn't work 52\n",
      "trial didn't work 54\n",
      "trial didn't work 56\n",
      "trial didn't work 57\n",
      "trial didn't work 58\n",
      "trial didn't work 60\n",
      "trial didn't work 61\n",
      "trial didn't work 62\n",
      "trial didn't work 63\n",
      "trial didn't work 64\n",
      "trial didn't work 65\n",
      "trial didn't work 66\n",
      "trial didn't work 67\n",
      "trial didn't work 68\n",
      "trial didn't work 69\n",
      "trial didn't work 70\n",
      "trial didn't work 71\n",
      "trial didn't work 72\n",
      "trial didn't work 2\n",
      "trial didn't work 3\n",
      "trial didn't work 6\n",
      "trial didn't work 7\n",
      "trial didn't work 10\n",
      "trial didn't work 24\n",
      "trial didn't work 26\n",
      "trial didn't work 27\n",
      "trial didn't work 43\n",
      "trial didn't work 48\n",
      "trial didn't work 51\n",
      "trial didn't work 58\n",
      "trial didn't work 72\n",
      "trial didn't work 28\n",
      "trial didn't work 25\n",
      "trial didn't work 1\n",
      "trial didn't work 2\n",
      "trial didn't work 3\n",
      "trial didn't work 4\n",
      "trial didn't work 5\n",
      "trial didn't work 6\n",
      "trial didn't work 7\n",
      "trial didn't work 8\n",
      "trial didn't work 9\n",
      "trial didn't work 10\n",
      "trial didn't work 11\n",
      "trial didn't work 12\n",
      "trial didn't work 13\n",
      "trial didn't work 14\n",
      "trial didn't work 15\n",
      "trial didn't work 16\n",
      "trial didn't work 17\n",
      "trial didn't work 18\n",
      "trial didn't work 19\n",
      "trial didn't work 20\n",
      "trial didn't work 21\n",
      "trial didn't work 22\n",
      "trial didn't work 23\n",
      "trial didn't work 24\n",
      "trial didn't work 25\n",
      "trial didn't work 27\n",
      "trial didn't work 30\n",
      "trial didn't work 31\n",
      "trial didn't work 32\n",
      "trial didn't work 33\n",
      "trial didn't work 34\n",
      "trial didn't work 35\n",
      "trial didn't work 36\n",
      "trial didn't work 37\n",
      "trial didn't work 38\n",
      "trial didn't work 39\n",
      "trial didn't work 40\n",
      "trial didn't work 41\n",
      "trial didn't work 42\n",
      "trial didn't work 43\n",
      "trial didn't work 44\n",
      "trial didn't work 46\n",
      "trial didn't work 47\n",
      "trial didn't work 48\n",
      "trial didn't work 49\n",
      "trial didn't work 50\n",
      "trial didn't work 51\n",
      "trial didn't work 53\n",
      "trial didn't work 56\n",
      "trial didn't work 57\n",
      "trial didn't work 58\n",
      "trial didn't work 59\n",
      "trial didn't work 60\n",
      "trial didn't work 61\n",
      "trial didn't work 63\n",
      "trial didn't work 64\n",
      "trial didn't work 65\n",
      "trial didn't work 67\n",
      "trial didn't work 68\n",
      "trial didn't work 69\n",
      "trial didn't work 72\n",
      "trial didn't work 73\n"
     ]
    },
    {
     "data": {
      "image/png": "[encoded data removed]",
      "text/plain": [
       "<matplotlib.figure.Figure at 0x7fc14d0680d0>"
      ]
     },
     "metadata": {},
     "output_type": "display_data"
    },
    {
     "name": "stdout",
     "output_type": "stream",
     "text": [
      "700 541\n",
      "7 square not found in either or both in  160830 c1\n",
      "7 square not found in either or both in  160927 c5\n",
      "7 square not found in either or both in  160928 c4\n",
      "trial didn't work 49\n",
      "trial didn't work 53\n",
      "trial didn't work 1\n",
      "trial didn't work 2\n",
      "trial didn't work 3\n",
      "trial didn't work 4\n",
      "trial didn't work 5\n",
      "trial didn't work 6\n",
      "trial didn't work 7\n",
      "trial didn't work 8\n",
      "trial didn't work 9\n",
      "trial didn't work 10\n",
      "trial didn't work 11\n",
      "trial didn't work 12\n",
      "trial didn't work 13\n",
      "trial didn't work 14\n",
      "trial didn't work 15\n",
      "trial didn't work 16\n",
      "trial didn't work 17\n",
      "trial didn't work 18\n",
      "trial didn't work 19\n",
      "trial didn't work 20\n",
      "trial didn't work 21\n",
      "trial didn't work 22\n",
      "trial didn't work 23\n",
      "trial didn't work 24\n",
      "trial didn't work 25\n",
      "trial didn't work 26\n",
      "trial didn't work 27\n",
      "trial didn't work 28\n",
      "trial didn't work 29\n",
      "trial didn't work 30\n",
      "trial didn't work 31\n",
      "trial didn't work 32\n",
      "trial didn't work 33\n",
      "trial didn't work 34\n",
      "trial didn't work 35\n",
      "trial didn't work 36\n",
      "trial didn't work 37\n",
      "trial didn't work 38\n",
      "trial didn't work 39\n",
      "trial didn't work 40\n",
      "trial didn't work 41\n",
      "trial didn't work 42\n",
      "trial didn't work 43\n",
      "trial didn't work 44\n",
      "trial didn't work 45\n",
      "trial didn't work 46\n",
      "trial didn't work 47\n",
      "trial didn't work 48\n",
      "trial didn't work 49\n",
      "trial didn't work 50\n",
      "trial didn't work 51\n",
      "trial didn't work 52\n",
      "trial didn't work 53\n",
      "trial didn't work 54\n",
      "trial didn't work 55\n",
      "trial didn't work 56\n",
      "trial didn't work 57\n",
      "trial didn't work 58\n",
      "trial didn't work 59\n",
      "trial didn't work 60\n",
      "trial didn't work 61\n",
      "trial didn't work 62\n",
      "trial didn't work 63\n",
      "trial didn't work 64\n",
      "trial didn't work 65\n",
      "trial didn't work 66\n",
      "trial didn't work 68\n",
      "trial didn't work 69\n",
      "trial didn't work 70\n",
      "trial didn't work 71\n",
      "trial didn't work 72\n",
      "7 square not found in either or both in  161228 c1\n",
      "trial didn't work 7\n",
      "trial didn't work 3\n",
      "trial didn't work 4\n",
      "trial didn't work 15\n",
      "trial didn't work 29\n",
      "trial didn't work 30\n",
      "trial didn't work 42\n",
      "trial didn't work 45\n",
      "trial didn't work 53\n",
      "trial didn't work 1\n",
      "trial didn't work 2\n",
      "trial didn't work 3\n",
      "trial didn't work 4\n",
      "trial didn't work 5\n",
      "trial didn't work 6\n",
      "trial didn't work 7\n",
      "trial didn't work 8\n",
      "trial didn't work 9\n",
      "trial didn't work 10\n",
      "trial didn't work 11\n",
      "trial didn't work 12\n",
      "trial didn't work 13\n",
      "trial didn't work 14\n",
      "trial didn't work 15\n",
      "trial didn't work 16\n",
      "trial didn't work 17\n",
      "trial didn't work 18\n",
      "trial didn't work 19\n",
      "trial didn't work 20\n",
      "trial didn't work 21\n",
      "trial didn't work 22\n",
      "trial didn't work 23\n",
      "trial didn't work 24\n",
      "trial didn't work 25\n",
      "trial didn't work 26\n",
      "trial didn't work 27\n",
      "trial didn't work 28\n",
      "trial didn't work 29\n",
      "trial didn't work 30\n",
      "trial didn't work 31\n",
      "trial didn't work 32\n",
      "trial didn't work 33\n",
      "trial didn't work 34\n",
      "trial didn't work 35\n",
      "trial didn't work 36\n",
      "trial didn't work 37\n",
      "trial didn't work 38\n",
      "trial didn't work 39\n",
      "trial didn't work 40\n",
      "trial didn't work 41\n",
      "trial didn't work 42\n",
      "trial didn't work 43\n",
      "trial didn't work 45\n",
      "trial didn't work 46\n",
      "trial didn't work 47\n",
      "trial didn't work 48\n",
      "trial didn't work 49\n",
      "trial didn't work 51\n",
      "trial didn't work 52\n",
      "trial didn't work 53\n",
      "trial didn't work 54\n",
      "trial didn't work 55\n",
      "trial didn't work 56\n",
      "trial didn't work 58\n",
      "trial didn't work 59\n",
      "trial didn't work 60\n",
      "trial didn't work 61\n",
      "trial didn't work 62\n",
      "trial didn't work 63\n",
      "trial didn't work 64\n",
      "trial didn't work 65\n",
      "trial didn't work 66\n",
      "trial didn't work 67\n",
      "trial didn't work 68\n",
      "trial didn't work 69\n",
      "trial didn't work 72\n"
     ]
    },
    {
     "data": {
      "image/png": "[encoded data removed]",
      "text/plain": [
       "<matplotlib.figure.Figure at 0x7fc14d4392d0>"
      ]
     },
     "metadata": {},
     "output_type": "display_data"
    },
    {
     "name": "stdout",
     "output_type": "stream",
     "text": [
      "402 331\n",
      "9 square not found in either or both in  160830 c1\n",
      "9 square not found in either or both in  160920 c1\n",
      "9 square not found in either or both in  160927 c5\n",
      "9 square not found in either or both in  160928 c4\n",
      "9 square not found in either or both in  161027 c3\n",
      "9 square not found in either or both in  161228 c1\n",
      "9 square not found in either or both in  170222 c2\n",
      "9 square not found in either or both in  170303 c1\n"
     ]
    },
    {
     "data": {
      "image/png": "[encoded data removed]",
      "text/plain": [
       "<matplotlib.figure.Figure at 0x7fc14d892f10>"
      ]
     },
     "metadata": {},
     "output_type": "display_data"
    },
    {
     "name": "stdout",
     "output_type": "stream",
     "text": [
      "142 144\n"
     ]
    },
    {
     "data": {
      "text/plain": [
       "([2.7292375959532555,\n",
       "  1.064970152956076,\n",
       "  2.3457450955422967,\n",
       "  1.449751341212538,\n",
       "  2.1341115035559124,\n",
       "  2.806314080183627,\n",
       "  1.9924012519844292,\n",
       "  2.6843226469150743,\n",
       "  2.40393799575237,\n",
       "  3.5225619994386825,\n",
       "  4.239380238592754,\n",
       "  3.822818310844098,\n",
       "  3.7784222029676844,\n",
       "  3.6289933187982624,\n",
       "  3.051328623301727,\n",
       "  2.6512520068845298,\n",
       "  4.030212832839446,\n",
       "  2.7399220271063265,\n",
       "  2.8271401953032584,\n",
       "  3.086359314673967,\n",
       "  2.2988902522639063,\n",
       "  2.286550200279733,\n",
       "  3.4259508803952774,\n",
       "  2.214429840926153,\n",
       "  4.000119038249872,\n",
       "  2.6742275491353564,\n",
       "  2.4421401127110074,\n",
       "  3.0325947398948068,\n",
       "  2.0977081576882233,\n",
       "  2.908636066948548,\n",
       "  1.593368822222366,\n",
       "  3.7683154261949183,\n",
       "  2.737414983300081,\n",
       "  2.11401132790582,\n",
       "  2.108044884426344,\n",
       "  2.258718352720708,\n",
       "  3.2964604320325175,\n",
       "  2.201011917047464,\n",
       "  3.2662672506707233,\n",
       "  2.125600722935681,\n",
       "  3.156125591564644,\n",
       "  3.2506812153888327,\n",
       "  1.5110971263059705,\n",
       "  1.9317784020089266,\n",
       "  2.808852679420549,\n",
       "  2.5188195591203226,\n",
       "  3.230022818025952,\n",
       "  2.5889369210063298,\n",
       "  2.443135767474773,\n",
       "  2.7374494427052567,\n",
       "  3.666468391915669,\n",
       "  2.632164826325057,\n",
       "  1.2645457363712325,\n",
       "  1.4754671257491498,\n",
       "  2.4637398142272953,\n",
       "  3.5737062630631526,\n",
       "  1.0775132291989697,\n",
       "  1.4962218068604312,\n",
       "  0.5932221534439124,\n",
       "  0.9610173571177859,\n",
       "  1.3306471428473918,\n",
       "  1.5320532129543245,\n",
       "  1.1935844641550029,\n",
       "  1.3093696638370869,\n",
       "  2.9210989568528034,\n",
       "  3.640697229221692,\n",
       "  2.0555462205908785,\n",
       "  1.1455958193830518,\n",
       "  1.9273723857992964,\n",
       "  1.4628109866714687,\n",
       "  0.3773461902110727,\n",
       "  1.105394928916523,\n",
       "  0.7389435372842474,\n",
       "  0.916119858387453,\n",
       "  0.9199456600870797,\n",
       "  0.6758030480640126,\n",
       "  1.261051312264282,\n",
       "  0.8828737469034315,\n",
       "  1.3171922854812246,\n",
       "  1.267367098041671,\n",
       "  1.3089964388640074,\n",
       "  1.2444921397273954,\n",
       "  1.204400577116723,\n",
       "  1.0753294215759095,\n",
       "  0.646118132291455,\n",
       "  1.051527784719757,\n",
       "  1.0471694298363228,\n",
       "  0.6659842336233243,\n",
       "  0.8758317297993835,\n",
       "  0.9464573140562866,\n",
       "  1.0462596848789025,\n",
       "  0.485564099476243,\n",
       "  0.5906552960133242,\n",
       "  1.364360738918564,\n",
       "  0.9381993952568867,\n",
       "  0.92771571482875,\n",
       "  1.084669877642735,\n",
       "  0.9767707762833275,\n",
       "  0.649512206481846,\n",
       "  0.47552852140725527,\n",
       "  1.0430939529019823,\n",
       "  0.4568155996496135,\n",
       "  0.9131387812430224,\n",
       "  1.151413751650091,\n",
       "  0.7646859704838495,\n",
       "  1.1969130801119716,\n",
       "  0.6149057161966164,\n",
       "  1.0714859271378265,\n",
       "  0.8920341801591518,\n",
       "  1.2189019540917334,\n",
       "  0.734493719050915,\n",
       "  1.5315568335196483,\n",
       "  1.395277057761542,\n",
       "  1.2880079488084155,\n",
       "  1.099451802154312,\n",
       "  1.1100236952438445,\n",
       "  1.1297900043121087,\n",
       "  1.8920567123853322,\n",
       "  1.6169013622520854,\n",
       "  1.186410377066335,\n",
       "  1.141031642421796,\n",
       "  0.8107762176700186,\n",
       "  1.2079089816929287,\n",
       "  0.8576780734693553,\n",
       "  0.7345684297852609,\n",
       "  1.2680690190027188,\n",
       "  0.863694750251472,\n",
       "  1.3247952546767465,\n",
       "  0.5991575498633295,\n",
       "  0.1362154193706233,\n",
       "  1.4307372754725562,\n",
       "  0.9403261263169057,\n",
       "  1.2568392495824479,\n",
       "  1.1860623696234753,\n",
       "  1.3132151749758323,\n",
       "  0.7369281427994343,\n",
       "  1.0150713238178082,\n",
       "  0.7357294027987558,\n",
       "  0.4772843639133558,\n",
       "  0.7719009137642465,\n",
       "  0.7229408796719845,\n",
       "  0.8484636581420775],\n",
       " [8.94696788483779,\n",
       "  9.117325277393416,\n",
       "  5.497761647265182,\n",
       "  8.408717087619383,\n",
       "  6.195021154239121,\n",
       "  7.037906252149779,\n",
       "  7.300168378543442,\n",
       "  7.028999231474931,\n",
       "  5.888743250210993,\n",
       "  8.580987532256055,\n",
       "  8.23348963054291,\n",
       "  7.652564187550004,\n",
       "  5.9143409760105765,\n",
       "  6.302524090176367,\n",
       "  5.89131712706552,\n",
       "  4.694689644608218,\n",
       "  6.980352878007787,\n",
       "  5.252126828999746,\n",
       "  4.782284387513082,\n",
       "  8.017038290267744,\n",
       "  6.307540926956447,\n",
       "  4.939692506003311,\n",
       "  9.307758024750147,\n",
       "  6.657123458129865,\n",
       "  8.755467005795666,\n",
       "  8.186767523396716,\n",
       "  5.680091280234195,\n",
       "  7.648812271813563,\n",
       "  6.117680074742776,\n",
       "  6.612269171699214,\n",
       "  7.833836248284986,\n",
       "  6.2022210080798414,\n",
       "  4.95998562822063,\n",
       "  7.9917801007875795,\n",
       "  7.476791916675178,\n",
       "  5.678502021629752,\n",
       "  6.1200884629753585,\n",
       "  6.98396848161547,\n",
       "  5.4920429792411705,\n",
       "  6.342510319904832,\n",
       "  8.996654273546959,\n",
       "  4.747384798909206,\n",
       "  3.6197234730169394,\n",
       "  6.70792800852744,\n",
       "  7.693334709202834,\n",
       "  4.728590326008447,\n",
       "  5.710273451779962,\n",
       "  10.987173431794705,\n",
       "  7.553616065135023,\n",
       "  7.521415268029398,\n",
       "  3.3136726694314635,\n",
       "  6.293784872640093,\n",
       "  5.1904149298651046,\n",
       "  8.26223703147002,\n",
       "  5.208643883996265,\n",
       "  7.315879063576244,\n",
       "  4.9759773377451735,\n",
       "  6.22341335008164,\n",
       "  7.668149288401625,\n",
       "  4.12906494276657,\n",
       "  5.057540985857632,\n",
       "  7.823748380381158,\n",
       "  7.673778059837453,\n",
       "  5.445956932463292,\n",
       "  8.345448520364833,\n",
       "  5.158918238473964,\n",
       "  3.6502554584640823,\n",
       "  7.219240016745336,\n",
       "  5.522741999339359,\n",
       "  3.8694500972767085,\n",
       "  4.6248873947289,\n",
       "  8.604475598323091,\n",
       "  9.62247071538033,\n",
       "  6.4653367622245845,\n",
       "  4.99382770373745,\n",
       "  11.838372201471621,\n",
       "  6.161441694850662,\n",
       "  8.24442078054676,\n",
       "  8.000968325476425,\n",
       "  9.373801236744422,\n",
       "  5.754051814848402,\n",
       "  9.931028593534318,\n",
       "  6.335734528992157,\n",
       "  7.286751130373098,\n",
       "  5.69632651283795,\n",
       "  9.293687472251102,\n",
       "  5.853711432844612,\n",
       "  9.271839276527636,\n",
       "  11.053655161272383,\n",
       "  7.1445394611147055,\n",
       "  5.244096140247701,\n",
       "  4.854598138558551,\n",
       "  7.148972763091807,\n",
       "  6.07642687086921,\n",
       "  7.960172879612701,\n",
       "  11.118055882481977,\n",
       "  8.17598813491895,\n",
       "  9.461281658285126,\n",
       "  4.139814637311638,\n",
       "  8.865299498243335,\n",
       "  5.950770610558185,\n",
       "  7.754094388138006,\n",
       "  7.344385943179977,\n",
       "  8.757822132806913,\n",
       "  6.3525583668463925,\n",
       "  9.404672490909837,\n",
       "  6.8895370054606015,\n",
       "  4.987217942452903,\n",
       "  5.083270876135115,\n",
       "  6.7804476767298185,\n",
       "  4.250987305630687,\n",
       "  6.932998713629221,\n",
       "  11.968551892726778,\n",
       "  6.7179754522827695,\n",
       "  4.539558006066365,\n",
       "  6.428722848228165,\n",
       "  7.635765953916737,\n",
       "  4.248883495105331,\n",
       "  6.270179457141492,\n",
       "  9.50598302295927,\n",
       "  8.831424240142384,\n",
       "  8.058155909605885,\n",
       "  5.410139379742939,\n",
       "  10.49979051080539,\n",
       "  5.385166273124613,\n",
       "  5.052086985252496,\n",
       "  7.125846354773196,\n",
       "  6.781984896245511,\n",
       "  4.492151872679021,\n",
       "  8.778176457125362,\n",
       "  6.669078411804964,\n",
       "  4.254116858459268,\n",
       "  6.25744974625234,\n",
       "  8.012597919805229,\n",
       "  4.119291507837652,\n",
       "  6.355751903750777,\n",
       "  9.840513316473105,\n",
       "  7.723030276854107,\n",
       "  5.27524184940414,\n",
       "  7.628111850955876,\n",
       "  8.927847713009394,\n",
       "  5.079470633147838,\n",
       "  7.4790371936113305,\n",
       "  8.689981250215038])"
      ]
     },
     "execution_count": 11,
     "metadata": {},
     "output_type": "execute_result"
    }
   ],
   "source": [
    "figure2(square=1)\n",
    "figure2(square=2)\n",
    "figure2(square=3)\n",
    "figure2(square=5)\n",
    "figure2(square=7)\n",
    "figure2(square=9)"
   ]
  },
  {
   "cell_type": "code",
   "execution_count": 12,
   "metadata": {},
   "outputs": [],
   "source": [
    "def figure_appeal(feature=0, square=1):\n",
    "    ''' Looking at the one square distribution for GABAzine and Control'''\n",
    "                        \n",
    "    numNeurons = 0\n",
    "    control_atp = []\n",
    "    control_aap = []\n",
    "    gabazine_atp = []\n",
    "    gabazine_aap = []\n",
    "    \n",
    "    for neuron in neuronList:\n",
    "            try:\n",
    "                control_trials = neuron.experiment[\"Control\"][square].trial\n",
    "                gabazine_trials = neuron.experiment[\"GABAzine\"][square].trial\n",
    "                for trial in control_trials:\n",
    "                    try:\n",
    "                        control_atp.append(control_trials[trial].feature[4])\n",
    "                        control_aap.append(control_trials[trial].feature[1] - control_trials[trial].feature[4])\n",
    "                    except:\n",
    "                        print (\"trial didn't work\", trial)\n",
    "                for trial in gabazine_trials:\n",
    "                    try:\n",
    "                        gabazine_atp.append(gabazine_trials[trial].feature[4])\n",
    "                        gabazine_aap.append(gabazine_trials[trial].feature[1] - gabazine_trials[trial].feature[4])\n",
    "                    except:\n",
    "                        print (\"trial didn't work\", trial)\n",
    "            except:\n",
    "                print (square, \"square not found in either or both in \", neuron.date, neuron.index)\n",
    "    \n",
    "#     rangeMin = min(min(control_atp), min(gabazine_vmax))\n",
    "#     rangeMax = max(max(control_vmax), max(gabazine_vmax))\n",
    "#     bins = np.linspace(rangeMin, rangeMax, 30)\n",
    "    bins = 50\n",
    "    fig, ax = plt.subplots(ncols=2)\n",
    "    ax[0].hist(control_atp, bins=bins, label=\"Control\",  color='gray',histtype='step', cumulative=True, density=True)\n",
    "    ax[0].hist(gabazine_atp, bins=bins, label=\"GABAzine\", color='red',histtype='step', cumulative=True, density=True)\n",
    "    ax[1].hist(control_aap, bins=bins, label=\"Control\",  color='gray',histtype='step', cumulative=True, density=True)\n",
    "    ax[1].hist(gabazine_aap, bins=bins, label=\"GABAzine\", color='red',histtype='step', cumulative=True, density=True)\n",
    "\n",
    "#     fig.set_title(\"Comparing one square distributions for Control and GABAzine\")\n",
    "    ax[0].set_xlabel(\"PSP Area to peak (mV)\")\n",
    "    ax[1].set_xlabel(\"PSP Are (mV)\")\n",
    "    ax[0].set_ylabel(\"# recorded PSPs\")\n",
    "    simpleaxis(ax)\n",
    "    fig.set_figwidth(3)\n",
    "    fig.set_figheight(1.5)\n",
    "#     plt.legend()\n",
    "#     dump(fig,file('figures/supplementary/2_{}.pkl'.format(square),'wb'))\n",
    "    plt.show()\n",
    "#     print(len(control_vmax), len(gabazine_vmax))\n",
    "    return control_atp, gabazine_atp, control_aap, gabazine_aap"
   ]
  },
  {
   "cell_type": "code",
   "execution_count": 13,
   "metadata": {
    "scrolled": false
   },
   "outputs": [
    {
     "name": "stdout",
     "output_type": "stream",
     "text": [
      "1 square not found in either or both in  160817 c4\n",
      "trial didn't work 5\n",
      "trial didn't work 7\n",
      "trial didn't work 9\n",
      "trial didn't work 13\n",
      "trial didn't work 31\n",
      "trial didn't work 35\n",
      "trial didn't work 37\n",
      "trial didn't work 53\n",
      "trial didn't work 59\n",
      "trial didn't work 61\n",
      "trial didn't work 85\n",
      "trial didn't work 7\n",
      "trial didn't work 13\n",
      "trial didn't work 31\n",
      "trial didn't work 37\n",
      "trial didn't work 55\n",
      "trial didn't work 59\n",
      "trial didn't work 61\n",
      "trial didn't work 26\n",
      "trial didn't work 45\n",
      "trial didn't work 55\n",
      "trial didn't work 63\n",
      "trial didn't work 106\n"
     ]
    },
    {
     "data": {
      "image/png": "[encoded data removed]",
      "text/plain": [
       "<matplotlib.figure.Figure at 0x7fc14d8760d0>"
      ]
     },
     "metadata": {},
     "output_type": "display_data"
    },
    {
     "name": "stdout",
     "output_type": "stream",
     "text": [
      "1092 1173 1092 1173\n",
      "Ks_2sampResult(statistic=0.15845535538630162, pvalue=6.887890257465839e-13)\n",
      "Ks_2sampResult(statistic=0.11411521130191205, pvalue=6.872920139566875e-07)\n"
     ]
    }
   ],
   "source": [
    "arrs = figure_appeal()\n",
    "print (len(arrs[0]),len(arrs[1]),len(arrs[2]),len(arrs[3]))\n",
    "print(ss.ks_2samp(arrs[0], arrs[1]))\n",
    "print(ss.ks_2samp(arrs[2], arrs[3]))"
   ]
  },
  {
   "cell_type": "code",
   "execution_count": 14,
   "metadata": {},
   "outputs": [],
   "source": [
    "def figure_appeal_pair(feature=0, square=1):\n",
    "    ''' Looking at the one square distribution for GABAzine and Control'''\n",
    "                        \n",
    "    numNeurons = 0\n",
    "    control_atp = []\n",
    "    control_aap = []\n",
    "    gabazine_atp = []\n",
    "    gabazine_aap = []\n",
    "    \n",
    "    for neuron in neuronList:\n",
    "        if ( ('Control' in neuron.experiment) and ('GABAzine' in neuron.experiment)):\n",
    "            control_coords = neuron.experiment[\"Control\"][square].coords\n",
    "            gabazine_coords = neuron.experiment[\"GABAzine\"][square].coords\n",
    "            commonCoords = set(neuron.experiment[\"Control\"][1].coords.values()).intersection(set(neuron.experiment[\"GABAzine\"][1].coords.values()))\n",
    "            for coord in commonCoords:\n",
    "                if 0.2 < neuron.experiment[\"GABAzine\"][square].coordwise[coord].average_feature[0] < 2:\n",
    "                    control_atp.append(neuron.experiment[\"Control\"][square].coordwise[coord].average_feature[4])\n",
    "                    control_aap.append(neuron.experiment[\"Control\"][square].coordwise[coord].average_feature[1] - neuron.experiment[\"Control\"][square].coordwise[coord].average_feature[4])\n",
    "                    gabazine_atp.append(neuron.experiment[\"GABAzine\"][square].coordwise[coord].average_feature[4])\n",
    "                    gabazine_aap.append(neuron.experiment[\"GABAzine\"][square].coordwise[coord].average_feature[1] - neuron.experiment[\"GABAzine\"][square].coordwise[coord].average_feature[4])\n",
    "        else:\n",
    "            print (\"Nothing here\")\n",
    "#             except:\n",
    "#                 print (square, \"square not found in either or both in \", neuron.date, neuron.index)\n",
    "    \n",
    "    print (len(control_atp), len(gabazine_atp), len(control_aap), len(gabazine_aap))\n",
    "    bins = 5\n",
    "    fig, ax = plt.subplots(ncols=2)\n",
    "    ax[0].scatter(control_atp, gabazine_atp, s=4)\n",
    "    ax[1].scatter(control_aap, gabazine_aap, s=4)\n",
    "    \n",
    "    minLim, maxLim = np.nanmin(np.concatenate([control_atp, gabazine_atp])), np.nanmax(np.concatenate([control_atp, gabazine_atp]))\n",
    "    ax[0].set_xlim((minLim, maxLim))\n",
    "    ax[0].set_ylim((minLim, maxLim))\n",
    "    ax[0].plot(ax[0].get_xlim(), ax[0].get_ylim(), ls=\"--\", c=\".3\")\n",
    "    ax[0].set_xlabel(\"Control_ATP\")\n",
    "    ax[0].set_ylabel(\"GABAzine_ATP\")\n",
    "    \n",
    "    minLim, maxLim = np.nanmin(np.concatenate([control_aap, gabazine_aap])), np.nanmax(np.concatenate([control_aap, gabazine_aap]))\n",
    "    ax[1].set_xlim((minLim, maxLim))\n",
    "    ax[1].set_ylim((minLim, maxLim))\n",
    "    ax[1].plot(ax[1].get_xlim(), ax[1].get_ylim(), ls=\"--\", c=\".3\")\n",
    "    ax[1].set_xlabel(\"Control_AAP\")\n",
    "    ax[1].set_ylabel(\"GABAzine_AAP\")\n",
    "    \n",
    "    simpleaxis(ax)\n",
    "#     plt.show()\n",
    "#     ax[0].hist(control_atp, bins=bins)#, label=\"Control\",  color='gray',histtype='step', cumulative=True, density=True)     ax[0].hist(gabazine_atp, bins=bins, label=\"GABAzine\", color='red',histtype='step', cumulative=True, density=True)\n",
    "#     ax[1].hist(control_aap, bins=bins, label=\"Control\",  color='gray',histtype='step', cumulative=True, density=True)\n",
    "#     ax[1].hist(gabazine_aap, bins=bins, label=\"GABAzine\", color='red',histtype='step', cumulative=True, density=True)\n",
    "\n",
    "#     fig.set_title(\"Comparing one square distributions for Control and GABAzine\")\n",
    "#     ax[0].set_xlabel(\"PSP Area to peak (mV)\")\n",
    "#     ax[1].set_xlabel(\"PSP Are (mV)\")\n",
    "#     ax[0].set_ylabel(\"# recorded PSPs\")\n",
    "#     simpleaxis(ax)\n",
    "    fig.set_figwidth(3)\n",
    "    fig.set_figheight(1.5)\n",
    "# #     plt.legend()\n",
    "# #     dump(fig,file('figures/supplementary/2_{}.pkl'.format(square),'wb'))\n",
    "    plt.show()\n",
    "#     print(len(control_vmax), len(gabazine_vmax))\n",
    "\n",
    "    control_atp, gabazine_atp, control_aap, gabazine_aap = [np.array(x) for x in [control_atp, gabazine_atp, control_aap, gabazine_aap]]\n",
    "\n",
    "    atp_ratio = control_atp/gabazine_atp\n",
    "    atp_ratio = atp_ratio[~np.isnan(atp_ratio)]\n",
    "    aap_ratio = control_aap/gabazine_aap\n",
    "    aap_ratio = aap_ratio[~np.isnan(aap_ratio)]\n",
    "\n",
    "#     print(zip(atp_ratio, aap_ratio))\n",
    "    fig, ax = plt.subplots()\n",
    "    ax.hist(atp_ratio, bins=10000, label=\"ATP\", color='gray',histtype='step', cumulative=True, density=True)\n",
    "    ax.hist(aap_ratio, bins=10000, label=\"AAP\", color='orange',histtype='step', cumulative=True, density=True)\n",
    "    ax.vlines(x=1, ymin=0, ymax=1, linestyle='--')\n",
    "    ax.set_xlim((-3,6))\n",
    "    simpleaxis(ax)\n",
    "    plt.legend()\n",
    "    plt.show()\n",
    "    return control_atp, gabazine_atp, control_aap, gabazine_aap"
   ]
  },
  {
   "cell_type": "code",
   "execution_count": 15,
   "metadata": {},
   "outputs": [
    {
     "name": "stdout",
     "output_type": "stream",
     "text": [
      "Nothing here\n",
      "338 338 338 338\n"
     ]
    },
    {
     "data": {
      "image/png": "[encoded data removed]",
      "text/plain": [
       "<matplotlib.figure.Figure at 0x7fc14cd7ad10>"
      ]
     },
     "metadata": {},
     "output_type": "display_data"
    },
    {
     "data": {
      "image/png": "[encoded data removed]",
      "text/plain": [
       "<matplotlib.figure.Figure at 0x7fc14d6a44d0>"
      ]
     },
     "metadata": {},
     "output_type": "display_data"
    }
   ],
   "source": [
    "appeal_paired = figure_appeal_pair()"
   ]
  },
  {
   "cell_type": "code",
   "execution_count": 86,
   "metadata": {},
   "outputs": [],
   "source": [
    "def figure_appeal_pair_traces(square=1):\n",
    "    ''' Looking at the one square distribution for GABAzine and Control'''\n",
    "                        \n",
    "    numNeurons = 0\n",
    "    control_atp = []\n",
    "    control_aap = []\n",
    "    gabazine_atp = []\n",
    "    gabazine_aap = []\n",
    "    \n",
    "    fig, ax = plt.subplots()\n",
    "    for neuron in neuronList:\n",
    "        fig, ax = plt.subplots(ncols=2)\n",
    "        if ( ('Control' in neuron.experiment) and ('GABAzine' in neuron.experiment)):\n",
    "            control_coords = neuron.experiment[\"Control\"][square].coords\n",
    "            gabazine_coords = neuron.experiment[\"GABAzine\"][square].coords\n",
    "            commonCoords = set(neuron.experiment[\"Control\"][1].coords.values()).intersection(set(neuron.experiment[\"GABAzine\"][1].coords.values()))\n",
    "            for coord in commonCoords:\n",
    "                if 0.2 < neuron.experiment[\"GABAzine\"][square].coordwise[coord].average_feature[0] < 2:\n",
    "                    numTrials = len(neuron.experiment[\"Control\"][square].coordwise[coord].trials)\n",
    "                    control_trace = np.average([neuron.experiment[\"Control\"][square].coordwise[coord].trials[j].interestWindow for j in range(numTrials)],axis=0)\n",
    "                    numTrials = len(neuron.experiment[\"GABAzine\"][square].coordwise[coord].trials)\n",
    "                    gabazine_trace = np.average([neuron.experiment[\"GABAzine\"][square].coordwise[coord].trials[j].interestWindow for j in range(numTrials)],axis=0)\n",
    "#                     print(len(gabazine_trace))\n",
    "                    ax[0].plot(np.arange(2000), np.diff(control_trace), linewidth=1)\n",
    "                    ax[1].plot(np.arange(2000), np.diff(gabazine_trace), linewidth=1)\n",
    "#                     ax[1].plot(control_trace[500:1500], gabazine_trace[500:1500], linewidth=1)\n",
    "#                     ax[2].plot(control_trace[1000:1500], gabazine_trace[1000:1500], linewidth=1)\n",
    "#                     ax[3].plot(control_trace[1500:], gabazine_trace[1500:], linewidth=1)\n",
    "        else:       \n",
    "            print (\"Nothing here\")\n",
    "#             except:\n",
    "#                 print (square, \"square not found in either or both in \", neuron.date, neuron.index)\n",
    "    \n",
    "    \n",
    "        simpleaxis(ax)\n",
    "    #     plt.show()\n",
    "    #     ax[0].hist(control_atp, bins=bins)#, label=\"Control\",  color='gray',histtype='step', cumulative=True, density=True)     ax[0].hist(gabazine_atp, bins=bins, label=\"GABAzine\", color='red',histtype='step', cumulative=True, density=True)\n",
    "    #     ax[1].hist(control_aap, bins=bins, label=\"Control\",  color='gray',histtype='step', cumulative=True, density=True)\n",
    "    #     ax[1].hist(gabazine_aap, bins=bins, label=\"GABAzine\", color='red',histtype='step', cumulative=True, density=True)\n",
    "\n",
    "    #     fig.set_title(\"Comparing one square distributions for Control and GABAzine\")\n",
    "    #     ax[0].set_xlabel(\"PSP Area to peak (mV)\")\n",
    "    #     ax[1].set_xlabel(\"PSP Are (mV)\")\n",
    "    #     ax[0].set_ylabel(\"# recorded PSPs\")\n",
    "    #     simpleaxis(ax)\n",
    "#         ax[0].set_xlim((-1,2.5))\n",
    "        ax[0].set_ylim((-1,3))\n",
    "        ax[1].set_ylim((-1,3))\n",
    "#         ax[1].set_xlim((-1,2.5))\n",
    "#         ax[1].set_ylim((-1,2.5))\n",
    "#         ax[2].set_xlim((-1,2.5))\n",
    "#         ax[2].set_ylim((-1,2.5))\n",
    "#         ax[3].set_xlim((-1,2.5))\n",
    "#         ax[3].set_ylim((-1,2.5))\n",
    "        \n",
    "#         ax[0].plot([0,1], [0,1], transform=ax[0].transAxes)\n",
    "#         ax[1].plot([0,1], [0,1], transform=ax[1].transAxes)\n",
    "#         ax[2].plot([0,1], [0,1], transform=ax[2].transAxes)\n",
    "#         ax[3].plot([0,1], [0,1], transform=ax[3].transAxes)\n",
    "        \n",
    "        fig.set_figwidth(8)\n",
    "        fig.set_figheight(4)\n",
    "    # #     plt.legend()\n",
    "    # #     dump(fig,file('figures/supplementary/2_{}.pkl'.format(square),'wb'))\n",
    "        plt.show()\n",
    "    #     print(len(control_vmax), len(gabazine_vmax))"
   ]
  },
  {
   "cell_type": "code",
   "execution_count": 87,
   "metadata": {
    "scrolled": false
   },
   "outputs": [
    {
     "name": "stdout",
     "output_type": "stream",
     "text": [
      "Nothing here\n"
     ]
    },
    {
     "data": {
      "image/png": "[encoded data removed]",
      "text/plain": [
       "<matplotlib.figure.Figure at 0x7fc143717350>"
      ]
     },
     "metadata": {},
     "output_type": "display_data"
    },
    {
     "data": {
      "image/png": "[encoded data removed]",
      "text/plain": [
       "<matplotlib.figure.Figure at 0x7fc14346fc50>"
      ]
     },
     "metadata": {},
     "output_type": "display_data"
    },
    {
     "ename": "ValueError",
     "evalue": "x and y must have same first dimension, but have shapes (2000,) and (1999,)",
     "output_type": "error",
     "traceback": [
      "\u001b[0;31m---------------------------------------------------------------------------\u001b[0m",
      "\u001b[0;31mValueError\u001b[0m                                Traceback (most recent call last)",
      "\u001b[0;32m<ipython-input-87-f7fb723f408c>\u001b[0m in \u001b[0;36m<module>\u001b[0;34m()\u001b[0m\n\u001b[0;32m----> 1\u001b[0;31m \u001b[0mfigure_appeal_pair_traces\u001b[0m\u001b[0;34m(\u001b[0m\u001b[0;34m)\u001b[0m\u001b[0;34m\u001b[0m\u001b[0m\n\u001b[0m",
      "\u001b[0;32m<ipython-input-86-b128662144dd>\u001b[0m in \u001b[0;36mfigure_appeal_pair_traces\u001b[0;34m(square)\u001b[0m\n\u001b[1;32m     22\u001b[0m                     \u001b[0mgabazine_trace\u001b[0m \u001b[0;34m=\u001b[0m \u001b[0mnp\u001b[0m\u001b[0;34m.\u001b[0m\u001b[0maverage\u001b[0m\u001b[0;34m(\u001b[0m\u001b[0;34m[\u001b[0m\u001b[0mneuron\u001b[0m\u001b[0;34m.\u001b[0m\u001b[0mexperiment\u001b[0m\u001b[0;34m[\u001b[0m\u001b[0;34m\"GABAzine\"\u001b[0m\u001b[0;34m]\u001b[0m\u001b[0;34m[\u001b[0m\u001b[0msquare\u001b[0m\u001b[0;34m]\u001b[0m\u001b[0;34m.\u001b[0m\u001b[0mcoordwise\u001b[0m\u001b[0;34m[\u001b[0m\u001b[0mcoord\u001b[0m\u001b[0;34m]\u001b[0m\u001b[0;34m.\u001b[0m\u001b[0mtrials\u001b[0m\u001b[0;34m[\u001b[0m\u001b[0mj\u001b[0m\u001b[0;34m]\u001b[0m\u001b[0;34m.\u001b[0m\u001b[0minterestWindow\u001b[0m \u001b[0;32mfor\u001b[0m \u001b[0mj\u001b[0m \u001b[0;32min\u001b[0m \u001b[0mrange\u001b[0m\u001b[0;34m(\u001b[0m\u001b[0mnumTrials\u001b[0m\u001b[0;34m)\u001b[0m\u001b[0;34m]\u001b[0m\u001b[0;34m,\u001b[0m\u001b[0maxis\u001b[0m\u001b[0;34m=\u001b[0m\u001b[0;36m0\u001b[0m\u001b[0;34m)\u001b[0m\u001b[0;34m\u001b[0m\u001b[0m\n\u001b[1;32m     23\u001b[0m \u001b[0;31m#                     print(len(gabazine_trace))\u001b[0m\u001b[0;34m\u001b[0m\u001b[0;34m\u001b[0m\u001b[0m\n\u001b[0;32m---> 24\u001b[0;31m                     \u001b[0max\u001b[0m\u001b[0;34m[\u001b[0m\u001b[0;36m0\u001b[0m\u001b[0;34m]\u001b[0m\u001b[0;34m.\u001b[0m\u001b[0mplot\u001b[0m\u001b[0;34m(\u001b[0m\u001b[0mnp\u001b[0m\u001b[0;34m.\u001b[0m\u001b[0marange\u001b[0m\u001b[0;34m(\u001b[0m\u001b[0;36m2000\u001b[0m\u001b[0;34m)\u001b[0m\u001b[0;34m,\u001b[0m \u001b[0mnp\u001b[0m\u001b[0;34m.\u001b[0m\u001b[0mdiff\u001b[0m\u001b[0;34m(\u001b[0m\u001b[0mcontrol_trace\u001b[0m\u001b[0;34m)\u001b[0m\u001b[0;34m,\u001b[0m \u001b[0mlinewidth\u001b[0m\u001b[0;34m=\u001b[0m\u001b[0;36m1\u001b[0m\u001b[0;34m)\u001b[0m\u001b[0;34m\u001b[0m\u001b[0m\n\u001b[0m\u001b[1;32m     25\u001b[0m                     \u001b[0max\u001b[0m\u001b[0;34m[\u001b[0m\u001b[0;36m1\u001b[0m\u001b[0;34m]\u001b[0m\u001b[0;34m.\u001b[0m\u001b[0mplot\u001b[0m\u001b[0;34m(\u001b[0m\u001b[0mnp\u001b[0m\u001b[0;34m.\u001b[0m\u001b[0marange\u001b[0m\u001b[0;34m(\u001b[0m\u001b[0;36m2000\u001b[0m\u001b[0;34m)\u001b[0m\u001b[0;34m,\u001b[0m \u001b[0mnp\u001b[0m\u001b[0;34m.\u001b[0m\u001b[0mdiff\u001b[0m\u001b[0;34m(\u001b[0m\u001b[0mgabazine_trace\u001b[0m\u001b[0;34m)\u001b[0m\u001b[0;34m,\u001b[0m \u001b[0mlinewidth\u001b[0m\u001b[0;34m=\u001b[0m\u001b[0;36m1\u001b[0m\u001b[0;34m)\u001b[0m\u001b[0;34m\u001b[0m\u001b[0m\n\u001b[1;32m     26\u001b[0m \u001b[0;31m#                     ax[1].plot(control_trace[500:1500], gabazine_trace[500:1500], linewidth=1)\u001b[0m\u001b[0;34m\u001b[0m\u001b[0;34m\u001b[0m\u001b[0m\n",
      "\u001b[0;32m/usr/local/lib/python2.7/dist-packages/matplotlib/__init__.pyc\u001b[0m in \u001b[0;36minner\u001b[0;34m(ax, *args, **kwargs)\u001b[0m\n\u001b[1;32m   1715\u001b[0m                     warnings.warn(msg % (label_namer, func.__name__),\n\u001b[1;32m   1716\u001b[0m                                   RuntimeWarning, stacklevel=2)\n\u001b[0;32m-> 1717\u001b[0;31m             \u001b[0;32mreturn\u001b[0m \u001b[0mfunc\u001b[0m\u001b[0;34m(\u001b[0m\u001b[0max\u001b[0m\u001b[0;34m,\u001b[0m \u001b[0;34m*\u001b[0m\u001b[0margs\u001b[0m\u001b[0;34m,\u001b[0m \u001b[0;34m**\u001b[0m\u001b[0mkwargs\u001b[0m\u001b[0;34m)\u001b[0m\u001b[0;34m\u001b[0m\u001b[0m\n\u001b[0m\u001b[1;32m   1718\u001b[0m         \u001b[0mpre_doc\u001b[0m \u001b[0;34m=\u001b[0m \u001b[0minner\u001b[0m\u001b[0;34m.\u001b[0m\u001b[0m__doc__\u001b[0m\u001b[0;34m\u001b[0m\u001b[0m\n\u001b[1;32m   1719\u001b[0m         \u001b[0;32mif\u001b[0m \u001b[0mpre_doc\u001b[0m \u001b[0;32mis\u001b[0m \u001b[0mNone\u001b[0m\u001b[0;34m:\u001b[0m\u001b[0;34m\u001b[0m\u001b[0m\n",
      "\u001b[0;32m/usr/local/lib/python2.7/dist-packages/matplotlib/axes/_axes.pyc\u001b[0m in \u001b[0;36mplot\u001b[0;34m(self, *args, **kwargs)\u001b[0m\n\u001b[1;32m   1370\u001b[0m         \u001b[0mkwargs\u001b[0m \u001b[0;34m=\u001b[0m \u001b[0mcbook\u001b[0m\u001b[0;34m.\u001b[0m\u001b[0mnormalize_kwargs\u001b[0m\u001b[0;34m(\u001b[0m\u001b[0mkwargs\u001b[0m\u001b[0;34m,\u001b[0m \u001b[0m_alias_map\u001b[0m\u001b[0;34m)\u001b[0m\u001b[0;34m\u001b[0m\u001b[0m\n\u001b[1;32m   1371\u001b[0m \u001b[0;34m\u001b[0m\u001b[0m\n\u001b[0;32m-> 1372\u001b[0;31m         \u001b[0;32mfor\u001b[0m \u001b[0mline\u001b[0m \u001b[0;32min\u001b[0m \u001b[0mself\u001b[0m\u001b[0;34m.\u001b[0m\u001b[0m_get_lines\u001b[0m\u001b[0;34m(\u001b[0m\u001b[0;34m*\u001b[0m\u001b[0margs\u001b[0m\u001b[0;34m,\u001b[0m \u001b[0;34m**\u001b[0m\u001b[0mkwargs\u001b[0m\u001b[0;34m)\u001b[0m\u001b[0;34m:\u001b[0m\u001b[0;34m\u001b[0m\u001b[0m\n\u001b[0m\u001b[1;32m   1373\u001b[0m             \u001b[0mself\u001b[0m\u001b[0;34m.\u001b[0m\u001b[0madd_line\u001b[0m\u001b[0;34m(\u001b[0m\u001b[0mline\u001b[0m\u001b[0;34m)\u001b[0m\u001b[0;34m\u001b[0m\u001b[0m\n\u001b[1;32m   1374\u001b[0m             \u001b[0mlines\u001b[0m\u001b[0;34m.\u001b[0m\u001b[0mappend\u001b[0m\u001b[0;34m(\u001b[0m\u001b[0mline\u001b[0m\u001b[0;34m)\u001b[0m\u001b[0;34m\u001b[0m\u001b[0m\n",
      "\u001b[0;32m/usr/local/lib/python2.7/dist-packages/matplotlib/axes/_base.pyc\u001b[0m in \u001b[0;36m_grab_next_args\u001b[0;34m(self, *args, **kwargs)\u001b[0m\n\u001b[1;32m    402\u001b[0m                 \u001b[0mthis\u001b[0m \u001b[0;34m+=\u001b[0m \u001b[0margs\u001b[0m\u001b[0;34m[\u001b[0m\u001b[0;36m0\u001b[0m\u001b[0;34m]\u001b[0m\u001b[0;34m,\u001b[0m\u001b[0;34m\u001b[0m\u001b[0m\n\u001b[1;32m    403\u001b[0m                 \u001b[0margs\u001b[0m \u001b[0;34m=\u001b[0m \u001b[0margs\u001b[0m\u001b[0;34m[\u001b[0m\u001b[0;36m1\u001b[0m\u001b[0;34m:\u001b[0m\u001b[0;34m]\u001b[0m\u001b[0;34m\u001b[0m\u001b[0m\n\u001b[0;32m--> 404\u001b[0;31m             \u001b[0;32mfor\u001b[0m \u001b[0mseg\u001b[0m \u001b[0;32min\u001b[0m \u001b[0mself\u001b[0m\u001b[0;34m.\u001b[0m\u001b[0m_plot_args\u001b[0m\u001b[0;34m(\u001b[0m\u001b[0mthis\u001b[0m\u001b[0;34m,\u001b[0m \u001b[0mkwargs\u001b[0m\u001b[0;34m)\u001b[0m\u001b[0;34m:\u001b[0m\u001b[0;34m\u001b[0m\u001b[0m\n\u001b[0m\u001b[1;32m    405\u001b[0m                 \u001b[0;32myield\u001b[0m \u001b[0mseg\u001b[0m\u001b[0;34m\u001b[0m\u001b[0m\n\u001b[1;32m    406\u001b[0m \u001b[0;34m\u001b[0m\u001b[0m\n",
      "\u001b[0;32m/usr/local/lib/python2.7/dist-packages/matplotlib/axes/_base.pyc\u001b[0m in \u001b[0;36m_plot_args\u001b[0;34m(self, tup, kwargs)\u001b[0m\n\u001b[1;32m    382\u001b[0m             \u001b[0mx\u001b[0m\u001b[0;34m,\u001b[0m \u001b[0my\u001b[0m \u001b[0;34m=\u001b[0m \u001b[0mindex_of\u001b[0m\u001b[0;34m(\u001b[0m\u001b[0mtup\u001b[0m\u001b[0;34m[\u001b[0m\u001b[0;34m-\u001b[0m\u001b[0;36m1\u001b[0m\u001b[0;34m]\u001b[0m\u001b[0;34m)\u001b[0m\u001b[0;34m\u001b[0m\u001b[0m\n\u001b[1;32m    383\u001b[0m \u001b[0;34m\u001b[0m\u001b[0m\n\u001b[0;32m--> 384\u001b[0;31m         \u001b[0mx\u001b[0m\u001b[0;34m,\u001b[0m \u001b[0my\u001b[0m \u001b[0;34m=\u001b[0m \u001b[0mself\u001b[0m\u001b[0;34m.\u001b[0m\u001b[0m_xy_from_xy\u001b[0m\u001b[0;34m(\u001b[0m\u001b[0mx\u001b[0m\u001b[0;34m,\u001b[0m \u001b[0my\u001b[0m\u001b[0;34m)\u001b[0m\u001b[0;34m\u001b[0m\u001b[0m\n\u001b[0m\u001b[1;32m    385\u001b[0m \u001b[0;34m\u001b[0m\u001b[0m\n\u001b[1;32m    386\u001b[0m         \u001b[0;32mif\u001b[0m \u001b[0mself\u001b[0m\u001b[0;34m.\u001b[0m\u001b[0mcommand\u001b[0m \u001b[0;34m==\u001b[0m \u001b[0;34m'plot'\u001b[0m\u001b[0;34m:\u001b[0m\u001b[0;34m\u001b[0m\u001b[0m\n",
      "\u001b[0;32m/usr/local/lib/python2.7/dist-packages/matplotlib/axes/_base.pyc\u001b[0m in \u001b[0;36m_xy_from_xy\u001b[0;34m(self, x, y)\u001b[0m\n\u001b[1;32m    241\u001b[0m         \u001b[0;32mif\u001b[0m \u001b[0mx\u001b[0m\u001b[0;34m.\u001b[0m\u001b[0mshape\u001b[0m\u001b[0;34m[\u001b[0m\u001b[0;36m0\u001b[0m\u001b[0;34m]\u001b[0m \u001b[0;34m!=\u001b[0m \u001b[0my\u001b[0m\u001b[0;34m.\u001b[0m\u001b[0mshape\u001b[0m\u001b[0;34m[\u001b[0m\u001b[0;36m0\u001b[0m\u001b[0;34m]\u001b[0m\u001b[0;34m:\u001b[0m\u001b[0;34m\u001b[0m\u001b[0m\n\u001b[1;32m    242\u001b[0m             raise ValueError(\"x and y must have same first dimension, but \"\n\u001b[0;32m--> 243\u001b[0;31m                              \"have shapes {} and {}\".format(x.shape, y.shape))\n\u001b[0m\u001b[1;32m    244\u001b[0m         \u001b[0;32mif\u001b[0m \u001b[0mx\u001b[0m\u001b[0;34m.\u001b[0m\u001b[0mndim\u001b[0m \u001b[0;34m>\u001b[0m \u001b[0;36m2\u001b[0m \u001b[0;32mor\u001b[0m \u001b[0my\u001b[0m\u001b[0;34m.\u001b[0m\u001b[0mndim\u001b[0m \u001b[0;34m>\u001b[0m \u001b[0;36m2\u001b[0m\u001b[0;34m:\u001b[0m\u001b[0;34m\u001b[0m\u001b[0m\n\u001b[1;32m    245\u001b[0m             raise ValueError(\"x and y can be no greater than 2-D, but have \"\n",
      "\u001b[0;31mValueError\u001b[0m: x and y must have same first dimension, but have shapes (2000,) and (1999,)"
     ]
    },
    {
     "data": {
      "image/png": "[encoded data removed]",
      "text/plain": [
       "<matplotlib.figure.Figure at 0x7fc1436a7a50>"
      ]
     },
     "metadata": {},
     "output_type": "display_data"
    }
   ],
   "source": [
    "figure_appeal_pair_traces()"
   ]
  },
  {
   "cell_type": "code",
   "execution_count": 230,
   "metadata": {},
   "outputs": [
    {
     "data": {
      "text/plain": [
       "{0: 'epsp_max',\n",
       " 1: 'epsp_area',\n",
       " 2: 'epsp_avg',\n",
       " 3: 'epsp_time_to_peak',\n",
       " 4: 'epsp_area_to_peak',\n",
       " 5: 'epsp_min',\n",
       " 6: 'epsp_onset'}"
      ]
     },
     "execution_count": 230,
     "metadata": {},
     "output_type": "execute_result"
    }
   ],
   "source": [
    "neuronList[0].features"
   ]
  },
  {
   "cell_type": "markdown",
   "metadata": {},
   "source": [
    "***\n",
    "## Different grid maps"
   ]
  },
  {
   "cell_type": "code",
   "execution_count": 92,
   "metadata": {
    "collapsed": true
   },
   "outputs": [],
   "source": [
    "def plotPhotostimGrid(ca1_neuron, gridEdge=12, title='',colorInside=False):\n",
    "    ''' Plots the photostimulation grid for the given cell'''\n",
    "    coordwise = ca1_neuron.experiment[\"Control\"][1].coordwise\n",
    "    epsp_dict = np.zeros((gridEdge,gridEdge))\n",
    "\n",
    "    for coord in coordwise:\n",
    "        epsp_dict[list(coord)[0]] = coordwise[coord].average_feature[0]\n",
    "    epsp_dict = np.ma.masked_where(epsp_dict == 0., epsp_dict)\n",
    "\n",
    "    fig, ax = plt.subplots()\n",
    "\n",
    "    # mark a specific square?\n",
    "    zeros = np.zeros_like(epsp_dict)\n",
    "    stim_coords = np.where(epsp_dict>0)\n",
    "    zeros[stim_coords] = 1.\n",
    "    c = np.ma.masked_array(zeros, zeros == 0.)  # mask squares where value == 1\n",
    "    if colorInside:\n",
    "        ax.pcolormesh(np.arange(gridEdge+1), np.arange(gridEdge+1), c, alpha=0.5, zorder=2, facecolor='gray', edgecolors='none',\n",
    "                    cmap='gray', linewidth=1.)\n",
    "    else:\n",
    "        ax.pcolormesh(np.arange(gridEdge+1), np.arange(gridEdge+1), c, alpha=0.5, zorder=2, facecolor='none', edgecolors='k',\n",
    "                    cmap='gray', linewidth=1.)\n",
    "    ax.invert_yaxis()\n",
    "    for axis in [ax.xaxis, ax.yaxis]:\n",
    "        axis.set_ticks(np.arange(1,gridEdge+1), minor=True)\n",
    "        axis.set(ticks=np.arange(0,gridEdge+1,2)+0.5, ticklabels=np.arange(0,gridEdge+1,2)) #Skipping square labels\n",
    "\n",
    "    ax.grid(True, which='minor', axis='both', linestyle='--', alpha=0.1, color='k')\n",
    "\n",
    "    ax.set_xlim((0,gridEdge+1))\n",
    "    ax.set_ylim((0,gridEdge+1))\n",
    "\n",
    "    ax.set_aspect(1)\n",
    "    simpleaxis(ax, every=True, outward=False)\n",
    "    ax.set_title(title)\n",
    "    fig.set_figheight(2.)\n",
    "    fig.set_figwidth(2.5)\n",
    "    return fig"
   ]
  },
  {
   "cell_type": "markdown",
   "metadata": {
    "heading_collapsed": true
   },
   "source": [
    "### Dense square grid (15 square edges)"
   ]
  },
  {
   "cell_type": "code",
   "execution_count": 99,
   "metadata": {
    "hidden": true
   },
   "outputs": [
    {
     "data": {
      "image/png": "[encoded data removed]",
      "text/plain": [
       "<matplotlib.figure.Figure at 0x7f25850c9810>"
      ]
     },
     "metadata": {},
     "output_type": "display_data"
    }
   ],
   "source": [
    "ca1_neuron = Neuron.load('/media/sahil/NCBS_Shares_BGStim/patch_data/150902/c2/plots/c2.pkl')\n",
    "fig = plotPhotostimGrid(ca1_neuron,gridEdge=15,title='225 point dense square grid')\n",
    "dump(fig,file('figures/supplementary/3_dense_225.pkl','wb'))\n",
    "plt.show(fig)"
   ]
  },
  {
   "cell_type": "markdown",
   "metadata": {},
   "source": [
    "### Dense square grid (13 square edges)"
   ]
  },
  {
   "cell_type": "code",
   "execution_count": 100,
   "metadata": {},
   "outputs": [
    {
     "data": {
      "image/png": "[encoded data removed]",
      "text/plain": [
       "<matplotlib.figure.Figure at 0x7f2583ea1610>"
      ]
     },
     "metadata": {},
     "output_type": "display_data"
    }
   ],
   "source": [
    "ca1_neuron = Neuron.load('/media/sahil/NCBS_Shares_BGStim/patch_data/160209/c4/plots/c4.pkl')\n",
    "fig = plotPhotostimGrid(ca1_neuron,gridEdge=13,title='169 point dense square grid')\n",
    "dump(fig,file('figures/supplementary/3_dense_169.pkl','wb'))\n",
    "plt.show(fig)"
   ]
  },
  {
   "cell_type": "markdown",
   "metadata": {},
   "source": [
    "### Dense circular grid (13 square edges)"
   ]
  },
  {
   "cell_type": "code",
   "execution_count": 101,
   "metadata": {},
   "outputs": [
    {
     "data": {
      "image/png": "[encoded data removed]",
      "text/plain": [
       "<matplotlib.figure.Figure at 0x7f2585bd7e50>"
      ]
     },
     "metadata": {},
     "output_type": "display_data"
    }
   ],
   "source": [
    "ca1_neuron = Neuron.load('/media/sahil/NCBS_Shares_BGStim/patch_data/160920/c1/plots/c1.pkl')\n",
    "fig = plotPhotostimGrid(ca1_neuron,gridEdge=13,title='112 point dense circular grid')\n",
    "dump(fig,file('figures/supplementary/3_dense_circle_112.pkl','wb'))\n",
    "plt.show(fig)"
   ]
  },
  {
   "cell_type": "markdown",
   "metadata": {},
   "source": [
    "### Sparse circular grid map"
   ]
  },
  {
   "cell_type": "code",
   "execution_count": 102,
   "metadata": {},
   "outputs": [
    {
     "data": {
      "image/png": "[encoded data removed]",
      "text/plain": [
       "<matplotlib.figure.Figure at 0x7f2584cbee90>"
      ]
     },
     "metadata": {},
     "output_type": "display_data"
    }
   ],
   "source": [
    "ca1_neuron = Neuron.load('/media/sahil/NCBS_Shares_BGStim/patch_data/161013/c1/plots/c1.pkl')\n",
    "fig = plotPhotostimGrid(ca1_neuron,gridEdge=12,title='24 point sparse circular grid')\n",
    "dump(fig,file('figures/supplementary/3_sparse_circle_24.pkl','wb'))\n",
    "plt.show(fig)"
   ]
  },
  {
   "cell_type": "code",
   "execution_count": 98,
   "metadata": {},
   "outputs": [
    {
     "data": {
      "image/png": "[encoded data removed]",
      "text/plain": [
       "<matplotlib.figure.Figure at 0x7f2584cda2d0>"
      ]
     },
     "metadata": {},
     "output_type": "display_data"
    }
   ],
   "source": [
    "ca1_neuron = Neuron.load('/media/sahil/NCBS_Shares_BGStim/patch_data/170303/c1/plots/c1.pkl')\n",
    "fig = plotPhotostimGrid(ca1_neuron,gridEdge=12,title='37 point diagonal sparse square grid', colorInside=True)\n",
    "dump(fig,file('figures/supplementary/3_sparse_37_diagonal.pkl','wb'))\n",
    "plt.show(fig)"
   ]
  },
  {
   "cell_type": "markdown",
   "metadata": {},
   "source": [
    "***\n",
    "## Getting kinetic parameters for conductance model"
   ]
  },
  {
   "cell_type": "code",
   "execution_count": 25,
   "metadata": {
    "collapsed": true
   },
   "outputs": [],
   "source": [
    "a = ['161220 c2_EI',\n",
    " '170510 c2_EI',\n",
    " '170524 c3_EI',\n",
    " '170524 c1_EI',\n",
    " '170530 c2_EI',\n",
    " '170530 c1_EI',\n",
    " '170531 c2_EI',\n",
    " '170531 c4_EI',\n",
    " '170531 c1_EI',\n",
    " '170720 c5_EI',\n",
    " '170720 c3_EI',\n",
    " '170720 c4_EI',\n",
    " '170720 c2_EI']\n",
    "dirnames = (['/home/bhalla/Documents/Codes/data/media/sahil/NCBS_Shares_BGStim/patch_data/' + '/'.join(j.split(' ')) + '/' for j in a])"
   ]
  },
  {
   "cell_type": "code",
   "execution_count": 26,
   "metadata": {},
   "outputs": [
    {
     "data": {
      "text/plain": [
       "['/home/bhalla/Documents/Codes/data/media/sahil/NCBS_Shares_BGStim/patch_data/161220/c2_EI/',\n",
       " '/home/bhalla/Documents/Codes/data/media/sahil/NCBS_Shares_BGStim/patch_data/170510/c2_EI/',\n",
       " '/home/bhalla/Documents/Codes/data/media/sahil/NCBS_Shares_BGStim/patch_data/170524/c3_EI/',\n",
       " '/home/bhalla/Documents/Codes/data/media/sahil/NCBS_Shares_BGStim/patch_data/170524/c1_EI/',\n",
       " '/home/bhalla/Documents/Codes/data/media/sahil/NCBS_Shares_BGStim/patch_data/170530/c2_EI/',\n",
       " '/home/bhalla/Documents/Codes/data/media/sahil/NCBS_Shares_BGStim/patch_data/170530/c1_EI/',\n",
       " '/home/bhalla/Documents/Codes/data/media/sahil/NCBS_Shares_BGStim/patch_data/170531/c2_EI/',\n",
       " '/home/bhalla/Documents/Codes/data/media/sahil/NCBS_Shares_BGStim/patch_data/170531/c4_EI/',\n",
       " '/home/bhalla/Documents/Codes/data/media/sahil/NCBS_Shares_BGStim/patch_data/170531/c1_EI/',\n",
       " '/home/bhalla/Documents/Codes/data/media/sahil/NCBS_Shares_BGStim/patch_data/170720/c5_EI/',\n",
       " '/home/bhalla/Documents/Codes/data/media/sahil/NCBS_Shares_BGStim/patch_data/170720/c3_EI/',\n",
       " '/home/bhalla/Documents/Codes/data/media/sahil/NCBS_Shares_BGStim/patch_data/170720/c4_EI/',\n",
       " '/home/bhalla/Documents/Codes/data/media/sahil/NCBS_Shares_BGStim/patch_data/170720/c2_EI/']"
      ]
     },
     "execution_count": 26,
     "metadata": {},
     "output_type": "execute_result"
    }
   ],
   "source": [
    "dirnames"
   ]
  },
  {
   "cell_type": "code",
   "execution_count": 27,
   "metadata": {},
   "outputs": [
    {
     "ename": "IOError",
     "evalue": "[Errno 2] No such file or directory: '/media/sahil/NCBS_Shares_BGStim/patch_data/voltage_clamp_files.txt'",
     "output_type": "error",
     "traceback": [
      "\u001b[0;31m---------------------------------------------------------------------------\u001b[0m",
      "\u001b[0;31mIOError\u001b[0m                                   Traceback (most recent call last)",
      "\u001b[0;32m<ipython-input-27-a4d606213aa2>\u001b[0m in \u001b[0;36m<module>\u001b[0;34m()\u001b[0m\n\u001b[1;32m      1\u001b[0m \u001b[0mvoltageClampFiles\u001b[0m \u001b[0;34m=\u001b[0m \u001b[0;34m'/media/sahil/NCBS_Shares_BGStim/patch_data/voltage_clamp_files.txt'\u001b[0m\u001b[0;34m\u001b[0m\u001b[0m\n\u001b[0;32m----> 2\u001b[0;31m \u001b[0;32mwith\u001b[0m \u001b[0mopen\u001b[0m \u001b[0;34m(\u001b[0m\u001b[0mvoltageClampFiles\u001b[0m\u001b[0;34m,\u001b[0m\u001b[0;34m'r'\u001b[0m\u001b[0;34m)\u001b[0m \u001b[0;32mas\u001b[0m \u001b[0mr\u001b[0m\u001b[0;34m:\u001b[0m\u001b[0;34m\u001b[0m\u001b[0m\n\u001b[0m\u001b[1;32m      3\u001b[0m     \u001b[0mdirnames\u001b[0m \u001b[0;34m=\u001b[0m \u001b[0mr\u001b[0m\u001b[0;34m.\u001b[0m\u001b[0mread\u001b[0m\u001b[0;34m(\u001b[0m\u001b[0;34m)\u001b[0m\u001b[0;34m.\u001b[0m\u001b[0msplitlines\u001b[0m\u001b[0;34m(\u001b[0m\u001b[0;34m)\u001b[0m\u001b[0;34m\u001b[0m\u001b[0m\n",
      "\u001b[0;31mIOError\u001b[0m: [Errno 2] No such file or directory: '/media/sahil/NCBS_Shares_BGStim/patch_data/voltage_clamp_files.txt'"
     ]
    }
   ],
   "source": [
    "voltageClampFiles = '/media/sahil/NCBS_Shares_BGStim/patch_data/voltage_clamp_files.txt'\n",
    "with open (voltageClampFiles,'r') as r:\n",
    "    dirnames = r.read().splitlines()"
   ]
  },
  {
   "cell_type": "code",
   "execution_count": 28,
   "metadata": {
    "collapsed": true
   },
   "outputs": [],
   "source": [
    "neurons = []\n",
    "for dirname in dirnames:\n",
    "    cellIndex = dirname.split('/')[-2]\n",
    "    filename = dirname + 'plots/' + cellIndex +  '_fits.pkl'\n",
    "    if os.path.exists(filename):\n",
    "        try:\n",
    "            neurons.append(Neuron.load(filename))\n",
    "        except:\n",
    "            print (\"Couldn't load file\")\n",
    "            pass"
   ]
  },
  {
   "cell_type": "code",
   "execution_count": 29,
   "metadata": {
    "collapsed": true
   },
   "outputs": [],
   "source": [
    "#Colorscheme for cells\n",
    "color_cell = matplotlib.cm.plasma(np.linspace(0,1,len(dirnames)))"
   ]
  },
  {
   "cell_type": "code",
   "execution_count": 30,
   "metadata": {},
   "outputs": [
    {
     "name": "stderr",
     "output_type": "stream",
     "text": [
      "/usr/local/lib/python2.7/dist-packages/ipykernel_launcher.py:43: RuntimeWarning: Mean of empty slice\n",
      "/usr/local/lib/python2.7/dist-packages/ipykernel_launcher.py:44: RuntimeWarning: Mean of empty slice\n",
      "/usr/local/lib/python2.7/dist-packages/ipykernel_launcher.py:45: RuntimeWarning: Mean of empty slice\n",
      "/usr/local/lib/python2.7/dist-packages/ipykernel_launcher.py:46: RuntimeWarning: Mean of empty slice\n",
      "/usr/local/lib/python2.7/dist-packages/ipykernel_launcher.py:22: RuntimeWarning: Mean of empty slice\n",
      "/usr/local/lib/python2.7/dist-packages/ipykernel_launcher.py:23: RuntimeWarning: Mean of empty slice\n",
      "/usr/local/lib/python2.7/dist-packages/ipykernel_launcher.py:24: RuntimeWarning: Mean of empty slice\n",
      "/usr/local/lib/python2.7/dist-packages/ipykernel_launcher.py:25: RuntimeWarning: Mean of empty slice\n"
     ]
    }
   ],
   "source": [
    "e_r, e_d, i_r, i_d, g_e, g_i, del_i = [], [], [], [], [], [], []\n",
    "for index, n in enumerate(neurons):\n",
    "    coord_e_r, coord_e_d, coord_i_r, coord_i_d, coord_g_e, coord_g_i, coord_e_t_0, coord_i_t_0 = {}, {}, {}, {}, {}, {}, {}, {}\n",
    "    for expType, experiment in n:\n",
    "        if expType == 1:\n",
    "            for sqr in experiment:\n",
    "                for coord in experiment[sqr].coordwise:\n",
    "                    coord_e_r[coord] = []\n",
    "                    coord_e_d[coord] = []\n",
    "                    coord_g_e[coord] = []\n",
    "                    coord_e_t_0[coord] = []\n",
    "                    for trial in experiment[sqr].coordwise[coord].trials:\n",
    "                        if hasattr(trial, 'fit'):\n",
    "                            if not trial.fit == None:\n",
    "#                                 e_r.append(trial.fit['tOn'].value)\n",
    "#                                 e_d.append(trial.fit['tOff'].value)\n",
    "#                                 g_e.append(trial.fit['g_max'].value)\n",
    "                                coord_e_r[coord].append(trial.fit['tOn'].value)\n",
    "                                coord_e_d[coord].append(trial.fit['tOff'].value)\n",
    "                                coord_g_e[coord].append(trial.fit['g_max'].value)\n",
    "                                coord_e_t_0[coord].append(trial.fit['t_0'].value)\n",
    "                    coord_e_r[coord] = np.nanmean(coord_e_r[coord])\n",
    "                    coord_e_d[coord] = np.nanmean(coord_e_d[coord])\n",
    "                    coord_g_e[coord] = np.nanmean(coord_g_e[coord])\n",
    "                    coord_e_t_0[coord] = np.nanmean(coord_e_t_0[coord])\n",
    "        if expType == 2:\n",
    "            for sqr in experiment:\n",
    "                for coord in experiment[sqr].coordwise:\n",
    "                    coord_i_r[coord] = []\n",
    "                    coord_i_d[coord] = []\n",
    "                    coord_g_i[coord] = []\n",
    "                    coord_i_t_0[coord] = []\n",
    "                    for trial in experiment[sqr].coordwise[coord].trials:\n",
    "                        if hasattr(trial, 'fit'):\n",
    "                            if not trial.fit == None:\n",
    "#                                 i_r.append(trial.fit['tOn'].value)\n",
    "#                                 i_d.append(trial.fit['tOff'].value)\n",
    "#                                 g_i.append(trial.fit['g_max'].value)\n",
    "                                coord_i_r[coord].append(trial.fit['tOn'].value)\n",
    "                                coord_i_d[coord].append(trial.fit['tOff'].value)\n",
    "                                coord_g_i[coord].append(trial.fit['g_max'].value)\n",
    "                                coord_i_t_0[coord].append(trial.fit['t_0'].value)\n",
    "                    coord_i_r[coord] = np.nanmean(coord_i_r[coord])\n",
    "                    coord_i_d[coord] = np.nanmean(coord_i_d[coord])\n",
    "                    coord_g_i[coord] = np.nanmean(coord_g_i[coord])\n",
    "                    coord_i_t_0[coord] = np.nanmean(coord_i_t_0[coord])\n",
    "        \n",
    "    for coord in coord_e_r:\n",
    "        if not any(np.isnan([coord_e_r[coord],coord_e_d[coord],coord_i_r[coord],coord_i_d[coord],coord_g_e[coord],coord_g_i[coord],coord_e_t_0[coord],coord_i_t_0[coord]])):\n",
    "            e_r.append(coord_e_r[coord])\n",
    "            e_d.append(coord_e_d[coord])\n",
    "            i_r.append(coord_i_r[coord])\n",
    "            i_d.append(coord_i_d[coord])\n",
    "            g_e.append(coord_g_e[coord])\n",
    "            g_i.append(coord_g_i[coord])\n",
    "            del_i.append(coord_i_t_0[coord] - coord_e_t_0[coord])"
   ]
  },
  {
   "cell_type": "code",
   "execution_count": 31,
   "metadata": {
    "collapsed": true
   },
   "outputs": [],
   "source": [
    "e_r, e_d, i_r, i_d, g_e, g_i, del_i = [np.array(x) for x in [e_r, e_d, i_r, i_d, g_e, g_i, del_i]]"
   ]
  },
  {
   "cell_type": "code",
   "execution_count": 32,
   "metadata": {},
   "outputs": [
    {
     "data": {
      "image/png": "[encoded data removed]",
      "text/plain": [
       "<matplotlib.figure.Figure at 0x7fcc303c53d0>"
      ]
     },
     "metadata": {},
     "output_type": "display_data"
    }
   ],
   "source": [
    "fig, ax = plt.subplots(2,2)\n",
    "\n",
    "ax[0][0].hist(e_r,color='purple')\n",
    "ax[0][1].hist(e_d,color='purple')\n",
    "ax[1][0].hist(i_r,color='k')\n",
    "ax[1][1].hist(i_d,color='k')\n",
    "\n",
    "ax[0][0].set_xticks([0.01, 0.03])\n",
    "ax[0][1].set_xticks([0.01, 0.03])\n",
    "ax[1][0].set_xticks([0.01, 0.04])\n",
    "ax[1][1].set_xticks([0.01, 0.06])\n",
    "\n",
    "ax[0][0].set_yticks([0, 50])\n",
    "ax[0][1].set_yticks([0, 50])\n",
    "ax[1][0].set_yticks([0, 50])\n",
    "ax[1][1].set_yticks([0, 50])\n",
    "\n",
    "cols = ['{}'.format(col) for col in [\"$\\\\tau_{rise} (ms)$\", \"$\\\\tau_{decay} (ms)$\"]]\n",
    "rows = ['{}'.format(row) for row in [\"Excitation \\n(#PSCs)\", \"Inhibition \\n(#PSCs)\"]]\n",
    "\n",
    "pad = 8 # in points\n",
    "\n",
    "for axis, col in zip(ax[0], cols):\n",
    "    axis.annotate(col, xy=(0.5, 1), xytext=(0, pad),\n",
    "                xycoords='axes fraction', textcoords='offset points',\n",
    "                size='large', ha='center', va='baseline')\n",
    "\n",
    "for axis, row in zip(ax[:,0], rows):\n",
    "    axis.annotate(row, xy=(0, 0.5), xytext=(-axis.yaxis.labelpad - pad, 0),\n",
    "                xycoords=axis.yaxis.label, textcoords='offset points',\n",
    "                size='large', ha='right', va='center')\n",
    "\n",
    "fig.subplots_adjust(left=0.15, top=0.95)\n",
    "simpleaxis(ax)\n",
    "fig.set_figwidth(2)\n",
    "fig.set_figheight(2)\n",
    "plt.tight_layout()\n",
    "dump(fig,file('figures/supplementary/7_time_course_all.pkl','wb'))\n",
    "plt.show(fig)"
   ]
  },
  {
   "cell_type": "code",
   "execution_count": 33,
   "metadata": {},
   "outputs": [
    {
     "name": "stdout",
     "output_type": "stream",
     "text": [
      "median = 0.007, quartiles = 0.005, 0.011\n",
      "median = 0.016, quartiles = 0.011, 0.020\n",
      "median = 0.013, quartiles = 0.005, 0.020\n",
      "median = 0.027, quartiles = 0.020, 0.038\n"
     ]
    }
   ],
   "source": [
    "print(\"median = {:.3f}, quartiles = {:.3f}, {:.3f}\".format(np.median(e_r), np.percentile(e_r, q=25), np.percentile(e_r, q=75)))\n",
    "print(\"median = {:.3f}, quartiles = {:.3f}, {:.3f}\".format(np.median(e_d), np.percentile(e_d, q=25), np.percentile(e_d, q=75)))\n",
    "print(\"median = {:.3f}, quartiles = {:.3f}, {:.3f}\".format(np.median(i_r), np.percentile(i_r, q=25), np.percentile(i_r, q=75)))\n",
    "print(\"median = {:.3f}, quartiles = {:.3f}, {:.3f}\".format(np.median(i_d), np.percentile(i_d, q=25), np.percentile(i_d, q=75)))"
   ]
  },
  {
   "cell_type": "code",
   "execution_count": 11,
   "metadata": {},
   "outputs": [
    {
     "data": {
      "text/plain": [
       "['161220 c2_EI',\n",
       " '170510 c2_EI',\n",
       " '170524 c3_EI',\n",
       " '170524 c1_EI',\n",
       " '170530 c2_EI',\n",
       " '170530 c1_EI',\n",
       " '170531 c2_EI',\n",
       " '170531 c4_EI',\n",
       " '170531 c1_EI',\n",
       " '170720 c5_EI',\n",
       " '170720 c3_EI',\n",
       " '170720 c4_EI',\n",
       " '170720 c2_EI']"
      ]
     },
     "execution_count": 11,
     "metadata": {},
     "output_type": "execute_result"
    }
   ],
   "source": [
    "[n.date + ' ' + n.index for n in neurons]"
   ]
  },
  {
   "cell_type": "markdown",
   "metadata": {},
   "source": [
    "### Example cell"
   ]
  },
  {
   "cell_type": "code",
   "execution_count": 64,
   "metadata": {},
   "outputs": [
    {
     "name": "stderr",
     "output_type": "stream",
     "text": [
      "/usr/local/lib/python2.7/dist-packages/ipykernel_launcher.py:45: RuntimeWarning: Mean of empty slice\n",
      "/usr/local/lib/python2.7/dist-packages/ipykernel_launcher.py:46: RuntimeWarning: Mean of empty slice\n",
      "/usr/local/lib/python2.7/dist-packages/ipykernel_launcher.py:47: RuntimeWarning: Mean of empty slice\n",
      "/usr/local/lib/python2.7/dist-packages/ipykernel_launcher.py:48: RuntimeWarning: Mean of empty slice\n"
     ]
    }
   ],
   "source": [
    "e_r, e_d, i_r, i_d, g_e, g_i, del_i = [], [], [], [], [], [], []\n",
    "sample_neurons = [neurons[6]]\n",
    "\n",
    "for index, n in enumerate(sample_neurons):\n",
    "    coord_e_r, coord_e_d, coord_i_r, coord_i_d, coord_g_e, coord_g_i, coord_e_t_0, coord_i_t_0 = {}, {}, {}, {}, {}, {}, {}, {}\n",
    "    for expType, experiment in n:\n",
    "        if expType == 1:\n",
    "            for sqr in experiment:\n",
    "                for coord in experiment[sqr].coordwise:\n",
    "                    coord_e_r[coord] = []\n",
    "                    coord_e_d[coord] = []\n",
    "                    coord_g_e[coord] = []\n",
    "                    coord_e_t_0[coord] = []\n",
    "                    for trial in experiment[sqr].coordwise[coord].trials:\n",
    "                        if hasattr(trial, 'fit'):\n",
    "                            if not trial.fit == None:\n",
    "#                                 e_r.append(trial.fit['tOn'].value)\n",
    "#                                 e_d.append(trial.fit['tOff'].value)\n",
    "#                                 g_e.append(trial.fit['g_max'].value)\n",
    "                                coord_e_r[coord].append(trial.fit['tOn'].value)\n",
    "                                coord_e_d[coord].append(trial.fit['tOff'].value)\n",
    "                                coord_g_e[coord].append(trial.fit['g_max'].value)\n",
    "                                coord_e_t_0[coord].append(trial.fit['t_0'].value)\n",
    "                    coord_e_r[coord] = np.nanmean(coord_e_r[coord])\n",
    "                    coord_e_d[coord] = np.nanmean(coord_e_d[coord])\n",
    "                    coord_g_e[coord] = np.nanmean(coord_g_e[coord])\n",
    "                    coord_e_t_0[coord] = np.nanmean(coord_e_t_0[coord])\n",
    "        if expType == 2:\n",
    "            for sqr in experiment:\n",
    "                for coord in experiment[sqr].coordwise:\n",
    "                    coord_i_r[coord] = []\n",
    "                    coord_i_d[coord] = []\n",
    "                    coord_g_i[coord] = []\n",
    "                    coord_i_t_0[coord] = []\n",
    "                    for trial in experiment[sqr].coordwise[coord].trials:\n",
    "                        if hasattr(trial, 'fit'):\n",
    "                            if not trial.fit == None:\n",
    "#                                 i_r.append(trial.fit['tOn'].value)\n",
    "#                                 i_d.append(trial.fit['tOff'].value)\n",
    "#                                 g_i.append(trial.fit['g_max'].value)\n",
    "                                coord_i_r[coord].append(trial.fit['tOn'].value)\n",
    "                                coord_i_d[coord].append(trial.fit['tOff'].value)\n",
    "                                coord_g_i[coord].append(trial.fit['g_max'].value)\n",
    "                                coord_i_t_0[coord].append(trial.fit['t_0'].value)\n",
    "                    coord_i_r[coord] = np.nanmean(coord_i_r[coord])\n",
    "                    coord_i_d[coord] = np.nanmean(coord_i_d[coord])\n",
    "                    coord_g_i[coord] = np.nanmean(coord_g_i[coord])\n",
    "                    coord_i_t_0[coord] = np.nanmean(coord_i_t_0[coord])\n",
    "        \n",
    "    for coord in coord_e_r:\n",
    "        if not any(np.isnan([coord_e_r[coord],coord_e_d[coord],coord_i_r[coord],coord_i_d[coord],coord_g_e[coord],coord_g_i[coord],coord_e_t_0[coord],coord_i_t_0[coord]])):\n",
    "            e_r.append(coord_e_r[coord])\n",
    "            e_d.append(coord_e_d[coord])\n",
    "            i_r.append(coord_i_r[coord])\n",
    "            i_d.append(coord_i_d[coord])\n",
    "            g_e.append(coord_g_e[coord])\n",
    "            g_i.append(coord_g_i[coord])\n",
    "            del_i.append(coord_i_t_0[coord] - coord_e_t_0[coord])"
   ]
  },
  {
   "cell_type": "code",
   "execution_count": 65,
   "metadata": {
    "collapsed": true
   },
   "outputs": [],
   "source": [
    "e_r, e_d, i_r, i_d, g_e, g_i, del_i = [np.array(x) for x in [e_r, e_d, i_r, i_d, g_e, g_i, del_i]]"
   ]
  },
  {
   "cell_type": "code",
   "execution_count": 66,
   "metadata": {},
   "outputs": [
    {
     "data": {
      "image/png": "[encoded data removed]",
      "text/plain": [
       "<matplotlib.figure.Figure at 0x7fcc2ed826d0>"
      ]
     },
     "metadata": {},
     "output_type": "display_data"
    }
   ],
   "source": [
    "fig, ax = plt.subplots(2,2)\n",
    "\n",
    "ax[0][0].hist(e_r*1e3,color='purple')\n",
    "ax[0][1].hist(e_d*1e3,color='purple')\n",
    "ax[1][0].hist(i_r*1e3,color='k')\n",
    "ax[1][1].hist(i_d*1e3,color='k')\n",
    "\n",
    "# ax[0][0].set_xticks([0.01, 0.03])\n",
    "# ax[0][1].set_xticks([0.01, 0.03])\n",
    "# ax[1][0].set_xticks([0.02, 0.04])\n",
    "# ax[1][1].set_xticks([0.04, 0.06])\n",
    "\n",
    "# ax[0][0].set_yticks([0, 4])\n",
    "# ax[0][1].set_yticks([0, 4])\n",
    "# ax[1][0].set_yticks([0, 5])\n",
    "# ax[1][1].set_yticks([0, 5])\n",
    "\n",
    "cols = ['{}'.format(col) for col in [\"$\\\\tau_{rise} (ms)$\", \"$\\\\tau_{decay} (ms)$\"]]\n",
    "rows = ['{}'.format(row) for row in [\"Excitation \\n(#PSCs)\", \"Inhibition \\n(#PSCs)\"]]\n",
    "\n",
    "pad = 8 # in points\n",
    "\n",
    "for axis, col in zip(ax[0], cols):\n",
    "    axis.annotate(col, xy=(0.5, 1), xytext=(0, pad),\n",
    "                xycoords='axes fraction', textcoords='offset points',\n",
    "                size='large', ha='center', va='baseline')\n",
    "\n",
    "for axis, row in zip(ax[:,0], rows):\n",
    "    axis.annotate(row, xy=(0, 0.5), xytext=(-axis.yaxis.labelpad - pad, 0),\n",
    "                xycoords=axis.yaxis.label, textcoords='offset points',\n",
    "                size='large', ha='right', va='center')\n",
    "\n",
    "fig.subplots_adjust(left=0.15, top=0.95)\n",
    "simpleaxis(ax)\n",
    "fig.set_figwidth(2)\n",
    "fig.set_figheight(2)\n",
    "plt.tight_layout()\n",
    "dump(fig,file('figures/supplementary/7_time_course_one_cell.pkl','wb'))\n",
    "plt.show(fig)"
   ]
  },
  {
   "cell_type": "code",
   "execution_count": 67,
   "metadata": {},
   "outputs": [
    {
     "name": "stdout",
     "output_type": "stream",
     "text": [
      "median = 0.007, quartiles = 0.006, 0.008\n",
      "median = 0.009, quartiles = 0.007, 0.010\n",
      "median = 0.005, quartiles = 0.004, 0.011\n",
      "median = 0.019, quartiles = 0.015, 0.022\n"
     ]
    }
   ],
   "source": [
    "print(\"median = {:.3f}, quartiles = {:.3f}, {:.3f}\".format(np.median(e_r), np.percentile(e_r, q=25), np.percentile(e_r, q=75)))\n",
    "print(\"median = {:.3f}, quartiles = {:.3f}, {:.3f}\".format(np.median(e_d), np.percentile(e_d, q=25), np.percentile(e_d, q=75)))\n",
    "print(\"median = {:.3f}, quartiles = {:.3f}, {:.3f}\".format(np.median(i_r), np.percentile(i_r, q=25), np.percentile(i_r, q=75)))\n",
    "print(\"median = {:.3f}, quartiles = {:.3f}, {:.3f}\".format(np.median(i_d), np.percentile(i_d, q=25), np.percentile(i_d, q=75)))"
   ]
  },
  {
   "cell_type": "code",
   "execution_count": 68,
   "metadata": {},
   "outputs": [
    {
     "data": {
      "image/png": "[encoded data removed]",
      "text/plain": [
       "<matplotlib.figure.Figure at 0x7fcc2f42bd10>"
      ]
     },
     "metadata": {},
     "output_type": "display_data"
    }
   ],
   "source": [
    "fig, ax = plt.subplots()\n",
    "ax.scatter(g_e*1e6, del_i*1e3)\n",
    "plt.show()"
   ]
  },
  {
   "cell_type": "markdown",
   "metadata": {},
   "source": [
    "### All cells together"
   ]
  },
  {
   "cell_type": "code",
   "execution_count": 85,
   "metadata": {},
   "outputs": [
    {
     "name": "stderr",
     "output_type": "stream",
     "text": [
      "/usr/local/lib/python2.7/dist-packages/ipykernel_launcher.py:46: RuntimeWarning: Mean of empty slice\n",
      "/usr/local/lib/python2.7/dist-packages/ipykernel_launcher.py:47: RuntimeWarning: Mean of empty slice\n",
      "/usr/local/lib/python2.7/dist-packages/ipykernel_launcher.py:48: RuntimeWarning: Mean of empty slice\n",
      "/usr/local/lib/python2.7/dist-packages/ipykernel_launcher.py:49: RuntimeWarning: Mean of empty slice\n",
      "/usr/local/lib/python2.7/dist-packages/ipykernel_launcher.py:25: RuntimeWarning: Mean of empty slice\n",
      "/usr/local/lib/python2.7/dist-packages/ipykernel_launcher.py:26: RuntimeWarning: Mean of empty slice\n",
      "/usr/local/lib/python2.7/dist-packages/ipykernel_launcher.py:27: RuntimeWarning: Mean of empty slice\n",
      "/usr/local/lib/python2.7/dist-packages/ipykernel_launcher.py:28: RuntimeWarning: Mean of empty slice\n"
     ]
    },
    {
     "data": {
      "image/png": "[encoded data removed]",
      "text/plain": [
       "<matplotlib.figure.Figure at 0x7fcc2f2763d0>"
      ]
     },
     "metadata": {},
     "output_type": "display_data"
    }
   ],
   "source": [
    "sample_neurons = neurons\n",
    "conductanceConversion = 70e-3 ## To divide by -70 mV gives conductace from currents.\n",
    "fig, ax = plt.subplots()\n",
    "for index, n in enumerate(sample_neurons):\n",
    "    e_r, e_d, i_r, i_d, g_e, g_i, del_i = [], [], [], [], [], [], []\n",
    "    coord_e_r, coord_e_d, coord_i_r, coord_i_d, coord_g_e, coord_g_i, coord_e_t_0, coord_i_t_0 = {}, {}, {}, {}, {}, {}, {}, {}\n",
    "    for expType, experiment in n:\n",
    "        if expType == 1:\n",
    "            for sqr in experiment:\n",
    "                for coord in experiment[sqr].coordwise:\n",
    "                    coord_e_r[coord] = []\n",
    "                    coord_e_d[coord] = []\n",
    "                    coord_g_e[coord] = []\n",
    "                    coord_e_t_0[coord] = []\n",
    "                    for trial in experiment[sqr].coordwise[coord].trials:\n",
    "                        if hasattr(trial, 'fit'):\n",
    "                            if not trial.fit == None:\n",
    "#                                 e_r.append(trial.fit['tOn'].value)\n",
    "#                                 e_d.append(trial.fit['tOff'].value)\n",
    "#                                 g_e.append(trial.fit['g_max'].value)\n",
    "                                coord_e_r[coord].append(trial.fit['tOn'].value)\n",
    "                                coord_e_d[coord].append(trial.fit['tOff'].value)\n",
    "                                coord_g_e[coord].append(trial.fit['g_max'].value)\n",
    "                                coord_e_t_0[coord].append(trial.fit['t_0'].value)\n",
    "                    coord_e_r[coord] = np.nanmean(coord_e_r[coord])\n",
    "                    coord_e_d[coord] = np.nanmean(coord_e_d[coord])\n",
    "                    coord_g_e[coord] = np.nanmean(coord_g_e[coord])\n",
    "                    coord_e_t_0[coord] = np.nanmean(coord_e_t_0[coord])\n",
    "        if expType == 2:\n",
    "            for sqr in experiment:\n",
    "                for coord in experiment[sqr].coordwise:\n",
    "                    coord_i_r[coord] = []\n",
    "                    coord_i_d[coord] = []\n",
    "                    coord_g_i[coord] = []\n",
    "                    coord_i_t_0[coord] = []\n",
    "                    for trial in experiment[sqr].coordwise[coord].trials:\n",
    "                        if hasattr(trial, 'fit'):\n",
    "                            if not trial.fit == None:\n",
    "#                                 i_r.append(trial.fit['tOn'].value)\n",
    "#                                 i_d.append(trial.fit['tOff'].value)\n",
    "#                                 g_i.append(trial.fit['g_max'].value)\n",
    "                                coord_i_r[coord].append(trial.fit['tOn'].value)\n",
    "                                coord_i_d[coord].append(trial.fit['tOff'].value)\n",
    "                                coord_g_i[coord].append(trial.fit['g_max'].value)\n",
    "                                coord_i_t_0[coord].append(trial.fit['t_0'].value)\n",
    "                    coord_i_r[coord] = np.nanmean(coord_i_r[coord])\n",
    "                    coord_i_d[coord] = np.nanmean(coord_i_d[coord])\n",
    "                    coord_g_i[coord] = np.nanmean(coord_g_i[coord])\n",
    "                    coord_i_t_0[coord] = np.nanmean(coord_i_t_0[coord])\n",
    "        \n",
    "    for coord in coord_e_r:\n",
    "        if not any(np.isnan([coord_e_r[coord],coord_e_d[coord],coord_i_r[coord],coord_i_d[coord],coord_g_e[coord],coord_g_i[coord],coord_e_t_0[coord],coord_i_t_0[coord]])):\n",
    "            e_r.append(coord_e_r[coord])\n",
    "            e_d.append(coord_e_d[coord])\n",
    "            i_r.append(coord_i_r[coord])\n",
    "            i_d.append(coord_i_d[coord])\n",
    "            g_e.append(coord_g_e[coord]/conductanceConversion)\n",
    "            g_i.append(coord_g_i[coord]/conductanceConversion)\n",
    "            del_i.append(coord_i_t_0[coord] - coord_e_t_0[coord])\n",
    "    \n",
    "    e_r, e_d, i_r, i_d, g_e, g_i, del_i = [np.array(x) for x in [e_r, e_d, i_r, i_d, g_e, g_i, del_i]]\n",
    "    g_e*=1e6 # Conductance conversion\n",
    "    del_i*=1e3 # Delay conversion\n",
    "    ax.scatter(g_e, del_i,s=5)\n",
    "    slope,intercept,rval,pval,stderr = ss.linregress(g_e, del_i)\n",
    "    ax.plot(g_e, slope* g_e + intercept)\n",
    "plt.ylim((-2.,15))               \n",
    "plt.show()"
   ]
  },
  {
   "cell_type": "markdown",
   "metadata": {},
   "source": [
    "***\n",
    "# Stuff not being used"
   ]
  },
  {
   "cell_type": "markdown",
   "metadata": {},
   "source": [
    "## Same thing with averaged out and paired responses, and removing points above 2 mV in GABAzine"
   ]
  },
  {
   "cell_type": "code",
   "execution_count": 24,
   "metadata": {
    "collapsed": true
   },
   "outputs": [],
   "source": [
    "def figure6(feature=0,square=1,cutoff=30):\n",
    "    ''' Looking at the one square distribution for GABAzine and Control coordwise'''\n",
    "    control_vmax = []\n",
    "    gabazine_vmax = []\n",
    "    \n",
    "    for neuron in neuronList:\n",
    "        if len(neuron.experiment)>1:\n",
    "            try:\n",
    "                control_coords = neuron.experiment[\"Control\"][square].coordwise\n",
    "                gabazine_coords = neuron.experiment[\"GABAzine\"][square].coordwise\n",
    "                for coord in list(set(control_coords) & set(gabazine_coords)):\n",
    "                    try:\n",
    "                        if control_coords[coord].average_feature[feature] and gabazine_coords[coord].average_feature[feature]:\n",
    "                            control_vmax.append(control_coords[coord].average_feature[feature])\n",
    "                            gabazine_vmax.append(gabazine_coords[coord].average_feature[feature])\n",
    "                    except:\n",
    "                        print (\"coord didn't work\", coord)\n",
    "            except:\n",
    "                square, (\"square wasn't there\")\n",
    "    \n",
    "    control_vmax, gabazine_vmax = np.array(control_vmax), np.array(gabazine_vmax)\n",
    "    idx = np.argsort(gabazine_vmax)\n",
    "    print (\"Control v_max is larger for {} points\".format(len(np.where(control_vmax>2)[0])))\n",
    "    control_vmax, gabazine_vmax = control_vmax[idx], gabazine_vmax[idx]\n",
    "    print (len(control_vmax))\n",
    "    # Picking a fraction\n",
    "    \n",
    "    p = np.poly1d(np.polyfit(range(len(control_vmax)), control_vmax, 2))\n",
    "                  \n",
    "    maxVmax = cutoff\n",
    "    maxVmax_index = np.where(gabazine_vmax>maxVmax)[0][0]\n",
    "    \n",
    "    plt.plot(control_vmax,'.', label=\"Control\")\n",
    "    plt.plot(gabazine_vmax,'.', label=\"GABAzine\")\n",
    "    plt.hlines(maxVmax, 0, len(control_vmax),linestyles='--')\n",
    "    plt.plot(range(len(control_vmax)), p(range(len(control_vmax))), label=\"polynomial fit\")\n",
    "    plt.legend()\n",
    "    plt.show()\n",
    "    \n",
    "    #maxVmax_index = 652\n",
    "    print( maxVmax_index)\n",
    "    alpha = 1.0\n",
    "    control_vmax, gabazine_vmax = control_vmax[:maxVmax_index], gabazine_vmax[:maxVmax_index]\n",
    "    \n",
    "    print( len(control_vmax))\n",
    "    \n",
    "    bins = np.linspace(-0.5, 10.0, 42)\n",
    "    plt.hist(control_vmax, bins=bins, label=\"Control\", alpha=alpha, cumulative=True, histtype='step')\n",
    "    plt.hist(gabazine_vmax, bins=bins, label=\"GABAzine\", alpha=alpha, cumulative=True, histtype='step')\n",
    "    plt.title(\"Comparing one square distributions for Control and GABAzine\")\n",
    "    plt.xlabel(\"$V_{max}$\")\n",
    "    plt.ylabel(\"Frequency\")\n",
    "    plt.legend()\n",
    "    plt.show()\n",
    "    \n",
    "    plt.hist(control_vmax/gabazine_vmax, bins=bins, label=\"Control/GABAzine\", alpha=0.2)\n",
    "    plt.vlines(1, 0,130)\n",
    "    plt.title(\"Control/GABAzine\")\n",
    "    plt.xlabel(\"$V_{max}$\")\n",
    "    plt.ylabel(\"Frequency\")\n",
    "    plt.legend()\n",
    "    plt.show()\n",
    "    \n",
    "    slope, intercept, r_value, p_value, std_err = ss.linregress(control_vmax, gabazine_vmax)\n",
    "    control_range = np.linspace(np.min(control_vmax), np.max(control_vmax), 100)\n",
    "    plt.scatter(control_vmax, gabazine_vmax, c=np.log(control_vmax/gabazine_vmax))\n",
    "    plt.plot(control_range, control_range*slope + intercept, label=\"${:.1f}*x + {:.1f}, r^2= {:0.2f} $\".format(slope, intercept, r_value))\n",
    "    plt.xlim((-0.5,9))\n",
    "    plt.ylim((-0.5,9))\n",
    "    plt.xlabel(\"Control\")\n",
    "    plt.ylabel(\"GABAzine\")\n",
    "    plt.colorbar()\n",
    "    plt.legend()\n",
    "    plt.show()\n",
    "    \n",
    "    print( ss.ttest_rel(control_vmax, gabazine_vmax))\n",
    "    \n",
    "    d,pval = ss.ks_2samp(control_vmax, gabazine_vmax)\n",
    "    print (d, pval)"
   ]
  },
  {
   "cell_type": "code",
   "execution_count": 25,
   "metadata": {
    "scrolled": false
   },
   "outputs": [
    {
     "name": "stdout",
     "output_type": "stream",
     "text": [
      "Control v_max is larger for 60 points\n",
      "441\n"
     ]
    },
    {
     "name": "stderr",
     "output_type": "stream",
     "text": [
      "/usr/local/lib/python2.7/dist-packages/ipykernel_launcher.py:31: RuntimeWarning: invalid value encountered in greater\n"
     ]
    },
    {
     "data": {
      "image/png": "[encoded data removed]",
      "text/plain": [
       "<matplotlib.figure.Figure at 0x7fb049e182d0>"
      ]
     },
     "metadata": {},
     "output_type": "display_data"
    },
    {
     "name": "stdout",
     "output_type": "stream",
     "text": [
      "424\n",
      "424\n"
     ]
    },
    {
     "data": {
      "image/png": "[encoded data removed]",
      "text/plain": [
       "<matplotlib.figure.Figure at 0x7fb042d45250>"
      ]
     },
     "metadata": {},
     "output_type": "display_data"
    },
    {
     "data": {
      "image/png": "[encoded data removed]",
      "text/plain": [
       "<matplotlib.figure.Figure at 0x7fb0497acd10>"
      ]
     },
     "metadata": {},
     "output_type": "display_data"
    },
    {
     "name": "stderr",
     "output_type": "stream",
     "text": [
      "/usr/local/lib/python2.7/dist-packages/ipykernel_launcher.py:66: RuntimeWarning: invalid value encountered in log\n"
     ]
    },
    {
     "data": {
      "image/png": "[encoded data removed]",
      "text/plain": [
       "<matplotlib.figure.Figure at 0x7fb042b42610>"
      ]
     },
     "metadata": {},
     "output_type": "display_data"
    },
    {
     "name": "stdout",
     "output_type": "stream",
     "text": [
      "Ttest_relResult(statistic=-4.6432476919675985, pvalue=4.5843115065217777e-06)\n",
      "(0.08254716981132082, 0.10571652277278028)\n",
      "Control v_max is larger for 23 points\n",
      "48\n"
     ]
    },
    {
     "data": {
      "image/png": "[encoded data removed]",
      "text/plain": [
       "<matplotlib.figure.Figure at 0x7fb042e70690>"
      ]
     },
     "metadata": {},
     "output_type": "display_data"
    },
    {
     "name": "stdout",
     "output_type": "stream",
     "text": [
      "37\n",
      "37\n"
     ]
    },
    {
     "data": {
      "image/png": "[encoded data removed]",
      "text/plain": [
       "<matplotlib.figure.Figure at 0x7fb0428deed0>"
      ]
     },
     "metadata": {},
     "output_type": "display_data"
    },
    {
     "data": {
      "image/png": "[encoded data removed]",
      "text/plain": [
       "<matplotlib.figure.Figure at 0x7fb0428d9f90>"
      ]
     },
     "metadata": {},
     "output_type": "display_data"
    },
    {
     "data": {
      "image/png": "[encoded data removed]",
      "text/plain": [
       "<matplotlib.figure.Figure at 0x7fb042867b10>"
      ]
     },
     "metadata": {},
     "output_type": "display_data"
    },
    {
     "name": "stdout",
     "output_type": "stream",
     "text": [
      "Ttest_relResult(statistic=-19.623179395486119, pvalue=8.2073182390971487e-21)\n",
      "(1.0, 1.336630424722758e-17)\n"
     ]
    }
   ],
   "source": [
    "figure6(square=1,cutoff=5)\n",
    "figure6(square=9, cutoff=8)"
   ]
  },
  {
   "cell_type": "markdown",
   "metadata": {},
   "source": [
    "## Testing"
   ]
  },
  {
   "cell_type": "code",
   "execution_count": 26,
   "metadata": {
    "collapsed": true
   },
   "outputs": [],
   "source": [
    "from sklearn.metrics import mutual_info_score\n",
    "\n",
    "def calc_MI(x, y, bins=50): # Just to start with.\n",
    "    c_xy = np.histogram2d(x, y)[0] # , bins\n",
    "    mi = mutual_info_score(None, None, contingency=c_xy)\n",
    "    return mi\n",
    "\n",
    "def figure4():\n",
    "    ''' Mutual information between the time to spike and expected excitation '''\n",
    "    mut_OE = []\n",
    "    mut_TE = []\n",
    "    ratio = []\n",
    "    numNeurons = 0\n",
    "    for neuron in neuronList:\n",
    "        expected = []\n",
    "        observed = []\n",
    "        time_peak = []\n",
    "        for experiment in neuron.experiment:\n",
    "            if experiment == \"Control\":            \n",
    "                for numSq in neuron.experiment[experiment]:\n",
    "                    if numSq>1:\n",
    "                        numNeurons+=1\n",
    "                        coordwise = neuron.experiment[experiment][numSq].coordwise\n",
    "                        for coord in coordwise:\n",
    "                            for trial in coordwise[coord].trials:\n",
    "                                try:\n",
    "                                    if len(coordwise[coord].trials)>1:\n",
    "                                            expected.append(coordwise[coord].expected_feature[0])\n",
    "                                            observed.append(trial.feature[0])\n",
    "                                            time_peak.append(trial.feature[3])\n",
    "                                    else:\n",
    "                                        print len(coordwise[coord].trials)\n",
    "                                except:\n",
    "                                    pass\n",
    "        if len(observed) and len(expected) and len(time_peak):\n",
    "            mut_OE.append(calc_MI(observed, expected))\n",
    "            mut_TE.append(calc_MI(time_peak, expected))\n",
    "            ratio.append(mut_OE[-1]/mut_TE[-1])\n",
    "            print ratio[-1]\n",
    "    #plt.hist(mut_OE)\n",
    "    #plt.hist(mut_TE)\n",
    "    plt.hist(ratio)\n",
    "    plt.show()"
   ]
  },
  {
   "cell_type": "code",
   "execution_count": 27,
   "metadata": {},
   "outputs": [
    {
     "data": {
      "text/plain": [
       "0.8402457757296466"
      ]
     },
     "execution_count": 27,
     "metadata": {},
     "output_type": "execute_result"
    }
   ],
   "source": [
    "547/651."
   ]
  },
  {
   "cell_type": "markdown",
   "metadata": {},
   "source": [
    "### Range expansion rationale"
   ]
  },
  {
   "cell_type": "code",
   "execution_count": 29,
   "metadata": {},
   "outputs": [
    {
     "data": {
      "image/png": "[encoded data removed]",
      "text/plain": [
       "<matplotlib.figure.Figure at 0x7f4798f78a90>"
      ]
     },
     "metadata": {},
     "output_type": "display_data"
    }
   ],
   "source": [
    "x_range = np.linspace(0,1,100)\n",
    "fig, ax = plt.subplots()\n",
    "ax.plot(x_range, np.square(x_range), label=\"$E^2$\",linewidth=2)\n",
    "ax.plot(x_range, 0.2 * x_range, label=\"$0.2 \\\\times E$\",linewidth=2)\n",
    "simpleaxis(ax,outward=True)\n",
    "ax.set_xlabel(\"x\")\n",
    "ax.set_ylabel(\"$f(x)$\",rotation=0,labelpad=10)\n",
    "ax.set_xticks([0,0.5,1])\n",
    "ax.set_yticks([0,0.5,1])\n",
    "fig.set_figwidth(1.5)\n",
    "fig.set_figheight(1.5)\n",
    "plt.legend(fontsize=8)\n",
    "dump(fig,file('figures/supplementary/s5_range_expansion_rationale.pkl','wb'))\n",
    "plt.show(fig)"
   ]
  },
  {
   "cell_type": "code",
   "execution_count": null,
   "metadata": {
    "collapsed": true
   },
   "outputs": [],
   "source": []
  }
 ],
 "metadata": {
  "hide_input": false,
  "kernelspec": {
   "display_name": "Python 2",
   "language": "python",
   "name": "python2"
  },
  "language_info": {
   "codemirror_mode": {
    "name": "ipython",
    "version": 2
   },
   "file_extension": ".py",
   "mimetype": "text/x-python",
   "name": "python",
   "nbconvert_exporter": "python",
   "pygments_lexer": "ipython2",
   "version": "2.7.12"
  },
  "toc": {
   "colors": {
    "hover_highlight": "#DAA520",
    "navigate_num": "#000000",
    "navigate_text": "#333333",
    "running_highlight": "#FF0000",
    "selected_highlight": "#FFD700",
    "sidebar_border": "#EEEEEE",
    "wrapper_background": "#FFFFFF"
   },
   "moveMenuLeft": false,
   "nav_menu": {
    "height": "243px",
    "width": "252px"
   },
   "navigate_menu": true,
   "number_sections": true,
   "sideBar": true,
   "threshold": 4,
   "toc_cell": false,
   "toc_position": {
    "height": "859px",
    "left": "0px",
    "right": "1643px",
    "top": "106px",
    "width": "212px"
   },
   "toc_section_display": "block",
   "toc_window_display": true,
   "widenNotebook": false
  },
  "varInspector": {
   "cols": {
    "lenName": 16,
    "lenType": 16,
    "lenVar": 40
   },
   "kernels_config": {
    "python": {
     "delete_cmd_postfix": "",
     "delete_cmd_prefix": "del ",
     "library": "var_list.py",
     "varRefreshCmd": "print(var_dic_list())"
    },
    "r": {
     "delete_cmd_postfix": ") ",
     "delete_cmd_prefix": "rm(",
     "library": "var_list.r",
     "varRefreshCmd": "cat(var_dic_list()) "
    }
   },
   "types_to_exclude": [
    "module",
    "function",
    "builtin_function_or_method",
    "instance",
    "_Feature"
   ],
   "window_display": false
  }
 },
 "nbformat": 4,
 "nbformat_minor": 2
}
