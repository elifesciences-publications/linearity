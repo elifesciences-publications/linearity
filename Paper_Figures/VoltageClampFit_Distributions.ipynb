{
 "cells": [
  {
   "cell_type": "code",
   "execution_count": 1,
   "metadata": {},
   "outputs": [],
   "source": [
    "import sys\n",
    "sys.path.append('../')\n",
    "from Linearity import Neuron\n",
    "import matplotlib\n",
    "import matplotlib.pyplot as plt\n",
    "import numpy as np\n",
    "import os"
   ]
  },
  {
   "cell_type": "code",
   "execution_count": 2,
   "metadata": {},
   "outputs": [],
   "source": [
    "voltageClampFiles = '/media/sahil/NCBS_Shares_BGStim/patch_data/voltage_clamp_files.txt'\n",
    "with open (voltageClampFiles,'r') as r:\n",
    "    dirnames = r.read().splitlines()"
   ]
  },
  {
   "cell_type": "code",
   "execution_count": 3,
   "metadata": {},
   "outputs": [],
   "source": [
    "def simpleaxis(axes, every=False, outward=False):\n",
    "    if not isinstance(axes, (list, np.ndarray)):\n",
    "        axes = np.array([axes])\n",
    "    for ax in np.array(axes).flatten():\n",
    "        ax.spines['top'].set_visible(False)\n",
    "        ax.spines['right'].set_visible(False)\n",
    "        if (outward):\n",
    "            ax.spines['bottom'].set_position(('outward', 10))\n",
    "            ax.spines['left'].set_position(('outward', 10))\n",
    "        if every:\n",
    "            ax.spines['bottom'].set_visible(False)\n",
    "            ax.spines['left'].set_visible(False)\n",
    "        ax.get_xaxis().tick_bottom()\n",
    "        ax.get_yaxis().tick_left()\n",
    "        ax.set_title('')"
   ]
  },
  {
   "cell_type": "code",
   "execution_count": 4,
   "metadata": {},
   "outputs": [],
   "source": [
    "neurons = []\n",
    "for dirname in dirnames:\n",
    "    cellIndex = dirname.split('/')[-2]\n",
    "    filename = dirname + 'plots/' + cellIndex +  '_fits.pkl'\n",
    "    if os.path.exists(filename):\n",
    "        try:\n",
    "            neurons.append(Neuron.load(filename))\n",
    "        except:\n",
    "            pass"
   ]
  },
  {
   "cell_type": "code",
   "execution_count": 5,
   "metadata": {},
   "outputs": [],
   "source": [
    "#Colorscheme for cells\n",
    "color_cell = matplotlib.cm.plasma(np.linspace(0,1,len(dirnames)))"
   ]
  },
  {
   "cell_type": "code",
   "execution_count": 78,
   "metadata": {},
   "outputs": [
    {
     "name": "stdout",
     "output_type": "stream",
     "text": [
      "0 161220 c2_EI\n",
      "1 170510 c2_EI\n",
      "2 170524 c3_EI\n",
      "3 170524 c1_EI\n",
      "4 170530 c2_EI\n",
      "5 170530 c1_EI\n",
      "6 170531 c2_EI\n",
      "7 170531 c4_EI\n",
      "8 170531 c1_EI\n",
      "9 170720 c5_EI\n",
      "10 170720 c3_EI\n",
      "11 170720 c4_EI\n",
      "12 170720 c2_EI\n"
     ]
    },
    {
     "name": "stderr",
     "output_type": "stream",
     "text": [
      "/usr/local/lib/python2.7/dist-packages/ipykernel_launcher.py:45: RuntimeWarning: Mean of empty slice\n",
      "/usr/local/lib/python2.7/dist-packages/ipykernel_launcher.py:46: RuntimeWarning: Mean of empty slice\n",
      "/usr/local/lib/python2.7/dist-packages/ipykernel_launcher.py:47: RuntimeWarning: Mean of empty slice\n",
      "/usr/local/lib/python2.7/dist-packages/ipykernel_launcher.py:48: RuntimeWarning: Mean of empty slice\n"
     ]
    }
   ],
   "source": [
    "e_r, e_d, i_r, i_d, g_e, g_i, del_i = [], [], [], [], [], [], []\n",
    "for index, n in enumerate(neurons):\n",
    "    print (index, n.date, n.index)\n",
    "    if index == 2:\n",
    "        coord_e_r, coord_e_d, coord_i_r, coord_i_d, coord_g_e, coord_g_i, coord_e_t_0, coord_i_t_0 = {}, {}, {}, {}, {}, {}, {}, {}\n",
    "        for expType, experiment in n:\n",
    "            if expType == 1:\n",
    "                for sqr in experiment:\n",
    "                    for coord in experiment[sqr].coordwise:\n",
    "                        coord_e_r[coord] = []\n",
    "                        coord_e_d[coord] = []\n",
    "                        coord_g_e[coord] = []\n",
    "                        coord_e_t_0[coord] = []\n",
    "                        for trial in experiment[sqr].coordwise[coord].trials:\n",
    "                            if hasattr(trial, 'fit'):\n",
    "                                if not trial.fit == None:\n",
    "    #                                 e_r.append(trial.fit['tOn'].value)\n",
    "    #                                 e_d.append(trial.fit['tOff'].value)\n",
    "    #                                 g_e.append(trial.fit['g_max'].value)\n",
    "                                    coord_e_r[coord].append(trial.fit['tOn'].value)\n",
    "                                    coord_e_d[coord].append(trial.fit['tOff'].value)\n",
    "                                    coord_g_e[coord].append(trial.fit['g_max'].value)\n",
    "                                    coord_e_t_0[coord].append(trial.fit['t_0'].value)\n",
    "                        coord_e_r[coord] = np.nanmean(coord_e_r[coord])\n",
    "                        coord_e_d[coord] = np.nanmean(coord_e_d[coord])\n",
    "                        coord_g_e[coord] = np.nanmean(coord_g_e[coord])\n",
    "                        coord_e_t_0[coord] = np.nanmean(coord_e_t_0[coord])\n",
    "            if expType == 2:\n",
    "                for sqr in experiment:\n",
    "                    for coord in experiment[sqr].coordwise:\n",
    "                        coord_i_r[coord] = []\n",
    "                        coord_i_d[coord] = []\n",
    "                        coord_g_i[coord] = []\n",
    "                        coord_i_t_0[coord] = []\n",
    "                        for trial in experiment[sqr].coordwise[coord].trials:\n",
    "                            if hasattr(trial, 'fit'):\n",
    "                                if not trial.fit == None:\n",
    "    #                                 i_r.append(trial.fit['tOn'].value)\n",
    "    #                                 i_d.append(trial.fit['tOff'].value)\n",
    "    #                                 g_i.append(trial.fit['g_max'].value)\n",
    "                                    coord_i_r[coord].append(trial.fit['tOn'].value)\n",
    "                                    coord_i_d[coord].append(trial.fit['tOff'].value)\n",
    "                                    coord_g_i[coord].append(trial.fit['g_max'].value)\n",
    "                                    coord_i_t_0[coord].append(trial.fit['t_0'].value)\n",
    "                        coord_i_r[coord] = np.nanmean(coord_i_r[coord])\n",
    "                        coord_i_d[coord] = np.nanmean(coord_i_d[coord])\n",
    "                        coord_g_i[coord] = np.nanmean(coord_g_i[coord])\n",
    "                        coord_i_t_0[coord] = np.nanmean(coord_i_t_0[coord])\n",
    "\n",
    "        for coord in coord_e_r:\n",
    "            if not any(np.isnan([coord_e_r[coord],coord_e_d[coord],coord_i_r[coord],coord_i_d[coord],coord_g_e[coord],coord_g_i[coord],coord_e_t_0[coord],coord_i_t_0[coord]])):\n",
    "                e_r.append(coord_e_r[coord])\n",
    "                e_d.append(coord_e_d[coord])\n",
    "                i_r.append(coord_i_r[coord])\n",
    "                i_d.append(coord_i_d[coord])\n",
    "                g_e.append(coord_g_e[coord])\n",
    "                g_i.append(coord_g_i[coord])\n",
    "                del_i.append(coord_i_t_0[coord] - coord_e_t_0[coord])"
   ]
  },
  {
   "cell_type": "code",
   "execution_count": 79,
   "metadata": {},
   "outputs": [],
   "source": [
    "e_r, e_d, i_r, i_d, g_e, g_i, del_i = [np.array(x) for x in [e_r, e_d, i_r, i_d, g_e, g_i, del_i]]"
   ]
  },
  {
   "cell_type": "code",
   "execution_count": 80,
   "metadata": {},
   "outputs": [
    {
     "data": {
      "image/png": "[encoded data removed]",
      "text/plain": [
       "<matplotlib.figure.Figure at 0x7f5ffb288790>"
      ]
     },
     "metadata": {},
     "output_type": "display_data"
    }
   ],
   "source": [
    "fig, ax = plt.subplots(2,2)\n",
    "\n",
    "ax[0][0].hist(e_r,color='b')\n",
    "ax[0][1].hist(e_d,color='b')\n",
    "ax[1][0].hist(i_r,color='g')\n",
    "ax[1][1].hist(i_d,color='g')\n",
    "\n",
    "cols = ['{}'.format(col) for col in [\"$\\\\tau_{rise}$\", \"$\\\\tau_{decay}$\"]]\n",
    "rows = ['{}'.format(row) for row in [\"Excitation\", \"Inhibition\"]]\n",
    "\n",
    "pad = 8 # in points\n",
    "\n",
    "for axis, col in zip(ax[0], cols):\n",
    "    axis.annotate(col, xy=(0.5, 1), xytext=(0, pad),\n",
    "                xycoords='axes fraction', textcoords='offset points',\n",
    "                size='large', ha='center', va='baseline')\n",
    "\n",
    "for axis, row in zip(ax[:,0], rows):\n",
    "    axis.annotate(row, xy=(0, 0.5), xytext=(-axis.yaxis.labelpad - pad, 0),\n",
    "                xycoords=axis.yaxis.label, textcoords='offset points',\n",
    "                size='large', ha='right', va='center')\n",
    "    \n",
    "fig.subplots_adjust(left=0.15, top=0.95)\n",
    "simpleaxis(ax)\n",
    "plt.show()"
   ]
  },
  {
   "cell_type": "code",
   "execution_count": 81,
   "metadata": {},
   "outputs": [
    {
     "name": "stdout",
     "output_type": "stream",
     "text": [
      "median = 0.00615579260056, quartiles = 0.00463604151711, 0.00880745115202\n",
      "median = 0.0173189001713, quartiles = 0.013629943928, 0.0197518583329\n",
      "median = 0.00978054092794, quartiles = 0.00395625005806, 0.01127162475\n",
      "median = 0.0249350386644, quartiles = 0.0215346283673, 0.0321962197977\n"
     ]
    }
   ],
   "source": [
    "print(\"median = {}, quartiles = {}, {}\".format(np.median(e_r), np.percentile(e_r, q=25), np.percentile(e_r, q=75)))\n",
    "print(\"median = {}, quartiles = {}, {}\".format(np.median(e_d), np.percentile(e_d, q=25), np.percentile(e_d, q=75)))\n",
    "print(\"median = {}, quartiles = {}, {}\".format(np.median(i_r), np.percentile(i_r, q=25), np.percentile(i_r, q=75)))\n",
    "print(\"median = {}, quartiles = {}, {}\".format(np.median(i_d), np.percentile(i_d, q=25), np.percentile(i_d, q=75)))"
   ]
  },
  {
   "cell_type": "code",
   "execution_count": 72,
   "metadata": {},
   "outputs": [
    {
     "data": {
      "image/png": "[encoded data removed]",
      "text/plain": [
       "<matplotlib.figure.Figure at 0x7f5ffb1ede90>"
      ]
     },
     "metadata": {},
     "output_type": "display_data"
    },
    {
     "name": "stdout",
     "output_type": "stream",
     "text": [
      "0.26794548687021214\n"
     ]
    }
   ],
   "source": [
    "fig, ax = plt.subplots(1,2)\n",
    "ax[0].hist(e_r/i_r)\n",
    "ax[1].hist(e_d/i_d)\n",
    "plt.show()\n",
    "print (np.median(e_r/i_r))"
   ]
  },
  {
   "cell_type": "code",
   "execution_count": 73,
   "metadata": {},
   "outputs": [
    {
     "data": {
      "image/png": "[encoded data removed]",
      "text/plain": [
       "<matplotlib.figure.Figure at 0x7f5ffd9ab650>"
      ]
     },
     "metadata": {},
     "output_type": "display_data"
    }
   ],
   "source": [
    "fig, ax = plt.subplots()\n",
    "ax.scatter(g_e*1e6, del_i)\n",
    "ax.set_ylim(-0.01,0.02)\n",
    "plt.show()"
   ]
  },
  {
   "cell_type": "code",
   "execution_count": 74,
   "metadata": {},
   "outputs": [
    {
     "data": {
      "image/png": "[encoded data removed]",
      "text/plain": [
       "<matplotlib.figure.Figure at 0x7f5ffa8ed050>"
      ]
     },
     "metadata": {},
     "output_type": "display_data"
    }
   ],
   "source": [
    "fig, ax = plt.subplots(2,2)\n",
    "ax[0][0].scatter(g_e*1e6, e_r)\n",
    "ax[0][1].scatter(g_e*1e6, e_d)\n",
    "ax[1][0].scatter(g_i*1e6, i_r)\n",
    "ax[1][1].scatter(g_i*1e6, i_d)\n",
    "plt.show()\n",
    "# print(\"median = {}, quartiles = {}, {}\".format(np.median(ratio_e), np.percentile(ratio_e, q=25), np.percentile(ratio_e, q=75)))\n",
    "# print(\"median = {}, quartiles = {}, {}\".format(np.median(ratio_i), np.percentile(ratio_i, q=25), np.percentile(ratio_i, q=75)))"
   ]
  },
  {
   "cell_type": "code",
   "execution_count": 75,
   "metadata": {},
   "outputs": [
    {
     "name": "stdout",
     "output_type": "stream",
     "text": [
      "g_e: e_r -0.014941992955759731 0.006621558857181552 0.044462794256752015\n",
      "g_e: e_d 0.05713632639196386 0.011601543886719374 0.23196936544069752\n",
      "g_i: i_r 0.035415380393739544 0.0039563947180981645 0.061433686820061575\n",
      "g_e: i_r 0.09141900693507703 0.0032780566522396613 0.1312813874539347\n",
      "g_i: i_d 0.04851891704321599 0.013516590920275517 0.1302361578670966\n",
      "g_e: i_d 0.048179951482866704 0.022144869480623726 0.041185988730397693\n"
     ]
    },
    {
     "data": {
      "image/png": "[encoded data removed]",
      "text/plain": [
       "<matplotlib.figure.Figure at 0x7f5ffe3e5b90>"
      ]
     },
     "metadata": {},
     "output_type": "display_data"
    }
   ],
   "source": [
    "import scipy.stats as ss\n",
    "fig, ax = plt.subplots(2,2)\n",
    "ax[0][0].scatter(g_e*1e6, e_r)\n",
    "slope, intercept, rvalue, pvalue, stderr = ss.linregress(g_e*1e6, e_r)\n",
    "print ('g_e: e_r' ,slope, intercept, rvalue**2)\n",
    "\n",
    "ax[0][1].scatter(g_e*1e6, e_d)\n",
    "slope, intercept, rvalue, pvalue, stderr = ss.linregress(g_e*1e6, e_d)\n",
    "print( 'g_e: e_d' ,slope, intercept, rvalue**2)\n",
    "\n",
    "ax[1][0].scatter(g_e*1e6, i_r)\n",
    "slope, intercept, rvalue, pvalue, stderr = ss.linregress(g_i*1e6, i_r)\n",
    "print ('g_i: i_r' ,slope, intercept, rvalue**2)\n",
    "\n",
    "slope, intercept, rvalue, pvalue, stderr = ss.linregress(g_e*1e6, i_r)\n",
    "print ('g_e: i_r' ,slope, intercept, rvalue**2)\n",
    "\n",
    "\n",
    "ax[1][1].scatter(g_e*1e6, i_d)\n",
    "slope, intercept, rvalue, pvalue, stderr = ss.linregress(g_i*1e6, i_d)\n",
    "print ('g_i: i_d' ,slope, intercept, rvalue**2)\n",
    "\n",
    "slope, intercept, rvalue, pvalue, stderr = ss.linregress(g_e*1e6, i_d)\n",
    "print ('g_e: i_d' ,slope, intercept, rvalue**2)\n",
    "\n",
    "\n",
    "plt.show()"
   ]
  },
  {
   "cell_type": "code",
   "execution_count": 76,
   "metadata": {},
   "outputs": [
    {
     "data": {
      "text/plain": [
       "['161220',\n",
       " '170510',\n",
       " '170524',\n",
       " '170524',\n",
       " '170530',\n",
       " '170530',\n",
       " '170531',\n",
       " '170531',\n",
       " '170531',\n",
       " '170720',\n",
       " '170720',\n",
       " '170720',\n",
       " '170720']"
      ]
     },
     "execution_count": 76,
     "metadata": {},
     "output_type": "execute_result"
    }
   ],
   "source": [
    "[n.date for n in neurons]"
   ]
  },
  {
   "cell_type": "code",
   "execution_count": 77,
   "metadata": {},
   "outputs": [],
   "source": [
    "# all_delays = []\n",
    "# all_conductances = []\n",
    "# all_inh_conductances = []\n",
    "# scalingFactor = 1e6\n",
    "# for index, n in enumerate(neurons):\n",
    "#     avg_exc_onset = {}\n",
    "#     avg_inh_onset = {}\n",
    "#     avg_exc_max = {}\n",
    "#     exc_onsets, inh_onsets = {}, {}\n",
    "#     exc_max,inh_max = {}, {}\n",
    "#     err_inh_onsets = {}\n",
    "#     for expType, experiment in n:\n",
    "#         for sqr in experiment:\n",
    "#             for coord in experiment[sqr].coordwise:\n",
    "#                 if expType == 1:\n",
    "#                     exc_onsets[(sqr,coord)] = []\n",
    "#                     exc_max[(sqr,coord)] = []\n",
    "#                     for trial in experiment[sqr].coordwise[coord].trials:\n",
    "#                         onsetTime = findOnsetTime(trial)\n",
    "#                         if onsetTime:\n",
    "#                             exc_onsets[(sqr,coord)].append(onsetTime*1e3)\n",
    "#                             exc_max[(sqr,coord)].append(-trial.feature[5]*scalingFactor)\n",
    "#                             #exp[sqr].coordwise[coord].average_feature[5]\n",
    "#                     exc_onsets[(sqr,coord)] = numpy.nanmean(exc_onsets[(sqr,coord)])\n",
    "#                     exc_max[(sqr,coord)] = numpy.nanmean(exc_max[(sqr,coord)])\n",
    "                        \n",
    "#                 if expType == 2:\n",
    "#                     inh_onsets[(sqr,coord)] = []\n",
    "#                     inh_max[(sqr,coord)] = []\n",
    "#                     #list_inh_onset = []\n",
    "#                     for trial in experiment[sqr].coordwise[coord].trials:\n",
    "#                         onsetTime = findOnsetTime(trial)\n",
    "#                         if onsetTime:\n",
    "#                             inh_onsets[(sqr,coord)].append(onsetTime*1e3)\n",
    "#                             #list_inh_onset.append(onsetTime*1e3)\n",
    "#                             inh_max[(sqr,coord)].append(trial.feature[0]*scalingFactor)\n",
    "#                     #avg_onset = numpy.nanmean([onset for onset in list_inh_onset if onset])\n",
    "#                     #err_onset = numpy.nanstd([onset for onset in list_inh_onset if onset])\n",
    "# #                     for trial in exp[sqr].coordwise[coord].trials:\n",
    "# #                         avg_inh_onset[(sqr,trial.index)] = avg_onset\n",
    "# #                         err_inh_onsets[(sqr,trial.index)] = err_onset\n",
    "#                     inh_onsets[(sqr,coord)] = numpy.nanmean(inh_onsets[(sqr,coord)])\n",
    "#                     inh_max[(sqr,coord)] = numpy.nanmean(inh_max[(sqr,coord)])\n",
    "                        \n",
    "#     delay, max_conductance, max_inh_conductance = [], [], []\n",
    "# #     del_err, max_err= [], []\n",
    "#     inhibOnset = []\n",
    "#     conductanceConversion = 70e-3\n",
    "#     for key in set(exc_onsets).intersection(set(inh_onsets)):\n",
    "#         if inh_onsets[key] and exc_onsets[key]:\n",
    "# #             print (\"Doing {}\".format(index))\n",
    "# #             print (inh_onsets[key], exc_onsets[key], exc_max[key])\n",
    "#             if not numpy.isnan(inh_onsets[key]) and not numpy.isnan (exc_onsets[key]) and not numpy.isnan (exc_max[key]) and not numpy.isnan (inh_max[key]):\n",
    "# #                 print (\"Delay is {}\".format(inh_onsets[key]- exc_onsets[key]))\n",
    "#                 delay.append(inh_onsets[key]- exc_onsets[key])\n",
    "#                 max_conductance.append(exc_max[key]/conductanceConversion)\n",
    "#                 max_inh_conductance.append(inh_max[key]/conductanceConversion)\n",
    "#     all_delays.append(delay)\n",
    "#     all_conductances.append(max_conductance)\n",
    "#     all_inh_conductances.append(max_inh_conductance)\n",
    "#     print (\"Done {}\".format(index))"
   ]
  },
  {
   "cell_type": "code",
   "execution_count": null,
   "metadata": {},
   "outputs": [],
   "source": []
  }
 ],
 "metadata": {
  "hide_input": false,
  "kernelspec": {
   "display_name": "Python 2",
   "language": "python",
   "name": "python2"
  },
  "language_info": {
   "codemirror_mode": {
    "name": "ipython",
    "version": 2
   },
   "file_extension": ".py",
   "mimetype": "text/x-python",
   "name": "python",
   "nbconvert_exporter": "python",
   "pygments_lexer": "ipython2",
   "version": "2.7.12"
  },
  "toc": {
   "colors": {
    "hover_highlight": "#DAA520",
    "navigate_num": "#000000",
    "navigate_text": "#333333",
    "running_highlight": "#FF0000",
    "selected_highlight": "#FFD700",
    "sidebar_border": "#EEEEEE",
    "wrapper_background": "#FFFFFF"
   },
   "moveMenuLeft": true,
   "nav_menu": {
    "height": "12px",
    "width": "252px"
   },
   "navigate_menu": true,
   "number_sections": true,
   "sideBar": true,
   "threshold": 4,
   "toc_cell": false,
   "toc_section_display": "block",
   "toc_window_display": false,
   "widenNotebook": false
  },
  "varInspector": {
   "cols": {
    "lenName": 16,
    "lenType": 16,
    "lenVar": 40
   },
   "kernels_config": {
    "python": {
     "delete_cmd_postfix": "",
     "delete_cmd_prefix": "del ",
     "library": "var_list.py",
     "varRefreshCmd": "print(var_dic_list())"
    },
    "r": {
     "delete_cmd_postfix": ") ",
     "delete_cmd_prefix": "rm(",
     "library": "var_list.r",
     "varRefreshCmd": "cat(var_dic_list()) "
    }
   },
   "types_to_exclude": [
    "module",
    "function",
    "builtin_function_or_method",
    "instance",
    "_Feature"
   ],
   "window_display": false
  }
 },
 "nbformat": 4,
 "nbformat_minor": 2
}
