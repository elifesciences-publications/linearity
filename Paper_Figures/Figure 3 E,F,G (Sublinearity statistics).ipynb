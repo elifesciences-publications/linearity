{
 "cells": [
  {
   "cell_type": "code",
   "execution_count": 19,
   "metadata": {
    "collapsed": true
   },
   "outputs": [],
   "source": [
    "import sys\n",
    "sys.path.append(\"../\")\n",
    "from Linearity import Neuron\n",
    "import numpy as np\n",
    "import scipy.stats as ss\n",
    "import matplotlib\n",
    "import matplotlib.pyplot as plt\n",
    "from pickle import dump, load\n",
    "plt.style.use('neuron')"
   ]
  },
  {
   "cell_type": "code",
   "execution_count": 20,
   "metadata": {
    "collapsed": true
   },
   "outputs": [],
   "source": [
    "def simpleaxis(axes, every=False, outward=False):\n",
    "    if not isinstance(axes, (list, np.ndarray)):\n",
    "        axes = np.array([axes])\n",
    "    for ax in np.array(axes).flatten():\n",
    "        ax.spines['top'].set_visible(False)\n",
    "        ax.spines['right'].set_visible(False)\n",
    "        if (outward):\n",
    "            ax.spines['bottom'].set_position(('outward', 10))\n",
    "            ax.spines['left'].set_position(('outward', 10))\n",
    "        if every:\n",
    "            ax.spines['bottom'].set_visible(False)\n",
    "            ax.spines['left'].set_visible(False)\n",
    "        ax.get_xaxis().tick_bottom()\n",
    "        ax.get_yaxis().tick_left()\n",
    "        ax.set_title('')"
   ]
  },
  {
   "cell_type": "code",
   "execution_count": 21,
   "metadata": {},
   "outputs": [
    {
     "name": "stdout",
     "output_type": "stream",
     "text": [
      "('Reading ', '/media/sahil/NCBS_Shares_BGStim/patch_data/150828/c2/plots/c2.pkl')\n",
      "('Reading ', '/media/sahil/NCBS_Shares_BGStim/patch_data/150902/c1/plots/c1.pkl')\n",
      "('Reading ', '/media/sahil/NCBS_Shares_BGStim/patch_data/150902/c2/plots/c2.pkl')\n",
      "('Reading ', '/media/sahil/NCBS_Shares_BGStim/patch_data/150904/c1/plots/c1.pkl')\n",
      "('Reading ', '/media/sahil/NCBS_Shares_BGStim/patch_data/150904/c3/plots/c3.pkl')\n",
      "('Reading ', '/media/sahil/NCBS_Shares_BGStim/patch_data/160126/c3/plots/c3.pkl')\n",
      "('Reading ', '/media/sahil/NCBS_Shares_BGStim/patch_data/160209/c4/plots/c4.pkl')\n",
      "('Reading ', '/media/sahil/NCBS_Shares_BGStim/patch_data/160219/c5/plots/c5.pkl')\n",
      "('Reading ', '/media/sahil/NCBS_Shares_BGStim/patch_data/160223/c2/plots/c2.pkl')\n",
      "('Reading ', '/media/sahil/NCBS_Shares_BGStim/patch_data/160223/c3/plots/c3.pkl')\n",
      "('Reading ', '/media/sahil/NCBS_Shares_BGStim/patch_data/160513/c5/plots/c5.pkl')\n",
      "('Reading ', '/media/sahil/NCBS_Shares_BGStim/patch_data/160617/c5/plots/c5.pkl')\n",
      "('Reading ', '/media/sahil/NCBS_Shares_BGStim/patch_data/160817/c2/plots/c2.pkl')\n",
      "('Reading ', '/media/sahil/NCBS_Shares_BGStim/patch_data/160830/c1/plots/c1.pkl')\n",
      "('Reading ', '/media/sahil/NCBS_Shares_BGStim/patch_data/160920/c1/plots/c1.pkl')\n",
      "('Reading ', '/media/sahil/NCBS_Shares_BGStim/patch_data/160927/c5/plots/c5.pkl')\n",
      "('Reading ', '/media/sahil/NCBS_Shares_BGStim/patch_data/160927/c3/plots/c3.pkl')\n",
      "('Reading ', '/media/sahil/NCBS_Shares_BGStim/patch_data/160927/c1/plots/c1.pkl')\n",
      "('Reading ', '/media/sahil/NCBS_Shares_BGStim/patch_data/160928/c3/plots/c3.pkl')\n",
      "('Reading ', '/media/sahil/NCBS_Shares_BGStim/patch_data/160928/c4/plots/c4.pkl')\n",
      "('Reading ', '/media/sahil/NCBS_Shares_BGStim/patch_data/161013/c1/plots/c1.pkl')\n",
      "('Reading ', '/media/sahil/NCBS_Shares_BGStim/patch_data/161026/c1/plots/c1.pkl')\n",
      "('Reading ', '/media/sahil/NCBS_Shares_BGStim/patch_data/161027/c3/plots/c3.pkl')\n",
      "('Reading ', '/media/sahil/NCBS_Shares_BGStim/patch_data/161109/c3/plots/c3.pkl')\n",
      "('Reading ', '/media/sahil/NCBS_Shares_BGStim/patch_data/161110/c1/plots/c1.pkl')\n",
      "('Reading ', '/media/sahil/NCBS_Shares_BGStim/patch_data/161116/c2/plots/c2.pkl')\n",
      "('Reading ', '/media/sahil/NCBS_Shares_BGStim/patch_data/161117/c1/plots/c1.pkl')\n",
      "('Reading ', '/media/sahil/NCBS_Shares_BGStim/patch_data/161228/c1/plots/c1.pkl')\n",
      "('Reading ', '/media/sahil/NCBS_Shares_BGStim/patch_data/170104/c4/plots/c4.pkl')\n",
      "('Reading ', '/media/sahil/NCBS_Shares_BGStim/patch_data/170208/c3/plots/c3.pkl')\n",
      "('Reading ', '/media/sahil/NCBS_Shares_BGStim/patch_data/170222/c1/plots/c1.pkl')\n",
      "('Reading ', '/media/sahil/NCBS_Shares_BGStim/patch_data/170222/c2/plots/c2.pkl')\n",
      "('Reading ', '/media/sahil/NCBS_Shares_BGStim/patch_data/170220/c1/plots/c1.pkl')\n",
      "('Reading ', '/media/sahil/NCBS_Shares_BGStim/patch_data/170317/c1/plots/c1.pkl')\n",
      "('Reading ', '/media/sahil/NCBS_Shares_BGStim/patch_data/170317/c3/plots/c3.pkl')\n",
      "('Reading ', '/media/sahil/NCBS_Shares_BGStim/patch_data/170317/c4/plots/c4.pkl')\n",
      "('Reading ', '/media/sahil/NCBS_Shares_BGStim/patch_data/170303/c1/plots/c1.pkl')\n",
      "('Reading ', '/media/sahil/NCBS_Shares_BGStim/patch_data/170124/c3_CS/plots/c3_CS.pkl')\n",
      "('Reading ', '/media/sahil/NCBS_Shares_BGStim/patch_data/170124/c2_CS/plots/c2_CS.pkl')\n",
      "('Reading ', '/media/sahil/NCBS_Shares_BGStim/patch_data/161116/c1_CS/plots/c1_CS.pkl')\n",
      "('Reading ', '/media/sahil/NCBS_Shares_BGStim/patch_data/161117/c3_CS/plots/c3_CS.pkl')\n",
      "('Reading ', '/media/sahil/NCBS_Shares_BGStim/patch_data/161117/c2_CS/plots/c2_CS.pkl')\n",
      "('Reading ', '/media/sahil/NCBS_Shares_BGStim/patch_data/161123/c2_CS/plots/c2_CS.pkl')\n",
      "('Reading ', '/media/sahil/NCBS_Shares_BGStim/patch_data/161123/c1_CS/plots/c1_CS.pkl')\n",
      "('Reading ', '/media/sahil/NCBS_Shares_BGStim/patch_data/RS_Analysis/Patch_Recording/Control_RS_short/1_c4_150827/plots/1_c4_150827.pkl')\n",
      "('Reading ', '/media/sahil/NCBS_Shares_BGStim/patch_data/RS_Analysis/Patch_Recording/Control_RS_short/2_c1_150828/plots/2_c1_150828.pkl')\n",
      "('Reading ', '/media/sahil/NCBS_Shares_BGStim/patch_data/RS_Analysis/Patch_Recording/Control_RS_short/3_c1_150929/plots/3_c1_150929.pkl')\n",
      "('Reading ', '/media/sahil/NCBS_Shares_BGStim/patch_data/RS_Analysis/Patch_Recording/Control_RS_short/6_c2_160513/plots/6_c2_160513.pkl')\n",
      "('Reading ', '/media/sahil/NCBS_Shares_BGStim/patch_data/RS_Analysis/Patch_Recording/RS_TBS_short/5_c4_160122/plots/5_c4_160122.pkl')\n",
      "Read 49 files.\n"
     ]
    }
   ],
   "source": [
    "#fileList = glob.glob(\"/media/sahil/NCBS_Shares_BGStim/patch_data/**/c?/plots/*.pkl\")\n",
    "neuronList = []\n",
    "with open(\"/media/sahil/NCBS_Shares_BGStim/patch_data/current_clamp_files.txt\", 'r') as fp:\n",
    "    fileList = fp.read().splitlines()\n",
    "    for i,filename in enumerate(fileList):\n",
    "        fileList[i] += \"plots/\" + filename.split('/')[-2] + \".pkl\"\n",
    "        try:\n",
    "            print (\"Reading \", fileList[i])\n",
    "            neuronList.append(Neuron.load(fileList[i]))\n",
    "        except:\n",
    "            print (\"Couldn't read\", fileList[i])\n",
    "print (\"Read {} files.\".format(len(fileList)))"
   ]
  },
  {
   "cell_type": "code",
   "execution_count": 26,
   "metadata": {
    "collapsed": true
   },
   "outputs": [],
   "source": [
    "neuronList = load(open('/home/bhalla/Documents/Codes/data/currentClampCells.pkl','rb'))"
   ]
  },
  {
   "cell_type": "code",
   "execution_count": 27,
   "metadata": {},
   "outputs": [
    {
     "data": {
      "text/plain": [
       "{0: 'epsp_max',\n",
       " 1: 'epsp_area',\n",
       " 2: 'epsp_avg',\n",
       " 3: 'epsp_time_to_peak',\n",
       " 4: 'epsp_area_to_peak',\n",
       " 5: 'epsp_min',\n",
       " 6: 'epsp_onset'}"
      ]
     },
     "execution_count": 27,
     "metadata": {},
     "output_type": "execute_result"
    }
   ],
   "source": [
    "n.features"
   ]
  },
  {
   "cell_type": "markdown",
   "metadata": {},
   "source": [
    "## 3 E: 4 measures of sublinearity"
   ]
  },
  {
   "cell_type": "code",
   "execution_count": 28,
   "metadata": {
    "scrolled": false
   },
   "outputs": [
    {
     "name": "stdout",
     "output_type": "stream",
     "text": [
      "('Slope = 0.27, $r^2=0.57$', 126)\n",
      "('Slope = 0.23, $r^2=0.46$', 126)\n",
      "('Slope = 0.23, $r^2=0.46$', 126)\n",
      "('Slope = 0.17, $r^2=0.24$', 126)\n"
     ]
    },
    {
     "data": {
      "image/png": "[encoded data removed]",
      "text/plain": [
       "<matplotlib.figure.Figure at 0x7fcac87f9810>"
      ]
     },
     "metadata": {},
     "output_type": "display_data"
    }
   ],
   "source": [
    "fig, ax = plt.subplots(2,2)\n",
    "n = neuronList[11]\n",
    "# fig.suptitle(\"Example cell: {}, {} Different measure showing sublinearity\".format(n.index, n.date), fontsize=18)\n",
    "features = [0,1,2,4]\n",
    "for index,feature in enumerate(features):\n",
    "    expected, observed = [], []\n",
    "    for expType,exp in n:\n",
    "        if expType == 'Control':\n",
    "            sqr = 5\n",
    "            expected, observed = zip(*[(exp[sqr].coordwise[coord].expected_feature[feature],exp[sqr].coordwise[coord].average_feature[feature]) for coord in exp[sqr].coordwise])\n",
    "    i,j = index/2, index%2\n",
    "    expected,observed = np.array(expected), np.array(observed)\n",
    "    subIndices, supraIndices = np.where(np.greater(expected,observed)), np.where(np.less_equal(expected,observed)) \n",
    "    ax[i][j].scatter(expected[subIndices], observed[subIndices], label=n.features[feature], s=10, marker='.',color='gray')\n",
    "    ax[i][j].scatter(expected[supraIndices], observed[supraIndices], label=n.features[feature], s=10, marker='.',color='orange')\n",
    "    minLim, maxLim = np.min(np.concatenate([expected,observed])), np.max(np.concatenate([expected, observed]))\n",
    "    ax[i][j].plot((minLim, maxLim), (minLim, maxLim),'--')\n",
    "    slope, intercept, r2, pval,stderr = ss.linregress(expected, observed)\n",
    "    expArray = np.linspace(minLim, maxLim,100)\n",
    "    ax[i][j].plot(expArray, slope*expArray + intercept,'--',c='gray')\n",
    "    ax[i][j].set_xlim(minLim, maxLim)\n",
    "    ax[i][j].set_ylim(minLim, maxLim)\n",
    "    print(\"Slope = {:.2f}, $r^2={:.2f}$\".format(slope, r2), len(observed))\n",
    "# ax[0][0].set_xlabel(\"Expected Sum (mV)\")\n",
    "#ax[0][0].set_ylabel(\"Observed Sum (mV)\")\n",
    "#ax[1][0].set_xlabel(\"Expected Sum (mV)\")\n",
    "#ax[1][0].set_ylabel(\"Observed Sum (mV)\")\n",
    "\n",
    "# ax[0][1].set_xlabel(\"Expected Sum (mV.ms)\")\n",
    "# ax[0][1].set_ylabel(\"Observed Sum (mV.ms)\")\n",
    "#ax[1][1].set_xlabel(\"Expected Sum (mV.ms)\")\n",
    "# ax[1][1].set_ylabel(\"Observed Sum (mV.ms)\")\n",
    "\n",
    "#     ax[i][j].legend(loc='best')\n",
    "# for axis in ax.flatten():\n",
    "#     axis.ticklabel_format(style='sci', axis='y', scilimits=(0,0))\n",
    "#     axis.yaxis.major.formatter._useMathText = True\n",
    "ax[1][1].set_yticks([0.0, 0.1])\n",
    "simpleaxis(ax)\n",
    "fig.text(0.5, 0.04, 'Expected sum', ha='center', fontsize=10)\n",
    "fig.text(0.04, 0.5, 'Observed sum', va='center', rotation='vertical', fontsize=10)\n",
    "fig.set_figheight(4)\n",
    "fig.set_figwidth(4)\n",
    "dump(fig,file('figures/fig3/3e.pkl','wb'))\n",
    "plt.savefig('figures/fig3/fig3.svg')\n",
    "plt.show()"
   ]
  },
  {
   "cell_type": "markdown",
   "metadata": {},
   "source": [
    "## 3 F: Ratios of O/E mostly sublinear"
   ]
  },
  {
   "cell_type": "code",
   "execution_count": 42,
   "metadata": {},
   "outputs": [],
   "source": [
    "def figureE(feature = 0):\n",
    "    ''' Plotting to show sublinearity of CA3 inputs at CA1. '''\n",
    "    ratio = []\n",
    "    numNeurons = 0\n",
    "    numBins = 100\n",
    "    for neuron in neuronList:\n",
    "        for expType, exp in neuron:\n",
    "            if expType == \"Control\":            \n",
    "                for numSq in exp:\n",
    "                    if numSq > 1:\n",
    "                        if numSq == 5: # If one vs five required\n",
    "                            numNeurons+=1\n",
    "                            coords = exp[numSq].coordwise\n",
    "                            for coord in coords:\n",
    "                                try:\n",
    "                                    if feature in coords[coord].average_feature and coords[coord].expected_feature:\n",
    "                                        if not np.isnan(coords[coord].average_feature[feature]/coords[coord].expected_feature[feature]) and not np.isinf(coords[coord].average_feature[feature]/coords[coord].expected_feature[feature]):\n",
    "                                            ratio.append(coords[coord].average_feature[feature]/coords[coord].expected_feature[feature])\n",
    "                                except:\n",
    "                                    print (\"Couldn't append to ratio, perhaps feature not found\")\n",
    "    ratio = np.array(ratio)\n",
    "    gt_one = ratio[np.where(ratio>1)]\n",
    "    frac_gt_one = round((float(len(gt_one))/len(ratio))*1e2,2)\n",
    "    #print [x for x in ratio]\n",
    "    fig, ax = plt.subplots()\n",
    "    fig.set_figheight(1.5)\n",
    "    fig.set_figwidth(1.5)\n",
    "    n, bins, patches = ax.hist(ratio, bins=numBins, color='gray')\n",
    "    \n",
    "    for i in range(len(patches)):\n",
    "        if bins[i]>1:\n",
    "            patches[i].set_facecolor('orange')\n",
    "    \n",
    "    ax.set_title(\"Sublinearity of input summation\")\n",
    "#     ax.axvline(1.0, linestyle='dashed', linewidth=2, color='0.5')\n",
    "    ax.set_xlabel(\"O/E\")\n",
    "    ax.set_ylabel(\"# PSPs\")\n",
    "    ax.set_xlim(0,2.5)\n",
    "    simpleaxis(ax,outward=False)\n",
    "    dump(fig,file('figures/fig3/3f.pkl','wb'))\n",
    "#     ax.annotate(\"{} %\".format(frac_gt_one), xy=(1, 800), xytext=(1.5, 800), textcoords='data', arrowprops=dict(connectionstyle=\"arc3\", arrowstyle = \"<-\"))\n",
    "    plt.show()\n",
    "    print (\"Legend text: Number of cells: {}, number of points: {}, fraction of points greater than one: {}\".format(numNeurons, len(ratio), frac_gt_one ))"
   ]
  },
  {
   "cell_type": "code",
   "execution_count": 43,
   "metadata": {},
   "outputs": [
    {
     "name": "stderr",
     "output_type": "stream",
     "text": [
      "/usr/local/lib/python2.7/dist-packages/ipykernel_launcher.py:17: RuntimeWarning: divide by zero encountered in double_scalars\n"
     ]
    },
    {
     "data": {
      "image/png": "[encoded data removed]",
      "text/plain": [
       "<matplotlib.figure.Figure at 0x7fcab9a179d0>"
      ]
     },
     "metadata": {},
     "output_type": "display_data"
    },
    {
     "name": "stdout",
     "output_type": "stream",
     "text": [
      "Legend text: Number of cells: 42, number of points: 2728, fraction of points greater than one: 8.25\n"
     ]
    }
   ],
   "source": [
    "figureE()"
   ]
  },
  {
   "cell_type": "markdown",
   "metadata": {},
   "source": [
    "## 3 G: Regression slopes differ between cells"
   ]
  },
  {
   "cell_type": "code",
   "execution_count": 8,
   "metadata": {
    "collapsed": true
   },
   "outputs": [],
   "source": [
    "def figureF(feature = 0):\n",
    "    ''' Plotting to show sublinearity of CA3 inputs at CA1. '''\n",
    "    numBins = 20\n",
    "    numSq = 5\n",
    "    feature = 0\n",
    "    slopes = []\n",
    "    index = []\n",
    "    for neuron in neuronList:\n",
    "        for experiment in neuron.experiment:\n",
    "            if experiment == \"Control\":            \n",
    "                    try:\n",
    "                        slope = neuron.experiment[experiment][numSq].regression_coefficients[feature]['slope']\n",
    "                        if not np.isnan(slope):\n",
    "                            index.append(neuron.date + '_' + neuron.index)\n",
    "                            slopes.append(neuron.experiment[experiment][numSq].regression_coefficients[feature]['slope'])\n",
    "                    except:\n",
    "                        print (\"Doesn't have {} square input\".format(numSq))\n",
    "    print (zip(index, slopes))\n",
    "    fig, ax = plt.subplots()\n",
    "    fig.set_figheight(1.5)\n",
    "    fig.set_figwidth(1.5)\n",
    "    n, bins, patches = ax.hist(slopes,bins=numBins, color='gray')\n",
    "    for i in range(len(patches)):\n",
    "        if bins[i]>1:\n",
    "            patches[i].set_facecolor('orange')\n",
    "            \n",
    "    ax.set_title(\"Variability of slopes between cells\")\n",
    "    ax.axvline(1.0, linestyle='dashed', linewidth=2)\n",
    "    ax.set_xlabel(\"Slopes\")\n",
    "    ax.set_ylabel(\"# cells\")\n",
    "    ax.set_xlim(xmin=0., xmax=1.5)\n",
    "    simpleaxis(ax)\n",
    "    dump(fig,file('figures/fig3/3g.pkl','wb'))\n",
    "    plt.show()"
   ]
  },
  {
   "cell_type": "code",
   "execution_count": 9,
   "metadata": {},
   "outputs": [
    {
     "name": "stdout",
     "output_type": "stream",
     "text": [
      "Doesn't have 5 square input\n",
      "Doesn't have 5 square input\n",
      "Doesn't have 5 square input\n",
      "Doesn't have 5 square input\n",
      "Doesn't have 5 square input\n",
      "Doesn't have 5 square input\n",
      "Doesn't have 5 square input\n",
      "[('150828_c2', 0.44108061782391944), ('150902_c1', 0.82916980424324238), ('150902_c2', 0.34272897404315489), ('150904_c1', 0.50485663609418274), ('160209_c4', 0.10510301937759157), ('160219_c5', 0.46763050227866282), ('160223_c2', 0.63928281431893319), ('160617_c5', 0.26736486153663075), ('160830_c1', 0.04706707834265289), ('160920_c1', 0.3192481698191002), ('160927_c3', -0.02978580380142368), ('160927_c1', 0.38578678336863415), ('160928_c3', 0.16059020256091919), ('161013_c1', 0.26611843310212735), ('161026_c1', 0.48114459901706247), ('161027_c3', 0.4216898754083781), ('161109_c3', 0.42322085514448848), ('161110_c1', 0.52113916773113833), ('161116_c2', 0.53987391679584074), ('161117_c1', 0.028628735186219834), ('161228_c1', 0.4218479793905513), ('170104_c4', 0.59554530975909226), ('170208_c3', 0.85321432664637209), ('170222_c2', -0.0036352283367976209), ('170220_c1', 0.11989547376397006), ('170317_c1', 0.18797686144358161), ('170317_c4', 0.48182394303793191), ('170303_c1', 0.27485152291077974), ('170124_c3_CS', 1.1750178092249737), ('161116_c1_CS', 0.90944652959240435), ('161117_c3_CS', 0.88238031677616768), ('161117_c2_CS', 0.58359670772204486), ('161123_c1_CS', 0.39093876476172118), ('Control_RS_short_1_c4_150827', 0.85477938132538855), ('Control_RS_short_2_c1_150828', 0.480004895940497), ('Control_RS_short_6_c2_160513', 0.019438828798530289), ('RS_TBS_short_5_c4_160122', 0.25463565276994532)]\n"
     ]
    },
    {
     "data": {
      "image/png": "[encoded data removed]",
      "text/plain": [
       "<matplotlib.figure.Figure at 0x7ff97f2f8ed0>"
      ]
     },
     "metadata": {},
     "output_type": "display_data"
    }
   ],
   "source": [
    "figureF()"
   ]
  }
 ],
 "metadata": {
  "hide_input": true,
  "kernelspec": {
   "display_name": "Python 2",
   "language": "python",
   "name": "python2"
  },
  "language_info": {
   "codemirror_mode": {
    "name": "ipython",
    "version": 2
   },
   "file_extension": ".py",
   "mimetype": "text/x-python",
   "name": "python",
   "nbconvert_exporter": "python",
   "pygments_lexer": "ipython2",
   "version": "2.7.12"
  },
  "latex_envs": {
   "LaTeX_envs_menu_present": true,
   "autocomplete": true,
   "bibliofile": "biblio.bib",
   "cite_by": "apalike",
   "current_citInitial": 1,
   "eqLabelWithNumbers": true,
   "eqNumInitial": 1,
   "hotkeys": {
    "equation": "Ctrl-E",
    "itemize": "Ctrl-I"
   },
   "labels_anchors": false,
   "latex_user_defs": false,
   "report_style_numbering": false,
   "user_envs_cfg": false
  },
  "toc": {
   "colors": {
    "hover_highlight": "#DAA520",
    "navigate_num": "#000000",
    "navigate_text": "#333333",
    "running_highlight": "#FF0000",
    "selected_highlight": "#FFD700",
    "sidebar_border": "#EEEEEE",
    "wrapper_background": "#FFFFFF"
   },
   "moveMenuLeft": true,
   "nav_menu": {
    "height": "12px",
    "width": "252px"
   },
   "navigate_menu": true,
   "number_sections": true,
   "sideBar": true,
   "threshold": 4,
   "toc_cell": false,
   "toc_section_display": "block",
   "toc_window_display": true,
   "widenNotebook": false
  },
  "varInspector": {
   "cols": {
    "lenName": 16,
    "lenType": 16,
    "lenVar": 40
   },
   "kernels_config": {
    "python": {
     "delete_cmd_postfix": "",
     "delete_cmd_prefix": "del ",
     "library": "var_list.py",
     "varRefreshCmd": "print(var_dic_list())"
    },
    "r": {
     "delete_cmd_postfix": ") ",
     "delete_cmd_prefix": "rm(",
     "library": "var_list.r",
     "varRefreshCmd": "cat(var_dic_list()) "
    }
   },
   "types_to_exclude": [
    "module",
    "function",
    "builtin_function_or_method",
    "instance",
    "_Feature"
   ],
   "window_display": false
  }
 },
 "nbformat": 4,
 "nbformat_minor": 2
}
