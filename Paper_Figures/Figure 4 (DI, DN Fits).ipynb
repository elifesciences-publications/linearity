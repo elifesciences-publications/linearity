{
 "cells": [
  {
   "cell_type": "code",
   "execution_count": 1,
   "metadata": {},
   "outputs": [
    {
     "name": "stderr",
     "output_type": "stream",
     "text": [
      "/usr/local/lib/python2.7/dist-packages/statsmodels/compat/pandas.py:56: FutureWarning: The pandas.core.datetools module is deprecated and will be removed in a future version. Please use the pandas.tseries module instead.\n",
      "  from pandas.core import datetools\n"
     ]
    }
   ],
   "source": [
    "import glob\n",
    "import matplotlib\n",
    "import matplotlib.pyplot as plt\n",
    "import pickle\n",
    "from pickle import dump\n",
    "import lmfit\n",
    "import numpy as np\n",
    "import scipy.stats as ss\n",
    "plt.style.use('neuron')\n",
    "import statsmodels.api as sm\n",
    "from statsmodels.sandbox.regression.predstd import wls_prediction_std\n",
    "from statsmodels.formula.api import ols, rlm\n",
    "import sys\n",
    "sys.path.append('../')\n",
    "from Linearity import Neuron\n",
    "from matplotlib import  rc\n",
    "rc('text', usetex=False)"
   ]
  },
  {
   "cell_type": "code",
   "execution_count": 2,
   "metadata": {},
   "outputs": [],
   "source": [
    "def simpleaxis(axes, every=False):\n",
    "    if not isinstance(axes, (list, np.ndarray)):\n",
    "        axes = [axes]\n",
    "    for ax in axes:\n",
    "        ax.spines['top'].set_visible(False)\n",
    "        ax.spines['right'].set_visible(False)\n",
    "        if every:\n",
    "            ax.spines['bottom'].set_visible(False)\n",
    "            ax.spines['left'].set_visible(False)\n",
    "        ax.get_xaxis().tick_bottom()\n",
    "        ax.get_yaxis().tick_left()\n",
    "        ax.set_title('')"
   ]
  },
  {
   "cell_type": "markdown",
   "metadata": {},
   "source": [
    "## 4 A Different models schematic (Beta is 1. for DN))"
   ]
  },
  {
   "cell_type": "code",
   "execution_count": 3,
   "metadata": {
    "scrolled": false
   },
   "outputs": [
    {
     "data": {
      "image/png": "[encoded data removed]",
      "text/plain": [
       "<matplotlib.figure.Figure at 0x7f7df1bec310>"
      ]
     },
     "metadata": {},
     "output_type": "display_data"
    },
    {
     "data": {
      "image/png": "[encoded data removed]",
      "text/plain": [
       "<matplotlib.figure.Figure at 0x7f7defaec390>"
      ]
     },
     "metadata": {},
     "output_type": "display_data"
    },
    {
     "data": {
      "image/png": "[encoded data removed]",
      "text/plain": [
       "<matplotlib.figure.Figure at 0x7f7defa69f10>"
      ]
     },
     "metadata": {},
     "output_type": "display_data"
    }
   ],
   "source": [
    "maxE = 15\n",
    "numPoints = 1000\n",
    "a = np.linspace(0,maxE,numPoints)\n",
    "markersize = 3\n",
    "markevery = 75\n",
    "\n",
    "fig,ax = plt.subplots()\n",
    "ax.plot(a, a)\n",
    "ax.plot(a, a - 4, '8--', color='brown', label=\"$\\\\alpha = 4$\", markersize=markersize, markevery=markevery)\n",
    "ax.plot(a, a - 8, 'p--', color='brown', label=\"$\\\\alpha = 8$\", markersize=markersize, markevery=markevery)\n",
    "# ax.plot(a, a - 9, '.--', color='brown', label=\"$\\\\alpha = 9$\", markersize=markersize, markevery=markevery)\n",
    "ax.plot(a, a - 12, '^--', color='brown', label=\"$\\\\alpha = 12$\", markersize=markersize, markevery=markevery)\n",
    "ax.set_xlabel(\"E\")\n",
    "ax.set_ylabel(\"O\")\n",
    "ax.set_ylim((0,maxE))\n",
    "ax.set_xlim((0,maxE))\n",
    "ax.set_title(\"Subtractive Inhibition $O = E - \\\\alpha$\")\n",
    "ax.legend()\n",
    "simpleaxis(ax)\n",
    "fig.set_figwidth(1.4)\n",
    "fig.set_figheight(1.4)\n",
    "dump(fig,file('figures/fig4/4a1.pkl','wb'))\n",
    "plt.show()\n",
    "\n",
    "fig,ax = plt.subplots()\n",
    "ax.plot(a, a)\n",
    "ax.plot(a, a - a*0.3, '8--', color='green', label=\"$\\\\beta = 0.3$\", markersize=markersize, markevery=markevery)\n",
    "# ax.plot(a, a - a*0.4, 'p--', color='green', label=\"$\\\\beta = 0.4$\", markersize=markersize, markevery=markevery)\n",
    "ax.plot(a, a - a*0.6, '.--', color='green', label=\"$\\\\beta = 0.6$\", markersize=markersize, markevery=markevery)\n",
    "ax.plot(a, a - a*0.9, '^--', color='green', label=\"$\\\\beta = 0.9$\", markersize=markersize, markevery=markevery)\n",
    "ax.set_xlabel(\"E\")\n",
    "ax.set_ylabel(\"O\")\n",
    "ax.set_ylim((0,maxE))\n",
    "ax.set_xlim((0,maxE))\n",
    "ax.legend()\n",
    "ax.set_title(\"Divisive Inhibition $O = E - \\\\beta \\\\times E$\")\n",
    "simpleaxis(ax)\n",
    "fig.set_figwidth(1.4)\n",
    "fig.set_figheight(1.4)\n",
    "dump(fig,file('figures/fig4/4a2.pkl','wb'))\n",
    "plt.show()\n",
    "\n",
    "fig,ax = plt.subplots()\n",
    "ax.plot(a, a)\n",
    "ax.plot(a, (3*a)/(3 + a), '8--', color='purple', label=\"$\\\\gamma = 3$\", markersize=markersize, markevery=markevery)\n",
    "ax.plot(a, (9*a)/(9 + a), 'p--', color='purple', label=\"$\\\\gamma = 9$\", markersize=markersize, markevery=markevery)\n",
    "# ax.plot(a, (15*a)/(15 + a), '.--', color='purple', label=\"$\\\\gamma = 15$\", markersize=markersize, markevery=markevery)\n",
    "ax.plot(a, (27*a)/(27 + a), '^--', color='purple', label=\"$\\\\gamma = 27$\", markersize=markersize, markevery=markevery)\n",
    "\n",
    "ax.set_xlabel(\"E\")\n",
    "ax.set_ylabel(\"O\")\n",
    "ax.set_ylim((0,maxE))\n",
    "ax.set_xlim((0,maxE))\n",
    "fig.set_figwidth(1.4)\n",
    "fig.set_figheight(1.4)\n",
    "ax.legend()\n",
    "ax.set_title(\"Divisive Normalization $O = E - \\\\frac{ \\\\gamma E}{ \\\\gamma E + 1} \\\\times E $\")\n",
    "simpleaxis(ax)\n",
    "dump(fig,file('figures/fig4/4a3.pkl','wb'))\n",
    "plt.show()"
   ]
  },
  {
   "cell_type": "code",
   "execution_count": 4,
   "metadata": {},
   "outputs": [],
   "source": [
    "prefix = '/home/bhalla/Documents/Codes/data'\n",
    "#prefix = ''\n",
    "currentClampFiles = prefix + '/media/sahil/NCBS_Shares_BGStim/patch_data/normalization_files.txt'\n",
    "with open (currentClampFiles,'r') as r:\n",
    "    dirnames = r.read().splitlines()"
   ]
  },
  {
   "cell_type": "code",
   "execution_count": 5,
   "metadata": {},
   "outputs": [
    {
     "name": "stdout",
     "output_type": "stream",
     "text": [
      "/home/bhalla/Documents/Codes/data/media/sahil/NCBS_Shares_BGStim/patch_data/RS_Analysis/Patch_Recording/Control_RS_short/2_c1_150828/plots/2_c1_150828.pkl not found.\n",
      "/home/bhalla/Documents/Codes/data/media/sahil/NCBS_Shares_BGStim/patch_data/RS_Analysis/Patch_Recording/Control_RS_short/3_c1_150929/plots/3_c1_150929.pkl not found.\n",
      "/home/bhalla/Documents/Codes/data/media/sahil/NCBS_Shares_BGStim/patch_data/RS_Analysis/Patch_Recording/Control_RS_short/1_c4_150827/plots/1_c4_150827.pkl not found.\n",
      "/home/bhalla/Documents/Codes/data/media/sahil/NCBS_Shares_BGStim/patch_data/RS_Analysis/Patch_Recording/Control_RS_short/6_c2_160513/plots/6_c2_160513.pkl not found.\n",
      "/home/bhalla/Documents/Codes/data/media/sahil/NCBS_Shares_BGStim/patch_data/RS_Analysis/Patch_Recording/RS_TBS_short/5_c4_160122/plots/5_c4_160122.pkl not found.\n"
     ]
    }
   ],
   "source": [
    "neurons = {}\n",
    "\n",
    "for dirname in dirnames:\n",
    "    cellIndex = dirname.split('/')[-2]\n",
    "    filename = prefix + dirname + 'plots/' + cellIndex + '.pkl'\n",
    "    n = Neuron.load(filename)\n",
    "    if n:\n",
    "        neurons[str(n.date) + '_' + str(n.index)] = n"
   ]
  },
  {
   "cell_type": "code",
   "execution_count": 6,
   "metadata": {},
   "outputs": [],
   "source": [
    "#Colorscheme for squares\n",
    "color_sqr = { index+1: color for index, color in enumerate(matplotlib.cm.viridis(np.linspace(0,1,9)))}"
   ]
  },
  {
   "cell_type": "code",
   "execution_count": 7,
   "metadata": {},
   "outputs": [],
   "source": [
    "control_result2_rsquared_adj = []\n",
    "control_result1_rsquared_adj = []\n",
    "control_var_expected = []\n",
    "gabazine_result2_rsquared_adj = []\n",
    "gabazine_result1_rsquared_adj = []\n",
    "gabazine_var_expected = []\n",
    "tolerance = 5e-4"
   ]
  },
  {
   "cell_type": "code",
   "execution_count": 8,
   "metadata": {},
   "outputs": [],
   "source": [
    "def linearModel(x, beta=100):\n",
    "    # Linear model\n",
    "    return (x*(1-beta))\n",
    "\n",
    "def DN_model(x, alpha=1, beta=1, gamma=1):\n",
    "    # Divisive normalization modelg\n",
    "    #return x - a*(x**2)/(b+x)\n",
    "    #return ((x**2)*(1-beta) + (gamma*x))/(x+gamma)\n",
    "    return (gamma*x)/(x+gamma)\n",
    "    \n",
    "#     exc = 65\n",
    "#     A = 1 - np.exp(-x/alpha)\n",
    "#     B = beta*(1 - np.exp(-x/alpha))\n",
    "# #     A = beta*(np.exp(x-alpha)-1)\n",
    "# #     B = gamma*(np.exp(x-alpha)-1)\n",
    "# #     A = (1 + np.tanh(x - alpha))/2\n",
    "# #     B = np.abs(beta)*(1 + np.tanh((x - alpha)))/2\n",
    "#     G = exc/(B-A-A*B)\n",
    "#     return x/((x/G) + 1)\n",
    "    \n",
    "    #return (gamma*x *(1 + np.exp(-alpha*x)))/(x+gamma)\n",
    "    #B = (1 + np.tanh((x - alpha)))/2\n",
    "    #np.exp((1-alpha)*x)\n",
    "    #B = beta * (np.exp(x)-1)\n",
    "    #return (gamma*x + alpha*np.tanh(-x) - beta*(1-alpha*np.tanh(-x)))/(1 + gamma*x)\n",
    "    #return (beta*x *(1 + (alpha*np.tanh(x))))/(x *(beta*alpha*np.tanh(x) + beta - 1) + 1)"
   ]
  },
  {
   "cell_type": "code",
   "execution_count": 9,
   "metadata": {},
   "outputs": [],
   "source": [
    "def findThreshold(trace, thresVal=0.1):\n",
    "    ''' This returns the action potential threshold '''\n",
    "    peakIndex = np.argmax(trace)\n",
    "    slope = np.diff(trace[:peakIndex])\n",
    "    maxSlope = np.max(slope)\n",
    "#     print(\"values are \", np.where(slope>thresVal*maxSlope)[0])\n",
    "    threshold = trace[np.where(slope>thresVal*maxSlope)[0][0]]\n",
    "    return threshold"
   ]
  },
  {
   "cell_type": "code",
   "execution_count": 10,
   "metadata": {},
   "outputs": [
    {
     "data": {
      "text/plain": [
       "{'150828_c2': <Linearity.Neuron instance at 0x7f7dec0c2830>,\n",
       " '150902_c1': <Linearity.Neuron instance at 0x7f7def429950>,\n",
       " '150902_c2': <Linearity.Neuron instance at 0x7f7defa45b90>,\n",
       " '150904_c1': <Linearity.Neuron instance at 0x7f7df3bf3cb0>,\n",
       " '160209_c4': <Linearity.Neuron instance at 0x7f7dede095a8>,\n",
       " '160219_c5': <Linearity.Neuron instance at 0x7f7ded7933f8>,\n",
       " '160223_c2': <Linearity.Neuron instance at 0x7f7ded9c3d88>,\n",
       " '160223_c3': <Linearity.Neuron instance at 0x7f7dee3a5dd0>,\n",
       " '160513_c5': <Linearity.Neuron instance at 0x7f7ded039878>,\n",
       " '160617_c5': <Linearity.Neuron instance at 0x7f7ded8622d8>,\n",
       " '160817_c2': <Linearity.Neuron instance at 0x7f7defa75ea8>,\n",
       " '160830_c1': <Linearity.Neuron instance at 0x7f7dee0dee18>,\n",
       " '160920_c1': <Linearity.Neuron instance at 0x7f7deec451b8>,\n",
       " '160927_c5': <Linearity.Neuron instance at 0x7f7def26ee60>,\n",
       " '160928_c3': <Linearity.Neuron instance at 0x7f7def9f1758>,\n",
       " '161013_c1': <Linearity.Neuron instance at 0x7f7def611638>,\n",
       " '161027_c3': <Linearity.Neuron instance at 0x7f7def9ee488>,\n",
       " '161109_c3': <Linearity.Neuron instance at 0x7f7dee9cd248>,\n",
       " '161117_c1': <Linearity.Neuron instance at 0x7f7defab1cf8>,\n",
       " '161228_c1': <Linearity.Neuron instance at 0x7f7dee968ef0>,\n",
       " '170104_c4': <Linearity.Neuron instance at 0x7f7dee1f13f8>,\n",
       " '170208_c3': <Linearity.Neuron instance at 0x7f7defad8b90>,\n",
       " '170220_c1': <Linearity.Neuron instance at 0x7f7def324050>,\n",
       " '170222_c2': <Linearity.Neuron instance at 0x7f7dee6ed7a0>,\n",
       " '170303_c1': <Linearity.Neuron instance at 0x7f7def9de4d0>,\n",
       " '170317_c1': <Linearity.Neuron instance at 0x7f7def448ab8>,\n",
       " '170317_c4': <Linearity.Neuron instance at 0x7f7deeeed7a0>}"
      ]
     },
     "execution_count": 10,
     "metadata": {},
     "output_type": "execute_result"
    }
   ],
   "source": [
    "neurons"
   ]
  },
  {
   "cell_type": "markdown",
   "metadata": {},
   "source": [
    "## 4 B Divisive Normalization representative cell"
   ]
  },
  {
   "cell_type": "code",
   "execution_count": 11,
   "metadata": {},
   "outputs": [],
   "source": [
    "neuron = neurons['170303_c1']"
   ]
  },
  {
   "cell_type": "code",
   "execution_count": 12,
   "metadata": {
    "scrolled": false
   },
   "outputs": [],
   "source": [
    "feature = 0 # Area under the curve\n",
    "expected, observed, g_expected, g_observed = {}, {}, {}, {}\n",
    "for expType, exp in neuron:\n",
    "    ## Control case\n",
    "    if(expType == \"Control\"):\n",
    "        for sqr in exp:\n",
    "            if sqr > 1:\n",
    "                expected[sqr] = []\n",
    "                observed[sqr] = []\n",
    "                for coord in exp[sqr].coordwise:\n",
    "                    for trial in exp[sqr].coordwise[coord].trials:\n",
    "                        if all([value == 0 for value in trial.flags.values()]):\n",
    "                            expected[sqr].append(exp[sqr].coordwise[coord].expected_feature[feature])\n",
    "                            observed[sqr].append(trial.feature[feature])"
   ]
  },
  {
   "cell_type": "code",
   "execution_count": 13,
   "metadata": {
    "scrolled": false
   },
   "outputs": [
    {
     "name": "stdout",
     "output_type": "stream",
     "text": [
      "[[Model]]\n",
      "    Model(linearModel)\n",
      "[[Fit Statistics]]\n",
      "    # function evals   = 7\n",
      "    # data points      = 334\n",
      "    # variables        = 1\n",
      "    chi-square         = 787.840\n",
      "    reduced chi-square = 2.366\n",
      "    Akaike info crit   = 288.623\n",
      "    Bayesian info crit = 292.434\n",
      "[[Variables]]\n",
      "    beta:   0.59899717 +/- 0.008347 (1.39%) (init= 100)\n",
      "\n",
      "[[Model]]\n",
      "    Model(DN_model)\n",
      "[[Fit Statistics]]\n",
      "    # function evals   = 23\n",
      "    # data points      = 334\n",
      "    # variables        = 3\n",
      "    chi-square         = 357.317\n",
      "    reduced chi-square = 1.080\n",
      "    Akaike info crit   = 28.539\n",
      "    Bayesian info crit = 39.972\n",
      "[[Variables]]\n",
      "    alpha:   1          +/- 0        (0.00%) (init= 1)\n",
      "    beta:    1          +/- 0        (0.00%) (init= 1)\n",
      "    gamma:   8.16240184 +/- 0        (0.00%) (init= 1)\n",
      "\n"
     ]
    },
    {
     "data": {
      "image/png": "[encoded data removed]",
      "text/plain": [
       "<matplotlib.figure.Figure at 0x7f7dee123250>"
      ]
     },
     "metadata": {},
     "output_type": "display_data"
    }
   ],
   "source": [
    "lin_aic = []\n",
    "dn_aic = []\n",
    "lin_chi = []\n",
    "dn_chi = []\n",
    "max_exp, max_g_exp = 0.,0.\n",
    "fig, ax = plt.subplots()\n",
    "squareVal = []\n",
    "list_control_expected = []\n",
    "list_control_observed = []\n",
    "\n",
    "for sqr in sorted(observed):\n",
    "    squareVal.append(ax.scatter(expected[sqr], observed[sqr], label=str(sqr), c=color_sqr[sqr], alpha=0.8, s=12))\n",
    "    max_exp = max(max_exp, max(expected[sqr]))\n",
    "    list_control_expected += expected[sqr]\n",
    "    list_control_observed += observed[sqr]\n",
    "    \n",
    "X = np.array(list_control_expected)\n",
    "y = np.array(list_control_observed)\n",
    "idx   = np.argsort(X)\n",
    "X = X[idx]\n",
    "y = y[idx]\n",
    "\n",
    "linear_Model = lmfit.Model(linearModel)\n",
    "DN_Model = lmfit.Model(DN_model)\n",
    "\n",
    "lin_pars = linear_Model.make_params()\n",
    "lin_result = linear_Model.fit(y, lin_pars, x=X)\n",
    "lin_aic.append(lin_result.aic)\n",
    "lin_chi.append(lin_result.redchi)\n",
    "\n",
    "DN_pars = DN_Model.make_params()\n",
    "DN_result = DN_Model.fit(y, DN_pars, x=X)\n",
    "dn_aic.append(DN_result.aic)\n",
    "dn_chi.append(DN_result.redchi)\n",
    "\n",
    "print (lin_result.fit_report())\n",
    "print (DN_result.fit_report())\n",
    "\n",
    "ax.set_xlim(xmin=0.)\n",
    "ax.set_ylim(ymin=0.)\n",
    "ax.set_xlabel(\"Expected\")\n",
    "ax.set_ylabel(\"Observed\")\n",
    "ax.set_title(\"Divisive Normalization and Inhibition fits\")\n",
    "div_inh = ax.plot(X, lin_result.best_fit, '-', color='green', lw=2)\n",
    "div_norm = ax.plot(X, DN_result.best_fit, '-', color='purple', lw=2)\n",
    "\n",
    "\n",
    "max_exp *=1.1\n",
    "max_g_exp *=1.1\n",
    "ax.set_xlim(0,max_exp)\n",
    "\n",
    "ax.set_ylim(0,max_exp)\n",
    "# ax.set_ylim(0,0.05)\n",
    "ax.set_xlabel(\"Expected Sum (mV)\")\n",
    "ax.set_ylabel(\"Observed Sum (mV)\")\n",
    "linear = ax.plot((0,max_exp), (0,max_exp), 'k--')\n",
    "\n",
    "legends = div_inh + div_norm + linear +  squareVal\n",
    "# labels = [\"Divisive Inhibition, $\\\\beta$ = {:.2f}\".format(lin_result.params['beta'].value), \"Divisive Normalization, $\\\\beta$ = {:.2f}, $\\\\gamma$ = {:.2f}\".format(DN_result.params['beta'].value, DN_result.params['gamma'].value), \"Linear sum\"] +  sorted(observed.keys()) \n",
    "labels = [\"Divisive Inhibition, $\\\\beta$ = {:.2f}\".format(lin_result.params['beta'].value), \"Divisive Normalization, $\\\\gamma$ = {:.2f}\".format(DN_result.params['gamma'].value), \"Linear sum\"] +  sorted(observed.keys()) \n",
    "\n",
    "ax.legend(legends, labels, loc='upper left')\n",
    "\n",
    "simpleaxis(ax)\n",
    "fig.set_figwidth(5)\n",
    "fig.set_figheight(5)\n",
    "dump(fig,file('figures/fig4/4b.pkl','wb'))\n",
    "plt.show()"
   ]
  },
  {
   "cell_type": "code",
   "execution_count": 14,
   "metadata": {},
   "outputs": [],
   "source": [
    "feature = 0 # Area under the curve\n",
    "time, observed = {}, {}\n",
    "for expType, exp in neuron:\n",
    "    ## Control case\n",
    "    if(expType == \"Control\"):\n",
    "        for sqr in exp:\n",
    "#             if sqr > 1:\n",
    "                time[sqr] = []\n",
    "                observed[sqr] = []\n",
    "                for coord in exp[sqr].coordwise:\n",
    "                    for trial in exp[sqr].coordwise[coord].trials:\n",
    "                        if all([value == 0 for value in trial.flags.values()]):\n",
    "                            time[sqr].append(trial.feature[3])\n",
    "                            observed[sqr].append(trial.feature[0])"
   ]
  },
  {
   "cell_type": "code",
   "execution_count": 15,
   "metadata": {},
   "outputs": [
    {
     "name": "stdout",
     "output_type": "stream",
     "text": [
      "1 111 111\n",
      "2 72 72\n",
      "3 70 70\n",
      "5 71 71\n",
      "7 64 64\n",
      "9 57 57\n"
     ]
    },
    {
     "data": {
      "image/png": "[encoded data removed]",
      "text/plain": [
       "<matplotlib.figure.Figure at 0x7f7dee123a10>"
      ]
     },
     "metadata": {},
     "output_type": "display_data"
    }
   ],
   "source": [
    "lin_aic = []\n",
    "dn_aic = []\n",
    "lin_chi = []\n",
    "dn_chi = []\n",
    "max_exp, max_g_exp = 0.,0.\n",
    "fig, ax = plt.subplots()\n",
    "squareVal = []\n",
    "list_control_expected = []\n",
    "list_control_observed = []\n",
    "\n",
    "for sqr in sorted(observed):\n",
    "    print(sqr, len(observed[sqr]), len(time[sqr]))\n",
    "    squareVal.append(ax.scatter(observed[sqr], time[sqr], label=str(sqr), c=color_sqr[sqr], alpha=0.8, s=12))\n",
    "#     max_exp = max(max_exp, max(observed[sqr]))\n",
    "#     list_control_expected += time[sqr]\n",
    "#     list_control_observed += observed[sqr]\n",
    "    \n",
    "# X = np.array(list_control_expected)\n",
    "# y = np.array(list_control_observed)\n",
    "# idx   = np.argsort(X)\n",
    "# X = X[idx]\n",
    "# y = y[idx]\n",
    "\n",
    "# linear_Model = lmfit.Model(linearModel)\n",
    "# DN_Model = lmfit.Model(DN_model)\n",
    "\n",
    "# lin_pars = linear_Model.make_params()\n",
    "# lin_result = linear_Model.fit(y, lin_pars, x=X)\n",
    "# lin_aic.append(lin_result.aic)\n",
    "# lin_chi.append(lin_result.redchi)\n",
    "\n",
    "# DN_pars = DN_Model.make_params()\n",
    "# DN_result = DN_Model.fit(y, DN_pars, x=X)\n",
    "# dn_aic.append(DN_result.aic)\n",
    "# dn_chi.append(DN_result.redchi)\n",
    "\n",
    "# print (lin_result.fit_report())\n",
    "# print (DN_result.fit_report())\n",
    "\n",
    "# ax.set_xlim(xmin=0.)\n",
    "# ax.set_ylim(ymin=0.015, ymax=0.05)\n",
    "# ax.set_xlabel(\"Expected\")\n",
    "# ax.set_ylabel(\"Observed\")\n",
    "# ax.set_title(\"Divisive Normalization and Inhibition fits\")\n",
    "# div_inh = ax.plot(X, lin_result.best_fit, '-', color='green', lw=2)\n",
    "# div_norm = ax.plot(X, DN_result.best_fit, '-', color='purple', lw=2)\n",
    "\n",
    "\n",
    "# max_exp *=1.1\n",
    "# max_g_exp *=1.1\n",
    "# # ax.set_xlim(0,max_exp)\n",
    "\n",
    "# ax.set_ylim(0,max_exp)\n",
    "# ax.set_ylim(0,0.05)\n",
    "# ax.set_xlabel(\"Expected Sum (mV)\")\n",
    "# ax.set_ylabel(\"Observed Sum (mV)\")\n",
    "# linear = ax.plot((0,max_exp), (0,max_exp), 'k--')\n",
    "# \n",
    "# legends = div_inh + div_norm + linear +  squareVal\n",
    "# labels = [\"Divisive Inhibition, $\\\\beta$ = {:.2f}\".format(lin_result.params['beta'].value), \"Divisive Normalization, $\\\\beta$ = {:.2f}, $\\\\gamma$ = {:.2f}\".format(DN_result.params['beta'].value, DN_result.params['gamma'].value), \"Linear sum\"] +  sorted(observed.keys()) \n",
    "# labels = [\"Divisive Inhibition, $\\\\beta$ = {:.2f}\".format(lin_result.params['beta'].value), \"Divisive Normalization, $\\\\gamma$ = {:.2f}\".format(DN_result.params['gamma'].value), \"Linear sum\"] +  sorted(observed.keys()) \n",
    "\n",
    "ax.legend()\n",
    "\n",
    "simpleaxis(ax)\n",
    "fig.set_figwidth(5)\n",
    "fig.set_figheight(5)\n",
    "# dump(fig,file('figures/fig4/4b.pkl','wb'))\n",
    "plt.show()"
   ]
  },
  {
   "cell_type": "code",
   "execution_count": 16,
   "metadata": {},
   "outputs": [
    {
     "data": {
      "text/plain": [
       "{0: 'epsp_max',\n",
       " 1: 'epsp_area',\n",
       " 2: 'epsp_avg',\n",
       " 3: 'epsp_time_to_peak',\n",
       " 4: 'epsp_area_to_peak',\n",
       " 5: 'epsp_min',\n",
       " 6: 'epsp_onset'}"
      ]
     },
     "execution_count": 16,
     "metadata": {},
     "output_type": "execute_result"
    }
   ],
   "source": [
    "neuron.features"
   ]
  },
  {
   "cell_type": "code",
   "execution_count": 17,
   "metadata": {},
   "outputs": [
    {
     "data": {
      "image/png": "[encoded data removed]",
      "text/plain": [
       "<matplotlib.figure.Figure at 0x7f7defb70f90>"
      ]
     },
     "metadata": {},
     "output_type": "display_data"
    }
   ],
   "source": [
    "fig, ax = plt.subplots()\n",
    "ax.hist(list_control_observed,bins=30)\n",
    "simpleaxis(ax)\n",
    "ax.set_xlabel(\"Observed sum\")\n",
    "ax.set_ylabel(\"# patterns\")\n",
    "fig.set_figwidth(1.5)\n",
    "fig.set_figheight(1.5)\n",
    "plt.show()"
   ]
  },
  {
   "cell_type": "code",
   "execution_count": 18,
   "metadata": {},
   "outputs": [
    {
     "name": "stdout",
     "output_type": "stream",
     "text": [
      "170317_c1\n",
      "170317_c4\n",
      "161027_c3\n",
      "160223_c3\n",
      "160223_c2\n",
      "161228_c1\n",
      "160830_c1\n",
      "160219_c5\n",
      "170303_c1\n",
      "161117_c1\n",
      "170208_c3\n",
      "160209_c4\n",
      "160920_c1\n",
      "161013_c1\n",
      "160927_c5\n",
      "150904_c1\n",
      "170104_c4\n",
      "170220_c1\n",
      "170222_c2\n",
      "160817_c2\n",
      "150828_c2\n",
      "160928_c3\n",
      "160617_c5\n",
      "150902_c1\n",
      "150902_c2\n",
      "161109_c3\n",
      "160513_c5\n"
     ]
    }
   ],
   "source": [
    "feature = 0 # Area under the curve\n",
    "lin_bic = []\n",
    "dn_bic = []\n",
    "lin_chi = []\n",
    "dn_chi = []\n",
    "beta = []\n",
    "gamma = []\n",
    "delta = []\n",
    "zeta, zeta2 = [], []\n",
    "AP_thres = {}\n",
    "g_AP_thres = {}\n",
    "gamma_DN = {}\n",
    "\n",
    "for index in neurons:\n",
    "    print (index)\n",
    "    neuron = neurons[index]\n",
    "    expected, observed, g_expected, g_observed = {}, {}, {}, {}\n",
    "    for expType, exp in neuron:\n",
    "        ## Control case\n",
    "        if(expType == \"Control\"):\n",
    "            ap_list = []\n",
    "            for sqr in exp:\n",
    "                if sqr > 1:\n",
    "                    expected[sqr] = []\n",
    "                    observed[sqr] = []\n",
    "                    for coord in exp[sqr].coordwise:\n",
    "                        for trial in exp[sqr].coordwise[coord].trials:\n",
    "                            if all([value == 0 for value in trial.flags.values()]):\n",
    "                                expected[sqr].append(exp[sqr].coordwise[coord].expected_feature[feature])\n",
    "                                observed[sqr].append(trial.feature[feature])\n",
    "                            elif trial.flags['AP_flag'] == 1:\n",
    "#                                 print (\"trial had AP\", index, trial.index)\n",
    "#                                 print (trial.baseline, findThreshold(trial.interestWindow))\n",
    "                                ap_list.append(trial.baseline +  findThreshold(trial.interestWindow))\n",
    "            if ap_list:\n",
    "                AP_thres[index] = np.mean(ap_list)\n",
    "            else:\n",
    "                AP_thres[index] = np.nan\n",
    "            max_exp, max_g_exp = 0.,0.\n",
    "\n",
    "            squareVal = []\n",
    "            list_control_expected = []\n",
    "            list_control_observed = []\n",
    "\n",
    "            for sqr in sorted(observed):\n",
    "                squareVal.append(ax.scatter(expected[sqr], observed[sqr], label=str(sqr), c=color_sqr[sqr], alpha=0.8))\n",
    "                max_exp = max(max_exp, max(expected[sqr]))\n",
    "                list_control_expected += expected[sqr]\n",
    "                list_control_observed += observed[sqr]\n",
    "\n",
    "            X = np.array(list_control_expected)\n",
    "            y = np.array(list_control_observed)\n",
    "            idx   = np.argsort(X)\n",
    "            X = X[idx]\n",
    "            y = y[idx]\n",
    "\n",
    "            linear_Model = lmfit.Model(linearModel)\n",
    "            DN_Model = lmfit.Model(DN_model)\n",
    "\n",
    "            lin_pars = linear_Model.make_params()\n",
    "            lin_result = linear_Model.fit(y, lin_pars, x=X)\n",
    "            lin_bic.append(lin_result.bic)\n",
    "            lin_chi.append(lin_result.redchi)\n",
    "            beta.append(lin_result.params['beta'])\n",
    "\n",
    "            DN_pars = DN_Model.make_params()\n",
    "#             print (y,X,DN_pars)\n",
    "            \n",
    "            try:\n",
    "                DN_result = DN_Model.fit(y, DN_pars, x=X)\n",
    "            except:\n",
    "                print(y,X)\n",
    "            dn_bic.append(DN_result.bic)\n",
    "            dn_chi.append(DN_result.redchi)\n",
    "            gamma.append(DN_result.params['gamma'])\n",
    "            delta.append(DN_result.params['beta'])\n",
    "        gamma_DN[index] = DN_result.params['gamma'].value\n",
    "        if(expType == \"GABAzine\"):\n",
    "            ap_list = []\n",
    "            for sqr in exp:\n",
    "                if sqr > 1:\n",
    "#                     expected[sqr] = []\n",
    "#                     observed[sqr] = []\n",
    "                    for coord in exp[sqr].coordwise:\n",
    "                        for trial in exp[sqr].coordwise[coord].trials:\n",
    "                            if all([value == 0 for value in trial.flags.values()]):\n",
    "                                pass\n",
    "#                                 expected[sqr].append(exp[sqr].coordwise[coord].expected_feature[feature])\n",
    "#                                 observed[sqr].append(trial.feature[feature])\n",
    "                            elif trial.flags['AP_flag'] == 1:\n",
    "#                                 print (\"trial had AP\", index, trial.index)\n",
    "#                                 print (trial.baseline, findThreshold(trial.interestWindow))\n",
    "                                ap_list.append(trial.baseline + findThreshold(trial.interestWindow))\n",
    "#             if ap_list:\n",
    "#                 AP_thres.append(np.mean(ap_list))\n",
    "#             else:\n",
    "#                 AP_thres.append(np.nan)\n",
    "                \n",
    "            if ap_list:\n",
    "                g_AP_thres[index] = np.mean(ap_list)\n",
    "            else:\n",
    "                g_AP_thres[index] = np.nan\n",
    "\n",
    "#             max_exp, max_g_exp = 0.,0.\n",
    "\n",
    "#             squareVal = []\n",
    "#             list_control_expected = []\n",
    "#             list_control_observed = []\n",
    "\n",
    "#             for sqr in sorted(observed):\n",
    "#                 squareVal.append(ax.scatter(expected[sqr], observed[sqr], label=str(sqr), c=color_sqr[sqr], alpha=0.8))\n",
    "#                 max_exp = max(max_exp, max(expected[sqr]))\n",
    "#                 list_control_expected += expected[sqr]\n",
    "#                 list_control_observed += observed[sqr]\n",
    "\n",
    "#             X = np.array(list_control_expected)\n",
    "#             y = np.array(list_control_observed)\n",
    "#             idx   = np.argsort(X)\n",
    "#             X = X[idx]\n",
    "#             y = y[idx]\n",
    "\n",
    "#             linear_Model = lmfit.Model(linearModel)\n",
    "#             DN_Model = lmfit.Model(DN_model)\n",
    "\n",
    "#             lin_pars = linear_Model.make_params()\n",
    "#             lin_result = linear_Model.fit(y, lin_pars, x=X)\n",
    "#             lin_bic.append(lin_result.bic)\n",
    "#             lin_chi.append(lin_result.redchi)\n",
    "#             beta.append(lin_result.params['beta'])\n",
    "\n",
    "#             DN_pars = DN_Model.make_params()\n",
    "# #             print (y,X,DN_pars)\n",
    "            \n",
    "#             try:\n",
    "#                 DN_result = DN_Model.fit(y, DN_pars, x=X)\n",
    "#             except:\n",
    "#                 print(y,X)\n",
    "#             dn_bic.append(DN_result.bic)\n",
    "#             dn_chi.append(DN_result.redchi)\n",
    "#             gamma.append(DN_result.params['gamma'])\n",
    "#             delta.append(DN_result.params['beta'])\n",
    "#             print (np.mean(ap_list))"
   ]
  },
  {
   "cell_type": "code",
   "execution_count": 23,
   "metadata": {},
   "outputs": [
    {
     "name": "stdout",
     "output_type": "stream",
     "text": [
      "170317_c1 8.532462790615575 -55.73120498065751\n",
      "170317_c4 11.299758224713608 -54.46953147088986\n",
      "161027_c3 13.42108107990968 -50.29307626223354\n",
      "160223_c3 2.421307098774852 nan\n",
      "160223_c2 4.986964921825267 nan\n",
      "161228_c1 10.08249753205941 nan\n",
      "160830_c1 3.219169959657125 nan\n",
      "160219_c5 8.601386107054811 nan\n",
      "170208_c3 13.285667530517435 -53.82943299938838\n",
      "161117_c1 1.0532294417025507 nan\n",
      "170303_c1 8.162401847754746 -55.01175684872996\n",
      "160209_c4 5.318597746702543 nan\n",
      "160920_c1 7.979423149389322 nan\n",
      "161013_c1 3.214735369311666 nan\n",
      "160927_c5 15.522194494904074 -55.668303939363796\n",
      "150904_c1 10.975192517234825 nan\n",
      "170104_c4 4.277754667818739 nan\n",
      "170220_c1 3.4681757853400734 nan\n",
      "170222_c2 6.324484305586555 nan\n",
      "161109_c3 8.557041368590223 nan\n",
      "150828_c2 3.00342384383347 nan\n",
      "160928_c3 6.403292949507779 nan\n",
      "160617_c5 6.619685838422883 nan\n",
      "150902_c1 38.948687366856056 nan\n",
      "150902_c2 7.294855104331453 nan\n",
      "160817_c2 11.625362930808166 -54.742589481288746\n",
      "160513_c5 7.840116547687589 -55.64478596866093\n"
     ]
    },
    {
     "data": {
      "image/png": "[encoded data removed]",
      "text/plain": [
       "<matplotlib.figure.Figure at 0x7f7defa9b550>"
      ]
     },
     "metadata": {},
     "output_type": "display_data"
    }
   ],
   "source": [
    "fig, ax = plt.subplots()\n",
    "for index in AP_thres.keys():\n",
    "    ax.scatter(gamma_DN[index], AP_thres[index], s=12)\n",
    "    print(index, gamma_DN[index], AP_thres[index])\n",
    "ax.set_xlabel(\"$\\gamma$\")\n",
    "ax.set_ylabel(\"Threshold\")\n",
    "# ax.set_xlim(xmin=-10.,xmax=10)\n",
    "# ax.set_ylim(ymin=5.,ymax=17)\n",
    "simpleaxis(ax)\n",
    "fig.set_figwidth(2)\n",
    "fig.set_figheight(2)\n",
    "plt.show()"
   ]
  },
  {
   "cell_type": "code",
   "execution_count": 24,
   "metadata": {},
   "outputs": [
    {
     "name": "stdout",
     "output_type": "stream",
     "text": [
      "161027_c3 13.42108107990968 -51.651376528790934\n",
      "161117_c1 1.0532294417025507 nan\n",
      "170222_c2 6.324484305586555 -52.46236385867591\n",
      "161228_c1 10.08249753205941 -51.89236909491416\n",
      "160830_c1 3.219169959657125 nan\n",
      "160920_c1 7.979423149389322 nan\n",
      "161013_c1 3.214735369311666 nan\n",
      "160927_c5 15.522194494904074 -55.85235354993634\n",
      "170303_c1 8.162401847754746 -54.47071718520047\n"
     ]
    },
    {
     "data": {
      "image/png": "[encoded data removed]",
      "text/plain": [
       "<matplotlib.figure.Figure at 0x7f7def602bd0>"
      ]
     },
     "metadata": {},
     "output_type": "display_data"
    }
   ],
   "source": [
    "fig, ax = plt.subplots()\n",
    "for index in g_AP_thres.keys():\n",
    "    ax.scatter(gamma_DN[index], g_AP_thres[index], s=12)\n",
    "    print(index, gamma_DN[index], g_AP_thres[index])\n",
    "ax.set_xlabel(\"$\\gamma$\")\n",
    "ax.set_ylabel(\"Threshold\")\n",
    "# ax.set_xlim(xmin=-10.,xmax=10)\n",
    "# ax.set_ylim(ymin=5.,ymax=17)\n",
    "simpleaxis(ax)\n",
    "fig.set_figwidth(2)\n",
    "fig.set_figheight(2)\n",
    "plt.show()"
   ]
  },
  {
   "cell_type": "code",
   "execution_count": 34,
   "metadata": {},
   "outputs": [],
   "source": [
    "allKeys = set(AP_thres.keys()).union(set(g_AP_thres.keys()))"
   ]
  },
  {
   "cell_type": "code",
   "execution_count": 33,
   "metadata": {},
   "outputs": [
    {
     "name": "stdout",
     "output_type": "stream",
     "text": [
      "set(['170317_c1', '170317_c4', '161027_c3', '150904_c1', '160223_c3', '160223_c2', '170104_c4', '170220_c1', '170222_c2', '161228_c1', '160830_c1', '161109_c3', '160219_c5', '170303_c1', '150828_c2', '160928_c3', '160617_c5', '161117_c1', '150902_c1', '150902_c2', '170208_c3', '160209_c4', '160920_c1', '160817_c2', '161013_c1', '160927_c5', '160513_c5'])\n"
     ]
    }
   ],
   "source": [
    "commonKeys = (set(AP_thres.keys()).intersection(set(g_AP_thres.keys())))"
   ]
  },
  {
   "cell_type": "code",
   "execution_count": 35,
   "metadata": {},
   "outputs": [
    {
     "ename": "KeyError",
     "evalue": "'170317_c1'",
     "output_type": "error",
     "traceback": [
      "\u001b[0;31m---------------------------------------------------------------------------\u001b[0m",
      "\u001b[0;31mKeyError\u001b[0m                                  Traceback (most recent call last)",
      "\u001b[0;32m<ipython-input-35-d6eabc4b75bb>\u001b[0m in \u001b[0;36m<module>\u001b[0;34m()\u001b[0m\n\u001b[1;32m      2\u001b[0m \u001b[0;32mfor\u001b[0m \u001b[0mkey\u001b[0m \u001b[0;32min\u001b[0m \u001b[0mallKeys\u001b[0m\u001b[0;34m:\u001b[0m\u001b[0;34m\u001b[0m\u001b[0m\n\u001b[1;32m      3\u001b[0m     \u001b[0;32mif\u001b[0m \u001b[0;32mnot\u001b[0m \u001b[0;34m(\u001b[0m\u001b[0mnp\u001b[0m\u001b[0;34m.\u001b[0m\u001b[0misnan\u001b[0m\u001b[0;34m(\u001b[0m\u001b[0mAP_thres\u001b[0m\u001b[0;34m[\u001b[0m\u001b[0mkey\u001b[0m\u001b[0;34m]\u001b[0m\u001b[0;34m)\u001b[0m \u001b[0;32mand\u001b[0m \u001b[0mnp\u001b[0m\u001b[0;34m.\u001b[0m\u001b[0misnan\u001b[0m\u001b[0;34m(\u001b[0m\u001b[0mg_AP_thres\u001b[0m\u001b[0;34m[\u001b[0m\u001b[0mkey\u001b[0m\u001b[0;34m]\u001b[0m\u001b[0;34m)\u001b[0m\u001b[0;34m)\u001b[0m\u001b[0;34m:\u001b[0m\u001b[0;34m\u001b[0m\u001b[0m\n\u001b[0;32m----> 4\u001b[0;31m         \u001b[0mallDict\u001b[0m\u001b[0;34m[\u001b[0m\u001b[0mkey\u001b[0m\u001b[0;34m]\u001b[0m \u001b[0;34m=\u001b[0m \u001b[0mnp\u001b[0m\u001b[0;34m.\u001b[0m\u001b[0mnanmean\u001b[0m\u001b[0;34m(\u001b[0m\u001b[0mAP_thres\u001b[0m\u001b[0;34m[\u001b[0m\u001b[0mkey\u001b[0m\u001b[0;34m]\u001b[0m\u001b[0;34m,\u001b[0m \u001b[0mg_AP_thres\u001b[0m\u001b[0;34m[\u001b[0m\u001b[0mkey\u001b[0m\u001b[0;34m]\u001b[0m\u001b[0;34m)\u001b[0m\u001b[0;34m\u001b[0m\u001b[0m\n\u001b[0m",
      "\u001b[0;31mKeyError\u001b[0m: '170317_c1'"
     ]
    }
   ],
   "source": [
    "allDict = {}\n",
    "for key in commonKeys:\n",
    "    if not (np.isnan(AP_thres[key]) and np.isnan(g_AP_thres[key])):\n",
    "        allDict[key] = np.nanmean(AP_thres[key], g_AP_thres[key])\n",
    "for key in AP_thres.keys():\n",
    "    if "
   ]
  },
  {
   "cell_type": "markdown",
   "metadata": {},
   "source": [
    "## 4 C (Chi-squares population)"
   ]
  },
  {
   "cell_type": "code",
   "execution_count": 388,
   "metadata": {},
   "outputs": [
    {
     "name": "stdout",
     "output_type": "stream",
     "text": [
      "Ttest_relResult(statistic=-0.80057788750207, pvalue=0.43063114516819123)\n"
     ]
    },
    {
     "data": {
      "image/png": "[encoded data removed]",
      "text/plain": [
       "<matplotlib.figure.Figure at 0x7f82c98a19d0>"
      ]
     },
     "metadata": {},
     "output_type": "display_data"
    }
   ],
   "source": [
    "indices = [1,2]\n",
    "fig, ax = plt.subplots()\n",
    "\n",
    "for ind, (l,d) in enumerate(zip(lin_chi, dn_chi)):\n",
    "    ax.plot(indices, [l,d], 'o-', alpha=0.4, color='0.5', markerfacecolor='white')\n",
    "# ax.violinplot([lin_chi,dn_chi], indices)\n",
    "\n",
    "# notch shape box plot\n",
    "bplot = ax.boxplot([lin_chi,dn_chi],\n",
    "                         notch=True,  # notch shape\n",
    "#                          vert=True,   # vertical box aligmnent\n",
    "                         patch_artist=True)   # fill with color\n",
    "\n",
    "colors = ['green', 'purple']\n",
    "for patch, color in zip(bplot['boxes'], colors):\n",
    "    patch.set_facecolor(color)\n",
    "    patch.set_alpha(1.)\n",
    "\n",
    "ax.hlines(1, 0,3, linestyles='--', alpha=1)\n",
    "# ax.boxplot(, [1])\n",
    "\n",
    "# ax.set_xlim((-1,2))\n",
    "ax.set_ylim((-1,7))\n",
    "ax.set_xticks(indices)\n",
    "ax.set_xticklabels(('DI', 'DN'))\n",
    "ax.set_title(\"Reduced chi-square values for DI and DN\")\n",
    "simpleaxis(ax)\n",
    "\n",
    "print(ss.ttest_rel(lin_chi, dn_chi))\n",
    "\n",
    "y, h, col = np.max(lin_chi), 0.5, 'k'\n",
    "plt.plot([1,1, 2, 2], [y, y+h, y+h, y], lw=1.5, c=col)\n",
    "plt.text((1+2)*.5, y+h, \"***\", ha='center', va='bottom', color=col)\n",
    "\n",
    "fig.set_figwidth(3)\n",
    "fig.set_figheight(3)\n",
    "#dump(fig,file('figures/fig4/4c.pkl','wb'))\n",
    "plt.savefig('figures/fig4/4c.svg')\n",
    "plt.show()"
   ]
  },
  {
   "cell_type": "code",
   "execution_count": 26,
   "metadata": {},
   "outputs": [],
   "source": [
    "ratio_models = np.array(lin_chi)/np.array(dn_chi)"
   ]
  },
  {
   "cell_type": "code",
   "execution_count": 389,
   "metadata": {},
   "outputs": [
    {
     "name": "stdout",
     "output_type": "stream",
     "text": [
      "Ttest_relResult(statistic=-0.80057788750207, pvalue=0.43063114516819123)\n"
     ]
    },
    {
     "data": {
      "image/png": "[encoded data removed]",
      "text/plain": [
       "<matplotlib.figure.Figure at 0x7f82c9b6c3d0>"
      ]
     },
     "metadata": {},
     "output_type": "display_data"
    }
   ],
   "source": [
    "fig, ax = plt.subplots()\n",
    "bins = np.linspace(0.8,2.4,9)\n",
    "ax.hist(ratio_models,bins=bins)\n",
    "ax.set_ylabel(\"# neurons\")\n",
    "#ax.set_xlim(0,3)\n",
    "ax.vlines(1,0,15,'r','--')\n",
    "simpleaxis(ax)\n",
    "\n",
    "left, bottom, width, height = [0.5, 0.4, 0.3, 0.5]\n",
    "ax2 = fig.add_axes([left, bottom, width, height])\n",
    "simpleaxis(ax2)\n",
    "indices = [1,2]\n",
    "\n",
    "for ind, (l,d) in enumerate(zip(lin_chi, dn_chi)):\n",
    "    ax2.plot(indices, [l,d], 'o-', alpha=0.4, color='0.5', markerfacecolor='white', markersize=3)\n",
    "# ax.violinplot([lin_chi,dn_chi], indices)\n",
    "\n",
    "# notch shape box plot\n",
    "bplot = ax2.boxplot([lin_chi,dn_chi],\n",
    "                         notch=True,  # notch shape\n",
    "                        vert=True,   # vertical box aligmnent\n",
    "                         patch_artist=True, widths=[0.3,0.3])   # fill with color\n",
    "\n",
    "colors = ['green', 'purple']\n",
    "for patch, color in zip(bplot['boxes'], colors):\n",
    "    patch.set_facecolor(color)\n",
    "    patch.set_alpha(1.)\n",
    "for patch in (bplot['fliers']):\n",
    "    patch.set_alpha(0)\n",
    "ax2.hlines(1, 0,3, linestyles='--', alpha=1)\n",
    "# ax.boxplot(, [1])\n",
    "\n",
    "# ax.set_xlim((-1,2))\n",
    "ax2.set_ylim((-1,7))\n",
    "ax2.set_xticks(indices)\n",
    "ax2.set_xticklabels(('DI', 'DN'))\n",
    "ax2.set_ylabel(\"reduced $\\\\chi^2$\")\n",
    "simpleaxis(ax2)\n",
    "\n",
    "print(ss.ttest_rel(lin_chi, dn_chi))\n",
    "\n",
    "y, h, col = np.max(lin_chi), 0.5, 'k'\n",
    "ax2.plot([1,1, 2, 2], [y, y+h, y+h, y], lw=1.5, c=col)\n",
    "ax2.text((1+2)*.5, y+h, \"***\", ha='center', va='bottom', color=col)\n",
    "\n",
    "fig.set_figwidth(2)\n",
    "fig.set_figheight(2)\n",
    "dump(fig,file('figures/fig4/4c.pkl','wb'))\n",
    "plt.savefig('figures/fig4/4c.svg')\n",
    "plt.show()"
   ]
  },
  {
   "cell_type": "code",
   "execution_count": 28,
   "metadata": {},
   "outputs": [
    {
     "data": {
      "text/plain": [
       "0.9764951462313565"
      ]
     },
     "execution_count": 28,
     "metadata": {},
     "output_type": "execute_result"
    }
   ],
   "source": [
    "min(ratio_models)"
   ]
  },
  {
   "cell_type": "markdown",
   "metadata": {},
   "source": [
    "## 4 D (BIC Population)"
   ]
  },
  {
   "cell_type": "code",
   "execution_count": 390,
   "metadata": {},
   "outputs": [
    {
     "name": "stdout",
     "output_type": "stream",
     "text": [
      "['boxes', 'fliers', 'medians', 'means', 'whiskers', 'caps']\n",
      "Ttest_relResult(statistic=0.9884324253952477, pvalue=0.3320508758606855)\n"
     ]
    },
    {
     "data": {
      "image/png": "[encoded data removed]",
      "text/plain": [
       "<matplotlib.figure.Figure at 0x7f82c975fb10>"
      ]
     },
     "metadata": {},
     "output_type": "display_data"
    }
   ],
   "source": [
    "indices = [1,2]\n",
    "fig, ax = plt.subplots()\n",
    "for ind, (l,d) in enumerate(zip(lin_bic, dn_bic)):\n",
    "    ax.plot(indices, [l,d], 'o-', color='0.5', alpha=0.4, markerfacecolor='white')\n",
    "# ax.violinplot(lin_chi, [0])\n",
    "# ax.violinplot(dn_chi, [1])\n",
    "# notch shape box plot\n",
    "colors = ['green', 'purple']\n",
    "bplot = ax.boxplot([lin_bic,dn_bic],\n",
    "                         notch=False,  # notch shape\n",
    "                         vert=True,   # vertical box aligmnent\n",
    "                         patch_artist=True)   # fill with color\n",
    "\n",
    "print (bplot.keys())\n",
    "for patch in (bplot['boxes']):\n",
    "    patch.set_alpha(0)\n",
    "for patch in (bplot['whiskers']):\n",
    "    patch.set_alpha(0)\n",
    "for patch in (bplot['caps']):\n",
    "    patch.set_alpha(0)\n",
    "for patch in (bplot['fliers']):\n",
    "    patch.set_alpha(0)\n",
    "\n",
    "for patch,color in zip(bplot['medians'],colors):\n",
    "    patch.set_color(color)\n",
    "    patch.set_linewidth(2)\n",
    "    patch.set_alpha(0)\n",
    "\n",
    "#ax.set_ylim((-300,800))\n",
    "#ax.hlines(0, 0,3, linestyles='--', alpha=0.6)\n",
    "ax.set_xticks(indices)\n",
    "ax.set_xticklabels(('DI', 'DN'))\n",
    "ax.set_title(\"BIC values for DI and DN\")\n",
    "# plt.legend()\n",
    "simpleaxis(ax)\n",
    "print(ss.ttest_rel(lin_bic, dn_bic))\n",
    "fig.set_figwidth(3)\n",
    "fig.set_figheight(3)\n",
    "\n",
    "y, h, col = np.max(lin_bic), 100, 'k'\n",
    "plt.plot([1,1, 2, 2], [y, y+h, y+h, y], lw=1.5, c=col)\n",
    "plt.text((1+2)*.5, y+h, \"***\", ha='center', va='bottom', color=col)\n",
    "\n",
    "# dump(fig,file('figures/fig4/4d.pkl','wb'))\n",
    "# plt.savefig('figures/fig4/4d.svg')\n",
    "plt.show()"
   ]
  },
  {
   "cell_type": "code",
   "execution_count": 391,
   "metadata": {},
   "outputs": [
    {
     "data": {
      "text/plain": [
       "(74.69740110090595, 33.32736633952142)"
      ]
     },
     "execution_count": 391,
     "metadata": {},
     "output_type": "execute_result"
    }
   ],
   "source": [
    "np.mean(lin_bic), np.mean(dn_bic)"
   ]
  },
  {
   "cell_type": "code",
   "execution_count": 392,
   "metadata": {},
   "outputs": [],
   "source": [
    "divisor = np.array([a**2 + b**2 for a,b in zip(lin_bic,dn_bic)])\n",
    "diff_models = (np.array(lin_bic)-np.array(dn_bic))"
   ]
  },
  {
   "cell_type": "code",
   "execution_count": 393,
   "metadata": {},
   "outputs": [
    {
     "name": "stdout",
     "output_type": "stream",
     "text": [
      "27\n"
     ]
    },
    {
     "data": {
      "image/png": "[encoded data removed]",
      "text/plain": [
       "<matplotlib.figure.Figure at 0x7f82c9d3f4d0>"
      ]
     },
     "metadata": {},
     "output_type": "display_data"
    }
   ],
   "source": [
    "print (len(diff_models))\n",
    "fig, ax = plt.subplots()\n",
    "bins = np.linspace(-100,300,9)\n",
    "ax.hist(diff_models,bins=bins)\n",
    "ax.vlines(0,0,15,'r','--')\n",
    "ax.set_xlabel(\"DI - DN\")\n",
    "ax.set_ylabel(\"# neurons\")\n",
    "simpleaxis(ax)\n",
    "left, bottom, width, height = [0.7, 0.4, 0.2, 0.4]\n",
    "ax2 = fig.add_axes([left, bottom, width, height])\n",
    "simpleaxis(ax2)\n",
    "indices = [1,2]\n",
    "for ind, (l,d) in enumerate(zip(lin_bic, dn_bic)):\n",
    "    ax2.plot(indices, [l,d], 'o-', color='0.5', alpha=0.4, markerfacecolor='white', markersize=3)\n",
    "ax2.set_xlim(0.8,2.2)\n",
    "y, h, col = np.max(lin_bic), 100, 'k'\n",
    "ax2.set_xticks(indices)\n",
    "ax2.set_xticklabels(('DI', 'DN'))\n",
    "ax2.set_yticks([-500,0,500])\n",
    "ax2.set_ylabel('BIC')\n",
    "mf = matplotlib.ticker.ScalarFormatter(useMathText=True)\n",
    "mf.set_powerlimits((0,0))\n",
    "ax2.yaxis.set_major_formatter(mf)\n",
    "ax2.plot([1,1, 2, 2], [y, y+h, y+h, y], lw=1.5, c=col)\n",
    "ax2.text((1+2)*.5, y+h, \"***\", fontsize=12 , ha='center', va='bottom', color=col)\n",
    "ax.set_title('BIC')\n",
    "fig.set_figwidth(2)\n",
    "fig.set_figheight(2)\n",
    "fig.tight_layout()\n",
    "dump(fig,file('figures/fig4/4d.pkl','wb'))\n",
    "plt.savefig('figures/fig4/4d.svg')\n",
    "# ax.set_xlim(0,3)\n",
    "plt.show()"
   ]
  },
  {
   "cell_type": "markdown",
   "metadata": {},
   "source": [
    "## 4 E (DN Fit parameter gamma)"
   ]
  },
  {
   "cell_type": "code",
   "execution_count": 394,
   "metadata": {
    "scrolled": false
   },
   "outputs": [
    {
     "data": {
      "image/png": "[encoded data removed]",
      "text/plain": [
       "<matplotlib.figure.Figure at 0x7f82c9bc1ad0>"
      ]
     },
     "metadata": {},
     "output_type": "display_data"
    },
    {
     "data": {
      "image/png": "[encoded data removed]",
      "text/plain": [
       "<matplotlib.figure.Figure at 0x7f82ca39f9d0>"
      ]
     },
     "metadata": {},
     "output_type": "display_data"
    }
   ],
   "source": [
    "fig, ax = plt.subplots()\n",
    "bins = 18\n",
    "ax.hist(gamma, color='purple',bins=bins)\n",
    "# ax.set_xlim(-1,2)\n",
    "ax.set_xlabel(\"$\\\\gamma$\")\n",
    "ax.set_ylabel(\"# neurons\")\n",
    "ax.set_title(\"Distribution of fit parameter $\\\\gamma$\")\n",
    "ax.set_xticks([0,20,40])\n",
    "simpleaxis(ax)\n",
    "fig.set_figwidth(1.7)\n",
    "fig.set_figheight(1.7)\n",
    "dump(fig,file('figures/fig4/4e1.pkl','wb'))\n",
    "plt.show()\n",
    "\n",
    "# bins = np.linspace(0,3,20)\n",
    "# fig, ax = plt.subplots()\n",
    "# ax.hist(delta, color='green', bins=bins)\n",
    "# ax.set_xlabel(\"$\\\\beta$ (DN)\", fontsize=18)\n",
    "# ax.set_ylabel(\"# neurons\", fontsize=18)\n",
    "# ax.set_title(\"Distribution of fit parameter $\\\\beta$\", fontsize=18)\n",
    "# simpleaxis(ax)\n",
    "# fig.set_figwidth(2)\n",
    "# fig.set_figheight(2)\n",
    "# ax.set_xlim(0,3)\n",
    "# dump(fig,file('figures/fig4/4e2.pkl','wb'))\n",
    "# plt.show()\n",
    "\n",
    "\n",
    "bins = np.linspace(0,1,10)\n",
    "fig, ax = plt.subplots()\n",
    "ax.hist(beta, color='green', bins=bins)\n",
    "ax.set_xlabel(\"$\\\\beta$\")\n",
    "ax.set_ylabel(\"# neurons\")\n",
    "ax.set_title(\"Distribution of fit parameter $\\\\beta$\")\n",
    "simpleaxis(ax)\n",
    "fig.set_figwidth(1.7)\n",
    "fig.set_figheight(1.7)\n",
    "ax.set_xlim(0,1)\n",
    "dump(fig,file('figures/fig4/4e3.pkl','wb'))\n",
    "plt.show()"
   ]
  },
  {
   "cell_type": "code",
   "execution_count": 107,
   "metadata": {},
   "outputs": [
    {
     "data": {
      "text/plain": [
       "(100.0, 0.523811593502609)"
      ]
     },
     "execution_count": 107,
     "metadata": {},
     "output_type": "execute_result"
    }
   ],
   "source": [
    "np.median(gamma), np.median(beta)"
   ]
  },
  {
   "cell_type": "code",
   "execution_count": 108,
   "metadata": {},
   "outputs": [
    {
     "data": {
      "image/png": "[encoded data removed]",
      "text/plain": [
       "<matplotlib.figure.Figure at 0x7f285c1063d0>"
      ]
     },
     "metadata": {},
     "output_type": "display_data"
    },
    {
     "data": {
      "image/png": "[encoded data removed]",
      "text/plain": [
       "<matplotlib.figure.Figure at 0x7f285c113590>"
      ]
     },
     "metadata": {},
     "output_type": "display_data"
    },
    {
     "data": {
      "image/png": "[encoded data removed]",
      "text/plain": [
       "<matplotlib.figure.Figure at 0x7f285c009e90>"
      ]
     },
     "metadata": {},
     "output_type": "display_data"
    },
    {
     "data": {
      "image/png": "[encoded data removed]",
      "text/plain": [
       "<matplotlib.figure.Figure at 0x7f285c3af8d0>"
      ]
     },
     "metadata": {},
     "output_type": "display_data"
    }
   ],
   "source": [
    "fig, ax = plt.subplots()\n",
    "# ax.plot(gamma, c='purple')\n",
    "ax.plot(delta, c='green')\n",
    "ax.plot(beta, '--', c='green')\n",
    "ax.set_xlabel(\"Index\")\n",
    "ax.set_ylabel(\"Par value\")\n",
    "plt.show()\n",
    "fig, ax = plt.subplots()\n",
    "ax.plot(gamma, c='purple')\n",
    "ax.set_xlabel(\"Index\")\n",
    "ax.set_ylabel(\"Par value\")\n",
    "plt.show()\n",
    "\n",
    "fig, ax = plt.subplots()\n",
    "# ax.plot(gamma, c='purple')\n",
    "ax.plot(lin_chi, '--', c='green')\n",
    "ax.plot(dn_chi,  c='green')\n",
    "ax.set_xlabel(\"Index\")\n",
    "ax.set_ylabel(\"Par value\")\n",
    "plt.show()\n",
    "fig, ax = plt.subplots()\n",
    "# ax.plot(gamma, c='purple')\n",
    "ax.plot(lin_bic, '--', c='green')\n",
    "ax.plot(dn_bic,  c='green')\n",
    "ax.set_xlabel(\"Index\")\n",
    "ax.set_ylabel(\"Par value\")\n",
    "plt.show()"
   ]
  },
  {
   "cell_type": "code",
   "execution_count": null,
   "metadata": {
    "collapsed": true
   },
   "outputs": [],
   "source": [
    "## Not using"
   ]
  },
  {
   "cell_type": "code",
   "execution_count": null,
   "metadata": {
    "collapsed": true
   },
   "outputs": [],
   "source": [
    "# fig, ax = plt.subplots()\n",
    "# bins = 15\n",
    "# ax.hist(beta, bins=bins, label=\"$\\\\beta$\")\n",
    "# plt.legend()\n",
    "# fig.set_figheight(8)\n",
    "# fig.set_figwidth(8)\n",
    "# plt.show()"
   ]
  },
  {
   "cell_type": "code",
   "execution_count": null,
   "metadata": {
    "collapsed": true
   },
   "outputs": [],
   "source": [
    "# lin_aic = []\n",
    "# dn_aic = []\n",
    "# lin_chi = []\n",
    "# dn_chi = []\n",
    "\n",
    "# control_observed = {}\n",
    "# control_observed_average = {}\n",
    "# gabazine_observed ={}\n",
    "# gabazine_observed_average = {}\n",
    "# control_expected = {}\n",
    "# control_expected_average = {}\n",
    "# gabazine_expected ={}\n",
    "# gabazine_expected_average = {}\n",
    "# feature = 0\n",
    "\n",
    "# neuron = Neuron.load(filename)\n",
    "# for expt in neuron.experiment:\n",
    "#     print (\"Starting expt {}\".format(expt))\n",
    "#     for numSquares in neuron.experiment[expt].keys(): \n",
    "#         print (\"Square {}\".format(numSquares))\n",
    "#         if not numSquares == 1:\n",
    "#             nSquareData = neuron.experiment[expt][numSquares]\n",
    "#             if expt == \"Control\":\n",
    "#                 coords_C = nSquareData.coordwise\n",
    "#                 for coord in coords_C: \n",
    "#                     if feature in coords_C[coord].feature:\n",
    "#                         control_observed_average.update({coord: coords_C[coord].average_feature[feature]})\n",
    "#                         control_expected_average.update({coord: coords_C[coord].expected_feature[feature]})\n",
    "#                         control_observed.update({coord: []})\n",
    "#                         control_expected.update({coord: []})\n",
    "#                         for trial in coords_C[coord].trials:\n",
    "#                             if feature in trial.feature:\n",
    "#                                 control_observed[coord].append(trial.feature[feature])\n",
    "#                                 control_expected[coord].append(coords_C[coord].expected_feature[feature])\n",
    "#             elif expt == \"GABAzine\":\n",
    "#                 coords_I = nSquareData.coordwise\n",
    "#                 for coord in coords_I: \n",
    "#                     if feature in coords_I[coord].feature:\n",
    "#                         gabazine_observed.update({coord: []})\n",
    "#                         gabazine_expected.update({coord: []})\n",
    "#                         gabazine_observed_average.update({coord: coords_I[coord].average_feature[feature]})\n",
    "#                         gabazine_expected_average.update({coord: coords_I[coord].expected_feature[feature]})\n",
    "\n",
    "#                         for trial in coords_I[coord].trials:\n",
    "#                             if feature in trial.feature:\n",
    "#                                 gabazine_observed[coord].append(trial.feature[feature])\n",
    "#                                 gabazine_expected[coord].append(coords_I[coord].expected_feature[feature])\n",
    "# print (\"Read {} into variables\".format(filename))"
   ]
  }
 ],
 "metadata": {
  "hide_input": false,
  "kernelspec": {
   "display_name": "Python 2",
   "language": "python",
   "name": "python2"
  },
  "language_info": {
   "codemirror_mode": {
    "name": "ipython",
    "version": 2
   },
   "file_extension": ".py",
   "mimetype": "text/x-python",
   "name": "python",
   "nbconvert_exporter": "python",
   "pygments_lexer": "ipython2",
   "version": "2.7.12"
  },
  "latex_envs": {
   "LaTeX_envs_menu_present": true,
   "autocomplete": true,
   "bibliofile": "biblio.bib",
   "cite_by": "apalike",
   "current_citInitial": 1,
   "eqLabelWithNumbers": true,
   "eqNumInitial": 1,
   "hotkeys": {
    "equation": "Ctrl-E",
    "itemize": "Ctrl-I"
   },
   "labels_anchors": false,
   "latex_user_defs": false,
   "report_style_numbering": false,
   "user_envs_cfg": false
  },
  "toc": {
   "colors": {
    "hover_highlight": "#DAA520",
    "navigate_num": "#000000",
    "navigate_text": "#333333",
    "running_highlight": "#FF0000",
    "selected_highlight": "#FFD700",
    "sidebar_border": "#EEEEEE",
    "wrapper_background": "#FFFFFF"
   },
   "moveMenuLeft": false,
   "nav_menu": {
    "height": "12px",
    "width": "252px"
   },
   "navigate_menu": true,
   "number_sections": true,
   "sideBar": true,
   "threshold": 4,
   "toc_cell": false,
   "toc_position": {
    "height": "520px",
    "left": "0px",
    "right": "1068px",
    "top": "106px",
    "width": "212px"
   },
   "toc_section_display": "block",
   "toc_window_display": true,
   "widenNotebook": false
  },
  "varInspector": {
   "cols": {
    "lenName": 16,
    "lenType": 16,
    "lenVar": 40
   },
   "kernels_config": {
    "python": {
     "delete_cmd_postfix": "",
     "delete_cmd_prefix": "del ",
     "library": "var_list.py",
     "varRefreshCmd": "print(var_dic_list())"
    },
    "r": {
     "delete_cmd_postfix": ") ",
     "delete_cmd_prefix": "rm(",
     "library": "var_list.r",
     "varRefreshCmd": "cat(var_dic_list()) "
    }
   },
   "types_to_exclude": [
    "module",
    "function",
    "builtin_function_or_method",
    "instance",
    "_Feature"
   ],
   "window_display": false
  }
 },
 "nbformat": 4,
 "nbformat_minor": 2
}
