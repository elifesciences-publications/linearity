{
 "cells": [
  {
   "cell_type": "code",
   "execution_count": 1,
   "metadata": {
    "collapsed": true
   },
   "outputs": [],
   "source": [
    "import glob\n",
    "import matplotlib\n",
    "import matplotlib.pyplot as plt\n",
    "import pickle\n",
    "import lmfit\n",
    "import numpy as np\n",
    "import scipy.stats as ss\n",
    "plt.style.use('seaborn-white')\n",
    "import statsmodels.api as sm\n",
    "from statsmodels.sandbox.regression.predstd import wls_prediction_std\n",
    "from statsmodels.formula.api import ols, rlm\n",
    "import sys\n",
    "sys.path.append('../')\n",
    "from Linearity import Neuron"
   ]
  },
  {
   "cell_type": "code",
   "execution_count": 2,
   "metadata": {
    "collapsed": true
   },
   "outputs": [],
   "source": [
    "#Colorscheme for squares\n",
    "color_sqr = { index+1: color for index, color in enumerate(matplotlib.cm.viridis(np.linspace(0,1,9)))}"
   ]
  },
  {
   "cell_type": "code",
   "execution_count": 3,
   "metadata": {
    "collapsed": true
   },
   "outputs": [],
   "source": [
    "currentClampFiles = '/media/sahil/NCBS_Shares_BGStim/patch_data/current_clamp_files_with_GABAzine.txt'\n",
    "with open (currentClampFiles,'r') as r:\n",
    "    dirnames = r.read().splitlines()"
   ]
  },
  {
   "cell_type": "code",
   "execution_count": 4,
   "metadata": {
    "collapsed": true
   },
   "outputs": [],
   "source": [
    "feature = 0\n",
    "scalingFactor = 1e9\n",
    "neurons = {}\n",
    "for dirname in dirnames:\n",
    "    cellIndex = dirname.split('/')[-2]\n",
    "    filename = dirname + 'plots/' + cellIndex + '.pkl'\n",
    "    n = Neuron.load(filename)\n",
    "    neurons[str(n.date) + '_' + str(n.index)] = n"
   ]
  },
  {
   "cell_type": "code",
   "execution_count": 5,
   "metadata": {
    "collapsed": true
   },
   "outputs": [],
   "source": [
    "control_result2_rsquared_adj = []\n",
    "control_result1_rsquared_adj = []\n",
    "control_var_expected = []\n",
    "gabazine_result2_rsquared_adj = []\n",
    "gabazine_result1_rsquared_adj = []\n",
    "gabazine_var_expected = []\n",
    "tolerance = 5e-4"
   ]
  },
  {
   "cell_type": "code",
   "execution_count": 43,
   "metadata": {
    "collapsed": true
   },
   "outputs": [],
   "source": [
    "def simpleaxis(axes, every=False, outward=True):\n",
    "    if not isinstance(axes, (list, np.ndarray)):\n",
    "        axes = [axes]\n",
    "    for ax in axes:\n",
    "        ax.spines['top'].set_visible(False)\n",
    "        ax.spines['right'].set_visible(False)\n",
    "        if (outward):\n",
    "            ax.spines['bottom'].set_position(('outward', 10))\n",
    "            ax.spines['left'].set_position(('outward', 10))\n",
    "        if every:\n",
    "            ax.spines['bottom'].set_visible(False)\n",
    "            ax.spines['left'].set_visible(False)\n",
    "        ax.get_xaxis().tick_bottom()\n",
    "        ax.get_yaxis().tick_left()\n",
    "        ax.set_title('')"
   ]
  },
  {
   "cell_type": "code",
   "execution_count": 7,
   "metadata": {
    "collapsed": true
   },
   "outputs": [],
   "source": [
    "def linearModel(x, beta=1):\n",
    "    # Linear model\n",
    "    return (beta*x)\n",
    "\n",
    "def DN_model(x, beta=100, gamma=100):\n",
    "    # Divisive normalization model\n",
    "    #return x - a*(x**2)/(b+x)\n",
    "    return ((x**2)*(1-beta) + (gamma*x))/(x+gamma)"
   ]
  },
  {
   "cell_type": "code",
   "execution_count": 47,
   "metadata": {
    "collapsed": true
   },
   "outputs": [],
   "source": [
    "lin_aic = []\n",
    "dn_aic = []\n",
    "lin_chi = []\n",
    "dn_chi = []\n",
    "\n",
    "control_observed = {}\n",
    "control_observed_average = {}\n",
    "gabazine_observed ={}\n",
    "gabazine_observed_average = {}\n",
    "control_expected = {}\n",
    "control_expected_average = {}\n",
    "gabazine_expected ={}\n",
    "gabazine_expected_average = {}\n",
    "feature = 0\n",
    "\n",
    "neuron = neurons['161013_c1']"
   ]
  },
  {
   "cell_type": "code",
   "execution_count": 48,
   "metadata": {
    "collapsed": true
   },
   "outputs": [],
   "source": [
    "# neuron.features"
   ]
  },
  {
   "cell_type": "markdown",
   "metadata": {},
   "source": [
    "## 5 A (GABAzine treatment abolishes divisive normalization)"
   ]
  },
  {
   "cell_type": "code",
   "execution_count": 53,
   "metadata": {
    "collapsed": true,
    "scrolled": false
   },
   "outputs": [],
   "source": [
    "feature = 0\n",
    "expected, observed, g_expected, g_observed = {}, {}, {}, {}\n",
    "for expType, exp in neuron:\n",
    "    ## Control case\n",
    "    if expType == \"Control\":\n",
    "        for sqr in exp:\n",
    "                if sqr > 1:\n",
    "                    expected[sqr] = []\n",
    "                    observed[sqr] = []\n",
    "                    for coord in exp[sqr].coordwise:\n",
    "                        for trial in exp[sqr].coordwise[coord].trials:\n",
    "                            if all([value == 0 for value in trial.flags.values()]):\n",
    "                                expected[sqr].append(exp[sqr].coordwise[coord].expected_feature[feature])\n",
    "                                observed[sqr].append(trial.feature[feature])\n",
    "    ## Gabazine case\n",
    "    if(expType == \"GABAzine\"):\n",
    "        for sqr in exp:\n",
    "            if sqr > 1:\n",
    "                g_expected[sqr] = []\n",
    "                g_observed[sqr] = []\n",
    "                for coord in exp[sqr].coordwise:\n",
    "                    for trial in exp[sqr].coordwise[coord].trials:\n",
    "                        if all([value == 0 for value in trial.flags.values()]):\n",
    "                            g_expected[sqr].append(exp[sqr].coordwise[coord].expected_feature[feature])\n",
    "                            g_observed[sqr].append(trial.feature[feature])"
   ]
  },
  {
   "cell_type": "code",
   "execution_count": 81,
   "metadata": {
    "scrolled": false
   },
   "outputs": [
    {
     "data": {
      "image/png": "[encoded data removed]",
      "text/plain": [
       "<matplotlib.figure.Figure at 0x7fdb2e850850>"
      ]
     },
     "metadata": {},
     "output_type": "display_data"
    }
   ],
   "source": [
    "f, ax = plt.subplots(1,2, sharey=True)\n",
    "\n",
    "## Control stuff\n",
    "squareVal = []\n",
    "list_control_expected = []\n",
    "list_control_observed = []\n",
    "\n",
    "max_exp, max_g_exp = 0.,0.\n",
    "for sqr in sorted(observed):\n",
    "    squareVal.append(ax[0].scatter(expected[sqr], observed[sqr], label=str(sqr), c=color_sqr[sqr], alpha=0.8, s=8))\n",
    "    max_exp = max(max_exp, max(expected[sqr]))\n",
    "    list_control_expected += expected[sqr]\n",
    "    list_control_observed += observed[sqr]\n",
    "    \n",
    "X = np.array(list_control_expected)\n",
    "y = np.array(list_control_observed)\n",
    "idx   = np.argsort(X)\n",
    "X = X[idx]\n",
    "y = y[idx]\n",
    "\n",
    "linear_Model = lmfit.Model(linearModel)\n",
    "DN_Model = lmfit.Model(DN_model)\n",
    "\n",
    "lin_pars = linear_Model.make_params()\n",
    "lin_result = linear_Model.fit(y, lin_pars, x=X)\n",
    "lin_aic.append(lin_result.aic)\n",
    "lin_chi.append(lin_result.redchi)\n",
    "\n",
    "DN_pars = DN_Model.make_params()\n",
    "DN_result = DN_Model.fit(y, DN_pars, x=X)\n",
    "dn_aic.append(DN_result.aic)\n",
    "dn_chi.append(DN_result.redchi)\n",
    "\n",
    "# print (lin_result.fit_report())\n",
    "# print (DN_result.fit_report())\n",
    "\n",
    "ax[0].set_xlim(xmin=0.)\n",
    "ax[0].set_ylim(ymin=0.)\n",
    "ax[0].set_xlabel(\"Expected\")\n",
    "ax[0].set_ylabel(\"Observed\")\n",
    "ax[0].set_title(\"Divisive Normalization fits\")\n",
    "div_norm = ax[0].plot(X, DN_result.best_fit, '-')\n",
    "\n",
    "\n",
    "max_exp *=1.1\n",
    "max_g_exp *=1.1\n",
    "ax[0].set_xlim(0,max_exp)\n",
    "ax[0].set_ylim(0,max_exp)\n",
    "ax[0].set_xlabel(\"Expected Sum (mV)\")\n",
    "ax[0].set_ylabel(\"Observed Sum (mV)\")\n",
    "linear = ax[0].plot((0,max_exp), (0,max_exp), 'r--')\n",
    "\n",
    "legends = div_norm\n",
    "labels = [ \"$\\\\beta={:.2f}$ \\n $ \\\\gamma={:.2f}$\".format(DN_result.params['beta'].value, DN_result.params['gamma'].value)]\n",
    "ax[0].legend(legends, labels)\n",
    "\n",
    "\n",
    "### GABAzine stuff \n",
    "squareVal = []\n",
    "list_gabazine_expected = []\n",
    "list_gabazine_observed = []\n",
    "\n",
    "max_exp, max_g_exp = 0.,0.\n",
    "for sqr in sorted(g_observed):\n",
    "    squareVal.append(ax[1].scatter(g_expected[sqr], g_observed[sqr], label=str(sqr), c=color_sqr[sqr], alpha=0.8, s=8))\n",
    "    max_exp = max(max_exp, max(g_expected[sqr]))\n",
    "    list_gabazine_expected += g_expected[sqr]\n",
    "    list_gabazine_observed += g_observed[sqr]\n",
    "    \n",
    "X = np.array(list_gabazine_expected)\n",
    "y = np.array(list_gabazine_observed)\n",
    "idx   = np.argsort(X)\n",
    "X = X[idx]\n",
    "y = y[idx]\n",
    "\n",
    "linear_Model = lmfit.Model(linearModel)\n",
    "DN_Model = lmfit.Model(DN_model)\n",
    "\n",
    "lin_pars = linear_Model.make_params()\n",
    "lin_result = linear_Model.fit(y, lin_pars, x=X)\n",
    "lin_aic.append(lin_result.aic)\n",
    "lin_chi.append(lin_result.redchi)\n",
    "\n",
    "DN_pars = DN_Model.make_params()\n",
    "DN_result = DN_Model.fit(y, DN_pars, x=X)\n",
    "dn_aic.append(DN_result.aic)\n",
    "dn_chi.append(DN_result.redchi)\n",
    "\n",
    "# print (lin_result.fit_report())\n",
    "# print (DN_result.fit_report())\n",
    "\n",
    "ax[1].set_xlim(xmin=0.)\n",
    "ax[1].set_ylim(ymin=0.)\n",
    "ax[1].set_title(\"Divisive Normalization fits\")\n",
    "div_norm = ax[1].plot(X, DN_result.best_fit, '-')\n",
    "\n",
    "\n",
    "max_exp *=1.1\n",
    "max_g_exp *=1.1\n",
    "ax[1].set_xlim(0,max_exp)\n",
    "ax[1].set_ylim(0,max_exp)\n",
    "ax[1].set_xlabel(\"Expected Sum (mV)\")\n",
    "# ax[1].set_ylabel(\"Observed Sum (mV)\")\n",
    "linear = ax[1].plot((0,max_exp), (0,max_exp), 'r--')\n",
    "\n",
    "legends = div_norm\n",
    "labels = [ \"$\\\\beta={:.2f}$ \\n $\\\\gamma={:.2f}$\".format(DN_result.params['beta'].value, DN_result.params['gamma'].value)]\n",
    "ax[1].legend(legends, labels)\n",
    "ax[1].yaxis.set_visible(False)\n",
    "simpleaxis(ax)\n",
    "f.set_figwidth(4)\n",
    "f.set_figheight(2)\n",
    "plt.show()"
   ]
  },
  {
   "cell_type": "markdown",
   "metadata": {
    "collapsed": true
   },
   "source": [
    "## 5 C Gabazine - Control responses are still balanced"
   ]
  },
  {
   "cell_type": "code",
   "execution_count": 51,
   "metadata": {
    "collapsed": true
   },
   "outputs": [],
   "source": [
    "feature = 0\n",
    "#expected, observed, g_expected, g_observed = {}, {}, {}, {}\n",
    "control, gabazine = {}, {}\n",
    "for expType, exp in neuron:\n",
    "    ## Control case\n",
    "    if(expType == \"Control\"):\n",
    "        for sqr in exp:\n",
    "            if sqr > 1:\n",
    "                expected[sqr] = []\n",
    "                observed[sqr] = []\n",
    "                for coord in exp[sqr].coordwise:\n",
    "                    if all([value == 0 for value in exp[sqr].coordwise[coord].flags.values()]):\n",
    "                        control[sqr] = exp[sqr]\n",
    "    ## Gabazine case\n",
    "    if(expType == \"GABAzine\"):\n",
    "        for sqr in exp:\n",
    "            if sqr > 1:\n",
    "                g_expected[sqr] = []\n",
    "                g_observed[sqr] = []\n",
    "                for coord in exp[sqr].coordwise:\n",
    "                    if all([value == 0 for value in exp[sqr].coordwise[coord].flags.values()]):\n",
    "                        gabazine[sqr] = exp[sqr]\n",
    "\n",
    "derived_inh, exc = {}, {}\n",
    "for sq in set(control).intersection(set(gabazine)):\n",
    "    derived_inh[sq] = []\n",
    "    exc[sq] = []\n",
    "    for coord in set(control[sq].coordwise).intersection(set(gabazine[sq].coordwise)):\n",
    "        derived_inh[sq].append(gabazine[sq].coordwise[coord].average_feature[feature] - control[sq].coordwise[coord].average_feature[feature])\n",
    "        exc[sq].append(gabazine[sq].coordwise[coord].average_feature[feature])"
   ]
  },
  {
   "cell_type": "code",
   "execution_count": 38,
   "metadata": {},
   "outputs": [
    {
     "data": {
      "image/png": "[encoded data removed]",
      "text/plain": [
       "<matplotlib.figure.Figure at 0x7fdb3b2ad610>"
      ]
     },
     "metadata": {},
     "output_type": "display_data"
    }
   ],
   "source": [
    "### Derived Inh\n",
    "squareVal = []\n",
    "list_exc = []\n",
    "list_inh = []\n",
    "f, ax = plt.subplots()\n",
    "max_exp, max_g_exp = 0.,0.\n",
    "for sqr in sorted(derived_inh):\n",
    "    squareVal.append(ax.scatter(exc[sqr], derived_inh[sqr], label=str(sqr), c=color_sqr[sqr], s=10))\n",
    "    max_exp = max(max_exp, max(exc[sqr]))\n",
    "    \n",
    "max_exp *=1.1\n",
    "max_g_exp *=1.1\n",
    "ax.set_xlim(0,max_exp)\n",
    "ax.set_ylim(0,max_exp)\n",
    "ax.set_xlabel(\"Excitation (mV)\")\n",
    "ax.set_ylabel(\"Derived Inhibition (mV)\")\n",
    "linear = ax.plot((0,max_exp), (0,max_exp), 'r--')\n",
    "\n",
    "legends = squareVal + linear\n",
    "labels = sorted(observed.keys()) + [ \"Linear sum\"]\n",
    "# ax.legend(legends, labels)\n",
    "\n",
    "f.set_figwidth(2)\n",
    "f.set_figheight(2)\n",
    "simpleaxis(ax)\n",
    "plt.show()"
   ]
  },
  {
   "cell_type": "markdown",
   "metadata": {},
   "source": [
    "## 5 D (Comparing Gabazine and Control DN fit parameters) : 3 neurons have an error. Check what's happening"
   ]
  },
  {
   "cell_type": "code",
   "execution_count": 28,
   "metadata": {},
   "outputs": [
    {
     "data": {
      "text/plain": [
       "<Linearity.Neuron instance at 0x7fdb40a505a8>"
      ]
     },
     "execution_count": 28,
     "metadata": {},
     "output_type": "execute_result"
    }
   ],
   "source": [
    "neurons.pop('161027_c3', None)\n",
    "neurons.pop('160817_c4', None)\n",
    "neurons.pop('160927_c5', None)"
   ]
  },
  {
   "cell_type": "code",
   "execution_count": 29,
   "metadata": {
    "collapsed": true
   },
   "outputs": [],
   "source": [
    "feature = 0\n",
    "DN_Control = []\n",
    "DN_GABAzine = []\n",
    "\n",
    "for index in neurons:\n",
    "#     print (index)\n",
    "    neuron = neurons[index]\n",
    "    expected, observed, g_expected, g_observed = {}, {}, {}, {}\n",
    "    for expType, exp in neuron:\n",
    "        ## Control case\n",
    "        if expType == \"Control\":\n",
    "            for sqr in exp:\n",
    "                    if sqr > 1:\n",
    "                        expected[sqr] = []\n",
    "                        observed[sqr] = []\n",
    "                        for coord in exp[sqr].coordwise:\n",
    "                            for trial in exp[sqr].coordwise[coord].trials:\n",
    "                                if all([value == 0 for value in trial.flags.values()]):\n",
    "                                    expected[sqr].append(exp[sqr].coordwise[coord].expected_feature[feature])\n",
    "                                    observed[sqr].append(trial.feature[feature])\n",
    "        ## Gabazine case\n",
    "        if(expType == \"GABAzine\"):\n",
    "            for sqr in exp:\n",
    "                if sqr > 1:\n",
    "                    g_expected[sqr] = []\n",
    "                    g_observed[sqr] = []\n",
    "                    for coord in exp[sqr].coordwise:\n",
    "                        for trial in exp[sqr].coordwise[coord].trials:\n",
    "                            if all([value == 0 for value in trial.flags.values()]):\n",
    "                                g_expected[sqr].append(exp[sqr].coordwise[coord].expected_feature[feature])\n",
    "                                g_observed[sqr].append(trial.feature[feature])\n",
    "       \n",
    "    ## Control stuff\n",
    "    squareVal = []\n",
    "    list_control_expected = []\n",
    "    list_control_observed = []\n",
    "\n",
    "    max_exp, max_g_exp = 0.,0.\n",
    "    for sqr in sorted(observed):\n",
    "        list_control_expected += expected[sqr]\n",
    "        list_control_observed += observed[sqr]\n",
    "\n",
    "    X = np.array(list_control_expected)\n",
    "    y = np.array(list_control_observed)\n",
    "    idx   = np.argsort(X)\n",
    "    X = X[idx]\n",
    "    y = y[idx]\n",
    "\n",
    "    DN_Model = lmfit.Model(DN_model)\n",
    "    DN_pars = DN_Model.make_params()\n",
    "    DN_result = DN_Model.fit(y, DN_pars, x=X)   \n",
    "    DN_Control.append((DN_result.params['beta'], DN_result.params['gamma'], DN_result.redchi))\n",
    "\n",
    "    ### GABAzine stuff \n",
    "    squareVal = []\n",
    "    list_gabazine_expected = []\n",
    "    list_gabazine_observed = []\n",
    "    \n",
    "    del DN_Model\n",
    "    \n",
    "    max_exp, max_g_exp = 0.,0.\n",
    "    for sqr in sorted(g_observed):\n",
    "        list_gabazine_expected += g_expected[sqr]\n",
    "        list_gabazine_observed += g_observed[sqr]\n",
    "\n",
    "    X = np.array(list_gabazine_expected)\n",
    "    y = np.array(list_gabazine_observed)\n",
    "    idx   = np.argsort(X)\n",
    "    X = X[idx]\n",
    "    y = y[idx]\n",
    "\n",
    "    DN_Model = lmfit.Model(DN_model)\n",
    "    DN_pars = DN_Model.make_params()\n",
    "    DN_result = DN_Model.fit(y, DN_pars, x=X)\n",
    "    DN_GABAzine.append((DN_result.params['beta'], DN_result.params['gamma'],DN_result.redchi))"
   ]
  },
  {
   "cell_type": "code",
   "execution_count": 93,
   "metadata": {},
   "outputs": [
    {
     "data": {
      "image/png": "[encoded data removed]",
      "text/plain": [
       "<matplotlib.figure.Figure at 0x7fdb2e9f0b50>"
      ]
     },
     "metadata": {},
     "output_type": "display_data"
    }
   ],
   "source": [
    "fig, ax = plt.subplots(1, 2)\n",
    "dn_beta, dn_gamma, dn_chi = map(list, zip(*DN_Control))\n",
    "gaba_beta, gaba_gamma, gaba_chi = map(list, zip(*DN_GABAzine))\n",
    "ax[0].scatter(dn_beta, gaba_beta)\n",
    "ax[1].scatter(dn_gamma, gaba_gamma)\n",
    "\n",
    "# ax.plot([0,3],[0,3],'--')\n",
    "# ax.set_xlim(0,3)\n",
    "# ax.set_ylim(0,3)\n",
    "ax[0].set_xlabel(\"$\\\\beta$ Control\")\n",
    "ax[0].set_ylabel(\"$\\\\beta$ GABAzine\")\n",
    "ax[1].set_xlabel(\"$\\\\gamma$ Control\")\n",
    "ax[1].set_ylabel(\"$\\\\gamma$ GABAzine\")\n",
    "simpleaxis(ax)\n",
    "fig.set_figwidth(4)\n",
    "fig.set_figheight(2)\n",
    "fig.tight_layout()\n",
    "plt.show()"
   ]
  },
  {
   "cell_type": "code",
   "execution_count": 98,
   "metadata": {},
   "outputs": [
    {
     "data": {
      "image/png": "[encoded data removed]",
      "text/plain": [
       "<matplotlib.figure.Figure at 0x7fdb3c918a10>"
      ]
     },
     "metadata": {},
     "output_type": "display_data"
    }
   ],
   "source": [
    "fig, ax = plt.subplots()\n",
    "dn_beta, dn_gamma, gaba_beta, gaba_gamma = np.array(dn_beta), np.array(dn_gamma), np.array(gaba_beta), np.array(gaba_gamma)\n",
    "ax.scatter(1./dn_beta, dn_gamma/dn_beta, c='b', label=\"Control\")\n",
    "ax.scatter(1./gaba_beta, gaba_gamma/gaba_beta, c='orange', label=\"GABAzine\")\n",
    "# ax.set_xscale('log')\n",
    "# ax.set_yscale('log')\n",
    "# ax.set_xlim(0,20)\n",
    "# ax.set_ylim(0,20)\n",
    "ax.set_xlabel(\"$1/\\\\beta$\")\n",
    "ax.set_ylabel(\"$\\\\gamma/\\\\beta$\")\n",
    "simpleaxis(ax)\n",
    "fig.set_figheight(2)\n",
    "fig.set_figwidth(2)\n",
    "ax.legend(loc='best')\n",
    "plt.show()"
   ]
  },
  {
   "cell_type": "code",
   "execution_count": 89,
   "metadata": {
    "collapsed": true
   },
   "outputs": [],
   "source": [
    "# indices = [1,2]\n",
    "# fig, ax = plt.subplots()\n",
    "\n",
    "# for ind, (l,d) in enumerate(zip(gaba_chi, dn_chi)):\n",
    "#     ax.plot(indices, [l,d], 'o-', alpha=0.4, color='0.5', markerfacecolor='white')\n",
    "# # ax.violinplot([lin_chi,dn_chi], indices)\n",
    "\n",
    "# # notch shape box plot\n",
    "# bplot = ax.boxplot([gaba_chi,dn_chi],\n",
    "#                          notch=True,  # notch shape\n",
    "#                          vert=True,   # vertical box aligmnent\n",
    "#                          patch_artist=True)   # fill with color\n",
    "\n",
    "# colors = ['green', 'purple']\n",
    "# for patch, color in zip(bplot['boxes'], colors):\n",
    "#     patch.set_facecolor(color)\n",
    "\n",
    "# ax.hlines(1, 0,3, linestyles='--', alpha=0.6)\n",
    "# # ax.boxplot(, [1])\n",
    "\n",
    "# # ax.set_xlim((-1,2))\n",
    "# ax.set_ylim((-1,7))\n",
    "# ax.set_xticks(indices)\n",
    "# ax.set_xticklabels(('GABAzine', 'Control'))\n",
    "# ax.set_title(\"Reduced chi-square values for GABAzine and Control\")\n",
    "# simpleaxis(ax)\n",
    "\n",
    "# print(ss.ttest_rel(gaba_chi, dn_chi))\n",
    "\n",
    "# y, h, col = np.max(gaba_chi), 0.5, 'k'\n",
    "# plt.plot([1,1, 2, 2], [y, y+h, y+h, y], lw=1.5, c=col)\n",
    "# plt.text((1+2)*.5, y+h, \"***\", ha='center', va='bottom', color=col)\n",
    "\n",
    "# fig.set_figwidth(3)\n",
    "# fig.set_figheight(3)\n",
    "# plt.show()"
   ]
  },
  {
   "cell_type": "code",
   "execution_count": null,
   "metadata": {
    "collapsed": true
   },
   "outputs": [],
   "source": [
    "# f, ax = plt.subplots()\n",
    "# bins = np.linspace(0,1,15)\n",
    "# ax.hist(DN_Control,bins=bins,color='b')\n",
    "# ax.hist(DN_GABAzine,bins=bins,color='g')\n",
    "# plt.show()"
   ]
  },
  {
   "cell_type": "code",
   "execution_count": null,
   "metadata": {
    "collapsed": true
   },
   "outputs": [],
   "source": [
    "##  Stuff I'm not using."
   ]
  },
  {
   "cell_type": "code",
   "execution_count": null,
   "metadata": {
    "collapsed": true
   },
   "outputs": [],
   "source": [
    "# list_control_observed   = []  \n",
    "# list_gabazine_observed  = []\n",
    "# list_control_expected   = []\n",
    "# list_gabazine_expected  = []\n",
    "\n",
    "# if len(gabazine_observed):\n",
    "#     for key in gabazine_observed.keys():\n",
    "#         for element1, element2 in zip(gabazine_observed[key], gabazine_expected[key] ):\n",
    "#             if not (element1 <0 or np.isclose(element1, 0, atol=tolerance) or element2<0 or np.isclose(element2, 0, atol=tolerance)):\n",
    "#                 list_gabazine_observed.append(element1)\n",
    "#                 list_gabazine_expected.append(element2)\n",
    "\n",
    "# if len(control_observed):\n",
    "#     for key in control_observed.keys():\n",
    "#         for element1, element2 in zip(control_observed[key], control_expected[key] ):\n",
    "#             if not (element1 <0 or np.isclose(element1, 0, atol=tolerance) or element2<0 or np.isclose(element2, 0, atol=tolerance)):\n",
    "#                 list_control_observed.append(element1)\n",
    "#                 list_control_expected.append(element2)"
   ]
  },
  {
   "cell_type": "code",
   "execution_count": null,
   "metadata": {
    "collapsed": true
   },
   "outputs": [],
   "source": [
    "# minPoints = 10\n",
    "# minIQR = 3\n",
    "# if len(list_control_expected)>minPoints and len(list_control_observed)> minPoints and ss.iqr(list_control_expected)>minIQR:\n",
    "#     print (\"Control\")\n",
    "#     X = np.array(list_control_expected)\n",
    "#     y = np.array(list_control_observed)\n",
    "#     idx   = np.argsort(X)\n",
    "#     X = X[idx]\n",
    "#     y = y[idx]\n",
    "\n",
    "#     linear_Model = lmfit.Model(linearModel)\n",
    "#     DN_Model = lmfit.Model(DN_model)\n",
    "\n",
    "#     lin_pars = linear_Model.make_params()\n",
    "#     lin_result = linear_Model.fit(y, lin_pars, x=X)\n",
    "#     lin_aic.append(lin_result.aic)\n",
    "#     lin_chi.append(lin_result.redchi)\n",
    "\n",
    "#     DN_pars = DN_Model.make_params()\n",
    "#     DN_result = DN_Model.fit(y, DN_pars, x=X)\n",
    "#     dn_aic.append(DN_result.aic)\n",
    "#     dn_chi.append(DN_result.redchi)\n",
    "\n",
    "#     print (lin_result.fit_report())\n",
    "#     print (DN_result.fit_report())\n",
    "\n",
    "#     ax = plt.subplot(111)\n",
    "#     ax.scatter(X, y, alpha=0.2)\n",
    "#     ax.set_xlim(xmin=0.)\n",
    "#     ax.set_ylim(ymin=0.)\n",
    "#     ax.set_xlabel(\"Expected\")\n",
    "#     ax.set_ylabel(\"Observed\")\n",
    "#     ax.set_title(\"Divisive Normalization and Inhibition fits\")\n",
    "#     ax.plot(X, lin_result.best_fit, '-', label=\"Divisive Inhibition Model\")\n",
    "#     ax.plot(X, DN_result.best_fit, '-', label=\"Divisive Normalization Model\")\n",
    "#     plt.legend()\n",
    "#     plt.show()"
   ]
  },
  {
   "cell_type": "code",
   "execution_count": null,
   "metadata": {
    "collapsed": true,
    "scrolled": false
   },
   "outputs": [],
   "source": [
    "# if len(list_gabazine_expected)>minPoints and len(list_gabazine_observed)>minPoints and ss.iqr(list_gabazine_expected)>minIQR :\n",
    "\n",
    "#     print (\"GABAzine\")\n",
    "#     X = np.array(list_gabazine_expected)\n",
    "#     y = np.array(list_gabazine_observed)\n",
    "    \n",
    "#     idx   = np.argsort(X)\n",
    "#     X = X[idx]\n",
    "#     y = y[idx]\n",
    "\n",
    "#     linear_Model = lmfit.Model(linearModel)\n",
    "#     DN_Model = lmfit.Model(DN_model)\n",
    "\n",
    "#     lin_pars = linear_Model.make_params()\n",
    "#     lin_result = linear_Model.fit(y, lin_pars, x=X)\n",
    "#     lin_aic.append(lin_result.aic)\n",
    "#     lin_chi.append(lin_result.redchi)\n",
    "\n",
    "#     DN_pars = DN_Model.make_params()\n",
    "#     DN_result = DN_Model.fit(y, DN_pars, x=X)\n",
    "#     dn_aic.append(DN_result.aic)\n",
    "#     dn_chi.append(DN_result.redchi)\n",
    "\n",
    "#     print (lin_result.fit_report())\n",
    "#     print (DN_result.fit_report())\n",
    "\n",
    "#     ax = plt.subplot(111)\n",
    "#     ax.scatter(X, y, alpha=0.2)\n",
    "#     ax.set_xlim(xmin=0.)\n",
    "#     ax.set_ylim(ymin=0.)\n",
    "#     ax.set_xlabel(\"Expected\")\n",
    "#     ax.set_ylabel(\"Observed\")\n",
    "#     ax.set_title(\"Divisive Normalization and Inhibition fits\")\n",
    "#     ax.plot(X, lin_result.best_fit, '-', label=\"Divisive Inhibition Model\")\n",
    "#     ax.plot(X, DN_result.best_fit, '-', label=\"Divisive Normalization Model\")\n",
    "#     plt.legend()\n",
    "#     plt.show()"
   ]
  },
  {
   "cell_type": "code",
   "execution_count": null,
   "metadata": {
    "collapsed": true
   },
   "outputs": [],
   "source": [
    "### GABAzine plotted with control"
   ]
  },
  {
   "cell_type": "code",
   "execution_count": null,
   "metadata": {
    "collapsed": true
   },
   "outputs": [],
   "source": [
    "# list_control_observed   = []  \n",
    "# list_gabazine_observed  = []\n",
    "# list_control_expected   = []\n",
    "# list_gabazine_expected  = []\n",
    "\n",
    "# if len(gabazine_observed_average) and len(control_observed_average):\n",
    "#     for key in list(set(gabazine_observed_average).intersection(set(control_observed_average))):\n",
    "#         element1, element2 =  gabazine_observed_average[key], control_observed_average[key]\n",
    "#         if not (element1 <0 or np.isclose(element1, 0, atol=tolerance) or element2<0 or np.isclose(element2, 0, atol=tolerance)):\n",
    "#             list_gabazine_observed.append(element1)\n",
    "#             list_control_observed.append(element2)"
   ]
  },
  {
   "cell_type": "code",
   "execution_count": null,
   "metadata": {
    "collapsed": true,
    "scrolled": false
   },
   "outputs": [],
   "source": [
    "# print (\"GABAzine and control\")\n",
    "# #X = np.array(list_gabazine_expected)\n",
    "# #y = np.array(list_gabazine_observed)\n",
    "\n",
    "# y = np.array(list_control_observed)\n",
    "# X = np.array(list_gabazine_observed)\n",
    "\n",
    "# idx   = np.argsort(X)\n",
    "# X = X[idx]\n",
    "# y = y[idx]\n",
    "\n",
    "# linear_Model = lmfit.Model(linearModel)\n",
    "# DN_Model = lmfit.Model(DN_model)\n",
    "\n",
    "# lin_pars = linear_Model.make_params()\n",
    "# lin_result = linear_Model.fit(y, lin_pars, x=X)\n",
    "# lin_aic.append(lin_result.aic)\n",
    "# lin_chi.append(lin_result.redchi)\n",
    "\n",
    "# DN_pars = DN_Model.make_params()\n",
    "# DN_result = DN_Model.fit(y, DN_pars, x=X)\n",
    "# dn_aic.append(DN_result.aic)\n",
    "# dn_chi.append(DN_result.redchi)\n",
    "\n",
    "# print (lin_result.fit_report())\n",
    "# print (DN_result.fit_report())\n",
    "\n",
    "# ax = plt.subplot(111)\n",
    "# ax.scatter(X, y, alpha=0.2)\n",
    "# ax.set_xlim(xmin=0.)\n",
    "# ax.set_ylim(ymin=0.)\n",
    "# ax.set_xlabel(\"Expected\")\n",
    "# ax.set_ylabel(\"Observed\")\n",
    "# ax.set_title(\"Divisive Normalization and Inhibition fits\")\n",
    "# ax.plot(X, lin_result.best_fit, '-', label=\"Divisive Inhibition Model\")\n",
    "# ax.plot(X, DN_result.best_fit, '-', label=\"Divisive Normalization Model\")\n",
    "# plt.show()"
   ]
  },
  {
   "cell_type": "code",
   "execution_count": null,
   "metadata": {
    "collapsed": true
   },
   "outputs": [],
   "source": [
    "### For averaged out responses"
   ]
  },
  {
   "cell_type": "code",
   "execution_count": null,
   "metadata": {
    "collapsed": true
   },
   "outputs": [],
   "source": [
    "# for expt in neuron.experiment:\n",
    "#     print (\"Starting expt {}\".format(expt))\n",
    "#     for numSquares in neuron.experiment[expt].keys(): \n",
    "#         print (\"Square {}\".format(numSquares))\n",
    "#         if not numSquares == 1:\n",
    "#             nSquareData = neuron.experiment[expt][numSquares]\n",
    "#             if expt == \"Control\":\n",
    "#                 coords_C = nSquareData.coordwise\n",
    "#                 for coord in coords_C: \n",
    "#                     if feature in coords_C[coord].feature:\n",
    "#                         control_observed_average.update({coord: coords_C[coord].average_feature[feature]})\n",
    "#                         control_expected_average.update({coord: coords_C[coord].expected_feature[feature]})\n",
    "#                         control_observed.update({coord: []})\n",
    "#                         control_expected.update({coord: []})\n",
    "#                         for trial in coords_C[coord].trials:\n",
    "#                             if feature in trial.feature:\n",
    "#                                 control_observed[coord].append(trial.feature[feature])\n",
    "#                                 control_expected[coord].append(coords_C[coord].expected_feature[feature])\n",
    "#             elif expt == \"GABAzine\":\n",
    "#                 coords_I = nSquareData.coordwise\n",
    "#                 for coord in coords_I: \n",
    "#                     if feature in coords_I[coord].feature:\n",
    "#                         gabazine_observed.update({coord: []})\n",
    "#                         gabazine_expected.update({coord: []})\n",
    "#                         gabazine_observed_average.update({coord: coords_I[coord].average_feature[feature]})\n",
    "#                         gabazine_expected_average.update({coord: coords_I[coord].expected_feature[feature]})\n",
    "\n",
    "#                         for trial in coords_I[coord].trials:\n",
    "#                             if feature in trial.feature:\n",
    "#                                 gabazine_observed[coord].append(trial.feature[feature])\n",
    "#                                 gabazine_expected[coord].append(coords_I[coord].expected_feature[feature])\n",
    "# print (\"Read {} into variables\".format(filename))"
   ]
  },
  {
   "cell_type": "code",
   "execution_count": null,
   "metadata": {
    "collapsed": true
   },
   "outputs": [],
   "source": [
    "# list_control_observed   = []  \n",
    "# list_gabazine_observed  = []\n",
    "# list_control_expected   = []\n",
    "# list_gabazine_expected  = []\n",
    "\n",
    "# if len(gabazine_observed_average):\n",
    "#     for key in gabazine_observed_average.keys():\n",
    "#         element1, element2 = gabazine_observed_average[key], gabazine_expected_average[key]\n",
    "#         if not (element1 <0 or np.isclose(element1, 0, atol=tolerance) or element2<0 or np.isclose(element2, 0, atol=tolerance)):\n",
    "#             list_gabazine_observed.append(element1)\n",
    "#             list_gabazine_expected.append(element2)\n",
    "\n",
    "# if len(control_observed_average):\n",
    "#     for key in control_observed_average.keys():\n",
    "#         element1, element2 = control_observed_average[key], control_expected_average[key]\n",
    "#         if not (element1 <0 or np.isclose(element1, 0, atol=tolerance) or element2<0 or np.isclose(element2, 0, atol=tolerance)):\n",
    "#             list_control_observed.append(element1)\n",
    "#             list_control_expected.append(element2)"
   ]
  }
 ],
 "metadata": {
  "hide_input": false,
  "kernelspec": {
   "display_name": "Python 2",
   "language": "python",
   "name": "python2"
  },
  "language_info": {
   "codemirror_mode": {
    "name": "ipython",
    "version": 2
   },
   "file_extension": ".py",
   "mimetype": "text/x-python",
   "name": "python",
   "nbconvert_exporter": "python",
   "pygments_lexer": "ipython2",
   "version": "2.7.12"
  },
  "latex_envs": {
   "LaTeX_envs_menu_present": true,
   "autocomplete": true,
   "bibliofile": "biblio.bib",
   "cite_by": "apalike",
   "current_citInitial": 1,
   "eqLabelWithNumbers": true,
   "eqNumInitial": 1,
   "hotkeys": {
    "equation": "Ctrl-E",
    "itemize": "Ctrl-I"
   },
   "labels_anchors": false,
   "latex_user_defs": false,
   "report_style_numbering": false,
   "user_envs_cfg": false
  },
  "toc": {
   "colors": {
    "hover_highlight": "#DAA520",
    "navigate_num": "#000000",
    "navigate_text": "#333333",
    "running_highlight": "#FF0000",
    "selected_highlight": "#FFD700",
    "sidebar_border": "#EEEEEE",
    "wrapper_background": "#FFFFFF"
   },
   "moveMenuLeft": true,
   "nav_menu": {
    "height": "12px",
    "width": "252px"
   },
   "navigate_menu": true,
   "number_sections": true,
   "sideBar": true,
   "threshold": 4,
   "toc_cell": false,
   "toc_section_display": "block",
   "toc_window_display": true,
   "widenNotebook": false
  },
  "varInspector": {
   "cols": {
    "lenName": 16,
    "lenType": 16,
    "lenVar": 40
   },
   "kernels_config": {
    "python": {
     "delete_cmd_postfix": "",
     "delete_cmd_prefix": "del ",
     "library": "var_list.py",
     "varRefreshCmd": "print(var_dic_list())"
    },
    "r": {
     "delete_cmd_postfix": ") ",
     "delete_cmd_prefix": "rm(",
     "library": "var_list.r",
     "varRefreshCmd": "cat(var_dic_list()) "
    }
   },
   "types_to_exclude": [
    "module",
    "function",
    "builtin_function_or_method",
    "instance",
    "_Feature"
   ],
   "window_display": false
  }
 },
 "nbformat": 4,
 "nbformat_minor": 2
}
