{
 "cells": [
  {
   "cell_type": "code",
   "execution_count": 1,
   "metadata": {},
   "outputs": [
    {
     "name": "stderr",
     "output_type": "stream",
     "text": [
      "/usr/local/lib/python2.7/dist-packages/statsmodels/compat/pandas.py:56: FutureWarning: The pandas.core.datetools module is deprecated and will be removed in a future version. Please use the pandas.tseries module instead.\n",
      "  from pandas.core import datetools\n"
     ]
    }
   ],
   "source": [
    "import glob\n",
    "import matplotlib\n",
    "import matplotlib.pyplot as plt\n",
    "import pickle\n",
    "import lmfit\n",
    "import numpy as np\n",
    "import scipy.stats as ss\n",
    "plt.style.use('neuron_color')\n",
    "import statsmodels.api as sm\n",
    "from statsmodels.sandbox.regression.predstd import wls_prediction_std\n",
    "from statsmodels.formula.api import ols, rlm\n",
    "import sys\n",
    "sys.path.append('../')\n",
    "from Linearity import Neuron\n",
    "from pickle import dump"
   ]
  },
  {
   "cell_type": "code",
   "execution_count": 2,
   "metadata": {
    "collapsed": true
   },
   "outputs": [],
   "source": [
    "#Colorscheme for squares\n",
    "color_sqr = { index+1: color for index, color in enumerate(matplotlib.cm.viridis(np.linspace(0,1,9)))}"
   ]
  },
  {
   "cell_type": "code",
   "execution_count": 3,
   "metadata": {
    "collapsed": true
   },
   "outputs": [],
   "source": [
    "currentClampFiles = '/media/sahil/NCBS_Shares_BGStim/patch_data/current_clamp_files_with_GABAzine.txt'\n",
    "with open (currentClampFiles,'r') as r:\n",
    "    dirnames = r.read().splitlines()"
   ]
  },
  {
   "cell_type": "code",
   "execution_count": 4,
   "metadata": {
    "collapsed": true
   },
   "outputs": [],
   "source": [
    "neurons = {}\n",
    "for dirname in dirnames:\n",
    "    cellIndex = dirname.split('/')[-2]\n",
    "    filename = dirname + 'plots/' + cellIndex + '.pkl'\n",
    "    n = Neuron.load(filename)\n",
    "    neurons[str(n.date) + '_' + str(n.index)] = n"
   ]
  },
  {
   "cell_type": "code",
   "execution_count": 5,
   "metadata": {
    "collapsed": true
   },
   "outputs": [],
   "source": [
    "control_result2_rsquared_adj = []\n",
    "control_result1_rsquared_adj = []\n",
    "control_var_expected = []\n",
    "gabazine_result2_rsquared_adj = []\n",
    "gabazine_result1_rsquared_adj = []\n",
    "gabazine_var_expected = []\n",
    "tolerance = 5e-4"
   ]
  },
  {
   "cell_type": "code",
   "execution_count": 6,
   "metadata": {
    "collapsed": true
   },
   "outputs": [],
   "source": [
    "def simpleaxis(axes, every=False, outward=False):\n",
    "    if not isinstance(axes, (list, np.ndarray)):\n",
    "        axes = [axes]\n",
    "    for ax in axes:\n",
    "        ax.spines['top'].set_visible(False)\n",
    "        ax.spines['right'].set_visible(False)\n",
    "        if (outward):\n",
    "            ax.spines['bottom'].set_position(('outward', 10))\n",
    "            ax.spines['left'].set_position(('outward', 10))\n",
    "        if every:\n",
    "            ax.spines['bottom'].set_visible(False)\n",
    "            ax.spines['left'].set_visible(False)\n",
    "        ax.get_xaxis().tick_bottom()\n",
    "        ax.get_yaxis().tick_left()\n",
    "        ax.set_title('')"
   ]
  },
  {
   "cell_type": "code",
   "execution_count": 7,
   "metadata": {
    "collapsed": true
   },
   "outputs": [],
   "source": [
    "def linearModel(x, beta=1):\n",
    "    # Linear model\n",
    "    return (beta*x)\n",
    "\n",
    "def DN_model(x, beta=1, gamma=100):\n",
    "    # Divisive normalization model\n",
    "    #return x - a*(x**2)/(b+x)\n",
    "    #return ((x**2)*(1-beta) + (gamma*x))/(x+gamma)\n",
    "    return (gamma*x)/(x+gamma)"
   ]
  },
  {
   "cell_type": "code",
   "execution_count": 8,
   "metadata": {
    "collapsed": true
   },
   "outputs": [],
   "source": [
    "lin_aic = []\n",
    "dn_aic = []\n",
    "lin_chi = []\n",
    "dn_chi = []\n",
    "\n",
    "control_observed = {}\n",
    "control_observed_average = {}\n",
    "gabazine_observed ={}\n",
    "gabazine_observed_average = {}\n",
    "control_expected = {}\n",
    "control_expected_average = {}\n",
    "gabazine_expected ={}\n",
    "gabazine_expected_average = {}\n",
    "feature = 0\n",
    "\n",
    "neuron = neurons['161013_c1']\n",
    "# neuron = neurons['170303_c1']"
   ]
  },
  {
   "cell_type": "markdown",
   "metadata": {},
   "source": [
    "## 5 A (GABAzine treatment abolishes divisive normalization)"
   ]
  },
  {
   "cell_type": "code",
   "execution_count": 9,
   "metadata": {
    "collapsed": true,
    "scrolled": false
   },
   "outputs": [],
   "source": [
    "feature = 0\n",
    "expected, observed, g_expected, g_observed = {}, {}, {}, {}\n",
    "for expType, exp in neuron:\n",
    "    ## Control case\n",
    "    if expType == \"Control\":\n",
    "        for sqr in exp:\n",
    "                if sqr > 1:\n",
    "                    expected[sqr] = []\n",
    "                    observed[sqr] = []\n",
    "                    for coord in exp[sqr].coordwise:\n",
    "                        for trial in exp[sqr].coordwise[coord].trials:\n",
    "                            if all([value == 0 for value in trial.flags.values()]):\n",
    "                                expected[sqr].append(exp[sqr].coordwise[coord].expected_feature[feature])\n",
    "                                observed[sqr].append(trial.feature[feature])\n",
    "    ## Gabazine case\n",
    "    if(expType == \"GABAzine\"):\n",
    "        for sqr in exp:\n",
    "            if sqr > 1:\n",
    "                g_expected[sqr] = []\n",
    "                g_observed[sqr] = []\n",
    "                for coord in exp[sqr].coordwise:\n",
    "                    for trial in exp[sqr].coordwise[coord].trials:\n",
    "                        if all([value == 0 for value in trial.flags.values()]):\n",
    "                            g_expected[sqr].append(exp[sqr].coordwise[coord].expected_feature[feature])\n",
    "                            g_observed[sqr].append(trial.feature[feature])"
   ]
  },
  {
   "cell_type": "code",
   "execution_count": 10,
   "metadata": {
    "scrolled": false
   },
   "outputs": [
    {
     "data": {
      "image/png": "[encoded data removed]",
      "text/plain": [
       "<matplotlib.figure.Figure at 0x7f77956a6850>"
      ]
     },
     "metadata": {},
     "output_type": "display_data"
    }
   ],
   "source": [
    "f, ax = plt.subplots(1,2, sharey=True)\n",
    "\n",
    "## Control stuff\n",
    "squareVal = []\n",
    "list_control_expected = []\n",
    "list_control_observed = []\n",
    "\n",
    "max_exp, max_g_exp = 0.,0.\n",
    "for sqr in sorted(observed):\n",
    "    squareVal.append(ax[0].scatter(expected[sqr], observed[sqr], label=str(sqr), c=color_sqr[sqr], alpha=0.8, s=3))\n",
    "    max_exp = max(max_exp, max(expected[sqr]))\n",
    "    list_control_expected += expected[sqr]\n",
    "    list_control_observed += observed[sqr]\n",
    "    \n",
    "X = np.array(list_control_expected)\n",
    "y = np.array(list_control_observed)\n",
    "idx   = np.argsort(X)\n",
    "X = X[idx]\n",
    "y = y[idx]\n",
    "\n",
    "linear_Model = lmfit.Model(linearModel)\n",
    "DN_Model = lmfit.Model(DN_model)\n",
    "\n",
    "lin_pars = linear_Model.make_params()\n",
    "lin_result = linear_Model.fit(y, lin_pars, x=X)\n",
    "lin_aic.append(lin_result.aic)\n",
    "lin_chi.append(lin_result.redchi)\n",
    "\n",
    "DN_pars = DN_Model.make_params()\n",
    "DN_result = DN_Model.fit(y, DN_pars, x=X)\n",
    "dn_aic.append(DN_result.aic)\n",
    "dn_chi.append(DN_result.redchi)\n",
    "\n",
    "# print (lin_result.fit_report())\n",
    "# print (DN_result.fit_report())\n",
    "\n",
    "ax[0].set_xlim(xmin=0.)\n",
    "ax[0].set_ylim(ymin=0.)\n",
    "ax[0].set_xlabel(\"Expected\")\n",
    "ax[0].set_ylabel(\"Observed\")\n",
    "ax[0].set_title(\"Divisive Normalization fits\")\n",
    "div_norm = ax[0].plot(X, DN_result.best_fit, '-')\n",
    "\n",
    "\n",
    "max_exp *=1.1\n",
    "max_g_exp *=1.1\n",
    "ax[0].set_xlim(0,max_exp)\n",
    "ax[0].set_ylim(0,max_exp)\n",
    "ax[0].set_xlabel(\"Expected Sum (mV)\")\n",
    "ax[0].set_ylabel(\"Observed Sum (mV)\")\n",
    "linear = ax[0].plot((0,max_exp), (0,max_exp), '--', c='gray')\n",
    "\n",
    "legends = div_norm\n",
    "#labels = [ \"$\\\\beta={:.2f}$ \\n $ \\\\gamma={:.2f}$\".format(DN_result.params['beta'].value, DN_result.params['gamma'].value)]\n",
    "labels = [ \"$ \\\\gamma={:.2f}$\".format(DN_result.params['gamma'].value)]\n",
    "ax[0].legend(legends, labels)\n",
    "\n",
    "\n",
    "### GABAzine stuff \n",
    "squareVal = []\n",
    "list_gabazine_expected = []\n",
    "list_gabazine_observed = []\n",
    "\n",
    "max_exp, max_g_exp = 0.,0.\n",
    "for sqr in sorted(g_observed):\n",
    "    squareVal.append(ax[1].scatter(g_expected[sqr], g_observed[sqr], label=str(sqr), c=color_sqr[sqr], alpha=0.8, s=3))\n",
    "    max_exp = max(max_exp, max(g_expected[sqr]))\n",
    "    list_gabazine_expected += g_expected[sqr]\n",
    "    list_gabazine_observed += g_observed[sqr]\n",
    "    \n",
    "X = np.array(list_gabazine_expected)\n",
    "y = np.array(list_gabazine_observed)\n",
    "idx   = np.argsort(X)\n",
    "X = X[idx]\n",
    "y = y[idx]\n",
    "\n",
    "linear_Model = lmfit.Model(linearModel)\n",
    "DN_Model = lmfit.Model(DN_model)\n",
    "\n",
    "lin_pars = linear_Model.make_params()\n",
    "lin_result = linear_Model.fit(y, lin_pars, x=X)\n",
    "lin_aic.append(lin_result.aic)\n",
    "lin_chi.append(lin_result.redchi)\n",
    "\n",
    "DN_pars = DN_Model.make_params()\n",
    "DN_result = DN_Model.fit(y, DN_pars, x=X)\n",
    "dn_aic.append(DN_result.aic)\n",
    "dn_chi.append(DN_result.redchi)\n",
    "\n",
    "# print (lin_result.fit_report())\n",
    "# print (DN_result.fit_report())\n",
    "\n",
    "ax[1].set_xlim(xmin=0.)\n",
    "ax[1].set_ylim(ymin=0.)\n",
    "ax[1].set_title(\"Divisive Normalization fits\")\n",
    "div_norm = ax[1].plot(X, DN_result.best_fit, '-')\n",
    "\n",
    "\n",
    "max_exp *=1.1\n",
    "max_g_exp *=1.1\n",
    "ax[1].set_xlim(0,max_exp)\n",
    "ax[1].set_ylim(0,max_exp)\n",
    "ax[1].set_xlabel(\"Expected Sum (mV)\")\n",
    "# ax[1].set_ylabel(\"Observed Sum (mV)\")\n",
    "linear = ax[1].plot((0,max_exp), (0,max_exp), '--', c='gray')\n",
    "\n",
    "legends = div_norm\n",
    "#labels = [ \"$\\\\beta={:.2f}$ \\n $\\\\gamma={:.2f}$\".format(DN_result.params['beta'].value, DN_result.params['gamma'].value)]\n",
    "labels = [ \"$\\\\gamma={:.2f}$\".format(DN_result.params['gamma'].value)]\n",
    "ax[1].legend(legends, labels)\n",
    "ax[1].yaxis.set_visible(False)\n",
    "simpleaxis(ax)\n",
    "f.set_figwidth(3)\n",
    "f.set_figheight(1.5)\n",
    "dump(f,file('figures/fig5/5a.pkl','wb'))\n",
    "plt.show()"
   ]
  },
  {
   "cell_type": "markdown",
   "metadata": {
    "collapsed": true
   },
   "source": [
    "## 5 C Gabazine - Control responses are still balanced"
   ]
  },
  {
   "cell_type": "code",
   "execution_count": 11,
   "metadata": {
    "collapsed": true
   },
   "outputs": [],
   "source": [
    "feature = 0\n",
    "#expected, observed, g_expected, g_observed = {}, {}, {}, {}\n",
    "control, gabazine = {}, {}\n",
    "for expType, exp in neuron:\n",
    "    ## Control case\n",
    "    if(expType == \"Control\"):\n",
    "        for sqr in exp:\n",
    "            if sqr > 1:\n",
    "                expected[sqr] = []\n",
    "                observed[sqr] = []\n",
    "                for coord in exp[sqr].coordwise:\n",
    "                    if all([value == 0 for value in exp[sqr].coordwise[coord].flags.values()]):\n",
    "                        control[sqr] = exp[sqr]\n",
    "    ## Gabazine case\n",
    "    if(expType == \"GABAzine\"):\n",
    "        for sqr in exp:\n",
    "            if sqr > 1:\n",
    "                g_expected[sqr] = []\n",
    "                g_observed[sqr] = []\n",
    "                for coord in exp[sqr].coordwise:\n",
    "                    if all([value == 0 for value in exp[sqr].coordwise[coord].flags.values()]):\n",
    "                        gabazine[sqr] = exp[sqr]\n",
    "\n",
    "derived_inh, exc = {}, {}\n",
    "for sq in set(control).intersection(set(gabazine)):\n",
    "    derived_inh[sq] = []\n",
    "    exc[sq] = []\n",
    "    for coord in set(control[sq].coordwise).intersection(set(gabazine[sq].coordwise)):\n",
    "        derived_inh[sq].append(gabazine[sq].coordwise[coord].average_feature[feature] - control[sq].coordwise[coord].average_feature[feature])\n",
    "        exc[sq].append(gabazine[sq].coordwise[coord].average_feature[feature])"
   ]
  },
  {
   "cell_type": "code",
   "execution_count": 12,
   "metadata": {},
   "outputs": [
    {
     "name": "stdout",
     "output_type": "stream",
     "text": [
      "0.810993308853 0.924780892587 -1.05560599362\n",
      "1.30162108873\n"
     ]
    },
    {
     "data": {
      "image/png": "[encoded data removed]",
      "text/plain": [
       "<matplotlib.figure.Figure at 0x7f77963836d0>"
      ]
     },
     "metadata": {},
     "output_type": "display_data"
    }
   ],
   "source": [
    "### Derived Inh\n",
    "squareVal = []\n",
    "list_exc = []\n",
    "list_inh = []\n",
    "f, ax = plt.subplots()\n",
    "max_exp, max_g_exp = 0.,0.\n",
    "for sqr in sorted(derived_inh):\n",
    "    squareVal.append(ax.scatter(exc[sqr], derived_inh[sqr], label=str(sqr), c=color_sqr[sqr], s=5))\n",
    "    max_exp = max(max_exp, max(exc[sqr]))\n",
    "    list_exc += exc[sqr]\n",
    "    list_inh += derived_inh[sqr]\n",
    "    \n",
    "max_exp *=1.1\n",
    "max_g_exp *=1.1\n",
    "ax.set_xlim(0,max_exp)\n",
    "ax.set_ylim(0,max_exp)\n",
    "ax.set_xlabel(\"Excitation (mV)\")\n",
    "ax.set_ylabel(\"Derived Inhibition (mV)\")\n",
    "linear = ax.plot((0,max_exp), (0,max_exp), '--', c='gray')\n",
    "\n",
    "legends = squareVal + linear\n",
    "labels = sorted(observed.keys()) + [ \"Linear sum\"]\n",
    "\n",
    "slope, intercept, rval, pval, stderr = ss.linregress(list_exc, list_inh)\n",
    "x_ = np.linspace(0,max_exp)\n",
    "y_ = (slope*x_) + intercept\n",
    "ax.plot(x_,y_, '--', color='gray')\n",
    "print slope, rval**2, intercept\n",
    "x_intercept = -intercept/slope\n",
    "print x_intercept\n",
    "# ax.legend(legends, labels)\n",
    "\n",
    "f.set_figwidth(2)\n",
    "f.set_figheight(2)\n",
    "simpleaxis(ax)\n",
    "plt.show()"
   ]
  },
  {
   "cell_type": "code",
   "execution_count": 13,
   "metadata": {
    "collapsed": true
   },
   "outputs": [],
   "source": [
    "def getAvgTrace(neuron, expType=\"Control\"):\n",
    "    ''' Returns Expected, Observed, Time, Squares for the experiment'''\n",
    "    if expType in neuron.experiment:\n",
    "        exp = neuron.experiment[expType]\n",
    "        avgTrace = {}\n",
    "        for sqr in exp:\n",
    "            for coord in exp[sqr].coordwise:\n",
    "                    trace = []\n",
    "                    for trial in exp[sqr].coordwise[coord].trials:\n",
    "                        if all([value == 0 for value in trial.flags.values()]):\n",
    "                            trace.append(trial.interestWindow)\n",
    "                    if len(trace)>2:\n",
    "                        averagedTrace = np.mean(trace,axis=0)\n",
    "                        avgTrace[coord] = averagedTrace\n",
    "        return avgTrace"
   ]
  },
  {
   "cell_type": "code",
   "execution_count": 14,
   "metadata": {
    "scrolled": false
   },
   "outputs": [
    {
     "name": "stdout",
     "output_type": "stream",
     "text": [
      "('c4', '160928')\n",
      "[]\n",
      "0.00616954258104 2.23600380321e-05 -201.368577669\n"
     ]
    },
    {
     "data": {
      "image/png": "[encoded data removed]",
      "text/plain": [
       "<matplotlib.figure.Figure at 0x7f77957c1ed0>"
      ]
     },
     "metadata": {},
     "output_type": "display_data"
    },
    {
     "name": "stdout",
     "output_type": "stream",
     "text": [
      "('c4', '160817')\n",
      "('c1', '161117')\n",
      "[]\n",
      "1.65666127661 0.951450645034 -321.062082749\n"
     ]
    },
    {
     "data": {
      "image/png": "[encoded data removed]",
      "text/plain": [
       "<matplotlib.figure.Figure at 0x7f779611b150>"
      ]
     },
     "metadata": {},
     "output_type": "display_data"
    },
    {
     "data": {
      "image/png": "[encoded data removed]",
      "text/plain": [
       "<matplotlib.figure.Figure at 0x7f7795526350>"
      ]
     },
     "metadata": {},
     "output_type": "display_data"
    },
    {
     "name": "stdout",
     "output_type": "stream",
     "text": [
      "('c2', '170222')\n",
      "[]\n",
      "0.836899867206 0.807030109898 -1261.55136391\n"
     ]
    },
    {
     "data": {
      "image/png": "[encoded data removed]",
      "text/plain": [
       "<matplotlib.figure.Figure at 0x7f7791ed2dd0>"
      ]
     },
     "metadata": {},
     "output_type": "display_data"
    },
    {
     "name": "stdout",
     "output_type": "stream",
     "text": [
      "('c1', '161228')\n",
      "[]\n",
      "0.899915405505 0.949103008264 -208.058694391\n"
     ]
    },
    {
     "data": {
      "image/png": "[encoded data removed]",
      "text/plain": [
       "<matplotlib.figure.Figure at 0x7f7791c56fd0>"
      ]
     },
     "metadata": {},
     "output_type": "display_data"
    },
    {
     "name": "stdout",
     "output_type": "stream",
     "text": [
      "('c1', '160830')\n",
      "('c3', '161027')\n",
      "[]\n",
      "0.704261970081 0.83758230083 -964.586311108\n"
     ]
    },
    {
     "data": {
      "image/png": "[encoded data removed]",
      "text/plain": [
       "<matplotlib.figure.Figure at 0x7f7791a22910>"
      ]
     },
     "metadata": {},
     "output_type": "display_data"
    },
    {
     "data": {
      "image/png": "[encoded data removed]",
      "text/plain": [
       "<matplotlib.figure.Figure at 0x7f779198fed0>"
      ]
     },
     "metadata": {},
     "output_type": "display_data"
    },
    {
     "name": "stdout",
     "output_type": "stream",
     "text": [
      "('c1', '160920')\n",
      "[]\n",
      "0.26759283979 0.165535208732 -339.511147129\n"
     ]
    },
    {
     "data": {
      "image/png": "[encoded data removed]",
      "text/plain": [
       "<matplotlib.figure.Figure at 0x7f7791a8ab50>"
      ]
     },
     "metadata": {},
     "output_type": "display_data"
    },
    {
     "name": "stdout",
     "output_type": "stream",
     "text": [
      "('c1', '161013')\n",
      "[]\n",
      "0.971020045038 0.930839306184 -730.023081721\n"
     ]
    },
    {
     "data": {
      "image/png": "[encoded data removed]",
      "text/plain": [
       "<matplotlib.figure.Figure at 0x7f7796349910>"
      ]
     },
     "metadata": {},
     "output_type": "display_data"
    },
    {
     "name": "stdout",
     "output_type": "stream",
     "text": [
      "('c5', '160927')\n",
      "[]\n",
      "0.565637324248 0.473965439038 -756.709769646\n"
     ]
    },
    {
     "data": {
      "image/png": "[encoded data removed]",
      "text/plain": [
       "<matplotlib.figure.Figure at 0x7f7795f5f390>"
      ]
     },
     "metadata": {},
     "output_type": "display_data"
    },
    {
     "name": "stdout",
     "output_type": "stream",
     "text": [
      "('c1', '170303')\n",
      "[]\n",
      "0.365626013978 0.339419189228 214.983598228\n"
     ]
    },
    {
     "data": {
      "image/png": "[encoded data removed]",
      "text/plain": [
       "<matplotlib.figure.Figure at 0x7f7795bec4d0>"
      ]
     },
     "metadata": {},
     "output_type": "display_data"
    }
   ],
   "source": [
    "slopeArr, r_sqArr = [], []\n",
    "for index in neurons:\n",
    "#     print (index)\n",
    "    neuron = neurons[index]\n",
    "    print(neuron.index, neuron.date)\n",
    "    fig, ax = plt.subplots()\n",
    "    control = getAvgTrace(neuron)\n",
    "    gabazine = getAvgTrace(neuron, \"GABAzine\")\n",
    "    if control and gabazine:\n",
    "        list_exc, list_inh, sqrArr = [], [], []\n",
    "        for coord in set(control.keys()) & set(gabazine.keys()):\n",
    "            exc_max = np.trapz(gabazine[coord])\n",
    "            inh_max = np.trapz(gabazine[coord] - control[coord])\n",
    "            list_exc.append(exc_max)\n",
    "            list_inh.append(inh_max)\n",
    "            ax.scatter(exc_max, inh_max, c=color_sqr[len(coord)],s=5)\n",
    "        if list_exc and list_inh:\n",
    "            min_exc_inh, max_exc_inh =  1.2*np.min([list_exc, list_inh]), 1.2*np.max([list_exc, list_inh])\n",
    "            #squareVal.append(ax.scatter(exc[sqr], derived_inh[sqr]))\n",
    "            print(sqrArr)\n",
    "            slope, intercept, rval, pval, stderr = ss.linregress(list_exc, list_inh)\n",
    "            x_ = np.linspace(min_exc_inh, max_exc_inh,1000)\n",
    "            y_ = (slope*x_) + intercept\n",
    "            ax.plot(x_,y_, '--', color='gray')\n",
    "            print slope, rval**2, intercept\n",
    "\n",
    "            ax.set_xlim(min_exc_inh, max_exc_inh)\n",
    "            ax.set_ylim(min_exc_inh, max_exc_inh)\n",
    "\n",
    "            fig.set_figwidth(2)\n",
    "            fig.set_figheight(2)\n",
    "            simpleaxis(ax)\n",
    "            plt.show()\n",
    "\n",
    "            slopeArr.append(slope)\n",
    "            r_sqArr.append(rval**2)        "
   ]
  },
  {
   "cell_type": "code",
   "execution_count": 15,
   "metadata": {},
   "outputs": [
    {
     "name": "stdout",
     "output_type": "stream",
     "text": [
      "[]\n",
      "Slope = 0.971020045038, r^2 = 0.930839306184, y-intercept= -3.6501154086e-05, x-intercept= 3.75905258316e-05\n"
     ]
    },
    {
     "data": {
      "image/png": "[encoded data removed]",
      "text/plain": [
       "<matplotlib.figure.Figure at 0x7f779203b610>"
      ]
     },
     "metadata": {},
     "output_type": "display_data"
    }
   ],
   "source": [
    "neuron = neurons['161013_c1']\n",
    "scalingFactor = 1e-3\n",
    "windowsize = 100\n",
    "fig, ax = plt.subplots()\n",
    "control = getAvgTrace(neuron)\n",
    "gabazine = getAvgTrace(neuron, \"GABAzine\")\n",
    "if control and gabazine:\n",
    "    list_exc, list_inh, sqrArr = [], [], []\n",
    "    for coord in set(control.keys()) & set(gabazine.keys()):\n",
    "        exc_max = np.trapz(gabazine[coord],dx=50e-6*scalingFactor)\n",
    "        inh_max = np.trapz(gabazine[coord] - control[coord],dx=50e-6*scalingFactor)\n",
    "        list_exc.append(exc_max)\n",
    "        list_inh.append(inh_max)\n",
    "        ax.scatter(exc_max, inh_max, c=color_sqr[len(coord)],s=5)\n",
    "    if len(list_exc) and len(list_inh):\n",
    "        min_exc_inh, max_exc_inh =  1.2*np.min([list_exc, list_inh]), 1.2*np.max([list_exc, list_inh])\n",
    "        #squareVal.append(ax.scatter(exc[sqr], derived_inh[sqr]))\n",
    "        print(sqrArr)\n",
    "        slope, intercept, rval, pval, stderr = ss.linregress(list_exc, list_inh)\n",
    "        x_ = np.linspace(min_exc_inh, max_exc_inh,1000)\n",
    "        y_ = (slope*x_) + intercept\n",
    "        ax.plot(x_,y_, '--', color='gray')\n",
    "        x_intercept = -intercept/slope\n",
    "        print (\"Slope = {}, r^2 = {}, y-intercept= {}, x-intercept= {}\".format(slope, rval**2, intercept, x_intercept))\n",
    "\n",
    "        ax.set_xlim(min_exc_inh, max_exc_inh)\n",
    "        ax.set_ylim(min_exc_inh, max_exc_inh)\n",
    "        ax.set_xticks([0,2e-4,4e-4])\n",
    "        ax.set_yticks([0,2e-4,4e-4])\n",
    "        ax.set_xlabel(\"Excitation (mV.ms)\")\n",
    "        ax.set_ylabel(\"Derived Inhibition (mV.ms)\")\n",
    "        ax.ticklabel_format(style='sci',scilimits=(-3,4),axis='both')\n",
    "        ax.xaxis.major.formatter._useMathText = True\n",
    "        ax.yaxis.major.formatter._useMathText = True\n",
    "        \n",
    "        fig.set_figwidth(1.5)\n",
    "        fig.set_figheight(1.5)\n",
    "        simpleaxis(ax)\n",
    "        dump(fig,file('figures/fig5/5d.pkl','wb'))\n",
    "        plt.show()"
   ]
  },
  {
   "cell_type": "code",
   "execution_count": 16,
   "metadata": {},
   "outputs": [
    {
     "data": {
      "text/plain": [
       "{'160817_c4': <Linearity.Neuron instance at 0x7f77963bea70>,\n",
       " '160830_c1': <Linearity.Neuron instance at 0x7f77963beb90>,\n",
       " '160920_c1': <Linearity.Neuron instance at 0x7f77dfd2e4d0>,\n",
       " '160927_c5': <Linearity.Neuron instance at 0x7f77959e57a0>,\n",
       " '160928_c4': <Linearity.Neuron instance at 0x7f7796224ef0>,\n",
       " '161013_c1': <Linearity.Neuron instance at 0x7f7796239cf8>,\n",
       " '161027_c3': <Linearity.Neuron instance at 0x7f7795b954d0>,\n",
       " '161117_c1': <Linearity.Neuron instance at 0x7f7795edac68>,\n",
       " '161228_c1': <Linearity.Neuron instance at 0x7f77960f7c20>,\n",
       " '170222_c2': <Linearity.Neuron instance at 0x7f7795794908>,\n",
       " '170303_c1': <Linearity.Neuron instance at 0x7f77963a0b48>}"
      ]
     },
     "execution_count": 16,
     "metadata": {},
     "output_type": "execute_result"
    }
   ],
   "source": [
    "neurons"
   ]
  },
  {
   "cell_type": "markdown",
   "metadata": {},
   "source": [
    "## Population slopes"
   ]
  },
  {
   "cell_type": "code",
   "execution_count": 103,
   "metadata": {},
   "outputs": [
    {
     "data": {
      "image/png": "[encoded data removed]",
      "text/plain": [
       "<matplotlib.figure.Figure at 0x7f7791f9f710>"
      ]
     },
     "metadata": {},
     "output_type": "display_data"
    },
    {
     "name": "stdout",
     "output_type": "stream",
     "text": [
      "Median slope is 0.7\n"
     ]
    }
   ],
   "source": [
    "bins = 8\n",
    "fig, ax = plt.subplots()\n",
    "ax.hist(slopeArr,bins=bins,color='k')\n",
    "ax.set_xlabel(\"Slopes\")\n",
    "ax.set_ylabel(\"# Cells\")\n",
    "simpleaxis(ax)\n",
    "fig.set_figwidth(1.5)\n",
    "fig.set_figheight(1.5)\n",
    "dump(fig,file('figures/fig5/5e.pkl','wb'))\n",
    "plt.show()\n",
    "print (\"Median slope is {:.1f}\".format(np.median(slopeArr)))"
   ]
  },
  {
   "cell_type": "markdown",
   "metadata": {},
   "source": [
    "## Population r-squared"
   ]
  },
  {
   "cell_type": "code",
   "execution_count": 104,
   "metadata": {},
   "outputs": [
    {
     "data": {
      "image/png": "[encoded data removed]",
      "text/plain": [
       "<matplotlib.figure.Figure at 0x7f7791a2eb50>"
      ]
     },
     "metadata": {},
     "output_type": "display_data"
    },
    {
     "name": "stdout",
     "output_type": "stream",
     "text": [
      "Median $r^2$ is 0.8\n"
     ]
    }
   ],
   "source": [
    "fig, ax = plt.subplots()\n",
    "ax.hist(r_sqArr,color='k')\n",
    "ax.set_xlabel(\"$R^2$\")\n",
    "ax.set_ylabel(\"# Cells\")\n",
    "simpleaxis(ax)\n",
    "fig.set_figwidth(1.5)\n",
    "fig.set_figheight(1.5)\n",
    "dump(fig,file('figures/fig5/5f.pkl','wb'))\n",
    "plt.show()\n",
    "print (\"Median $r^2$ is {:.1f}\".format(np.median(r_sqArr)))"
   ]
  },
  {
   "cell_type": "markdown",
   "metadata": {},
   "source": [
    "## 5 D (Comparing Gabazine and Control DN fit parameters) : 2 neurons have an nans. Check what's happening"
   ]
  },
  {
   "cell_type": "code",
   "execution_count": 55,
   "metadata": {},
   "outputs": [
    {
     "data": {
      "text/plain": [
       "<Linearity.Neuron instance at 0x7f77959e57a0>"
      ]
     },
     "execution_count": 55,
     "metadata": {},
     "output_type": "execute_result"
    }
   ],
   "source": [
    "neurons.pop('161027_c3', None)\n",
    "# neurons.pop('160817_c4', None)\n",
    "neurons.pop('160927_c5', None)"
   ]
  },
  {
   "cell_type": "code",
   "execution_count": 56,
   "metadata": {},
   "outputs": [
    {
     "name": "stdout",
     "output_type": "stream",
     "text": [
      "160928-c4\n",
      "161117-c1\n",
      "170222-c2\n",
      "161228-c1\n",
      "160830-c1\n",
      "160920-c1\n",
      "161013-c1\n",
      "170303-c1\n"
     ]
    }
   ],
   "source": [
    "feature = 0\n",
    "DN_Control = []\n",
    "DN_GABAzine = []\n",
    "\n",
    "for index in neurons:\n",
    "    neuron = neurons[index]\n",
    "    if set([\"Control\", \"GABAzine\"]) <= set(neuron.experiment.keys()):\n",
    "        if (len(neuron.experiment[\"Control\"]) > 1 and len(neuron.experiment[\"GABAzine\"]) > 1):\n",
    "            print (neuron.date + '-' + neuron.index)\n",
    "            expected, observed, g_expected, g_observed = {}, {}, {}, {}\n",
    "            for expType, exp in neuron:\n",
    "                ## Control case\n",
    "                if expType == \"Control\":\n",
    "                    for sqr in exp:\n",
    "                            if sqr > 1:\n",
    "                                expected[sqr] = []\n",
    "                                observed[sqr] = []\n",
    "                                for coord in exp[sqr].coordwise:\n",
    "                                    for trial in exp[sqr].coordwise[coord].trials:\n",
    "                                        if all([value == 0 for value in trial.flags.values()]):\n",
    "                                            expected[sqr].append(exp[sqr].coordwise[coord].expected_feature[feature])\n",
    "                                            observed[sqr].append(trial.feature[feature])\n",
    "\n",
    "                ## Gabazine case\n",
    "                if(expType == \"GABAzine\"):\n",
    "                    for sqr in exp:\n",
    "                        if sqr > 1:\n",
    "                            g_expected[sqr] = []\n",
    "                            g_observed[sqr] = []\n",
    "                            for coord in exp[sqr].coordwise:\n",
    "                                for trial in exp[sqr].coordwise[coord].trials:\n",
    "                                    if all([value == 0 for value in trial.flags.values()]):\n",
    "                                        g_expected[sqr].append(exp[sqr].coordwise[coord].expected_feature[feature])\n",
    "                                        g_observed[sqr].append(trial.feature[feature])\n",
    "\n",
    "            ## Control stuff\n",
    "            squareVal = []\n",
    "            list_control_expected = []\n",
    "            list_control_observed = []\n",
    "\n",
    "            max_exp, max_g_exp = 0.,0.\n",
    "            for sqr in sorted(observed):\n",
    "                list_control_expected += expected[sqr]\n",
    "                list_control_observed += observed[sqr]\n",
    "\n",
    "            X = np.array(list_control_expected)\n",
    "            y = np.array(list_control_observed)\n",
    "            idx   = np.argsort(X)\n",
    "            X = X[idx]\n",
    "            y = y[idx]\n",
    "\n",
    "            DN_Model = lmfit.Model(DN_model)\n",
    "            DN_pars = DN_Model.make_params()\n",
    "            \n",
    "            DN_result = DN_Model.fit(y, DN_pars, x=X)\n",
    "            DN_Control.append((DN_result.params['beta'], DN_result.params['gamma'], DN_result.redchi))\n",
    "\n",
    "            ### GABAzine stuff \n",
    "            squareVal = []\n",
    "            list_gabazine_expected = []\n",
    "            list_gabazine_observed = []\n",
    "\n",
    "            del DN_Model\n",
    "\n",
    "            max_exp, max_g_exp = 0.,0.\n",
    "            for sqr in sorted(g_observed):\n",
    "                list_gabazine_expected += g_expected[sqr]\n",
    "                list_gabazine_observed += g_observed[sqr]\n",
    "\n",
    "            X = np.array(list_gabazine_expected)\n",
    "            y = np.array(list_gabazine_observed)\n",
    "            idx   = np.argsort(X)\n",
    "            X = X[idx]\n",
    "            y = y[idx]\n",
    "\n",
    "            DN_Model = lmfit.Model(DN_model)\n",
    "            DN_pars = DN_Model.make_params()\n",
    "            DN_result = DN_Model.fit(y, DN_pars, x=X)\n",
    "            DN_GABAzine.append((DN_result.params['beta'], DN_result.params['gamma'],DN_result.redchi))"
   ]
  },
  {
   "cell_type": "code",
   "execution_count": 58,
   "metadata": {},
   "outputs": [
    {
     "data": {
      "image/png": "[encoded data removed]",
      "text/plain": [
       "<matplotlib.figure.Figure at 0x7f7795bc91d0>"
      ]
     },
     "metadata": {},
     "output_type": "display_data"
    }
   ],
   "source": [
    "fig, ax = plt.subplots(1, 2)\n",
    "dn_beta, dn_gamma, dn_chi = map(list, zip(*DN_Control))\n",
    "gaba_beta, gaba_gamma, gaba_chi = map(list, zip(*DN_GABAzine))\n",
    "ax[0].scatter(dn_beta, gaba_beta)\n",
    "ax[1].scatter(dn_gamma, gaba_gamma)\n",
    "\n",
    "# ax.plot([0,3],[0,3],'--')\n",
    "# ax.set_xlim(0,3)\n",
    "# ax.set_ylim(0,3)\n",
    "ax[0].set_xlabel(\"$\\\\beta$ Control\")\n",
    "ax[0].set_ylabel(\"$\\\\beta$ GABAzine\")\n",
    "ax[1].set_xlabel(\"$\\\\gamma$ Control\")\n",
    "ax[1].set_ylabel(\"$\\\\gamma$ GABAzine\")\n",
    "simpleaxis(ax)\n",
    "fig.set_figwidth(4)\n",
    "fig.set_figheight(2)\n",
    "fig.tight_layout()\n",
    "plt.show()"
   ]
  },
  {
   "cell_type": "code",
   "execution_count": 59,
   "metadata": {},
   "outputs": [
    {
     "data": {
      "text/plain": [
       "([<Parameter 'beta', value=1.0 +/- 0, bounds=[-inf:inf]>,\n",
       "  <Parameter 'beta', value=1.0 +/- 0, bounds=[-inf:inf]>,\n",
       "  <Parameter 'beta', value=1.0 +/- 0, bounds=[-inf:inf]>,\n",
       "  <Parameter 'beta', value=1.0 +/- 0, bounds=[-inf:inf]>,\n",
       "  <Parameter 'beta', value=1.0 +/- 0, bounds=[-inf:inf]>,\n",
       "  <Parameter 'beta', value=1.0 +/- 0, bounds=[-inf:inf]>,\n",
       "  <Parameter 'beta', value=1.0 +/- 0, bounds=[-inf:inf]>,\n",
       "  <Parameter 'beta', value=1.0 +/- 0, bounds=[-inf:inf]>],\n",
       " [<Parameter 'beta', value=1.0 +/- 0, bounds=[-inf:inf]>,\n",
       "  <Parameter 'beta', value=1.0 +/- 0, bounds=[-inf:inf]>,\n",
       "  <Parameter 'beta', value=1.0 +/- 0, bounds=[-inf:inf]>,\n",
       "  <Parameter 'beta', value=1.0 +/- 0, bounds=[-inf:inf]>,\n",
       "  <Parameter 'beta', value=1.0 +/- 0, bounds=[-inf:inf]>,\n",
       "  <Parameter 'beta', value=1.0 +/- 0, bounds=[-inf:inf]>,\n",
       "  <Parameter 'beta', value=1.0 +/- 0, bounds=[-inf:inf]>,\n",
       "  <Parameter 'beta', value=1.0 +/- 0, bounds=[-inf:inf]>])"
      ]
     },
     "execution_count": 59,
     "metadata": {},
     "output_type": "execute_result"
    }
   ],
   "source": [
    "dn_beta, gaba_beta"
   ]
  },
  {
   "cell_type": "code",
   "execution_count": 60,
   "metadata": {
    "scrolled": true
   },
   "outputs": [
    {
     "data": {
      "image/png": "[encoded data removed]",
      "text/plain": [
       "<matplotlib.figure.Figure at 0x7f7795a86cd0>"
      ]
     },
     "metadata": {},
     "output_type": "display_data"
    }
   ],
   "source": [
    "fig, ax = plt.subplots()\n",
    "ax.scatter(gaba_gamma,  dn_gamma, s=12)\n",
    "ax.plot([0,50],[0,50],'r--')\n",
    "ax.set_xlabel(\"GABAzine ($\\\\gamma$)\")\n",
    "ax.set_ylabel(\"Control ($\\\\gamma$)\")\n",
    "ax.set_xlim(0,70)\n",
    "ax.set_ylim(0,70)\n",
    "#ax.set_xlim(0,0.6)\n",
    "#ax.set_ylim(0,0.6)\n",
    "\n",
    "simpleaxis(ax)\n",
    "fig.set_figheight(4)\n",
    "fig.set_figwidth(4)\n",
    "plt.show()"
   ]
  },
  {
   "cell_type": "code",
   "execution_count": 61,
   "metadata": {},
   "outputs": [
    {
     "data": {
      "text/plain": [
       "[<Parameter 'gamma', value=2.4902598233584792 +/- 0, bounds=[-inf:inf]>,\n",
       " <Parameter 'gamma', value=1.0532294368411848 +/- 0, bounds=[-inf:inf]>,\n",
       " <Parameter 'gamma', value=6.3245459279086838 +/- 0, bounds=[-inf:inf]>,\n",
       " <Parameter 'gamma', value=10.082497562604928 +/- 0, bounds=[-inf:inf]>,\n",
       " <Parameter 'gamma', value=3.2191561517302252 +/- 0, bounds=[-inf:inf]>,\n",
       " <Parameter 'gamma', value=7.9794350965374177 +/- 0, bounds=[-inf:inf]>,\n",
       " <Parameter 'gamma', value=3.2147359871464545 +/- 0, bounds=[-inf:inf]>,\n",
       " <Parameter 'gamma', value=8.1623936008806872 +/- 0, bounds=[-inf:inf]>]"
      ]
     },
     "execution_count": 61,
     "metadata": {},
     "output_type": "execute_result"
    }
   ],
   "source": [
    "dn_gamma"
   ]
  },
  {
   "cell_type": "code",
   "execution_count": 93,
   "metadata": {},
   "outputs": [
    {
     "data": {
      "image/png": "[encoded data removed]",
      "text/plain": [
       "<matplotlib.figure.Figure at 0x7f779584c710>"
      ]
     },
     "metadata": {},
     "output_type": "display_data"
    }
   ],
   "source": [
    "indices = [1,2]\n",
    "fig, ax = plt.subplots()\n",
    "\n",
    "for ind, (l,d) in enumerate(zip(gaba_gamma, dn_gamma)):\n",
    "    ax.plot(indices, [d,l], 'o-', alpha=1, color='0.5', markerfacecolor='white',markersize=6)\n",
    "ax.plot(indices, [np.average(dn_gamma), np.average(gaba_gamma)],'o-', alpha=1., color='0',markersize=6)\n",
    "ax.set_xlim((0.5,2.5))\n",
    "ax.set_ylim(ymin=-4,ymax=70)\n",
    "ax.set_ylabel(\"$\\\\gamma$\")\n",
    "ax.set_xticks(indices)\n",
    "ax.set_xticklabels(('Control','GABAzine'))\n",
    "y, h, col = np.max([np.max(gaba_gamma),np.max(dn_gamma)])+ 8 , 2, 'k'\n",
    "plt.plot([1,1, 2, 2], [y, y+h, y+h, y], lw=1.5, c=col)\n",
    "plt.text((1+2)*.5, y+h, \"*\", ha='center', va='bottom', color=col)\n",
    "\n",
    "simpleaxis(ax)\n",
    "fig.set_figwidth(1.3)\n",
    "fig.set_figheight(1.5)\n",
    "dump(fig,file('figures/fig5/5c.pkl','wb'))\n",
    "plt.show()"
   ]
  },
  {
   "cell_type": "code",
   "execution_count": 95,
   "metadata": {},
   "outputs": [
    {
     "name": "stdout",
     "output_type": "stream",
     "text": [
      "RanksumsResult(statistic=-1.9953991197399139, pvalue=0.045999366875037084)\n",
      "N is 8\n"
     ]
    }
   ],
   "source": [
    "print(ss.ranksums(dn_gamma,gaba_gamma))\n",
    "print (\"N is {}\".format(len(dn_gamma)))"
   ]
  },
  {
   "cell_type": "code",
   "execution_count": 63,
   "metadata": {
    "collapsed": true
   },
   "outputs": [],
   "source": [
    "# f, ax = plt.subplots()\n",
    "# bins = np.linspace(0,1,15)\n",
    "# ax.hist(DN_Control,bins=bins,color='b')\n",
    "# ax.hist(DN_GABAzine,bins=bins,color='g')\n",
    "# plt.show()"
   ]
  },
  {
   "cell_type": "code",
   "execution_count": 64,
   "metadata": {
    "collapsed": true
   },
   "outputs": [],
   "source": [
    "##  Stuff I'm not using."
   ]
  },
  {
   "cell_type": "code",
   "execution_count": null,
   "metadata": {},
   "outputs": [],
   "source": [
    "# fig, ax = plt.subplots()\n",
    "# dn_beta, dn_gamma, gaba_beta, gaba_gamma = np.array(dn_beta), np.array(dn_gamma), np.array(gaba_beta), np.array(gaba_gamma)\n",
    "# ax.scatter(1./dn_beta, dn_gamma/dn_beta, c='b', label=\"Control\")\n",
    "# ax.scatter(1./gaba_beta, gaba_gamma/gaba_beta, c='orange', label=\"GABAzine\")\n",
    "# # ax.set_xscale('log')\n",
    "# # ax.set_yscale('log')\n",
    "# # ax.set_xlim(0,20)\n",
    "# # ax.set_ylim(0,20)\n",
    "# ax.set_xlabel(\"$1/\\\\beta$\")\n",
    "# ax.set_ylabel(\"$\\\\gamma/\\\\beta$\")\n",
    "# simpleaxis(ax)\n",
    "# fig.set_figheight(2)\n",
    "# fig.set_figwidth(2)\n",
    "# ax.legend(loc='best')\n",
    "# plt.show()"
   ]
  },
  {
   "cell_type": "code",
   "execution_count": null,
   "metadata": {
    "collapsed": true
   },
   "outputs": [],
   "source": [
    "# list_control_observed   = []  \n",
    "# list_gabazine_observed  = []\n",
    "# list_control_expected   = []\n",
    "# list_gabazine_expected  = []\n",
    "\n",
    "# if len(gabazine_observed):\n",
    "#     for key in gabazine_observed.keys():\n",
    "#         for element1, element2 in zip(gabazine_observed[key], gabazine_expected[key] ):\n",
    "#             if not (element1 <0 or np.isclose(element1, 0, atol=tolerance) or element2<0 or np.isclose(element2, 0, atol=tolerance)):\n",
    "#                 list_gabazine_observed.append(element1)\n",
    "#                 list_gabazine_expected.append(element2)\n",
    "\n",
    "# if len(control_observed):\n",
    "#     for key in control_observed.keys():\n",
    "#         for element1, element2 in zip(control_observed[key], control_expected[key] ):\n",
    "#             if not (element1 <0 or np.isclose(element1, 0, atol=tolerance) or element2<0 or np.isclose(element2, 0, atol=tolerance)):\n",
    "#                 list_control_observed.append(element1)\n",
    "#                 list_control_expected.append(element2)"
   ]
  },
  {
   "cell_type": "code",
   "execution_count": null,
   "metadata": {
    "collapsed": true
   },
   "outputs": [],
   "source": [
    "# minPoints = 10\n",
    "# minIQR = 3\n",
    "# if len(list_control_expected)>minPoints and len(list_control_observed)> minPoints and ss.iqr(list_control_expected)>minIQR:\n",
    "#     print (\"Control\")\n",
    "#     X = np.array(list_control_expected)\n",
    "#     y = np.array(list_control_observed)\n",
    "#     idx   = np.argsort(X)\n",
    "#     X = X[idx]\n",
    "#     y = y[idx]\n",
    "\n",
    "#     linear_Model = lmfit.Model(linearModel)\n",
    "#     DN_Model = lmfit.Model(DN_model)\n",
    "\n",
    "#     lin_pars = linear_Model.make_params()\n",
    "#     lin_result = linear_Model.fit(y, lin_pars, x=X)\n",
    "#     lin_aic.append(lin_result.aic)\n",
    "#     lin_chi.append(lin_result.redchi)\n",
    "\n",
    "#     DN_pars = DN_Model.make_params()\n",
    "#     DN_result = DN_Model.fit(y, DN_pars, x=X)\n",
    "#     dn_aic.append(DN_result.aic)\n",
    "#     dn_chi.append(DN_result.redchi)\n",
    "\n",
    "#     print (lin_result.fit_report())\n",
    "#     print (DN_result.fit_report())\n",
    "\n",
    "#     ax = plt.subplot(111)\n",
    "#     ax.scatter(X, y, alpha=0.2)\n",
    "#     ax.set_xlim(xmin=0.)\n",
    "#     ax.set_ylim(ymin=0.)\n",
    "#     ax.set_xlabel(\"Expected\")\n",
    "#     ax.set_ylabel(\"Observed\")\n",
    "#     ax.set_title(\"Divisive Normalization and Inhibition fits\")\n",
    "#     ax.plot(X, lin_result.best_fit, '-', label=\"Divisive Inhibition Model\")\n",
    "#     ax.plot(X, DN_result.best_fit, '-', label=\"Divisive Normalization Model\")\n",
    "#     plt.legend()\n",
    "#     plt.show()"
   ]
  },
  {
   "cell_type": "code",
   "execution_count": null,
   "metadata": {
    "collapsed": true,
    "scrolled": false
   },
   "outputs": [],
   "source": [
    "# if len(list_gabazine_expected)>minPoints and len(list_gabazine_observed)>minPoints and ss.iqr(list_gabazine_expected)>minIQR :\n",
    "\n",
    "#     print (\"GABAzine\")\n",
    "#     X = np.array(list_gabazine_expected)\n",
    "#     y = np.array(list_gabazine_observed)\n",
    "    \n",
    "#     idx   = np.argsort(X)\n",
    "#     X = X[idx]\n",
    "#     y = y[idx]\n",
    "\n",
    "#     linear_Model = lmfit.Model(linearModel)\n",
    "#     DN_Model = lmfit.Model(DN_model)\n",
    "\n",
    "#     lin_pars = linear_Model.make_params()\n",
    "#     lin_result = linear_Model.fit(y, lin_pars, x=X)\n",
    "#     lin_aic.append(lin_result.aic)\n",
    "#     lin_chi.append(lin_result.redchi)\n",
    "\n",
    "#     DN_pars = DN_Model.make_params()\n",
    "#     DN_result = DN_Model.fit(y, DN_pars, x=X)\n",
    "#     dn_aic.append(DN_result.aic)\n",
    "#     dn_chi.append(DN_result.redchi)\n",
    "\n",
    "#     print (lin_result.fit_report())\n",
    "#     print (DN_result.fit_report())\n",
    "\n",
    "#     ax = plt.subplot(111)\n",
    "#     ax.scatter(X, y, alpha=0.2)\n",
    "#     ax.set_xlim(xmin=0.)\n",
    "#     ax.set_ylim(ymin=0.)\n",
    "#     ax.set_xlabel(\"Expected\")\n",
    "#     ax.set_ylabel(\"Observed\")\n",
    "#     ax.set_title(\"Divisive Normalization and Inhibition fits\")\n",
    "#     ax.plot(X, lin_result.best_fit, '-', label=\"Divisive Inhibition Model\")\n",
    "#     ax.plot(X, DN_result.best_fit, '-', label=\"Divisive Normalization Model\")\n",
    "#     plt.legend()\n",
    "#     plt.show()"
   ]
  },
  {
   "cell_type": "code",
   "execution_count": null,
   "metadata": {},
   "outputs": [],
   "source": [
    "# fig, ax = plt.subplots()\n",
    "# ax.scatter(gaba_gamma,gaba_beta,  s=8, c='r', label=\"G\")\n",
    "# ax.scatter(dn_gamma,dn_beta, s=8, c='b', label=\"C\") \n",
    "# ax.set_xlabel(\"GABAzine ($\\\\gamma/\\\\beta$)\")\n",
    "# ax.set_ylabel(\"Control\")\n",
    "# ax.set_xlim(0,30)\n",
    "# ax.set_ylim(0,5)\n",
    "# simpleaxis(ax)\n",
    "# #ax.set_xscale('log')\n",
    "# #ax.set_yscale('log')\n",
    "# fig.set_figheight(8)\n",
    "# fig.set_figwidth(8)\n",
    "# plt.legend(loc='lower right')\n",
    "# plt.show()"
   ]
  },
  {
   "cell_type": "code",
   "execution_count": null,
   "metadata": {
    "collapsed": true
   },
   "outputs": [],
   "source": [
    "### GABAzine plotted with control"
   ]
  },
  {
   "cell_type": "code",
   "execution_count": null,
   "metadata": {
    "collapsed": true
   },
   "outputs": [],
   "source": [
    "# list_control_observed   = []  \n",
    "# list_gabazine_observed  = []\n",
    "# list_control_expected   = []\n",
    "# list_gabazine_expected  = []\n",
    "\n",
    "# if len(gabazine_observed_average) and len(control_observed_average):\n",
    "#     for key in list(set(gabazine_observed_average).intersection(set(control_observed_average))):\n",
    "#         element1, element2 =  gabazine_observed_average[key], control_observed_average[key]\n",
    "#         if not (element1 <0 or np.isclose(element1, 0, atol=tolerance) or element2<0 or np.isclose(element2, 0, atol=tolerance)):\n",
    "#             list_gabazine_observed.append(element1)\n",
    "#             list_control_observed.append(element2)"
   ]
  },
  {
   "cell_type": "code",
   "execution_count": null,
   "metadata": {
    "collapsed": true,
    "scrolled": false
   },
   "outputs": [],
   "source": [
    "# print (\"GABAzine and control\")\n",
    "# #X = np.array(list_gabazine_expected)\n",
    "# #y = np.array(list_gabazine_observed)\n",
    "\n",
    "# y = np.array(list_control_observed)\n",
    "# X = np.array(list_gabazine_observed)\n",
    "\n",
    "# idx   = np.argsort(X)\n",
    "# X = X[idx]\n",
    "# y = y[idx]\n",
    "\n",
    "# linear_Model = lmfit.Model(linearModel)\n",
    "# DN_Model = lmfit.Model(DN_model)\n",
    "\n",
    "# lin_pars = linear_Model.make_params()\n",
    "# lin_result = linear_Model.fit(y, lin_pars, x=X)\n",
    "# lin_aic.append(lin_result.aic)\n",
    "# lin_chi.append(lin_result.redchi)\n",
    "\n",
    "# DN_pars = DN_Model.make_params()\n",
    "# DN_result = DN_Model.fit(y, DN_pars, x=X)\n",
    "# dn_aic.append(DN_result.aic)\n",
    "# dn_chi.append(DN_result.redchi)\n",
    "\n",
    "# print (lin_result.fit_report())\n",
    "# print (DN_result.fit_report())\n",
    "\n",
    "# ax = plt.subplot(111)\n",
    "# ax.scatter(X, y, alpha=0.2)\n",
    "# ax.set_xlim(xmin=0.)\n",
    "# ax.set_ylim(ymin=0.)\n",
    "# ax.set_xlabel(\"Expected\")\n",
    "# ax.set_ylabel(\"Observed\")\n",
    "# ax.set_title(\"Divisive Normalization and Inhibition fits\")\n",
    "# ax.plot(X, lin_result.best_fit, '-', label=\"Divisive Inhibition Model\")\n",
    "# ax.plot(X, DN_result.best_fit, '-', label=\"Divisive Normalization Model\")\n",
    "# plt.show()"
   ]
  },
  {
   "cell_type": "code",
   "execution_count": null,
   "metadata": {
    "collapsed": true
   },
   "outputs": [],
   "source": [
    "### For averaged out responses"
   ]
  },
  {
   "cell_type": "code",
   "execution_count": null,
   "metadata": {
    "collapsed": true
   },
   "outputs": [],
   "source": [
    "# for expt in neuron.experiment:\n",
    "#     print (\"Starting expt {}\".format(expt))\n",
    "#     for numSquares in neuron.experiment[expt].keys(): \n",
    "#         print (\"Square {}\".format(numSquares))\n",
    "#         if not numSquares == 1:\n",
    "#             nSquareData = neuron.experiment[expt][numSquares]\n",
    "#             if expt == \"Control\":\n",
    "#                 coords_C = nSquareData.coordwise\n",
    "#                 for coord in coords_C: \n",
    "#                     if feature in coords_C[coord].feature:\n",
    "#                         control_observed_average.update({coord: coords_C[coord].average_feature[feature]})\n",
    "#                         control_expected_average.update({coord: coords_C[coord].expected_feature[feature]})\n",
    "#                         control_observed.update({coord: []})\n",
    "#                         control_expected.update({coord: []})\n",
    "#                         for trial in coords_C[coord].trials:\n",
    "#                             if feature in trial.feature:\n",
    "#                                 control_observed[coord].append(trial.feature[feature])\n",
    "#                                 control_expected[coord].append(coords_C[coord].expected_feature[feature])\n",
    "#             elif expt == \"GABAzine\":\n",
    "#                 coords_I = nSquareData.coordwise\n",
    "#                 for coord in coords_I: \n",
    "#                     if feature in coords_I[coord].feature:\n",
    "#                         gabazine_observed.update({coord: []})\n",
    "#                         gabazine_expected.update({coord: []})\n",
    "#                         gabazine_observed_average.update({coord: coords_I[coord].average_feature[feature]})\n",
    "#                         gabazine_expected_average.update({coord: coords_I[coord].expected_feature[feature]})\n",
    "\n",
    "#                         for trial in coords_I[coord].trials:\n",
    "#                             if feature in trial.feature:\n",
    "#                                 gabazine_observed[coord].append(trial.feature[feature])\n",
    "#                                 gabazine_expected[coord].append(coords_I[coord].expected_feature[feature])\n",
    "# print (\"Read {} into variables\".format(filename))"
   ]
  },
  {
   "cell_type": "code",
   "execution_count": null,
   "metadata": {
    "collapsed": true
   },
   "outputs": [],
   "source": [
    "# list_control_observed   = []  \n",
    "# list_gabazine_observed  = []\n",
    "# list_control_expected   = []\n",
    "# list_gabazine_expected  = []\n",
    "\n",
    "# if len(gabazine_observed_average):\n",
    "#     for key in gabazine_observed_average.keys():\n",
    "#         element1, element2 = gabazine_observed_average[key], gabazine_expected_average[key]\n",
    "#         if not (element1 <0 or np.isclose(element1, 0, atol=tolerance) or element2<0 or np.isclose(element2, 0, atol=tolerance)):\n",
    "#             list_gabazine_observed.append(element1)\n",
    "#             list_gabazine_expected.append(element2)\n",
    "\n",
    "# if len(control_observed_average):\n",
    "#     for key in control_observed_average.keys():\n",
    "#         element1, element2 = control_observed_average[key], control_expected_average[key]\n",
    "#         if not (element1 <0 or np.isclose(element1, 0, atol=tolerance) or element2<0 or np.isclose(element2, 0, atol=tolerance)):\n",
    "#             list_control_observed.append(element1)\n",
    "#             list_control_expected.append(element2)"
   ]
  }
 ],
 "metadata": {
  "hide_input": false,
  "kernelspec": {
   "display_name": "Python 2",
   "language": "python",
   "name": "python2"
  },
  "language_info": {
   "codemirror_mode": {
    "name": "ipython",
    "version": 2
   },
   "file_extension": ".py",
   "mimetype": "text/x-python",
   "name": "python",
   "nbconvert_exporter": "python",
   "pygments_lexer": "ipython2",
   "version": "2.7.12"
  },
  "latex_envs": {
   "LaTeX_envs_menu_present": true,
   "autocomplete": true,
   "bibliofile": "biblio.bib",
   "cite_by": "apalike",
   "current_citInitial": 1,
   "eqLabelWithNumbers": true,
   "eqNumInitial": 1,
   "hotkeys": {
    "equation": "Ctrl-E",
    "itemize": "Ctrl-I"
   },
   "labels_anchors": false,
   "latex_user_defs": false,
   "report_style_numbering": false,
   "user_envs_cfg": false
  },
  "toc": {
   "colors": {
    "hover_highlight": "#DAA520",
    "navigate_num": "#000000",
    "navigate_text": "#333333",
    "running_highlight": "#FF0000",
    "selected_highlight": "#FFD700",
    "sidebar_border": "#EEEEEE",
    "wrapper_background": "#FFFFFF"
   },
   "moveMenuLeft": true,
   "nav_menu": {
    "height": "12px",
    "width": "252px"
   },
   "navigate_menu": true,
   "number_sections": true,
   "sideBar": true,
   "threshold": 4,
   "toc_cell": false,
   "toc_section_display": "block",
   "toc_window_display": true,
   "widenNotebook": false
  },
  "varInspector": {
   "cols": {
    "lenName": 16,
    "lenType": 16,
    "lenVar": 40
   },
   "kernels_config": {
    "python": {
     "delete_cmd_postfix": "",
     "delete_cmd_prefix": "del ",
     "library": "var_list.py",
     "varRefreshCmd": "print(var_dic_list())"
    },
    "r": {
     "delete_cmd_postfix": ") ",
     "delete_cmd_prefix": "rm(",
     "library": "var_list.r",
     "varRefreshCmd": "cat(var_dic_list()) "
    }
   },
   "types_to_exclude": [
    "module",
    "function",
    "builtin_function_or_method",
    "instance",
    "_Feature"
   ],
   "window_display": false
  }
 },
 "nbformat": 4,
 "nbformat_minor": 2
}
