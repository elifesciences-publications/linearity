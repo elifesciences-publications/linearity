{
 "cells": [
  {
   "cell_type": "code",
   "execution_count": 8,
   "metadata": {
    "collapsed": true
   },
   "outputs": [],
   "source": [
    "import glob\n",
    "import matplotlib\n",
    "import matplotlib.pyplot as plt\n",
    "import pickle\n",
    "import lmfit\n",
    "import numpy as np\n",
    "import scipy.stats as ss\n",
    "plt.style.use('seaborn-white')\n",
    "import statsmodels.api as sm\n",
    "from statsmodels.sandbox.regression.predstd import wls_prediction_std\n",
    "from statsmodels.formula.api import ols, rlm\n",
    "import sys\n",
    "sys.path.append('../')\n",
    "from Linearity import Neuron"
   ]
  },
  {
   "cell_type": "code",
   "execution_count": 9,
   "metadata": {
    "collapsed": true
   },
   "outputs": [],
   "source": [
    "filename = '/media/sahil/NCBS_Shares_BGStim/patch_data/170303/c1/plots/c1.pkl'"
   ]
  },
  {
   "cell_type": "code",
   "execution_count": 16,
   "metadata": {
    "collapsed": true
   },
   "outputs": [],
   "source": [
    "#Colorscheme for squares\n",
    "color_sqr = { index+1: color for index, color in enumerate(matplotlib.cm.viridis(np.linspace(0,1,9)))}"
   ]
  },
  {
   "cell_type": "code",
   "execution_count": 10,
   "metadata": {
    "collapsed": true
   },
   "outputs": [],
   "source": [
    "control_result2_rsquared_adj = []\n",
    "control_result1_rsquared_adj = []\n",
    "control_var_expected = []\n",
    "gabazine_result2_rsquared_adj = []\n",
    "gabazine_result1_rsquared_adj = []\n",
    "gabazine_var_expected = []\n",
    "tolerance = 5e-4"
   ]
  },
  {
   "cell_type": "code",
   "execution_count": 11,
   "metadata": {
    "collapsed": true
   },
   "outputs": [],
   "source": [
    "def linearModel(x, a=1):\n",
    "    # Linear model\n",
    "    return (a*x)\n",
    "\n",
    "def DN_model(x,a=1):\n",
    "    # Divisive normalization model\n",
    "    #return x - a*(x**2)/(b+x)\n",
    "    return x/(a*x+1)"
   ]
  },
  {
   "cell_type": "code",
   "execution_count": 12,
   "metadata": {},
   "outputs": [
    {
     "name": "stdout",
     "output_type": "stream",
     "text": [
      "Starting expt Control\n",
      "Square 1\n",
      "Square 2\n",
      "Square 3\n",
      "Square 5\n",
      "Square 7\n",
      "Square 9\n",
      "Starting expt GABAzine\n",
      "Square 1\n",
      "Square 2\n",
      "Square 3\n",
      "Square 5\n",
      "Square 7\n",
      "Read /media/sahil/NCBS_Shares_BGStim/patch_data/170303/c1/plots/c1.pkl into variables\n"
     ]
    }
   ],
   "source": [
    "lin_aic = []\n",
    "dn_aic = []\n",
    "lin_chi = []\n",
    "dn_chi = []\n",
    "\n",
    "control_observed = {}\n",
    "control_observed_average = {}\n",
    "gabazine_observed ={}\n",
    "gabazine_observed_average = {}\n",
    "control_expected = {}\n",
    "control_expected_average = {}\n",
    "gabazine_expected ={}\n",
    "gabazine_expected_average = {}\n",
    "feature = 0\n",
    "\n",
    "neuron = Neuron.load(filename)\n",
    "for expt in neuron.experiment:\n",
    "    print (\"Starting expt {}\".format(expt))\n",
    "    for numSquares in neuron.experiment[expt].keys(): \n",
    "        print (\"Square {}\".format(numSquares))\n",
    "        if not numSquares == 1:\n",
    "            nSquareData = neuron.experiment[expt][numSquares]\n",
    "            if expt == \"Control\":\n",
    "                coords_C = nSquareData.coordwise\n",
    "                for coord in coords_C: \n",
    "                    if feature in coords_C[coord].feature:\n",
    "                        control_observed_average.update({coord: coords_C[coord].average_feature[feature]})\n",
    "                        control_expected_average.update({coord: coords_C[coord].expected_feature[feature]})\n",
    "                        control_observed.update({coord: []})\n",
    "                        control_expected.update({coord: []})\n",
    "                        for trial in coords_C[coord].trials:\n",
    "                            if feature in trial.feature:\n",
    "                                control_observed[coord].append(trial.feature[feature])\n",
    "                                control_expected[coord].append(coords_C[coord].expected_feature[feature])\n",
    "            elif expt == \"GABAzine\":\n",
    "                coords_I = nSquareData.coordwise\n",
    "                for coord in coords_I: \n",
    "                    if feature in coords_I[coord].feature:\n",
    "                        gabazine_observed.update({coord: []})\n",
    "                        gabazine_expected.update({coord: []})\n",
    "                        gabazine_observed_average.update({coord: coords_I[coord].average_feature[feature]})\n",
    "                        gabazine_expected_average.update({coord: coords_I[coord].expected_feature[feature]})\n",
    "\n",
    "                        for trial in coords_I[coord].trials:\n",
    "                            if feature in trial.feature:\n",
    "                                gabazine_observed[coord].append(trial.feature[feature])\n",
    "                                gabazine_expected[coord].append(coords_I[coord].expected_feature[feature])\n",
    "print (\"Read {} into variables\".format(filename))"
   ]
  },
  {
   "cell_type": "code",
   "execution_count": 18,
   "metadata": {
    "collapsed": true,
    "scrolled": false
   },
   "outputs": [],
   "source": [
    "feature = 0 # Area under the curve\n",
    "expected, observed, g_expected, g_observed = {}, {}, {}, {}\n",
    "for exp in neuron:\n",
    "    for sqr in exp:\n",
    "        ## Control case\n",
    "        if(exp[sqr].type == \"Control\"):\n",
    "            if sqr > 1:\n",
    "                expected[sqr] = []\n",
    "                observed[sqr] = []\n",
    "                for coord in exp[sqr].coordwise:\n",
    "                    for trial in exp[sqr].coordwise[coord].trials:\n",
    "                        if all([value == 0 for value in trial.flags.values()]):\n",
    "                            expected[sqr].append(exp[sqr].coordwise[coord].expected_feature[feature])\n",
    "                            observed[sqr].append(trial.feature[feature])"
   ]
  },
  {
   "cell_type": "code",
   "execution_count": 19,
   "metadata": {
    "scrolled": false
   },
   "outputs": [
    {
     "name": "stdout",
     "output_type": "stream",
     "text": [
      "[[Model]]\n",
      "    Model(linearModel)\n",
      "[[Fit Statistics]]\n",
      "    # function evals   = 6\n",
      "    # data points      = 334\n",
      "    # variables        = 1\n",
      "    chi-square         = 787.840\n",
      "    reduced chi-square = 2.366\n",
      "    Akaike info crit   = 288.623\n",
      "    Bayesian info crit = 292.434\n",
      "[[Variables]]\n",
      "    a:   0.40100283 +/- 0.008347 (2.08%) (init= 1)\n",
      "[[Correlations]] (unreported correlations are <  0.100)\n",
      "\n",
      "[[Model]]\n",
      "    Model(DN_model)\n",
      "[[Fit Statistics]]\n",
      "    # function evals   = 21\n",
      "    # data points      = 334\n",
      "    # variables        = 1\n",
      "    chi-square         = 357.317\n",
      "    reduced chi-square = 1.073\n",
      "    Akaike info crit   = 24.539\n",
      "    Bayesian info crit = 28.350\n",
      "[[Variables]]\n",
      "    a:   0.12251295 +/- 0.002948 (2.41%) (init= 1)\n",
      "[[Correlations]] (unreported correlations are <  0.100)\n",
      "\n"
     ]
    },
    {
     "data": {
      "image/png": "[encoded data removed]",
      "text/plain": [
       "<matplotlib.figure.Figure at 0x7fa86ceb2750>"
      ]
     },
     "metadata": {},
     "output_type": "display_data"
    }
   ],
   "source": [
    "max_exp, max_g_exp = 0.,0.\n",
    "f, ax = plt.subplots()\n",
    "color=iter(matplotlib.cm.viridis(np.linspace(0,1,len(observed))))\n",
    "squareVal = []\n",
    "list_control_expected = []\n",
    "list_control_observed = []\n",
    "\n",
    "for sqr in sorted(observed):\n",
    "    squareVal.append(ax.scatter(expected[sqr], observed[sqr], label=str(sqr), c=color_sqr[sqr], alpha=0.8))\n",
    "    max_exp = max(max_exp, max(expected[sqr]))\n",
    "    list_control_expected += expected[sqr]\n",
    "    list_control_observed += observed[sqr]\n",
    "    \n",
    "X = np.array(list_control_expected)\n",
    "y = np.array(list_control_observed)\n",
    "idx   = np.argsort(X)\n",
    "X = X[idx]\n",
    "y = y[idx]\n",
    "\n",
    "linear_Model = lmfit.Model(linearModel)\n",
    "DN_Model = lmfit.Model(DN_model)\n",
    "\n",
    "lin_pars = linear_Model.make_params()\n",
    "lin_result = linear_Model.fit(y, lin_pars, x=X)\n",
    "lin_aic.append(lin_result.aic)\n",
    "lin_chi.append(lin_result.redchi)\n",
    "\n",
    "DN_pars = DN_Model.make_params()\n",
    "DN_result = DN_Model.fit(y, DN_pars, x=X)\n",
    "dn_aic.append(DN_result.aic)\n",
    "dn_chi.append(DN_result.redchi)\n",
    "\n",
    "print (lin_result.fit_report())\n",
    "print (DN_result.fit_report())\n",
    "\n",
    "ax.set_xlim(xmin=0.)\n",
    "ax.set_ylim(ymin=0.)\n",
    "ax.set_xlabel(\"Expected\")\n",
    "ax.set_ylabel(\"Observed\")\n",
    "ax.set_title(\"Divisive Normalization and Inhibition fits\")\n",
    "div_inh = ax.plot(X, lin_result.best_fit, '-')\n",
    "div_norm = ax.plot(X, DN_result.best_fit, '-')\n",
    "\n",
    "\n",
    "max_exp *=1.1\n",
    "max_g_exp *=1.1\n",
    "ax.set_xlim(0,max_exp)\n",
    "ax.set_ylim(0,max_exp)\n",
    "ax.set_xlabel(\"Expected Sum (mV)\")\n",
    "ax.set_ylabel(\"Observed Sum (mV)\")\n",
    "linear = ax.plot((0,max_exp), (0,max_exp), 'r--')\n",
    "\n",
    "legends = squareVal + div_inh + div_norm + linear\n",
    "labels = sorted(observed.keys()) + [\"Divisive Inhibition\", \"Divisive Normalization\", \"Linear sum\"]\n",
    "\n",
    "f.set_figwidth(8)\n",
    "f.set_figheight(8)\n",
    "ax.legend(legends, labels)\n",
    "plt.show()"
   ]
  }
 ],
 "metadata": {
  "hide_input": true,
  "kernelspec": {
   "display_name": "Python 2",
   "language": "python",
   "name": "python2"
  },
  "language_info": {
   "codemirror_mode": {
    "name": "ipython",
    "version": 2
   },
   "file_extension": ".py",
   "mimetype": "text/x-python",
   "name": "python",
   "nbconvert_exporter": "python",
   "pygments_lexer": "ipython2",
   "version": "2.7.12"
  },
  "latex_envs": {
   "LaTeX_envs_menu_present": true,
   "autocomplete": true,
   "bibliofile": "biblio.bib",
   "cite_by": "apalike",
   "current_citInitial": 1,
   "eqLabelWithNumbers": true,
   "eqNumInitial": 1,
   "hotkeys": {
    "equation": "Ctrl-E",
    "itemize": "Ctrl-I"
   },
   "labels_anchors": false,
   "latex_user_defs": false,
   "report_style_numbering": false,
   "user_envs_cfg": false
  },
  "toc": {
   "colors": {
    "hover_highlight": "#DAA520",
    "navigate_num": "#000000",
    "navigate_text": "#333333",
    "running_highlight": "#FF0000",
    "selected_highlight": "#FFD700",
    "sidebar_border": "#EEEEEE",
    "wrapper_background": "#FFFFFF"
   },
   "moveMenuLeft": true,
   "nav_menu": {
    "height": "12px",
    "width": "252px"
   },
   "navigate_menu": true,
   "number_sections": true,
   "sideBar": true,
   "threshold": 4,
   "toc_cell": false,
   "toc_section_display": "block",
   "toc_window_display": true,
   "widenNotebook": false
  },
  "varInspector": {
   "cols": {
    "lenName": 16,
    "lenType": 16,
    "lenVar": 40
   },
   "kernels_config": {
    "python": {
     "delete_cmd_postfix": "",
     "delete_cmd_prefix": "del ",
     "library": "var_list.py",
     "varRefreshCmd": "print(var_dic_list())"
    },
    "r": {
     "delete_cmd_postfix": ") ",
     "delete_cmd_prefix": "rm(",
     "library": "var_list.r",
     "varRefreshCmd": "cat(var_dic_list()) "
    }
   },
   "types_to_exclude": [
    "module",
    "function",
    "builtin_function_or_method",
    "instance",
    "_Feature"
   ],
   "window_display": false
  }
 },
 "nbformat": 4,
 "nbformat_minor": 2
}
