{
 "cells": [
  {
   "cell_type": "code",
   "execution_count": 1,
   "metadata": {
    "collapsed": true
   },
   "outputs": [],
   "source": [
    "import numpy as np\n",
    "import pickle\n",
    "#%matplotlib notebook\n",
    "from Linearity import Neuron\n",
    "import matplotlib\n",
    "import matplotlib.pyplot as plt\n",
    "import matplotlib.cm as cm\n",
    "import matplotlib.colors as colors"
   ]
  },
  {
   "cell_type": "code",
   "execution_count": 2,
   "metadata": {},
   "outputs": [],
   "source": [
    "pickleList = '../data/current_clamp_files_with_GABAzine.txt'\n",
    "with open (pickleList, 'r') as fp:\n",
    "    neuronList = pickle.load(fp)"
   ]
  },
  {
   "cell_type": "code",
   "execution_count": 3,
   "metadata": {},
   "outputs": [
    {
     "name": "stdout",
     "output_type": "stream",
     "text": [
      "(0, '150828', 'c2')\n",
      "(1, '150902', 'c1')\n",
      "(2, '150902', 'c2')\n",
      "(3, '150904', 'c1')\n",
      "(4, '150904', 'c3')\n",
      "(5, '160126', 'c3')\n",
      "(6, '160209', 'c4')\n",
      "(7, '160219', 'c5')\n",
      "(8, '160223', 'c2')\n",
      "(9, '160223', 'c3')\n",
      "(10, '160513', 'c5')\n",
      "(11, '160617', 'c5')\n",
      "(12, '160817', 'c2')\n",
      "(13, '160830', 'c1')\n",
      "(14, '160920', 'c1')\n",
      "(15, '160927', 'c5')\n",
      "(16, '160927', 'c3')\n",
      "(17, '160927', 'c1')\n",
      "(18, '160928', 'c3')\n",
      "(19, '160928', 'c4')\n",
      "(20, '161013', 'c1')\n",
      "(21, '161026', 'c1')\n",
      "(22, '161027', 'c3')\n",
      "(23, '161109', 'c3')\n",
      "(24, '161110', 'c1')\n",
      "(25, '161116', 'c2')\n",
      "(26, '161117', 'c1')\n",
      "(27, '161228', 'c1')\n",
      "(28, '170104', 'c4')\n",
      "(29, '170208', 'c3')\n",
      "(30, '170222', 'c1')\n",
      "(31, '170222', 'c2')\n",
      "(32, '170220', 'c1')\n",
      "(33, '170317', 'c1')\n",
      "(34, '170317', 'c3')\n",
      "(35, '170317', 'c4')\n",
      "(36, '170303', 'c1')\n",
      "(37, '170124', 'c3_CS')\n",
      "(38, '170124', 'c2_CS')\n",
      "(39, '161116', 'c1_CS')\n",
      "(40, '161117', 'c3_CS')\n",
      "(41, '161117', 'c2_CS')\n",
      "(42, '161123', 'c2_CS')\n",
      "(43, '161123', 'c1_CS')\n",
      "(44, 'Control_RS_short', '1_c4_150827')\n",
      "(45, 'Control_RS_short', '2_c1_150828')\n",
      "(46, 'Control_RS_short', '3_c1_150929')\n",
      "(47, 'Control_RS_short', '6_c2_160513')\n",
      "(48, 'RS_TBS_short', '5_c4_160122')\n"
     ]
    }
   ],
   "source": [
    "for i, neuron in enumerate(neuronList):\n",
    "    print (i, neuron.date, neuron.index)"
   ]
  },
  {
   "cell_type": "code",
   "execution_count": 100,
   "metadata": {
    "collapsed": true
   },
   "outputs": [],
   "source": [
    "neuron = neuronList[19]"
   ]
  },
  {
   "cell_type": "code",
   "execution_count": 104,
   "metadata": {},
   "outputs": [
    {
     "data": {
      "image/png": "[encoded data removed]",
      "text/plain": [
       "<matplotlib.figure.Figure at 0x7f25e8b98a50>"
      ]
     },
     "metadata": {},
     "output_type": "display_data"
    }
   ],
   "source": [
    "fullWindowSize = 1000\n",
    "    \n",
    "excTrialList, controlTrialList = {}, {}\n",
    "exc = neuron.experiment['GABAzine']\n",
    "control = neuron.experiment['Control']\n",
    "for numSquares in set(exc).intersection(control):\n",
    "    if numSquares > 1:\n",
    "        for coord in exc[numSquares].coordwise:\n",
    "            excTrialList[coord] = np.average([trial.interestWindow for trial in exc[numSquares].coordwise[coord].trials if not trial.AP_flag],axis=0)\n",
    "            controlTrialList[coord] = np.average([trial.interestWindow for trial in control[numSquares].coordwise[coord].trials if not trial.AP_flag],axis=0)\n",
    "#               excTrialList+=[exc[numSquares].trial[trialNum] for trialNum in exc[numSquares].trial]\n",
    "                #controlTrialList+=[control[numSquares].trial[trialNum] for trialNum in control[numSquares].trial]\n",
    "\n",
    "# print (excTrialList), controlTrialList\n",
    "fig, ax = plt.subplots()\n",
    "e_max, c_max, expected, excMaxDiff = [],[],[],[]\n",
    "for trialIndex,trial in excTrialList.items():\n",
    "    if type(trial) is np.ndarray:\n",
    "        e_max.append(np.max(trial[:fullWindowSize]))\n",
    "        c_max.append(np.max(controlTrialList[trialIndex][:fullWindowSize]))\n",
    "        expected.append(np.max(trial))\n",
    "        excMaxDiff.append(np.max(np.diff(trial[:fullWindowSize])))\n",
    "\n",
    "ax.scatter(expected, c_max,c='g')\n",
    "ax_copy = ax.twinx()\n",
    "ax_copy.scatter(expected, excMaxDiff,c='b')\n",
    "\n",
    "ax.set_ylabel(\"$\\dot{C}_{V}^{max}$\")\n",
    "# ax[1].scatter(i_max, inhMaxDiff, c='g',s=8)\n",
    "ax.set_xlim(xmin=0.)\n",
    "ax_copy.set_ylim(ymin=0.)#,ymax=0.09)\n",
    "ax.set_xlabel(\"$V_{Exc}^{max}$\")\n",
    "ax_copy.set_ylabel(\"$\\dot{V}_{Exc}^{max}$\")\n",
    "ax.set_ylim(ymin=0.)\n",
    "# ax.set_ylim(ymin=0.,ymax=5)\n",
    "plt.show()"
   ]
  },
  {
   "cell_type": "code",
   "execution_count": 106,
   "metadata": {},
   "outputs": [
    {
     "data": {
      "text/plain": [
       "[(0.18292229914778932, 0.14529928102441295),\n",
       " (1.7316080955886004, 1.1158060539757417),\n",
       " (0.95491277362828442, 0.87209439589367832),\n",
       " (0.04678560537855251, 0.24051147485821919),\n",
       " (1.6864341722318754, 0.74449026833864274),\n",
       " (1.3298330635684172, 1.2219504822100928),\n",
       " (0.80576519974302696, 1.2447010655073505),\n",
       " (1.4448141903035505, 1.2629055330814543),\n",
       " (0.22760667771242318, 0.32909202302459567),\n",
       " (1.0177352362350576, 0.92897143710168606),\n",
       " (0.34908950392666949, 0.51853420297998654),\n",
       " (0.62987971425875833, 0.50682633457375248),\n",
       " (0.048000520765221433, 0.18432716704928076),\n",
       " (0.53392291844832507, 0.63012677852581545),\n",
       " (0.73102694857543205, 1.2014438298338972),\n",
       " (1.0559387878040158, 1.1531808031751454),\n",
       " (0.34460728852705746, 0.19658202844815897),\n",
       " (0.41163547137853113, 0.62118368547710257),\n",
       " (1.0453694638022715, 0.58384545935691212),\n",
       " (0.30072675724836934, 0.68818129335154088),\n",
       " (0.60722694511223041, 0.62474513835408585),\n",
       " (1.2799112764027738, 1.0069194541165993),\n",
       " (1.3140442637303458, 0.87261894867649892),\n",
       " (0.87529329817047274, 1.0529762194334922)]"
      ]
     },
     "execution_count": 106,
     "metadata": {},
     "output_type": "execute_result"
    }
   ],
   "source": [
    "zip(c_max, expected)"
   ]
  },
  {
   "cell_type": "code",
   "execution_count": null,
   "metadata": {
    "collapsed": true
   },
   "outputs": [],
   "source": []
  }
 ],
 "metadata": {
  "kernelspec": {
   "display_name": "Python 2",
   "language": "python",
   "name": "python2"
  },
  "language_info": {
   "codemirror_mode": {
    "name": "ipython",
    "version": 2
   },
   "file_extension": ".py",
   "mimetype": "text/x-python",
   "name": "python",
   "nbconvert_exporter": "python",
   "pygments_lexer": "ipython2",
   "version": "2.7.12"
  },
  "varInspector": {
   "cols": {
    "lenName": 16,
    "lenType": 16,
    "lenVar": 40
   },
   "kernels_config": {
    "python": {
     "delete_cmd_postfix": "",
     "delete_cmd_prefix": "del ",
     "library": "var_list.py",
     "varRefreshCmd": "print(var_dic_list())"
    },
    "r": {
     "delete_cmd_postfix": ") ",
     "delete_cmd_prefix": "rm(",
     "library": "var_list.r",
     "varRefreshCmd": "cat(var_dic_list()) "
    }
   },
   "types_to_exclude": [
    "module",
    "function",
    "builtin_function_or_method",
    "instance",
    "_Feature"
   ],
   "window_display": false
  }
 },
 "nbformat": 4,
 "nbformat_minor": 2
}
