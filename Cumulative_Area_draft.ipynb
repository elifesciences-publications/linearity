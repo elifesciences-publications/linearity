{
 "cells": [
  {
   "cell_type": "code",
   "execution_count": null,
   "metadata": {
    "collapsed": true
   },
   "outputs": [],
   "source": [
    "def getCumulativeAreaToPeak(trace, step_size=20):\n",
    "    '''Return the area to peak cumulated over time until peak'''\n",
    "    areaToPeak = []\n",
    "    for j in xrange(0,len(trace),step_size):\n",
    "        areaToPeak.append(np.trapz(trace[j:j+step_size]))\n",
    "    cumAreaToPeak = np.cumsum(areaToPeak)\n",
    "    return cumAreaToPeak/float(cumAreaToPeak[-1])\n",
    "def findOnset(trace, threshold, diffpts = 20):\n",
    "    diffVec = np.diff(trace, diffpts)\n",
    "    #print (diffVec)\n",
    "    onset = np.argmax(diffVec > threshold)/float(diffpts)\n",
    "    return onset\n",
    "def getThreshold(trace, diffpts = 20):\n",
    "    diffVec = np.diff(trace, diffpts)/float(diffpts)\n",
    "    #print(np.mean(diffVec))\n",
    "    return 10*np.mean(diffVec)\n",
    "def findExcInhOnsets(trace, threshold, diffpts = 20):\n",
    "    diffVec = np.diff(trace, diffpts)\n",
    "    #print (diffVec)\n",
    "    onset = np.argmax(diffVec > threshold)/float(diffpts)\n",
    "    return onset\n",
    "def findExcOnset(trace, inh_onset):\n",
    "    maxOnset = inh_onset - np.argmax(trace[inh_onset::-1])\n",
    "    return maxOnset\n"
   ]
  },
  {
   "cell_type": "code",
   "execution_count": null,
   "metadata": {
    "collapsed": true
   },
   "outputs": [],
   "source": [
    "step_size = 20 # points\n",
    "f, ax = plt.subplots(figsize=(10,8))\n",
    "for exp in n:\n",
    "    for sq in exp:\n",
    "        color = ['blue','green']\n",
    "        if (exp[sq].type == 1) or (exp[sq].type == 2):\n",
    "            for trial in exp[sq].trial:\n",
    "                trace = exp[sq].trial[trial].interestWindow\n",
    "                timeToPeak = exp[sq].trial[trial].feature[6]\n",
    "                if timeToPeak:\n",
    "                    if not np.isnan(timeToPeak):\n",
    "                        indexToPeak = int(timeToPeak*exp[sq].trial[trial].F_sample)\n",
    "\n",
    "                        traceToPeak = trace[:indexToPeak]\n",
    "                        cumAreaToPeak = getCumulativeAreaToPeak(traceToPeak,step_size)\n",
    "                        print (cumAreaToPeak)\n",
    "                        time = np.arange(0,indexToPeak,step_size)/20.\n",
    "                        ax.plot(time, cumAreaToPeak, c= color[exp[sq].type-1])\n",
    "f.show()\n",
    "a = [1,2,3]\n",
    "print(a[2:0:-1])"
   ]
  },
  {
   "cell_type": "code",
   "execution_count": null,
   "metadata": {
    "collapsed": true
   },
   "outputs": [],
   "source": [
    "                    if not np.isnan(timeToPeak):\n",
    "                        indexToPeak = int(timeToPeak*exp[sq].trial[trial].F_sample)\n",
    "                        traceToPeak = trace[:indexToPeak]\n",
    "                        baselineDiff = getThreshold(baseline)\n",
    "                        if (exp[sq].type == 1):\n",
    "                            onset = findOnset(-traceToPeak, threshold=baselineDiff)\n",
    "                            exc[trial] = maxTrace\n",
    "                            exc_onset[trial] = onset\n",
    "                        elif (exp[sq].type == 2):\n",
    "                            onset = findOnset(traceToPeak, threshold=baselineDiff)\n",
    "                            inh[trial] = maxTrace\n",
    "                            inh_onset[trial] = onset"
   ]
  }
 ],
 "metadata": {
  "kernelspec": {
   "display_name": "Python 2",
   "language": "python",
   "name": "python2"
  },
  "language_info": {
   "codemirror_mode": {
    "name": "ipython",
    "version": 2
   },
   "file_extension": ".py",
   "mimetype": "text/x-python",
   "name": "python",
   "nbconvert_exporter": "python",
   "pygments_lexer": "ipython2",
   "version": "2.7.12"
  },
  "varInspector": {
   "cols": {
    "lenName": 16,
    "lenType": 16,
    "lenVar": 40
   },
   "kernels_config": {
    "python": {
     "delete_cmd_postfix": "",
     "delete_cmd_prefix": "del ",
     "library": "var_list.py",
     "varRefreshCmd": "print(var_dic_list())"
    },
    "r": {
     "delete_cmd_postfix": ") ",
     "delete_cmd_prefix": "rm(",
     "library": "var_list.r",
     "varRefreshCmd": "cat(var_dic_list()) "
    }
   },
   "types_to_exclude": [
    "module",
    "function",
    "builtin_function_or_method",
    "instance",
    "_Feature"
   ],
   "window_display": false
  }
 },
 "nbformat": 4,
 "nbformat_minor": 2
}
