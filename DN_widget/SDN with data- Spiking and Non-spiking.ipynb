{
 "cells": [
  {
   "cell_type": "code",
   "execution_count": 4,
   "metadata": {},
   "outputs": [],
   "source": [
    "import lmfit\n",
    "import scipy.stats as ss\n",
    "\n",
    "# import statsmodels.api as sm\n",
    "from statsmodels.sandbox.regression.predstd import wls_prediction_std\n",
    "from statsmodels.formula.api import ols, rlm\n",
    "import sys\n",
    "sys.path.append('../')\n",
    "\n",
    "from Linearity import Neuron\n",
    "from matplotlib import  rc\n",
    "rc('text', usetex=False)\n",
    "\n",
    "import pickle\n",
    "import matplotlib.pyplot as plt\n",
    "plt.style.use('neuron')\n",
    "import numpy as np\n",
    "import scipy.optimize as so\n",
    "import glob"
   ]
  },
  {
   "cell_type": "code",
   "execution_count": 5,
   "metadata": {},
   "outputs": [],
   "source": [
    "def simpleaxis(axes, every=False, outward=False):\n",
    "    if not isinstance(axes, (list, np.ndarray)):\n",
    "        axes = [axes]\n",
    "    for ax in axes:\n",
    "        ax.spines['top'].set_visible(False)\n",
    "        ax.spines['right'].set_visible(False)\n",
    "        if (outward):\n",
    "            ax.spines['bottom'].set_position(('outward', 10))\n",
    "            ax.spines['left'].set_position(('outward', 10))\n",
    "        else:\n",
    "            pass\n",
    "#             ax.spines['bottom'].set_position(('outward', 10))\n",
    "#             ax.spines['left'].set_position(('outward', 10))\n",
    "\n",
    "        if every:\n",
    "            ax.spines['bottom'].set_visible(False)\n",
    "            ax.spines['left'].set_visible(False)\n",
    "        ax.get_xaxis().tick_bottom()\n",
    "        ax.get_yaxis().tick_left()\n",
    "        ax.set_title('')"
   ]
  },
  {
   "cell_type": "code",
   "execution_count": 28,
   "metadata": {},
   "outputs": [],
   "source": [
    "def linearModel(x, beta=100):\n",
    "    # Linear model\n",
    "    return (x*(1-beta))\n",
    "\n",
    "def DN_model(x, gamma=1):\n",
    "    # Divisive normalization modelg\n",
    "    #return x - a*(x**2)/(b+x)\n",
    "    #return ((x**2)*(1-beta) + (gamma*x))/(x+gamma)\n",
    "    return (gamma*x)/(x+gamma)"
   ]
  },
  {
   "cell_type": "code",
   "execution_count": 89,
   "metadata": {},
   "outputs": [],
   "source": [
    "def expDecay(x,a=0.,b=-1.):\n",
    "    return a + np.exp(-b*x)"
   ]
  },
  {
   "cell_type": "code",
   "execution_count": 95,
   "metadata": {},
   "outputs": [],
   "source": [
    "def one_by_x(x,k = 1.0, c=10.):\n",
    "    return c + (k/x)"
   ]
  },
  {
   "cell_type": "code",
   "execution_count": 29,
   "metadata": {},
   "outputs": [],
   "source": [
    "def line(x,m=1,c=0):\n",
    "    return m*x + c"
   ]
  },
  {
   "cell_type": "code",
   "execution_count": 9,
   "metadata": {},
   "outputs": [],
   "source": [
    "def getRsquared(xdata, ydata, popt, f):\n",
    "    residuals = ydata- f(xdata, *popt)\n",
    "    ss_res = np.sum(residuals**2)\n",
    "    ss_tot = np.sum((ydata-np.mean(ydata))**2)\n",
    "    r_squared = 1 - (ss_res / ss_tot)\n",
    "    return r_squared"
   ]
  },
  {
   "cell_type": "code",
   "execution_count": 10,
   "metadata": {},
   "outputs": [],
   "source": [
    "def convertInfToNan(nparr):\n",
    "    for i, x in enumerate(nparr):\n",
    "        if not np.isfinite(x):\n",
    "            nparr[i] = np.nan\n",
    "    return nparr"
   ]
  },
  {
   "cell_type": "code",
   "execution_count": 11,
   "metadata": {},
   "outputs": [],
   "source": [
    "def getSDNPlotVals(filename):\n",
    "    with open(filename) as f:  # Python 3: open(..., 'rb')\n",
    "        sdn_x, sdn_y, sdn_y2, EI_ratio_arr, EI_pair, EI_onset = pickle.load(f)\n",
    "\n",
    "    sdn_x = np.array(sdn_x)\n",
    "    sdn_y = np.array(sdn_y)\n",
    "    sdn_y2 = np.array(sdn_y2)\n",
    "    IE_ratio_arr = np.array(EI_ratio_arr)\n",
    "\n",
    "    repeats = 6\n",
    "    sdn_x, sdn_y, sdn_y2, IE_ratio_arr = convertInfToNan(sdn_x), convertInfToNan(sdn_y), convertInfToNan(sdn_y2), convertInfToNan(IE_ratio_arr)\n",
    "\n",
    "    sdn_x = sdn_x.reshape(len(sdn_x)/repeats, repeats)\n",
    "    sdn_y = sdn_y.reshape(len(sdn_y)/repeats, repeats)\n",
    "    sdn_y2 = sdn_y2.reshape(len(sdn_y2)/repeats, repeats)\n",
    "    IE_ratio_arr = IE_ratio_arr.reshape(len(IE_ratio_arr)/repeats, repeats)\n",
    "\n",
    "    sdn_x, sdn_y, sdn_y2, IE_ratio_arr = np.nanmean(sdn_x, axis=1), np.nanmean(sdn_y, axis=1), np.nanmean(sdn_y2, axis=1), np.nanmean(IE_ratio_arr, axis=1)\n",
    "    arr_x, arr_y, arr_y2, arr_c = [], [], [], []\n",
    "    for (x,y,z,c) in zip(sdn_x, sdn_y, sdn_y2, IE_ratio_arr):\n",
    "        if not any(np.isnan([x,y,z])):\n",
    "            arr_x.append(x)\n",
    "            arr_y.append(y)\n",
    "            arr_y2.append(z)\n",
    "            arr_c.append(c)\n",
    "    sdn_x, sdn_y, sdn_y2, IE_ratio_arr = np.array(arr_x), np.array(arr_y), np.array(arr_y2), np.array(arr_c)\n",
    "    sorting = np.argsort(sdn_x)\n",
    "    sdn_x, sdn_y, sdn_y2, IE_ratio_arr = sdn_x[sorting], sdn_y[sorting], sdn_y2[sorting], IE_ratio_arr[sorting]\n",
    "\n",
    "    return sdn_x, sdn_y, sdn_y2, IE_ratio_arr"
   ]
  },
  {
   "cell_type": "code",
   "execution_count": 12,
   "metadata": {},
   "outputs": [],
   "source": [
    "def scatterPlot(sdn_x, sdn_y, sdn_y2, IE_ratio_arr):\n",
    "    fig, ax = plt.subplots()\n",
    "    ax.scatter(sdn_x, sdn_y, marker='.', c='k')\n",
    "    ax.scatter(sdn_x, sdn_y2, marker='.', c='r')#facecolors='none', edgecolors='0.5')\n",
    "    # ax[0].plot(sdn_x, sdn_y_pred, '--', label=\"Fitted Curve\")\n",
    "    # ax[1].plot(sdn_x, sdn_y2_pred, '--', label=\"Fitted Curve\")\n",
    "\n",
    "    ax.set_xlabel(\"Conductance (nS)\")\n",
    "#     ax[1].set_xlabel(\"Conductance (nS)\")\n",
    "    ax.set_ylabel(\"Spike times (ms)\")\n",
    "\n",
    "    # ax[0].set_xlim(xmin=0.)\n",
    "    # ax[0].set_ylim(ymin=10.)\n",
    "\n",
    "    simpleaxis(ax)\n",
    "    fig.set_figwidth(2)\n",
    "    fig.set_figheight(2)\n",
    "    return fig, ax\n",
    "\n",
    "    # popt, pcov = so.curve_fit(expDecay, sdn_x, sdn_y)\n",
    "    # sdn_y_pred = expDecay(sdn_x, *popt)\n",
    "\n",
    "    # popt, pcov = so.curve_fit(expDecay, sdn_x, sdn_y2)\n",
    "    # sdn_y2_pred = expDecay(sdn_x, *popt)\n"
   ]
  },
  {
   "cell_type": "code",
   "execution_count": 9,
   "metadata": {},
   "outputs": [
    {
     "ename": "NameError",
     "evalue": "name 'sdn_x' is not defined",
     "output_type": "error",
     "traceback": [
      "\u001b[0;31m---------------------------------------------------------------------------\u001b[0m",
      "\u001b[0;31mNameError\u001b[0m                                 Traceback (most recent call last)",
      "\u001b[0;32m<ipython-input-9-91509a9242d1>\u001b[0m in \u001b[0;36m<module>\u001b[0;34m()\u001b[0m\n\u001b[0;32m----> 1\u001b[0;31m \u001b[0msdn_xl\u001b[0m\u001b[0;34m,\u001b[0m \u001b[0msdn_yl\u001b[0m\u001b[0;34m,\u001b[0m \u001b[0msdn_y2l\u001b[0m \u001b[0;34m=\u001b[0m \u001b[0msdn_x\u001b[0m\u001b[0;34m,\u001b[0m \u001b[0mnp\u001b[0m\u001b[0;34m.\u001b[0m\u001b[0mlog\u001b[0m\u001b[0;34m(\u001b[0m\u001b[0msdn_y\u001b[0m\u001b[0;34m)\u001b[0m\u001b[0;34m,\u001b[0m \u001b[0mnp\u001b[0m\u001b[0;34m.\u001b[0m\u001b[0mlog\u001b[0m\u001b[0;34m(\u001b[0m\u001b[0msdn_y2\u001b[0m\u001b[0;34m)\u001b[0m\u001b[0;34m\u001b[0m\u001b[0m\n\u001b[0m\u001b[1;32m      2\u001b[0m \u001b[0;34m\u001b[0m\u001b[0m\n\u001b[1;32m      3\u001b[0m \u001b[0mpopt\u001b[0m\u001b[0;34m,\u001b[0m \u001b[0mpcov\u001b[0m \u001b[0;34m=\u001b[0m \u001b[0mso\u001b[0m\u001b[0;34m.\u001b[0m\u001b[0mcurve_fit\u001b[0m\u001b[0;34m(\u001b[0m\u001b[0mline\u001b[0m\u001b[0;34m,\u001b[0m \u001b[0msdn_xl\u001b[0m\u001b[0;34m,\u001b[0m \u001b[0msdn_yl\u001b[0m\u001b[0;34m)\u001b[0m\u001b[0;34m\u001b[0m\u001b[0m\n\u001b[1;32m      4\u001b[0m \u001b[0msdn_yl_pred\u001b[0m \u001b[0;34m=\u001b[0m \u001b[0mline\u001b[0m\u001b[0;34m(\u001b[0m\u001b[0msdn_xl\u001b[0m\u001b[0;34m,\u001b[0m \u001b[0;34m*\u001b[0m\u001b[0mpopt\u001b[0m\u001b[0;34m)\u001b[0m\u001b[0;34m\u001b[0m\u001b[0m\n\u001b[1;32m      5\u001b[0m \u001b[0;32mprint\u001b[0m\u001b[0;34m(\u001b[0m\u001b[0mpopt\u001b[0m\u001b[0;34m,\u001b[0m \u001b[0mgetRsquared\u001b[0m\u001b[0;34m(\u001b[0m\u001b[0msdn_xl\u001b[0m\u001b[0;34m,\u001b[0m \u001b[0msdn_yl\u001b[0m\u001b[0;34m,\u001b[0m \u001b[0mpopt\u001b[0m\u001b[0;34m,\u001b[0m \u001b[0mline\u001b[0m\u001b[0;34m)\u001b[0m\u001b[0;34m)\u001b[0m\u001b[0;34m\u001b[0m\u001b[0m\n",
      "\u001b[0;31mNameError\u001b[0m: name 'sdn_x' is not defined"
     ]
    }
   ],
   "source": [
    "sdn_xl, sdn_yl, sdn_y2l = sdn_x, np.log(sdn_y), np.log(sdn_y2)\n",
    "\n",
    "popt, pcov = so.curve_fit(line, sdn_xl, sdn_yl)\n",
    "sdn_yl_pred = line(sdn_xl, *popt)\n",
    "print(popt, getRsquared(sdn_xl, sdn_yl, popt, line))\n",
    "\n",
    "popt, pcov = so.curve_fit(line, sdn_xl, sdn_y2l)\n",
    "sdn_y2l_pred = line(sdn_xl, *popt)\n",
    "print(popt, getRsquared(sdn_xl, sdn_y2l, popt, line))\n",
    "\n",
    "sorting = np.argsort(sdn_xl)\n",
    "\n",
    "fig, ax = plt.subplots(ncols=2, sharex=True, sharey=True)\n",
    "ax[0].scatter(sdn_xl, sdn_yl, marker='o', c='k')\n",
    "ax[0].scatter(sdn_xl, sdn_y2l, marker='o', c='r')#facecolors='none', edgecolors='0.5')\n",
    "ax[0].plot(sdn_xl[sorting], sdn_yl_pred[sorting], 'k-', label=\"Fitted Curve\")\n",
    "ax[0].plot(sdn_xl[sorting], sdn_y2l_pred[sorting], 'g-', label=\"Fitted Curve\")\n",
    "plt.show()"
   ]
  },
  {
   "cell_type": "code",
   "execution_count": 13,
   "metadata": {},
   "outputs": [],
   "source": [
    "def convertInfToNan(array):\n",
    "    return np.array([np.nan if isinf else array[k] for (k, isinf) in enumerate(np.isinf(array))])"
   ]
  },
  {
   "cell_type": "code",
   "execution_count": 131,
   "metadata": {
    "scrolled": false
   },
   "outputs": [
    {
     "name": "stdout",
     "output_type": "stream",
     "text": [
      "/home/bhalla/Documents/Codes/linearity/DN_widget/SDN/sdn_170531_c2_EI_0.045_spikes.pkl\n",
      "Parameters([('c', <Parameter 'c', 10.0, bounds=[-inf:inf]>), ('k', <Parameter 'k', 1.0, bounds=[-inf:inf]>)])\n",
      "[[Model]]\n",
      "    Model(one_by_x)\n",
      "[[Fit Statistics]]\n",
      "    # function evals   = 40\n",
      "    # data points      = 80\n",
      "    # variables        = 2\n",
      "    chi-square         = 1024.582\n",
      "    reduced chi-square = 13.136\n",
      "    Akaike info crit   = 208.001\n",
      "    Bayesian info crit = 212.765\n",
      "[[Variables]]\n",
      "    c:   9.65502273 (init= 10)\n",
      "    k:   1.37064029 (init= 1)\n",
      "\n",
      "[[Model]]\n",
      "    Model(one_by_x)\n",
      "[[Fit Statistics]]\n",
      "    # function evals   = 28\n",
      "    # data points      = 89\n",
      "    # variables        = 2\n",
      "    chi-square         = 460.991\n",
      "    reduced chi-square = 5.299\n",
      "    Akaike info crit   = 150.382\n",
      "    Bayesian info crit = 155.359\n",
      "[[Variables]]\n",
      "    c:   10.9151667 (init= 10)\n",
      "    k:   1.06899133 (init= 1)\n",
      "\n"
     ]
    },
    {
     "data": {
      "image/png": "[encoded data removed]",
      "text/plain": [
       "<Figure size 108x108 with 1 Axes>"
      ]
     },
     "metadata": {},
     "output_type": "display_data"
    },
    {
     "name": "stdout",
     "output_type": "stream",
     "text": [
      "/home/bhalla/Documents/Codes/linearity/DN_widget/SDN/sdn_170530_c1_EI_0.045_spikes.pkl\n",
      "Parameters([('c', <Parameter 'c', 10.0, bounds=[-inf:inf]>), ('k', <Parameter 'k', 1.0, bounds=[-inf:inf]>)])\n",
      "[[Model]]\n",
      "    Model(one_by_x)\n",
      "[[Fit Statistics]]\n",
      "    # function evals   = 34\n",
      "    # data points      = 130\n",
      "    # variables        = 2\n",
      "    chi-square         = 583.294\n",
      "    reduced chi-square = 4.557\n",
      "    Akaike info crit   = 199.150\n",
      "    Bayesian info crit = 204.886\n",
      "[[Variables]]\n",
      "    c:   12.1225155 (init= 10)\n",
      "    k:   1.38943008 (init= 1)\n",
      "\n",
      "[[Model]]\n",
      "    Model(one_by_x)\n",
      "[[Fit Statistics]]\n",
      "    # function evals   = 28\n",
      "    # data points      = 147\n",
      "    # variables        = 2\n",
      "    chi-square         = 298.858\n",
      "    reduced chi-square = 2.061\n",
      "    Akaike info crit   = 108.302\n",
      "    Bayesian info crit = 114.283\n",
      "[[Variables]]\n",
      "    c:   10.4207021 (init= 10)\n",
      "    k:   0.96253815 (init= 1)\n",
      "\n"
     ]
    },
    {
     "data": {
      "image/png": "[encoded data removed]",
      "text/plain": [
       "<Figure size 108x108 with 1 Axes>"
      ]
     },
     "metadata": {},
     "output_type": "display_data"
    },
    {
     "name": "stdout",
     "output_type": "stream",
     "text": [
      "/home/bhalla/Documents/Codes/linearity/DN_widget/SDN/sdn_170720_c4_EI_0.045_spikes.pkl\n",
      "Parameters([('c', <Parameter 'c', 10.0, bounds=[-inf:inf]>), ('k', <Parameter 'k', 1.0, bounds=[-inf:inf]>)])\n",
      "[[Model]]\n",
      "    Model(one_by_x)\n",
      "[[Fit Statistics]]\n",
      "    # function evals   = 28\n",
      "    # data points      = 37\n",
      "    # variables        = 2\n",
      "    chi-square         = 79.020\n",
      "    reduced chi-square = 2.258\n",
      "    Akaike info crit   = 32.075\n",
      "    Bayesian info crit = 35.297\n",
      "[[Variables]]\n",
      "    c:   11.1546407 (init= 10)\n",
      "    k:   1.10475638 (init= 1)\n",
      "\n",
      "[[Model]]\n",
      "    Model(one_by_x)\n",
      "[[Fit Statistics]]\n",
      "    # function evals   = 25\n",
      "    # data points      = 40\n",
      "    # variables        = 2\n",
      "    chi-square         = 65.781\n",
      "    reduced chi-square = 1.731\n",
      "    Akaike info crit   = 23.898\n",
      "    Bayesian info crit = 27.276\n",
      "[[Variables]]\n",
      "    c:   10.8590043 (init= 10)\n",
      "    k:   0.95452018 (init= 1)\n",
      "\n"
     ]
    },
    {
     "data": {
      "image/png": "[encoded data removed]",
      "text/plain": [
       "<Figure size 108x108 with 1 Axes>"
      ]
     },
     "metadata": {},
     "output_type": "display_data"
    },
    {
     "name": "stdout",
     "output_type": "stream",
     "text": [
      "/home/bhalla/Documents/Codes/linearity/DN_widget/SDN/sdn_170530_c2_EI_0.045_spikes.pkl\n",
      "Parameters([('c', <Parameter 'c', 10.0, bounds=[-inf:inf]>), ('k', <Parameter 'k', 1.0, bounds=[-inf:inf]>)])\n",
      "[[Model]]\n",
      "    Model(one_by_x)\n",
      "[[Fit Statistics]]\n",
      "    # function evals   = 34\n",
      "    # data points      = 98\n",
      "    # variables        = 2\n",
      "    chi-square         = 709.329\n",
      "    reduced chi-square = 7.389\n",
      "    Akaike info crit   = 197.977\n",
      "    Bayesian info crit = 203.146\n",
      "[[Variables]]\n",
      "    c:   10.4320241 (init= 10)\n",
      "    k:   1.11731456 (init= 1)\n",
      "\n",
      "[[Model]]\n",
      "    Model(one_by_x)\n",
      "[[Fit Statistics]]\n",
      "    # function evals   = 40\n",
      "    # data points      = 112\n",
      "    # variables        = 2\n",
      "    chi-square         = 283.493\n",
      "    reduced chi-square = 2.577\n",
      "    Akaike info crit   = 108.013\n",
      "    Bayesian info crit = 113.450\n",
      "[[Variables]]\n",
      "    c:   10.2062172 (init= 10)\n",
      "    k:   0.90765703 (init= 1)\n",
      "\n"
     ]
    },
    {
     "data": {
      "image/png": "[encoded data removed]",
      "text/plain": [
       "<Figure size 108x108 with 1 Axes>"
      ]
     },
     "metadata": {},
     "output_type": "display_data"
    },
    {
     "name": "stdout",
     "output_type": "stream",
     "text": [
      "/home/bhalla/Documents/Codes/linearity/DN_widget/SDN/sdn_170531_c1_EI_0.045_spikes.pkl\n",
      "Parameters([('c', <Parameter 'c', 10.0, bounds=[-inf:inf]>), ('k', <Parameter 'k', 1.0, bounds=[-inf:inf]>)])\n",
      "[[Model]]\n",
      "    Model(one_by_x)\n",
      "[[Fit Statistics]]\n",
      "    # function evals   = 31\n",
      "    # data points      = 145\n",
      "    # variables        = 2\n",
      "    chi-square         = 5344.835\n",
      "    reduced chi-square = 37.376\n",
      "    Akaike info crit   = 527.037\n",
      "    Bayesian info crit = 532.991\n",
      "[[Variables]]\n",
      "    c:   13.0871210 (init= 10)\n",
      "    k:   1.86836568 (init= 1)\n",
      "\n",
      "[[Model]]\n",
      "    Model(one_by_x)\n",
      "[[Fit Statistics]]\n",
      "    # function evals   = 34\n",
      "    # data points      = 164\n",
      "    # variables        = 2\n",
      "    chi-square         = 3278.236\n",
      "    reduced chi-square = 20.236\n",
      "    Akaike info crit   = 495.212\n",
      "    Bayesian info crit = 501.412\n",
      "[[Variables]]\n",
      "    c:   11.6919865 (init= 10)\n",
      "    k:   1.68921883 (init= 1)\n",
      "\n"
     ]
    },
    {
     "data": {
      "image/png": "[encoded data removed]",
      "text/plain": [
       "<Figure size 108x108 with 1 Axes>"
      ]
     },
     "metadata": {},
     "output_type": "display_data"
    },
    {
     "name": "stdout",
     "output_type": "stream",
     "text": [
      "/home/bhalla/Documents/Codes/linearity/DN_widget/SDN/sdn_170524_c1_EI_0.045_spikes.pkl\n",
      "Parameters([('c', <Parameter 'c', 10.0, bounds=[-inf:inf]>), ('k', <Parameter 'k', 1.0, bounds=[-inf:inf]>)])\n",
      "[[Model]]\n",
      "    Model(one_by_x)\n",
      "[[Fit Statistics]]\n",
      "    # function evals   = 31\n",
      "    # data points      = 56\n",
      "    # variables        = 2\n",
      "    chi-square         = 721.313\n",
      "    reduced chi-square = 13.358\n",
      "    Akaike info crit   = 147.120\n",
      "    Bayesian info crit = 151.171\n",
      "[[Variables]]\n",
      "    c:   16.5968374 (init= 10)\n",
      "    k:   0.85262442 (init= 1)\n",
      "\n",
      "[[Model]]\n",
      "    Model(one_by_x)\n",
      "[[Fit Statistics]]\n",
      "    # function evals   = 31\n",
      "    # data points      = 79\n",
      "    # variables        = 2\n",
      "    chi-square         = 970.824\n",
      "    reduced chi-square = 12.608\n",
      "    Akaike info crit   = 202.187\n",
      "    Bayesian info crit = 206.926\n",
      "[[Variables]]\n",
      "    c:   11.1954740 (init= 10)\n",
      "    k:   1.04400023 (init= 1)\n",
      "\n"
     ]
    },
    {
     "data": {
      "image/png": "[encoded data removed]",
      "text/plain": [
       "<Figure size 108x108 with 1 Axes>"
      ]
     },
     "metadata": {},
     "output_type": "display_data"
    },
    {
     "name": "stdout",
     "output_type": "stream",
     "text": [
      "/home/bhalla/Documents/Codes/linearity/DN_widget/SDN/sdn_161220_c2_EI_0.045_spikes.pkl\n",
      "Parameters([('c', <Parameter 'c', 10.0, bounds=[-inf:inf]>), ('k', <Parameter 'k', 1.0, bounds=[-inf:inf]>)])\n",
      "[[Model]]\n",
      "    Model(one_by_x)\n",
      "[[Fit Statistics]]\n",
      "    # function evals   = 28\n",
      "    # data points      = 124\n",
      "    # variables        = 2\n",
      "    chi-square         = 380.069\n",
      "    reduced chi-square = 3.115\n",
      "    Akaike info crit   = 142.889\n",
      "    Bayesian info crit = 148.529\n",
      "[[Variables]]\n",
      "    c:   5.62462593 (init= 10)\n",
      "    k:   1.45441025 (init= 1)\n",
      "\n",
      "[[Model]]\n",
      "    Model(one_by_x)\n",
      "[[Fit Statistics]]\n",
      "    # function evals   = 28\n",
      "    # data points      = 136\n",
      "    # variables        = 2\n",
      "    chi-square         = 233.272\n",
      "    reduced chi-square = 1.741\n",
      "    Akaike info crit   = 77.379\n",
      "    Bayesian info crit = 83.204\n",
      "[[Variables]]\n",
      "    c:   5.96345377 (init= 10)\n",
      "    k:   1.27073249 (init= 1)\n",
      "\n"
     ]
    },
    {
     "data": {
      "image/png": "[encoded data removed]",
      "text/plain": [
       "<Figure size 108x108 with 1 Axes>"
      ]
     },
     "metadata": {},
     "output_type": "display_data"
    },
    {
     "name": "stdout",
     "output_type": "stream",
     "text": [
      "/home/bhalla/Documents/Codes/linearity/DN_widget/SDN/sdn_170720_c5_EI_0.045_spikes.pkl\n",
      "Parameters([('c', <Parameter 'c', 10.0, bounds=[-inf:inf]>), ('k', <Parameter 'k', 1.0, bounds=[-inf:inf]>)])\n",
      "[[Model]]\n",
      "    Model(one_by_x)\n",
      "[[Fit Statistics]]\n",
      "    # function evals   = 34\n",
      "    # data points      = 109\n",
      "    # variables        = 2\n",
      "    chi-square         = 668.336\n",
      "    reduced chi-square = 6.246\n",
      "    Akaike info crit   = 201.665\n",
      "    Bayesian info crit = 207.048\n",
      "[[Variables]]\n",
      "    c:   10.0749499 (init= 10)\n",
      "    k:   1.38284928 (init= 1)\n",
      "\n",
      "[[Model]]\n",
      "    Model(one_by_x)\n",
      "[[Fit Statistics]]\n",
      "    # function evals   = 31\n",
      "    # data points      = 124\n",
      "    # variables        = 2\n",
      "    chi-square         = 251.062\n",
      "    reduced chi-square = 2.058\n",
      "    Akaike info crit   = 91.472\n",
      "    Bayesian info crit = 97.112\n",
      "[[Variables]]\n",
      "    c:   9.81013075 (init= 10)\n",
      "    k:   1.09050083 (init= 1)\n",
      "\n"
     ]
    },
    {
     "data": {
      "image/png": "[encoded data removed]",
      "text/plain": [
       "<Figure size 108x108 with 1 Axes>"
      ]
     },
     "metadata": {},
     "output_type": "display_data"
    },
    {
     "name": "stdout",
     "output_type": "stream",
     "text": [
      "/home/bhalla/Documents/Codes/linearity/DN_widget/SDN/sdn_170531_c4_EI_0.045_spikes.pkl\n",
      "Parameters([('c', <Parameter 'c', 10.0, bounds=[-inf:inf]>), ('k', <Parameter 'k', 1.0, bounds=[-inf:inf]>)])\n",
      "[[Model]]\n",
      "    Model(one_by_x)\n",
      "[[Fit Statistics]]\n",
      "    # function evals   = 31\n",
      "    # data points      = 45\n",
      "    # variables        = 2\n",
      "    chi-square         = 264.787\n",
      "    reduced chi-square = 6.158\n",
      "    Akaike info crit   = 83.752\n",
      "    Bayesian info crit = 87.365\n",
      "[[Variables]]\n",
      "    c:   10.0868242 (init= 10)\n",
      "    k:   1.11444063 (init= 1)\n",
      "\n",
      "[[Model]]\n",
      "    Model(one_by_x)\n",
      "[[Fit Statistics]]\n",
      "    # function evals   = 31\n",
      "    # data points      = 48\n",
      "    # variables        = 2\n",
      "    chi-square         = 220.444\n",
      "    reduced chi-square = 4.792\n",
      "    Akaike info crit   = 77.173\n",
      "    Bayesian info crit = 80.916\n",
      "[[Variables]]\n",
      "    c:   9.85913090 (init= 10)\n",
      "    k:   1.06020530 (init= 1)\n",
      "\n"
     ]
    },
    {
     "data": {
      "image/png": "[encoded data removed]",
      "text/plain": [
       "<Figure size 108x108 with 1 Axes>"
      ]
     },
     "metadata": {},
     "output_type": "display_data"
    },
    {
     "name": "stdout",
     "output_type": "stream",
     "text": [
      "/home/bhalla/Documents/Codes/linearity/DN_widget/SDN/sdn_170720_c2_EI_0.045_spikes.pkl\n",
      "Parameters([('c', <Parameter 'c', 10.0, bounds=[-inf:inf]>), ('k', <Parameter 'k', 1.0, bounds=[-inf:inf]>)])\n",
      "[[Model]]\n",
      "    Model(one_by_x)\n",
      "[[Fit Statistics]]\n",
      "    # function evals   = 28\n",
      "    # data points      = 139\n",
      "    # variables        = 2\n",
      "    chi-square         = 355.797\n",
      "    reduced chi-square = 2.597\n",
      "    Akaike info crit   = 134.644\n",
      "    Bayesian info crit = 140.513\n",
      "[[Variables]]\n",
      "    c:   5.23648979 (init= 10)\n",
      "    k:   1.88092084 (init= 1)\n",
      "\n",
      "[[Model]]\n",
      "    Model(one_by_x)\n",
      "[[Fit Statistics]]\n",
      "    # function evals   = 28\n",
      "    # data points      = 180\n",
      "    # variables        = 2\n",
      "    chi-square         = 336.029\n",
      "    reduced chi-square = 1.888\n",
      "    Akaike info crit   = 116.363\n",
      "    Bayesian info crit = 122.749\n",
      "[[Variables]]\n",
      "    c:   8.06267750 (init= 10)\n",
      "    k:   0.95137150 (init= 1)\n",
      "\n"
     ]
    },
    {
     "data": {
      "image/png": "[encoded data removed]",
      "text/plain": [
       "<Figure size 108x108 with 1 Axes>"
      ]
     },
     "metadata": {},
     "output_type": "display_data"
    },
    {
     "name": "stdout",
     "output_type": "stream",
     "text": [
      "/home/bhalla/Documents/Codes/linearity/DN_widget/SDN/sdn_170510_c2_EI_0.045_spikes.pkl\n",
      "Parameters([('c', <Parameter 'c', 10.0, bounds=[-inf:inf]>), ('k', <Parameter 'k', 1.0, bounds=[-inf:inf]>)])\n",
      "[[Model]]\n",
      "    Model(one_by_x)\n",
      "[[Fit Statistics]]\n",
      "    # function evals   = 34\n",
      "    # data points      = 23\n",
      "    # variables        = 2\n",
      "    chi-square         = 258.172\n",
      "    reduced chi-square = 12.294\n",
      "    Akaike info crit   = 59.617\n",
      "    Bayesian info crit = 61.888\n",
      "[[Variables]]\n",
      "    c:   7.01026503 (init= 10)\n",
      "    k:   1.95154522 (init= 1)\n",
      "\n",
      "[[Model]]\n",
      "    Model(one_by_x)\n",
      "[[Fit Statistics]]\n",
      "    # function evals   = 46\n",
      "    # data points      = 90\n",
      "    # variables        = 2\n",
      "    chi-square         = 428.372\n",
      "    reduced chi-square = 4.868\n",
      "    Akaike info crit   = 144.416\n",
      "    Bayesian info crit = 149.416\n",
      "[[Variables]]\n",
      "    c:   5.47132986 (init= 10)\n",
      "    k:   1.21741944 (init= 1)\n",
      "\n"
     ]
    },
    {
     "data": {
      "image/png": "[encoded data removed]",
      "text/plain": [
       "<Figure size 108x108 with 1 Axes>"
      ]
     },
     "metadata": {},
     "output_type": "display_data"
    },
    {
     "name": "stdout",
     "output_type": "stream",
     "text": [
      "/home/bhalla/Documents/Codes/linearity/DN_widget/SDN/sdn_170720_c3_EI_0.045_spikes.pkl\n",
      "Parameters([('c', <Parameter 'c', 10.0, bounds=[-inf:inf]>), ('k', <Parameter 'k', 1.0, bounds=[-inf:inf]>)])\n",
      "[[Model]]\n",
      "    Model(one_by_x)\n",
      "[[Fit Statistics]]\n",
      "    # function evals   = 25\n",
      "    # data points      = 129\n",
      "    # variables        = 2\n",
      "    chi-square         = 472.042\n",
      "    reduced chi-square = 3.717\n",
      "    Akaike info crit   = 171.346\n",
      "    Bayesian info crit = 177.066\n",
      "[[Variables]]\n",
      "    c:   10.1312091 (init= 10)\n",
      "    k:   1.22735612 (init= 1)\n",
      "\n",
      "[[Model]]\n",
      "    Model(one_by_x)\n",
      "[[Fit Statistics]]\n",
      "    # function evals   = 28\n",
      "    # data points      = 144\n",
      "    # variables        = 2\n",
      "    chi-square         = 282.651\n",
      "    reduced chi-square = 1.990\n",
      "    Akaike info crit   = 101.113\n",
      "    Bayesian info crit = 107.053\n",
      "[[Variables]]\n",
      "    c:   7.27126284 (init= 10)\n",
      "    k:   1.47570266 (init= 1)\n",
      "\n"
     ]
    },
    {
     "data": {
      "image/png": "[encoded data removed]",
      "text/plain": [
       "<Figure size 108x108 with 1 Axes>"
      ]
     },
     "metadata": {},
     "output_type": "display_data"
    },
    {
     "name": "stdout",
     "output_type": "stream",
     "text": [
      "/home/bhalla/Documents/Codes/linearity/DN_widget/SDN/sdn_170524_c3_EI_0.045_spikes.pkl\n",
      "Parameters([('c', <Parameter 'c', 10.0, bounds=[-inf:inf]>), ('k', <Parameter 'k', 1.0, bounds=[-inf:inf]>)])\n",
      "[[Model]]\n",
      "    Model(one_by_x)\n",
      "[[Fit Statistics]]\n",
      "    # function evals   = 34\n",
      "    # data points      = 52\n",
      "    # variables        = 2\n",
      "    chi-square         = 339.061\n",
      "    reduced chi-square = 6.781\n",
      "    Akaike info crit   = 101.497\n",
      "    Bayesian info crit = 105.399\n",
      "[[Variables]]\n",
      "    c:   10.6112038 (init= 10)\n",
      "    k:   0.97718119 (init= 1)\n",
      "\n",
      "[[Model]]\n",
      "    Model(one_by_x)\n",
      "[[Fit Statistics]]\n",
      "    # function evals   = 31\n",
      "    # data points      = 53\n",
      "    # variables        = 2\n",
      "    chi-square         = 169.435\n",
      "    reduced chi-square = 3.322\n",
      "    Akaike info crit   = 65.595\n",
      "    Bayesian info crit = 69.536\n",
      "[[Variables]]\n",
      "    c:   9.35572538 (init= 10)\n",
      "    k:   1.02206309 (init= 1)\n",
      "\n"
     ]
    },
    {
     "data": {
      "image/png": "[encoded data removed]",
      "text/plain": [
       "<Figure size 108x108 with 1 Axes>"
      ]
     },
     "metadata": {},
     "output_type": "display_data"
    }
   ],
   "source": [
    "dn_k, gaba_k = [], []\n",
    "dn_c, gaba_c = [], []\n",
    "for f in glob.glob(\"/home/bhalla/Documents/Codes/linearity/DN_widget/SDN/sdn_*0.045_spikes.pkl\"):\n",
    "    print(f)\n",
    "    prefix, suffix = f.split('_spikes')\n",
    "    with open (f, 'r') as g:\n",
    "        sdn_x, sdn_y, sdn_y2, IE_ratio_arr, IE_pair, IE_onset= pickle.load(g)\n",
    "\n",
    "    sdn_x, sdn_y, sdn_y2  = [convertInfToNan(j) for j in [sdn_x, sdn_y, sdn_y2]] #, IE_ratio_arr, IE_pair, IE_onset]]\n",
    "    \n",
    "    sdn_x, sdn_y, sdn_y2 = sdn_x.reshape((len(sdn_x)/6,6)), sdn_y.reshape((len(sdn_y)/6,6)), sdn_y2.reshape((len(sdn_y2)/6,6))\n",
    "    \n",
    "    sdn_x, sdn_y, sdn_y2 = np.nanmedian(sdn_x, axis=1), np.nanmedian(sdn_y, axis=1), np.nanmedian(sdn_y2, axis=1)\n",
    "    \n",
    "    indices = np.logical_not(np.any((np.isnan(sdn_x), np.isnan(sdn_y)), axis=0))\n",
    "    \n",
    "    sdn_xi, sdn_y = sdn_x[indices], sdn_y[indices]\n",
    "    \n",
    "    fig, ax = plt.subplots()\n",
    "    ax.scatter(sdn_xi, sdn_y, marker='.', c='k', s=12)    \n",
    "\n",
    "    X = np.copy(sdn_xi)\n",
    "    y = np.copy(sdn_y) #Control\n",
    "    y2 = np.copy(sdn_y2) #GABAzine\n",
    "\n",
    "    idx   = np.argsort(X)\n",
    "    X = X[idx]\n",
    "    y = y[idx]\n",
    "    \n",
    "    method = 'L-BFGS-B'\n",
    "    DN_Model = lmfit.Model(one_by_x)\n",
    "    DN_pars = DN_Model.make_params()\n",
    "    print(DN_pars)\n",
    "    DN_result = DN_Model.fit(y, DN_pars, x=X, method=method, reduce_fcn='neglogcauchy')\n",
    "    \n",
    "#     dn_aic.append(DN_result.aic)\n",
    "#     dn_chi.append(DN_result.redchi)\n",
    "\n",
    "    print (DN_result.fit_report())\n",
    "\n",
    "#     ax.set_xlim(xmin=0.)\n",
    "#     ax.set_ylim(ymin=0.)\n",
    "#     ax.set_xlabel(\"Expected\")\n",
    "#     ax.set_ylabel(\"Observed\")\n",
    "    ax.set_title(\"Divisive Normalization fits\")\n",
    "    \n",
    "    div_norm = ax.plot(X, DN_result.best_fit, '-', color='k', lw=2)\n",
    "    \n",
    "    \n",
    "    indices = np.logical_not(np.any((np.isnan(sdn_x), np.isnan(sdn_y2)), axis=0))\n",
    "    sdn_xj, sdn_y2 = sdn_x[indices], sdn_y2[indices]\n",
    "    \n",
    "    X = np.copy(sdn_xj)\n",
    "    y2 = np.copy(sdn_y2) #GABAzine\n",
    "    \n",
    "    idx   = np.argsort(X)\n",
    "    X = X[idx]\n",
    "    y2 = y2[idx]\n",
    "    \n",
    "    ax.scatter(sdn_xj, sdn_y2, marker='.', c='r', s=12)\n",
    "    \n",
    "    \n",
    "    #     div_inh = ax.plot(X, lin_result.best_fit, '-', color='green', lw=2)\n",
    "\n",
    "    dn_k.append(DN_result.params[\"k\"])\n",
    "    dn_c.append(DN_result.params[\"c\"])\n",
    "    \n",
    "    DN_Model2 = lmfit.Model(one_by_x)\n",
    "    DN_pars = DN_Model2.make_params()\n",
    "    \n",
    "    DN_result2 = DN_Model2.fit(y2, DN_pars, x=X, method=method, reduce_fcn='neglogcauchy')\n",
    "    print (DN_result2.fit_report())\n",
    "    div_norm_GABAzine = ax.plot(X, DN_result2.best_fit, '-', color='r', lw=2)\n",
    "    gaba_k.append(DN_result2.params[\"k\"])\n",
    "    gaba_c.append(DN_result2.params[\"c\"])\n",
    "    \n",
    "    \n",
    "    ax.set_xlabel(\"Conductance (nS)\")\n",
    "    ax.set_ylabel(\"Spike times (ms)\")\n",
    "    ax.set_xlim(xmin=0.)\n",
    "    ax.set_ylim(ymin=10., ymax=36)\n",
    "\n",
    "    \n",
    "    simpleaxis(ax)\n",
    "    fig.set_figwidth(1.5)\n",
    "    fig.set_figheight(1.5)\n",
    "    \n",
    "    plt.savefig(prefix + \"_NaturalThreshold.svg\", transparent=True, bbox_inches='tight')\n",
    "    plt.show(fig)\n",
    "    plt.close()"
   ]
  },
  {
   "cell_type": "code",
   "execution_count": 141,
   "metadata": {},
   "outputs": [
    {
     "name": "stdout",
     "output_type": "stream",
     "text": [
      "RanksumsResult(statistic=2.0256410256410255, pvalue=0.04280158418044451)\n",
      "N is 13\n",
      "1.360910385420767 1.1319170094283557\n"
     ]
    },
    {
     "data": {
      "image/png": "[encoded data removed]",
      "text/plain": [
       "<Figure size 93.6x108 with 1 Axes>"
      ]
     },
     "metadata": {},
     "output_type": "display_data"
    },
    {
     "name": "stdout",
     "output_type": "stream",
     "text": [
      "RanksumsResult(statistic=0.6410256410256411, pvalue=0.5215060239121667)\n"
     ]
    },
    {
     "data": {
      "image/png": "[encoded data removed]",
      "text/plain": [
       "<Figure size 93.6x108 with 1 Axes>"
      ]
     },
     "metadata": {},
     "output_type": "display_data"
    }
   ],
   "source": [
    "prefix = \"/media/sahil/NCBS_Shares_BGStim/Paper/Submissions/Elife/Figures/\"\n",
    "print(ss.ranksums(dn_k,gaba_k))\n",
    "print (\"N is {}\".format(len(dn_k)))\n",
    "print(np.mean(dn_k), np.mean(gaba_k))\n",
    "indices = [1,2]\n",
    "\n",
    "fig, ax = plt.subplots()\n",
    "for ind, (l,d) in enumerate(zip(gaba_k, dn_k)):\n",
    "    ax.plot(indices, [d,l], 'o-', alpha=1, color='0.5', markerfacecolor='white',markersize=6)\n",
    "ax.plot(indices, [np.average(dn_k), np.average(gaba_k)],'o-', alpha=1., color='0',markersize=6)\n",
    "ax.set_xlim((0.5,2.5))\n",
    "# ax.set_ylim(ymin=-4,ymax=70)\n",
    "ax.set_ylabel(\"k\")\n",
    "ax.set_xticks(indices)\n",
    "ax.set_xticklabels(('E-I','E'))\n",
    "y, h, col = np.max([np.max(gaba_k),np.max(dn_k)])+ 8 , 2, 'k'\n",
    "# plt.plot([1,1, 2, 2], [y, y+h, y+h, y], lw=1.5, c=col)\n",
    "# plt.text((1+2)*.5, y+h, \"*\", ha='center', va='bottom', color=col)\n",
    "\n",
    "simpleaxis(ax)\n",
    "fig.set_figwidth(1.3)\n",
    "fig.set_figheight(1.5)\n",
    "plt.savefig(prefix + \"summaryFig_one_by_x_k.svg\", transparent=True, bbox_inches='tight')\n",
    "plt.show()\n",
    "\n",
    "print(ss.ranksums(dn_c,gaba_c))\n",
    "fig, ax = plt.subplots()\n",
    "for ind, (l,d) in enumerate(zip(gaba_c, dn_c)):\n",
    "    ax.plot(indices, [d,l], 'o-', alpha=1, color='0.5', markerfacecolor='white',markersize=6)\n",
    "ax.plot(indices, [np.average(dn_c), np.average(gaba_c)],'o-', alpha=1., color='0',markersize=6)\n",
    "ax.set_xlim((0.5,2.5))\n",
    "# ax.set_ylim(ymin=-4,ymax=70)\n",
    "ax.set_ylabel(\"c\")\n",
    "ax.set_xticks(indices)\n",
    "ax.set_xticklabels(('E-I','E'))\n",
    "y, h, col = np.max([np.max(gaba_c),np.max(dn_c)])+ 8 , 2, 'k'\n",
    "# plt.plot([1,1, 2, 2], [y, y+h, y+h, y], lw=1.5, c=col)\n",
    "# plt.text((1+2)*.5, y+h, \"*\", ha='center', va='bottom', color=col)\n",
    "\n",
    "simpleaxis(ax)\n",
    "fig.set_figwidth(1.3)\n",
    "fig.set_figheight(1.5)\n",
    "plt.savefig(prefix + \"summaryFig_one_by_x_c.svg\", transparent=True, bbox_inches='tight')\n",
    "plt.show()"
   ]
  },
  {
   "cell_type": "markdown",
   "metadata": {},
   "source": [
    "## No spiking case"
   ]
  },
  {
   "cell_type": "code",
   "execution_count": 142,
   "metadata": {
    "scrolled": false
   },
   "outputs": [
    {
     "name": "stdout",
     "output_type": "stream",
     "text": [
      "/home/bhalla/Documents/Codes/linearity/DN_widget/SDN/sdn_170720_c2_EI_nospikes.pkl\n",
      "100\n",
      "[[Model]]\n",
      "    Model(DN_model)\n",
      "[[Fit Statistics]]\n",
      "    # function evals   = 27\n",
      "    # data points      = 180\n",
      "    # variables        = 1\n",
      "    chi-square         = 126.776\n",
      "    reduced chi-square = 0.708\n",
      "    Akaike info crit   = -61.097\n",
      "    Bayesian info crit = -57.904\n",
      "[[Variables]]\n",
      "    gamma:   21.5811118 (init= 1)\n",
      "\n",
      "[[Model]]\n",
      "    Model(DN_model)\n",
      "[[Fit Statistics]]\n",
      "    # function evals   = 75\n",
      "    # data points      = 180\n",
      "    # variables        = 1\n",
      "    chi-square         = 297.828\n",
      "    reduced chi-square = 1.664\n",
      "    Akaike info crit   = 92.641\n",
      "    Bayesian info crit = 95.834\n",
      "[[Variables]]\n",
      "    gamma:   88446.0178 (init= 1)\n",
      "\n"
     ]
    },
    {
     "data": {
      "image/png": "[encoded data removed]",
      "text/plain": [
       "<Figure size 108x108 with 1 Axes>"
      ]
     },
     "metadata": {},
     "output_type": "display_data"
    },
    {
     "name": "stdout",
     "output_type": "stream",
     "text": [
      "/home/bhalla/Documents/Codes/linearity/DN_widget/SDN/sdn_170510_c2_EI_nospikes.pkl\n",
      "100\n",
      "[[Model]]\n",
      "    Model(DN_model)\n",
      "[[Fit Statistics]]\n",
      "    # function evals   = 25\n",
      "    # data points      = 150\n",
      "    # variables        = 1\n",
      "    chi-square         = 131.522\n",
      "    reduced chi-square = 0.883\n",
      "    Akaike info crit   = -17.719\n",
      "    Bayesian info crit = -14.708\n",
      "[[Variables]]\n",
      "    gamma:   12.4819895 (init= 1)\n",
      "\n",
      "[[Model]]\n",
      "    Model(DN_model)\n",
      "[[Fit Statistics]]\n",
      "    # function evals   = 71\n",
      "    # data points      = 150\n",
      "    # variables        = 1\n",
      "    chi-square         = 111.065\n",
      "    reduced chi-square = 0.745\n",
      "    Akaike info crit   = -43.078\n",
      "    Bayesian info crit = -40.068\n",
      "[[Variables]]\n",
      "    gamma:   45792.9732 (init= 1)\n",
      "\n"
     ]
    },
    {
     "data": {
      "image/png": "[encoded data removed]",
      "text/plain": [
       "<Figure size 108x108 with 1 Axes>"
      ]
     },
     "metadata": {},
     "output_type": "display_data"
    },
    {
     "name": "stdout",
     "output_type": "stream",
     "text": [
      "/home/bhalla/Documents/Codes/linearity/DN_widget/SDN/sdn_170531_c2_EI_nospikes.pkl\n",
      "100\n",
      "[[Model]]\n",
      "    Model(DN_model)\n",
      "[[Fit Statistics]]\n",
      "    # function evals   = 31\n",
      "    # data points      = 120\n",
      "    # variables        = 1\n",
      "    chi-square         = 300.885\n",
      "    reduced chi-square = 2.528\n",
      "    Akaike info crit   = 112.308\n",
      "    Bayesian info crit = 115.096\n",
      "[[Variables]]\n",
      "    gamma:   42.3671503 (init= 1)\n",
      "\n",
      "[[Model]]\n",
      "    Model(DN_model)\n",
      "[[Fit Statistics]]\n",
      "    # function evals   = 47\n",
      "    # data points      = 120\n",
      "    # variables        = 1\n",
      "    chi-square         = 122.313\n",
      "    reduced chi-square = 1.028\n",
      "    Akaike info crit   = 4.291\n",
      "    Bayesian info crit = 7.078\n",
      "[[Variables]]\n",
      "    gamma:   317.780055 (init= 1)\n",
      "\n"
     ]
    },
    {
     "data": {
      "image/png": "[encoded data removed]",
      "text/plain": [
       "<Figure size 108x108 with 1 Axes>"
      ]
     },
     "metadata": {},
     "output_type": "display_data"
    },
    {
     "name": "stdout",
     "output_type": "stream",
     "text": [
      "/home/bhalla/Documents/Codes/linearity/DN_widget/SDN/sdn_161220_c2_EI_nospikes.pkl\n",
      "100\n",
      "[[Model]]\n",
      "    Model(DN_model)\n",
      "[[Fit Statistics]]\n",
      "    # function evals   = 29\n",
      "    # data points      = 150\n",
      "    # variables        = 1\n",
      "    chi-square         = 258.105\n",
      "    reduced chi-square = 1.732\n",
      "    Akaike info crit   = 83.410\n",
      "    Bayesian info crit = 86.420\n",
      "[[Variables]]\n",
      "    gamma:   36.5493808 (init= 1)\n",
      "\n",
      "[[Model]]\n",
      "    Model(DN_model)\n",
      "[[Fit Statistics]]\n",
      "    # function evals   = 59\n",
      "    # data points      = 150\n",
      "    # variables        = 1\n",
      "    chi-square         = 315.582\n",
      "    reduced chi-square = 2.118\n",
      "    Akaike info crit   = 113.568\n",
      "    Bayesian info crit = 116.578\n",
      "[[Variables]]\n",
      "    gamma:   1465.23714 (init= 1)\n",
      "\n"
     ]
    },
    {
     "data": {
      "image/png": "[encoded data removed]",
      "text/plain": [
       "<Figure size 108x108 with 1 Axes>"
      ]
     },
     "metadata": {},
     "output_type": "display_data"
    },
    {
     "name": "stdout",
     "output_type": "stream",
     "text": [
      "/home/bhalla/Documents/Codes/linearity/DN_widget/SDN/sdn_170531_c1_EI_nospikes.pkl\n",
      "100\n",
      "[[Model]]\n",
      "    Model(DN_model)\n",
      "[[Fit Statistics]]\n",
      "    # function evals   = 19\n",
      "    # data points      = 180\n",
      "    # variables        = 1\n",
      "    chi-square         = 1586.037\n",
      "    reduced chi-square = 8.861\n",
      "    Akaike info crit   = 393.687\n",
      "    Bayesian info crit = 396.880\n",
      "[[Variables]]\n",
      "    gamma:   20.6704365 (init= 1)\n",
      "\n",
      "[[Model]]\n",
      "    Model(DN_model)\n",
      "[[Fit Statistics]]\n",
      "    # function evals   = 29\n",
      "    # data points      = 180\n",
      "    # variables        = 1\n",
      "    chi-square         = 355.120\n",
      "    reduced chi-square = 1.984\n",
      "    Akaike info crit   = 124.310\n",
      "    Bayesian info crit = 127.503\n",
      "[[Variables]]\n",
      "    gamma:   99.3883951 (init= 1)\n",
      "\n"
     ]
    },
    {
     "data": {
      "image/png": "[encoded data removed]",
      "text/plain": [
       "<Figure size 108x108 with 1 Axes>"
      ]
     },
     "metadata": {},
     "output_type": "display_data"
    },
    {
     "name": "stdout",
     "output_type": "stream",
     "text": [
      "/home/bhalla/Documents/Codes/linearity/DN_widget/SDN/sdn_170530_c2_EI_nospikes.pkl\n",
      "100\n",
      "[[Model]]\n",
      "    Model(DN_model)\n",
      "[[Fit Statistics]]\n",
      "    # function evals   = 31\n",
      "    # data points      = 180\n",
      "    # variables        = 1\n",
      "    chi-square         = 352.750\n",
      "    reduced chi-square = 1.971\n",
      "    Akaike info crit   = 123.105\n",
      "    Bayesian info crit = 126.298\n",
      "[[Variables]]\n",
      "    gamma:   34.6149131 (init= 1)\n",
      "\n",
      "[[Model]]\n",
      "    Model(DN_model)\n",
      "[[Fit Statistics]]\n",
      "    # function evals   = 71\n",
      "    # data points      = 180\n",
      "    # variables        = 1\n",
      "    chi-square         = 333.391\n",
      "    reduced chi-square = 1.863\n",
      "    Akaike info crit   = 112.945\n",
      "    Bayesian info crit = 116.138\n",
      "[[Variables]]\n",
      "    gamma:   71627.7438 (init= 1)\n",
      "\n"
     ]
    },
    {
     "data": {
      "image/png": "[encoded data removed]",
      "text/plain": [
       "<Figure size 108x108 with 1 Axes>"
      ]
     },
     "metadata": {},
     "output_type": "display_data"
    },
    {
     "name": "stdout",
     "output_type": "stream",
     "text": [
      "/home/bhalla/Documents/Codes/linearity/DN_widget/SDN/sdn_170720_c3_EI_nospikes.pkl\n",
      "100\n",
      "[[Model]]\n",
      "    Model(DN_model)\n",
      "[[Fit Statistics]]\n",
      "    # function evals   = 25\n",
      "    # data points      = 150\n",
      "    # variables        = 1\n",
      "    chi-square         = 336.094\n",
      "    reduced chi-square = 2.256\n",
      "    Akaike info crit   = 123.013\n",
      "    Bayesian info crit = 126.024\n",
      "[[Variables]]\n",
      "    gamma:   21.2791576 (init= 1)\n",
      "\n",
      "[[Model]]\n",
      "    Model(DN_model)\n",
      "[[Fit Statistics]]\n",
      "    # function evals   = 41\n",
      "    # data points      = 150\n",
      "    # variables        = 1\n",
      "    chi-square         = 287.168\n",
      "    reduced chi-square = 1.927\n",
      "    Akaike info crit   = 99.415\n",
      "    Bayesian info crit = 102.425\n",
      "[[Variables]]\n",
      "    gamma:   221.115230 (init= 1)\n",
      "\n"
     ]
    },
    {
     "data": {
      "image/png": "[encoded data removed]",
      "text/plain": [
       "<Figure size 108x108 with 1 Axes>"
      ]
     },
     "metadata": {},
     "output_type": "display_data"
    },
    {
     "name": "stdout",
     "output_type": "stream",
     "text": [
      "/home/bhalla/Documents/Codes/linearity/DN_widget/SDN/sdn_170720_c4_EI_nospikes.pkl\n",
      "100\n",
      "[[Model]]\n",
      "    Model(DN_model)\n",
      "[[Fit Statistics]]\n",
      "    # function evals   = 27\n",
      "    # data points      = 60\n",
      "    # variables        = 1\n",
      "    chi-square         = 67.843\n",
      "    reduced chi-square = 1.150\n",
      "    Akaike info crit   = 9.371\n",
      "    Bayesian info crit = 11.465\n",
      "[[Variables]]\n",
      "    gamma:   31.4314913 (init= 1)\n",
      "\n",
      "[[Model]]\n",
      "    Model(DN_model)\n",
      "[[Fit Statistics]]\n",
      "    # function evals   = 45\n",
      "    # data points      = 60\n",
      "    # variables        = 1\n",
      "    chi-square         = 129.727\n",
      "    reduced chi-square = 2.199\n",
      "    Akaike info crit   = 48.265\n",
      "    Bayesian info crit = 50.360\n",
      "[[Variables]]\n",
      "    gamma:   384.796766 (init= 1)\n",
      "\n"
     ]
    },
    {
     "data": {
      "image/png": "[encoded data removed]",
      "text/plain": [
       "<Figure size 108x108 with 1 Axes>"
      ]
     },
     "metadata": {},
     "output_type": "display_data"
    },
    {
     "name": "stdout",
     "output_type": "stream",
     "text": [
      "/home/bhalla/Documents/Codes/linearity/DN_widget/SDN/sdn_170524_c3_EI_nospikes.pkl\n",
      "100\n",
      "[[Model]]\n",
      "    Model(DN_model)\n",
      "[[Fit Statistics]]\n",
      "    # function evals   = 37\n",
      "    # data points      = 90\n",
      "    # variables        = 1\n",
      "    chi-square         = 255.270\n",
      "    reduced chi-square = 2.868\n",
      "    Akaike info crit   = 95.826\n",
      "    Bayesian info crit = 98.326\n",
      "[[Variables]]\n",
      "    gamma:   83.1895430 (init= 1)\n",
      "\n",
      "[[Model]]\n",
      "    Model(DN_model)\n",
      "[[Fit Statistics]]\n",
      "    # function evals   = 67\n",
      "    # data points      = 90\n",
      "    # variables        = 1\n",
      "    chi-square         = 150.233\n",
      "    reduced chi-square = 1.688\n",
      "    Akaike info crit   = 48.114\n",
      "    Bayesian info crit = 50.614\n",
      "[[Variables]]\n",
      "    gamma:   36012.4526 (init= 1)\n",
      "\n"
     ]
    },
    {
     "data": {
      "image/png": "[encoded data removed]",
      "text/plain": [
       "<Figure size 108x108 with 1 Axes>"
      ]
     },
     "metadata": {},
     "output_type": "display_data"
    },
    {
     "name": "stdout",
     "output_type": "stream",
     "text": [
      "/home/bhalla/Documents/Codes/linearity/DN_widget/SDN/sdn_170531_c4_EI_nospikes.pkl\n",
      "100\n",
      "[[Model]]\n",
      "    Model(DN_model)\n",
      "[[Fit Statistics]]\n",
      "    # function evals   = 43\n",
      "    # data points      = 90\n",
      "    # variables        = 1\n",
      "    chi-square         = 90.325\n",
      "    reduced chi-square = 1.015\n",
      "    Akaike info crit   = 2.325\n",
      "    Bayesian info crit = 4.824\n",
      "[[Variables]]\n",
      "    gamma:   120.182079 (init= 1)\n",
      "\n",
      "[[Model]]\n",
      "    Model(DN_model)\n",
      "[[Fit Statistics]]\n",
      "    # function evals   = 69\n",
      "    # data points      = 90\n",
      "    # variables        = 1\n",
      "    chi-square         = 117.028\n",
      "    reduced chi-square = 1.315\n",
      "    Akaike info crit   = 25.634\n",
      "    Bayesian info crit = 28.134\n",
      "[[Variables]]\n",
      "    gamma:   36957.1911 (init= 1)\n",
      "\n"
     ]
    },
    {
     "data": {
      "image/png": "[encoded data removed]",
      "text/plain": [
       "<Figure size 108x108 with 1 Axes>"
      ]
     },
     "metadata": {},
     "output_type": "display_data"
    },
    {
     "name": "stdout",
     "output_type": "stream",
     "text": [
      "/home/bhalla/Documents/Codes/linearity/DN_widget/SDN/sdn_170524_c1_EI_nospikes.pkl\n",
      "100\n",
      "[[Model]]\n",
      "    Model(DN_model)\n",
      "[[Fit Statistics]]\n",
      "    # function evals   = 27\n",
      "    # data points      = 120\n",
      "    # variables        = 1\n",
      "    chi-square         = 187.107\n",
      "    reduced chi-square = 1.572\n",
      "    Akaike info crit   = 55.303\n",
      "    Bayesian info crit = 58.090\n",
      "[[Variables]]\n",
      "    gamma:   19.6309403 (init= 1)\n",
      "\n",
      "[[Model]]\n",
      "    Model(DN_model)\n",
      "[[Fit Statistics]]\n",
      "    # function evals   = 33\n",
      "    # data points      = 120\n",
      "    # variables        = 1\n",
      "    chi-square         = 803.887\n",
      "    reduced chi-square = 6.755\n",
      "    Akaike info crit   = 230.236\n",
      "    Bayesian info crit = 233.024\n",
      "[[Variables]]\n",
      "    gamma:   60.9914314 (init= 1)\n",
      "\n"
     ]
    },
    {
     "data": {
      "image/png": "[encoded data removed]",
      "text/plain": [
       "<Figure size 108x108 with 1 Axes>"
      ]
     },
     "metadata": {},
     "output_type": "display_data"
    },
    {
     "name": "stdout",
     "output_type": "stream",
     "text": [
      "/home/bhalla/Documents/Codes/linearity/DN_widget/SDN/sdn_170530_c1_EI_nospikes.pkl\n",
      "100\n",
      "[[Model]]\n",
      "    Model(DN_model)\n",
      "[[Fit Statistics]]\n",
      "    # function evals   = 23\n",
      "    # data points      = 150\n",
      "    # variables        = 1\n",
      "    chi-square         = 313.116\n",
      "    reduced chi-square = 2.101\n",
      "    Akaike info crit   = 112.391\n",
      "    Bayesian info crit = 115.401\n",
      "[[Variables]]\n",
      "    gamma:   17.5752440 (init= 1)\n",
      "\n",
      "[[Model]]\n",
      "    Model(DN_model)\n",
      "[[Fit Statistics]]\n",
      "    # function evals   = 43\n",
      "    # data points      = 150\n",
      "    # variables        = 1\n",
      "    chi-square         = 609.996\n",
      "    reduced chi-square = 4.094\n",
      "    Akaike info crit   = 212.422\n",
      "    Bayesian info crit = 215.433\n",
      "[[Variables]]\n",
      "    gamma:   312.314534 (init= 1)\n",
      "\n"
     ]
    },
    {
     "data": {
      "image/png": "[encoded data removed]",
      "text/plain": [
       "<Figure size 108x108 with 1 Axes>"
      ]
     },
     "metadata": {},
     "output_type": "display_data"
    },
    {
     "name": "stdout",
     "output_type": "stream",
     "text": [
      "/home/bhalla/Documents/Codes/linearity/DN_widget/SDN/sdn_170720_c5_EI_nospikes.pkl\n",
      "100\n",
      "[[Model]]\n",
      "    Model(DN_model)\n",
      "[[Fit Statistics]]\n",
      "    # function evals   = 27\n",
      "    # data points      = 150\n",
      "    # variables        = 1\n",
      "    chi-square         = 220.879\n",
      "    reduced chi-square = 1.482\n",
      "    Akaike info crit   = 60.047\n",
      "    Bayesian info crit = 63.057\n",
      "[[Variables]]\n",
      "    gamma:   23.2194182 (init= 1)\n",
      "\n",
      "[[Model]]\n",
      "    Model(DN_model)\n",
      "[[Fit Statistics]]\n",
      "    # function evals   = 73\n",
      "    # data points      = 150\n",
      "    # variables        = 1\n",
      "    chi-square         = 545.132\n",
      "    reduced chi-square = 3.659\n",
      "    Akaike info crit   = 195.559\n",
      "    Bayesian info crit = 198.570\n",
      "[[Variables]]\n",
      "    gamma:   1.0367e+05 (init= 1)\n",
      "\n"
     ]
    },
    {
     "data": {
      "image/png": "[encoded data removed]",
      "text/plain": [
       "<Figure size 108x108 with 1 Axes>"
      ]
     },
     "metadata": {},
     "output_type": "display_data"
    }
   ],
   "source": [
    "dn_aic, dn_chi = [], []\n",
    "dn_gamma, gaba_gamma = [], []\n",
    "for f in glob.glob(\"/home/bhalla/Documents/Codes/linearity/DN_widget/SDN/sdn_*_nospikes.pkl\"):\n",
    "    print(f)\n",
    "    prefix, suffix = f.split('_nospikes')\n",
    "    with open (f, 'r') as g:\n",
    "        sdn_x, sdn_y, sdn_y2, IE_ratio_arr, IE_pair, IE_onset= pickle.load(g)\n",
    "        \n",
    "    sdn_x, sdn_y, sdn_y2  = [convertInfToNan(j) for j in [sdn_x, sdn_y, sdn_y2]] #, IE_ratio_arr, IE_pair, IE_onset]]\n",
    "    sdn_x, sdn_y, sdn_y2 = sdn_x.reshape((len(sdn_x)/6,6)), sdn_y.reshape((len(sdn_y)/6,6)), sdn_y2.reshape((len(sdn_y2)/6,6))\n",
    "    sdn_x, sdn_y, sdn_y2 = np.nanmedian(sdn_x, axis=1), np.nanmedian(sdn_y, axis=1), np.nanmedian(sdn_y2, axis=1)\n",
    "    \n",
    "   \n",
    "    Vmax = max(y2)\n",
    "    gmax = max(sdn_y2)\n",
    "    \n",
    "#     factor = float(Vmax)/gmax\n",
    "    factor = 100\n",
    "    print(factor)\n",
    "    \n",
    "    X = np.copy(sdn_y2) *factor\n",
    "    y = np.copy(sdn_y) #Control\n",
    "    y2 = np.copy(sdn_x) #GABAzine\n",
    "    \n",
    "    \n",
    "    fig, ax = plt.subplots()\n",
    "    ax.scatter(X, y, marker='.', c='k', s=12)\n",
    "    ax.scatter(X, y2,  marker='.', c='r', s=12)\n",
    "    ax.set_xlabel(\"Conductance (nS)\")\n",
    "    ax.set_ylabel(\"Observed $V_m$\")\n",
    "    ax.set_xlim(xmin=0.)\n",
    "    ymin, ymax = ax.get_ylim()\n",
    "    ax.set_ylim(ymin=0.)#, ymax= 1.5*ymax)\n",
    "\n",
    "    method = 'L-BFGS-B'\n",
    "    idx   = np.argsort(X)\n",
    "    X = X[idx]\n",
    "    y = y[idx]\n",
    "    y2 = y2[idx]\n",
    "        \n",
    "    DN_Model = lmfit.Model(DN_model)\n",
    "    DN_pars = DN_Model.make_params()\n",
    "    DN_result = DN_Model.fit(y, DN_pars, x=X, method=method, reduce_fcn='neglogcauchy')\n",
    "    \n",
    "    dn_aic.append(DN_result.aic)\n",
    "    dn_chi.append(DN_result.redchi)\n",
    "\n",
    "    print (DN_result.fit_report())\n",
    "\n",
    "#     ax.set_xlim(xmin=0.)\n",
    "#     ax.set_ylim(ymin=0.)\n",
    "#     ax.set_xlabel(\"Expected\")\n",
    "#     ax.set_ylabel(\"Observed\")\n",
    "    ax.set_title(\"Divisive Normalization fits\")\n",
    "#     div_inh = ax.plot(X, lin_result.best_fit, '-', color='green', lw=2)\n",
    "    div_norm = ax.plot(X, DN_result.best_fit, '-', color='k', lw=2)\n",
    "    dn_gamma.append(DN_result.params[\"gamma\"])\n",
    "    \n",
    "    DN_Model2 = lmfit.Model(DN_model)\n",
    "    DN_pars = DN_Model2.make_params()\n",
    "    \n",
    "    DN_result2 = DN_Model2.fit(y2, DN_pars, x=X, method=method, reduce_fcn='neglogcauchy')\n",
    "    print (DN_result2.fit_report())\n",
    "    div_norm_GABAzine = ax.plot(X, DN_result2.best_fit, '-', color='r', lw=2)\n",
    "    gaba_gamma.append(DN_result2.params[\"gamma\"])\n",
    "    \n",
    "#     max_exp *=1.1\n",
    "#     max_g_exp *=1.1\n",
    "    \n",
    "#     ax.set_xlim(0,max_exp)\n",
    "\n",
    "#     ax.set_ylim(0,max_exp)\n",
    "\n",
    "#     linear = ax.plot((0,max_exp), (0,max_exp), 'k--')\n",
    "\n",
    "#     legends =  div_norm\n",
    "    # labels = [\"Divisive Inhibition, $\\\\beta$ = {:.2f}\".format(lin_result.params['beta'].value), \"Divisive Normalization, $\\\\beta$ = {:.2f}, $\\\\gamma$ = {:.2f}\".format(DN_result.params['beta'].value, DN_result.params['gamma'].value), \"Linear sum\"] +  sorted(observed.keys()) \n",
    "#     labels = [\"Divisive Inhibition, $\\\\beta$ = {:.2f}\".format(lin_result.params['beta'].value), \"Divisive Normalization, $\\\\gamma$ = {:.2f}\".format(DN_result.params['gamma'].value), \"Linear sum\"] +  sorted(observed.keys()) \n",
    "\n",
    "#     ax.legend(legends, labels, loc='upper left')\n",
    "\n",
    "    simpleaxis(ax)\n",
    "    fig.set_figwidth(1.5)\n",
    "    fig.set_figheight(1.5)\n",
    "#     dump(fig,file('figures/fig4/4b.pkl','wb'))\n",
    "\n",
    "    \n",
    "#     simpleaxis(ax)\n",
    "#     fig.set_figwidth(1.3)\n",
    "#     fig.set_figheight(1.3)\n",
    "\n",
    "    plt.savefig(prefix + \"_subthreshold.svg\", transparent=True, bbox_inches='tight')\n",
    "    plt.show()\n",
    "#     plt.show(fig)\n",
    "#     plt.close()"
   ]
  },
  {
   "cell_type": "code",
   "execution_count": 140,
   "metadata": {},
   "outputs": [
    {
     "name": "stdout",
     "output_type": "stream",
     "text": [
      "RanksumsResult(statistic=-4.17948717948718, pvalue=2.921671892184398e-05)\n",
      "N is 13\n"
     ]
    },
    {
     "data": {
      "image/png": "[encoded data removed]",
      "text/plain": [
       "<Figure size 93.6x108 with 1 Axes>"
      ]
     },
     "metadata": {},
     "output_type": "display_data"
    }
   ],
   "source": [
    "prefix = \"/media/sahil/NCBS_Shares_BGStim/Paper/Submissions/Elife/Figures/\"\n",
    "print(ss.ranksums(dn_gamma,gaba_gamma))\n",
    "print (\"N is {}\".format(len(dn_gamma)))\n",
    "\n",
    "indices = [1,2]\n",
    "fig, ax = plt.subplots()\n",
    "for ind, (l,d) in enumerate(zip(gaba_gamma, dn_gamma)):\n",
    "    ax.plot(indices, [d,l], 'o-', alpha=1, color='0.5', markerfacecolor='white',markersize=6)\n",
    "ax.plot(indices, [np.average(dn_gamma), np.average(gaba_gamma)],'o-', alpha=1., color='0',markersize=6)\n",
    "ax.set_xlim((0.5,2.5))\n",
    "# ax.set_ylim(ymin=-4,ymax=70)\n",
    "ax.set_ylabel(\"$\\\\gamma$\")\n",
    "ax.set_xticks(indices)\n",
    "ax.set_xticklabels(('E-I','E'))\n",
    "y, h, col = np.max([np.max(gaba_gamma),np.max(dn_gamma)])+ 8 , 2, 'k'\n",
    "plt.plot([1,1, 2, 2], [y, y+h, y+h, y], lw=1.5, c=col)\n",
    "plt.text((1+2)*.5, y+h, \"*\", ha='center', va='bottom', color=col)\n",
    "\n",
    "simpleaxis(ax)\n",
    "fig.set_figwidth(1.3)\n",
    "fig.set_figheight(1.5)\n",
    "plt.savefig(prefix + 'summaryFig_gamma_subthreshold_voltageClamp.svg')\n",
    "plt.show()"
   ]
  },
  {
   "cell_type": "code",
   "execution_count": 120,
   "metadata": {},
   "outputs": [
    {
     "name": "stdout",
     "output_type": "stream",
     "text": [
      "/media/sahil/NCBS_Shares_BGStim/Paper/Submissions/Elife/Figures/summaryFig_gamma_subthreshold_voltageClamp.svg\n"
     ]
    }
   ],
   "source": [
    "print(prefix + 'summaryFig_gamma_subthreshold_voltageClamp.svg')"
   ]
  },
  {
   "cell_type": "code",
   "execution_count": null,
   "metadata": {
    "scrolled": false
   },
   "outputs": [],
   "source": [
    "# import scipy.stats as ss\n",
    "thresArr = [-0.0575, -0.055, -0.0525]\n",
    "for f in glob.glob(\"/home/bhalla/Documents/Codes/linearity/DN_widget/SDN/sdn_*-0.055_spikes.pkl\"):\n",
    "    # Getting the IQR\n",
    "    filename = f.split(\"-\")[0] + \"nospikes.pkl\"\n",
    "    print(filename)\n",
    "    #sdn_x, sdn_y, sdn_y2, IE_ratio_arr = getSDNPlotVals(filename)\n",
    "    with open (filename, 'r') as g:\n",
    "        sdn_x, sdn_y, sdn_y2, IE_ratio_arr, IE_pair, IE_onset= pickle.load(g)\n",
    "    sdn_x, sdn_y, sdn_y2, IE_ratio_arr, IE_pair, IE_onset = [np.array(j) for j in [sdn_x, sdn_y, sdn_y2, IE_ratio_arr, IE_pair, IE_onset]]\n",
    "    \n",
    "#     bins = np.linspace(0,1,31)\n",
    "#     fig, ax = plt.subplots()\n",
    "#     ax.hist((sdn_x-sdn_y)/sdn_x, bins=bins)\n",
    "#     plt.show()\n",
    "    \n",
    "#     bins = np.linspace(0,30,61)\n",
    "#     indices = np.digitize(sdn_x, bins)\n",
    "    \n",
    "#     indices1, sdn_x1, sdn_y1 = zip(*sorted(zip(indices, sdn_x, sdn_y)))\n",
    "    \n",
    "    \n",
    "    \n",
    "#     fig, ax = plt.subplots()\n",
    "#     ax.scatter(sdn_x, (sdn_x-sdn_y)/sdn_x)\n",
    "#     ax.set_xlim(xmin=0.)\n",
    "#     ax.set_ylim(ymin=0.)\n",
    "#     plt.show()\n",
    "    \n",
    "    fig, ax = plt.subplots(nrows=len(thresArr), sharex=True, sharey=True)\n",
    "    for j in range(len(thresArr)):\n",
    "        filename = f.split(\"-\")[0] + str(thresArr[j]) + \"_spikes.pkl\"\n",
    "        sdn_x, sdn_y, sdn_y2, IE_ratio_arr = getSDNPlotVals(filename)\n",
    "        deltaSpikeTime = sdn_y-sdn_y2\n",
    "        bins = np.linspace(-1,10,100)\n",
    "        n, bins, patches = ax[j].hist(deltaSpikeTime, bins=bins, color='k')\n",
    "        ax[j].vlines(x=np.median(deltaSpikeTime), ymin=0, ymax=max(n)*1.1, linestyles='--', color='0.2')\n",
    "        ax[j].vlines(x=0., ymin=0, ymax=max(n)*1.1, linestyles='--', color='r')\n",
    "        simpleaxis(ax[j])\n",
    "        ax[j].set_title(str(thresArr[j]) + \"mV\")\n",
    "    \n",
    "    fig.set_figwidth(6)\n",
    "    fig.set_figheight(6)\n",
    "    plt.show(fig)"
   ]
  }
 ],
 "metadata": {
  "hide_input": false,
  "kernelspec": {
   "display_name": "Python 2",
   "language": "python",
   "name": "python2"
  },
  "language_info": {
   "codemirror_mode": {
    "name": "ipython",
    "version": 2
   },
   "file_extension": ".py",
   "mimetype": "text/x-python",
   "name": "python",
   "nbconvert_exporter": "python",
   "pygments_lexer": "ipython2",
   "version": "2.7.12"
  },
  "toc": {
   "colors": {
    "hover_highlight": "#DAA520",
    "navigate_num": "#000000",
    "navigate_text": "#333333",
    "running_highlight": "#FF0000",
    "selected_highlight": "#FFD700",
    "sidebar_border": "#EEEEEE",
    "wrapper_background": "#FFFFFF"
   },
   "moveMenuLeft": false,
   "nav_menu": {
    "height": "12px",
    "width": "252px"
   },
   "navigate_menu": true,
   "number_sections": false,
   "sideBar": false,
   "threshold": 4,
   "toc_cell": false,
   "toc_section_display": "block",
   "toc_window_display": false,
   "widenNotebook": false
  },
  "varInspector": {
   "cols": {
    "lenName": 16,
    "lenType": 16,
    "lenVar": 40
   },
   "kernels_config": {
    "python": {
     "delete_cmd_postfix": "",
     "delete_cmd_prefix": "del ",
     "library": "var_list.py",
     "varRefreshCmd": "print(var_dic_list())"
    },
    "r": {
     "delete_cmd_postfix": ") ",
     "delete_cmd_prefix": "rm(",
     "library": "var_list.r",
     "varRefreshCmd": "cat(var_dic_list()) "
    }
   },
   "types_to_exclude": [
    "module",
    "function",
    "builtin_function_or_method",
    "instance",
    "_Feature"
   ],
   "window_display": false
  }
 },
 "nbformat": 4,
 "nbformat_minor": 2
}
