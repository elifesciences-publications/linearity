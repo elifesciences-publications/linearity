{
 "cells": [
  {
   "cell_type": "markdown",
   "metadata": {},
   "source": [
    "# Correlations between the EPSC and IPSCs with increasing input"
   ]
  },
  {
   "cell_type": "markdown",
   "metadata": {},
   "source": [
    "Since the CA1 neuron saturates in its $V_{max}$ with increasing input, and this saturation is dependent on the inhibition, the shapes of the two functions must approach each other with increases in input.\n",
    "\n",
    "$$C(t) = E(t) - I(t)$$\n",
    "As $C_{max}$ goes to constant, E and I should converge."
   ]
  },
  {
   "cell_type": "code",
   "execution_count": 1,
   "metadata": {},
   "outputs": [],
   "source": [
    "import numpy as np\n",
    "import pickle\n",
    "%matplotlib notebook\n",
    "import matplotlib\n",
    "import matplotlib.pyplot as plt\n",
    "import matplotlib.cm as cm\n",
    "import matplotlib.colors as colors\n",
    "import os\n",
    "import sys\n",
    "from matplotlib.collections import LineCollection\n",
    "from matplotlib.colors import ListedColormap, BoundaryNorm"
   ]
  },
  {
   "cell_type": "code",
   "execution_count": 2,
   "metadata": {},
   "outputs": [],
   "source": [
    "fileList = ['/media/sahil/NCBS_Shares_BGStim/patch_data/161220/c1_EI/plots/c1_EI_fits.pkl', '/media/sahil/NCBS_Shares_BGStim/patch_data/161220/c2_EI/plots/c2_EI_fits.pkl', '/media/sahil/NCBS_Shares_BGStim/patch_data/170117/c1_EI/plots/c1_EI_fits.pkl', '/media/sahil/NCBS_Shares_BGStim/patch_data/170117/c2_EI/plots/c2_EI_fits.pkl', '/media/sahil/NCBS_Shares_BGStim/patch_data/170317/c5_EI/plots/c5_EI_fits.pkl']"
   ]
  },
  {
   "cell_type": "code",
   "execution_count": 3,
   "metadata": {},
   "outputs": [],
   "source": [
    "fileList = ['/media/sahil/NCBS_Shares_BGStim/patch_data/161220/c2_EI/plots/c2_EI_fits.pkl']"
   ]
  },
  {
   "cell_type": "markdown",
   "metadata": {},
   "source": [
    "### Sliding window cross correlation between E and I"
   ]
  },
  {
   "cell_type": "code",
   "execution_count": 4,
   "metadata": {},
   "outputs": [],
   "source": [
    "def periodicallyNormalizedCrossCorrelation(vec1, vec2, windowSize):\n",
    "    ''' Returns the cross correlation of 2 vectors by running a window of same size through the 2 vectors'''\n",
    "    normalizationLength = windowSize - 1\n",
    "    assert len(vec1) == len(vec2), \"Lengths of vectors don't match\"\n",
    "    return np.array([np.correlate(normalizeTrace(vec1[i:i+windowSize])/normalizationLength, normalizeTrace(vec2[i:i+windowSize]))[0] for i in range(0,len(vec1),windowSize)])"
   ]
  },
  {
   "cell_type": "code",
   "execution_count": 5,
   "metadata": {},
   "outputs": [],
   "source": [
    "def traceNormalizedCrossCorrelation(vec1, vec2, windowSize):\n",
    "    ''' Returns the cross correlation of 2 vectors by running a window of same size through the 2 vectors'''\n",
    "    assert len(vec1) == len(vec2), \"Lengths of vectors don't match\"\n",
    "    return np.array([np.correlate(vec1[i:i+windowSize], vec2[i:i+windowSize])[0] for i in range(0,len(vec1),windowSize)])"
   ]
  },
  {
   "cell_type": "markdown",
   "metadata": {},
   "source": [
    "### Sorted trials with maximum excitatory current values."
   ]
  },
  {
   "cell_type": "code",
   "execution_count": 6,
   "metadata": {},
   "outputs": [],
   "source": [
    "def sortTrialsByGmax(trials):\n",
    "    gmax_array = np.array([trial.fit[\"g_max\"].value for trial in trials])\n",
    "    sortIndices = np.argsort(gmax_array)\n",
    "    return sortIndices, gmax_array[sortIndices]"
   ]
  },
  {
   "cell_type": "markdown",
   "metadata": {},
   "source": [
    "### Normalize to $\\frac{x-\\mu}{\\sigma}$ for normalized correlation coefficients"
   ]
  },
  {
   "cell_type": "code",
   "execution_count": 7,
   "metadata": {},
   "outputs": [],
   "source": [
    "def normalizeTrace(trace):\n",
    "    return (trace - np.mean(trace))/(np.std(trace))"
   ]
  },
  {
   "cell_type": "markdown",
   "metadata": {},
   "source": [
    "### Plot heatmap with the same."
   ]
  },
  {
   "cell_type": "code",
   "execution_count": 8,
   "metadata": {},
   "outputs": [],
   "source": [
    "def heatmap(corrMatrix, extent, title, fig = None, ax = None):\n",
    "    if not ax:\n",
    "        fig, ax = plt.subplots()\n",
    "    \n",
    "    heatmap = ax.imshow(corrMatrix, cmap='plasma', aspect='auto', extent=extent, origin='lower')\n",
    "    cbar = fig.colorbar(heatmap, orientation='horizontal')\n",
    "    ax.set_xlabel(\"Time (ms)\")\n",
    "    ax.set_ylabel(\"Current (pA)\")\n",
    "    cbar.ax.get_xaxis().labelpad = 15\n",
    "    cbar.ax.set_xlabel('Normalized correlation')\n",
    "    if not ax:\n",
    "        return fig"
   ]
  },
  {
   "cell_type": "code",
   "execution_count": 9,
   "metadata": {},
   "outputs": [],
   "source": [
    "def phaseplot(x,y,axis,c='blue'):\n",
    "    phasePlot = axis.plot(x,y,c=c)\n",
    "    return phasePlot"
   ]
  },
  {
   "cell_type": "code",
   "execution_count": 10,
   "metadata": {},
   "outputs": [],
   "source": [
    "def colorline(\n",
    "        x, y, z=None, cmap='inferno', norm=plt.Normalize(0.0, 1.0),\n",
    "        linewidth=0.5, alpha=0.5):\n",
    "    \"\"\"\n",
    "    http://nbviewer.ipython.org/github/dpsanders/matplotlib-examples/blob/master/colorline.ipynb\n",
    "    http://matplotlib.org/examples/pylab_examples/multicolored_line.html\n",
    "    Plot a colored line with coordinates x and y\n",
    "    Optionally specify colors in the array z\n",
    "    Optionally specify a colormap, a norm function and a line width\n",
    "    \"\"\"\n",
    "\n",
    "    # Default colors equally spaced on [0,1]:\n",
    "    if z is None:\n",
    "        z = np.linspace(0.0, 1.0, len(x))\n",
    "\n",
    "    # Special case if a single number:\n",
    "    # to check for numerical input -- this is a hack\n",
    "    if not hasattr(z, \"__iter__\"):\n",
    "        z = np.array([z])\n",
    "\n",
    "    z = np.asarray(z)\n",
    "\n",
    "    segments = make_segments(x, y)\n",
    "    lc = LineCollection(segments, array=z, cmap=cmap, norm=norm,\n",
    "                              linewidth=linewidth, alpha=alpha)\n",
    "\n",
    "    ax = plt.gca()\n",
    "    ax.add_collection(lc)\n",
    "\n",
    "    return lc\n",
    "\n",
    "def make_segments(x, y):\n",
    "    \"\"\"\n",
    "    Create list of line segments from x and y coordinates, in the correct format\n",
    "    for LineCollection: an array of the form numlines x (points per line) x 2 (x\n",
    "    and y) array\n",
    "    \"\"\"\n",
    "\n",
    "    points = np.array([x, y]).T.reshape(-1, 1, 2)\n",
    "    segments = np.concatenate([points[:-1], points[1:]], axis=1)\n",
    "    return segments"
   ]
  },
  {
   "cell_type": "markdown",
   "metadata": {},
   "source": [
    "### Plotting EI correlations over time for four different cells with current recordings."
   ]
  },
  {
   "cell_type": "code",
   "execution_count": 12,
   "metadata": {
    "scrolled": false
   },
   "outputs": [
    {
     "ename": "TypeError",
     "evalue": "'NoneType' object has no attribute '__getitem__'",
     "output_type": "error",
     "traceback": [
      "\u001b[0;31m---------------------------------------------------------------------------\u001b[0m",
      "\u001b[0;31mTypeError\u001b[0m                                 Traceback (most recent call last)",
      "\u001b[0;32m<ipython-input-12-4e6ddfda8d3c>\u001b[0m in \u001b[0;36m<module>\u001b[0;34m()\u001b[0m\n\u001b[1;32m     14\u001b[0m         \u001b[0mexcTrialList\u001b[0m\u001b[0;34m+=\u001b[0m\u001b[0;34m[\u001b[0m\u001b[0mexc\u001b[0m\u001b[0;34m[\u001b[0m\u001b[0mnumSquares\u001b[0m\u001b[0;34m]\u001b[0m\u001b[0;34m.\u001b[0m\u001b[0mtrial\u001b[0m\u001b[0;34m[\u001b[0m\u001b[0mtrialNum\u001b[0m\u001b[0;34m]\u001b[0m \u001b[0;32mfor\u001b[0m \u001b[0mtrialNum\u001b[0m \u001b[0;32min\u001b[0m \u001b[0mexc\u001b[0m\u001b[0;34m[\u001b[0m\u001b[0mnumSquares\u001b[0m\u001b[0;34m]\u001b[0m\u001b[0;34m.\u001b[0m\u001b[0mtrial\u001b[0m\u001b[0;34m]\u001b[0m\u001b[0;34m\u001b[0m\u001b[0m\n\u001b[1;32m     15\u001b[0m         \u001b[0minhTrialList\u001b[0m\u001b[0;34m+=\u001b[0m\u001b[0;34m[\u001b[0m\u001b[0minh\u001b[0m\u001b[0;34m[\u001b[0m\u001b[0mnumSquares\u001b[0m\u001b[0;34m]\u001b[0m\u001b[0;34m.\u001b[0m\u001b[0mtrial\u001b[0m\u001b[0;34m[\u001b[0m\u001b[0mtrialNum\u001b[0m\u001b[0;34m]\u001b[0m \u001b[0;32mfor\u001b[0m \u001b[0mtrialNum\u001b[0m \u001b[0;32min\u001b[0m \u001b[0minh\u001b[0m\u001b[0;34m[\u001b[0m\u001b[0mnumSquares\u001b[0m\u001b[0;34m]\u001b[0m\u001b[0;34m.\u001b[0m\u001b[0mtrial\u001b[0m\u001b[0;34m]\u001b[0m\u001b[0;34m\u001b[0m\u001b[0m\n\u001b[0;32m---> 16\u001b[0;31m     \u001b[0msortIndices\u001b[0m\u001b[0;34m,\u001b[0m \u001b[0msortedValues\u001b[0m \u001b[0;34m=\u001b[0m \u001b[0msortTrialsByGmax\u001b[0m\u001b[0;34m(\u001b[0m\u001b[0mexcTrialList\u001b[0m\u001b[0;34m)\u001b[0m\u001b[0;34m\u001b[0m\u001b[0m\n\u001b[0m\u001b[1;32m     17\u001b[0m     \u001b[0mextent\u001b[0m \u001b[0;34m=\u001b[0m \u001b[0;34m[\u001b[0m\u001b[0;36m0\u001b[0m\u001b[0;34m,\u001b[0m \u001b[0mfullWindowSize\u001b[0m\u001b[0;34m/\u001b[0m\u001b[0mwindowSize\u001b[0m\u001b[0;34m,\u001b[0m \u001b[0mmin\u001b[0m\u001b[0;34m(\u001b[0m\u001b[0msortedValues\u001b[0m\u001b[0;34m)\u001b[0m\u001b[0;34m*\u001b[0m\u001b[0;36m1e3\u001b[0m\u001b[0;34m,\u001b[0m \u001b[0mmax\u001b[0m\u001b[0;34m(\u001b[0m\u001b[0msortedValues\u001b[0m\u001b[0;34m)\u001b[0m\u001b[0;34m*\u001b[0m\u001b[0;36m1e3\u001b[0m\u001b[0;34m]\u001b[0m \u001b[0;31m# tmin, tmax, gmin, gmax in ms, and nA\u001b[0m\u001b[0;34m\u001b[0m\u001b[0m\n\u001b[1;32m     18\u001b[0m \u001b[0;34m\u001b[0m\u001b[0m\n",
      "\u001b[0;32m<ipython-input-6-1c8577f4c86e>\u001b[0m in \u001b[0;36msortTrialsByGmax\u001b[0;34m(trials)\u001b[0m\n\u001b[1;32m      1\u001b[0m \u001b[0;32mdef\u001b[0m \u001b[0msortTrialsByGmax\u001b[0m\u001b[0;34m(\u001b[0m\u001b[0mtrials\u001b[0m\u001b[0;34m)\u001b[0m\u001b[0;34m:\u001b[0m\u001b[0;34m\u001b[0m\u001b[0m\n\u001b[0;32m----> 2\u001b[0;31m     \u001b[0mgmax_array\u001b[0m \u001b[0;34m=\u001b[0m \u001b[0mnp\u001b[0m\u001b[0;34m.\u001b[0m\u001b[0marray\u001b[0m\u001b[0;34m(\u001b[0m\u001b[0;34m[\u001b[0m\u001b[0mtrial\u001b[0m\u001b[0;34m.\u001b[0m\u001b[0mfit\u001b[0m\u001b[0;34m[\u001b[0m\u001b[0;34m\"g_max\"\u001b[0m\u001b[0;34m]\u001b[0m\u001b[0;34m.\u001b[0m\u001b[0mvalue\u001b[0m \u001b[0;32mfor\u001b[0m \u001b[0mtrial\u001b[0m \u001b[0;32min\u001b[0m \u001b[0mtrials\u001b[0m\u001b[0;34m]\u001b[0m\u001b[0;34m)\u001b[0m\u001b[0;34m\u001b[0m\u001b[0m\n\u001b[0m\u001b[1;32m      3\u001b[0m     \u001b[0msortIndices\u001b[0m \u001b[0;34m=\u001b[0m \u001b[0mnp\u001b[0m\u001b[0;34m.\u001b[0m\u001b[0margsort\u001b[0m\u001b[0;34m(\u001b[0m\u001b[0mgmax_array\u001b[0m\u001b[0;34m)\u001b[0m\u001b[0;34m\u001b[0m\u001b[0m\n\u001b[1;32m      4\u001b[0m     \u001b[0;32mreturn\u001b[0m \u001b[0msortIndices\u001b[0m\u001b[0;34m,\u001b[0m \u001b[0mgmax_array\u001b[0m\u001b[0;34m[\u001b[0m\u001b[0msortIndices\u001b[0m\u001b[0;34m]\u001b[0m\u001b[0;34m\u001b[0m\u001b[0m\n",
      "\u001b[0;31mTypeError\u001b[0m: 'NoneType' object has no attribute '__getitem__'"
     ]
    }
   ],
   "source": [
    "for i,analysisFile in enumerate(fileList):\n",
    "    plotDir = os.path.dirname(analysisFile)\n",
    "\n",
    "    with open (analysisFile,'rb') as p:\n",
    "        neuron = pickle.load(p)\n",
    "\n",
    "    windowSize = 20\n",
    "    fullWindowSize = 1000\n",
    "    totalTime = fullWindowSize/windowSize #ms\n",
    "    \n",
    "    excTrialList, inhTrialList= [], []\n",
    "    exc, inh = neuron.experiment[1], neuron.experiment[2]\n",
    "    for numSquares in (set(exc) & set(inh)):\n",
    "        excTrialList+=[exc[numSquares].trial[trialNum] for trialNum in exc[numSquares].trial]\n",
    "        inhTrialList+=[inh[numSquares].trial[trialNum] for trialNum in inh[numSquares].trial]\n",
    "    sortIndices, sortedValues = sortTrialsByGmax(excTrialList)\n",
    "    extent = [0, fullWindowSize/windowSize, min(sortedValues)*1e3, max(sortedValues)*1e3] # tmin, tmax, gmin, gmax in ms, and nA\n",
    "    \n",
    "    nrows, ncols = 15,12\n",
    "    scalingFactor = 1e9 #Converting currents to picoAmperes\n",
    "    cmap = cm.get_cmap('inferno')\n",
    "    norm = colors.Normalize(vmin=sortedValues[0]*1e3, vmax=sortedValues[-1]*1e3)\n",
    "    colorSpace = np.linspace(0.,1.,nrows*ncols)\n",
    "    \n",
    "    # Phase plot of E and I\n",
    "    fig, ax = plt.subplots(nrows=nrows, ncols=ncols, sharex=True, sharey=True,figsize=(12,8))\n",
    "    position = [(x,y) for x in range(nrows) for y in range(ncols)]\n",
    "    for trialIndex,pos in zip(sortIndices, position):\n",
    "        axis = phaseplot(excTrialList[trialIndex].interestWindow[:fullWindowSize]*scalingFactor, inhTrialList[trialIndex].interestWindow[:fullWindowSize]*scalingFactor, ax[pos[0]][pos[1]], c=cmap(i))\n",
    "    fig.text(0.5, 0.0, 'Excitation', ha='center')\n",
    "    fig.text(0.0, 0.5, 'Inhibition', va='center', rotation='vertical')\n",
    "    fig.tight_layout()\n",
    "    fig.show()\n",
    "    \n",
    "    # Phase plot of E and I\n",
    "    fig, ax = plt.subplots(ncols=2, gridspec_kw = {'width_ratios':[20, 1]})\n",
    "    for trialIndex,i in zip(sortIndices[::-1],colorSpace[::-1]):\n",
    "        ax[0].plot(excTrialList[trialIndex].interestWindow[:fullWindowSize]*scalingFactor, inhTrialList[trialIndex].interestWindow[:fullWindowSize]*scalingFactor, c=cmap(i), alpha=0.5)\n",
    "    ax[0].set_xlabel(\"Excitation\")\n",
    "    ax[0].set_ylabel(\"Inhibition\")\n",
    "    cbar = matplotlib.colorbar.ColorbarBase(ax[1], cmap=cmap, norm=norm, orientation='vertical')\n",
    "    cbar.set_label('$Exc_{max}$')\n",
    "    fig.show()\n",
    "    \n",
    "    # Phase plot of E and I colored in time\n",
    "    fig, ax = plt.subplots()\n",
    "    z = np.linspace(0, 1, len(excTrialList[0].interestWindow[:fullWindowSize]))\n",
    "    #plt.sca(ax[0])\n",
    "    for trialIndex,i in zip(sortIndices[::-1],colorSpace[::-1]):\n",
    "        lc = colorline(excTrialList[trialIndex].interestWindow[:fullWindowSize]*scalingFactor, inhTrialList[trialIndex].interestWindow[:fullWindowSize]*scalingFactor, z)\n",
    "    \n",
    "    ax.set_xlabel(\"Excitation\")\n",
    "    ax.set_ylabel(\"Inhibition\")\n",
    "    #lc = colorline(x, y, cmap='inferno')\n",
    "    cbar = fig.colorbar(lc, norm = colors.Normalize(vmin=0, vmax=len(excTrialList[0].interestWindow[:fullWindowSize])/20))\n",
    "    #plt.show()\n",
    "    \n",
    "    #cbar = matplotlib.colorbar.ColorbarBase(ax[1], cmap=cmap, norm=norm, orientation='vertical')\n",
    "    cbar.set_label('$Time$')\n",
    "    fig.show()\n",
    "    \n",
    "    # Sliding window, normalized to window correlations\n",
    "    print (\"Periodically normalized correlations\")\n",
    "    correlationMatrix = []\n",
    "    fig,ax = plt.subplots(nrows=2, sharex=True)\n",
    "    for trialIndex in sortIndices:\n",
    "        correlationMatrix.append(periodicallyNormalizedCrossCorrelation(excTrialList[trialIndex].interestWindow[:fullWindowSize], inhTrialList[trialIndex].interestWindow[:fullWindowSize], windowSize))\n",
    "        ax[0].plot(np.linspace(0, totalTime, fullWindowSize), excTrialList[trialIndex].interestWindow[:fullWindowSize]*scalingFactor)\n",
    "        ax[0].plot(np.linspace(0, totalTime, fullWindowSize), inhTrialList[trialIndex].interestWindow[:fullWindowSize]*scalingFactor)\n",
    "    ax[0].set_xlabel(\"Time (ms)\")\n",
    "    ax[0].set_ylabel(\"Current (pA)\")\n",
    "    correlationMatrix = np.matrix(correlationMatrix)\n",
    "    heatmap(correlationMatrix, extent, title=str(neuron.date) + '_' + str(neuron.index), fig=fig, ax=ax[1])\n",
    "    fig.show()\n",
    "    \n",
    "    # Sliding window, normalized to trial correlations\n",
    "    print (\"Trace normalized correlations\")\n",
    "    correlationMatrix = []\n",
    "    fig,ax = plt.subplots(nrows=2, sharex=True)\n",
    "    for trialIndex in sortIndices:\n",
    "        correlationMatrix.append(traceNormalizedCrossCorrelation(normalizeTrace(excTrialList[trialIndex].interestWindow[:fullWindowSize])/(fullWindowSize-1), normalizeTrace(inhTrialList[trialIndex].interestWindow[:fullWindowSize]), windowSize))\n",
    "        ax[0].plot(np.linspace(0, totalTime, fullWindowSize), excTrialList[trialIndex].interestWindow[:fullWindowSize]*scalingFactor)\n",
    "        ax[0].plot(np.linspace(0, totalTime, fullWindowSize), inhTrialList[trialIndex].interestWindow[:fullWindowSize]*scalingFactor)\n",
    "\n",
    "    ax[0].set_xlabel(\"Time (ms)\")\n",
    "    ax[0].set_ylabel(\"Current (pA)\")\n",
    "    correlationMatrix = np.matrix(correlationMatrix)\n",
    "    heatmap(correlationMatrix, extent, title=str(neuron.date) + '_' + str(neuron.index), fig=fig, ax=ax[1])\n",
    "    fig.show()\n",
    "    \n",
    "    # full trace cross-correlation normalized to trial correlations\n",
    "    #print \"Trace normalized correlations\"\n",
    "    #correlationMatrix = []\n",
    "    #for trialIndex in sortIndices:\n",
    "    #    correlationMatrix.append(traceNormalizedCrossCorrelation(normalizeTrace(excTrialList[trialIndex].interestWindow)/(fullWindowSize-1), normalizeTrace(-inhTrialList[trialIndex].interestWindow), windowSize))\n",
    "    #correlationMatrix = np.matrix(correlationMatrix)\n",
    "    #fig = heatmap(correlationMatrix, extent, title=str(neuron.date) + '_' + str(neuron.index))\n",
    "    #fig.show()"
   ]
  },
  {
   "cell_type": "markdown",
   "metadata": {},
   "source": [
    "First figure is phase plots of E vs I, sorted from lowest to highest $Exc_{max}$ and arranged as left to right rasters. If the two variables are correlated in time, we expect to see a diagonal line with negative slope. The same is overplotted below on Figure 2. Will have to tidy this up a bit."
   ]
  },
  {
   "cell_type": "markdown",
   "metadata": {},
   "source": [
    "Figure 3 is bin-normalized correlations, looking at just shape changes in every bin.\n",
    "Periodically normalized correlations"
   ]
  },
  {
   "cell_type": "markdown",
   "metadata": {},
   "source": [
    "Figure 4 is trace-normalized correlations, looking at bin-wise correlations normalized to the whole trace."
   ]
  }
 ],
 "metadata": {
  "hide_input": false,
  "kernelspec": {
   "display_name": "Python 2",
   "language": "python",
   "name": "python2"
  },
  "language_info": {
   "codemirror_mode": {
    "name": "ipython",
    "version": 2
   },
   "file_extension": ".py",
   "mimetype": "text/x-python",
   "name": "python",
   "nbconvert_exporter": "python",
   "pygments_lexer": "ipython2",
   "version": "2.7.12"
  },
  "latex_envs": {
   "LaTeX_envs_menu_present": true,
   "autocomplete": true,
   "bibliofile": "biblio.bib",
   "cite_by": "apalike",
   "current_citInitial": 1,
   "eqLabelWithNumbers": true,
   "eqNumInitial": 1,
   "hotkeys": {
    "equation": "Ctrl-E",
    "itemize": "Ctrl-I"
   },
   "labels_anchors": false,
   "latex_user_defs": false,
   "report_style_numbering": false,
   "user_envs_cfg": false
  },
  "toc": {
   "colors": {
    "hover_highlight": "#DAA520",
    "navigate_num": "#000000",
    "navigate_text": "#333333",
    "running_highlight": "#FF0000",
    "selected_highlight": "#FFD700",
    "sidebar_border": "#EEEEEE",
    "wrapper_background": "#FFFFFF"
   },
   "moveMenuLeft": true,
   "nav_menu": {
    "height": "139px",
    "width": "252px"
   },
   "navigate_menu": true,
   "number_sections": true,
   "sideBar": true,
   "threshold": 4,
   "toc_cell": false,
   "toc_section_display": "block",
   "toc_window_display": true,
   "widenNotebook": false
  },
  "varInspector": {
   "cols": {
    "lenName": 16,
    "lenType": 16,
    "lenVar": 40
   },
   "kernels_config": {
    "python": {
     "delete_cmd_postfix": "",
     "delete_cmd_prefix": "del ",
     "library": "var_list.py",
     "varRefreshCmd": "print(var_dic_list())"
    },
    "r": {
     "delete_cmd_postfix": ") ",
     "delete_cmd_prefix": "rm(",
     "library": "var_list.r",
     "varRefreshCmd": "cat(var_dic_list()) "
    }
   },
   "types_to_exclude": [
    "module",
    "function",
    "builtin_function_or_method",
    "instance",
    "_Feature"
   ],
   "window_display": false
  }
 },
 "nbformat": 4,
 "nbformat_minor": 2
}
