{
 "cells": [
  {
   "cell_type": "markdown",
   "metadata": {},
   "source": [
    "\\begin{circuitikz} \\draw\n",
    "(-1,0) -- (0,0)\n",
    "(-1,4) -- (0,4)\n",
    "(0,0) to[C, l=$C_{m}$] (0,4) -- (2,4)\n",
    "\tto[R, l=$g_{leak}$] (2,1)\n",
    "\tto[battery1, l=$E_{leak}$] (2,0.5) -- (2,0) -- (0,0)\n",
    "(3,4) node[]{} to (3,4.25) node[label={above:$V_m$},*-o]{}\n",
    "(2,4) to (4,4)\n",
    "\tto[vR, l=$g_{exc}$] (4,1)\n",
    "\t(4,0.5) to[battery1, l_=$E_{exc}$] (4,1) \n",
    "\t-- (4,0) -- (2,0)\n",
    "(3,0) to (3,0) node[ground] {}\n",
    "(4,4) to (6,4)\n",
    "\tto[vR, l=$g_{inh}$] (6,1)\n",
    "\tto[battery1, l=$E_{inh}$] (6,0.5) -- (6,0) -- (4,0)\n",
    "(6,0) -- (7,0)\n",
    "(6,4) -- (7,4)\n",
    ";\n",
    "\\par\n",
    "2 \\ctikzset{bipoles/vresistor/height=.6}\n",
    "\\end{circuitikz}"
   ]
  },
  {
   "cell_type": "markdown",
   "metadata": {},
   "source": [
    "$$ C_m \\frac{dV_m}{dt} = g_{leak}(V_m - E_{leak}) + g_{exc}(V_m - E_{exc}) + g_{inh}(V_m - E_{exc})$$"
   ]
  },
  {
   "cell_type": "code",
   "execution_count": null,
   "metadata": {
    "collapsed": true
   },
   "outputs": [],
   "source": []
  }
 ],
 "metadata": {
  "kernelspec": {
   "display_name": "Python 2",
   "language": "python",
   "name": "python2"
  },
  "language_info": {
   "codemirror_mode": {
    "name": "ipython",
    "version": 2
   },
   "file_extension": ".py",
   "mimetype": "text/x-python",
   "name": "python",
   "nbconvert_exporter": "python",
   "pygments_lexer": "ipython2",
   "version": "2.7.12"
  },
  "latex_envs": {
   "LaTeX_envs_menu_present": true,
   "autocomplete": true,
   "bibliofile": "biblio.bib",
   "cite_by": "apalike",
   "current_citInitial": 1,
   "eqLabelWithNumbers": true,
   "eqNumInitial": 1,
   "hotkeys": {
    "equation": "Ctrl-E",
    "itemize": "Ctrl-I"
   },
   "labels_anchors": false,
   "latex_user_defs": false,
   "report_style_numbering": false,
   "user_envs_cfg": false
  },
  "toc": {
   "colors": {
    "hover_highlight": "#DAA520",
    "navigate_num": "#000000",
    "navigate_text": "#333333",
    "running_highlight": "#FF0000",
    "selected_highlight": "#FFD700",
    "sidebar_border": "#EEEEEE",
    "wrapper_background": "#FFFFFF"
   },
   "moveMenuLeft": true,
   "nav_menu": {
    "height": "12px",
    "width": "252px"
   },
   "navigate_menu": true,
   "number_sections": true,
   "sideBar": true,
   "threshold": 4,
   "toc_cell": false,
   "toc_section_display": "block",
   "toc_window_display": true,
   "widenNotebook": false
  },
  "varInspector": {
   "cols": {
    "lenName": 16,
    "lenType": 16,
    "lenVar": 40
   },
   "kernels_config": {
    "python": {
     "delete_cmd_postfix": "",
     "delete_cmd_prefix": "del ",
     "library": "var_list.py",
     "varRefreshCmd": "print(var_dic_list())"
    },
    "r": {
     "delete_cmd_postfix": ") ",
     "delete_cmd_prefix": "rm(",
     "library": "var_list.r",
     "varRefreshCmd": "cat(var_dic_list()) "
    }
   },
   "types_to_exclude": [
    "module",
    "function",
    "builtin_function_or_method",
    "instance",
    "_Feature"
   ],
   "window_display": false
  }
 },
 "nbformat": 4,
 "nbformat_minor": 2
}
