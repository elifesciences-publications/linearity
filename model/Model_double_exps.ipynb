{
 "cells": [
  {
   "cell_type": "code",
   "execution_count": 1,
   "metadata": {
    "collapsed": true
   },
   "outputs": [],
   "source": [
    "import math"
   ]
  },
  {
   "cell_type": "code",
   "execution_count": 2,
   "metadata": {
    "collapsed": true
   },
   "outputs": [],
   "source": [
    "%matplotlib inline"
   ]
  },
  {
   "cell_type": "code",
   "execution_count": 3,
   "metadata": {
    "collapsed": true
   },
   "outputs": [],
   "source": [
    "import matplotlib.pyplot as plt"
   ]
  },
  {
   "cell_type": "code",
   "execution_count": 12,
   "metadata": {
    "collapsed": true
   },
   "outputs": [],
   "source": [
    "from sympy import *"
   ]
  },
  {
   "cell_type": "code",
   "execution_count": 45,
   "metadata": {
    "collapsed": false
   },
   "outputs": [],
   "source": [
    "t, er, ed, delta = symbols('t e_rise e_fall \\delta')"
   ]
  },
  {
   "cell_type": "code",
   "execution_count": 46,
   "metadata": {
    "collapsed": false
   },
   "outputs": [
    {
     "name": "stdout",
     "output_type": "stream",
     "text": [
      "[<class 'sympy.core.symbol.Symbol'>, <class 'sympy.core.symbol.Symbol'>, <class 'sympy.core.symbol.Symbol'>, <class 'sympy.core.symbol.Symbol'>]\n"
     ]
    }
   ],
   "source": [
    "print [type(i) for i in [t, er, ed, delta]]"
   ]
  },
  {
   "cell_type": "code",
   "execution_count": 47,
   "metadata": {
    "collapsed": false
   },
   "outputs": [],
   "source": [
    "E = (sinh(delta + (t/er)) - cosh(delta + (t/er))) - (sinh(delta + (t/ed)) - cosh(delta + (t/ed)))"
   ]
  },
  {
   "cell_type": "code",
   "execution_count": 48,
   "metadata": {
    "collapsed": false
   },
   "outputs": [],
   "source": [
    "E_prime = E.diff(t)"
   ]
  },
  {
   "cell_type": "code",
   "execution_count": 49,
   "metadata": {
    "collapsed": false
   },
   "outputs": [
    {
     "data": {
      "image/png": "[encoded data removed]",
      "text/latex": [
       "$$\\left\\{t\\; |\\; t \\in \\mathbb{R} \\wedge e_{fall} e^{- \\delta} e^{- \\frac{t}{e_{rise}}} - e_{rise} e^{- \\delta} e^{- \\frac{t}{e_{fall}}} = 0 \\right\\}$$"
      ],
      "text/plain": [
       "⎧                              -t                        -t       ⎫\n",
       "⎪                             ──────                    ──────    ⎪\n",
       "⎨                    -\\delta  e_rise           -\\delta  e_fall    ⎬\n",
       "⎪t | t ∊ ℝ ∧ e_fall⋅ℯ       ⋅ℯ       - e_rise⋅ℯ       ⋅ℯ       = 0⎪\n",
       "⎩                                                                 ⎭"
      ]
     },
     "execution_count": 49,
     "metadata": {},
     "output_type": "execute_result"
    }
   ],
   "source": [
    "simplify(solveset(E_prime, t))"
   ]
  },
  {
   "cell_type": "code",
   "execution_count": 50,
   "metadata": {
    "collapsed": false
   },
   "outputs": [],
   "source": [
    "init_printing()"
   ]
  },
  {
   "cell_type": "code",
   "execution_count": 53,
   "metadata": {
    "collapsed": false
   },
   "outputs": [
    {
     "data": {
      "image/png": "[encoded data removed]",
      "text/latex": [
       "$$- \\frac{1}{e_{fall} e_{rise}} \\left(e_{fall} \\sinh{\\left (\\delta + \\frac{t}{e_{rise}} \\right )} - e_{fall} \\cosh{\\left (\\delta + \\frac{t}{e_{rise}} \\right )} - e_{rise} \\sinh{\\left (\\delta + \\frac{t}{e_{fall}} \\right )} + e_{rise} \\cosh{\\left (\\delta + \\frac{t}{e_{fall}} \\right )}\\right)$$"
      ],
      "text/plain": [
       " ⎛           ⎛           t   ⎞              ⎛           t   ⎞              ⎛  \n",
       "-⎜e_fall⋅sinh⎜\\delta + ──────⎟ - e_fall⋅cosh⎜\\delta + ──────⎟ - e_rise⋅sinh⎜\\d\n",
       " ⎝           ⎝         e_rise⎠              ⎝         e_rise⎠              ⎝  \n",
       "──────────────────────────────────────────────────────────────────────────────\n",
       "                                                        e_fall⋅e_rise         \n",
       "\n",
       "         t   ⎞              ⎛           t   ⎞⎞ \n",
       "elta + ──────⎟ + e_rise⋅cosh⎜\\delta + ──────⎟⎟ \n",
       "       e_fall⎠              ⎝         e_fall⎠⎠ \n",
       "───────────────────────────────────────────────\n",
       "                                               "
      ]
     },
     "execution_count": 53,
     "metadata": {},
     "output_type": "execute_result"
    }
   ],
   "source": [
    "factor(E_prime)"
   ]
  },
  {
   "cell_type": "code",
   "execution_count": 52,
   "metadata": {
    "collapsed": false
   },
   "outputs": [
    {
     "ename": "TypeError",
     "evalue": "'Add' object does not support indexing",
     "output_type": "error",
     "traceback": [
      "\u001b[0;31m---------------------------------------------------------------------------\u001b[0m",
      "\u001b[0;31mTypeError\u001b[0m                                 Traceback (most recent call last)",
      "\u001b[0;32m<ipython-input-52-040b49552b5b>\u001b[0m in \u001b[0;36m<module>\u001b[0;34m()\u001b[0m\n\u001b[0;32m----> 1\u001b[0;31m \u001b[0mgroup\u001b[0m\u001b[0;34m(\u001b[0m\u001b[0mE_prime\u001b[0m\u001b[0;34m)\u001b[0m\u001b[0;34m\u001b[0m\u001b[0m\n\u001b[0m",
      "\u001b[0;32m/usr/local/lib/python2.7/dist-packages/sympy/utilities/iterables.pyc\u001b[0m in \u001b[0;36mgroup\u001b[0;34m(seq, multiple)\u001b[0m\n\u001b[1;32m    173\u001b[0m         \u001b[0;32mreturn\u001b[0m \u001b[0;34m[\u001b[0m\u001b[0;34m]\u001b[0m\u001b[0;34m\u001b[0m\u001b[0m\n\u001b[1;32m    174\u001b[0m \u001b[0;34m\u001b[0m\u001b[0m\n\u001b[0;32m--> 175\u001b[0;31m     \u001b[0mcurrent\u001b[0m\u001b[0;34m,\u001b[0m \u001b[0mgroups\u001b[0m \u001b[0;34m=\u001b[0m \u001b[0;34m[\u001b[0m\u001b[0mseq\u001b[0m\u001b[0;34m[\u001b[0m\u001b[0;36m0\u001b[0m\u001b[0;34m]\u001b[0m\u001b[0;34m]\u001b[0m\u001b[0;34m,\u001b[0m \u001b[0;34m[\u001b[0m\u001b[0;34m]\u001b[0m\u001b[0;34m\u001b[0m\u001b[0m\n\u001b[0m\u001b[1;32m    176\u001b[0m \u001b[0;34m\u001b[0m\u001b[0m\n\u001b[1;32m    177\u001b[0m     \u001b[0;32mfor\u001b[0m \u001b[0melem\u001b[0m \u001b[0;32min\u001b[0m \u001b[0mseq\u001b[0m\u001b[0;34m[\u001b[0m\u001b[0;36m1\u001b[0m\u001b[0;34m:\u001b[0m\u001b[0;34m]\u001b[0m\u001b[0;34m:\u001b[0m\u001b[0;34m\u001b[0m\u001b[0m\n",
      "\u001b[0;31mTypeError\u001b[0m: 'Add' object does not support indexing"
     ]
    }
   ],
   "source": []
  },
  {
   "cell_type": "code",
   "execution_count": null,
   "metadata": {
    "collapsed": true
   },
   "outputs": [],
   "source": []
  }
 ],
 "metadata": {
  "kernelspec": {
   "display_name": "Python 2",
   "language": "python",
   "name": "python2"
  },
  "language_info": {
   "codemirror_mode": {
    "name": "ipython",
    "version": 2
   },
   "file_extension": ".py",
   "mimetype": "text/x-python",
   "name": "python",
   "nbconvert_exporter": "python",
   "pygments_lexer": "ipython2",
   "version": "2.7.12"
  }
 },
 "nbformat": 4,
 "nbformat_minor": 2
}
