{
 "cells": [
  {
   "cell_type": "markdown",
   "metadata": {
    "deletable": true,
    "editable": true
   },
   "source": [
    "# Simple model using double exponentials"
   ]
  },
  {
   "cell_type": "code",
   "execution_count": 52,
   "metadata": {
    "collapsed": true,
    "deletable": true,
    "editable": true
   },
   "outputs": [],
   "source": [
    "from sympy import *"
   ]
  },
  {
   "cell_type": "code",
   "execution_count": 53,
   "metadata": {
    "collapsed": true,
    "deletable": true,
    "editable": true
   },
   "outputs": [],
   "source": [
    "from IPython.display import display, Markdown"
   ]
  },
  {
   "cell_type": "code",
   "execution_count": 54,
   "metadata": {
    "collapsed": false,
    "deletable": true,
    "editable": true
   },
   "outputs": [],
   "source": [
    "init_printing()"
   ]
  },
  {
   "cell_type": "code",
   "execution_count": 55,
   "metadata": {
    "collapsed": false,
    "deletable": true,
    "editable": true
   },
   "outputs": [],
   "source": [
    "t, P, e_r, e_d, delta_e, rho_e, g_e, i_r, i_d, delta_i, rho_i, g_i, b = symbols('t P \\\\tau_{er} \\\\tau_{ed} \\\\delta_e \\\\rho_e \\\\bar{g}_e \\\\tau_{ir} \\\\tau_{id} \\\\delta_i \\\\rho_i \\\\bar{g}_i \\\\beta', positive=True, real=True)"
   ]
  },
  {
   "cell_type": "code",
   "execution_count": 56,
   "metadata": {
    "collapsed": true,
    "deletable": true,
    "editable": true
   },
   "outputs": [],
   "source": [
    "SymbolDict = {t: \"Time (ms)\", P: \"Proportion of $g_i/g_e$\", e_r: \"Excitatory Rise (ms)\", e_d: \"Excitatory Fall (ms)\", delta_e: \"Excitatory onset time (ms)\", rho_e: \"Excitatory $tau$ ratio (fall/rise)\", g_e: \"Excitatory max conductance\", i_r : \"Inhibitory Rise (ms)\", i_d : \"Inhibitory Fall(ms)\", delta_i:\"Inhibitory onset time(ms)\", rho_i: \"Inhibitory $tau$ ratio (fall/rise)\", g_i: \"Inhibitory max conductance\", b: \"Inhibitory/Excitatory $tau$ rise ratio\"}"
   ]
  },
  {
   "cell_type": "code",
   "execution_count": 57,
   "metadata": {
    "collapsed": false,
    "deletable": true,
    "editable": true
   },
   "outputs": [],
   "source": [
    "estimateDict = { P: (1.9,2.1), e_r: (1.5,5), e_d: (8,20), delta_e: (0,0), rho_e: (2,7), g_e: (0.02,0.25), i_r : (1.5,5), i_d : (14,60), delta_i:(3,8), rho_i: (5,20), g_i:(0.04,0.5) , b:(0.5,5) }"
   ]
  },
  {
   "cell_type": "code",
   "execution_count": 58,
   "metadata": {
    "collapsed": false,
    "deletable": true,
    "editable": true
   },
   "outputs": [],
   "source": [
    "averageEstimateDict = {key: pow(value[0]*value[1],0.5) for key,value in estimateDict.items()}"
   ]
  },
  {
   "cell_type": "code",
   "execution_count": 59,
   "metadata": {
    "collapsed": true,
    "deletable": true,
    "editable": true
   },
   "outputs": [],
   "source": [
    "#averageEstimateDict = {key: ((value[0]+value[1])/2.) for key,value in estimateDict.items()}"
   ]
  },
  {
   "cell_type": "code",
   "execution_count": 60,
   "metadata": {
    "collapsed": false,
    "deletable": true,
    "editable": true
   },
   "outputs": [
    {
     "name": "stdout",
     "output_type": "stream",
     "text": [
      "| Variable  |  Meaning |  Range |\n",
      "|---|---|---|\n",
      "|$t$|Time (ms)|0-100|\n",
      "|$P$|Proportion of $g_i/g_e$|1.9-2.1|\n",
      "|$\\tau_{er}$|Excitatory Rise (ms)|1.5-5|\n",
      "|$\\tau_{ed}$|Excitatory Fall (ms)|8-20|\n",
      "|$\\delta_e$|Excitatory onset time (ms)|0-0|\n",
      "|$\\rho_e$|Excitatory $tau$ ratio (fall/rise)|2-7|\n",
      "|$\\bar{g}_e$|Excitatory max conductance|0.02-0.25|\n",
      "|$\\tau_{ir}$|Inhibitory Rise (ms)|1.5-5|\n",
      "|$\\tau_{id}$|Inhibitory Fall(ms)|14-60|\n",
      "|$\\delta_i$|Inhibitory onset time(ms)|3-8|\n",
      "|$\\rho_i$|Inhibitory $tau$ ratio (fall/rise)|5-20|\n",
      "|$\\bar{g}_i$|Inhibitory max conductance|0.04-0.5|\n",
      "|$\\beta$|Inhibitory/Excitatory $tau$ rise ratio|0.5-5|\n"
     ]
    }
   ],
   "source": [
    "print \"| Variable  |  Meaning |  Range |\"\n",
    "print \"|---|---|---|\"\n",
    "print \"|$t$|Time (ms)|0-100|\"\n",
    "for i in [P, e_r, e_d, delta_e, rho_e, g_e, i_r, i_d, delta_i, rho_i, g_i, b]:\n",
    "    print \"|${}$|{}|{}-{}|\".format(i, SymbolDict[i], estimateDict[i][0], estimateDict[i][1])"
   ]
  },
  {
   "cell_type": "markdown",
   "metadata": {
    "deletable": true,
    "editable": true
   },
   "source": [
    "| Variable  |  Meaning |  Range |\n",
    "|---|---|---|\n",
    "|$t$|Time (ms)|0-100|\n",
    "|$P$|Proportion of $g_i/g_e$|1.9-2.1|\n",
    "|$\\tau_{er}$|Excitatory Rise (ms)|1.5-5|\n",
    "|$\\tau_{ed}$|Excitatory Fall (ms)|8-20|\n",
    "|$\\delta_e$|Excitatory onset time (ms)|0-0|\n",
    "|$\\rho_e$|Excitatory $tau$ ratio (fall/rise)|2-7|\n",
    "|$\\bar{g}_e$|Excitatory max conductance|0.02-0.25|\n",
    "|$\\tau_{ir}$|Inhibitory Rise (ms)|1.5-5|\n",
    "|$\\tau_{id}$|Inhibitory Fall(ms)|14-60|\n",
    "|$\\delta_i$|Inhibitory onset time(ms)|3-15|\n",
    "|$\\rho_i$|Inhibitory $tau$ ratio (fall/rise)|5-20|\n",
    "|$\\bar{g}_i$|Inhibitory max conductance|0.04-0.5|\n",
    "|$\\beta$|Inhibitory/Excitatory $tau$ rise ratio|0.5-5|"
   ]
  },
  {
   "cell_type": "markdown",
   "metadata": {
    "deletable": true,
    "editable": true
   },
   "source": [
    "### Double exponential to explain the net synaptic conductance."
   ]
  },
  {
   "cell_type": "code",
   "execution_count": 61,
   "metadata": {
    "collapsed": false,
    "deletable": true,
    "editable": true
   },
   "outputs": [],
   "source": [
    "alpha = exp(-(t-delta_e)/e_d) - exp(-(t-delta_e)/e_r)"
   ]
  },
  {
   "cell_type": "code",
   "execution_count": 62,
   "metadata": {
    "collapsed": false,
    "deletable": true,
    "editable": true
   },
   "outputs": [
    {
     "data": {
      "image/png": "[encoded data removed]",
      "text/latex": [
       "$$e^{\\frac{1}{\\tau_{ed}} \\left(\\delta_e - t\\right)} - e^{\\frac{1}{\\tau_{er}} \\left(\\delta_e - t\\right)}$$"
      ],
      "text/plain": [
       " \\deltaₑ - t    \\deltaₑ - t\n",
       " ───────────    ───────────\n",
       "  \\tau_{ed}      \\tau_{er} \n",
       "ℯ            - ℯ           "
      ]
     },
     "execution_count": 62,
     "metadata": {},
     "output_type": "execute_result"
    }
   ],
   "source": [
    "alpha"
   ]
  },
  {
   "cell_type": "code",
   "execution_count": 63,
   "metadata": {
    "collapsed": true,
    "deletable": true,
    "editable": true
   },
   "outputs": [],
   "source": [
    "#alpha = alpha.subs(e_d, (rho_e*e_r)).doit()"
   ]
  },
  {
   "cell_type": "code",
   "execution_count": 64,
   "metadata": {
    "collapsed": false,
    "deletable": true,
    "editable": true
   },
   "outputs": [],
   "source": [
    "alpha_prime = alpha.diff(t)"
   ]
  },
  {
   "cell_type": "code",
   "execution_count": 65,
   "metadata": {
    "collapsed": false,
    "deletable": true,
    "editable": true
   },
   "outputs": [
    {
     "data": {
      "image/png": "[encoded data removed]",
      "text/latex": [
       "$$\\frac{1}{\\tau_{er}} e^{\\frac{1}{\\tau_{er}} \\left(\\delta_e - t\\right)} - \\frac{1}{\\tau_{ed}} e^{\\frac{1}{\\tau_{ed}} \\left(\\delta_e - t\\right)}$$"
      ],
      "text/plain": [
       " \\deltaₑ - t    \\deltaₑ - t\n",
       " ───────────    ───────────\n",
       "  \\tau_{er}      \\tau_{ed} \n",
       "ℯ              ℯ           \n",
       "──────────── - ────────────\n",
       " \\tau_{er}      \\tau_{ed}  "
      ]
     },
     "execution_count": 65,
     "metadata": {},
     "output_type": "execute_result"
    }
   ],
   "source": [
    "alpha_prime"
   ]
  },
  {
   "cell_type": "code",
   "execution_count": 66,
   "metadata": {
    "collapsed": false,
    "deletable": true,
    "editable": true
   },
   "outputs": [],
   "source": [
    "theta_e = solve(alpha_prime,t) # Time to peak"
   ]
  },
  {
   "cell_type": "code",
   "execution_count": 67,
   "metadata": {
    "collapsed": false,
    "deletable": true,
    "editable": true
   },
   "outputs": [],
   "source": [
    "theta_e = logcombine(theta_e[0])"
   ]
  },
  {
   "cell_type": "code",
   "execution_count": 68,
   "metadata": {
    "collapsed": false,
    "deletable": true,
    "editable": true
   },
   "outputs": [
    {
     "data": {
      "image/png": "[encoded data removed]",
      "text/latex": [
       "$$\\frac{1}{\\tau_{ed} - \\tau_{er}} \\left(\\delta_e \\left(\\tau_{ed} - \\tau_{er}\\right) - \\log{\\left (\\left(\\frac{\\tau_{er}}{\\tau_{ed}}\\right)^{\\tau_{ed} \\tau_{er}} \\right )}\\right)$$"
      ],
      "text/plain": [
       "                                     ⎛           \\tau_{ed}⋅\\tau_{er}⎞\n",
       "                                     ⎜⎛\\tau_{er}⎞                   ⎟\n",
       "\\deltaₑ⋅(\\tau_{ed} - \\tau_{er}) - log⎜⎜─────────⎟                   ⎟\n",
       "                                     ⎝⎝\\tau_{ed}⎠                   ⎠\n",
       "─────────────────────────────────────────────────────────────────────\n",
       "                        \\tau_{ed} - \\tau_{er}                        "
      ]
     },
     "execution_count": 68,
     "metadata": {},
     "output_type": "execute_result"
    }
   ],
   "source": [
    "theta_e"
   ]
  },
  {
   "cell_type": "code",
   "execution_count": 69,
   "metadata": {
    "collapsed": false,
    "deletable": true,
    "editable": true
   },
   "outputs": [
    {
     "data": {
      "image/png": "[encoded data removed]",
      "text/latex": [
       "$$5.34841395444272$$"
      ],
      "text/plain": [
       "5.34841395444272"
      ]
     },
     "execution_count": 69,
     "metadata": {},
     "output_type": "execute_result"
    }
   ],
   "source": [
    "N(theta_e.subs(averageEstimateDict))"
   ]
  },
  {
   "cell_type": "code",
   "execution_count": 70,
   "metadata": {
    "collapsed": false,
    "deletable": true,
    "editable": true
   },
   "outputs": [],
   "source": [
    "alpha_star = simplify(alpha.subs(t, theta_e).doit())"
   ]
  },
  {
   "cell_type": "code",
   "execution_count": 71,
   "metadata": {
    "collapsed": false,
    "deletable": true,
    "editable": true
   },
   "outputs": [
    {
     "data": {
      "image/png": "[encoded data removed]",
      "text/latex": [
       "$$- \\left(\\frac{\\tau_{er}}{\\tau_{ed}}\\right)^{\\frac{\\tau_{ed}}{\\tau_{ed} - \\tau_{er}}} + \\left(\\frac{\\tau_{er}}{\\tau_{ed}}\\right)^{\\frac{\\tau_{er}}{\\tau_{ed} - \\tau_{er}}}$$"
      ],
      "text/plain": [
       "                   \\tau_{ed}                          \\tau_{er}      \n",
       "             ─────────────────────              ─────────────────────\n",
       "             \\tau_{ed} - \\tau_{er}              \\tau_{ed} - \\tau_{er}\n",
       "  ⎛\\tau_{er}⎞                        ⎛\\tau_{er}⎞                     \n",
       "- ⎜─────────⎟                      + ⎜─────────⎟                     \n",
       "  ⎝\\tau_{ed}⎠                        ⎝\\tau_{ed}⎠                     "
      ]
     },
     "execution_count": 71,
     "metadata": {},
     "output_type": "execute_result"
    }
   ],
   "source": [
    "alpha_star"
   ]
  },
  {
   "cell_type": "code",
   "execution_count": 72,
   "metadata": {
    "collapsed": false,
    "deletable": true,
    "editable": true
   },
   "outputs": [],
   "source": [
    "#alpha_star = simplify(alpha) # Replacing e_d/e_r with tau_e"
   ]
  },
  {
   "cell_type": "markdown",
   "metadata": {
    "deletable": true,
    "editable": true
   },
   "source": [
    "### Finding maximum of the curve and substituting ratio of taus"
   ]
  },
  {
   "cell_type": "code",
   "execution_count": 73,
   "metadata": {
    "collapsed": false,
    "deletable": true,
    "editable": true
   },
   "outputs": [
    {
     "data": {
      "image/png": "[encoded data removed]",
      "text/latex": [
       "$$- \\left(\\frac{\\tau_{er}}{\\tau_{ed}}\\right)^{\\frac{\\tau_{ed}}{\\tau_{ed} - \\tau_{er}}} + \\left(\\frac{\\tau_{er}}{\\tau_{ed}}\\right)^{\\frac{\\tau_{er}}{\\tau_{ed} - \\tau_{er}}}$$"
      ],
      "text/plain": [
       "                   \\tau_{ed}                          \\tau_{er}      \n",
       "             ─────────────────────              ─────────────────────\n",
       "             \\tau_{ed} - \\tau_{er}              \\tau_{ed} - \\tau_{er}\n",
       "  ⎛\\tau_{er}⎞                        ⎛\\tau_{er}⎞                     \n",
       "- ⎜─────────⎟                      + ⎜─────────⎟                     \n",
       "  ⎝\\tau_{ed}⎠                        ⎝\\tau_{ed}⎠                     "
      ]
     },
     "execution_count": 73,
     "metadata": {},
     "output_type": "execute_result"
    }
   ],
   "source": [
    "alpha_star"
   ]
  },
  {
   "cell_type": "code",
   "execution_count": 74,
   "metadata": {
    "collapsed": false,
    "deletable": true,
    "editable": true
   },
   "outputs": [],
   "source": [
    "E = Piecewise((0, t < delta_e), (g_e * (alpha/alpha_star), True))"
   ]
  },
  {
   "cell_type": "markdown",
   "metadata": {
    "deletable": true,
    "editable": true
   },
   "source": [
    "### Final equation for Excitation normalized to be maximum at $g_e$"
   ]
  },
  {
   "cell_type": "code",
   "execution_count": 75,
   "metadata": {
    "collapsed": false,
    "deletable": true,
    "editable": true
   },
   "outputs": [
    {
     "data": {
      "image/png": "[encoded data removed]",
      "text/latex": [
       "$$\\begin{cases} 0 & \\text{for}\\: t < \\delta_e \\\\\\frac{\\bar{g}_e \\left(e^{\\frac{1}{\\tau_{ed}} \\left(\\delta_e - t\\right)} - e^{\\frac{1}{\\tau_{er}} \\left(\\delta_e - t\\right)}\\right)}{- \\left(\\frac{\\tau_{er}}{\\tau_{ed}}\\right)^{\\frac{\\tau_{ed}}{\\tau_{ed} - \\tau_{er}}} + \\left(\\frac{\\tau_{er}}{\\tau_{ed}}\\right)^{\\frac{\\tau_{er}}{\\tau_{ed} - \\tau_{er}}}} & \\text{otherwise} \\end{cases}$$"
      ],
      "text/plain": [
       "⎧                                  0                                    for t \n",
       "⎪                                                                             \n",
       "⎪                         ⎛ \\deltaₑ - t    \\deltaₑ - t⎞                       \n",
       "⎪                         ⎜ ───────────    ───────────⎟                       \n",
       "⎪                         ⎜  \\tau_{ed}      \\tau_{er} ⎟                       \n",
       "⎪                \\bar{g}ₑ⋅⎝ℯ            - ℯ           ⎠                       \n",
       "⎨─────────────────────────────────────────────────────────────────────     oth\n",
       "⎪                   \\tau_{ed}                          \\tau_{er}              \n",
       "⎪             ─────────────────────              ─────────────────────        \n",
       "⎪             \\tau_{ed} - \\tau_{er}              \\tau_{ed} - \\tau_{er}        \n",
       "⎪  ⎛\\tau_{er}⎞                        ⎛\\tau_{er}⎞                             \n",
       "⎪- ⎜─────────⎟                      + ⎜─────────⎟                             \n",
       "⎩  ⎝\\tau_{ed}⎠                        ⎝\\tau_{ed}⎠                             \n",
       "\n",
       "< \\deltaₑ\n",
       "         \n",
       "         \n",
       "         \n",
       "         \n",
       "         \n",
       "erwise   \n",
       "         \n",
       "         \n",
       "         \n",
       "         \n",
       "         \n",
       "         "
      ]
     },
     "execution_count": 75,
     "metadata": {},
     "output_type": "execute_result"
    }
   ],
   "source": [
    "E"
   ]
  },
  {
   "cell_type": "markdown",
   "metadata": {
    "deletable": true,
    "editable": true
   },
   "source": [
    "### Verifying that E Behaves"
   ]
  },
  {
   "cell_type": "code",
   "execution_count": 76,
   "metadata": {
    "collapsed": false,
    "deletable": true,
    "editable": true
   },
   "outputs": [],
   "source": [
    "E_check = N(E.subs(averageEstimateDict))"
   ]
  },
  {
   "cell_type": "code",
   "execution_count": 77,
   "metadata": {
    "collapsed": false,
    "deletable": true,
    "editable": true
   },
   "outputs": [
    {
     "data": {
      "image/png": "[encoded data removed]",
      "text/latex": [
       "$$\\left\\{t\\right\\}$$"
      ],
      "text/plain": [
       "set([t])"
      ]
     },
     "execution_count": 77,
     "metadata": {},
     "output_type": "execute_result"
    }
   ],
   "source": [
    "E_check.free_symbols"
   ]
  },
  {
   "cell_type": "code",
   "execution_count": 78,
   "metadata": {
    "collapsed": false,
    "deletable": true,
    "editable": true
   },
   "outputs": [
    {
     "data": {
      "image/png": "[encoded data removed]",
      "text/plain": [
       "<matplotlib.figure.Figure at 0x7f462187fb50>"
      ]
     },
     "metadata": {},
     "output_type": "display_data"
    },
    {
     "data": {
      "text/plain": [
       "<sympy.plotting.plot.Plot at 0x7f46217d7d10>"
      ]
     },
     "execution_count": 78,
     "metadata": {},
     "output_type": "execute_result"
    }
   ],
   "source": [
    "plot(E_check,(t,0,100))"
   ]
  },
  {
   "cell_type": "markdown",
   "metadata": {
    "deletable": true,
    "editable": true
   },
   "source": [
    "### Doing the same with inhibition"
   ]
  },
  {
   "cell_type": "code",
   "execution_count": 79,
   "metadata": {
    "collapsed": false,
    "deletable": true,
    "editable": true
   },
   "outputs": [],
   "source": [
    "I = E.xreplace({g_e: g_i, rho_e: rho_i, e_r:i_r, e_d: i_d, delta_e: delta_i})"
   ]
  },
  {
   "cell_type": "code",
   "execution_count": 80,
   "metadata": {
    "collapsed": false,
    "deletable": true,
    "editable": true
   },
   "outputs": [
    {
     "data": {
      "image/png": "[encoded data removed]",
      "text/latex": [
       "$$\\begin{cases} 0 & \\text{for}\\: t < \\delta_i \\\\\\frac{\\bar{g}_i \\left(e^{\\frac{1}{\\tau_{id}} \\left(\\delta_i - t\\right)} - e^{\\frac{1}{\\tau_{ir}} \\left(\\delta_i - t\\right)}\\right)}{- \\left(\\frac{\\tau_{ir}}{\\tau_{id}}\\right)^{\\frac{\\tau_{id}}{\\tau_{id} - \\tau_{ir}}} + \\left(\\frac{\\tau_{ir}}{\\tau_{id}}\\right)^{\\frac{\\tau_{ir}}{\\tau_{id} - \\tau_{ir}}}} & \\text{otherwise} \\end{cases}$$"
      ],
      "text/plain": [
       "⎧                                  0                                    for t \n",
       "⎪                                                                             \n",
       "⎪                         ⎛ \\deltaᵢ - t    \\deltaᵢ - t⎞                       \n",
       "⎪                         ⎜ ───────────    ───────────⎟                       \n",
       "⎪                         ⎜  \\tau_{id}      \\tau_{ir} ⎟                       \n",
       "⎪                \\bar{g}ᵢ⋅⎝ℯ            - ℯ           ⎠                       \n",
       "⎨─────────────────────────────────────────────────────────────────────     oth\n",
       "⎪                   \\tau_{id}                          \\tau_{ir}              \n",
       "⎪             ─────────────────────              ─────────────────────        \n",
       "⎪             \\tau_{id} - \\tau_{ir}              \\tau_{id} - \\tau_{ir}        \n",
       "⎪  ⎛\\tau_{ir}⎞                        ⎛\\tau_{ir}⎞                             \n",
       "⎪- ⎜─────────⎟                      + ⎜─────────⎟                             \n",
       "⎩  ⎝\\tau_{id}⎠                        ⎝\\tau_{id}⎠                             \n",
       "\n",
       "< \\deltaᵢ\n",
       "         \n",
       "         \n",
       "         \n",
       "         \n",
       "         \n",
       "erwise   \n",
       "         \n",
       "         \n",
       "         \n",
       "         \n",
       "         \n",
       "         "
      ]
     },
     "execution_count": 80,
     "metadata": {},
     "output_type": "execute_result"
    }
   ],
   "source": [
    "I"
   ]
  },
  {
   "cell_type": "markdown",
   "metadata": {
    "deletable": true,
    "editable": true
   },
   "source": [
    "### Verifying that I Behaves"
   ]
  },
  {
   "cell_type": "code",
   "execution_count": 81,
   "metadata": {
    "collapsed": false,
    "deletable": true,
    "editable": true
   },
   "outputs": [],
   "source": [
    "I_check = N(I.subs(averageEstimateDict))"
   ]
  },
  {
   "cell_type": "code",
   "execution_count": 82,
   "metadata": {
    "collapsed": false,
    "deletable": true,
    "editable": true
   },
   "outputs": [
    {
     "data": {
      "image/png": "[encoded data removed]",
      "text/plain": [
       "<matplotlib.figure.Figure at 0x7f4620b8ebd0>"
      ]
     },
     "metadata": {},
     "output_type": "display_data"
    },
    {
     "data": {
      "text/plain": [
       "<sympy.plotting.plot.Plot at 0x7f46206e5350>"
      ]
     },
     "execution_count": 82,
     "metadata": {},
     "output_type": "execute_result"
    }
   ],
   "source": [
    "plot(-I_check,(t,0,100))"
   ]
  },
  {
   "cell_type": "markdown",
   "metadata": {
    "deletable": true,
    "editable": true
   },
   "source": [
    "### Now finding the control peak using difference of these double-exponentials"
   ]
  },
  {
   "cell_type": "code",
   "execution_count": 83,
   "metadata": {
    "collapsed": false,
    "deletable": true,
    "editable": true
   },
   "outputs": [],
   "source": [
    "C =  E - I"
   ]
  },
  {
   "cell_type": "code",
   "execution_count": 84,
   "metadata": {
    "collapsed": false,
    "deletable": true,
    "editable": true
   },
   "outputs": [
    {
     "data": {
      "image/png": "[encoded data removed]",
      "text/latex": [
       "$$\\begin{cases} 0 & \\text{for}\\: t < \\delta_e \\\\\\frac{\\bar{g}_e \\left(e^{\\frac{1}{\\tau_{ed}} \\left(\\delta_e - t\\right)} - e^{\\frac{1}{\\tau_{er}} \\left(\\delta_e - t\\right)}\\right)}{- \\left(\\frac{\\tau_{er}}{\\tau_{ed}}\\right)^{\\frac{\\tau_{ed}}{\\tau_{ed} - \\tau_{er}}} + \\left(\\frac{\\tau_{er}}{\\tau_{ed}}\\right)^{\\frac{\\tau_{er}}{\\tau_{ed} - \\tau_{er}}}} & \\text{otherwise} \\end{cases} - \\begin{cases} 0 & \\text{for}\\: t < \\delta_i \\\\\\frac{\\bar{g}_i \\left(e^{\\frac{1}{\\tau_{id}} \\left(\\delta_i - t\\right)} - e^{\\frac{1}{\\tau_{ir}} \\left(\\delta_i - t\\right)}\\right)}{- \\left(\\frac{\\tau_{ir}}{\\tau_{id}}\\right)^{\\frac{\\tau_{id}}{\\tau_{id} - \\tau_{ir}}} + \\left(\\frac{\\tau_{ir}}{\\tau_{id}}\\right)^{\\frac{\\tau_{ir}}{\\tau_{id} - \\tau_{ir}}}} & \\text{otherwise} \\end{cases}$$"
      ],
      "text/plain": [
       "⎛⎧                                  0                                    for t\n",
       "⎜⎪                                                                            \n",
       "⎜⎪                         ⎛ \\deltaₑ - t    \\deltaₑ - t⎞                      \n",
       "⎜⎪                         ⎜ ───────────    ───────────⎟                      \n",
       "⎜⎪                         ⎜  \\tau_{ed}      \\tau_{er} ⎟                      \n",
       "⎜⎪                \\bar{g}ₑ⋅⎝ℯ            - ℯ           ⎠                      \n",
       "⎜⎨─────────────────────────────────────────────────────────────────────     ot\n",
       "⎜⎪                   \\tau_{ed}                          \\tau_{er}             \n",
       "⎜⎪             ─────────────────────              ─────────────────────       \n",
       "⎜⎪             \\tau_{ed} - \\tau_{er}              \\tau_{ed} - \\tau_{er}       \n",
       "⎜⎪  ⎛\\tau_{er}⎞                        ⎛\\tau_{er}⎞                            \n",
       "⎜⎪- ⎜─────────⎟                      + ⎜─────────⎟                            \n",
       "⎝⎩  ⎝\\tau_{ed}⎠                        ⎝\\tau_{ed}⎠                            \n",
       "\n",
       " < \\deltaₑ⎞   ⎛⎧                                  0                           \n",
       "          ⎟   ⎜⎪                                                              \n",
       "          ⎟   ⎜⎪                         ⎛ \\deltaᵢ - t    \\deltaᵢ - t⎞        \n",
       "          ⎟   ⎜⎪                         ⎜ ───────────    ───────────⎟        \n",
       "          ⎟   ⎜⎪                         ⎜  \\tau_{id}      \\tau_{ir} ⎟        \n",
       "          ⎟   ⎜⎪                \\bar{g}ᵢ⋅⎝ℯ            - ℯ           ⎠        \n",
       "herwise   ⎟ - ⎜⎨──────────────────────────────────────────────────────────────\n",
       "          ⎟   ⎜⎪                   \\tau_{id}                          \\tau_{ir\n",
       "          ⎟   ⎜⎪             ─────────────────────              ──────────────\n",
       "          ⎟   ⎜⎪             \\tau_{id} - \\tau_{ir}              \\tau_{id} - \\t\n",
       "          ⎟   ⎜⎪  ⎛\\tau_{ir}⎞                        ⎛\\tau_{ir}⎞              \n",
       "          ⎟   ⎜⎪- ⎜─────────⎟                      + ⎜─────────⎟              \n",
       "          ⎠   ⎝⎩  ⎝\\tau_{id}⎠                        ⎝\\tau_{id}⎠              \n",
       "\n",
       "         for t < \\deltaᵢ⎞\n",
       "                        ⎟\n",
       "                        ⎟\n",
       "                        ⎟\n",
       "                        ⎟\n",
       "                        ⎟\n",
       "───────     otherwise   ⎟\n",
       "}                       ⎟\n",
       "───────                 ⎟\n",
       "au_{ir}                 ⎟\n",
       "                        ⎟\n",
       "                        ⎟\n",
       "                        ⎠"
      ]
     },
     "execution_count": 84,
     "metadata": {},
     "output_type": "execute_result"
    }
   ],
   "source": [
    "C"
   ]
  },
  {
   "cell_type": "code",
   "execution_count": null,
   "metadata": {
    "collapsed": true
   },
   "outputs": [],
   "source": [
    "# 1. Get rid of the normalization factor.\n",
    "# 2. The functions must approximate each other when close to 0.\n",
    "# 3. The precision of the parameters in the equations must increase with g_e."
   ]
  },
  {
   "cell_type": "markdown",
   "metadata": {
    "deletable": true,
    "editable": true
   },
   "source": [
    "### Substituting excitatory and inhibitory ratios and putting $\\delta_e$ to zero."
   ]
  },
  {
   "cell_type": "code",
   "execution_count": 85,
   "metadata": {
    "collapsed": false,
    "deletable": true,
    "editable": true
   },
   "outputs": [],
   "source": [
    "#C = C.subs({g_i: g_e*P, i_r : e_r*b}) # Replacing g_i with P*ge\n",
    "C = C.subs({delta_e:0})"
   ]
  },
  {
   "cell_type": "code",
   "execution_count": 86,
   "metadata": {
    "collapsed": true,
    "deletable": true,
    "editable": true
   },
   "outputs": [],
   "source": [
    "C_check = N(C.subs(averageEstimateDict))"
   ]
  },
  {
   "cell_type": "code",
   "execution_count": 87,
   "metadata": {
    "collapsed": false,
    "deletable": true,
    "editable": true
   },
   "outputs": [
    {
     "data": {
      "image/png": "[encoded data removed]",
      "text/latex": [
       "$$- \\begin{cases} 0 & \\text{for}\\: t < 4.89897948556636 \\\\- \\frac{1.19517432161688}{e^{0.365148371670111 t}} + \\frac{0.236565186151897}{e^{0.0345032779671177 t}} & \\text{otherwise} \\end{cases} - \\frac{0.137746930949975}{e^{0.365148371670111 t}} + \\frac{0.137746930949975}{e^{0.0790569415042095 t}}$$"
      ],
      "text/plain": [
       "  ⎛⎧                                         0                                \n",
       "  ⎜⎪                                                                          \n",
       "- ⎜⎨                    -0.365148371670111⋅t                      -0.034503277\n",
       "  ⎜⎪- 1.19517432161688⋅ℯ                     + 0.236565186151897⋅ℯ            \n",
       "  ⎝⎩                                                                          \n",
       "\n",
       "           for t < 4.89897948556636⎞                                          \n",
       "                                   ⎟                      -0.365148371670111⋅t\n",
       "9671177⋅t                          ⎟ - 0.137746930949975⋅ℯ                    \n",
       "                  otherwise        ⎟                                          \n",
       "                                   ⎠                                          \n",
       "\n",
       "                                           \n",
       "                      -0.0790569415042095⋅t\n",
       " + 0.137746930949975⋅ℯ                     \n",
       "                                           \n",
       "                                           "
      ]
     },
     "execution_count": 87,
     "metadata": {},
     "output_type": "execute_result"
    }
   ],
   "source": [
    "C_check"
   ]
  },
  {
   "cell_type": "markdown",
   "metadata": {
    "deletable": true,
    "editable": true
   },
   "source": [
    "### Verifying that C behaves"
   ]
  },
  {
   "cell_type": "code",
   "execution_count": 88,
   "metadata": {
    "collapsed": false,
    "deletable": true,
    "editable": true
   },
   "outputs": [
    {
     "data": {
      "image/png": "[encoded data removed]",
      "text/plain": [
       "<matplotlib.figure.Figure at 0x7f46216ea290>"
      ]
     },
     "metadata": {},
     "output_type": "display_data"
    },
    {
     "data": {
      "text/plain": [
       "<sympy.plotting.plot.Plot at 0x7f4620b8e4d0>"
      ]
     },
     "execution_count": 88,
     "metadata": {},
     "output_type": "execute_result"
    }
   ],
   "source": [
    "plot(C_check,(t,0,100))"
   ]
  },
  {
   "cell_type": "code",
   "execution_count": 89,
   "metadata": {
    "collapsed": true,
    "deletable": true,
    "editable": true
   },
   "outputs": [],
   "source": [
    "#C_check = N(C.subs({rho_e:7, rho_i: 15}))"
   ]
  },
  {
   "cell_type": "code",
   "execution_count": 90,
   "metadata": {
    "collapsed": false,
    "deletable": true,
    "editable": true
   },
   "outputs": [
    {
     "data": {
      "image/png": "[encoded data removed]",
      "text/latex": [
       "$$- \\begin{cases} 0 & \\text{for}\\: t < 4.89897948556636 \\\\- \\frac{1.19517432161688}{e^{0.365148371670111 t}} + \\frac{0.236565186151897}{e^{0.0345032779671177 t}} & \\text{otherwise} \\end{cases} - \\frac{0.137746930949975}{e^{0.365148371670111 t}} + \\frac{0.137746930949975}{e^{0.0790569415042095 t}}$$"
      ],
      "text/plain": [
       "  ⎛⎧                                         0                                \n",
       "  ⎜⎪                                                                          \n",
       "- ⎜⎨                    -0.365148371670111⋅t                      -0.034503277\n",
       "  ⎜⎪- 1.19517432161688⋅ℯ                     + 0.236565186151897⋅ℯ            \n",
       "  ⎝⎩                                                                          \n",
       "\n",
       "           for t < 4.89897948556636⎞                                          \n",
       "                                   ⎟                      -0.365148371670111⋅t\n",
       "9671177⋅t                          ⎟ - 0.137746930949975⋅ℯ                    \n",
       "                  otherwise        ⎟                                          \n",
       "                                   ⎠                                          \n",
       "\n",
       "                                           \n",
       "                      -0.0790569415042095⋅t\n",
       " + 0.137746930949975⋅ℯ                     \n",
       "                                           \n",
       "                                           "
      ]
     },
     "execution_count": 90,
     "metadata": {},
     "output_type": "execute_result"
    }
   ],
   "source": [
    "C_check"
   ]
  },
  {
   "cell_type": "code",
   "execution_count": 91,
   "metadata": {
    "collapsed": false,
    "deletable": true,
    "editable": true
   },
   "outputs": [],
   "source": [
    "C_check = C_check.subs(averageEstimateDict)"
   ]
  },
  {
   "cell_type": "code",
   "execution_count": 92,
   "metadata": {
    "collapsed": false,
    "deletable": true,
    "editable": true
   },
   "outputs": [
    {
     "data": {
      "image/png": "[encoded data removed]",
      "text/plain": [
       "<matplotlib.figure.Figure at 0x7f4621666510>"
      ]
     },
     "metadata": {},
     "output_type": "display_data"
    },
    {
     "data": {
      "text/plain": [
       "<sympy.plotting.plot.Plot at 0x7f4620ddb290>"
      ]
     },
     "execution_count": 92,
     "metadata": {},
     "output_type": "execute_result"
    }
   ],
   "source": [
    "plot(C_check,(t,0,100))"
   ]
  },
  {
   "cell_type": "code",
   "execution_count": 93,
   "metadata": {
    "collapsed": false,
    "deletable": true,
    "editable": true
   },
   "outputs": [],
   "source": [
    "C_prime = diff(C,t)"
   ]
  },
  {
   "cell_type": "code",
   "execution_count": 94,
   "metadata": {
    "collapsed": true,
    "deletable": true,
    "editable": true
   },
   "outputs": [],
   "source": [
    "C_prime_check = N(C_prime.subs(averageEstimateDict))"
   ]
  },
  {
   "cell_type": "code",
   "execution_count": 95,
   "metadata": {
    "collapsed": false,
    "deletable": true,
    "editable": true
   },
   "outputs": [
    {
     "data": {
      "image/png": "[encoded data removed]",
      "text/plain": [
       "<matplotlib.figure.Figure at 0x7f462165b0d0>"
      ]
     },
     "metadata": {},
     "output_type": "display_data"
    },
    {
     "data": {
      "text/plain": [
       "<sympy.plotting.plot.Plot at 0x7f46216e6d10>"
      ]
     },
     "execution_count": 95,
     "metadata": {},
     "output_type": "execute_result"
    }
   ],
   "source": [
    "plot(C_prime_check,(t,0,100))"
   ]
  },
  {
   "cell_type": "code",
   "execution_count": 96,
   "metadata": {
    "collapsed": false,
    "deletable": true,
    "editable": true
   },
   "outputs": [],
   "source": [
    "C_prime_prime = diff(C_prime,t)"
   ]
  },
  {
   "cell_type": "code",
   "execution_count": 97,
   "metadata": {
    "collapsed": false,
    "deletable": true,
    "editable": true
   },
   "outputs": [],
   "source": [
    "C_prime_prime_check = N(C_prime_prime.subs(averageEstimateDict))"
   ]
  },
  {
   "cell_type": "code",
   "execution_count": 98,
   "metadata": {
    "collapsed": false,
    "deletable": true,
    "editable": true
   },
   "outputs": [
    {
     "data": {
      "image/png": "[encoded data removed]",
      "text/plain": [
       "<matplotlib.figure.Figure at 0x7f462163ec50>"
      ]
     },
     "metadata": {},
     "output_type": "display_data"
    },
    {
     "data": {
      "text/plain": [
       "<sympy.plotting.plot.Plot at 0x7f46216f7d50>"
      ]
     },
     "execution_count": 98,
     "metadata": {},
     "output_type": "execute_result"
    }
   ],
   "source": [
    "plot(C_prime_prime_check,(t,0,100))"
   ]
  },
  {
   "cell_type": "markdown",
   "metadata": {
    "deletable": true,
    "editable": true
   },
   "source": [
    "<div></div>"
   ]
  },
  {
   "cell_type": "code",
   "execution_count": 99,
   "metadata": {
    "collapsed": false,
    "deletable": true,
    "editable": true
   },
   "outputs": [
    {
     "ename": "NameError",
     "evalue": "name 'T' is not defined",
     "output_type": "error",
     "traceback": [
      "\u001b[0;31m---------------------------------------------------------------------------\u001b[0m",
      "\u001b[0;31mNameError\u001b[0m                                 Traceback (most recent call last)",
      "\u001b[0;32m<ipython-input-99-9e24bd7593e4>\u001b[0m in \u001b[0;36m<module>\u001b[0;34m()\u001b[0m\n\u001b[0;32m----> 1\u001b[0;31m \u001b[0msimplify\u001b[0m\u001b[0;34m(\u001b[0m\u001b[0mC\u001b[0m\u001b[0;34m.\u001b[0m\u001b[0msubs\u001b[0m\u001b[0;34m(\u001b[0m\u001b[0mt\u001b[0m\u001b[0;34m,\u001b[0m\u001b[0mlog\u001b[0m\u001b[0;34m(\u001b[0m\u001b[0mT\u001b[0m\u001b[0;34m)\u001b[0m\u001b[0;34m)\u001b[0m\u001b[0;34m)\u001b[0m\u001b[0;34m\u001b[0m\u001b[0m\n\u001b[0m",
      "\u001b[0;31mNameError\u001b[0m: name 'T' is not defined"
     ]
    }
   ],
   "source": [
    "#simplify(C.subs(t,log(T)))"
   ]
  },
  {
   "cell_type": "code",
   "execution_count": null,
   "metadata": {
    "collapsed": false,
    "deletable": true,
    "editable": true
   },
   "outputs": [],
   "source": [
    "#C.subs(delta_i, 1/g_e)"
   ]
  },
  {
   "cell_type": "code",
   "execution_count": null,
   "metadata": {
    "collapsed": false,
    "deletable": true,
    "editable": true
   },
   "outputs": [],
   "source": [
    "#x, denominator = cse(simplify(C_prime.as_numer_denom()))"
   ]
  },
  {
   "cell_type": "code",
   "execution_count": null,
   "metadata": {
    "collapsed": false,
    "deletable": true,
    "editable": true
   },
   "outputs": [],
   "source": [
    "#T = symbols('T')"
   ]
  },
  {
   "cell_type": "code",
   "execution_count": 105,
   "metadata": {
    "collapsed": false,
    "deletable": true,
    "editable": true
   },
   "outputs": [
    {
     "data": {
      "image/png": "[encoded data removed]",
      "text/latex": [
       "$$- \\frac{\\bar{g}_e \\left(\\frac{1}{\\tau_{er} e^{\\frac{t}{\\tau_{er}}}} - \\frac{1}{\\tau_{ed} e^{\\frac{t}{\\tau_{ed}}}}\\right)}{\\left(\\frac{\\tau_{er}}{\\tau_{ed}}\\right)^{\\frac{\\tau_{ed}}{\\tau_{ed} - \\tau_{er}}} - \\left(\\frac{\\tau_{er}}{\\tau_{ed}}\\right)^{\\frac{\\tau_{er}}{\\tau_{ed} - \\tau_{er}}}} - \\begin{cases} 0 & \\text{for}\\: t < \\delta_i \\\\- \\frac{\\bar{g}_i \\left(\\frac{1}{\\tau_{ir}} e^{\\frac{1}{\\tau_{ir}} \\left(\\delta_i - t\\right)} - \\frac{1}{\\tau_{id}} e^{\\frac{1}{\\tau_{id}} \\left(\\delta_i - t\\right)}\\right)}{\\left(\\frac{\\tau_{ir}}{\\tau_{id}}\\right)^{\\frac{\\tau_{id}}{\\tau_{id} - \\tau_{ir}}} - \\left(\\frac{\\tau_{ir}}{\\tau_{id}}\\right)^{\\frac{\\tau_{ir}}{\\tau_{id} - \\tau_{ir}}}} & \\text{otherwise} \\end{cases}$$"
      ],
      "text/plain": [
       "                                                                        ⎛⎧    \n",
       "                            ⎛    -t           -t    ⎞                   ⎜⎪    \n",
       "                            ⎜ ─────────    ─────────⎟                   ⎜⎪    \n",
       "                            ⎜ \\tau_{er}    \\tau_{ed}⎟                   ⎜⎪    \n",
       "                            ⎜ℯ            ℯ         ⎟                   ⎜⎪    \n",
       "                   \\bar{g}ₑ⋅⎜────────── - ──────────⎟                   ⎜⎪    \n",
       "                            ⎝\\tau_{er}    \\tau_{ed} ⎠                   ⎜⎪    \n",
       "- ─────────────────────────────────────────────────────────────────── - ⎜⎨    \n",
       "                   \\tau_{ed}                          \\tau_{er}         ⎜⎪────\n",
       "             ─────────────────────              ─────────────────────   ⎜⎪    \n",
       "             \\tau_{ed} - \\tau_{er}              \\tau_{ed} - \\tau_{er}   ⎜⎪    \n",
       "  ⎛\\tau_{er}⎞                        ⎛\\tau_{er}⎞                        ⎜⎪    \n",
       "  ⎜─────────⎟                      - ⎜─────────⎟                        ⎜⎪⎛\\ta\n",
       "  ⎝\\tau_{ed}⎠                        ⎝\\tau_{ed}⎠                        ⎜⎪⎜───\n",
       "                                                                        ⎝⎩⎝\\ta\n",
       "\n",
       "                             0                                   for t < \\delt\n",
       "                                                                              \n",
       "                    ⎛ \\deltaᵢ - t    \\deltaᵢ - t⎞                             \n",
       "                    ⎜ ───────────    ───────────⎟                             \n",
       "                    ⎜  \\tau_{ir}      \\tau_{id} ⎟                             \n",
       "                    ⎜ℯ              ℯ           ⎟                             \n",
       "          -\\bar{g}ᵢ⋅⎜──────────── - ────────────⎟                             \n",
       "                    ⎝ \\tau_{ir}      \\tau_{id}  ⎠                             \n",
       "───────────────────────────────────────────────────────────────     otherwise \n",
       "             \\tau_{id}                          \\tau_{ir}                     \n",
       "       ─────────────────────              ─────────────────────               \n",
       "       \\tau_{id} - \\tau_{ir}              \\tau_{id} - \\tau_{ir}               \n",
       "u_{ir}⎞                        ⎛\\tau_{ir}⎞                                    \n",
       "──────⎟                      - ⎜─────────⎟                                    \n",
       "u_{id}⎠                        ⎝\\tau_{id}⎠                                    \n",
       "\n",
       "aᵢ⎞\n",
       "  ⎟\n",
       "  ⎟\n",
       "  ⎟\n",
       "  ⎟\n",
       "  ⎟\n",
       "  ⎟\n",
       "  ⎟\n",
       "  ⎟\n",
       "  ⎟\n",
       "  ⎟\n",
       "  ⎟\n",
       "  ⎟\n",
       "  ⎟\n",
       "  ⎠"
      ]
     },
     "execution_count": 105,
     "metadata": {},
     "output_type": "execute_result"
    }
   ],
   "source": [
    "simplify(C_prime)"
   ]
  },
  {
   "cell_type": "markdown",
   "metadata": {
    "deletable": true,
    "editable": true
   },
   "source": [
    "#### Explicit solving this equation doesn't work"
   ]
  },
  {
   "cell_type": "markdown",
   "metadata": {
    "deletable": true,
    "editable": true
   },
   "source": [
    "### Trying to use lambert function"
   ]
  },
  {
   "cell_type": "code",
   "execution_count": 120,
   "metadata": {
    "collapsed": false,
    "deletable": true,
    "editable": true
   },
   "outputs": [],
   "source": [
    "a,b,c,d = -t/e_r, -t/e_d, -(t - delta_i)/i_r, -(t - delta_i)/i_d"
   ]
  },
  {
   "cell_type": "code",
   "execution_count": 133,
   "metadata": {
    "collapsed": false,
    "deletable": true,
    "editable": true
   },
   "outputs": [
    {
     "data": {
      "image/png": "[encoded data removed]",
      "text/latex": [
       "$$- \\left(\\frac{\\tau_{er}}{\\tau_{ed}}\\right)^{\\frac{\\tau_{ed}}{\\tau_{ed} - \\tau_{er}}} + \\left(\\frac{\\tau_{er}}{\\tau_{ed}}\\right)^{\\frac{\\tau_{er}}{\\tau_{ed} - \\tau_{er}}}$$"
      ],
      "text/plain": [
       "                   \\tau_{ed}                          \\tau_{er}      \n",
       "             ─────────────────────              ─────────────────────\n",
       "             \\tau_{ed} - \\tau_{er}              \\tau_{ed} - \\tau_{er}\n",
       "  ⎛\\tau_{er}⎞                        ⎛\\tau_{er}⎞                     \n",
       "- ⎜─────────⎟                      + ⎜─────────⎟                     \n",
       "  ⎝\\tau_{ed}⎠                        ⎝\\tau_{ed}⎠                     "
      ]
     },
     "execution_count": 133,
     "metadata": {},
     "output_type": "execute_result"
    }
   ],
   "source": [
    "alpha_star"
   ]
  },
  {
   "cell_type": "code",
   "execution_count": 121,
   "metadata": {
    "collapsed": true,
    "deletable": true,
    "editable": true
   },
   "outputs": [],
   "source": [
    "W = lambda z: z*exp(z)"
   ]
  },
  {
   "cell_type": "code",
   "execution_count": 151,
   "metadata": {
    "collapsed": false,
    "deletable": true,
    "editable": true
   },
   "outputs": [
    {
     "data": {
      "image/png": "[encoded data removed]",
      "text/latex": [
       "$$\\operatorname{LambertW}{\\left (- \\frac{t}{\\tau_{er} e^{\\frac{t}{\\tau_{er}}}} \\right )}$$"
      ],
      "text/plain": [
       "        ⎛       -t     ⎞\n",
       "        ⎜    ───────── ⎟\n",
       "        ⎜    \\tau_{er} ⎟\n",
       "        ⎜-t⋅ℯ          ⎟\n",
       "LambertW⎜──────────────⎟\n",
       "        ⎝  \\tau_{er}   ⎠"
      ]
     },
     "execution_count": 151,
     "metadata": {},
     "output_type": "execute_result"
    }
   ],
   "source": [
    "LambertW(W(a))"
   ]
  },
  {
   "cell_type": "code",
   "execution_count": 158,
   "metadata": {
    "collapsed": true,
    "deletable": true,
    "editable": true
   },
   "outputs": [],
   "source": [
    "C = g_e*(exp(LambertW(W(a))) - exp(LambertW(W(b))))/alpha_star - g_i*(exp(LambertW(W(c))) - exp(LambertW(W(d))))/alpha_star.subs({ e_r:i_r, e_d: i_d})"
   ]
  },
  {
   "cell_type": "code",
   "execution_count": 159,
   "metadata": {
    "collapsed": false,
    "deletable": true,
    "editable": true
   },
   "outputs": [
    {
     "data": {
      "image/png": "[encoded data removed]",
      "text/latex": [
       "$$\\frac{\\bar{g}_e \\left(- e^{\\operatorname{LambertW}{\\left (- \\frac{t}{\\tau_{ed} e^{\\frac{t}{\\tau_{ed}}}} \\right )}} + e^{\\operatorname{LambertW}{\\left (- \\frac{t}{\\tau_{er} e^{\\frac{t}{\\tau_{er}}}} \\right )}}\\right)}{- \\left(\\frac{\\tau_{er}}{\\tau_{ed}}\\right)^{\\frac{\\tau_{ed}}{\\tau_{ed} - \\tau_{er}}} + \\left(\\frac{\\tau_{er}}{\\tau_{ed}}\\right)^{\\frac{\\tau_{er}}{\\tau_{ed} - \\tau_{er}}}} - \\frac{\\bar{g}_i}{- \\left(\\frac{\\tau_{ir}}{\\tau_{id}}\\right)^{\\frac{\\tau_{id}}{\\tau_{id} - \\tau_{ir}}} + \\left(\\frac{\\tau_{ir}}{\\tau_{id}}\\right)^{\\frac{\\tau_{ir}}{\\tau_{id} - \\tau_{ir}}}} \\left(- e^{\\operatorname{LambertW}{\\left (\\frac{1}{\\tau_{id}} \\left(\\delta_i - t\\right) e^{\\frac{1}{\\tau_{id}} \\left(\\delta_i - t\\right)} \\right )}} + e^{\\operatorname{LambertW}{\\left (\\frac{1}{\\tau_{ir}} \\left(\\delta_i - t\\right) e^{\\frac{1}{\\tau_{ir}} \\left(\\delta_i - t\\right)} \\right )}}\\right)$$"
      ],
      "text/plain": [
       "           ⎛           ⎛       -t     ⎞            ⎛       -t     ⎞⎞          \n",
       "           ⎜           ⎜    ───────── ⎟            ⎜    ───────── ⎟⎟          \n",
       "           ⎜           ⎜    \\tau_{ed} ⎟            ⎜    \\tau_{er} ⎟⎟          \n",
       "           ⎜           ⎜-t⋅ℯ          ⎟            ⎜-t⋅ℯ          ⎟⎟          \n",
       "           ⎜   LambertW⎜──────────────⎟    LambertW⎜──────────────⎟⎟          \n",
       "           ⎜           ⎝  \\tau_{ed}   ⎠            ⎝  \\tau_{er}   ⎠⎟          \n",
       "  \\bar{g}ₑ⋅⎝- ℯ                         + ℯ                        ⎠    \\bar{g\n",
       "───────────────────────────────────────────────────────────────────── - ──────\n",
       "                   \\tau_{ed}                          \\tau_{er}               \n",
       "             ─────────────────────              ─────────────────────         \n",
       "             \\tau_{ed} - \\tau_{er}              \\tau_{ed} - \\tau_{er}         \n",
       "  ⎛\\tau_{er}⎞                        ⎛\\tau_{er}⎞                              \n",
       "- ⎜─────────⎟                      + ⎜─────────⎟                              \n",
       "  ⎝\\tau_{ed}⎠                        ⎝\\tau_{ed}⎠                              \n",
       "\n",
       "   ⎛           ⎛               \\deltaᵢ - t⎞            ⎛               \\deltaᵢ\n",
       "   ⎜           ⎜               ───────────⎟            ⎜               ───────\n",
       "   ⎜           ⎜                \\tau_{id} ⎟            ⎜                \\tau_{\n",
       "   ⎜           ⎜(\\deltaᵢ - t)⋅ℯ           ⎟            ⎜(\\deltaᵢ - t)⋅ℯ       \n",
       "   ⎜   LambertW⎜──────────────────────────⎟    LambertW⎜──────────────────────\n",
       "   ⎜           ⎝        \\tau_{id}         ⎠            ⎝        \\tau_{ir}     \n",
       "}ᵢ⋅⎝- ℯ                                     + ℯ                               \n",
       "──────────────────────────────────────────────────────────────────────────────\n",
       "                       \\tau_{id}                          \\tau_{ir}           \n",
       "                 ─────────────────────              ─────────────────────     \n",
       "                 \\tau_{id} - \\tau_{ir}              \\tau_{id} - \\tau_{ir}     \n",
       "      ⎛\\tau_{ir}⎞                        ⎛\\tau_{ir}⎞                          \n",
       "    - ⎜─────────⎟                      + ⎜─────────⎟                          \n",
       "      ⎝\\tau_{id}⎠                        ⎝\\tau_{id}⎠                          \n",
       "\n",
       " - t⎞⎞\n",
       "────⎟⎟\n",
       "ir} ⎟⎟\n",
       "    ⎟⎟\n",
       "────⎟⎟\n",
       "    ⎠⎟\n",
       "     ⎠\n",
       "──────\n",
       "      \n",
       "      \n",
       "      \n",
       "      \n",
       "      \n",
       "      "
      ]
     },
     "execution_count": 159,
     "metadata": {},
     "output_type": "execute_result"
    }
   ],
   "source": [
    "C"
   ]
  },
  {
   "cell_type": "code",
   "execution_count": 163,
   "metadata": {
    "collapsed": false,
    "deletable": true,
    "editable": true
   },
   "outputs": [
    {
     "data": {
      "image/png": "[encoded data removed]",
      "text/latex": [
       "$$\\frac{\\bar{g}_e}{- \\left(\\frac{\\tau_{er}}{\\tau_{ed}}\\right)^{\\frac{\\tau_{ed}}{\\tau_{ed} - \\tau_{er}}} + \\left(\\frac{\\tau_{er}}{\\tau_{ed}}\\right)^{\\frac{\\tau_{er}}{\\tau_{ed} - \\tau_{er}}}} \\left(\\frac{\\tau_{ed} e^{\\frac{t}{\\tau_{ed}}} e^{\\operatorname{LambertW}{\\left (- \\frac{t}{\\tau_{ed} e^{\\frac{t}{\\tau_{ed}}}} \\right )}} \\operatorname{LambertW}{\\left (- \\frac{t}{\\tau_{ed} e^{\\frac{t}{\\tau_{ed}}}} \\right )}}{t \\left(\\operatorname{LambertW}{\\left (- \\frac{t}{\\tau_{ed} e^{\\frac{t}{\\tau_{ed}}}} \\right )} + 1\\right)} \\left(- \\frac{1}{\\tau_{ed} e^{\\frac{t}{\\tau_{ed}}}} + \\frac{t}{\\tau_{ed}^{2} e^{\\frac{t}{\\tau_{ed}}}}\\right) - \\frac{\\tau_{er} e^{\\frac{t}{\\tau_{er}}} e^{\\operatorname{LambertW}{\\left (- \\frac{t}{\\tau_{er} e^{\\frac{t}{\\tau_{er}}}} \\right )}} \\operatorname{LambertW}{\\left (- \\frac{t}{\\tau_{er} e^{\\frac{t}{\\tau_{er}}}} \\right )}}{t \\left(\\operatorname{LambertW}{\\left (- \\frac{t}{\\tau_{er} e^{\\frac{t}{\\tau_{er}}}} \\right )} + 1\\right)} \\left(- \\frac{1}{\\tau_{er} e^{\\frac{t}{\\tau_{er}}}} + \\frac{t}{\\tau_{er}^{2} e^{\\frac{t}{\\tau_{er}}}}\\right)\\right) - \\frac{\\bar{g}_i}{- \\left(\\frac{\\tau_{ir}}{\\tau_{id}}\\right)^{\\frac{\\tau_{id}}{\\tau_{id} - \\tau_{ir}}} + \\left(\\frac{\\tau_{ir}}{\\tau_{id}}\\right)^{\\frac{\\tau_{ir}}{\\tau_{id} - \\tau_{ir}}}} \\left(- \\frac{\\tau_{id} e^{- \\frac{1}{\\tau_{id}} \\left(\\delta_i - t\\right)} e^{\\operatorname{LambertW}{\\left (\\frac{1}{\\tau_{id}} \\left(\\delta_i - t\\right) e^{\\frac{1}{\\tau_{id}} \\left(\\delta_i - t\\right)} \\right )}} \\operatorname{LambertW}{\\left (\\frac{1}{\\tau_{id}} \\left(\\delta_i - t\\right) e^{\\frac{1}{\\tau_{id}} \\left(\\delta_i - t\\right)} \\right )}}{\\left(\\delta_i - t\\right) \\left(\\operatorname{LambertW}{\\left (\\frac{1}{\\tau_{id}} \\left(\\delta_i - t\\right) e^{\\frac{1}{\\tau_{id}} \\left(\\delta_i - t\\right)} \\right )} + 1\\right)} \\left(- \\frac{1}{\\tau_{id}} e^{\\frac{1}{\\tau_{id}} \\left(\\delta_i - t\\right)} - \\frac{1}{\\tau_{id}^{2}} \\left(\\delta_i - t\\right) e^{\\frac{1}{\\tau_{id}} \\left(\\delta_i - t\\right)}\\right) + \\frac{\\tau_{ir} e^{- \\frac{1}{\\tau_{ir}} \\left(\\delta_i - t\\right)} e^{\\operatorname{LambertW}{\\left (\\frac{1}{\\tau_{ir}} \\left(\\delta_i - t\\right) e^{\\frac{1}{\\tau_{ir}} \\left(\\delta_i - t\\right)} \\right )}} \\operatorname{LambertW}{\\left (\\frac{1}{\\tau_{ir}} \\left(\\delta_i - t\\right) e^{\\frac{1}{\\tau_{ir}} \\left(\\delta_i - t\\right)} \\right )}}{\\left(\\delta_i - t\\right) \\left(\\operatorname{LambertW}{\\left (\\frac{1}{\\tau_{ir}} \\left(\\delta_i - t\\right) e^{\\frac{1}{\\tau_{ir}} \\left(\\delta_i - t\\right)} \\right )} + 1\\right)} \\left(- \\frac{1}{\\tau_{ir}} e^{\\frac{1}{\\tau_{ir}} \\left(\\delta_i - t\\right)} - \\frac{1}{\\tau_{ir}^{2}} \\left(\\delta_i - t\\right) e^{\\frac{1}{\\tau_{ir}} \\left(\\delta_i - t\\right)}\\right)\\right)$$"
      ],
      "text/plain": [
       "         ⎛                                                            ⎛       \n",
       "         ⎜                                                            ⎜    ───\n",
       "         ⎜          ⎛      -t             -t    ⎞                     ⎜    \\ta\n",
       "         ⎜          ⎜   ─────────      ─────────⎟      t              ⎜-t⋅ℯ   \n",
       "         ⎜          ⎜   \\tau_{ed}      \\tau_{ed}⎟  ─────────  LambertW⎜───────\n",
       "         ⎜          ⎜  ℯ            t⋅ℯ         ⎟  \\tau_{ed}          ⎝  \\tau_\n",
       "         ⎜\\tau_{ed}⋅⎜- ────────── + ────────────⎟⋅ℯ         ⋅ℯ                \n",
       "         ⎜          ⎜  \\tau_{ed}              2 ⎟                             \n",
       "         ⎜          ⎝                \\tau_{ed}  ⎠                             \n",
       "\\bar{g}ₑ⋅⎜────────────────────────────────────────────────────────────────────\n",
       "         ⎜                                     ⎛        ⎛       -t     ⎞    ⎞ \n",
       "         ⎜                                     ⎜        ⎜    ───────── ⎟    ⎟ \n",
       "         ⎜                                     ⎜        ⎜    \\tau_{ed} ⎟    ⎟ \n",
       "         ⎜                                     ⎜        ⎜-t⋅ℯ          ⎟    ⎟ \n",
       "         ⎜                                   t⋅⎜LambertW⎜──────────────⎟ + 1⎟ \n",
       "         ⎝                                     ⎝        ⎝  \\tau_{ed}   ⎠    ⎠ \n",
       "──────────────────────────────────────────────────────────────────────────────\n",
       "                                                                              \n",
       "                                                                              \n",
       "                                                                              \n",
       "                                                                           ⎛\\t\n",
       "                                                                         - ⎜──\n",
       "                                                                           ⎝\\t\n",
       "\n",
       "-t     ⎞                                                                      \n",
       "────── ⎟                                                                      \n",
       "u_{ed} ⎟         ⎛       -t     ⎞             ⎛      -t             -t    ⎞   \n",
       "       ⎟         ⎜    ───────── ⎟             ⎜   ─────────      ─────────⎟   \n",
       "───────⎟         ⎜    \\tau_{ed} ⎟             ⎜   \\tau_{er}      \\tau_{er}⎟  ─\n",
       "{ed}   ⎠         ⎜-t⋅ℯ          ⎟             ⎜  ℯ            t⋅ℯ         ⎟  \\\n",
       "        ⋅LambertW⎜──────────────⎟   \\tau_{er}⋅⎜- ────────── + ────────────⎟⋅ℯ \n",
       "                 ⎝  \\tau_{ed}   ⎠             ⎜  \\tau_{er}              2 ⎟   \n",
       "                                              ⎝                \\tau_{er}  ⎠   \n",
       "───────────────────────────────── - ──────────────────────────────────────────\n",
       "                                                                         ⎛    \n",
       "                                                                         ⎜    \n",
       "                                                                         ⎜    \n",
       "                                                                         ⎜    \n",
       "                                                                       t⋅⎜Lamb\n",
       "                                                                         ⎝    \n",
       "──────────────────────────────────────────────────────────────────────────────\n",
       "              \\tau_{ed}                          \\tau_{er}                    \n",
       "        ─────────────────────              ─────────────────────              \n",
       "        \\tau_{ed} - \\tau_{er}              \\tau_{ed} - \\tau_{er}              \n",
       "au_{er}⎞                        ⎛\\tau_{er}⎞                                   \n",
       "───────⎟                      + ⎜─────────⎟                                   \n",
       "au_{ed}⎠                        ⎝\\tau_{ed}⎠                                   \n",
       "\n",
       "                  ⎛       -t     ⎞                         ⎞            ⎛     \n",
       "                  ⎜    ───────── ⎟                         ⎟            ⎜     \n",
       "                  ⎜    \\tau_{er} ⎟         ⎛       -t     ⎞⎟            ⎜     \n",
       "   t              ⎜-t⋅ℯ          ⎟         ⎜    ───────── ⎟⎟            ⎜     \n",
       "────────  LambertW⎜──────────────⎟         ⎜    \\tau_{er} ⎟⎟            ⎜     \n",
       "tau_{er}          ⎝  \\tau_{er}   ⎠         ⎜-t⋅ℯ          ⎟⎟            ⎜     \n",
       "        ⋅ℯ                        ⋅LambertW⎜──────────────⎟⎟            ⎜  \\ta\n",
       "                                           ⎝  \\tau_{er}   ⎠⎟            ⎜     \n",
       "                                                           ⎟            ⎜     \n",
       "───────────────────────────────────────────────────────────⎟   \\bar{g}ᵢ⋅⎜- ───\n",
       "    ⎛       -t     ⎞    ⎞                                  ⎟            ⎜     \n",
       "    ⎜    ───────── ⎟    ⎟                                  ⎟            ⎜     \n",
       "    ⎜    \\tau_{er} ⎟    ⎟                                  ⎟            ⎜     \n",
       "    ⎜-t⋅ℯ          ⎟    ⎟                                  ⎟            ⎜     \n",
       "ertW⎜──────────────⎟ + 1⎟                                  ⎟            ⎜     \n",
       "    ⎝  \\tau_{er}   ⎠    ⎠                                  ⎠            ⎝     \n",
       "──────────────────────────────────────────────────────────── - ───────────────\n",
       "                                                                              \n",
       "                                                                              \n",
       "                                                                              \n",
       "                                                                              \n",
       "                                                                              \n",
       "                                                                              \n",
       "\n",
       "                                                                              \n",
       "                                                                              \n",
       "       ⎛   \\deltaᵢ - t                  \\deltaᵢ - t⎞                          \n",
       "       ⎜   ───────────                  ───────────⎟  -(\\deltaᵢ - t)          \n",
       "       ⎜    \\tau_{id}                    \\tau_{id} ⎟  ───────────────  Lambert\n",
       "       ⎜  ℯ              (\\deltaᵢ - t)⋅ℯ           ⎟     \\tau_{id}            \n",
       "u_{id}⋅⎜- ──────────── - ──────────────────────────⎟⋅ℯ               ⋅ℯ       \n",
       "       ⎜   \\tau_{id}                      2        ⎟                          \n",
       "       ⎝                         \\tau_{id}         ⎠                          \n",
       "──────────────────────────────────────────────────────────────────────────────\n",
       "                                                         ⎛        ⎛           \n",
       "                                                         ⎜        ⎜           \n",
       "                                                         ⎜        ⎜           \n",
       "                                                         ⎜        ⎜(\\deltaᵢ - \n",
       "                                           (\\deltaᵢ - t)⋅⎜LambertW⎜───────────\n",
       "                                                         ⎝        ⎝        \\ta\n",
       "──────────────────────────────────────────────────────────────────────────────\n",
       "                                                                              \n",
       "                                                                              \n",
       "                                                                              \n",
       "                                                                              \n",
       "                                                                              \n",
       "                                                                              \n",
       "\n",
       " ⎛               \\deltaᵢ - t⎞                                                 \n",
       " ⎜               ───────────⎟                                                 \n",
       " ⎜                \\tau_{id} ⎟         ⎛               \\deltaᵢ - t⎞            \n",
       " ⎜(\\deltaᵢ - t)⋅ℯ           ⎟         ⎜               ───────────⎟            \n",
       "W⎜──────────────────────────⎟         ⎜                \\tau_{id} ⎟            \n",
       " ⎝        \\tau_{id}         ⎠         ⎜(\\deltaᵢ - t)⋅ℯ           ⎟            \n",
       "                             ⋅LambertW⎜──────────────────────────⎟   \\tau_{ir}\n",
       "                                      ⎝        \\tau_{id}         ⎠            \n",
       "                                                                              \n",
       "────────────────────────────────────────────────────────────────── + ─────────\n",
       "    \\deltaᵢ - t⎞    ⎞                                                         \n",
       "    ───────────⎟    ⎟                                                         \n",
       "     \\tau_{id} ⎟    ⎟                                                         \n",
       "t)⋅ℯ           ⎟    ⎟                                                         \n",
       "───────────────⎟ + 1⎟                                                         \n",
       "u_{id}         ⎠    ⎠                                                         \n",
       "──────────────────────────────────────────────────────────────────────────────\n",
       "                                              \\tau_{id}                       \n",
       "                                        ─────────────────────              ───\n",
       "                                        \\tau_{id} - \\tau_{ir}              \\ta\n",
       "                             ⎛\\tau_{ir}⎞                        ⎛\\tau_{ir}⎞   \n",
       "                           - ⎜─────────⎟                      + ⎜─────────⎟   \n",
       "                             ⎝\\tau_{id}⎠                        ⎝\\tau_{id}⎠   \n",
       "\n",
       "                                                                         ⎛    \n",
       "                                                                         ⎜    \n",
       " ⎛   \\deltaᵢ - t                  \\deltaᵢ - t⎞                           ⎜    \n",
       " ⎜   ───────────                  ───────────⎟  -(\\deltaᵢ - t)           ⎜(\\de\n",
       " ⎜    \\tau_{ir}                    \\tau_{ir} ⎟  ───────────────  LambertW⎜────\n",
       " ⎜  ℯ              (\\deltaᵢ - t)⋅ℯ           ⎟     \\tau_{ir}             ⎝    \n",
       "⋅⎜- ──────────── - ──────────────────────────⎟⋅ℯ               ⋅ℯ             \n",
       " ⎜   \\tau_{ir}                      2        ⎟                                \n",
       " ⎝                         \\tau_{ir}         ⎠                                \n",
       "──────────────────────────────────────────────────────────────────────────────\n",
       "                                                   ⎛        ⎛               \\d\n",
       "                                                   ⎜        ⎜               ──\n",
       "                                                   ⎜        ⎜                \\\n",
       "                                                   ⎜        ⎜(\\deltaᵢ - t)⋅ℯ  \n",
       "                                     (\\deltaᵢ - t)⋅⎜LambertW⎜─────────────────\n",
       "                                                   ⎝        ⎝        \\tau_{ir}\n",
       "──────────────────────────────────────────────────────────────────────────────\n",
       "   \\tau_{ir}                                                                  \n",
       "──────────────────                                                            \n",
       "u_{id} - \\tau_{ir}                                                            \n",
       "                                                                              \n",
       "                                                                              \n",
       "                                                                              \n",
       "\n",
       "           \\deltaᵢ - t⎞                                     ⎞\n",
       "           ───────────⎟                                     ⎟\n",
       "            \\tau_{ir} ⎟         ⎛               \\deltaᵢ - t⎞⎟\n",
       "ltaᵢ - t)⋅ℯ           ⎟         ⎜               ───────────⎟⎟\n",
       "──────────────────────⎟         ⎜                \\tau_{ir} ⎟⎟\n",
       "    \\tau_{ir}         ⎠         ⎜(\\deltaᵢ - t)⋅ℯ           ⎟⎟\n",
       "                       ⋅LambertW⎜──────────────────────────⎟⎟\n",
       "                                ⎝        \\tau_{ir}         ⎠⎟\n",
       "                                                            ⎟\n",
       "────────────────────────────────────────────────────────────⎟\n",
       "eltaᵢ - t⎞    ⎞                                             ⎟\n",
       "─────────⎟    ⎟                                             ⎟\n",
       "tau_{ir} ⎟    ⎟                                             ⎟\n",
       "         ⎟    ⎟                                             ⎟\n",
       "─────────⎟ + 1⎟                                             ⎟\n",
       "         ⎠    ⎠                                             ⎠\n",
       "─────────────────────────────────────────────────────────────\n",
       "                                                             \n",
       "                                                             \n",
       "                                                             \n",
       "                                                             \n",
       "                                                             \n",
       "                                                             "
      ]
     },
     "execution_count": 163,
     "metadata": {},
     "output_type": "execute_result"
    }
   ],
   "source": [
    "C.diff(t)"
   ]
  },
  {
   "cell_type": "code",
   "execution_count": 164,
   "metadata": {
    "collapsed": false,
    "deletable": true,
    "editable": true
   },
   "outputs": [
    {
     "ename": "KeyboardInterrupt",
     "evalue": "",
     "output_type": "error",
     "traceback": [
      "\u001b[0;31m---------------------------------------------------------------------------\u001b[0m",
      "\u001b[0;31mKeyboardInterrupt\u001b[0m                         Traceback (most recent call last)",
      "\u001b[0;32m<ipython-input-164-50cdcd1e9cd8>\u001b[0m in \u001b[0;36m<module>\u001b[0;34m()\u001b[0m\n\u001b[0;32m----> 1\u001b[0;31m \u001b[0mt_star\u001b[0m \u001b[0;34m=\u001b[0m \u001b[0msolve\u001b[0m\u001b[0;34m(\u001b[0m\u001b[0mexpand\u001b[0m\u001b[0;34m(\u001b[0m\u001b[0mC\u001b[0m\u001b[0;34m.\u001b[0m\u001b[0mdiff\u001b[0m\u001b[0;34m(\u001b[0m\u001b[0mt\u001b[0m\u001b[0;34m)\u001b[0m\u001b[0;34m)\u001b[0m\u001b[0;34m,\u001b[0m\u001b[0mt\u001b[0m\u001b[0;34m)\u001b[0m\u001b[0;34m\u001b[0m\u001b[0m\n\u001b[0m",
      "\u001b[0;32m/usr/local/lib/python2.7/dist-packages/sympy/solvers/solvers.pyc\u001b[0m in \u001b[0;36msolve\u001b[0;34m(f, *symbols, **flags)\u001b[0m\n\u001b[1;32m   1051\u001b[0m     \u001b[0;31m###########################################################################\u001b[0m\u001b[0;34m\u001b[0m\u001b[0;34m\u001b[0m\u001b[0m\n\u001b[1;32m   1052\u001b[0m     \u001b[0;32mif\u001b[0m \u001b[0mbare_f\u001b[0m\u001b[0;34m:\u001b[0m\u001b[0;34m\u001b[0m\u001b[0m\n\u001b[0;32m-> 1053\u001b[0;31m         \u001b[0msolution\u001b[0m \u001b[0;34m=\u001b[0m \u001b[0m_solve\u001b[0m\u001b[0;34m(\u001b[0m\u001b[0mf\u001b[0m\u001b[0;34m[\u001b[0m\u001b[0;36m0\u001b[0m\u001b[0;34m]\u001b[0m\u001b[0;34m,\u001b[0m \u001b[0;34m*\u001b[0m\u001b[0msymbols\u001b[0m\u001b[0;34m,\u001b[0m \u001b[0;34m**\u001b[0m\u001b[0mflags\u001b[0m\u001b[0;34m)\u001b[0m\u001b[0;34m\u001b[0m\u001b[0m\n\u001b[0m\u001b[1;32m   1054\u001b[0m     \u001b[0;32melse\u001b[0m\u001b[0;34m:\u001b[0m\u001b[0;34m\u001b[0m\u001b[0m\n\u001b[1;32m   1055\u001b[0m         \u001b[0msolution\u001b[0m \u001b[0;34m=\u001b[0m \u001b[0m_solve_system\u001b[0m\u001b[0;34m(\u001b[0m\u001b[0mf\u001b[0m\u001b[0;34m,\u001b[0m \u001b[0msymbols\u001b[0m\u001b[0;34m,\u001b[0m \u001b[0;34m**\u001b[0m\u001b[0mflags\u001b[0m\u001b[0;34m)\u001b[0m\u001b[0;34m\u001b[0m\u001b[0m\n",
      "\u001b[0;32m/usr/local/lib/python2.7/dist-packages/sympy/solvers/solvers.pyc\u001b[0m in \u001b[0;36m_solve\u001b[0;34m(f, *symbols, **flags)\u001b[0m\n\u001b[1;32m   1609\u001b[0m         \u001b[0mflags\u001b[0m\u001b[0;34m.\u001b[0m\u001b[0mpop\u001b[0m\u001b[0;34m(\u001b[0m\u001b[0;34m'tsolve'\u001b[0m\u001b[0;34m,\u001b[0m \u001b[0mNone\u001b[0m\u001b[0;34m)\u001b[0m  \u001b[0;31m# allow tsolve to be used on next pass\u001b[0m\u001b[0;34m\u001b[0m\u001b[0m\n\u001b[1;32m   1610\u001b[0m         \u001b[0;32mtry\u001b[0m\u001b[0;34m:\u001b[0m\u001b[0;34m\u001b[0m\u001b[0m\n\u001b[0;32m-> 1611\u001b[0;31m             \u001b[0msoln\u001b[0m \u001b[0;34m=\u001b[0m \u001b[0m_tsolve\u001b[0m\u001b[0;34m(\u001b[0m\u001b[0mf_num\u001b[0m\u001b[0;34m,\u001b[0m \u001b[0msymbol\u001b[0m\u001b[0;34m,\u001b[0m \u001b[0;34m**\u001b[0m\u001b[0mflags\u001b[0m\u001b[0;34m)\u001b[0m\u001b[0;34m\u001b[0m\u001b[0m\n\u001b[0m\u001b[1;32m   1612\u001b[0m             \u001b[0;32mif\u001b[0m \u001b[0msoln\u001b[0m \u001b[0;32mis\u001b[0m \u001b[0;32mnot\u001b[0m \u001b[0mNone\u001b[0m\u001b[0;34m:\u001b[0m\u001b[0;34m\u001b[0m\u001b[0m\n\u001b[1;32m   1613\u001b[0m                 \u001b[0mresult\u001b[0m \u001b[0;34m=\u001b[0m \u001b[0msoln\u001b[0m\u001b[0;34m\u001b[0m\u001b[0m\n",
      "\u001b[0;32m/usr/local/lib/python2.7/dist-packages/sympy/solvers/solvers.pyc\u001b[0m in \u001b[0;36m_tsolve\u001b[0;34m(eq, sym, **flags)\u001b[0m\n\u001b[1;32m   2522\u001b[0m             \u001b[0;31m# it's time to try factoring; powdenest is used\u001b[0m\u001b[0;34m\u001b[0m\u001b[0;34m\u001b[0m\u001b[0m\n\u001b[1;32m   2523\u001b[0m             \u001b[0;31m# to try get powers in standard form for better factoring\u001b[0m\u001b[0;34m\u001b[0m\u001b[0;34m\u001b[0m\u001b[0m\n\u001b[0;32m-> 2524\u001b[0;31m             \u001b[0mf\u001b[0m \u001b[0;34m=\u001b[0m \u001b[0mfactor\u001b[0m\u001b[0;34m(\u001b[0m\u001b[0mpowdenest\u001b[0m\u001b[0;34m(\u001b[0m\u001b[0mlhs\u001b[0m \u001b[0;34m-\u001b[0m \u001b[0mrhs\u001b[0m\u001b[0;34m)\u001b[0m\u001b[0;34m)\u001b[0m\u001b[0;34m\u001b[0m\u001b[0m\n\u001b[0m\u001b[1;32m   2525\u001b[0m             \u001b[0;32mif\u001b[0m \u001b[0mf\u001b[0m\u001b[0;34m.\u001b[0m\u001b[0mis_Mul\u001b[0m\u001b[0;34m:\u001b[0m\u001b[0;34m\u001b[0m\u001b[0m\n\u001b[1;32m   2526\u001b[0m                 \u001b[0;32mreturn\u001b[0m \u001b[0m_solve\u001b[0m\u001b[0;34m(\u001b[0m\u001b[0mf\u001b[0m\u001b[0;34m,\u001b[0m \u001b[0msym\u001b[0m\u001b[0;34m,\u001b[0m \u001b[0;34m**\u001b[0m\u001b[0mflags\u001b[0m\u001b[0;34m)\u001b[0m\u001b[0;34m\u001b[0m\u001b[0m\n",
      "\u001b[0;32m/usr/local/lib/python2.7/dist-packages/sympy/polys/polytools.pyc\u001b[0m in \u001b[0;36mfactor\u001b[0;34m(f, *gens, **args)\u001b[0m\n\u001b[1;32m   6061\u001b[0m \u001b[0;34m\u001b[0m\u001b[0m\n\u001b[1;32m   6062\u001b[0m     \u001b[0;32mtry\u001b[0m\u001b[0;34m:\u001b[0m\u001b[0;34m\u001b[0m\u001b[0m\n\u001b[0;32m-> 6063\u001b[0;31m         \u001b[0;32mreturn\u001b[0m \u001b[0m_generic_factor\u001b[0m\u001b[0;34m(\u001b[0m\u001b[0mf\u001b[0m\u001b[0;34m,\u001b[0m \u001b[0mgens\u001b[0m\u001b[0;34m,\u001b[0m \u001b[0margs\u001b[0m\u001b[0;34m,\u001b[0m \u001b[0mmethod\u001b[0m\u001b[0;34m=\u001b[0m\u001b[0;34m'factor'\u001b[0m\u001b[0;34m)\u001b[0m\u001b[0;34m\u001b[0m\u001b[0m\n\u001b[0m\u001b[1;32m   6064\u001b[0m     \u001b[0;32mexcept\u001b[0m \u001b[0mPolynomialError\u001b[0m \u001b[0;32mas\u001b[0m \u001b[0mmsg\u001b[0m\u001b[0;34m:\u001b[0m\u001b[0;34m\u001b[0m\u001b[0m\n\u001b[1;32m   6065\u001b[0m         \u001b[0;32mif\u001b[0m \u001b[0;32mnot\u001b[0m \u001b[0mf\u001b[0m\u001b[0;34m.\u001b[0m\u001b[0mis_commutative\u001b[0m\u001b[0;34m:\u001b[0m\u001b[0;34m\u001b[0m\u001b[0m\n",
      "\u001b[0;32m/usr/local/lib/python2.7/dist-packages/sympy/polys/polytools.pyc\u001b[0m in \u001b[0;36m_generic_factor\u001b[0;34m(expr, gens, args, method)\u001b[0m\n\u001b[1;32m   5753\u001b[0m     \u001b[0moptions\u001b[0m\u001b[0;34m.\u001b[0m\u001b[0mallowed_flags\u001b[0m\u001b[0;34m(\u001b[0m\u001b[0margs\u001b[0m\u001b[0;34m,\u001b[0m \u001b[0;34m[\u001b[0m\u001b[0;34m]\u001b[0m\u001b[0;34m)\u001b[0m\u001b[0;34m\u001b[0m\u001b[0m\n\u001b[1;32m   5754\u001b[0m     \u001b[0mopt\u001b[0m \u001b[0;34m=\u001b[0m \u001b[0moptions\u001b[0m\u001b[0;34m.\u001b[0m\u001b[0mbuild_options\u001b[0m\u001b[0;34m(\u001b[0m\u001b[0mgens\u001b[0m\u001b[0;34m,\u001b[0m \u001b[0margs\u001b[0m\u001b[0;34m)\u001b[0m\u001b[0;34m\u001b[0m\u001b[0m\n\u001b[0;32m-> 5755\u001b[0;31m     \u001b[0;32mreturn\u001b[0m \u001b[0m_symbolic_factor\u001b[0m\u001b[0;34m(\u001b[0m\u001b[0msympify\u001b[0m\u001b[0;34m(\u001b[0m\u001b[0mexpr\u001b[0m\u001b[0;34m)\u001b[0m\u001b[0;34m,\u001b[0m \u001b[0mopt\u001b[0m\u001b[0;34m,\u001b[0m \u001b[0mmethod\u001b[0m\u001b[0;34m)\u001b[0m\u001b[0;34m\u001b[0m\u001b[0m\n\u001b[0m\u001b[1;32m   5756\u001b[0m \u001b[0;34m\u001b[0m\u001b[0m\n\u001b[1;32m   5757\u001b[0m \u001b[0;34m\u001b[0m\u001b[0m\n",
      "\u001b[0;32m/usr/local/lib/python2.7/dist-packages/sympy/polys/polytools.pyc\u001b[0m in \u001b[0;36m_symbolic_factor\u001b[0;34m(expr, opt, method)\u001b[0m\n\u001b[1;32m   5698\u001b[0m         \u001b[0;32mif\u001b[0m \u001b[0mhasattr\u001b[0m\u001b[0;34m(\u001b[0m\u001b[0mexpr\u001b[0m\u001b[0;34m,\u001b[0m\u001b[0;34m'_eval_factor'\u001b[0m\u001b[0;34m)\u001b[0m\u001b[0;34m:\u001b[0m\u001b[0;34m\u001b[0m\u001b[0m\n\u001b[1;32m   5699\u001b[0m             \u001b[0;32mreturn\u001b[0m \u001b[0mexpr\u001b[0m\u001b[0;34m.\u001b[0m\u001b[0m_eval_factor\u001b[0m\u001b[0;34m(\u001b[0m\u001b[0;34m)\u001b[0m\u001b[0;34m\u001b[0m\u001b[0m\n\u001b[0;32m-> 5700\u001b[0;31m         \u001b[0mcoeff\u001b[0m\u001b[0;34m,\u001b[0m \u001b[0mfactors\u001b[0m \u001b[0;34m=\u001b[0m \u001b[0m_symbolic_factor_list\u001b[0m\u001b[0;34m(\u001b[0m\u001b[0mtogether\u001b[0m\u001b[0;34m(\u001b[0m\u001b[0mexpr\u001b[0m\u001b[0;34m)\u001b[0m\u001b[0;34m,\u001b[0m \u001b[0mopt\u001b[0m\u001b[0;34m,\u001b[0m \u001b[0mmethod\u001b[0m\u001b[0;34m)\u001b[0m\u001b[0;34m\u001b[0m\u001b[0m\n\u001b[0m\u001b[1;32m   5701\u001b[0m         \u001b[0;32mreturn\u001b[0m \u001b[0m_keep_coeff\u001b[0m\u001b[0;34m(\u001b[0m\u001b[0mcoeff\u001b[0m\u001b[0;34m,\u001b[0m \u001b[0m_factors_product\u001b[0m\u001b[0;34m(\u001b[0m\u001b[0mfactors\u001b[0m\u001b[0;34m)\u001b[0m\u001b[0;34m)\u001b[0m\u001b[0;34m\u001b[0m\u001b[0m\n\u001b[1;32m   5702\u001b[0m     \u001b[0;32melif\u001b[0m \u001b[0mhasattr\u001b[0m\u001b[0;34m(\u001b[0m\u001b[0mexpr\u001b[0m\u001b[0;34m,\u001b[0m \u001b[0;34m'args'\u001b[0m\u001b[0;34m)\u001b[0m\u001b[0;34m:\u001b[0m\u001b[0;34m\u001b[0m\u001b[0m\n",
      "\u001b[0;32m/usr/local/lib/python2.7/dist-packages/sympy/polys/polytools.pyc\u001b[0m in \u001b[0;36m_symbolic_factor_list\u001b[0;34m(expr, opt, method)\u001b[0m\n\u001b[1;32m   5666\u001b[0m             \u001b[0mfunc\u001b[0m \u001b[0;34m=\u001b[0m \u001b[0mgetattr\u001b[0m\u001b[0;34m(\u001b[0m\u001b[0mpoly\u001b[0m\u001b[0;34m,\u001b[0m \u001b[0mmethod\u001b[0m \u001b[0;34m+\u001b[0m \u001b[0;34m'_list'\u001b[0m\u001b[0;34m)\u001b[0m\u001b[0;34m\u001b[0m\u001b[0m\n\u001b[1;32m   5667\u001b[0m \u001b[0;34m\u001b[0m\u001b[0m\n\u001b[0;32m-> 5668\u001b[0;31m             \u001b[0m_coeff\u001b[0m\u001b[0;34m,\u001b[0m \u001b[0m_factors\u001b[0m \u001b[0;34m=\u001b[0m \u001b[0mfunc\u001b[0m\u001b[0;34m(\u001b[0m\u001b[0;34m)\u001b[0m\u001b[0;34m\u001b[0m\u001b[0m\n\u001b[0m\u001b[1;32m   5669\u001b[0m             \u001b[0;32mif\u001b[0m \u001b[0m_coeff\u001b[0m \u001b[0;32mis\u001b[0m \u001b[0;32mnot\u001b[0m \u001b[0mS\u001b[0m\u001b[0;34m.\u001b[0m\u001b[0mOne\u001b[0m\u001b[0;34m:\u001b[0m\u001b[0;34m\u001b[0m\u001b[0m\n\u001b[1;32m   5670\u001b[0m                 \u001b[0;32mif\u001b[0m \u001b[0mexp\u001b[0m\u001b[0;34m.\u001b[0m\u001b[0mis_Integer\u001b[0m\u001b[0;34m:\u001b[0m\u001b[0;34m\u001b[0m\u001b[0m\n",
      "\u001b[0;32m/usr/local/lib/python2.7/dist-packages/sympy/polys/polytools.pyc\u001b[0m in \u001b[0;36mfactor_list\u001b[0;34m(f)\u001b[0m\n\u001b[1;32m   3097\u001b[0m         \u001b[0;32mif\u001b[0m \u001b[0mhasattr\u001b[0m\u001b[0;34m(\u001b[0m\u001b[0mf\u001b[0m\u001b[0;34m.\u001b[0m\u001b[0mrep\u001b[0m\u001b[0;34m,\u001b[0m \u001b[0;34m'factor_list'\u001b[0m\u001b[0;34m)\u001b[0m\u001b[0;34m:\u001b[0m\u001b[0;34m\u001b[0m\u001b[0m\n\u001b[1;32m   3098\u001b[0m             \u001b[0;32mtry\u001b[0m\u001b[0;34m:\u001b[0m\u001b[0;34m\u001b[0m\u001b[0m\n\u001b[0;32m-> 3099\u001b[0;31m                 \u001b[0mcoeff\u001b[0m\u001b[0;34m,\u001b[0m \u001b[0mfactors\u001b[0m \u001b[0;34m=\u001b[0m \u001b[0mf\u001b[0m\u001b[0;34m.\u001b[0m\u001b[0mrep\u001b[0m\u001b[0;34m.\u001b[0m\u001b[0mfactor_list\u001b[0m\u001b[0;34m(\u001b[0m\u001b[0;34m)\u001b[0m\u001b[0;34m\u001b[0m\u001b[0m\n\u001b[0m\u001b[1;32m   3100\u001b[0m             \u001b[0;32mexcept\u001b[0m \u001b[0mDomainError\u001b[0m\u001b[0;34m:\u001b[0m\u001b[0;34m\u001b[0m\u001b[0m\n\u001b[1;32m   3101\u001b[0m                 \u001b[0;32mreturn\u001b[0m \u001b[0mS\u001b[0m\u001b[0;34m.\u001b[0m\u001b[0mOne\u001b[0m\u001b[0;34m,\u001b[0m \u001b[0;34m[\u001b[0m\u001b[0;34m(\u001b[0m\u001b[0mf\u001b[0m\u001b[0;34m,\u001b[0m \u001b[0;36m1\u001b[0m\u001b[0;34m)\u001b[0m\u001b[0;34m]\u001b[0m\u001b[0;34m\u001b[0m\u001b[0m\n",
      "\u001b[0;32m/usr/local/lib/python2.7/dist-packages/sympy/polys/polyclasses.pyc\u001b[0m in \u001b[0;36mfactor_list\u001b[0;34m(f)\u001b[0m\n\u001b[1;32m    757\u001b[0m     \u001b[0;32mdef\u001b[0m \u001b[0mfactor_list\u001b[0m\u001b[0;34m(\u001b[0m\u001b[0mf\u001b[0m\u001b[0;34m)\u001b[0m\u001b[0;34m:\u001b[0m\u001b[0;34m\u001b[0m\u001b[0m\n\u001b[1;32m    758\u001b[0m         \u001b[0;34m\"\"\"Returns a list of irreducible factors of ``f``. \"\"\"\u001b[0m\u001b[0;34m\u001b[0m\u001b[0m\n\u001b[0;32m--> 759\u001b[0;31m         \u001b[0mcoeff\u001b[0m\u001b[0;34m,\u001b[0m \u001b[0mfactors\u001b[0m \u001b[0;34m=\u001b[0m \u001b[0mdmp_factor_list\u001b[0m\u001b[0;34m(\u001b[0m\u001b[0mf\u001b[0m\u001b[0;34m.\u001b[0m\u001b[0mrep\u001b[0m\u001b[0;34m,\u001b[0m \u001b[0mf\u001b[0m\u001b[0;34m.\u001b[0m\u001b[0mlev\u001b[0m\u001b[0;34m,\u001b[0m \u001b[0mf\u001b[0m\u001b[0;34m.\u001b[0m\u001b[0mdom\u001b[0m\u001b[0;34m)\u001b[0m\u001b[0;34m\u001b[0m\u001b[0m\n\u001b[0m\u001b[1;32m    760\u001b[0m         \u001b[0;32mreturn\u001b[0m \u001b[0mcoeff\u001b[0m\u001b[0;34m,\u001b[0m \u001b[0;34m[\u001b[0m \u001b[0;34m(\u001b[0m\u001b[0mf\u001b[0m\u001b[0;34m.\u001b[0m\u001b[0mper\u001b[0m\u001b[0;34m(\u001b[0m\u001b[0mg\u001b[0m\u001b[0;34m)\u001b[0m\u001b[0;34m,\u001b[0m \u001b[0mk\u001b[0m\u001b[0;34m)\u001b[0m \u001b[0;32mfor\u001b[0m \u001b[0mg\u001b[0m\u001b[0;34m,\u001b[0m \u001b[0mk\u001b[0m \u001b[0;32min\u001b[0m \u001b[0mfactors\u001b[0m \u001b[0;34m]\u001b[0m\u001b[0;34m\u001b[0m\u001b[0m\n\u001b[1;32m    761\u001b[0m \u001b[0;34m\u001b[0m\u001b[0m\n",
      "\u001b[0;32m/usr/local/lib/python2.7/dist-packages/sympy/polys/factortools.pyc\u001b[0m in \u001b[0;36mdmp_factor_list\u001b[0;34m(f, u, K0)\u001b[0m\n\u001b[1;32m   1277\u001b[0m         \u001b[0;32mif\u001b[0m \u001b[0mK\u001b[0m\u001b[0;34m.\u001b[0m\u001b[0mis_ZZ\u001b[0m\u001b[0;34m:\u001b[0m\u001b[0;34m\u001b[0m\u001b[0m\n\u001b[1;32m   1278\u001b[0m             \u001b[0mlevels\u001b[0m\u001b[0;34m,\u001b[0m \u001b[0mf\u001b[0m\u001b[0;34m,\u001b[0m \u001b[0mv\u001b[0m \u001b[0;34m=\u001b[0m \u001b[0mdmp_exclude\u001b[0m\u001b[0;34m(\u001b[0m\u001b[0mf\u001b[0m\u001b[0;34m,\u001b[0m \u001b[0mu\u001b[0m\u001b[0;34m,\u001b[0m \u001b[0mK\u001b[0m\u001b[0;34m)\u001b[0m\u001b[0;34m\u001b[0m\u001b[0m\n\u001b[0;32m-> 1279\u001b[0;31m             \u001b[0mcoeff\u001b[0m\u001b[0;34m,\u001b[0m \u001b[0mfactors\u001b[0m \u001b[0;34m=\u001b[0m \u001b[0mdmp_zz_factor\u001b[0m\u001b[0;34m(\u001b[0m\u001b[0mf\u001b[0m\u001b[0;34m,\u001b[0m \u001b[0mv\u001b[0m\u001b[0;34m,\u001b[0m \u001b[0mK\u001b[0m\u001b[0;34m)\u001b[0m\u001b[0;34m\u001b[0m\u001b[0m\n\u001b[0m\u001b[1;32m   1280\u001b[0m \u001b[0;34m\u001b[0m\u001b[0m\n\u001b[1;32m   1281\u001b[0m             \u001b[0;32mfor\u001b[0m \u001b[0mi\u001b[0m\u001b[0;34m,\u001b[0m \u001b[0;34m(\u001b[0m\u001b[0mf\u001b[0m\u001b[0;34m,\u001b[0m \u001b[0mk\u001b[0m\u001b[0;34m)\u001b[0m \u001b[0;32min\u001b[0m \u001b[0menumerate\u001b[0m\u001b[0;34m(\u001b[0m\u001b[0mfactors\u001b[0m\u001b[0;34m)\u001b[0m\u001b[0;34m:\u001b[0m\u001b[0;34m\u001b[0m\u001b[0m\n",
      "\u001b[0;32m/usr/local/lib/python2.7/dist-packages/sympy/polys/factortools.pyc\u001b[0m in \u001b[0;36mdmp_zz_factor\u001b[0;34m(f, u, K)\u001b[0m\n\u001b[1;32m   1089\u001b[0m     \u001b[0;32mif\u001b[0m \u001b[0mdmp_degree\u001b[0m\u001b[0;34m(\u001b[0m\u001b[0mg\u001b[0m\u001b[0;34m,\u001b[0m \u001b[0mu\u001b[0m\u001b[0;34m)\u001b[0m \u001b[0;34m>\u001b[0m \u001b[0;36m0\u001b[0m\u001b[0;34m:\u001b[0m\u001b[0;34m\u001b[0m\u001b[0m\n\u001b[1;32m   1090\u001b[0m         \u001b[0mg\u001b[0m \u001b[0;34m=\u001b[0m \u001b[0mdmp_sqf_part\u001b[0m\u001b[0;34m(\u001b[0m\u001b[0mg\u001b[0m\u001b[0;34m,\u001b[0m \u001b[0mu\u001b[0m\u001b[0;34m,\u001b[0m \u001b[0mK\u001b[0m\u001b[0;34m)\u001b[0m\u001b[0;34m\u001b[0m\u001b[0m\n\u001b[0;32m-> 1091\u001b[0;31m         \u001b[0mH\u001b[0m \u001b[0;34m=\u001b[0m \u001b[0mdmp_zz_wang\u001b[0m\u001b[0;34m(\u001b[0m\u001b[0mg\u001b[0m\u001b[0;34m,\u001b[0m \u001b[0mu\u001b[0m\u001b[0;34m,\u001b[0m \u001b[0mK\u001b[0m\u001b[0;34m)\u001b[0m\u001b[0;34m\u001b[0m\u001b[0m\n\u001b[0m\u001b[1;32m   1092\u001b[0m         \u001b[0mfactors\u001b[0m \u001b[0;34m=\u001b[0m \u001b[0mdmp_trial_division\u001b[0m\u001b[0;34m(\u001b[0m\u001b[0mf\u001b[0m\u001b[0;34m,\u001b[0m \u001b[0mH\u001b[0m\u001b[0;34m,\u001b[0m \u001b[0mu\u001b[0m\u001b[0;34m,\u001b[0m \u001b[0mK\u001b[0m\u001b[0;34m)\u001b[0m\u001b[0;34m\u001b[0m\u001b[0m\n\u001b[1;32m   1093\u001b[0m \u001b[0;34m\u001b[0m\u001b[0m\n",
      "\u001b[0;32m/usr/local/lib/python2.7/dist-packages/sympy/polys/factortools.pyc\u001b[0m in \u001b[0;36mdmp_zz_wang\u001b[0;34m(f, u, K, mod, seed)\u001b[0m\n\u001b[1;32m   1012\u001b[0m     \u001b[0;32mtry\u001b[0m\u001b[0;34m:\u001b[0m\u001b[0;34m\u001b[0m\u001b[0m\n\u001b[1;32m   1013\u001b[0m         \u001b[0mf\u001b[0m\u001b[0;34m,\u001b[0m \u001b[0mH\u001b[0m\u001b[0;34m,\u001b[0m \u001b[0mLC\u001b[0m \u001b[0;34m=\u001b[0m \u001b[0mdmp_zz_wang_lead_coeffs\u001b[0m\u001b[0;34m(\u001b[0m\u001b[0mf\u001b[0m\u001b[0;34m,\u001b[0m \u001b[0mT\u001b[0m\u001b[0;34m,\u001b[0m \u001b[0mcs\u001b[0m\u001b[0;34m,\u001b[0m \u001b[0mE\u001b[0m\u001b[0;34m,\u001b[0m \u001b[0mH\u001b[0m\u001b[0;34m,\u001b[0m \u001b[0mA\u001b[0m\u001b[0;34m,\u001b[0m \u001b[0mu\u001b[0m\u001b[0;34m,\u001b[0m \u001b[0mK\u001b[0m\u001b[0;34m)\u001b[0m\u001b[0;34m\u001b[0m\u001b[0m\n\u001b[0;32m-> 1014\u001b[0;31m         \u001b[0mfactors\u001b[0m \u001b[0;34m=\u001b[0m \u001b[0mdmp_zz_wang_hensel_lifting\u001b[0m\u001b[0;34m(\u001b[0m\u001b[0mf\u001b[0m\u001b[0;34m,\u001b[0m \u001b[0mH\u001b[0m\u001b[0;34m,\u001b[0m \u001b[0mLC\u001b[0m\u001b[0;34m,\u001b[0m \u001b[0mA\u001b[0m\u001b[0;34m,\u001b[0m \u001b[0mp\u001b[0m\u001b[0;34m,\u001b[0m \u001b[0mu\u001b[0m\u001b[0;34m,\u001b[0m \u001b[0mK\u001b[0m\u001b[0;34m)\u001b[0m\u001b[0;34m\u001b[0m\u001b[0m\n\u001b[0m\u001b[1;32m   1015\u001b[0m     \u001b[0;32mexcept\u001b[0m \u001b[0mExtraneousFactors\u001b[0m\u001b[0;34m:\u001b[0m  \u001b[0;31m# pragma: no cover\u001b[0m\u001b[0;34m\u001b[0m\u001b[0m\n\u001b[1;32m   1016\u001b[0m         \u001b[0;32mif\u001b[0m \u001b[0mquery\u001b[0m\u001b[0;34m(\u001b[0m\u001b[0;34m'EEZ_RESTART_IF_NEEDED'\u001b[0m\u001b[0;34m)\u001b[0m\u001b[0;34m:\u001b[0m\u001b[0;34m\u001b[0m\u001b[0m\n",
      "\u001b[0;32m/usr/local/lib/python2.7/dist-packages/sympy/polys/factortools.pyc\u001b[0m in \u001b[0;36mdmp_zz_wang_hensel_lifting\u001b[0;34m(f, H, LC, A, p, u, K)\u001b[0m\n\u001b[1;32m    876\u001b[0m             \u001b[0;32mif\u001b[0m \u001b[0;32mnot\u001b[0m \u001b[0mdmp_zero_p\u001b[0m\u001b[0;34m(\u001b[0m\u001b[0mC\u001b[0m\u001b[0;34m,\u001b[0m \u001b[0mw\u001b[0m \u001b[0;34m-\u001b[0m \u001b[0;36m1\u001b[0m\u001b[0;34m)\u001b[0m\u001b[0;34m:\u001b[0m\u001b[0;34m\u001b[0m\u001b[0m\n\u001b[1;32m    877\u001b[0m                 \u001b[0mC\u001b[0m \u001b[0;34m=\u001b[0m \u001b[0mdmp_quo_ground\u001b[0m\u001b[0;34m(\u001b[0m\u001b[0mC\u001b[0m\u001b[0;34m,\u001b[0m \u001b[0mK\u001b[0m\u001b[0;34m.\u001b[0m\u001b[0mfactorial\u001b[0m\u001b[0;34m(\u001b[0m\u001b[0mk\u001b[0m \u001b[0;34m+\u001b[0m \u001b[0;36m1\u001b[0m\u001b[0;34m)\u001b[0m\u001b[0;34m,\u001b[0m \u001b[0mw\u001b[0m \u001b[0;34m-\u001b[0m \u001b[0;36m1\u001b[0m\u001b[0;34m,\u001b[0m \u001b[0mK\u001b[0m\u001b[0;34m)\u001b[0m\u001b[0;34m\u001b[0m\u001b[0m\n\u001b[0;32m--> 878\u001b[0;31m                 \u001b[0mT\u001b[0m \u001b[0;34m=\u001b[0m \u001b[0mdmp_zz_diophantine\u001b[0m\u001b[0;34m(\u001b[0m\u001b[0mG\u001b[0m\u001b[0;34m,\u001b[0m \u001b[0mC\u001b[0m\u001b[0;34m,\u001b[0m \u001b[0mI\u001b[0m\u001b[0;34m,\u001b[0m \u001b[0md\u001b[0m\u001b[0;34m,\u001b[0m \u001b[0mp\u001b[0m\u001b[0;34m,\u001b[0m \u001b[0mw\u001b[0m \u001b[0;34m-\u001b[0m \u001b[0;36m1\u001b[0m\u001b[0;34m,\u001b[0m \u001b[0mK\u001b[0m\u001b[0;34m)\u001b[0m\u001b[0;34m\u001b[0m\u001b[0m\n\u001b[0m\u001b[1;32m    879\u001b[0m \u001b[0;34m\u001b[0m\u001b[0m\n\u001b[1;32m    880\u001b[0m                 \u001b[0;32mfor\u001b[0m \u001b[0mi\u001b[0m\u001b[0;34m,\u001b[0m \u001b[0;34m(\u001b[0m\u001b[0mh\u001b[0m\u001b[0;34m,\u001b[0m \u001b[0mt\u001b[0m\u001b[0;34m)\u001b[0m \u001b[0;32min\u001b[0m \u001b[0menumerate\u001b[0m\u001b[0;34m(\u001b[0m\u001b[0mzip\u001b[0m\u001b[0;34m(\u001b[0m\u001b[0mH\u001b[0m\u001b[0;34m,\u001b[0m \u001b[0mT\u001b[0m\u001b[0;34m)\u001b[0m\u001b[0;34m)\u001b[0m\u001b[0;34m:\u001b[0m\u001b[0;34m\u001b[0m\u001b[0m\n",
      "\u001b[0;32m/usr/local/lib/python2.7/dist-packages/sympy/polys/factortools.pyc\u001b[0m in \u001b[0;36mdmp_zz_diophantine\u001b[0;34m(F, c, A, d, p, u, K)\u001b[0m\n\u001b[1;32m    801\u001b[0m         \u001b[0mv\u001b[0m \u001b[0;34m=\u001b[0m \u001b[0mu\u001b[0m \u001b[0;34m-\u001b[0m \u001b[0;36m1\u001b[0m\u001b[0;34m\u001b[0m\u001b[0m\n\u001b[1;32m    802\u001b[0m \u001b[0;34m\u001b[0m\u001b[0m\n\u001b[0;32m--> 803\u001b[0;31m         \u001b[0mS\u001b[0m \u001b[0;34m=\u001b[0m \u001b[0mdmp_zz_diophantine\u001b[0m\u001b[0;34m(\u001b[0m\u001b[0mG\u001b[0m\u001b[0;34m,\u001b[0m \u001b[0mC\u001b[0m\u001b[0;34m,\u001b[0m \u001b[0mA\u001b[0m\u001b[0;34m,\u001b[0m \u001b[0md\u001b[0m\u001b[0;34m,\u001b[0m \u001b[0mp\u001b[0m\u001b[0;34m,\u001b[0m \u001b[0mv\u001b[0m\u001b[0;34m,\u001b[0m \u001b[0mK\u001b[0m\u001b[0;34m)\u001b[0m\u001b[0;34m\u001b[0m\u001b[0m\n\u001b[0m\u001b[1;32m    804\u001b[0m         \u001b[0mS\u001b[0m \u001b[0;34m=\u001b[0m \u001b[0;34m[\u001b[0m \u001b[0mdmp_raise\u001b[0m\u001b[0;34m(\u001b[0m\u001b[0ms\u001b[0m\u001b[0;34m,\u001b[0m \u001b[0;36m1\u001b[0m\u001b[0;34m,\u001b[0m \u001b[0mv\u001b[0m\u001b[0;34m,\u001b[0m \u001b[0mK\u001b[0m\u001b[0;34m)\u001b[0m \u001b[0;32mfor\u001b[0m \u001b[0ms\u001b[0m \u001b[0;32min\u001b[0m \u001b[0mS\u001b[0m \u001b[0;34m]\u001b[0m\u001b[0;34m\u001b[0m\u001b[0m\n\u001b[1;32m    805\u001b[0m \u001b[0;34m\u001b[0m\u001b[0m\n",
      "\u001b[0;32m/usr/local/lib/python2.7/dist-packages/sympy/polys/factortools.pyc\u001b[0m in \u001b[0;36mdmp_zz_diophantine\u001b[0;34m(F, c, A, d, p, u, K)\u001b[0m\n\u001b[1;32m    801\u001b[0m         \u001b[0mv\u001b[0m \u001b[0;34m=\u001b[0m \u001b[0mu\u001b[0m \u001b[0;34m-\u001b[0m \u001b[0;36m1\u001b[0m\u001b[0;34m\u001b[0m\u001b[0m\n\u001b[1;32m    802\u001b[0m \u001b[0;34m\u001b[0m\u001b[0m\n\u001b[0;32m--> 803\u001b[0;31m         \u001b[0mS\u001b[0m \u001b[0;34m=\u001b[0m \u001b[0mdmp_zz_diophantine\u001b[0m\u001b[0;34m(\u001b[0m\u001b[0mG\u001b[0m\u001b[0;34m,\u001b[0m \u001b[0mC\u001b[0m\u001b[0;34m,\u001b[0m \u001b[0mA\u001b[0m\u001b[0;34m,\u001b[0m \u001b[0md\u001b[0m\u001b[0;34m,\u001b[0m \u001b[0mp\u001b[0m\u001b[0;34m,\u001b[0m \u001b[0mv\u001b[0m\u001b[0;34m,\u001b[0m \u001b[0mK\u001b[0m\u001b[0;34m)\u001b[0m\u001b[0;34m\u001b[0m\u001b[0m\n\u001b[0m\u001b[1;32m    804\u001b[0m         \u001b[0mS\u001b[0m \u001b[0;34m=\u001b[0m \u001b[0;34m[\u001b[0m \u001b[0mdmp_raise\u001b[0m\u001b[0;34m(\u001b[0m\u001b[0ms\u001b[0m\u001b[0;34m,\u001b[0m \u001b[0;36m1\u001b[0m\u001b[0;34m,\u001b[0m \u001b[0mv\u001b[0m\u001b[0;34m,\u001b[0m \u001b[0mK\u001b[0m\u001b[0;34m)\u001b[0m \u001b[0;32mfor\u001b[0m \u001b[0ms\u001b[0m \u001b[0;32min\u001b[0m \u001b[0mS\u001b[0m \u001b[0;34m]\u001b[0m\u001b[0;34m\u001b[0m\u001b[0m\n\u001b[1;32m    805\u001b[0m \u001b[0;34m\u001b[0m\u001b[0m\n",
      "\u001b[0;32m/usr/local/lib/python2.7/dist-packages/sympy/polys/factortools.pyc\u001b[0m in \u001b[0;36mdmp_zz_diophantine\u001b[0;34m(F, c, A, d, p, u, K)\u001b[0m\n\u001b[1;32m    821\u001b[0m             \u001b[0;32mif\u001b[0m \u001b[0;32mnot\u001b[0m \u001b[0mdmp_zero_p\u001b[0m\u001b[0;34m(\u001b[0m\u001b[0mC\u001b[0m\u001b[0;34m,\u001b[0m \u001b[0mv\u001b[0m\u001b[0;34m)\u001b[0m\u001b[0;34m:\u001b[0m\u001b[0;34m\u001b[0m\u001b[0m\n\u001b[1;32m    822\u001b[0m                 \u001b[0mC\u001b[0m \u001b[0;34m=\u001b[0m \u001b[0mdmp_quo_ground\u001b[0m\u001b[0;34m(\u001b[0m\u001b[0mC\u001b[0m\u001b[0;34m,\u001b[0m \u001b[0mK\u001b[0m\u001b[0;34m.\u001b[0m\u001b[0mfactorial\u001b[0m\u001b[0;34m(\u001b[0m\u001b[0mk\u001b[0m \u001b[0;34m+\u001b[0m \u001b[0;36m1\u001b[0m\u001b[0;34m)\u001b[0m\u001b[0;34m,\u001b[0m \u001b[0mv\u001b[0m\u001b[0;34m,\u001b[0m \u001b[0mK\u001b[0m\u001b[0;34m)\u001b[0m\u001b[0;34m\u001b[0m\u001b[0m\n\u001b[0;32m--> 823\u001b[0;31m                 \u001b[0mT\u001b[0m \u001b[0;34m=\u001b[0m \u001b[0mdmp_zz_diophantine\u001b[0m\u001b[0;34m(\u001b[0m\u001b[0mG\u001b[0m\u001b[0;34m,\u001b[0m \u001b[0mC\u001b[0m\u001b[0;34m,\u001b[0m \u001b[0mA\u001b[0m\u001b[0;34m,\u001b[0m \u001b[0md\u001b[0m\u001b[0;34m,\u001b[0m \u001b[0mp\u001b[0m\u001b[0;34m,\u001b[0m \u001b[0mv\u001b[0m\u001b[0;34m,\u001b[0m \u001b[0mK\u001b[0m\u001b[0;34m)\u001b[0m\u001b[0;34m\u001b[0m\u001b[0m\n\u001b[0m\u001b[1;32m    824\u001b[0m \u001b[0;34m\u001b[0m\u001b[0m\n\u001b[1;32m    825\u001b[0m                 \u001b[0;32mfor\u001b[0m \u001b[0mi\u001b[0m\u001b[0;34m,\u001b[0m \u001b[0mt\u001b[0m \u001b[0;32min\u001b[0m \u001b[0menumerate\u001b[0m\u001b[0;34m(\u001b[0m\u001b[0mT\u001b[0m\u001b[0;34m)\u001b[0m\u001b[0;34m:\u001b[0m\u001b[0;34m\u001b[0m\u001b[0m\n",
      "\u001b[0;32m/usr/local/lib/python2.7/dist-packages/sympy/polys/factortools.pyc\u001b[0m in \u001b[0;36mdmp_zz_diophantine\u001b[0;34m(F, c, A, d, p, u, K)\u001b[0m\n\u001b[1;32m    821\u001b[0m             \u001b[0;32mif\u001b[0m \u001b[0;32mnot\u001b[0m \u001b[0mdmp_zero_p\u001b[0m\u001b[0;34m(\u001b[0m\u001b[0mC\u001b[0m\u001b[0;34m,\u001b[0m \u001b[0mv\u001b[0m\u001b[0;34m)\u001b[0m\u001b[0;34m:\u001b[0m\u001b[0;34m\u001b[0m\u001b[0m\n\u001b[1;32m    822\u001b[0m                 \u001b[0mC\u001b[0m \u001b[0;34m=\u001b[0m \u001b[0mdmp_quo_ground\u001b[0m\u001b[0;34m(\u001b[0m\u001b[0mC\u001b[0m\u001b[0;34m,\u001b[0m \u001b[0mK\u001b[0m\u001b[0;34m.\u001b[0m\u001b[0mfactorial\u001b[0m\u001b[0;34m(\u001b[0m\u001b[0mk\u001b[0m \u001b[0;34m+\u001b[0m \u001b[0;36m1\u001b[0m\u001b[0;34m)\u001b[0m\u001b[0;34m,\u001b[0m \u001b[0mv\u001b[0m\u001b[0;34m,\u001b[0m \u001b[0mK\u001b[0m\u001b[0;34m)\u001b[0m\u001b[0;34m\u001b[0m\u001b[0m\n\u001b[0;32m--> 823\u001b[0;31m                 \u001b[0mT\u001b[0m \u001b[0;34m=\u001b[0m \u001b[0mdmp_zz_diophantine\u001b[0m\u001b[0;34m(\u001b[0m\u001b[0mG\u001b[0m\u001b[0;34m,\u001b[0m \u001b[0mC\u001b[0m\u001b[0;34m,\u001b[0m \u001b[0mA\u001b[0m\u001b[0;34m,\u001b[0m \u001b[0md\u001b[0m\u001b[0;34m,\u001b[0m \u001b[0mp\u001b[0m\u001b[0;34m,\u001b[0m \u001b[0mv\u001b[0m\u001b[0;34m,\u001b[0m \u001b[0mK\u001b[0m\u001b[0;34m)\u001b[0m\u001b[0;34m\u001b[0m\u001b[0m\n\u001b[0m\u001b[1;32m    824\u001b[0m \u001b[0;34m\u001b[0m\u001b[0m\n\u001b[1;32m    825\u001b[0m                 \u001b[0;32mfor\u001b[0m \u001b[0mi\u001b[0m\u001b[0;34m,\u001b[0m \u001b[0mt\u001b[0m \u001b[0;32min\u001b[0m \u001b[0menumerate\u001b[0m\u001b[0;34m(\u001b[0m\u001b[0mT\u001b[0m\u001b[0;34m)\u001b[0m\u001b[0;34m:\u001b[0m\u001b[0;34m\u001b[0m\u001b[0m\n",
      "\u001b[0;32m/usr/local/lib/python2.7/dist-packages/sympy/polys/factortools.pyc\u001b[0m in \u001b[0;36mdmp_zz_diophantine\u001b[0;34m(F, c, A, d, p, u, K)\u001b[0m\n\u001b[1;32m    801\u001b[0m         \u001b[0mv\u001b[0m \u001b[0;34m=\u001b[0m \u001b[0mu\u001b[0m \u001b[0;34m-\u001b[0m \u001b[0;36m1\u001b[0m\u001b[0;34m\u001b[0m\u001b[0m\n\u001b[1;32m    802\u001b[0m \u001b[0;34m\u001b[0m\u001b[0m\n\u001b[0;32m--> 803\u001b[0;31m         \u001b[0mS\u001b[0m \u001b[0;34m=\u001b[0m \u001b[0mdmp_zz_diophantine\u001b[0m\u001b[0;34m(\u001b[0m\u001b[0mG\u001b[0m\u001b[0;34m,\u001b[0m \u001b[0mC\u001b[0m\u001b[0;34m,\u001b[0m \u001b[0mA\u001b[0m\u001b[0;34m,\u001b[0m \u001b[0md\u001b[0m\u001b[0;34m,\u001b[0m \u001b[0mp\u001b[0m\u001b[0;34m,\u001b[0m \u001b[0mv\u001b[0m\u001b[0;34m,\u001b[0m \u001b[0mK\u001b[0m\u001b[0;34m)\u001b[0m\u001b[0;34m\u001b[0m\u001b[0m\n\u001b[0m\u001b[1;32m    804\u001b[0m         \u001b[0mS\u001b[0m \u001b[0;34m=\u001b[0m \u001b[0;34m[\u001b[0m \u001b[0mdmp_raise\u001b[0m\u001b[0;34m(\u001b[0m\u001b[0ms\u001b[0m\u001b[0;34m,\u001b[0m \u001b[0;36m1\u001b[0m\u001b[0;34m,\u001b[0m \u001b[0mv\u001b[0m\u001b[0;34m,\u001b[0m \u001b[0mK\u001b[0m\u001b[0;34m)\u001b[0m \u001b[0;32mfor\u001b[0m \u001b[0ms\u001b[0m \u001b[0;32min\u001b[0m \u001b[0mS\u001b[0m \u001b[0;34m]\u001b[0m\u001b[0;34m\u001b[0m\u001b[0m\n\u001b[1;32m    805\u001b[0m \u001b[0;34m\u001b[0m\u001b[0m\n",
      "\u001b[0;32m/usr/local/lib/python2.7/dist-packages/sympy/polys/factortools.pyc\u001b[0m in \u001b[0;36mdmp_zz_diophantine\u001b[0;34m(F, c, A, d, p, u, K)\u001b[0m\n\u001b[1;32m    801\u001b[0m         \u001b[0mv\u001b[0m \u001b[0;34m=\u001b[0m \u001b[0mu\u001b[0m \u001b[0;34m-\u001b[0m \u001b[0;36m1\u001b[0m\u001b[0;34m\u001b[0m\u001b[0m\n\u001b[1;32m    802\u001b[0m \u001b[0;34m\u001b[0m\u001b[0m\n\u001b[0;32m--> 803\u001b[0;31m         \u001b[0mS\u001b[0m \u001b[0;34m=\u001b[0m \u001b[0mdmp_zz_diophantine\u001b[0m\u001b[0;34m(\u001b[0m\u001b[0mG\u001b[0m\u001b[0;34m,\u001b[0m \u001b[0mC\u001b[0m\u001b[0;34m,\u001b[0m \u001b[0mA\u001b[0m\u001b[0;34m,\u001b[0m \u001b[0md\u001b[0m\u001b[0;34m,\u001b[0m \u001b[0mp\u001b[0m\u001b[0;34m,\u001b[0m \u001b[0mv\u001b[0m\u001b[0;34m,\u001b[0m \u001b[0mK\u001b[0m\u001b[0;34m)\u001b[0m\u001b[0;34m\u001b[0m\u001b[0m\n\u001b[0m\u001b[1;32m    804\u001b[0m         \u001b[0mS\u001b[0m \u001b[0;34m=\u001b[0m \u001b[0;34m[\u001b[0m \u001b[0mdmp_raise\u001b[0m\u001b[0;34m(\u001b[0m\u001b[0ms\u001b[0m\u001b[0;34m,\u001b[0m \u001b[0;36m1\u001b[0m\u001b[0;34m,\u001b[0m \u001b[0mv\u001b[0m\u001b[0;34m,\u001b[0m \u001b[0mK\u001b[0m\u001b[0;34m)\u001b[0m \u001b[0;32mfor\u001b[0m \u001b[0ms\u001b[0m \u001b[0;32min\u001b[0m \u001b[0mS\u001b[0m \u001b[0;34m]\u001b[0m\u001b[0;34m\u001b[0m\u001b[0m\n\u001b[1;32m    805\u001b[0m \u001b[0;34m\u001b[0m\u001b[0m\n",
      "\u001b[0;32m/usr/local/lib/python2.7/dist-packages/sympy/polys/factortools.pyc\u001b[0m in \u001b[0;36mdmp_zz_diophantine\u001b[0;34m(F, c, A, d, p, u, K)\u001b[0m\n\u001b[1;32m    821\u001b[0m             \u001b[0;32mif\u001b[0m \u001b[0;32mnot\u001b[0m \u001b[0mdmp_zero_p\u001b[0m\u001b[0;34m(\u001b[0m\u001b[0mC\u001b[0m\u001b[0;34m,\u001b[0m \u001b[0mv\u001b[0m\u001b[0;34m)\u001b[0m\u001b[0;34m:\u001b[0m\u001b[0;34m\u001b[0m\u001b[0m\n\u001b[1;32m    822\u001b[0m                 \u001b[0mC\u001b[0m \u001b[0;34m=\u001b[0m \u001b[0mdmp_quo_ground\u001b[0m\u001b[0;34m(\u001b[0m\u001b[0mC\u001b[0m\u001b[0;34m,\u001b[0m \u001b[0mK\u001b[0m\u001b[0;34m.\u001b[0m\u001b[0mfactorial\u001b[0m\u001b[0;34m(\u001b[0m\u001b[0mk\u001b[0m \u001b[0;34m+\u001b[0m \u001b[0;36m1\u001b[0m\u001b[0;34m)\u001b[0m\u001b[0;34m,\u001b[0m \u001b[0mv\u001b[0m\u001b[0;34m,\u001b[0m \u001b[0mK\u001b[0m\u001b[0;34m)\u001b[0m\u001b[0;34m\u001b[0m\u001b[0m\n\u001b[0;32m--> 823\u001b[0;31m                 \u001b[0mT\u001b[0m \u001b[0;34m=\u001b[0m \u001b[0mdmp_zz_diophantine\u001b[0m\u001b[0;34m(\u001b[0m\u001b[0mG\u001b[0m\u001b[0;34m,\u001b[0m \u001b[0mC\u001b[0m\u001b[0;34m,\u001b[0m \u001b[0mA\u001b[0m\u001b[0;34m,\u001b[0m \u001b[0md\u001b[0m\u001b[0;34m,\u001b[0m \u001b[0mp\u001b[0m\u001b[0;34m,\u001b[0m \u001b[0mv\u001b[0m\u001b[0;34m,\u001b[0m \u001b[0mK\u001b[0m\u001b[0;34m)\u001b[0m\u001b[0;34m\u001b[0m\u001b[0m\n\u001b[0m\u001b[1;32m    824\u001b[0m \u001b[0;34m\u001b[0m\u001b[0m\n\u001b[1;32m    825\u001b[0m                 \u001b[0;32mfor\u001b[0m \u001b[0mi\u001b[0m\u001b[0;34m,\u001b[0m \u001b[0mt\u001b[0m \u001b[0;32min\u001b[0m \u001b[0menumerate\u001b[0m\u001b[0;34m(\u001b[0m\u001b[0mT\u001b[0m\u001b[0;34m)\u001b[0m\u001b[0;34m:\u001b[0m\u001b[0;34m\u001b[0m\u001b[0m\n",
      "\u001b[0;32m/usr/local/lib/python2.7/dist-packages/sympy/polys/factortools.pyc\u001b[0m in \u001b[0;36mdmp_zz_diophantine\u001b[0;34m(F, c, A, d, p, u, K)\u001b[0m\n\u001b[1;32m    801\u001b[0m         \u001b[0mv\u001b[0m \u001b[0;34m=\u001b[0m \u001b[0mu\u001b[0m \u001b[0;34m-\u001b[0m \u001b[0;36m1\u001b[0m\u001b[0;34m\u001b[0m\u001b[0m\n\u001b[1;32m    802\u001b[0m \u001b[0;34m\u001b[0m\u001b[0m\n\u001b[0;32m--> 803\u001b[0;31m         \u001b[0mS\u001b[0m \u001b[0;34m=\u001b[0m \u001b[0mdmp_zz_diophantine\u001b[0m\u001b[0;34m(\u001b[0m\u001b[0mG\u001b[0m\u001b[0;34m,\u001b[0m \u001b[0mC\u001b[0m\u001b[0;34m,\u001b[0m \u001b[0mA\u001b[0m\u001b[0;34m,\u001b[0m \u001b[0md\u001b[0m\u001b[0;34m,\u001b[0m \u001b[0mp\u001b[0m\u001b[0;34m,\u001b[0m \u001b[0mv\u001b[0m\u001b[0;34m,\u001b[0m \u001b[0mK\u001b[0m\u001b[0;34m)\u001b[0m\u001b[0;34m\u001b[0m\u001b[0m\n\u001b[0m\u001b[1;32m    804\u001b[0m         \u001b[0mS\u001b[0m \u001b[0;34m=\u001b[0m \u001b[0;34m[\u001b[0m \u001b[0mdmp_raise\u001b[0m\u001b[0;34m(\u001b[0m\u001b[0ms\u001b[0m\u001b[0;34m,\u001b[0m \u001b[0;36m1\u001b[0m\u001b[0;34m,\u001b[0m \u001b[0mv\u001b[0m\u001b[0;34m,\u001b[0m \u001b[0mK\u001b[0m\u001b[0;34m)\u001b[0m \u001b[0;32mfor\u001b[0m \u001b[0ms\u001b[0m \u001b[0;32min\u001b[0m \u001b[0mS\u001b[0m \u001b[0;34m]\u001b[0m\u001b[0;34m\u001b[0m\u001b[0m\n\u001b[1;32m    805\u001b[0m \u001b[0;34m\u001b[0m\u001b[0m\n",
      "\u001b[0;32m/usr/local/lib/python2.7/dist-packages/sympy/polys/factortools.pyc\u001b[0m in \u001b[0;36mdmp_zz_diophantine\u001b[0;34m(F, c, A, d, p, u, K)\u001b[0m\n\u001b[1;32m    801\u001b[0m         \u001b[0mv\u001b[0m \u001b[0;34m=\u001b[0m \u001b[0mu\u001b[0m \u001b[0;34m-\u001b[0m \u001b[0;36m1\u001b[0m\u001b[0;34m\u001b[0m\u001b[0m\n\u001b[1;32m    802\u001b[0m \u001b[0;34m\u001b[0m\u001b[0m\n\u001b[0;32m--> 803\u001b[0;31m         \u001b[0mS\u001b[0m \u001b[0;34m=\u001b[0m \u001b[0mdmp_zz_diophantine\u001b[0m\u001b[0;34m(\u001b[0m\u001b[0mG\u001b[0m\u001b[0;34m,\u001b[0m \u001b[0mC\u001b[0m\u001b[0;34m,\u001b[0m \u001b[0mA\u001b[0m\u001b[0;34m,\u001b[0m \u001b[0md\u001b[0m\u001b[0;34m,\u001b[0m \u001b[0mp\u001b[0m\u001b[0;34m,\u001b[0m \u001b[0mv\u001b[0m\u001b[0;34m,\u001b[0m \u001b[0mK\u001b[0m\u001b[0;34m)\u001b[0m\u001b[0;34m\u001b[0m\u001b[0m\n\u001b[0m\u001b[1;32m    804\u001b[0m         \u001b[0mS\u001b[0m \u001b[0;34m=\u001b[0m \u001b[0;34m[\u001b[0m \u001b[0mdmp_raise\u001b[0m\u001b[0;34m(\u001b[0m\u001b[0ms\u001b[0m\u001b[0;34m,\u001b[0m \u001b[0;36m1\u001b[0m\u001b[0;34m,\u001b[0m \u001b[0mv\u001b[0m\u001b[0;34m,\u001b[0m \u001b[0mK\u001b[0m\u001b[0;34m)\u001b[0m \u001b[0;32mfor\u001b[0m \u001b[0ms\u001b[0m \u001b[0;32min\u001b[0m \u001b[0mS\u001b[0m \u001b[0;34m]\u001b[0m\u001b[0;34m\u001b[0m\u001b[0m\n\u001b[1;32m    805\u001b[0m \u001b[0;34m\u001b[0m\u001b[0m\n",
      "\u001b[0;32m/usr/local/lib/python2.7/dist-packages/sympy/polys/factortools.pyc\u001b[0m in \u001b[0;36mdmp_zz_diophantine\u001b[0;34m(F, c, A, d, p, u, K)\u001b[0m\n\u001b[1;32m    821\u001b[0m             \u001b[0;32mif\u001b[0m \u001b[0;32mnot\u001b[0m \u001b[0mdmp_zero_p\u001b[0m\u001b[0;34m(\u001b[0m\u001b[0mC\u001b[0m\u001b[0;34m,\u001b[0m \u001b[0mv\u001b[0m\u001b[0;34m)\u001b[0m\u001b[0;34m:\u001b[0m\u001b[0;34m\u001b[0m\u001b[0m\n\u001b[1;32m    822\u001b[0m                 \u001b[0mC\u001b[0m \u001b[0;34m=\u001b[0m \u001b[0mdmp_quo_ground\u001b[0m\u001b[0;34m(\u001b[0m\u001b[0mC\u001b[0m\u001b[0;34m,\u001b[0m \u001b[0mK\u001b[0m\u001b[0;34m.\u001b[0m\u001b[0mfactorial\u001b[0m\u001b[0;34m(\u001b[0m\u001b[0mk\u001b[0m \u001b[0;34m+\u001b[0m \u001b[0;36m1\u001b[0m\u001b[0;34m)\u001b[0m\u001b[0;34m,\u001b[0m \u001b[0mv\u001b[0m\u001b[0;34m,\u001b[0m \u001b[0mK\u001b[0m\u001b[0;34m)\u001b[0m\u001b[0;34m\u001b[0m\u001b[0m\n\u001b[0;32m--> 823\u001b[0;31m                 \u001b[0mT\u001b[0m \u001b[0;34m=\u001b[0m \u001b[0mdmp_zz_diophantine\u001b[0m\u001b[0;34m(\u001b[0m\u001b[0mG\u001b[0m\u001b[0;34m,\u001b[0m \u001b[0mC\u001b[0m\u001b[0;34m,\u001b[0m \u001b[0mA\u001b[0m\u001b[0;34m,\u001b[0m \u001b[0md\u001b[0m\u001b[0;34m,\u001b[0m \u001b[0mp\u001b[0m\u001b[0;34m,\u001b[0m \u001b[0mv\u001b[0m\u001b[0;34m,\u001b[0m \u001b[0mK\u001b[0m\u001b[0;34m)\u001b[0m\u001b[0;34m\u001b[0m\u001b[0m\n\u001b[0m\u001b[1;32m    824\u001b[0m \u001b[0;34m\u001b[0m\u001b[0m\n\u001b[1;32m    825\u001b[0m                 \u001b[0;32mfor\u001b[0m \u001b[0mi\u001b[0m\u001b[0;34m,\u001b[0m \u001b[0mt\u001b[0m \u001b[0;32min\u001b[0m \u001b[0menumerate\u001b[0m\u001b[0;34m(\u001b[0m\u001b[0mT\u001b[0m\u001b[0;34m)\u001b[0m\u001b[0;34m:\u001b[0m\u001b[0;34m\u001b[0m\u001b[0m\n",
      "\u001b[0;32m/usr/local/lib/python2.7/dist-packages/sympy/polys/factortools.pyc\u001b[0m in \u001b[0;36mdmp_zz_diophantine\u001b[0;34m(F, c, A, d, p, u, K)\u001b[0m\n\u001b[1;32m    801\u001b[0m         \u001b[0mv\u001b[0m \u001b[0;34m=\u001b[0m \u001b[0mu\u001b[0m \u001b[0;34m-\u001b[0m \u001b[0;36m1\u001b[0m\u001b[0;34m\u001b[0m\u001b[0m\n\u001b[1;32m    802\u001b[0m \u001b[0;34m\u001b[0m\u001b[0m\n\u001b[0;32m--> 803\u001b[0;31m         \u001b[0mS\u001b[0m \u001b[0;34m=\u001b[0m \u001b[0mdmp_zz_diophantine\u001b[0m\u001b[0;34m(\u001b[0m\u001b[0mG\u001b[0m\u001b[0;34m,\u001b[0m \u001b[0mC\u001b[0m\u001b[0;34m,\u001b[0m \u001b[0mA\u001b[0m\u001b[0;34m,\u001b[0m \u001b[0md\u001b[0m\u001b[0;34m,\u001b[0m \u001b[0mp\u001b[0m\u001b[0;34m,\u001b[0m \u001b[0mv\u001b[0m\u001b[0;34m,\u001b[0m \u001b[0mK\u001b[0m\u001b[0;34m)\u001b[0m\u001b[0;34m\u001b[0m\u001b[0m\n\u001b[0m\u001b[1;32m    804\u001b[0m         \u001b[0mS\u001b[0m \u001b[0;34m=\u001b[0m \u001b[0;34m[\u001b[0m \u001b[0mdmp_raise\u001b[0m\u001b[0;34m(\u001b[0m\u001b[0ms\u001b[0m\u001b[0;34m,\u001b[0m \u001b[0;36m1\u001b[0m\u001b[0;34m,\u001b[0m \u001b[0mv\u001b[0m\u001b[0;34m,\u001b[0m \u001b[0mK\u001b[0m\u001b[0;34m)\u001b[0m \u001b[0;32mfor\u001b[0m \u001b[0ms\u001b[0m \u001b[0;32min\u001b[0m \u001b[0mS\u001b[0m \u001b[0;34m]\u001b[0m\u001b[0;34m\u001b[0m\u001b[0m\n\u001b[1;32m    805\u001b[0m \u001b[0;34m\u001b[0m\u001b[0m\n",
      "\u001b[0;32m/usr/local/lib/python2.7/dist-packages/sympy/polys/factortools.pyc\u001b[0m in \u001b[0;36mdmp_zz_diophantine\u001b[0;34m(F, c, A, d, p, u, K)\u001b[0m\n\u001b[1;32m    801\u001b[0m         \u001b[0mv\u001b[0m \u001b[0;34m=\u001b[0m \u001b[0mu\u001b[0m \u001b[0;34m-\u001b[0m \u001b[0;36m1\u001b[0m\u001b[0;34m\u001b[0m\u001b[0m\n\u001b[1;32m    802\u001b[0m \u001b[0;34m\u001b[0m\u001b[0m\n\u001b[0;32m--> 803\u001b[0;31m         \u001b[0mS\u001b[0m \u001b[0;34m=\u001b[0m \u001b[0mdmp_zz_diophantine\u001b[0m\u001b[0;34m(\u001b[0m\u001b[0mG\u001b[0m\u001b[0;34m,\u001b[0m \u001b[0mC\u001b[0m\u001b[0;34m,\u001b[0m \u001b[0mA\u001b[0m\u001b[0;34m,\u001b[0m \u001b[0md\u001b[0m\u001b[0;34m,\u001b[0m \u001b[0mp\u001b[0m\u001b[0;34m,\u001b[0m \u001b[0mv\u001b[0m\u001b[0;34m,\u001b[0m \u001b[0mK\u001b[0m\u001b[0;34m)\u001b[0m\u001b[0;34m\u001b[0m\u001b[0m\n\u001b[0m\u001b[1;32m    804\u001b[0m         \u001b[0mS\u001b[0m \u001b[0;34m=\u001b[0m \u001b[0;34m[\u001b[0m \u001b[0mdmp_raise\u001b[0m\u001b[0;34m(\u001b[0m\u001b[0ms\u001b[0m\u001b[0;34m,\u001b[0m \u001b[0;36m1\u001b[0m\u001b[0;34m,\u001b[0m \u001b[0mv\u001b[0m\u001b[0;34m,\u001b[0m \u001b[0mK\u001b[0m\u001b[0;34m)\u001b[0m \u001b[0;32mfor\u001b[0m \u001b[0ms\u001b[0m \u001b[0;32min\u001b[0m \u001b[0mS\u001b[0m \u001b[0;34m]\u001b[0m\u001b[0;34m\u001b[0m\u001b[0m\n\u001b[1;32m    805\u001b[0m \u001b[0;34m\u001b[0m\u001b[0m\n",
      "\u001b[0;32m/usr/local/lib/python2.7/dist-packages/sympy/polys/factortools.pyc\u001b[0m in \u001b[0;36mdmp_zz_diophantine\u001b[0;34m(F, c, A, d, p, u, K)\u001b[0m\n\u001b[1;32m    821\u001b[0m             \u001b[0;32mif\u001b[0m \u001b[0;32mnot\u001b[0m \u001b[0mdmp_zero_p\u001b[0m\u001b[0;34m(\u001b[0m\u001b[0mC\u001b[0m\u001b[0;34m,\u001b[0m \u001b[0mv\u001b[0m\u001b[0;34m)\u001b[0m\u001b[0;34m:\u001b[0m\u001b[0;34m\u001b[0m\u001b[0m\n\u001b[1;32m    822\u001b[0m                 \u001b[0mC\u001b[0m \u001b[0;34m=\u001b[0m \u001b[0mdmp_quo_ground\u001b[0m\u001b[0;34m(\u001b[0m\u001b[0mC\u001b[0m\u001b[0;34m,\u001b[0m \u001b[0mK\u001b[0m\u001b[0;34m.\u001b[0m\u001b[0mfactorial\u001b[0m\u001b[0;34m(\u001b[0m\u001b[0mk\u001b[0m \u001b[0;34m+\u001b[0m \u001b[0;36m1\u001b[0m\u001b[0;34m)\u001b[0m\u001b[0;34m,\u001b[0m \u001b[0mv\u001b[0m\u001b[0;34m,\u001b[0m \u001b[0mK\u001b[0m\u001b[0;34m)\u001b[0m\u001b[0;34m\u001b[0m\u001b[0m\n\u001b[0;32m--> 823\u001b[0;31m                 \u001b[0mT\u001b[0m \u001b[0;34m=\u001b[0m \u001b[0mdmp_zz_diophantine\u001b[0m\u001b[0;34m(\u001b[0m\u001b[0mG\u001b[0m\u001b[0;34m,\u001b[0m \u001b[0mC\u001b[0m\u001b[0;34m,\u001b[0m \u001b[0mA\u001b[0m\u001b[0;34m,\u001b[0m \u001b[0md\u001b[0m\u001b[0;34m,\u001b[0m \u001b[0mp\u001b[0m\u001b[0;34m,\u001b[0m \u001b[0mv\u001b[0m\u001b[0;34m,\u001b[0m \u001b[0mK\u001b[0m\u001b[0;34m)\u001b[0m\u001b[0;34m\u001b[0m\u001b[0m\n\u001b[0m\u001b[1;32m    824\u001b[0m \u001b[0;34m\u001b[0m\u001b[0m\n\u001b[1;32m    825\u001b[0m                 \u001b[0;32mfor\u001b[0m \u001b[0mi\u001b[0m\u001b[0;34m,\u001b[0m \u001b[0mt\u001b[0m \u001b[0;32min\u001b[0m \u001b[0menumerate\u001b[0m\u001b[0;34m(\u001b[0m\u001b[0mT\u001b[0m\u001b[0;34m)\u001b[0m\u001b[0;34m:\u001b[0m\u001b[0;34m\u001b[0m\u001b[0m\n",
      "\u001b[0;32m/usr/local/lib/python2.7/dist-packages/sympy/polys/factortools.pyc\u001b[0m in \u001b[0;36mdmp_zz_diophantine\u001b[0;34m(F, c, A, d, p, u, K)\u001b[0m\n\u001b[1;32m    794\u001b[0m \u001b[0;34m\u001b[0m\u001b[0m\n\u001b[1;32m    795\u001b[0m         \u001b[0;32mfor\u001b[0m \u001b[0mf\u001b[0m \u001b[0;32min\u001b[0m \u001b[0mF\u001b[0m\u001b[0;34m:\u001b[0m\u001b[0;34m\u001b[0m\u001b[0m\n\u001b[0;32m--> 796\u001b[0;31m             \u001b[0mB\u001b[0m\u001b[0;34m.\u001b[0m\u001b[0mappend\u001b[0m\u001b[0;34m(\u001b[0m\u001b[0mdmp_quo\u001b[0m\u001b[0;34m(\u001b[0m\u001b[0me\u001b[0m\u001b[0;34m,\u001b[0m \u001b[0mf\u001b[0m\u001b[0;34m,\u001b[0m \u001b[0mu\u001b[0m\u001b[0;34m,\u001b[0m \u001b[0mK\u001b[0m\u001b[0;34m)\u001b[0m\u001b[0;34m)\u001b[0m\u001b[0;34m\u001b[0m\u001b[0m\n\u001b[0m\u001b[1;32m    797\u001b[0m             \u001b[0mG\u001b[0m\u001b[0;34m.\u001b[0m\u001b[0mappend\u001b[0m\u001b[0;34m(\u001b[0m\u001b[0mdmp_eval_in\u001b[0m\u001b[0;34m(\u001b[0m\u001b[0mf\u001b[0m\u001b[0;34m,\u001b[0m \u001b[0ma\u001b[0m\u001b[0;34m,\u001b[0m \u001b[0mn\u001b[0m\u001b[0;34m,\u001b[0m \u001b[0mu\u001b[0m\u001b[0;34m,\u001b[0m \u001b[0mK\u001b[0m\u001b[0;34m)\u001b[0m\u001b[0;34m)\u001b[0m\u001b[0;34m\u001b[0m\u001b[0m\n\u001b[1;32m    798\u001b[0m \u001b[0;34m\u001b[0m\u001b[0m\n",
      "\u001b[0;32m/usr/local/lib/python2.7/dist-packages/sympy/polys/densearith.pyc\u001b[0m in \u001b[0;36mdmp_quo\u001b[0;34m(f, g, u, K)\u001b[0m\n\u001b[1;32m   1666\u001b[0m \u001b[0;34m\u001b[0m\u001b[0m\n\u001b[1;32m   1667\u001b[0m     \"\"\"\n\u001b[0;32m-> 1668\u001b[0;31m     \u001b[0;32mreturn\u001b[0m \u001b[0mdmp_div\u001b[0m\u001b[0;34m(\u001b[0m\u001b[0mf\u001b[0m\u001b[0;34m,\u001b[0m \u001b[0mg\u001b[0m\u001b[0;34m,\u001b[0m \u001b[0mu\u001b[0m\u001b[0;34m,\u001b[0m \u001b[0mK\u001b[0m\u001b[0;34m)\u001b[0m\u001b[0;34m[\u001b[0m\u001b[0;36m0\u001b[0m\u001b[0;34m]\u001b[0m\u001b[0;34m\u001b[0m\u001b[0m\n\u001b[0m\u001b[1;32m   1669\u001b[0m \u001b[0;34m\u001b[0m\u001b[0m\n\u001b[1;32m   1670\u001b[0m \u001b[0;34m\u001b[0m\u001b[0m\n",
      "\u001b[0;32m/usr/local/lib/python2.7/dist-packages/sympy/polys/densearith.pyc\u001b[0m in \u001b[0;36mdmp_div\u001b[0;34m(f, g, u, K)\u001b[0m\n\u001b[1;32m   1624\u001b[0m         \u001b[0;32mreturn\u001b[0m \u001b[0mdmp_ff_div\u001b[0m\u001b[0;34m(\u001b[0m\u001b[0mf\u001b[0m\u001b[0;34m,\u001b[0m \u001b[0mg\u001b[0m\u001b[0;34m,\u001b[0m \u001b[0mu\u001b[0m\u001b[0;34m,\u001b[0m \u001b[0mK\u001b[0m\u001b[0;34m)\u001b[0m\u001b[0;34m\u001b[0m\u001b[0m\n\u001b[1;32m   1625\u001b[0m     \u001b[0;32melse\u001b[0m\u001b[0;34m:\u001b[0m\u001b[0;34m\u001b[0m\u001b[0m\n\u001b[0;32m-> 1626\u001b[0;31m         \u001b[0;32mreturn\u001b[0m \u001b[0mdmp_rr_div\u001b[0m\u001b[0;34m(\u001b[0m\u001b[0mf\u001b[0m\u001b[0;34m,\u001b[0m \u001b[0mg\u001b[0m\u001b[0;34m,\u001b[0m \u001b[0mu\u001b[0m\u001b[0;34m,\u001b[0m \u001b[0mK\u001b[0m\u001b[0;34m)\u001b[0m\u001b[0;34m\u001b[0m\u001b[0m\n\u001b[0m\u001b[1;32m   1627\u001b[0m \u001b[0;34m\u001b[0m\u001b[0m\n\u001b[1;32m   1628\u001b[0m \u001b[0;34m\u001b[0m\u001b[0m\n",
      "\u001b[0;32m/usr/local/lib/python2.7/dist-packages/sympy/polys/densearith.pyc\u001b[0m in \u001b[0;36mdmp_rr_div\u001b[0;34m(f, g, u, K)\u001b[0m\n\u001b[1;32m   1390\u001b[0m     \u001b[0;32mwhile\u001b[0m \u001b[0mTrue\u001b[0m\u001b[0;34m:\u001b[0m\u001b[0;34m\u001b[0m\u001b[0m\n\u001b[1;32m   1391\u001b[0m         \u001b[0mlc_r\u001b[0m \u001b[0;34m=\u001b[0m \u001b[0mdmp_LC\u001b[0m\u001b[0;34m(\u001b[0m\u001b[0mr\u001b[0m\u001b[0;34m,\u001b[0m \u001b[0mK\u001b[0m\u001b[0;34m)\u001b[0m\u001b[0;34m\u001b[0m\u001b[0m\n\u001b[0;32m-> 1392\u001b[0;31m         \u001b[0mc\u001b[0m\u001b[0;34m,\u001b[0m \u001b[0mR\u001b[0m \u001b[0;34m=\u001b[0m \u001b[0mdmp_rr_div\u001b[0m\u001b[0;34m(\u001b[0m\u001b[0mlc_r\u001b[0m\u001b[0;34m,\u001b[0m \u001b[0mlc_g\u001b[0m\u001b[0;34m,\u001b[0m \u001b[0mv\u001b[0m\u001b[0;34m,\u001b[0m \u001b[0mK\u001b[0m\u001b[0;34m)\u001b[0m\u001b[0;34m\u001b[0m\u001b[0m\n\u001b[0m\u001b[1;32m   1393\u001b[0m \u001b[0;34m\u001b[0m\u001b[0m\n\u001b[1;32m   1394\u001b[0m         \u001b[0;32mif\u001b[0m \u001b[0;32mnot\u001b[0m \u001b[0mdmp_zero_p\u001b[0m\u001b[0;34m(\u001b[0m\u001b[0mR\u001b[0m\u001b[0;34m,\u001b[0m \u001b[0mv\u001b[0m\u001b[0;34m)\u001b[0m\u001b[0;34m:\u001b[0m\u001b[0;34m\u001b[0m\u001b[0m\n",
      "\u001b[0;32m/usr/local/lib/python2.7/dist-packages/sympy/polys/densearith.pyc\u001b[0m in \u001b[0;36mdmp_rr_div\u001b[0;34m(f, g, u, K)\u001b[0m\n\u001b[1;32m   1398\u001b[0m \u001b[0;34m\u001b[0m\u001b[0m\n\u001b[1;32m   1399\u001b[0m         \u001b[0mq\u001b[0m \u001b[0;34m=\u001b[0m \u001b[0mdmp_add_term\u001b[0m\u001b[0;34m(\u001b[0m\u001b[0mq\u001b[0m\u001b[0;34m,\u001b[0m \u001b[0mc\u001b[0m\u001b[0;34m,\u001b[0m \u001b[0mj\u001b[0m\u001b[0;34m,\u001b[0m \u001b[0mu\u001b[0m\u001b[0;34m,\u001b[0m \u001b[0mK\u001b[0m\u001b[0;34m)\u001b[0m\u001b[0;34m\u001b[0m\u001b[0m\n\u001b[0;32m-> 1400\u001b[0;31m         \u001b[0mh\u001b[0m \u001b[0;34m=\u001b[0m \u001b[0mdmp_mul_term\u001b[0m\u001b[0;34m(\u001b[0m\u001b[0mg\u001b[0m\u001b[0;34m,\u001b[0m \u001b[0mc\u001b[0m\u001b[0;34m,\u001b[0m \u001b[0mj\u001b[0m\u001b[0;34m,\u001b[0m \u001b[0mu\u001b[0m\u001b[0;34m,\u001b[0m \u001b[0mK\u001b[0m\u001b[0;34m)\u001b[0m\u001b[0;34m\u001b[0m\u001b[0m\n\u001b[0m\u001b[1;32m   1401\u001b[0m         \u001b[0mr\u001b[0m \u001b[0;34m=\u001b[0m \u001b[0mdmp_sub\u001b[0m\u001b[0;34m(\u001b[0m\u001b[0mr\u001b[0m\u001b[0;34m,\u001b[0m \u001b[0mh\u001b[0m\u001b[0;34m,\u001b[0m \u001b[0mu\u001b[0m\u001b[0;34m,\u001b[0m \u001b[0mK\u001b[0m\u001b[0;34m)\u001b[0m\u001b[0;34m\u001b[0m\u001b[0m\n\u001b[1;32m   1402\u001b[0m \u001b[0;34m\u001b[0m\u001b[0m\n",
      "\u001b[0;32m/usr/local/lib/python2.7/dist-packages/sympy/polys/densearith.pyc\u001b[0m in \u001b[0;36mdmp_mul_term\u001b[0;34m(f, c, i, u, K)\u001b[0m\n\u001b[1;32m    185\u001b[0m         \u001b[0;32mreturn\u001b[0m \u001b[0mdmp_zero\u001b[0m\u001b[0;34m(\u001b[0m\u001b[0mu\u001b[0m\u001b[0;34m)\u001b[0m\u001b[0;34m\u001b[0m\u001b[0m\n\u001b[1;32m    186\u001b[0m     \u001b[0;32melse\u001b[0m\u001b[0;34m:\u001b[0m\u001b[0;34m\u001b[0m\u001b[0m\n\u001b[0;32m--> 187\u001b[0;31m         \u001b[0;32mreturn\u001b[0m \u001b[0;34m[\u001b[0m \u001b[0mdmp_mul\u001b[0m\u001b[0;34m(\u001b[0m\u001b[0mcf\u001b[0m\u001b[0;34m,\u001b[0m \u001b[0mc\u001b[0m\u001b[0;34m,\u001b[0m \u001b[0mv\u001b[0m\u001b[0;34m,\u001b[0m \u001b[0mK\u001b[0m\u001b[0;34m)\u001b[0m \u001b[0;32mfor\u001b[0m \u001b[0mcf\u001b[0m \u001b[0;32min\u001b[0m \u001b[0mf\u001b[0m \u001b[0;34m]\u001b[0m \u001b[0;34m+\u001b[0m \u001b[0mdmp_zeros\u001b[0m\u001b[0;34m(\u001b[0m\u001b[0mi\u001b[0m\u001b[0;34m,\u001b[0m \u001b[0mv\u001b[0m\u001b[0;34m,\u001b[0m \u001b[0mK\u001b[0m\u001b[0;34m)\u001b[0m\u001b[0;34m\u001b[0m\u001b[0m\n\u001b[0m\u001b[1;32m    188\u001b[0m \u001b[0;34m\u001b[0m\u001b[0m\n\u001b[1;32m    189\u001b[0m \u001b[0;34m\u001b[0m\u001b[0m\n",
      "\u001b[0;32m/usr/local/lib/python2.7/dist-packages/sympy/polys/densearith.pyc\u001b[0m in \u001b[0;36mdmp_mul\u001b[0;34m(f, g, u, K)\u001b[0m\n\u001b[1;32m    829\u001b[0m \u001b[0;34m\u001b[0m\u001b[0m\n\u001b[1;32m    830\u001b[0m         \u001b[0;32mfor\u001b[0m \u001b[0mj\u001b[0m \u001b[0;32min\u001b[0m \u001b[0mrange\u001b[0m\u001b[0;34m(\u001b[0m\u001b[0mmax\u001b[0m\u001b[0;34m(\u001b[0m\u001b[0;36m0\u001b[0m\u001b[0;34m,\u001b[0m \u001b[0mi\u001b[0m \u001b[0;34m-\u001b[0m \u001b[0mdg\u001b[0m\u001b[0;34m)\u001b[0m\u001b[0;34m,\u001b[0m \u001b[0mmin\u001b[0m\u001b[0;34m(\u001b[0m\u001b[0mdf\u001b[0m\u001b[0;34m,\u001b[0m \u001b[0mi\u001b[0m\u001b[0;34m)\u001b[0m \u001b[0;34m+\u001b[0m \u001b[0;36m1\u001b[0m\u001b[0;34m)\u001b[0m\u001b[0;34m:\u001b[0m\u001b[0;34m\u001b[0m\u001b[0m\n\u001b[0;32m--> 831\u001b[0;31m             \u001b[0mcoeff\u001b[0m \u001b[0;34m=\u001b[0m \u001b[0mdmp_add\u001b[0m\u001b[0;34m(\u001b[0m\u001b[0mcoeff\u001b[0m\u001b[0;34m,\u001b[0m \u001b[0mdmp_mul\u001b[0m\u001b[0;34m(\u001b[0m\u001b[0mf\u001b[0m\u001b[0;34m[\u001b[0m\u001b[0mj\u001b[0m\u001b[0;34m]\u001b[0m\u001b[0;34m,\u001b[0m \u001b[0mg\u001b[0m\u001b[0;34m[\u001b[0m\u001b[0mi\u001b[0m \u001b[0;34m-\u001b[0m \u001b[0mj\u001b[0m\u001b[0;34m]\u001b[0m\u001b[0;34m,\u001b[0m \u001b[0mv\u001b[0m\u001b[0;34m,\u001b[0m \u001b[0mK\u001b[0m\u001b[0;34m)\u001b[0m\u001b[0;34m,\u001b[0m \u001b[0mv\u001b[0m\u001b[0;34m,\u001b[0m \u001b[0mK\u001b[0m\u001b[0;34m)\u001b[0m\u001b[0;34m\u001b[0m\u001b[0m\n\u001b[0m\u001b[1;32m    832\u001b[0m \u001b[0;34m\u001b[0m\u001b[0m\n\u001b[1;32m    833\u001b[0m         \u001b[0mh\u001b[0m\u001b[0;34m.\u001b[0m\u001b[0mappend\u001b[0m\u001b[0;34m(\u001b[0m\u001b[0mcoeff\u001b[0m\u001b[0;34m)\u001b[0m\u001b[0;34m\u001b[0m\u001b[0m\n",
      "\u001b[0;32m/usr/local/lib/python2.7/dist-packages/sympy/polys/densearith.pyc\u001b[0m in \u001b[0;36mdmp_mul\u001b[0;34m(f, g, u, K)\u001b[0m\n\u001b[1;32m    829\u001b[0m \u001b[0;34m\u001b[0m\u001b[0m\n\u001b[1;32m    830\u001b[0m         \u001b[0;32mfor\u001b[0m \u001b[0mj\u001b[0m \u001b[0;32min\u001b[0m \u001b[0mrange\u001b[0m\u001b[0;34m(\u001b[0m\u001b[0mmax\u001b[0m\u001b[0;34m(\u001b[0m\u001b[0;36m0\u001b[0m\u001b[0;34m,\u001b[0m \u001b[0mi\u001b[0m \u001b[0;34m-\u001b[0m \u001b[0mdg\u001b[0m\u001b[0;34m)\u001b[0m\u001b[0;34m,\u001b[0m \u001b[0mmin\u001b[0m\u001b[0;34m(\u001b[0m\u001b[0mdf\u001b[0m\u001b[0;34m,\u001b[0m \u001b[0mi\u001b[0m\u001b[0;34m)\u001b[0m \u001b[0;34m+\u001b[0m \u001b[0;36m1\u001b[0m\u001b[0;34m)\u001b[0m\u001b[0;34m:\u001b[0m\u001b[0;34m\u001b[0m\u001b[0m\n\u001b[0;32m--> 831\u001b[0;31m             \u001b[0mcoeff\u001b[0m \u001b[0;34m=\u001b[0m \u001b[0mdmp_add\u001b[0m\u001b[0;34m(\u001b[0m\u001b[0mcoeff\u001b[0m\u001b[0;34m,\u001b[0m \u001b[0mdmp_mul\u001b[0m\u001b[0;34m(\u001b[0m\u001b[0mf\u001b[0m\u001b[0;34m[\u001b[0m\u001b[0mj\u001b[0m\u001b[0;34m]\u001b[0m\u001b[0;34m,\u001b[0m \u001b[0mg\u001b[0m\u001b[0;34m[\u001b[0m\u001b[0mi\u001b[0m \u001b[0;34m-\u001b[0m \u001b[0mj\u001b[0m\u001b[0;34m]\u001b[0m\u001b[0;34m,\u001b[0m \u001b[0mv\u001b[0m\u001b[0;34m,\u001b[0m \u001b[0mK\u001b[0m\u001b[0;34m)\u001b[0m\u001b[0;34m,\u001b[0m \u001b[0mv\u001b[0m\u001b[0;34m,\u001b[0m \u001b[0mK\u001b[0m\u001b[0;34m)\u001b[0m\u001b[0;34m\u001b[0m\u001b[0m\n\u001b[0m\u001b[1;32m    832\u001b[0m \u001b[0;34m\u001b[0m\u001b[0m\n\u001b[1;32m    833\u001b[0m         \u001b[0mh\u001b[0m\u001b[0;34m.\u001b[0m\u001b[0mappend\u001b[0m\u001b[0;34m(\u001b[0m\u001b[0mcoeff\u001b[0m\u001b[0;34m)\u001b[0m\u001b[0;34m\u001b[0m\u001b[0m\n",
      "\u001b[0;32m/usr/local/lib/python2.7/dist-packages/sympy/polys/densearith.pyc\u001b[0m in \u001b[0;36mdmp_mul\u001b[0;34m(f, g, u, K)\u001b[0m\n\u001b[1;32m    829\u001b[0m \u001b[0;34m\u001b[0m\u001b[0m\n\u001b[1;32m    830\u001b[0m         \u001b[0;32mfor\u001b[0m \u001b[0mj\u001b[0m \u001b[0;32min\u001b[0m \u001b[0mrange\u001b[0m\u001b[0;34m(\u001b[0m\u001b[0mmax\u001b[0m\u001b[0;34m(\u001b[0m\u001b[0;36m0\u001b[0m\u001b[0;34m,\u001b[0m \u001b[0mi\u001b[0m \u001b[0;34m-\u001b[0m \u001b[0mdg\u001b[0m\u001b[0;34m)\u001b[0m\u001b[0;34m,\u001b[0m \u001b[0mmin\u001b[0m\u001b[0;34m(\u001b[0m\u001b[0mdf\u001b[0m\u001b[0;34m,\u001b[0m \u001b[0mi\u001b[0m\u001b[0;34m)\u001b[0m \u001b[0;34m+\u001b[0m \u001b[0;36m1\u001b[0m\u001b[0;34m)\u001b[0m\u001b[0;34m:\u001b[0m\u001b[0;34m\u001b[0m\u001b[0m\n\u001b[0;32m--> 831\u001b[0;31m             \u001b[0mcoeff\u001b[0m \u001b[0;34m=\u001b[0m \u001b[0mdmp_add\u001b[0m\u001b[0;34m(\u001b[0m\u001b[0mcoeff\u001b[0m\u001b[0;34m,\u001b[0m \u001b[0mdmp_mul\u001b[0m\u001b[0;34m(\u001b[0m\u001b[0mf\u001b[0m\u001b[0;34m[\u001b[0m\u001b[0mj\u001b[0m\u001b[0;34m]\u001b[0m\u001b[0;34m,\u001b[0m \u001b[0mg\u001b[0m\u001b[0;34m[\u001b[0m\u001b[0mi\u001b[0m \u001b[0;34m-\u001b[0m \u001b[0mj\u001b[0m\u001b[0;34m]\u001b[0m\u001b[0;34m,\u001b[0m \u001b[0mv\u001b[0m\u001b[0;34m,\u001b[0m \u001b[0mK\u001b[0m\u001b[0;34m)\u001b[0m\u001b[0;34m,\u001b[0m \u001b[0mv\u001b[0m\u001b[0;34m,\u001b[0m \u001b[0mK\u001b[0m\u001b[0;34m)\u001b[0m\u001b[0;34m\u001b[0m\u001b[0m\n\u001b[0m\u001b[1;32m    832\u001b[0m \u001b[0;34m\u001b[0m\u001b[0m\n\u001b[1;32m    833\u001b[0m         \u001b[0mh\u001b[0m\u001b[0;34m.\u001b[0m\u001b[0mappend\u001b[0m\u001b[0;34m(\u001b[0m\u001b[0mcoeff\u001b[0m\u001b[0;34m)\u001b[0m\u001b[0;34m\u001b[0m\u001b[0m\n",
      "\u001b[0;32m/usr/local/lib/python2.7/dist-packages/sympy/polys/densearith.pyc\u001b[0m in \u001b[0;36mdmp_mul\u001b[0;34m(f, g, u, K)\u001b[0m\n\u001b[1;32m    829\u001b[0m \u001b[0;34m\u001b[0m\u001b[0m\n\u001b[1;32m    830\u001b[0m         \u001b[0;32mfor\u001b[0m \u001b[0mj\u001b[0m \u001b[0;32min\u001b[0m \u001b[0mrange\u001b[0m\u001b[0;34m(\u001b[0m\u001b[0mmax\u001b[0m\u001b[0;34m(\u001b[0m\u001b[0;36m0\u001b[0m\u001b[0;34m,\u001b[0m \u001b[0mi\u001b[0m \u001b[0;34m-\u001b[0m \u001b[0mdg\u001b[0m\u001b[0;34m)\u001b[0m\u001b[0;34m,\u001b[0m \u001b[0mmin\u001b[0m\u001b[0;34m(\u001b[0m\u001b[0mdf\u001b[0m\u001b[0;34m,\u001b[0m \u001b[0mi\u001b[0m\u001b[0;34m)\u001b[0m \u001b[0;34m+\u001b[0m \u001b[0;36m1\u001b[0m\u001b[0;34m)\u001b[0m\u001b[0;34m:\u001b[0m\u001b[0;34m\u001b[0m\u001b[0m\n\u001b[0;32m--> 831\u001b[0;31m             \u001b[0mcoeff\u001b[0m \u001b[0;34m=\u001b[0m \u001b[0mdmp_add\u001b[0m\u001b[0;34m(\u001b[0m\u001b[0mcoeff\u001b[0m\u001b[0;34m,\u001b[0m \u001b[0mdmp_mul\u001b[0m\u001b[0;34m(\u001b[0m\u001b[0mf\u001b[0m\u001b[0;34m[\u001b[0m\u001b[0mj\u001b[0m\u001b[0;34m]\u001b[0m\u001b[0;34m,\u001b[0m \u001b[0mg\u001b[0m\u001b[0;34m[\u001b[0m\u001b[0mi\u001b[0m \u001b[0;34m-\u001b[0m \u001b[0mj\u001b[0m\u001b[0;34m]\u001b[0m\u001b[0;34m,\u001b[0m \u001b[0mv\u001b[0m\u001b[0;34m,\u001b[0m \u001b[0mK\u001b[0m\u001b[0;34m)\u001b[0m\u001b[0;34m,\u001b[0m \u001b[0mv\u001b[0m\u001b[0;34m,\u001b[0m \u001b[0mK\u001b[0m\u001b[0;34m)\u001b[0m\u001b[0;34m\u001b[0m\u001b[0m\n\u001b[0m\u001b[1;32m    832\u001b[0m \u001b[0;34m\u001b[0m\u001b[0m\n\u001b[1;32m    833\u001b[0m         \u001b[0mh\u001b[0m\u001b[0;34m.\u001b[0m\u001b[0mappend\u001b[0m\u001b[0;34m(\u001b[0m\u001b[0mcoeff\u001b[0m\u001b[0;34m)\u001b[0m\u001b[0;34m\u001b[0m\u001b[0m\n",
      "\u001b[0;31mKeyboardInterrupt\u001b[0m: "
     ]
    }
   ],
   "source": [
    "t_star = solve(expand(C.diff(t)),t)"
   ]
  },
  {
   "cell_type": "code",
   "execution_count": null,
   "metadata": {
    "collapsed": true,
    "deletable": true,
    "editable": true
   },
   "outputs": [],
   "source": [
    "a"
   ]
  },
  {
   "cell_type": "code",
   "execution_count": 141,
   "metadata": {
    "collapsed": false,
    "deletable": true,
    "editable": true
   },
   "outputs": [
    {
     "data": {
      "image/png": "[encoded data removed]",
      "text/latex": [
       "$$- \\frac{1}{\\tau_{er} e^{\\frac{t}{\\tau_{er}}}}$$"
      ],
      "text/plain": [
       "     -t     \n",
       "  ───────── \n",
       "  \\tau_{er} \n",
       "-ℯ          \n",
       "────────────\n",
       " \\tau_{er}  "
      ]
     },
     "execution_count": 141,
     "metadata": {},
     "output_type": "execute_result"
    }
   ],
   "source": [
    "exp(a).diff(t)"
   ]
  },
  {
   "cell_type": "code",
   "execution_count": 140,
   "metadata": {
    "collapsed": false,
    "deletable": true,
    "editable": true
   },
   "outputs": [
    {
     "data": {
      "text/plain": [
       "mpf('0.56714329040978384')"
      ]
     },
     "execution_count": 140,
     "metadata": {},
     "output_type": "execute_result"
    }
   ],
   "source": [
    "mpmath.lambertw(1)"
   ]
  },
  {
   "cell_type": "code",
   "execution_count": 138,
   "metadata": {
    "collapsed": false,
    "deletable": true,
    "editable": true
   },
   "outputs": [
    {
     "data": {
      "image/png": "[encoded data removed]",
      "text/latex": [
       "$$\\frac{\\bar{g}_e \\left(- \\frac{1}{\\tau_{er} e^{\\frac{t}{\\tau_{er}}}} + \\frac{1}{\\tau_{ed} e^{\\frac{t}{\\tau_{ed}}}}\\right)}{- \\left(\\frac{\\tau_{er}}{\\tau_{ed}}\\right)^{\\frac{\\tau_{ed}}{\\tau_{ed} - \\tau_{er}}} + \\left(\\frac{\\tau_{er}}{\\tau_{ed}}\\right)^{\\frac{\\tau_{er}}{\\tau_{ed} - \\tau_{er}}}} - \\frac{\\bar{g}_i \\left(- \\frac{1}{\\tau_{ir}} e^{\\frac{1}{\\tau_{ir}} \\left(\\delta_i - t\\right)} + \\frac{1}{\\tau_{id}} e^{\\frac{1}{\\tau_{id}} \\left(\\delta_i - t\\right)}\\right)}{- \\left(\\frac{\\tau_{ir}}{\\tau_{id}}\\right)^{\\frac{\\tau_{id}}{\\tau_{id} - \\tau_{ir}}} + \\left(\\frac{\\tau_{ir}}{\\tau_{id}}\\right)^{\\frac{\\tau_{ir}}{\\tau_{id} - \\tau_{ir}}}}$$"
      ],
      "text/plain": [
       "                          ⎛      -t           -t    ⎞                         \n",
       "                          ⎜   ─────────    ─────────⎟                         \n",
       "                          ⎜   \\tau_{er}    \\tau_{ed}⎟                         \n",
       "                          ⎜  ℯ            ℯ         ⎟                         \n",
       "                 \\bar{g}ₑ⋅⎜- ────────── + ──────────⎟                         \n",
       "                          ⎝  \\tau_{er}    \\tau_{ed} ⎠                         \n",
       "───────────────────────────────────────────────────────────────────── - ──────\n",
       "                   \\tau_{ed}                          \\tau_{er}               \n",
       "             ─────────────────────              ─────────────────────         \n",
       "             \\tau_{ed} - \\tau_{er}              \\tau_{ed} - \\tau_{er}         \n",
       "  ⎛\\tau_{er}⎞                        ⎛\\tau_{er}⎞                          ⎛\\ta\n",
       "- ⎜─────────⎟                      + ⎜─────────⎟                        - ⎜───\n",
       "  ⎝\\tau_{ed}⎠                        ⎝\\tau_{ed}⎠                          ⎝\\ta\n",
       "\n",
       "                  ⎛   \\deltaᵢ - t    \\deltaᵢ - t⎞              \n",
       "                  ⎜   ───────────    ───────────⎟              \n",
       "                  ⎜    \\tau_{ir}      \\tau_{id} ⎟              \n",
       "                  ⎜  ℯ              ℯ           ⎟              \n",
       "         \\bar{g}ᵢ⋅⎜- ──────────── + ────────────⎟              \n",
       "                  ⎝   \\tau_{ir}      \\tau_{id}  ⎠              \n",
       "───────────────────────────────────────────────────────────────\n",
       "             \\tau_{id}                          \\tau_{ir}      \n",
       "       ─────────────────────              ─────────────────────\n",
       "       \\tau_{id} - \\tau_{ir}              \\tau_{id} - \\tau_{ir}\n",
       "u_{ir}⎞                        ⎛\\tau_{ir}⎞                     \n",
       "──────⎟                      + ⎜─────────⎟                     \n",
       "u_{id}⎠                        ⎝\\tau_{id}⎠                     "
      ]
     },
     "execution_count": 138,
     "metadata": {},
     "output_type": "execute_result"
    }
   ],
   "source": [
    "C.diff(t)"
   ]
  },
  {
   "cell_type": "code",
   "execution_count": 131,
   "metadata": {
    "collapsed": false,
    "deletable": true,
    "editable": true
   },
   "outputs": [
    {
     "data": {
      "image/png": "[encoded data removed]",
      "text/latex": [
       "$$\\frac{\\bar{g}_e \\left(- \\frac{1}{e^{\\frac{t}{\\tau_{er}}}} + e^{- \\frac{t}{\\tau_{ed}}}\\right)}{- \\left(\\frac{\\tau_{er}}{\\tau_{ed}}\\right)^{\\frac{\\tau_{ed}}{\\tau_{ed} - \\tau_{er}}} + \\left(\\frac{\\tau_{er}}{\\tau_{ed}}\\right)^{\\frac{\\tau_{er}}{\\tau_{ed} - \\tau_{er}}}} - \\begin{cases} 0 & \\text{for}\\: t < \\delta_i \\\\\\frac{\\bar{g}_i \\left(e^{\\frac{1}{\\tau_{id}} \\left(\\delta_i - t\\right)} - e^{\\frac{1}{\\tau_{ir}} \\left(\\delta_i - t\\right)}\\right)}{- \\left(\\frac{\\tau_{ir}}{\\tau_{id}}\\right)^{\\frac{\\tau_{id}}{\\tau_{id} - \\tau_{ir}}} + \\left(\\frac{\\tau_{ir}}{\\tau_{id}}\\right)^{\\frac{\\tau_{ir}}{\\tau_{id} - \\tau_{ir}}}} & \\text{otherwise} \\end{cases}$$"
      ],
      "text/plain": [
       "                                                                        ⎛⎧    \n",
       "                                                                        ⎜⎪    \n",
       "                          ⎛      -t           -t    ⎞                   ⎜⎪    \n",
       "                          ⎜   ─────────    ─────────⎟                   ⎜⎪    \n",
       "                          ⎜   \\tau_{er}    \\tau_{ed}⎟                   ⎜⎪    \n",
       "                 \\bar{g}ₑ⋅⎝- ℯ          + ℯ         ⎠                   ⎜⎪    \n",
       "───────────────────────────────────────────────────────────────────── - ⎜⎨────\n",
       "                   \\tau_{ed}                          \\tau_{er}         ⎜⎪    \n",
       "             ─────────────────────              ─────────────────────   ⎜⎪    \n",
       "             \\tau_{ed} - \\tau_{er}              \\tau_{ed} - \\tau_{er}   ⎜⎪    \n",
       "  ⎛\\tau_{er}⎞                        ⎛\\tau_{er}⎞                        ⎜⎪  ⎛\\\n",
       "- ⎜─────────⎟                      + ⎜─────────⎟                        ⎜⎪- ⎜─\n",
       "  ⎝\\tau_{ed}⎠                        ⎝\\tau_{ed}⎠                        ⎝⎩  ⎝\\\n",
       "\n",
       "                              0                                    for t < \\de\n",
       "                                                                              \n",
       "                     ⎛ \\deltaᵢ - t    \\deltaᵢ - t⎞                            \n",
       "                     ⎜ ───────────    ───────────⎟                            \n",
       "                     ⎜  \\tau_{id}      \\tau_{ir} ⎟                            \n",
       "            \\bar{g}ᵢ⋅⎝ℯ            - ℯ           ⎠                            \n",
       "─────────────────────────────────────────────────────────────────     otherwis\n",
       "               \\tau_{id}                          \\tau_{ir}                   \n",
       "         ─────────────────────              ─────────────────────             \n",
       "         \\tau_{id} - \\tau_{ir}              \\tau_{id} - \\tau_{ir}             \n",
       "tau_{ir}⎞                        ⎛\\tau_{ir}⎞                                  \n",
       "────────⎟                      + ⎜─────────⎟                                  \n",
       "tau_{id}⎠                        ⎝\\tau_{id}⎠                                  \n",
       "\n",
       "ltaᵢ⎞\n",
       "    ⎟\n",
       "    ⎟\n",
       "    ⎟\n",
       "    ⎟\n",
       "    ⎟\n",
       "e   ⎟\n",
       "    ⎟\n",
       "    ⎟\n",
       "    ⎟\n",
       "    ⎟\n",
       "    ⎟\n",
       "    ⎠"
      ]
     },
     "execution_count": 131,
     "metadata": {},
     "output_type": "execute_result"
    }
   ],
   "source": [
    "powsimp(C.subs({-t/e_r:a, -t/e_d:b, -(t - delta_i)/i_r:c, -(t - delta_i)/i_d:d}))"
   ]
  },
  {
   "cell_type": "code",
   "execution_count": 132,
   "metadata": {
    "collapsed": false,
    "deletable": true,
    "editable": true
   },
   "outputs": [
    {
     "data": {
      "image/png": "[encoded data removed]",
      "text/latex": [
       "$$e^{\\frac{1}{\\tau_{ed}} \\left(\\delta_e - t\\right)} - e^{\\frac{1}{\\tau_{er}} \\left(\\delta_e - t\\right)}$$"
      ],
      "text/plain": [
       " \\deltaₑ - t    \\deltaₑ - t\n",
       " ───────────    ───────────\n",
       "  \\tau_{ed}      \\tau_{er} \n",
       "ℯ            - ℯ           "
      ]
     },
     "execution_count": 132,
     "metadata": {},
     "output_type": "execute_result"
    }
   ],
   "source": []
  },
  {
   "cell_type": "code",
   "execution_count": 129,
   "metadata": {
    "collapsed": false,
    "deletable": true,
    "editable": true
   },
   "outputs": [],
   "source": [
    "piecewise_C_star = simplify(ratsimp(factor(C_prime))).args"
   ]
  },
  {
   "cell_type": "code",
   "execution_count": null,
   "metadata": {
    "collapsed": false,
    "deletable": true,
    "editable": true
   },
   "outputs": [],
   "source": [
    "C_star_1 = simplify(piecewise_C_star[1][0])"
   ]
  },
  {
   "cell_type": "code",
   "execution_count": null,
   "metadata": {
    "collapsed": false,
    "deletable": true,
    "editable": true
   },
   "outputs": [],
   "source": [
    "C_star_1.args"
   ]
  },
  {
   "cell_type": "code",
   "execution_count": null,
   "metadata": {
    "collapsed": false,
    "deletable": true,
    "editable": true
   },
   "outputs": [],
   "source": [
    "simplify(solveset(C_star_1.args[5],t).doit())"
   ]
  },
  {
   "cell_type": "code",
   "execution_count": null,
   "metadata": {
    "collapsed": false,
    "deletable": true,
    "editable": true
   },
   "outputs": [],
   "source": [
    "factor(C_star_1).collect(exp(t)).args"
   ]
  },
  {
   "cell_type": "code",
   "execution_count": null,
   "metadata": {
    "collapsed": false,
    "deletable": true,
    "editable": true
   },
   "outputs": [],
   "source": [
    "expand_log(factor(C_prime))"
   ]
  },
  {
   "cell_type": "code",
   "execution_count": null,
   "metadata": {
    "collapsed": false,
    "deletable": true,
    "editable": true
   },
   "outputs": [],
   "source": [
    "denominator"
   ]
  },
  {
   "cell_type": "code",
   "execution_count": null,
   "metadata": {
    "collapsed": false,
    "deletable": true,
    "editable": true
   },
   "outputs": [],
   "source": [
    "-x[5]/((i_d*exp(x[13]*x[9])) - (i_r*(exp(x[13]/i_d))))"
   ]
  },
  {
   "cell_type": "code",
   "execution_count": null,
   "metadata": {
    "collapsed": false,
    "deletable": true,
    "editable": true
   },
   "outputs": [],
   "source": [
    "j,k = symbols({'J','K'})"
   ]
  },
  {
   "cell_type": "code",
   "execution_count": null,
   "metadata": {
    "collapsed": false,
    "deletable": true,
    "editable": true
   },
   "outputs": [],
   "source": [
    "new_eq = simplify(C_prime.subs({e_d:e_r*((j+1)/(j-1)), i_d:i_r*((k+1)/(k-1))}))"
   ]
  },
  {
   "cell_type": "code",
   "execution_count": null,
   "metadata": {
    "collapsed": false,
    "deletable": true,
    "editable": true
   },
   "outputs": [],
   "source": [
    "refine(powsimp(new_eq.as_numer_denom()))"
   ]
  },
  {
   "cell_type": "code",
   "execution_count": null,
   "metadata": {
    "collapsed": false,
    "deletable": true,
    "editable": true
   },
   "outputs": [],
   "source": [
    "eq_1 = latex(\"\\bar{g}_e*\\tau_{er}*(-P*\\rho_e*\\rho_i**(\\rho_i/(\\rho_i - 1) - 1 + 1/(\\rho_i - 1))*(\\rho_e**(\\rho_e/(\\rho_e - 1)) - \\rho_e**(1/(\\rho_e - 1)))*(\\rho_i*exp((\\delta_i - t)/(\\beta*\\tau_{er})) - exp((\\delta_i - t)/(\\beta*\\rho_i*\\tau_{er})))*exp(t*(\\rho_e + 1)/(\\rho_e*\\tau_{er}))/(\\beta*(\\rho_i**(\\rho_i/(\\rho_i - 1)) - \\rho_i**(1/(\\rho_i - 1)))) + \\rho_e**((\\rho_e + 1)/(\\rho_e - 1))*(\\rho_e*exp(t/(\\rho_e*\\tau_{er})) - exp(t/\\tau_{er})))\")"
   ]
  },
  {
   "cell_type": "code",
   "execution_count": null,
   "metadata": {
    "collapsed": false,
    "deletable": true,
    "editable": true
   },
   "outputs": [],
   "source": [
    "eq_1"
   ]
  },
  {
   "cell_type": "code",
   "execution_count": null,
   "metadata": {
    "collapsed": false,
    "deletable": true,
    "editable": true
   },
   "outputs": [],
   "source": [
    "C.diff(t).diff(t)"
   ]
  },
  {
   "cell_type": "code",
   "execution_count": null,
   "metadata": {
    "collapsed": false,
    "deletable": true,
    "editable": true
   },
   "outputs": [],
   "source": [
    "t_star = (delta_i - (b*e_r*log((P*(rho_i+1)*rho_e)/((rho_e+1)*rho_i))))/(b+1)"
   ]
  },
  {
   "cell_type": "code",
   "execution_count": null,
   "metadata": {
    "collapsed": false,
    "deletable": true,
    "editable": true
   },
   "outputs": [],
   "source": [
    "t_star.subs(averageEstimateDict)"
   ]
  },
  {
   "cell_type": "code",
   "execution_count": null,
   "metadata": {
    "collapsed": false,
    "deletable": true,
    "editable": true
   },
   "outputs": [],
   "source": [
    "N(delta_i.subs(averageEstimateDict))"
   ]
  },
  {
   "cell_type": "markdown",
   "metadata": {
    "deletable": true,
    "editable": true
   },
   "source": [
    "<div></div>"
   ]
  },
  {
   "cell_type": "markdown",
   "metadata": {
    "deletable": true,
    "editable": true
   },
   "source": [
    "### Unfortunately this is not possible: Since the $\\tau_{decay}$ will not contribute to the first peak, we can eliminate them."
   ]
  },
  {
   "cell_type": "code",
   "execution_count": null,
   "metadata": {
    "collapsed": false,
    "deletable": true,
    "editable": true
   },
   "outputs": [],
   "source": [
    "erise = Piecewise((0, t < delta_e), (g_e * (exp(-(t-delta_e)/e_r)/alpha_star), True))"
   ]
  },
  {
   "cell_type": "code",
   "execution_count": null,
   "metadata": {
    "collapsed": true,
    "deletable": true,
    "editable": true
   },
   "outputs": [],
   "source": [
    "efall = Piecewise((0, t < delta_e), (g_e * (exp(-(t-delta_e)/e_d)/alpha_star), True))"
   ]
  },
  {
   "cell_type": "code",
   "execution_count": null,
   "metadata": {
    "collapsed": false,
    "deletable": true,
    "editable": true
   },
   "outputs": [],
   "source": [
    "irise = erise.subs({g_e: g_i, rho_e: rho_i, e_r:i_r, e_d: i_d, delta_e: delta_i})"
   ]
  },
  {
   "cell_type": "code",
   "execution_count": null,
   "metadata": {
    "collapsed": true,
    "deletable": true,
    "editable": true
   },
   "outputs": [],
   "source": [
    "ifall = efall.subs({g_e: g_i, rho_e: rho_i, e_r:i_r, e_d: i_d, delta_e: delta_i})"
   ]
  },
  {
   "cell_type": "code",
   "execution_count": null,
   "metadata": {
    "collapsed": false,
    "deletable": true,
    "editable": true
   },
   "outputs": [],
   "source": [
    "C = C.subs({g_i: g_e*P, i_r : e_r*b}) # Replacing g_i with P*ge\n",
    "C = C.subs({delta_e:0})"
   ]
  },
  {
   "cell_type": "code",
   "execution_count": null,
   "metadata": {
    "collapsed": false,
    "deletable": true,
    "editable": true
   },
   "outputs": [],
   "source": [
    "C"
   ]
  },
  {
   "cell_type": "code",
   "execution_count": null,
   "metadata": {
    "collapsed": false,
    "deletable": true,
    "editable": true
   },
   "outputs": [],
   "source": [
    "C_check = C.subs({P:0, delta_i:2})"
   ]
  },
  {
   "cell_type": "code",
   "execution_count": null,
   "metadata": {
    "collapsed": false,
    "deletable": true,
    "editable": true
   },
   "outputs": [],
   "source": [
    "C_check"
   ]
  },
  {
   "cell_type": "code",
   "execution_count": null,
   "metadata": {
    "collapsed": false,
    "deletable": true,
    "editable": true
   },
   "outputs": [],
   "source": [
    "C"
   ]
  },
  {
   "cell_type": "code",
   "execution_count": null,
   "metadata": {
    "collapsed": false,
    "deletable": true,
    "editable": true
   },
   "outputs": [],
   "source": [
    "C.diff(t)"
   ]
  },
  {
   "cell_type": "code",
   "execution_count": null,
   "metadata": {
    "collapsed": false,
    "deletable": true,
    "editable": true
   },
   "outputs": [],
   "source": [
    "averageEstimateDict"
   ]
  },
  {
   "cell_type": "code",
   "execution_count": null,
   "metadata": {
    "collapsed": true,
    "deletable": true,
    "editable": true
   },
   "outputs": [],
   "source": [
    "C_check = N(C.subs(averageEstimateDict))"
   ]
  },
  {
   "cell_type": "code",
   "execution_count": null,
   "metadata": {
    "collapsed": false,
    "deletable": true,
    "editable": true
   },
   "outputs": [],
   "source": [
    "C_check"
   ]
  },
  {
   "cell_type": "markdown",
   "metadata": {
    "deletable": true,
    "editable": true
   },
   "source": [
    "### Verifying that C behaves"
   ]
  },
  {
   "cell_type": "code",
   "execution_count": null,
   "metadata": {
    "collapsed": false,
    "deletable": true,
    "editable": true
   },
   "outputs": [],
   "source": [
    "plot(C_check,(t,0,100))"
   ]
  },
  {
   "cell_type": "code",
   "execution_count": null,
   "metadata": {
    "collapsed": false,
    "deletable": true,
    "editable": true
   },
   "outputs": [],
   "source": [
    "plot(erise.subs(averageEstimateDict),(t,0,100))"
   ]
  },
  {
   "cell_type": "code",
   "execution_count": null,
   "metadata": {
    "collapsed": false,
    "deletable": true,
    "editable": true
   },
   "outputs": [],
   "source": [
    "plot(((efall-erise)-(-irise)).subs(averageEstimateDict),(t,0,100))"
   ]
  },
  {
   "cell_type": "code",
   "execution_count": null,
   "metadata": {
    "collapsed": false,
    "deletable": true,
    "editable": true
   },
   "outputs": [],
   "source": [
    "plot(((efall-erise)-(ifall-irise)).subs(averageEstimateDict),(t,0,100))"
   ]
  },
  {
   "cell_type": "code",
   "execution_count": null,
   "metadata": {
    "collapsed": false,
    "deletable": true,
    "editable": true
   },
   "outputs": [],
   "source": [
    "plot((E-I).subs(averageEstimateDict),(t,0,100))"
   ]
  },
  {
   "cell_type": "code",
   "execution_count": null,
   "metadata": {
    "collapsed": true,
    "deletable": true,
    "editable": true
   },
   "outputs": [],
   "source": [
    "C_check = N(C.subs({rho_e:7, rho_i: 15}))"
   ]
  },
  {
   "cell_type": "code",
   "execution_count": null,
   "metadata": {
    "collapsed": false,
    "deletable": true,
    "editable": true
   },
   "outputs": [],
   "source": [
    "C_check"
   ]
  },
  {
   "cell_type": "code",
   "execution_count": null,
   "metadata": {
    "collapsed": false,
    "deletable": true,
    "editable": true
   },
   "outputs": [],
   "source": [
    "C_check = C_check.subs(averageEstimateDict)"
   ]
  },
  {
   "cell_type": "code",
   "execution_count": null,
   "metadata": {
    "collapsed": false,
    "deletable": true,
    "editable": true
   },
   "outputs": [],
   "source": [
    "plot(C_check,(t,0,100))"
   ]
  },
  {
   "cell_type": "code",
   "execution_count": null,
   "metadata": {
    "collapsed": false,
    "deletable": true,
    "editable": true
   },
   "outputs": [],
   "source": [
    "C_prime = diff(C,t)"
   ]
  },
  {
   "cell_type": "code",
   "execution_count": null,
   "metadata": {
    "collapsed": true,
    "deletable": true,
    "editable": true
   },
   "outputs": [],
   "source": [
    "C_prime_check = N(C_prime.subs(averageEstimateDict))"
   ]
  },
  {
   "cell_type": "code",
   "execution_count": null,
   "metadata": {
    "collapsed": false,
    "deletable": true,
    "editable": true
   },
   "outputs": [],
   "source": [
    "plot(C_prime_check,(t,0,100))"
   ]
  },
  {
   "cell_type": "code",
   "execution_count": null,
   "metadata": {
    "collapsed": false,
    "deletable": true,
    "editable": true
   },
   "outputs": [],
   "source": [
    "C_prime_prime = diff(C_prime,t)"
   ]
  },
  {
   "cell_type": "code",
   "execution_count": null,
   "metadata": {
    "collapsed": false,
    "deletable": true,
    "editable": true
   },
   "outputs": [],
   "source": [
    "C_prime_prime_check = N(C_prime_prime.subs(averageEstimateDict))"
   ]
  },
  {
   "cell_type": "code",
   "execution_count": null,
   "metadata": {
    "collapsed": false,
    "deletable": true,
    "editable": true
   },
   "outputs": [],
   "source": [
    "plot(C_prime_prime_check,(t,0,100))"
   ]
  },
  {
   "cell_type": "markdown",
   "metadata": {
    "deletable": true,
    "editable": true
   },
   "source": [
    "<div></div>"
   ]
  },
  {
   "cell_type": "code",
   "execution_count": null,
   "metadata": {
    "collapsed": false,
    "deletable": true,
    "editable": true
   },
   "outputs": [],
   "source": [
    "simplify(C)"
   ]
  },
  {
   "cell_type": "code",
   "execution_count": null,
   "metadata": {
    "collapsed": true,
    "deletable": true,
    "editable": true
   },
   "outputs": [],
   "source": []
  },
  {
   "cell_type": "code",
   "execution_count": null,
   "metadata": {
    "collapsed": true,
    "deletable": true,
    "editable": true
   },
   "outputs": [],
   "source": []
  },
  {
   "cell_type": "code",
   "execution_count": null,
   "metadata": {
    "collapsed": true,
    "deletable": true,
    "editable": true
   },
   "outputs": [],
   "source": [
    "C_prime = diff(C,t)"
   ]
  },
  {
   "cell_type": "code",
   "execution_count": null,
   "metadata": {
    "collapsed": false,
    "deletable": true,
    "editable": true,
    "scrolled": true
   },
   "outputs": [],
   "source": [
    "C_prime"
   ]
  },
  {
   "cell_type": "code",
   "execution_count": null,
   "metadata": {
    "collapsed": false,
    "deletable": true,
    "editable": true
   },
   "outputs": [],
   "source": [
    "theta_C = solve(C_prime, t)"
   ]
  },
  {
   "cell_type": "code",
   "execution_count": null,
   "metadata": {
    "collapsed": false,
    "deletable": true,
    "editable": true
   },
   "outputs": [],
   "source": [
    "theta_C"
   ]
  },
  {
   "cell_type": "code",
   "execution_count": null,
   "metadata": {
    "collapsed": false,
    "deletable": true,
    "editable": true
   },
   "outputs": [],
   "source": [
    "C_star = C.subs(t, theta_C[0])"
   ]
  },
  {
   "cell_type": "code",
   "execution_count": null,
   "metadata": {
    "collapsed": false,
    "deletable": true,
    "editable": true
   },
   "outputs": [],
   "source": [
    "C_star = C_star.subs(delta_e,0.) # Putting excitatory delay to zero"
   ]
  },
  {
   "cell_type": "markdown",
   "metadata": {
    "deletable": true,
    "editable": true
   },
   "source": [
    "### Assuming that certain ratios are more than one and substituting"
   ]
  },
  {
   "cell_type": "code",
   "execution_count": null,
   "metadata": {
    "collapsed": false,
    "deletable": true,
    "editable": true
   },
   "outputs": [],
   "source": [
    "C_star = C_star.subs({i_d: (i_r*tau_i)+i_r, e_d: (e_r*tau_e)+e_r, g_i: g_e*P, i_r:e_r*b}) # Replacing e_d/e_r with tau_e"
   ]
  },
  {
   "cell_type": "code",
   "execution_count": null,
   "metadata": {
    "collapsed": false,
    "deletable": true,
    "editable": true
   },
   "outputs": [],
   "source": [
    "C_star = cancel(powsimp(factor(C_star), deep=True))"
   ]
  },
  {
   "cell_type": "code",
   "execution_count": null,
   "metadata": {
    "collapsed": false,
    "deletable": true,
    "editable": true
   },
   "outputs": [],
   "source": [
    "C_star = C_star.collect([g_e, delta_i, P])"
   ]
  },
  {
   "cell_type": "code",
   "execution_count": null,
   "metadata": {
    "collapsed": false,
    "deletable": true,
    "editable": true
   },
   "outputs": [],
   "source": [
    "#C_star1 = limit(limit(C_star, (1/tau_e), 0), (1/tau_i),0)"
   ]
  },
  {
   "cell_type": "code",
   "execution_count": null,
   "metadata": {
    "collapsed": false,
    "deletable": true,
    "editable": true,
    "scrolled": true
   },
   "outputs": [],
   "source": [
    "#simplify(C_star.subs({e_r: 4., i_r: 2.73, g_i:P*g_e, e_d: g_e*b, i_d : g_e*g, delta_i: theta/g_e }))"
   ]
  },
  {
   "cell_type": "code",
   "execution_count": null,
   "metadata": {
    "collapsed": false,
    "deletable": true,
    "editable": true,
    "scrolled": true
   },
   "outputs": [],
   "source": [
    "#cancel(C_star1.together(deep=True))"
   ]
  },
  {
   "cell_type": "code",
   "execution_count": null,
   "metadata": {
    "collapsed": false,
    "deletable": true,
    "editable": true
   },
   "outputs": [],
   "source": [
    "C_star.free_symbols"
   ]
  },
  {
   "cell_type": "code",
   "execution_count": null,
   "metadata": {
    "collapsed": false,
    "deletable": true,
    "editable": true
   },
   "outputs": [],
   "source": [
    "#tau_e1, tau_i1 = symbols('\\\\tau_{e1} \\\\tau_{i1}', real=True, positive=True)"
   ]
  },
  {
   "cell_type": "code",
   "execution_count": null,
   "metadata": {
    "collapsed": false,
    "deletable": true,
    "editable": true
   },
   "outputs": [],
   "source": [
    "#simplify(C_star.subs({tau_e:tau_e1+1, tau_i:tau_i1+1}))"
   ]
  },
  {
   "cell_type": "code",
   "execution_count": null,
   "metadata": {
    "collapsed": false,
    "deletable": true,
    "editable": true
   },
   "outputs": [],
   "source": [
    "C_star = simplify(C_star)"
   ]
  },
  {
   "cell_type": "code",
   "execution_count": null,
   "metadata": {
    "collapsed": false,
    "deletable": true,
    "editable": true
   },
   "outputs": [],
   "source": [
    "C_star"
   ]
  },
  {
   "cell_type": "code",
   "execution_count": null,
   "metadata": {
    "collapsed": false,
    "deletable": true,
    "editable": true
   },
   "outputs": [],
   "source": [
    "cse(C_star)"
   ]
  },
  {
   "cell_type": "code",
   "execution_count": null,
   "metadata": {
    "collapsed": false,
    "deletable": true,
    "editable": true
   },
   "outputs": [],
   "source": [
    "cse(simplify(diff(C_star,g_e)))"
   ]
  },
  {
   "cell_type": "code",
   "execution_count": null,
   "metadata": {
    "collapsed": false,
    "deletable": true,
    "editable": true
   },
   "outputs": [],
   "source": [
    "x = Symbol('x')"
   ]
  },
  {
   "cell_type": "code",
   "execution_count": null,
   "metadata": {
    "collapsed": false,
    "deletable": true,
    "editable": true
   },
   "outputs": [],
   "source": [
    "y = x**(1/x)"
   ]
  },
  {
   "cell_type": "code",
   "execution_count": null,
   "metadata": {
    "collapsed": false,
    "deletable": true,
    "editable": true
   },
   "outputs": [],
   "source": [
    "y.subs(x,40).evalf()"
   ]
  },
  {
   "cell_type": "code",
   "execution_count": null,
   "metadata": {
    "collapsed": false,
    "deletable": true,
    "editable": true
   },
   "outputs": [],
   "source": [
    "theta_C_nice = simplify(theta_C[0].subs({i_d: (i_r*tau_i)+i_r, e_d: (e_r*tau_e)+e_r, g_i: g_e*P}))"
   ]
  },
  {
   "cell_type": "code",
   "execution_count": null,
   "metadata": {
    "collapsed": false,
    "deletable": true,
    "editable": true
   },
   "outputs": [],
   "source": [
    "cse(cancel(expand(theta_C_nice)))"
   ]
  },
  {
   "cell_type": "code",
   "execution_count": null,
   "metadata": {
    "collapsed": false,
    "deletable": true,
    "editable": true
   },
   "outputs": [],
   "source": [
    "theta_C_nice"
   ]
  },
  {
   "cell_type": "code",
   "execution_count": null,
   "metadata": {
    "collapsed": false,
    "deletable": true,
    "editable": true
   },
   "outputs": [],
   "source": [
    "limit(x/(x-1),x,5)"
   ]
  },
  {
   "cell_type": "code",
   "execution_count": null,
   "metadata": {
    "collapsed": false,
    "deletable": true,
    "editable": true
   },
   "outputs": [],
   "source": [
    "log(-2)"
   ]
  },
  {
   "cell_type": "code",
   "execution_count": null,
   "metadata": {
    "collapsed": true,
    "deletable": true,
    "editable": true
   },
   "outputs": [],
   "source": []
  }
 ],
 "metadata": {
  "kernelspec": {
   "display_name": "Python 2",
   "language": "python",
   "name": "python2"
  },
  "language_info": {
   "codemirror_mode": {
    "name": "ipython",
    "version": 2
   },
   "file_extension": ".py",
   "mimetype": "text/x-python",
   "name": "python",
   "nbconvert_exporter": "python",
   "pygments_lexer": "ipython2",
   "version": "2.7.12"
  }
 },
 "nbformat": 4,
 "nbformat_minor": 2
}
