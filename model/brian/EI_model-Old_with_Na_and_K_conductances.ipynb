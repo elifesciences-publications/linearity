{
 "cells": [
  {
   "cell_type": "code",
   "execution_count": 2,
   "metadata": {},
   "outputs": [
    {
     "name": "stderr",
     "output_type": "stream",
     "text": [
      "/usr/local/lib/python2.7/dist-packages/brian2/core/variables.py:174: FutureWarning: Conversion of the second argument of issubdtype from `float` to `np.floating` is deprecated. In future, it will be treated as `np.float64 == np.dtype(float).type`.\n",
      "  return np.issubdtype(np.bool, self.dtype)\n"
     ]
    }
   ],
   "source": [
    "from brian2 import *"
   ]
  },
  {
   "cell_type": "code",
   "execution_count": 3,
   "metadata": {},
   "outputs": [],
   "source": [
    "import matplotlib.pyplot as plt"
   ]
  },
  {
   "cell_type": "code",
   "execution_count": 4,
   "metadata": {},
   "outputs": [],
   "source": [
    "def randomInput(K, N):\n",
    "    arr = np.zeros(N)\n",
    "    arr[:K]  = 1\n",
    "    np.random.shuffle(arr)\n",
    "    return arr"
   ]
  },
  {
   "cell_type": "code",
   "execution_count": 37,
   "metadata": {},
   "outputs": [
    {
     "name": "stdout",
     "output_type": "stream",
     "text": [
      "Starting simulation at t=0. s for a duration of 100. ms\n",
      "0.1 (100%) simulated in < 1s\n"
     ]
    }
   ],
   "source": [
    "# Parameters\n",
    "Cm = 100*pF\n",
    "gl = 6.25*nS # This was initially 5e-5 siemens\n",
    "\n",
    "El = -65*mV # Was -60mV\n",
    "# EK = -90*mV\n",
    "# ENa = 50*mV\n",
    "# g_na = 100*msiemens\n",
    "# g_kd = 30*msiemens\n",
    "# VT = -63*mV\n",
    "# Time constants\n",
    "\n",
    "taue = 10 *ms\n",
    "taui = 10 *ms\n",
    "\n",
    "# taue_r = 5*ms\n",
    "# taue_d = 5*ms\n",
    "\n",
    "# taui_r = 10*ms\n",
    "# taui_d = 10*ms\n",
    "\n",
    "# Reversal potentials\n",
    "Ee = 0*mV\n",
    "Ei = -80*mV\n",
    "we = 10*nS  # excitatory synaptic weight\n",
    "wi = 20*nS  # inhibitory synaptic weight, was -67 nS\n",
    "\n",
    "## Connectivity\n",
    "p_CA3_CA1 = 0.05\n",
    "p_CA3_I = 0.05\n",
    "p_I_CA1 = 0.05\n",
    "\n",
    "K = 10 # Number of neurons stimulated\n",
    "\n",
    "# The model\n",
    "\n",
    "### CA3\n",
    "spiking_eqs = Equations('''\n",
    "dv_/dt = (-v_+inp)/(20*ms) : 1\n",
    "inp : 1\n",
    "''')\n",
    "\n",
    "### Interneurons\n",
    "eqs_I = Equations('''\n",
    "dv/dt = (gl*(El-v)+ge*(Ee-v))/Cm : volt\n",
    "dge/dt = -ge*(1./taue) : siemens\n",
    "dgi/dt = -gi*(1./taui) : siemens\n",
    "''')\n",
    "\n",
    "### CA1\n",
    "eqs_CA1 = Equations('''\n",
    "dv/dt = (gl*(El-v)+ge*(Ee-v)+gi*(Ei-v))/Cm : volt\n",
    "dge/dt = -ge*(1./taue) : siemens\n",
    "dgi/dt = -gi*(1./taui) : siemens\n",
    "''')\n",
    "\n",
    "# ### Interneurons\n",
    "# eqs_I = Equations('''\n",
    "# dv/dt = (gl*(El-v)+ge*(Ee-v)+gi*(Ei-v)-\n",
    "#          g_na*(m*m*m)*h*(v-ENa)-\n",
    "#          g_kd*(n*n*n*n)*(v-EK))/Cm : volt\n",
    "# dm/dt = alpha_m*(1-m)-beta_m*m : 1\n",
    "# dn/dt = alpha_n*(1-n)-beta_n*n : 1\n",
    "# dh/dt = alpha_h*(1-h)-beta_h*h : 1\n",
    "\n",
    "# dge/dt = -ge*(1./taue) : siemens\n",
    "# dgi/dt = -gi*(1./taui) : siemens\n",
    "\n",
    "# alpha_m = 0.32*(mV**-1)*(13*mV-v+VT)/\n",
    "#          (exp((13*mV-v+VT)/(4*mV))-1.)/ms : Hz\n",
    "# beta_m = 0.28*(mV**-1)*(v-VT-40*mV)/\n",
    "#         (exp((v-VT-40*mV)/(5*mV))-1)/ms : Hz\n",
    "# alpha_h = 0.128*exp((17*mV-v+VT)/(18*mV))/ms : Hz\n",
    "# beta_h = 4./(1+exp((40*mV-v+VT)/(5*mV)))/ms : Hz\n",
    "# alpha_n = 0.032*(mV**-1)*(15*mV-v+VT)/\n",
    "#          (exp((15*mV-v+VT)/(5*mV))-1.)/ms : Hz\n",
    "# beta_n = .5*exp((10*mV-v+VT)/(40*mV))/ms : Hz\n",
    "# ''')\n",
    "\n",
    "# ### CA1\n",
    "# eqs_CA1 = Equations('''\n",
    "# dv/dt = (gl*(El-v)+ge*(Ee-v)+gi*(Ei-v)\n",
    "#          -g_na*(m*m*m)*h*(v-ENa)-\n",
    "#          g_kd*(n*n*n*n)*(v-EK))/Cm : volt\n",
    "# dm/dt = alpha_m*(1-m)-beta_m*m : 1\n",
    "# dn/dt = alpha_n*(1-n)-beta_n*n : 1\n",
    "# dh/dt = alpha_h*(1-h)-beta_h*h : 1\n",
    "\n",
    "# dge/dt = -ge*(1./taue) : siemens\n",
    "# dgi/dt = -gi*(1./taui) : siemens\n",
    "\n",
    "# alpha_m = 0.32*(mV**-1)*(13*mV-v+VT)/\n",
    "#          (exp((13*mV-v+VT)/(4*mV))-1.)/ms : Hz\n",
    "# beta_m = 0.28*(mV**-1)*(v-VT-40*mV)/\n",
    "#         (exp((v-VT-40*mV)/(5*mV))-1)/ms : Hz\n",
    "# alpha_h = 0.128*exp((17*mV-v+VT)/(18*mV))/ms : Hz\n",
    "# beta_h = 4./(1+exp((40*mV-v+VT)/(5*mV)))/ms : Hz\n",
    "# alpha_n = 0.032*(mV**-1)*(15*mV-v+VT)/\n",
    "#          (exp((15*mV-v+VT)/(5*mV))-1.)/ms : Hz\n",
    "# beta_n = .5*exp((10*mV-v+VT)/(40*mV))/ms : Hz\n",
    "# ''')\n",
    "\n",
    "N_exc = 10000\n",
    "N_inh = 1000\n",
    "inp = randomInput(N=N_exc,K=K)\n",
    "active_indices = np.nonzero(inp)[0]\n",
    "input_time = 1*ms\n",
    "spike_times = K*[input_time]\n",
    "runtime = 100 # milliseconds\n",
    "\n",
    "#Pe = NeuronGroup(N_exc, model=spiking_eqs, threshold='v_>0.9', reset='v_=0', refractory=2*ms,\n",
    "#                method='exponential_euler')\n",
    "\n",
    "Pe = SpikeGeneratorGroup(N_exc, active_indices, spike_times)\n",
    "\n",
    "Pi = NeuronGroup(N_inh, model=eqs_I, threshold='v>-50*mV', refractory=0.5*ms, reset='v=El',\n",
    "                method='exponential_euler')\n",
    "\n",
    "P_CA1 = NeuronGroup(1, model=eqs_CA1, threshold='v>-40*mV', refractory=1*ms, reset='v=El',\n",
    "                method='exponential_euler')\n",
    "\n",
    "#Pe.inp = randomInput(N=N_exc,K=K)\n",
    "# Pe = P[:400]\n",
    "# Pi = P[400:440]\n",
    "# P_CA1 = P[440:]\n",
    "\n",
    "# print(dir(Pe))\n",
    "# print(Pe.state)\n",
    "\n",
    "Ce = Synapses(Pe, P_CA1, on_pre='ge+=we')\n",
    "Ce_i  = Synapses(Pe, Pi, on_pre='ge+=we')\n",
    "Ci = Synapses(Pi, P_CA1, on_pre='gi+=wi')\n",
    "\n",
    "Ce.connect(p=p_CA3_CA1)\n",
    "Ce_i.connect(p=p_CA3_I)\n",
    "Ci.connect(p=p_I_CA1)\n",
    "\n",
    "Ce.delay = '2*ms'\n",
    "Ce_i.delay = '1*ms'\n",
    "Ci.delay = '1*ms'\n",
    "\n",
    "# Initialization\n",
    "#Pe.v_ = 0\n",
    "# Pe.v = 'El + (randn() * 5 - 5)*mV'\n",
    "Pi.v = El #+ (randn() * 5 - 5)*mV'\n",
    "P_CA1.v = El #'El + (randn() * 5 - 5)*mV'\n",
    "\n",
    "# Record a few traces\n",
    "trace = SpikeMonitor(Pe)\n",
    "trace1 = StateMonitor(Pi, 'v', record=True)\n",
    "trace2 = StateMonitor(P_CA1, 'v', record=True)\n",
    "trace3 = StateMonitor(P_CA1, 'ge', record=True)\n",
    "\n",
    "run(runtime * ms, report='text')"
   ]
  },
  {
   "cell_type": "code",
   "execution_count": 38,
   "metadata": {
    "scrolled": true
   },
   "outputs": [
    {
     "data": {
      "image/png": "[encoded data removed]",
      "text/plain": [
       "<matplotlib.figure.Figure at 0x7f29ca66df50>"
      ]
     },
     "metadata": {},
     "output_type": "display_data"
    }
   ],
   "source": [
    "fig, ax = plt.subplots(nrows=4,sharex=True)\n",
    "# ax.plot(trace.t/ms, trace.v/mV, label=\"CA3\")\n",
    "#raster_plot(inp)\n",
    "for j in range(N_exc):\n",
    "    ax[0].plot(trace.t/ms, trace.i, '|k', label=\"CA3\")\n",
    "for j in range(N_inh):\n",
    "    ax[1].plot(trace1.t/ms, trace1[j].v/mV, label=\"I\")\n",
    "ax[2].plot(trace2.t/ms, trace2[0].v/mV, label=\"CA1\")\n",
    "ax[3].plot(trace2.t/ms, trace3[0].ge/nS, label=\"CA1\")\n",
    "\n",
    "# ax1 = fig.add_axes()\n",
    "# ax1.plot(trace.t/ms, trace.i, c='b', label=\"CA3\")\n",
    "\n",
    "# ax[0].set_xlabel('t (ms)')\n",
    "ax[0].set_ylabel('v (mV)')\n",
    "# ax[1].set_xlabel('t (ms)')\n",
    "ax[1].set_ylabel('v (mV)')\n",
    "ax[2].set_xlabel('t (ms)')\n",
    "ax[2].set_ylabel('v (mV)')\n",
    "\n",
    "plt.legend(loc = 'center right')\n",
    "plt.show()"
   ]
  }
 ],
 "metadata": {
  "hide_input": false,
  "kernelspec": {
   "display_name": "Python 2",
   "language": "python",
   "name": "python2"
  },
  "language_info": {
   "codemirror_mode": {
    "name": "ipython",
    "version": 2
   },
   "file_extension": ".py",
   "mimetype": "text/x-python",
   "name": "python",
   "nbconvert_exporter": "python",
   "pygments_lexer": "ipython2",
   "version": "2.7.12"
  },
  "latex_envs": {
   "LaTeX_envs_menu_present": true,
   "autocomplete": true,
   "bibliofile": "biblio.bib",
   "cite_by": "apalike",
   "current_citInitial": 1,
   "eqLabelWithNumbers": true,
   "eqNumInitial": 1,
   "hotkeys": {
    "equation": "Ctrl-E",
    "itemize": "Ctrl-I"
   },
   "labels_anchors": false,
   "latex_user_defs": false,
   "report_style_numbering": false,
   "user_envs_cfg": false
  },
  "toc": {
   "colors": {
    "hover_highlight": "#DAA520",
    "navigate_num": "#000000",
    "navigate_text": "#333333",
    "running_highlight": "#FF0000",
    "selected_highlight": "#FFD700",
    "sidebar_border": "#EEEEEE",
    "wrapper_background": "#FFFFFF"
   },
   "moveMenuLeft": false,
   "nav_menu": {
    "height": "12px",
    "width": "252px"
   },
   "navigate_menu": true,
   "number_sections": true,
   "sideBar": true,
   "threshold": 4,
   "toc_cell": false,
   "toc_section_display": "block",
   "toc_window_display": true,
   "widenNotebook": false
  },
  "varInspector": {
   "cols": {
    "lenName": 16,
    "lenType": 16,
    "lenVar": 40
   },
   "kernels_config": {
    "python": {
     "delete_cmd_postfix": "",
     "delete_cmd_prefix": "del ",
     "library": "var_list.py",
     "varRefreshCmd": "print(var_dic_list())"
    },
    "r": {
     "delete_cmd_postfix": ") ",
     "delete_cmd_prefix": "rm(",
     "library": "var_list.r",
     "varRefreshCmd": "cat(var_dic_list()) "
    }
   },
   "types_to_exclude": [
    "module",
    "function",
    "builtin_function_or_method",
    "instance",
    "_Feature"
   ],
   "window_display": false
  }
 },
 "nbformat": 4,
 "nbformat_minor": 2
}
