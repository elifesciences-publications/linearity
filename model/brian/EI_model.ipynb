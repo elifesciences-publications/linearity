{
 "cells": [
  {
   "cell_type": "code",
   "execution_count": 1,
   "metadata": {
    "collapsed": true
   },
   "outputs": [],
   "source": [
    "from brian2 import *"
   ]
  },
  {
   "cell_type": "code",
   "execution_count": 15,
   "metadata": {
    "collapsed": true
   },
   "outputs": [],
   "source": [
    "import matplotlib.pyplot as plt"
   ]
  },
  {
   "cell_type": "code",
   "execution_count": 11,
   "metadata": {
    "collapsed": true
   },
   "outputs": [],
   "source": [
    "def randomInput(K, N):\n",
    "    arr = np.zeros(N)\n",
    "    arr[:K]  = 1\n",
    "    np.random.shuffle(arr)\n",
    "    return arr"
   ]
  },
  {
   "cell_type": "code",
   "execution_count": 18,
   "metadata": {},
   "outputs": [
    {
     "name": "stdout",
     "output_type": "stream",
     "text": [
      "Starting simulation at t=0. s for a duration of 1. s\n",
      "0.8314 s (83%) simulated in 10s, estimated 2s remaining.\n",
      "1. s (100%) simulated in 12s\n"
     ]
    },
    {
     "data": {
      "image/png": "[encoded data removed]",
      "text/plain": [
       "<matplotlib.figure.Figure at 0x7f5301b853d0>"
      ]
     },
     "metadata": {},
     "output_type": "display_data"
    }
   ],
   "source": [
    "# Parameters\n",
    "Cm = 1*ufarad\n",
    "gl = 1e-8*siemens # This was initially 5e-5 siemens\n",
    "\n",
    "El = -65*mV # Was -60mV\n",
    "EK = -90*mV\n",
    "ENa = 50*mV\n",
    "g_na = 100*msiemens\n",
    "g_kd = 30*msiemens\n",
    "VT = -63*mV\n",
    "# Time constants\n",
    "taue_r = 5*ms\n",
    "taue_d = 5*ms\n",
    "\n",
    "taui_r = 10*ms\n",
    "taui_d = 10*ms\n",
    "\n",
    "# Reversal potentials\n",
    "Ee = 0*mV\n",
    "Ei = -80*mV\n",
    "we = 6*nS  # excitatory synaptic weight\n",
    "wi = -18*nS  # inhibitory synaptic weight, was -67 nS\n",
    "\n",
    "# The model\n",
    "eqs = Equations('''\n",
    "dv/dt = (gl*(El-v)+ge*(Ee-v)+gi*(Ei-v)-\n",
    "         g_na*(m*m*m)*h*(v-ENa)-\n",
    "         g_kd*(n*n*n*n)*(v-EK))/Cm : volt\n",
    "dm/dt = alpha_m*(1-m)-beta_m*m : 1\n",
    "dn/dt = alpha_n*(1-n)-beta_n*n : 1\n",
    "dh/dt = alpha_h*(1-h)-beta_h*h : 1\n",
    "\n",
    "dge/dt = -ge*(1./taue) : siemens\n",
    "dgi/dt = -gi*(1./taui) : siemens\n",
    "\n",
    "alpha_m = 0.32*(mV**-1)*(13*mV-v+VT)/\n",
    "         (exp((13*mV-v+VT)/(4*mV))-1.)/ms : Hz\n",
    "beta_m = 0.28*(mV**-1)*(v-VT-40*mV)/\n",
    "        (exp((v-VT-40*mV)/(5*mV))-1)/ms : Hz\n",
    "alpha_h = 0.128*exp((17*mV-v+VT)/(18*mV))/ms : Hz\n",
    "beta_h = 4./(1+exp((40*mV-v+VT)/(5*mV)))/ms : Hz\n",
    "alpha_n = 0.032*(mV**-1)*(15*mV-v+VT)/\n",
    "         (exp((15*mV-v+VT)/(5*mV))-1.)/ms : Hz\n",
    "beta_n = .5*exp((10*mV-v+VT)/(40*mV))/ms : Hz\n",
    "''')\n",
    "\n",
    "spiking_eqs = Equations('''\n",
    "dv_/dt = (-v_+inp)/(20*ms) : 1\n",
    "inp : 1\n",
    "''')\n",
    "\n",
    "Pe = NeuronGroup(400, model=spiking_eqs, threshold='v_>1', reset='v_=0', refractory=2*ms,\n",
    "                method='exponential_euler')\n",
    "\n",
    "Pi = NeuronGroup(400, model=eqs, threshold='v>-50*mV', refractory=0.5*ms,\n",
    "                method='exponential_euler')\n",
    "P_CA1 = NeuronGroup(1, model=eqs, threshold='v>-35*mV', refractory=1*ms,\n",
    "                method='exponential_euler')\n",
    "\n",
    "Pe.inp = randomInput(N=400,K=5)\n",
    "# Pe = P[:400]\n",
    "# Pi = P[400:440]\n",
    "# P_CA1 = P[440:]\n",
    "\n",
    "# print(dir(Pe))\n",
    "# print(Pe.state)\n",
    "\n",
    "Ce = Synapses(Pe, P_CA1, on_pre='ge+=we')\n",
    "Ce_i  = Synapses(Pe, Pi, on_pre='ge+=we')\n",
    "Ci = Synapses(Pi, P_CA1, on_pre='gi-=wi')\n",
    "\n",
    "Ce.connect(p=0.2)\n",
    "Ce_i.connect(p=0.2)\n",
    "Ci.connect(p=0.2)\n",
    "\n",
    "Ce.delay = '2*ms'\n",
    "Ce_i.delay = '1*ms'\n",
    "Ci.delay = '1*ms'\n",
    "\n",
    "# Initialization\n",
    "Pe.v_ = 0\n",
    "# Pe.v = 'El + (randn() * 5 - 5)*mV'\n",
    "Pi.v = 'El + (randn() * 5 - 5)*mV'\n",
    "P_CA1.v = 'El + (randn() * 5 - 5)*mV'\n",
    "\n",
    "# Record a few traces\n",
    "trace = SpikeMonitor(Pe, 'v_', record=True)\n",
    "trace1 = StateMonitor(Pi, 'v', record=True)\n",
    "trace2 = StateMonitor(P_CA1, 'v', record=True)\n",
    "\n",
    "run(1 * second, report='text')\n",
    "\n",
    "fig, ax = plt.subplots()\n",
    "ax.plot(trace1.t/ms, trace1[0].v/mV, label=\"I\")\n",
    "ax.plot(trace2.t/ms, trace2[0].v/mV, label=\"CA1\")\n",
    "\n",
    "# ax1 = fig.add_axes()\n",
    "# ax1.plot(trace.t/ms, trace.i, c='b', label=\"CA3\")\n",
    "\n",
    "ax.set_xlabel('t (ms)')\n",
    "ax.set_ylabel('v (mV)')\n",
    "plt.legend(loc = 'center right')\n",
    "plt.show()"
   ]
  },
  {
   "cell_type": "code",
   "execution_count": null,
   "metadata": {
    "collapsed": true
   },
   "outputs": [],
   "source": []
  }
 ],
 "metadata": {
  "hide_input": false,
  "kernelspec": {
   "display_name": "Python 2",
   "language": "python",
   "name": "python2"
  },
  "language_info": {
   "codemirror_mode": {
    "name": "ipython",
    "version": 2
   },
   "file_extension": ".py",
   "mimetype": "text/x-python",
   "name": "python",
   "nbconvert_exporter": "python",
   "pygments_lexer": "ipython2",
   "version": "2.7.12"
  },
  "latex_envs": {
   "LaTeX_envs_menu_present": true,
   "autocomplete": true,
   "bibliofile": "biblio.bib",
   "cite_by": "apalike",
   "current_citInitial": 1,
   "eqLabelWithNumbers": true,
   "eqNumInitial": 1,
   "hotkeys": {
    "equation": "Ctrl-E",
    "itemize": "Ctrl-I"
   },
   "labels_anchors": false,
   "latex_user_defs": false,
   "report_style_numbering": false,
   "user_envs_cfg": false
  },
  "toc": {
   "colors": {
    "hover_highlight": "#DAA520",
    "navigate_num": "#000000",
    "navigate_text": "#333333",
    "running_highlight": "#FF0000",
    "selected_highlight": "#FFD700",
    "sidebar_border": "#EEEEEE",
    "wrapper_background": "#FFFFFF"
   },
   "moveMenuLeft": true,
   "nav_menu": {
    "height": "12px",
    "width": "252px"
   },
   "navigate_menu": true,
   "number_sections": true,
   "sideBar": true,
   "threshold": 4,
   "toc_cell": false,
   "toc_section_display": "block",
   "toc_window_display": true,
   "widenNotebook": false
  },
  "varInspector": {
   "cols": {
    "lenName": 16,
    "lenType": 16,
    "lenVar": 40
   },
   "kernels_config": {
    "python": {
     "delete_cmd_postfix": "",
     "delete_cmd_prefix": "del ",
     "library": "var_list.py",
     "varRefreshCmd": "print(var_dic_list())"
    },
    "r": {
     "delete_cmd_postfix": ") ",
     "delete_cmd_prefix": "rm(",
     "library": "var_list.r",
     "varRefreshCmd": "cat(var_dic_list()) "
    }
   },
   "types_to_exclude": [
    "module",
    "function",
    "builtin_function_or_method",
    "instance",
    "_Feature"
   ],
   "window_display": false
  }
 },
 "nbformat": 4,
 "nbformat_minor": 2
}
